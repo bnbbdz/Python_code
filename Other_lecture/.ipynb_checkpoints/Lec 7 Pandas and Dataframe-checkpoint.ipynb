{
 "cells": [
  {
   "cell_type": "markdown",
   "metadata": {},
   "source": [
    "# BÀI 7: PANDAS VÀ DATAFRAME"
   ]
  },
  {
   "cell_type": "markdown",
   "metadata": {},
   "source": [
    "Pandas là thư viện chuyên cho xử lý dữ liệu dạng bảng (tabular) thông qua 2 kiểu dữ liệu chính là **series** và **dataframe**, chúng giống như cột và bảng trong Excel.\\\n",
    "Thư viện Pandas thường được sử dụng cùng với Numpy."
   ]
  },
  {
   "cell_type": "code",
   "execution_count": 1,
   "metadata": {},
   "outputs": [],
   "source": [
    "import numpy as np\n",
    "import pandas as pd"
   ]
  },
  {
   "cell_type": "markdown",
   "metadata": {},
   "source": [
    "## 1. Giới thiệu chung"
   ]
  },
  {
   "cell_type": "markdown",
   "metadata": {},
   "source": [
    "### 1.1. Series\n",
    "Series là cấu trúc dữ liệu 1 chiều, chứa các phần tử cùng kiểu dữ liệu. Series giống như vector có thêm index."
   ]
  },
  {
   "cell_type": "markdown",
   "metadata": {},
   "source": [
    "#### Khởi tạo series"
   ]
  },
  {
   "cell_type": "markdown",
   "metadata": {},
   "source": [
    "Series có thể được tạo ra từ hàm `pandas.Series()` và truyền vào một `dict` hoặc một đối tượng giống `list` (như `tuple`, `set`, `numpy.array`)."
   ]
  },
  {
   "cell_type": "code",
   "execution_count": 3,
   "metadata": {},
   "outputs": [],
   "source": [
    "import numpy as np\n",
    "import pandas as pd"
   ]
  },
  {
   "cell_type": "code",
   "execution_count": 2,
   "metadata": {},
   "outputs": [
    {
     "data": {
      "text/plain": [
       "0    a\n",
       "1    b\n",
       "2    c\n",
       "3    d\n",
       "4    e\n",
       "dtype: object"
      ]
     },
     "execution_count": 2,
     "metadata": {},
     "output_type": "execute_result"
    }
   ],
   "source": [
    "pd.Series(['a', 'b', 'c', 'd', 'e'])"
   ]
  },
  {
   "cell_type": "code",
   "execution_count": 5,
   "metadata": {},
   "outputs": [
    {
     "data": {
      "text/plain": [
       "0     1.00\n",
       "1    15.75\n",
       "2    30.50\n",
       "3    45.25\n",
       "4    60.00\n",
       "dtype: float64"
      ]
     },
     "execution_count": 5,
     "metadata": {},
     "output_type": "execute_result"
    }
   ],
   "source": [
    "pd.Series(np.linspace(1, 60, 5))"
   ]
  },
  {
   "cell_type": "code",
   "execution_count": 6,
   "metadata": {},
   "outputs": [
    {
     "data": {
      "text/plain": [
       "0    0\n",
       "1    1\n",
       "2    2\n",
       "3    3\n",
       "4    4\n",
       "5    5\n",
       "6    6\n",
       "7    7\n",
       "8    8\n",
       "9    9\n",
       "dtype: int64"
      ]
     },
     "execution_count": 6,
     "metadata": {},
     "output_type": "execute_result"
    }
   ],
   "source": [
    "pd.Series(np.arange(10))"
   ]
  },
  {
   "cell_type": "markdown",
   "metadata": {},
   "source": [
    "**Chú ý:** Mỗi series đều có 1 `dtype` (kiểu dữ liệu) riêng. Trên đây là 3 ví dụ về các kiểu dữ liệu phổ biến của series: `object`, `float64` và `int64` - tương đương với `str`, `float` và `int` trong Python."
   ]
  },
  {
   "cell_type": "markdown",
   "metadata": {},
   "source": [
    "Do tính chất của series hoạt động giống như cột trong bảng, ta cần đặt tên cột. Tên của series được đặt thông qua tham số `name`."
   ]
  },
  {
   "cell_type": "code",
   "execution_count": 3,
   "metadata": {},
   "outputs": [],
   "source": [
    "s = pd.Series(['a', 'b', 'c'], name='letter')"
   ]
  },
  {
   "cell_type": "code",
   "execution_count": null,
   "metadata": {},
   "outputs": [],
   "source": [
    "import numpy as np\n",
    "import pandas as pd"
   ]
  },
  {
   "cell_type": "markdown",
   "metadata": {},
   "source": [
    "#### Kiểu dữ liệu string"
   ]
  },
  {
   "cell_type": "code",
   "execution_count": 8,
   "metadata": {},
   "outputs": [
    {
     "data": {
      "text/plain": [
       "0    a\n",
       "1    b\n",
       "2    c\n",
       "dtype: object"
      ]
     },
     "execution_count": 8,
     "metadata": {},
     "output_type": "execute_result"
    }
   ],
   "source": [
    "pd.Series(['a', 'b', 'c'])"
   ]
  },
  {
   "cell_type": "code",
   "execution_count": 9,
   "metadata": {},
   "outputs": [
    {
     "data": {
      "text/plain": [
       "0    1\n",
       "1    2\n",
       "2    3\n",
       "dtype: object"
      ]
     },
     "execution_count": 9,
     "metadata": {},
     "output_type": "execute_result"
    }
   ],
   "source": [
    "pd.Series([1, 2, 3]).astype(str)"
   ]
  },
  {
   "cell_type": "markdown",
   "metadata": {},
   "source": [
    "#### Kiểu dữ liệu số"
   ]
  },
  {
   "cell_type": "code",
   "execution_count": 10,
   "metadata": {},
   "outputs": [
    {
     "data": {
      "text/plain": [
       "0    1\n",
       "1    2\n",
       "2    3\n",
       "dtype: int64"
      ]
     },
     "execution_count": 10,
     "metadata": {},
     "output_type": "execute_result"
    }
   ],
   "source": [
    "pd.Series(['01', '02', '03']).astype(int)"
   ]
  },
  {
   "cell_type": "code",
   "execution_count": 11,
   "metadata": {},
   "outputs": [
    {
     "data": {
      "text/plain": [
       "0    1.0\n",
       "1    2.0\n",
       "2    3.0\n",
       "dtype: float64"
      ]
     },
     "execution_count": 11,
     "metadata": {},
     "output_type": "execute_result"
    }
   ],
   "source": [
    "pd.Series(['01', '02', '03']).astype(float)"
   ]
  },
  {
   "cell_type": "markdown",
   "metadata": {},
   "source": [
    "#### Kiểu dữ liệu ngày tháng\n",
    "Sử dụng đối số `'datetime64'`."
   ]
  },
  {
   "cell_type": "code",
   "execution_count": 12,
   "metadata": {},
   "outputs": [
    {
     "data": {
      "text/plain": [
       "0   2020-01-01\n",
       "1   2020-01-02\n",
       "dtype: datetime64[ns]"
      ]
     },
     "execution_count": 12,
     "metadata": {},
     "output_type": "execute_result"
    }
   ],
   "source": [
    "pd.Series(['2020/01/01', '2020/01/02']).astype('datetime64')"
   ]
  },
  {
   "cell_type": "code",
   "execution_count": null,
   "metadata": {},
   "outputs": [],
   "source": [
    "pd.to_datetime(pd.Series(['Jan.01-2020', '20200102']))"
   ]
  },
  {
   "cell_type": "markdown",
   "metadata": {},
   "source": [
    "#### Kiểu dữ liệu Boolean\n",
    "Truyền vào phương thức `astype()` giá trị `bool`."
   ]
  },
  {
   "cell_type": "code",
   "execution_count": null,
   "metadata": {},
   "outputs": [],
   "source": [
    "pd.Series([1, 0, 0, 1, 1]).astype(bool)"
   ]
  },
  {
   "cell_type": "markdown",
   "metadata": {},
   "source": [
    "#### Kiểu dữ liệu categorical\n",
    "Categorical (định danh) là kiểu dữ liệu chỉ chứa một số lượng giới hạn các phần tử có thứ tự. Categorical cho phép sắp xếp dữ liệu theo ý muốn chứ không chỉ giới hạn theo giá trị lớn/nhỏ hoặc theo bảng chữ cái."
   ]
  },
  {
   "cell_type": "code",
   "execution_count": null,
   "metadata": {},
   "outputs": [],
   "source": [
    "# sắp xếp kiểu dữ liệu object\n",
    "pd.Series(['1-5', '6-10', '11-15', '6-10']).sort_values()"
   ]
  },
  {
   "cell_type": "code",
   "execution_count": 13,
   "metadata": {},
   "outputs": [
    {
     "data": {
      "text/plain": [
       "[1-5, 6-10, 6-10, 11-15]\n",
       "Categories (3, object): [1-5, 6-10, 11-15]"
      ]
     },
     "execution_count": 13,
     "metadata": {},
     "output_type": "execute_result"
    }
   ],
   "source": [
    "# sắp xếp kiểu dữ liệu categorical\n",
    "pd.Categorical(['1-5', '6-10', '11-15', '6-10'], categories=['1-5', '6-10', '11-15']).sort_values()\n"
   ]
  },
  {
   "cell_type": "markdown",
   "metadata": {},
   "source": [
    "Do kiểu dữ liệu categorical có số lượng giá trị hữu hạn (kiểu dữ liệu số hay ngày tháng có vô số giá trị), bạn có thể dễ dàng tạo ra thứ tự bằng cách thủ công. Một số ví dụ ứng dụng kiểu dữ liệu categorical:\n",
    "- Độ tuổi: `0-4`, `5-9`, `10-14`, `15-19`, `20-24`, `25-29`, `30-34`, `35-39`, `40-44`, `45-49`, `50-54`, `55-59`, `60-64`, `65-69`, `70-74`, `75-79`, `80+`.\n",
    "- Huy chương: `Huy chương Vàng`, `Huy chương Bạc`, `Huy chương Đồng`.\n",
    "- Bậc học: `Mầm non`, `Tiểu học`, `Trung học Cơ sở`, `Trung học Phổ thông`, `Đại học`, `Cao học`."
   ]
  },
  {
   "cell_type": "markdown",
   "metadata": {},
   "source": [
    "**Tình huống 1:** Tạo ra một series từ list `['Brozen', 'Gold', 'Silver']` rồi sắp xếp theo thứ bậc huy chương từ thấp đến cao."
   ]
  },
  {
   "cell_type": "markdown",
   "metadata": {},
   "source": [
    "### 1.2. Dataframe\n",
    "Dataframe là kiểu dữ liệu 2 chiều, được cấu tạo từ nhiều series ghép với nhau.\\\n",
    "**Chiều 0** (axis 0) là chiều dọc, chứa index của các hàng. Mỗi hàng còn được gọi là một bản ghi (record) hay một quan sát (observation).\\\n",
    "**Chiều 1** (axis 1) là chiều ngang, chứa tên các cột. Cột còn được gọi là thuộc tính (feature), trường thông tin (field), biến (variable) hay chiều (dimension)."
   ]
  },
  {
   "cell_type": "code",
   "execution_count": null,
   "metadata": {},
   "outputs": [],
   "source": [
    "import numpy as np\n",
    "import pandas as pd"
   ]
  },
  {
   "cell_type": "markdown",
   "metadata": {},
   "source": [
    "#### Tạo dataframe từ dictionary\n",
    "Các key của dictionary được dùng làm tên cột, value chính là các bản ghi."
   ]
  },
  {
   "cell_type": "code",
   "execution_count": null,
   "metadata": {},
   "outputs": [],
   "source": [
    "data = {\n",
    "    'product': pd.Series(['Laptop', 'Mouse', 'Headphone', 'USB']),\n",
    "    'price': pd.Series(['$1000', '$20', '$50']),\n",
    "    'stock': pd.Series([15, 100, 50, 100])\n",
    "}\n",
    "pd.DataFrame(data)"
   ]
  },
  {
   "cell_type": "markdown",
   "metadata": {},
   "source": [
    "#### Đọc tệp excel, csv, json vào dataframe\n",
    "Pandas có các hàm `read_excel()`, `read_csv()` và `read_json()` để đọc các định dạng file tương ứng.\\\n",
    "Các hàm `to_excel()`, `to_csv()` và `to_json()` cho phép xuất ra một tệp từ dataframe."
   ]
  },
  {
   "cell_type": "code",
   "execution_count": null,
   "metadata": {},
   "outputs": [],
   "source": [
    "pd.read_excel(r'data\\electronic.xlsx')"
   ]
  },
  {
   "cell_type": "code",
   "execution_count": null,
   "metadata": {},
   "outputs": [],
   "source": [
    "pd.read_csv(r'data\\electronic.csv')"
   ]
  },
  {
   "cell_type": "code",
   "execution_count": null,
   "metadata": {},
   "outputs": [],
   "source": [
    "pd.read_json(r'data\\electronic.json')"
   ]
  },
  {
   "cell_type": "markdown",
   "metadata": {},
   "source": [
    "### 1.3. Quy trình phân tích dữ liệu"
   ]
  },
  {
   "cell_type": "markdown",
   "metadata": {},
   "source": [
    "Một quy trình phân tích dữ liệu (data analytics) bắt đầu sau khi đã định nghĩa bài toán kinh doanh (business problem), có thể được tóm gọn trong 4 bước sau:\n",
    "\n",
    "<img src=\"images\\data_analytics_process.png\">"
   ]
  },
  {
   "cell_type": "markdown",
   "metadata": {},
   "source": [
    "Trong đó, data wrangling có thể chiếm đến 80% thời gian làm việc. Dưới đây là các thao tác cụ thể hơn của data wrangling:\n",
    "- Data exploring: khám phá tổng quan tập dữ liệu\n",
    "- Data cleaning: làm sạch dữ liệu\n",
    "- Data tidying: biến đổi cấu trúc của dữ liệu để trở nên \"ngăn nắp\" hơn\n",
    "- Data standardizing: chuẩn hóa dữ liệu"
   ]
  },
  {
   "cell_type": "markdown",
   "metadata": {},
   "source": [
    "## 2. Quan sát tổng thể dữ liệu"
   ]
  },
  {
   "cell_type": "code",
   "execution_count": null,
   "metadata": {},
   "outputs": [],
   "source": [
    "import numpy as np\n",
    "import pandas as pd"
   ]
  },
  {
   "cell_type": "code",
   "execution_count": null,
   "metadata": {
    "scrolled": true
   },
   "outputs": [],
   "source": [
    "fish = pd.read_excel(r'data\\us_fishery_foreign_trade.xlsx')"
   ]
  },
  {
   "cell_type": "markdown",
   "metadata": {},
   "source": [
    "### 2.1. Quan sát một số bản ghi\n",
    "Phương thức `head()` và `tail()` cho phép bạn quan sát 5 bản ghi đầu tiên/cuối cùng. Đây thường là thao tác thực hiện đầu tiên khi nhận được tập dữ liệu."
   ]
  },
  {
   "cell_type": "code",
   "execution_count": null,
   "metadata": {},
   "outputs": [],
   "source": [
    "fish.head()"
   ]
  },
  {
   "cell_type": "code",
   "execution_count": null,
   "metadata": {},
   "outputs": [],
   "source": [
    "fish.tail(10)"
   ]
  },
  {
   "cell_type": "markdown",
   "metadata": {},
   "source": [
    "Phương thức `nlargest()` và `nsmallest()` trả về các giá trị lớn nhất và nhỏ nhất trong cột."
   ]
  },
  {
   "cell_type": "code",
   "execution_count": null,
   "metadata": {},
   "outputs": [],
   "source": [
    "fish.nlargest(n=5, columns='Value')"
   ]
  },
  {
   "cell_type": "code",
   "execution_count": null,
   "metadata": {},
   "outputs": [],
   "source": [
    "fish.nsmallest(n=5, columns='Year')"
   ]
  },
  {
   "cell_type": "markdown",
   "metadata": {},
   "source": [
    "## 2.2. Hàng và cột"
   ]
  },
  {
   "cell_type": "code",
   "execution_count": null,
   "metadata": {},
   "outputs": [],
   "source": [
    "fish.shape"
   ]
  },
  {
   "cell_type": "code",
   "execution_count": null,
   "metadata": {},
   "outputs": [],
   "source": [
    "fish.columns"
   ]
  },
  {
   "cell_type": "markdown",
   "metadata": {},
   "source": [
    "Thuộc tính `dtypes` trả về kiểu dữ liệu của tất cả các cột (Pandas tự động xác định)."
   ]
  },
  {
   "cell_type": "code",
   "execution_count": null,
   "metadata": {},
   "outputs": [],
   "source": [
    "fish.dtypes"
   ]
  },
  {
   "cell_type": "markdown",
   "metadata": {},
   "source": [
    "### 2.3. Các đại lượng thống kê"
   ]
  },
  {
   "cell_type": "code",
   "execution_count": null,
   "metadata": {},
   "outputs": [],
   "source": [
    "fish.describe()"
   ]
  },
  {
   "cell_type": "code",
   "execution_count": null,
   "metadata": {},
   "outputs": [],
   "source": [
    "# ma trận tương quan giữa các trường định lượng\n",
    "fish.corr()"
   ]
  },
  {
   "cell_type": "markdown",
   "metadata": {},
   "source": [
    "### 2.4. Tỉ lệ dữ liệu thiếu\n",
    "Phương thức `isnull()` hoặc `isna()` kiểm tra các dữ liệu thiếu (missing data) trong dataframe. Kết hợp với các phương thức `sum()` và `count()` ta tính toán được có bao nhiêu % dữ liệu trống. Nếu một cột có trên 50% dữ liệu thiếu, bạn có thể loại bỏ nó."
   ]
  },
  {
   "cell_type": "code",
   "execution_count": null,
   "metadata": {},
   "outputs": [],
   "source": [
    "fish.isnull()"
   ]
  },
  {
   "cell_type": "code",
   "execution_count": null,
   "metadata": {},
   "outputs": [],
   "source": [
    "fish.isnull().sum()/fish.count()*100"
   ]
  },
  {
   "cell_type": "markdown",
   "metadata": {},
   "source": [
    "### 2.5. Một số cài đặt thông dụng cho Pandas"
   ]
  },
  {
   "cell_type": "code",
   "execution_count": null,
   "metadata": {},
   "outputs": [],
   "source": [
    "# hiển thị tất cả số thập phân với 2 chữ số sau dấu phẩy (không ảnh hưởng đến số nguyên)\n",
    "pd.options.display.float_format = '{:,.2f}'.format"
   ]
  },
  {
   "cell_type": "code",
   "execution_count": null,
   "metadata": {},
   "outputs": [],
   "source": [
    "# hiển thị lên đến 1000 ký tự trong mỗi cột\n",
    "pd.options.display.max_colwidth = 1000"
   ]
  },
  {
   "cell_type": "code",
   "execution_count": null,
   "metadata": {},
   "outputs": [],
   "source": [
    "# hiển thị lên đến 500 cột\n",
    "pd.options.display.max_columns = 500"
   ]
  },
  {
   "cell_type": "code",
   "execution_count": null,
   "metadata": {},
   "outputs": [],
   "source": [
    "# hiển thị lên đến 1000 dòng\n",
    "pd.options.display.max_rows = 1000"
   ]
  },
  {
   "cell_type": "markdown",
   "metadata": {},
   "source": [
    "## 3. Tìm hiểu chi tiết dữ liệu"
   ]
  },
  {
   "cell_type": "code",
   "execution_count": null,
   "metadata": {},
   "outputs": [],
   "source": [
    "import numpy as np\n",
    "import pandas as pd"
   ]
  },
  {
   "cell_type": "code",
   "execution_count": null,
   "metadata": {
    "scrolled": true
   },
   "outputs": [],
   "source": [
    "fish = pd.read_excel(r'data\\us_fishery_foreign_trade.xlsx')"
   ]
  },
  {
   "cell_type": "code",
   "execution_count": null,
   "metadata": {},
   "outputs": [],
   "source": [
    "fish.head()"
   ]
  },
  {
   "cell_type": "markdown",
   "metadata": {},
   "source": [
    "### 3.1. Truy cập cột và hàng"
   ]
  },
  {
   "cell_type": "code",
   "execution_count": null,
   "metadata": {},
   "outputs": [],
   "source": [
    "fish.Feature"
   ]
  },
  {
   "cell_type": "code",
   "execution_count": null,
   "metadata": {},
   "outputs": [],
   "source": [
    "fish['Product Name']"
   ]
  },
  {
   "cell_type": "code",
   "execution_count": null,
   "metadata": {},
   "outputs": [],
   "source": [
    "# tách ra các cột dưới dạng dataframe\n",
    "fish[['Feature', 'Value', 'Unit']]"
   ]
  },
  {
   "cell_type": "markdown",
   "metadata": {},
   "source": [
    "Phương thức `iloc[]` biến dataframe thành một array 2 chiều để có thể áp dụng slicing. Giống với array trong Numpy, dataframe có axis 0 là chiều dọc và axis 1 là chiều ngang."
   ]
  },
  {
   "cell_type": "code",
   "execution_count": null,
   "metadata": {},
   "outputs": [],
   "source": [
    "fish.head()"
   ]
  },
  {
   "cell_type": "code",
   "execution_count": null,
   "metadata": {},
   "outputs": [],
   "source": [
    "fish.iloc[2, 3]"
   ]
  },
  {
   "cell_type": "code",
   "execution_count": null,
   "metadata": {},
   "outputs": [],
   "source": [
    "fish.iloc[2:7, :4]"
   ]
  },
  {
   "cell_type": "markdown",
   "metadata": {},
   "source": [
    "Phương thức `loc[]` hoạt động giống `iloc[]` nhưng dùng tên hàng, tên cột thay vì dùng index. Ngoài ra, `loc[]` tính cả điểm cuối."
   ]
  },
  {
   "cell_type": "code",
   "execution_count": null,
   "metadata": {},
   "outputs": [],
   "source": [
    "fish.head()"
   ]
  },
  {
   "cell_type": "code",
   "execution_count": null,
   "metadata": {},
   "outputs": [],
   "source": [
    "fish.loc[:5, 'Year':'Value']"
   ]
  },
  {
   "cell_type": "code",
   "execution_count": null,
   "metadata": {},
   "outputs": [],
   "source": [
    "subset = ['Year', 'Month', 'Month number']\n",
    "fish.loc[:5, subset]"
   ]
  },
  {
   "cell_type": "markdown",
   "metadata": {},
   "source": [
    "### 3.2. Sắp xếp giá trị"
   ]
  },
  {
   "cell_type": "code",
   "execution_count": null,
   "metadata": {},
   "outputs": [],
   "source": [
    "# sắp xếp bảng theo Country Name tăng dần rồi theo Feature giảm dần\n",
    "fish.sort_values(by=['Country Name', 'Feature'], ascending=[True, False])"
   ]
  },
  {
   "cell_type": "markdown",
   "metadata": {},
   "source": [
    "### 3.3. Lọc dữ liệu\n",
    "Lọc dữ liệu trong dataframe dựa trên nền tảng là Boolean slicing của Numpy (xem lại Bài 6). Đối với lọc nhiều điều kiện, dùng ký tự `&` (và) và `|` (hoặc)."
   ]
  },
  {
   "cell_type": "code",
   "execution_count": null,
   "metadata": {},
   "outputs": [],
   "source": [
    "# lọc 1 điều kiện\n",
    "fish[fish['Country Name']=='VIETNAM']"
   ]
  },
  {
   "cell_type": "code",
   "execution_count": null,
   "metadata": {},
   "outputs": [],
   "source": [
    "fish[fish['Product Name'].str.contains('FRESH')]"
   ]
  },
  {
   "cell_type": "code",
   "execution_count": null,
   "metadata": {
    "jupyter": {
     "outputs_hidden": true
    }
   },
   "outputs": [],
   "source": [
    "# lọc nhiều điều kiện\n",
    "fish[\n",
    "    (fish['Country Name']=='VIETNAM') &\n",
    "    (fish['Feature']=='EXP Value') &\n",
    "    (fish['Value']>10000)\n",
    "]"
   ]
  },
  {
   "cell_type": "markdown",
   "metadata": {},
   "source": [
    "**Tình huống 2:** Lọc ra thông tin khối lượng nhập khẩu (\"IMP Quantity\") của Việt Nam (\"VIETNAM\"). Sau đó dùng 3 cách khác nhau để xem 5 tháng gần nhất."
   ]
  },
  {
   "cell_type": "markdown",
   "metadata": {},
   "source": [
    "### 3.4. Các giá trị phân biệt trong cột"
   ]
  },
  {
   "cell_type": "code",
   "execution_count": null,
   "metadata": {},
   "outputs": [],
   "source": [
    "fish['Product Name'].unique()"
   ]
  },
  {
   "cell_type": "code",
   "execution_count": null,
   "metadata": {},
   "outputs": [],
   "source": [
    "fish[['Feature', 'Unit']].drop_duplicates()"
   ]
  },
  {
   "cell_type": "markdown",
   "metadata": {},
   "source": [
    "### 3.5. Phân nhóm dữ liệu\n",
    "Phương thức `groupby()` chia tập dữ liệu thành các nhóm nhỏ rồi tính toán trên từng nhóm đó."
   ]
  },
  {
   "cell_type": "code",
   "execution_count": null,
   "metadata": {},
   "outputs": [],
   "source": [
    "fish.head()"
   ]
  },
  {
   "cell_type": "code",
   "execution_count": null,
   "metadata": {},
   "outputs": [],
   "source": [
    "# đếm số bản ghi mỗi mặt hàng\n",
    "fish.groupby('Product Name').size()"
   ]
  },
  {
   "cell_type": "markdown",
   "metadata": {},
   "source": [
    "**Tình huống 3:** Đếm số bản ghi từng tháng."
   ]
  },
  {
   "cell_type": "code",
   "execution_count": null,
   "metadata": {},
   "outputs": [],
   "source": [
    "# tính các chỉ số xuất nhập khẩu theo từng năm\n",
    "fish.groupby(['Feature', 'Year', 'Unit']).sum()['Value'].reset_index()"
   ]
  },
  {
   "cell_type": "markdown",
   "metadata": {},
   "source": [
    "**Tình huống 4:** Tính kim ngạch xuất nhập khẩu trung bình từng tháng qua các năm."
   ]
  },
  {
   "cell_type": "markdown",
   "metadata": {},
   "source": [
    "## Giải đáp tình huống"
   ]
  },
  {
   "cell_type": "markdown",
   "metadata": {},
   "source": [
    "**Tình huống 1:** Tạo ra một series từ list `['Brozen', 'Gold', 'Silver']` rồi sắp xếp theo thứ bậc huy chương từ thấp đến cao."
   ]
  },
  {
   "cell_type": "code",
   "execution_count": null,
   "metadata": {},
   "outputs": [],
   "source": [
    "import numpy as np\n",
    "import pandas as pd"
   ]
  },
  {
   "cell_type": "code",
   "execution_count": null,
   "metadata": {},
   "outputs": [],
   "source": [
    "pd.Categorical(['Bronze', 'Gold', 'Silver'], categories=['Gold', 'Silver', 'Bronze']).sort_values()"
   ]
  },
  {
   "cell_type": "markdown",
   "metadata": {},
   "source": [
    "**Tình huống 2:** Lọc ra thông tin khối lượng nhập khẩu (\"IMP Quantity\") của Việt Nam (\"VIETNAM\"). Sau đó dùng 3 cách khác nhau để xem 5 tháng gần nhất."
   ]
  },
  {
   "cell_type": "code",
   "execution_count": null,
   "metadata": {
    "scrolled": true
   },
   "outputs": [],
   "source": [
    "import numpy as np\n",
    "import pandas as pd\n",
    "fish = pd.read_excel(r'data\\us_fishery_foreign_trade.xlsx')\n",
    "fish.head()"
   ]
  },
  {
   "cell_type": "code",
   "execution_count": null,
   "metadata": {},
   "outputs": [],
   "source": [
    "fish[\n",
    "    (fish['Country Name'] == 'VIETNAM') &\n",
    "    (fish['Feature'] == 'IMP Quantity')\n",
    "].nlargest(n=5, columns=['Year', 'Month number'])"
   ]
  },
  {
   "cell_type": "code",
   "execution_count": null,
   "metadata": {},
   "outputs": [],
   "source": [
    "fish[\n",
    "    (fish['Country Name'] == 'VIETNAM') &\n",
    "    (fish['Feature'] == 'IMP Quantity')\n",
    "].sort_values(by=['Year', 'Month number']).tail(5)"
   ]
  },
  {
   "cell_type": "code",
   "execution_count": null,
   "metadata": {},
   "outputs": [],
   "source": [
    "fish[\n",
    "    (fish['Country Name'] == 'VIETNAM') &\n",
    "    (fish['Feature'] == 'IMP Quantity')\n",
    "].sort_values(by=['Year', 'Month number']).iloc[:-5]"
   ]
  },
  {
   "cell_type": "markdown",
   "metadata": {},
   "source": [
    "**Tình huống 3:** Đếm số bản ghi từng tháng."
   ]
  },
  {
   "cell_type": "code",
   "execution_count": null,
   "metadata": {
    "scrolled": true
   },
   "outputs": [],
   "source": [
    "import numpy as np\n",
    "import pandas as pd\n",
    "fish = pd.read_excel(r'data\\us_fishery_foreign_trade.xlsx')\n",
    "fish.head()"
   ]
  },
  {
   "cell_type": "code",
   "execution_count": null,
   "metadata": {},
   "outputs": [],
   "source": [
    "fish.groupby(['Year', 'Month']).size()"
   ]
  },
  {
   "cell_type": "markdown",
   "metadata": {},
   "source": [
    "**Tình huống 4:** Tính kim ngạch xuất nhập khẩu trung bình từng tháng của tất cả các năm."
   ]
  },
  {
   "cell_type": "code",
   "execution_count": null,
   "metadata": {
    "scrolled": true
   },
   "outputs": [],
   "source": [
    "import numpy as np\n",
    "import pandas as pd\n",
    "fish = pd.read_excel(r'data\\us_fishery_foreign_trade.xlsx')\n",
    "fish.head()"
   ]
  },
  {
   "cell_type": "code",
   "execution_count": null,
   "metadata": {},
   "outputs": [],
   "source": [
    "fish[fish.Feature.str.contains('Value')]\\\n",
    "    .groupby(['Feature', 'Year', 'Month number']).sum().reset_index()\\\n",
    "    .groupby(['Feature', 'Month number']).mean()['Value'].reset_index()"
   ]
  }
 ],
 "metadata": {
  "colab": {
   "name": "lecture7.ipynb",
   "provenance": [],
   "version": "0.3.2"
  },
  "kernelspec": {
   "display_name": "Python 3",
   "language": "python",
   "name": "python3"
  },
  "language_info": {
   "codemirror_mode": {
    "name": "ipython",
    "version": 3
   },
   "file_extension": ".py",
   "mimetype": "text/x-python",
   "name": "python",
   "nbconvert_exporter": "python",
   "pygments_lexer": "ipython3",
   "version": "3.8.5"
  }
 },
 "nbformat": 4,
 "nbformat_minor": 4
}
