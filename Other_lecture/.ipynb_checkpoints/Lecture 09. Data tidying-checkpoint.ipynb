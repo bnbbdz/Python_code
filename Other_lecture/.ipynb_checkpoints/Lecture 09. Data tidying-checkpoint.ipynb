{
 "cells": [
  {
   "cell_type": "markdown",
   "metadata": {},
   "source": [
    "# BÀI 9: LÀM SẠCH VÀ BIẾN ĐỔI DỮ LIỆU"
   ]
  },
  {
   "cell_type": "markdown",
   "metadata": {},
   "source": [
    "## 1. Xử lý missing data"
   ]
  },
  {
   "cell_type": "markdown",
   "metadata": {},
   "source": [
    "### 1.1. Nguyên nhân gây thiếu dữ liệu"
   ]
  },
  {
   "cell_type": "markdown",
   "metadata": {},
   "source": [
    "<table border=\"0\">\n",
    "    <tr>\n",
    "        <td style=\"width:33%; text-align:center\">\n",
    "            <b>Missing Completely At Random (MCAR)</b>\n",
    "        </td>\n",
    "        <td style=\"width:33%; text-align:center\">\n",
    "            <b>Missing At Random (MAR)</b>\n",
    "        </td>\n",
    "        <td style=\"width:33%; text-align:center\">\n",
    "            <b>Missing Not At Random (MNAR)</b>\n",
    "        </td>\n",
    "    </tr>\n",
    "    <tr>\n",
    "        <td style=\"text-align:justify\">\n",
    "            Các giá trị thiếu loại MCAR không tuân theo bất cứ quy luật nào,\n",
    "            do đó không gây mất cân bằng dữ liệu. Có thể xóa (deletion)\n",
    "            hoặc giả lập dữ liệu (imputation).\n",
    "        </td>\n",
    "        <td style=\"text-align:justify\">\n",
    "            Các giá trị trống của IQ Score xuất hiện ở những người dưới 25 tuổi.\n",
    "            Việc xóa missing data sẽ làm thuộc tính Age mất cân bằng,\n",
    "            do đó cách xử lý tốt nhất là imputation.\n",
    "        </td>\n",
    "        <td style=\"text-align:justify\"> \n",
    "            Những người có IQ dưới 100 không điền khảo sát về chỉ số IQ.\n",
    "            Những giá trị bị khuyết khác hoàn toàn phần dữ liệu quan sát được.\n",
    "            Các kỹ thuật deletion và imputation đều gây mất cân bằng dữ liệu.\n",
    "        </td>\n",
    "    </tr>\n",
    "    <tr>\n",
    "        <td>\n",
    "            <table>\n",
    "                <tr><th>Dữ liệu hoàn chỉnh</th><th>Dữ liệu thực tế</th></tr>\n",
    "<tr><td>\n",
    "    \n",
    "Age |IQ Score|\n",
    ":---|:-------|\n",
    "20  |120     |\n",
    "22  |112     |\n",
    "24  |127     |\n",
    "29  |97      |\n",
    "30  |103     |\n",
    "40  |95      |\n",
    "45  |141     |\n",
    "47  |92      |\n",
    "52  |115     |\n",
    "\n",
    "</td><td>\n",
    "\n",
    "Age |IQ Score|\n",
    ":---|:-------|\n",
    "20  |120     |\n",
    "22  |        |\n",
    "24  |127     |\n",
    "29  |        |\n",
    "30  |103     |\n",
    "40  |95      |\n",
    "45  |        |\n",
    "47  |92      |\n",
    "52  |115     |\n",
    "\n",
    "</td></tr>\n",
    "            </table>\n",
    "        </td>\n",
    "        <td>\n",
    "            <table>\n",
    "                <tr><th>Dữ liệu hoàn chỉnh</th><th>Dữ liệu thực tế</th></tr>\n",
    "<tr><td>\n",
    "    \n",
    "Age |IQ Score|\n",
    ":---|:-------|\n",
    "20  |120     |\n",
    "22  |112     |\n",
    "24  |127     |\n",
    "29  |97      |\n",
    "30  |103     |\n",
    "40  |95      |\n",
    "45  |141     |\n",
    "47  |92      |\n",
    "52  |115     |\n",
    "\n",
    "</td><td>\n",
    "\n",
    "Age |IQ Score|\n",
    ":---|:-------|\n",
    "20  |        |\n",
    "22  |        |\n",
    "24  |        |\n",
    "29  |97      |\n",
    "30  |103     |\n",
    "40  |95      |\n",
    "45  |141     |\n",
    "47  |92      |\n",
    "52  |115     |\n",
    "\n",
    "</td></tr>\n",
    "            </table>\n",
    "        </td>\n",
    "        <td>\n",
    "            <table>\n",
    "                <tr><th>Dữ liệu hoàn chỉnh</th><th>Dữ liệu thực tế</th></tr>\n",
    "<tr><td>\n",
    "    \n",
    "Age |IQ Score|\n",
    ":---|:-------|\n",
    "20  |120     |\n",
    "22  |112     |\n",
    "24  |127     |\n",
    "29  |97      |\n",
    "30  |103     |\n",
    "40  |95      |\n",
    "45  |141     |\n",
    "47  |92      |\n",
    "52  |115     |\n",
    "\n",
    "</td><td>\n",
    "\n",
    "Age |IQ Score|\n",
    ":---|:-------|\n",
    "20  |120     |\n",
    "22  |112     |\n",
    "24  |127     |\n",
    "29  |        |\n",
    "30  |103     |\n",
    "40  |        |\n",
    "45  |141     |\n",
    "47  |        |\n",
    "52  |115     |\n",
    "\n",
    "</td></tr>\n",
    "            </table>\n",
    "        </td>\n",
    "    </tr>\n",
    "</table>"
   ]
  },
  {
   "cell_type": "markdown",
   "metadata": {},
   "source": [
    "### 1.2. Nhận dạng dữ liệu trống\n",
    "Trên thực tế, dữ liệu trống có thể tồn tại dưới nhiều dạng như `None`, `N/A` (not available), `-` hay `NaN` (not a number).\\\n",
    "Trong Pandas, hằng số `np.nan` và các dữ liệu trống đều được hiển thị là `NaN`."
   ]
  },
  {
   "cell_type": "code",
   "execution_count": null,
   "metadata": {},
   "outputs": [],
   "source": [
    "import numpy as np\n",
    "import pandas as pd"
   ]
  },
  {
   "cell_type": "code",
   "execution_count": null,
   "metadata": {},
   "outputs": [],
   "source": [
    "pd.DataFrame({\n",
    "    'age': pd.Series([22, 24, 29, 30, 37]),\n",
    "    'iq': pd.Series([np.nan, 127, 112, np.nan])\n",
    "})"
   ]
  },
  {
   "cell_type": "markdown",
   "metadata": {},
   "source": [
    "### 1.3. Xóa cột\n",
    "Nếu một thuộc tính chứa trên 50% giá trị trống, có thể xóa cả cột này."
   ]
  },
  {
   "cell_type": "code",
   "execution_count": null,
   "metadata": {},
   "outputs": [],
   "source": [
    "import numpy as np\n",
    "import pandas as pd"
   ]
  },
  {
   "cell_type": "code",
   "execution_count": null,
   "metadata": {},
   "outputs": [],
   "source": [
    "covid = pd.DataFrame({\n",
    "    'country': ['US', 'Russia', 'Brazil', 'UK', 'Spain', 'Italy', 'France', 'Germany', 'Turkey', 'Iran'],\n",
    "    'comfirmed': [1576, 317, 310, 252, 233, 228, 181, 179, 153, 129],\n",
    "    'deaths': [94, 3, 20, 36, 27, 32, 28, 8, 4, 7],\n",
    "    'recovered': [298, None, 125, None, 150, 134, None, None, None, None]\n",
    "})\n",
    "covid"
   ]
  },
  {
   "cell_type": "code",
   "execution_count": null,
   "metadata": {},
   "outputs": [],
   "source": [
    "pd.DataFrame((covid.isna().sum() / covid.shape[0]).map('{:.0%}'.format)).T"
   ]
  },
  {
   "cell_type": "code",
   "execution_count": null,
   "metadata": {},
   "outputs": [],
   "source": [
    "covid.drop(columns='recovered')"
   ]
  },
  {
   "cell_type": "markdown",
   "metadata": {},
   "source": [
    "### 1.4. Xóa dòng"
   ]
  },
  {
   "cell_type": "code",
   "execution_count": null,
   "metadata": {},
   "outputs": [],
   "source": [
    "import numpy as np\n",
    "import pandas as pd"
   ]
  },
  {
   "cell_type": "code",
   "execution_count": null,
   "metadata": {},
   "outputs": [],
   "source": [
    "covid = pd.DataFrame({\n",
    "    'country': ['US', 'Russia', 'Brazil', 'UK', 'Spain', 'Italy', 'France', 'Germany', 'Turkey', 'Iran'],\n",
    "    'comfirmed': [1576, 317, 310, 252, 233, 228, 181, 179, 153, 129],\n",
    "    'deaths': [94, 3, 20, 36, 27, 32, 28, 8, 4, 7],\n",
    "    'recovered': [298, None, 125, None, 150, 134, 63, 158, 114, 100]\n",
    "})\n",
    "covid"
   ]
  },
  {
   "cell_type": "code",
   "execution_count": null,
   "metadata": {},
   "outputs": [],
   "source": [
    "# xóa những hàng chứa giá trị trống trong cột recovered\n",
    "covid.dropna(subset=['recovered'])"
   ]
  },
  {
   "cell_type": "markdown",
   "metadata": {},
   "source": [
    "### 1.5. Điền một giá trị cụ thể"
   ]
  },
  {
   "cell_type": "code",
   "execution_count": null,
   "metadata": {},
   "outputs": [],
   "source": [
    "import numpy as np\n",
    "import pandas as pd"
   ]
  },
  {
   "cell_type": "code",
   "execution_count": null,
   "metadata": {},
   "outputs": [],
   "source": [
    "covid = pd.DataFrame({\n",
    "    'country': ['US', 'Russia', 'Brazil', 'UK', 'Spain', 'Italy', 'France', 'Germany', 'Turkey', 'Iran'],\n",
    "    'comfirmed': [1576, 317, 310, 252, 233, 228, 181, 179, 153, 129],\n",
    "    'deaths': [94, 3, 20, 36, 27, 32, 28, 8, 4, 7],\n",
    "    'recovered': [298, None, 125, None, 150, 134, 63, 158, 114, 100],\n",
    "    'continent': ['America', np.nan, 'America', 'Europe', 'Europe', 'Europe', 'Europe', np.nan, 'Europe', 'Asia']\n",
    "})\n",
    "covid"
   ]
  },
  {
   "cell_type": "markdown",
   "metadata": {},
   "source": [
    "Trong ví dụ trên:\n",
    "- `recovered` là thuộc tính định lượng, có thể impute bằng cách sử dụng mean hoặc median.\n",
    "- `continent` là thông tin định tính nên sẽ được impute bằng mode (giá trị xuất hiện nhiều nhất)."
   ]
  },
  {
   "cell_type": "code",
   "execution_count": null,
   "metadata": {},
   "outputs": [],
   "source": [
    "recovered_fill_value = covid.recovered.mean()\n",
    "recovered_fill_value"
   ]
  },
  {
   "cell_type": "code",
   "execution_count": null,
   "metadata": {},
   "outputs": [],
   "source": [
    "continent_fill_value = covid.continent.mode()[0]\n",
    "continent_fill_value"
   ]
  },
  {
   "cell_type": "code",
   "execution_count": null,
   "metadata": {},
   "outputs": [],
   "source": [
    "covid.recovered = covid.recovered.fillna(recovered_fill_value)\n",
    "covid.continent = covid.continent.fillna(continent_fill_value)\n",
    "covid"
   ]
  },
  {
   "cell_type": "markdown",
   "metadata": {},
   "source": [
    "**Chú ý:** Việc sử dụng mean, median hay mode để điền vị trí thiếu dữ liệu có nhược điểm là làm giảm phương sai."
   ]
  },
  {
   "cell_type": "markdown",
   "metadata": {},
   "source": [
    "### 1.6. Nội suy\n",
    "Nội suy (interpolation) là kỹ thuật tạo ra giá trị mới một tập dữ liệu có sẵn. Phương pháp nội suy thường được dùng để giả lập giá trị thiếu cho thuộc tính có liên quan đến chuỗi thời gian (time series)."
   ]
  },
  {
   "cell_type": "code",
   "execution_count": null,
   "metadata": {},
   "outputs": [],
   "source": [
    "import numpy as np\n",
    "import pandas as pd"
   ]
  },
  {
   "cell_type": "code",
   "execution_count": null,
   "metadata": {},
   "outputs": [],
   "source": [
    "df = pd.DataFrame({\n",
    "    'date': pd.to_datetime([\n",
    "        '2020-01-01', '2020-01-03', '2020-01-04', '2020-01-05',\n",
    "        '2020-01-06', '2020-01-07', '2020-01-09', '2020-01-10'\n",
    "    ]),\n",
    "    'price': [110, 113, 112, 115, 118, 120, 118, 116]\n",
    "})\n",
    "df"
   ]
  },
  {
   "cell_type": "markdown",
   "metadata": {},
   "source": [
    "#### Missing trong chuỗi thời gian"
   ]
  },
  {
   "cell_type": "code",
   "execution_count": null,
   "metadata": {},
   "outputs": [],
   "source": [
    "df = df.set_index('date').asfreq('d').reset_index()\n",
    "df"
   ]
  },
  {
   "cell_type": "markdown",
   "metadata": {},
   "source": [
    "#### Thay thế bằng giá trị liền trước (foward fill)"
   ]
  },
  {
   "cell_type": "code",
   "execution_count": null,
   "metadata": {},
   "outputs": [],
   "source": [
    "filled_values = df.price.fillna(method='ffill')\n",
    "df.assign(price=filled_values)"
   ]
  },
  {
   "cell_type": "markdown",
   "metadata": {},
   "source": [
    "#### Thay thế bằng giá trị liền sau (backward fill)"
   ]
  },
  {
   "cell_type": "code",
   "execution_count": null,
   "metadata": {},
   "outputs": [],
   "source": [
    "filled_values = df.price.fillna(method='bfill')\n",
    "df.assign(price=filled_values)"
   ]
  },
  {
   "cell_type": "markdown",
   "metadata": {},
   "source": [
    "#### Thay thế bằng trung bình 2 giá trị liền kề"
   ]
  },
  {
   "cell_type": "code",
   "execution_count": null,
   "metadata": {},
   "outputs": [],
   "source": [
    "filled_values = df.price.interpolate(method='linear')\n",
    "df.assign(price=filled_values)"
   ]
  },
  {
   "cell_type": "markdown",
   "metadata": {},
   "source": [
    "## 2. Loại bỏ giá trị ngoại biên"
   ]
  },
  {
   "cell_type": "markdown",
   "metadata": {},
   "source": [
    "Giá trị ngoại biên (outlier) là những điểm nằm cách xa phần lớn dữ liệu, chúng sẽ gây ra sai số đáng kể trong phân tích thống kê. Để loại bỏ outlier có thể sử dụng cả kỹ thuật định tính và định lượng."
   ]
  },
  {
   "cell_type": "markdown",
   "metadata": {},
   "source": [
    "### 2.1. Sử dụng trung bình và độ lệch chuẩn\n",
    "Cách tiếp cận: loại bỏ các điểm dữ liệu nhỏ hơn $\\mu-2\\sigma$ hoặc lớn hơn $\\mu+2\\sigma$, trong đó: $\\mu$ là trung bình, $\\sigma$ là độ lệch chuẩn.\\\n",
    "Bạn có thể điều chỉnh khoảng trên thành $2.5\\sigma$ hay $3\\sigma$ tùy từng bài toán cụ thể. Hệ số 2, 2.5 hay 3 nhân với $\\sigma$ có tên gọi là z-score.\n",
    "\n",
    "Cụ thể hơn, nếu số liệu có phân phối chuẩn:\n",
    "- Khoảng [$\\mu-2\\sigma$; $\\mu+2\\sigma$] loại bỏ 4.56% dữ liệu\n",
    "- Khoảng [$\\mu-2.5\\sigma$; $\\mu+2.5\\sigma$] loại bỏ 1.24% dữ liệu\n",
    "- Khoảng [$\\mu-3\\sigma$; $\\mu+3\\sigma$] loại bỏ 0.28% dữ liệu\n",
    "\n",
    "<img src=\"images\\z_score.png\">\\\n",
    "*Nguồn: [Wikipedia](https://en.wikipedia.org/wiki/Outlier)*"
   ]
  },
  {
   "cell_type": "code",
   "execution_count": null,
   "metadata": {},
   "outputs": [],
   "source": [
    "import numpy as np\n",
    "import pandas as pd"
   ]
  },
  {
   "cell_type": "code",
   "execution_count": null,
   "metadata": {},
   "outputs": [],
   "source": [
    "# hàm xử lý outlier bằng z-score\n",
    "def outliers_zscore(array, z):\n",
    "    'Nhận tham số đầu vào là một array, trả về array mới đã thay các outlier bởi None.'\n",
    "    import numpy as np\n",
    "    array = np.array(array, dtype=float)\n",
    "    mean = array.mean()\n",
    "    std = array.std()\n",
    "    lower = mean - z*std # ngưỡng dưới\n",
    "    upper = mean + z*std # ngưỡng trên\n",
    "    array[(array < lower) | (array > upper)] = np.nan # thay outlier bởi None\n",
    "    return array"
   ]
  },
  {
   "cell_type": "code",
   "execution_count": null,
   "metadata": {},
   "outputs": [],
   "source": [
    "# dataset về chất lượng rượu\n",
    "wine = pd.read_excel(r'data\\wine_quality.xlsx')"
   ]
  },
  {
   "cell_type": "code",
   "execution_count": null,
   "metadata": {},
   "outputs": [],
   "source": [
    "wine.head()"
   ]
  },
  {
   "cell_type": "code",
   "execution_count": null,
   "metadata": {},
   "outputs": [],
   "source": [
    "# xử lý outliers từ cột fixed_acidity đến cột alcohol\n",
    "for i in range(12):\n",
    "    column_name = wine.columns[i]\n",
    "    wine[column_name] = outliers_zscore(wine[column_name], z=3)"
   ]
  },
  {
   "cell_type": "code",
   "execution_count": null,
   "metadata": {},
   "outputs": [],
   "source": [
    "pd.DataFrame({\n",
    "    'removed_count': wine.isna().sum(),\n",
    "    'removed_rate': (wine.isna().sum() / wine.shape[0] * 100).apply(lambda x: f'{x:.2f}%')\n",
    "})"
   ]
  },
  {
   "cell_type": "markdown",
   "metadata": {},
   "source": [
    "### 2.2. Sử dụng khoảng tứ phân vị\n",
    "Cách tiếp cận: loại bỏ các điểm dữ liệu nhỏ hơn $Q_1-1.5\\times IQR$ hoặc lớn hơn $Q_3+1.5\\times IQR$, trong đó: $Q_1$ và $Q_3$ là các điểm tứ phân vị thứ nhất và thứ ba, $IQR=Q_3-Q_1$ là khoảng tứ phân vị (interquartile range).\n",
    "\n",
    "<img src=\"images\\interquartile_range.png\">\\\n",
    "*Nguồn: [Wikipedia](https://en.wikipedia.org/wiki/Interquartile_range)*"
   ]
  },
  {
   "cell_type": "code",
   "execution_count": null,
   "metadata": {},
   "outputs": [],
   "source": [
    "import numpy as np\n",
    "import pandas as pd"
   ]
  },
  {
   "cell_type": "code",
   "execution_count": null,
   "metadata": {},
   "outputs": [],
   "source": [
    "def outliers_iqr(array):\n",
    "    import numpy as np\n",
    "    array = np.array(array, dtype=float)\n",
    "    Q1, Q3 = np.quantile(array, [0.25, 0.75])\n",
    "    IQR = Q3 - Q1\n",
    "    lower = Q1 - 1.5*IQR # ngưỡng dưới\n",
    "    upper = Q3 + 1.5*IQR # ngưỡng trên\n",
    "    array[(array < lower) | (array > upper)] = np.nan # thay outlier bởi None\n",
    "    return array"
   ]
  },
  {
   "cell_type": "code",
   "execution_count": null,
   "metadata": {},
   "outputs": [],
   "source": [
    "# dataset về chất lượng rượu\n",
    "wine = pd.read_excel(r'data\\wine_quality.xlsx')"
   ]
  },
  {
   "cell_type": "code",
   "execution_count": null,
   "metadata": {},
   "outputs": [],
   "source": [
    "wine.head()"
   ]
  },
  {
   "cell_type": "code",
   "execution_count": null,
   "metadata": {},
   "outputs": [],
   "source": [
    "# xử lý outliers từ cột fixed_acidity đến cột alcohol\n",
    "for i in range(12):\n",
    "    column_name = wine.columns[i]\n",
    "    wine[column_name] = outliers_iqr(wine[column_name])"
   ]
  },
  {
   "cell_type": "code",
   "execution_count": null,
   "metadata": {},
   "outputs": [],
   "source": [
    "pd.DataFrame({\n",
    "    'removed_count': wine.isna().sum(),\n",
    "    'removed_rate': (wine.isna().sum() / wine.shape[0] * 100).apply(lambda x: f'{x:.2f}%')\n",
    "})"
   ]
  },
  {
   "cell_type": "markdown",
   "metadata": {},
   "source": [
    "## 3. Pivot và Unpivot"
   ]
  },
  {
   "cell_type": "markdown",
   "metadata": {},
   "source": [
    "### 3.1. Bảng dài và bảng rộng"
   ]
  },
  {
   "cell_type": "markdown",
   "metadata": {},
   "source": [
    "#### Bảng rộng\n",
    "Bảng rộng cho phép xem cùng lúc nhiều dữ liệu, rất thuận tiện để theo dõi 1 chỉ số (chẳng hạn doanh thu). Tuy nhiên bảng rộng không hoạt động tốt khi xuất hiện nhiều chiều thông tin.\n",
    "\n",
    "Color|2000 Q1|2000 Q2|2000 Q3|2000 Q4|\n",
    ":----|------:|------:|------:|------:|\n",
    "Red  |\\$ 1000|\\$ 1200|\\$ 1500|\\$ 1700|\n",
    "Green|\\$ 1500|\\$ 1500|\\$ 1575|\\$ 1800|\n",
    "Blue |\\$ 2000|\\$ 2200|\\$ 2000|\\$ 2800|"
   ]
  },
  {
   "cell_type": "markdown",
   "metadata": {},
   "source": [
    "#### Bảng dài\n",
    "Bảng dài lưu mỗi chỉ số/thông tin/thuộc tính trong 1 cột, vì thế có thể biểu diễn được rất nhiều thuộc tính. Trong phân tích dữ liệu, bảng dài được coi là \"tidy data\" và là định dạng dữ liệu chuẩn.\n",
    "\n",
    "Color|Quarter|Sales   |Quantity|Price|\n",
    ":----|:------|-------:|-------:|----:|\n",
    "Red  |2000 Q1|\\$ 1000 |50      |\\$ 20|\n",
    "Green|2000 Q1|\\$ 1500 |50      |\\$ 30|\n",
    "Blue |2000 Q1|\\$ 2000 |40      |\\$ 50|\n",
    "Red  |2000 Q2|\\$ 1200 |60      |\\$ 20|\n",
    "Green|2000 Q2|\\$ 1500 |50      |\\$ 30|\n",
    "Blue |2000 Q2|\\$ 2200 |40      |\\$ 55|\n",
    "Red  |2000 Q3|\\$ 1500 |75      |\\$ 20|\n",
    "Green|2000 Q3|\\$ 1575 |45      |\\$ 35|\n",
    "Blue |2000 Q3|\\$ 2000 |40      |\\$ 50|\n",
    "Red  |2000 Q4|\\$ 1700 |85      |\\$ 20|\n",
    "Green|2000 Q4|\\$ 1800 |20      |\\$ 60|\n",
    "Blue |2000 Q4|\\$ 2800 |70      |\\$ 40|"
   ]
  },
  {
   "cell_type": "markdown",
   "metadata": {},
   "source": [
    "### 3.2. Unpivot\n",
    "Unpivot là kỹ thuật biến đổi từ bảng rộng thành bảng dài.\\\n",
    "Trong Pandas, phương thức `melt()` cho phép unpivot dữ liệu."
   ]
  },
  {
   "cell_type": "code",
   "execution_count": null,
   "metadata": {
    "colab": {},
    "colab_type": "code",
    "id": "FAYNfGlR5bHN"
   },
   "outputs": [],
   "source": [
    "import pandas as pd\n",
    "import numpy as np"
   ]
  },
  {
   "cell_type": "code",
   "execution_count": null,
   "metadata": {},
   "outputs": [],
   "source": [
    "wide = pd.DataFrame({\n",
    "    'Color': ['Red', 'Green', 'Blue'],\n",
    "    '2020 Q1': [1000, 1500, 2000],\n",
    "    '2020 Q2': [1200, 1500, 2200],\n",
    "    '2020 Q3': [1500, 1575, 2000],\n",
    "    '2020 Q4': [1700, 1800, 2800]\n",
    "})\n",
    "wide"
   ]
  },
  {
   "cell_type": "code",
   "execution_count": null,
   "metadata": {},
   "outputs": [],
   "source": [
    "# yêu cầu gõ lại\n",
    "wide.melt(\n",
    "    id_vars='Color',\n",
    "    var_name='Quarter',\n",
    "    value_name='Sales'\n",
    ")"
   ]
  },
  {
   "cell_type": "markdown",
   "metadata": {},
   "source": [
    "**Tình huống 1:** Đọc file `z_score.xlsx` rồi biến đổi dữ liệu về dạng sau:\n",
    "\n",
    "right_area|z_score|\n",
    "---------:|------:|\n",
    "0.00005   |3.9    |\n",
    "0.00007   |3.8    |\n",
    "0.00011   |3.7    |\n",
    "0.00016   |3.6    |\n",
    "0.00023   |3.5    |\n",
    "...       |...    |\n",
    "0.31207   |0.49   |\n",
    "0.34827   |0.39   |\n",
    "0.38591   |0.29   |\n",
    "0.42465   |0.19   |\n",
    "0.46414   |0.09   |"
   ]
  },
  {
   "cell_type": "markdown",
   "metadata": {},
   "source": [
    "### 3.3. Pivot\n",
    "Pivot là kỹ thuật biến đổi từ bảng dài về bảng rộng.\\\n",
    "Để pivot dữ liệu, sử dụng phương thức `pivot_table()`."
   ]
  },
  {
   "cell_type": "code",
   "execution_count": null,
   "metadata": {
    "colab": {},
    "colab_type": "code",
    "id": "FAYNfGlR5bHN"
   },
   "outputs": [],
   "source": [
    "import pandas as pd\n",
    "import numpy as np"
   ]
  },
  {
   "cell_type": "code",
   "execution_count": null,
   "metadata": {},
   "outputs": [],
   "source": [
    "long = pd.DataFrame({\n",
    "    'Market': ['Asian', 'Asian', 'Asian', 'Asian', 'Europe', 'Europe', 'Europe', 'Europe'],\n",
    "    'Color': ['Red', 'Red', 'Blue', 'Blue', 'Red', 'Red', 'Blue', 'Blue'],\n",
    "    'Size': ['Large', 'Small', 'Large', 'Small','Large', 'Small', 'Large', 'Small'],\n",
    "    'Price': [17, 11, 19, 13, 18, 12, 20, 14],\n",
    "    'Sales': [68000, 44000, 57000, 52000, 81000, 72000, 90000, 77000]\n",
    "})\n",
    "long"
   ]
  },
  {
   "cell_type": "markdown",
   "metadata": {},
   "source": [
    "#### Pivot cơ bản"
   ]
  },
  {
   "cell_type": "code",
   "execution_count": null,
   "metadata": {},
   "outputs": [],
   "source": [
    "long\\\n",
    "    .pivot_table(index='Market', columns='Color', values='Sales')\\\n",
    "    .reset_index()\\\n",
    "    .rename_axis(None, axis=1)"
   ]
  },
  {
   "cell_type": "markdown",
   "metadata": {},
   "source": [
    "#### Pivot với một phần dữ liệu\n",
    "Trường hợp này thường xuất hiện các bản ghi trùng lặp, cần sử dụng 1 aggregate function để xử lý (chẳng hạn tính tổng đối với `Sales` và tính trung bình đối với `Price`)."
   ]
  },
  {
   "cell_type": "code",
   "execution_count": null,
   "metadata": {},
   "outputs": [],
   "source": [
    "# yêu cầu gõ lại"
   ]
  },
  {
   "cell_type": "code",
   "execution_count": null,
   "metadata": {},
   "outputs": [],
   "source": [
    "# yêu cầu gõ lại"
   ]
  },
  {
   "cell_type": "markdown",
   "metadata": {},
   "source": [
    "#### Pivot với 2 value"
   ]
  },
  {
   "cell_type": "code",
   "execution_count": null,
   "metadata": {},
   "outputs": [],
   "source": [
    "# yêu cầu gõ lại"
   ]
  },
  {
   "cell_type": "markdown",
   "metadata": {},
   "source": [
    "Kết quả pivot trả về tên cột ở dạng hierrachy index. Sử dụng phương thức `ravel()` để làm phẳng tên cột."
   ]
  },
  {
   "cell_type": "code",
   "execution_count": null,
   "metadata": {},
   "outputs": [],
   "source": [
    "# yêu cầu gõ lại"
   ]
  },
  {
   "cell_type": "code",
   "execution_count": null,
   "metadata": {},
   "outputs": [],
   "source": [
    "# yêu cầu gõ lại"
   ]
  },
  {
   "cell_type": "markdown",
   "metadata": {},
   "source": [
    "Kết quả sau cùng giống với `groupby` nhưng ở dạng bảng khác nhau."
   ]
  },
  {
   "cell_type": "code",
   "execution_count": null,
   "metadata": {},
   "outputs": [],
   "source": [
    "long.groupby(['Market', 'Color']).agg({'Price': [np.mean], 'Sales': [np.sum]}).reset_index()"
   ]
  },
  {
   "cell_type": "markdown",
   "metadata": {},
   "source": [
    "## 4. Tính toán dữ liệu"
   ]
  },
  {
   "cell_type": "markdown",
   "metadata": {},
   "source": [
    "### 4.1. Lũy tiến"
   ]
  },
  {
   "cell_type": "code",
   "execution_count": null,
   "metadata": {},
   "outputs": [],
   "source": [
    "import pandas as pd\n",
    "import numpy as np\n",
    "import matplotlib.pyplot as plt\n",
    "plt.style.use('seaborn')"
   ]
  },
  {
   "cell_type": "code",
   "execution_count": null,
   "metadata": {},
   "outputs": [],
   "source": [
    "np.random.seed(0)\n",
    "purchase = pd.DataFrame({\n",
    "    'date': pd.date_range(start='1/1/2000', periods=12),\n",
    "    'quantity': np.random.randint(100, 1000, size=12)\n",
    "})\n",
    "purchase"
   ]
  },
  {
   "cell_type": "code",
   "execution_count": null,
   "metadata": {},
   "outputs": [],
   "source": [
    "purchase['quantity_cumulative'] = purchase.quantity.cumsum()\n",
    "purchase"
   ]
  },
  {
   "cell_type": "code",
   "execution_count": null,
   "metadata": {},
   "outputs": [],
   "source": [
    "purchase.set_index('date').plot()\n",
    "plt.show()"
   ]
  },
  {
   "cell_type": "markdown",
   "metadata": {},
   "source": [
    "### 4.2. Trung bình trượt"
   ]
  },
  {
   "cell_type": "code",
   "execution_count": null,
   "metadata": {},
   "outputs": [],
   "source": [
    "import numpy as np\n",
    "import pandas as pd"
   ]
  },
  {
   "cell_type": "code",
   "execution_count": null,
   "metadata": {},
   "outputs": [],
   "source": [
    "rate = pd.read_excel(r'data\\exchage_rate.xlsx')\n",
    "rate"
   ]
  },
  {
   "cell_type": "code",
   "execution_count": null,
   "metadata": {},
   "outputs": [],
   "source": [
    "rate.plot(x='date', y='rate')\n",
    "plt.show()"
   ]
  },
  {
   "cell_type": "code",
   "execution_count": null,
   "metadata": {},
   "outputs": [],
   "source": [
    "rate['rate_smooth'] = rate.rate.rolling(window=7, center=True).mean()\n",
    "rate"
   ]
  },
  {
   "cell_type": "code",
   "execution_count": null,
   "metadata": {},
   "outputs": [],
   "source": [
    "rate.set_index('date').plot()\n",
    "plt.show()"
   ]
  },
  {
   "cell_type": "markdown",
   "metadata": {},
   "source": [
    "### 4.3. Mức độ tăng trưởng"
   ]
  },
  {
   "cell_type": "code",
   "execution_count": null,
   "metadata": {},
   "outputs": [],
   "source": [
    "import numpy as np\n",
    "import pandas as pd"
   ]
  },
  {
   "cell_type": "code",
   "execution_count": null,
   "metadata": {},
   "outputs": [],
   "source": [
    "cpi = pd.DataFrame({\n",
    "    'quarter': [f'{year} Q{quarter}' for year in range(2017,2020) for quarter in range(1,5)],\n",
    "    'cost': [111.63, 112.23, 112.68, 113.10, 114.10, 115.28, 115.66, 115.59, 115.98, 117.37, 117.69, 117.94]\n",
    "})\n",
    "cpi"
   ]
  },
  {
   "cell_type": "markdown",
   "metadata": {},
   "source": [
    "**Tình huống 2:** Sử dụng phương thức `pct_change()`, tính CPI theo 2 cách:\n",
    "1. Bằng tỉ lệ tăng trưởng so với quý trước\n",
    "2. Bằng tỉ lệ tăng trưởng so với cùng kỳ năm trước"
   ]
  },
  {
   "cell_type": "markdown",
   "metadata": {},
   "source": [
    "## 5. Liên kết dữ liệu"
   ]
  },
  {
   "cell_type": "markdown",
   "metadata": {},
   "source": [
    "### 5.1. Append\n",
    "Appending (tạm dịch: nối bảng) là kỹ thuật ghép hai bảng theo chiều dọc.\\\n",
    "Phương thức `append()` của Dataframe tương đương với mệnh đề `UNION ALL` trong SQL.\n",
    "\n",
    "Kỹ thuật appending nên được áp dụng khi cần tăng số lượng quan sát và giữ nguyên số thuộc tính."
   ]
  },
  {
   "cell_type": "code",
   "execution_count": null,
   "metadata": {},
   "outputs": [],
   "source": [
    "import numpy as np\n",
    "import pandas as pd"
   ]
  },
  {
   "cell_type": "code",
   "execution_count": null,
   "metadata": {},
   "outputs": [],
   "source": [
    "sales1 = pd.DataFrame({\n",
    "    'year': [2000, 2000, 2000, 2000],\n",
    "    'quarter': [1, 2, 3, 4],\n",
    "    'target': [40000, 50000, 70000, 85000],\n",
    "    'sales': [35000, 38000, 78000, 90000]\n",
    "})\n",
    "sales1"
   ]
  },
  {
   "cell_type": "code",
   "execution_count": null,
   "metadata": {},
   "outputs": [],
   "source": [
    "sales2 = pd.DataFrame({\n",
    "    'year': [2001, 2001, 2001, 2001],\n",
    "    'quarter': [1, 2, 3, 4],\n",
    "    'target': [50000, 60000, 70000, 85000],\n",
    "    'sales': [60000, 65000, 82000, 94000],\n",
    "    'profit': [20000, 21000, 27000, 35000]\n",
    "})\n",
    "sales2"
   ]
  },
  {
   "cell_type": "markdown",
   "metadata": {},
   "source": [
    "#### Quy tắc hoạt động\n",
    "Phương thức `df1.append(df2)` hoạt động như sau:\n",
    "- Căn cứ vào tên các cột chung giữa 2 bảng\n",
    "- Giữ nguyên các bản ghi trùng lặp (nếu có)\n",
    "- Sử dụng cả các cột thừa trong `df2`"
   ]
  },
  {
   "cell_type": "code",
   "execution_count": null,
   "metadata": {},
   "outputs": [],
   "source": [
    "sales1.append(sales2[['year', 'quarter', 'target', 'sales']])"
   ]
  },
  {
   "cell_type": "markdown",
   "metadata": {},
   "source": [
    "**Chú ý:** Để phương thức `append()` hoạt động tốt nhất, cần chuẩn hóa tên cột và loại bỏ các cột thừa."
   ]
  },
  {
   "cell_type": "code",
   "execution_count": null,
   "metadata": {},
   "outputs": [],
   "source": [
    "sales1[['quarter', 'target']]\\\n",
    "    .append(sales2[['quarter', 'target']])\\\n",
    "    .reset_index(drop=True)"
   ]
  },
  {
   "cell_type": "code",
   "execution_count": null,
   "metadata": {},
   "outputs": [],
   "source": [
    "sales1[['quarter', 'target']]\\\n",
    "    .append(sales2[['quarter', 'target']])\\\n",
    "    .drop_duplicates()\\\n",
    "    .reset_index(drop=True)"
   ]
  },
  {
   "cell_type": "markdown",
   "metadata": {},
   "source": [
    "### 5.2. Merge\n",
    "Merging (tạm dịch: hợp nhất bảng) là kỹ thuật ghép hai bảng theo chiều ngang.\\\n",
    "Phương thức `merge()` của Dataframe tương đương với mệnh đề `JOIN` trong SQL.\n",
    "\n",
    "Kỹ thuật merging nên được áp dụng khi bạn muốn bổ sung thêm các thuộc tính mới vào dataset hiện tại."
   ]
  },
  {
   "cell_type": "code",
   "execution_count": null,
   "metadata": {},
   "outputs": [],
   "source": [
    "import numpy as np\n",
    "import pandas as pd"
   ]
  },
  {
   "cell_type": "code",
   "execution_count": null,
   "metadata": {},
   "outputs": [],
   "source": [
    "income = pd.DataFrame({\n",
    "    'name': ['Hannah', 'James', 'Gabriel', 'Smith', 'Alex'],\n",
    "    'income_before_tax': [12000, 30000, 7000, 20000, 100000],\n",
    "    'tax_band': ['Allowance', 'Basic', 'Allowance', 'Basic', 'Higher']\n",
    "})\n",
    "income"
   ]
  },
  {
   "cell_type": "code",
   "execution_count": null,
   "metadata": {},
   "outputs": [],
   "source": [
    "tax = pd.DataFrame({\n",
    "    'band': ['Allowance', 'Basic', 'Higher', 'Additional'],\n",
    "    'income_range': ['Up to $12,500', '\\$12,501 to $50,000', '\\$50,001 to $150,000', 'Over $150,000'],\n",
    "    'tax_rate_%': [0, 0.2, 0.4, 0.45]\n",
    "})\n",
    "tax"
   ]
  },
  {
   "cell_type": "markdown",
   "metadata": {},
   "source": [
    "#### Quy tắc hoạt động\n",
    "Phương thức `df1.merge(df2)` có các đặc điểm sau:\n",
    "- Sử dụng một số cột làm key (xác định thông qua tham số `on` hoặc cặp tham số `left_on` - `right_on`). Theo mặc định: dùng tất cả cột chung làm key.\n",
    "- Chia thành 4 loại: left, right, inner, outer; trong đó left và inner được sử dụng nhiều hơn cả.\n",
    "\n",
    "<img src=\"images\\dataframe_merges.png\" width=\"800\">"
   ]
  },
  {
   "cell_type": "code",
   "execution_count": null,
   "metadata": {},
   "outputs": [],
   "source": [
    "income.merge(tax, how='left', left_on='tax_band', right_on='band')"
   ]
  },
  {
   "cell_type": "markdown",
   "metadata": {},
   "source": [
    "**Chú ý:** Phương thức `merge` hoạt động tốt nhất khi tên cột đã được chuẩn hóa."
   ]
  },
  {
   "cell_type": "code",
   "execution_count": null,
   "metadata": {},
   "outputs": [],
   "source": [
    "income.rename(columns={'tax_band': 'band'})"
   ]
  },
  {
   "cell_type": "code",
   "execution_count": null,
   "metadata": {},
   "outputs": [],
   "source": [
    "income\\\n",
    "    .rename(columns={'tax_band': 'band'})\\\n",
    "    .merge(tax, how='left')"
   ]
  },
  {
   "cell_type": "markdown",
   "metadata": {},
   "source": [
    "**Tình huống 3:** Đọc file `us_youtube_trending.xlsx` (có 2 sheet), sau đó merge 2 bảng dựa trên cột `category`."
   ]
  },
  {
   "cell_type": "markdown",
   "metadata": {},
   "source": [
    "## Giải đáp tình huống"
   ]
  },
  {
   "cell_type": "markdown",
   "metadata": {},
   "source": [
    "**Tình huống 1:** Đọc file `z_score.xlsx` rồi biến đổi dữ liệu về dạng sau:\n",
    "\n",
    "right_area|z_score|\n",
    "---------:|------:|\n",
    "0.00005   |3.9    |\n",
    "0.00007   |3.8    |\n",
    "0.00011   |3.7    |\n",
    "0.00016   |3.6    |\n",
    "0.00023   |3.5    |\n",
    "...       |...    |\n",
    "0.31207   |0.49   |\n",
    "0.34827   |0.39   |\n",
    "0.38591   |0.29   |\n",
    "0.42465   |0.19   |\n",
    "0.46414   |0.09   |"
   ]
  },
  {
   "cell_type": "code",
   "execution_count": null,
   "metadata": {},
   "outputs": [],
   "source": [
    "import numpy as np\n",
    "import pandas as pd"
   ]
  },
  {
   "cell_type": "code",
   "execution_count": null,
   "metadata": {},
   "outputs": [],
   "source": [
    "z = pd.read_excel(r'data\\z_score.xlsx')\n",
    "z"
   ]
  },
  {
   "cell_type": "code",
   "execution_count": null,
   "metadata": {},
   "outputs": [],
   "source": [
    "z = z.melt(id_vars='Z', var_name='Z2', value_name='right_area')\n",
    "z"
   ]
  },
  {
   "cell_type": "code",
   "execution_count": null,
   "metadata": {},
   "outputs": [],
   "source": [
    "z['z_score'] = z.Z + z.Z2\n",
    "z.drop(columns=['Z', 'Z2'])"
   ]
  },
  {
   "cell_type": "markdown",
   "metadata": {},
   "source": [
    "**Tình huống 2:** Sử dụng phương thức `pct_change()`, tính CPI theo 2 cách:\n",
    "1. Bằng tỉ lệ tăng trưởng so với quý trước\n",
    "2. Bằng tỉ lệ tăng trưởng so với cùng kỳ năm trước"
   ]
  },
  {
   "cell_type": "code",
   "execution_count": null,
   "metadata": {},
   "outputs": [],
   "source": [
    "import numpy as np\n",
    "import pandas as pd"
   ]
  },
  {
   "cell_type": "code",
   "execution_count": null,
   "metadata": {},
   "outputs": [],
   "source": [
    "cpi = pd.DataFrame({\n",
    "    'quarter': [f'{year} Q{quarter}' for year in range(2017,2020) for quarter in range(1,5)],\n",
    "    'cost': [111.63, 112.23, 112.68, 113.10, 114.10, 115.28, 115.66, 115.59, 115.98, 117.37, 117.69, 117.94]\n",
    "})\n",
    "cpi"
   ]
  },
  {
   "cell_type": "code",
   "execution_count": null,
   "metadata": {},
   "outputs": [],
   "source": [
    "cpi.cost.pct_change()*100"
   ]
  },
  {
   "cell_type": "code",
   "execution_count": null,
   "metadata": {},
   "outputs": [],
   "source": [
    "cpi.cost.pct_change(periods=4) * 100"
   ]
  },
  {
   "cell_type": "markdown",
   "metadata": {},
   "source": [
    "**Tình huống 3:** Đọc file `us_youtube_trending.xlsx` (có 2 sheet), sau đó merge 2 bảng dựa trên cột `category_id`."
   ]
  },
  {
   "cell_type": "code",
   "execution_count": null,
   "metadata": {},
   "outputs": [],
   "source": [
    "import numpy as np\n",
    "import pandas as pd"
   ]
  },
  {
   "cell_type": "code",
   "execution_count": null,
   "metadata": {},
   "outputs": [],
   "source": [
    "video = pd.read_excel(r'us_youtube_trending.xlsx', sheet_name='Sheet1')\n",
    "video.head()"
   ]
  },
  {
   "cell_type": "code",
   "execution_count": null,
   "metadata": {},
   "outputs": [],
   "source": [
    "category = pd.read_excel(r'data\\us_youtube_trending.xlsx', sheet_name='Sheet2')\n",
    "category.head()"
   ]
  },
  {
   "cell_type": "code",
   "execution_count": null,
   "metadata": {},
   "outputs": [],
   "source": [
    "category = category.rename(columns={'id': 'category_id', 'category_name': 'category'})"
   ]
  },
  {
   "cell_type": "code",
   "execution_count": null,
   "metadata": {},
   "outputs": [],
   "source": [
    "video.merge(category, how='left')"
   ]
  }
 ],
 "metadata": {
  "colab": {
   "name": "lecture7.ipynb",
   "provenance": [],
   "version": "0.3.2"
  },
  "kernelspec": {
   "display_name": "Python 3",
   "language": "python",
   "name": "python3"
  },
  "language_info": {
   "codemirror_mode": {
    "name": "ipython",
    "version": 3
   },
   "file_extension": ".py",
   "mimetype": "text/x-python",
   "name": "python",
   "nbconvert_exporter": "python",
   "pygments_lexer": "ipython3",
   "version": "3.8.3"
  }
 },
 "nbformat": 4,
 "nbformat_minor": 4
}
