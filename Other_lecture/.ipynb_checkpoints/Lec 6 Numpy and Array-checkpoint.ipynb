{
 "cells": [
  {
   "cell_type": "markdown",
   "metadata": {},
   "source": [
    "# BÀI 6: NUMPY VÀ ARRAY"
   ]
  },
  {
   "cell_type": "markdown",
   "metadata": {},
   "source": [
    "Numpy là thư viện chuyên sâu cho các lĩnh vực toán học như Xác suất Thống kê (Statistics) hay Đại số Tuyến tính (Linear Algebra), và là nền tảng của Học máy (Machine Learning). Numpy làm việc chủ yếu với đối tượng array (mảng).\\\n",
    "Theo quy ước, thư viện `numpy` luôn được import dưới tên gọi `np`."
   ]
  },
  {
   "cell_type": "code",
   "execution_count": null,
   "metadata": {},
   "outputs": [],
   "source": [
    "import numpy as np"
   ]
  },
  {
   "cell_type": "markdown",
   "metadata": {},
   "source": [
    "## 1. Giới thiệu Numpy"
   ]
  },
  {
   "cell_type": "markdown",
   "metadata": {},
   "source": [
    "### 1.1. Hằng số"
   ]
  },
  {
   "cell_type": "code",
   "execution_count": null,
   "metadata": {},
   "outputs": [],
   "source": [
    "import numpy as np"
   ]
  },
  {
   "cell_type": "code",
   "execution_count": null,
   "metadata": {},
   "outputs": [],
   "source": [
    "np.pi"
   ]
  },
  {
   "cell_type": "code",
   "execution_count": null,
   "metadata": {},
   "outputs": [],
   "source": [
    "np.e"
   ]
  },
  {
   "cell_type": "code",
   "execution_count": null,
   "metadata": {},
   "outputs": [],
   "source": [
    "# not a number (không phải số)\n",
    "np.nan"
   ]
  },
  {
   "cell_type": "markdown",
   "metadata": {},
   "source": [
    "### 1.2. Array (Mảng nhiều chiều)\n",
    "Array là đối tượng làm việc chính của Numpy, có tên đầy đủ là n-dimensional array (ndarray). Array có thể là một đại lượng vô hướng (0 chiều), một vector (1 chiều) hay một ma trận (2 chiều)."
   ]
  },
  {
   "cell_type": "code",
   "execution_count": null,
   "metadata": {},
   "outputs": [],
   "source": [
    "import numpy as np"
   ]
  },
  {
   "cell_type": "code",
   "execution_count": null,
   "metadata": {},
   "outputs": [],
   "source": [
    "np.array(7)"
   ]
  },
  {
   "cell_type": "code",
   "execution_count": null,
   "metadata": {},
   "outputs": [],
   "source": [
    "type(np.array([1, 2, 3]))"
   ]
  },
  {
   "cell_type": "code",
   "execution_count": null,
   "metadata": {},
   "outputs": [],
   "source": [
    "np.array([[3, 4], [7, 8]])"
   ]
  },
  {
   "cell_type": "markdown",
   "metadata": {},
   "source": [
    "**Chú ý:** Đối tượng array trong Numpy rất giống với list trong Python. Các điểm khác biệt lớn nhất giữa chúng:\n",
    "- Các phần tử trong một list có thể có nhiều kiểu dữ liệu khác nhau; nhưng để tối ưu hóa sức mạnh tính toán của array, các phần tử phải có cùng kiểu dữ liệu.\n",
    "- Array có hiệu năng tốt hơn nhiều so với list.\n",
    "- Array cho phép thực hiện thao tác với từng phần tử, vì thế rất phù hợp trong việc tính toán."
   ]
  },
  {
   "cell_type": "markdown",
   "metadata": {},
   "source": [
    "#### Dãy số cách đều\n",
    "Hai hàm `numpy.arange()` và `numpy.linspace()` cùng tạo ra dãy số cách đều. Trong khi `numpy.arange()` cho phép lựa chọn khoảng cách thì `numpy.linspace()` cho phép lựa chọn số phần tử tạo ra."
   ]
  },
  {
   "cell_type": "code",
   "execution_count": null,
   "metadata": {},
   "outputs": [],
   "source": [
    "# dãy số cách đều 0.5, từ -5 đến 4\n",
    "np.arange(-5, 4, 0.5)"
   ]
  },
  {
   "cell_type": "code",
   "execution_count": null,
   "metadata": {},
   "outputs": [],
   "source": [
    "# dãy 20 số cách đều, từ 1 đến 5\n",
    "np.linspace(1, 5, 20)"
   ]
  },
  {
   "cell_type": "markdown",
   "metadata": {},
   "source": [
    "**Tình huống 1:** Tạo ra dãy số nguyên nằm trong khoảng $[a,b]$ bất kỳ."
   ]
  },
  {
   "cell_type": "markdown",
   "metadata": {},
   "source": [
    "### 1.3. Khái niệm tính toán từng phần tử\n",
    "Điểm nổi bật của Numpy là có thể thực hiện tính toán với từng phần tử (element-wise) của array."
   ]
  },
  {
   "cell_type": "code",
   "execution_count": null,
   "metadata": {},
   "outputs": [],
   "source": [
    "import numpy as np"
   ]
  },
  {
   "cell_type": "code",
   "execution_count": null,
   "metadata": {},
   "outputs": [],
   "source": [
    "# cộng 2 list với nhau, kết quả là nối 2 list\n",
    "[1, 2, 3] + [4, 5, 6]"
   ]
  },
  {
   "cell_type": "code",
   "execution_count": null,
   "metadata": {},
   "outputs": [],
   "source": [
    "# cộng 2 array kết quả là cộng từng phần tử\n",
    "np.array([1, 2, 3]) + np.array([4, 5, 6])"
   ]
  },
  {
   "cell_type": "code",
   "execution_count": null,
   "metadata": {},
   "outputs": [],
   "source": [
    "# cộng 1 array với 1 số, kết quả là cộng số đó với từng phần tử\n",
    "np.array([1, 2, 3]) + 7"
   ]
  },
  {
   "cell_type": "markdown",
   "metadata": {},
   "source": [
    "Một số ví dụ tính toán từng phần tử với mảng 2 chiều."
   ]
  },
  {
   "cell_type": "code",
   "execution_count": null,
   "metadata": {},
   "outputs": [],
   "source": [
    "a = np.array([[1, 1, 1],\n",
    "              [1, 1, 1],\n",
    "              [1, 1, 1]])\n",
    "b = np.array(7)\n",
    "a * b"
   ]
  },
  {
   "cell_type": "code",
   "execution_count": null,
   "metadata": {},
   "outputs": [],
   "source": [
    "a = np.array([[1, 1, 1],\n",
    "              [1, 1, 1],\n",
    "              [1, 1, 1]])\n",
    "b = np.array([2, 3, 4])\n",
    "a * b"
   ]
  },
  {
   "cell_type": "code",
   "execution_count": null,
   "metadata": {},
   "outputs": [],
   "source": [
    "a = np.array([[1, 1, 1],\n",
    "              [1, 1, 1],\n",
    "              [1, 1, 1]])\n",
    "b = np.array([[2], [3], [4]])\n",
    "a * b"
   ]
  },
  {
   "cell_type": "markdown",
   "metadata": {},
   "source": [
    "**Tình huống 2:** Giải thích kết quả 3 phép nhân array trên."
   ]
  },
  {
   "cell_type": "markdown",
   "metadata": {},
   "source": [
    "### 1.4. Các phép toán trong Numpy\n",
    "Numpy có rất nhiều hàm toán học và đều hoạt động \"element-wise\".\\\n",
    "[Documentation](https://docs.scipy.org/doc/numpy-1.17.0/reference/routines.math.html)  "
   ]
  },
  {
   "cell_type": "code",
   "execution_count": null,
   "metadata": {},
   "outputs": [],
   "source": [
    "np.sin(np.pi/2)"
   ]
  },
  {
   "cell_type": "code",
   "execution_count": null,
   "metadata": {},
   "outputs": [],
   "source": [
    "np.sqrt(-1)"
   ]
  },
  {
   "cell_type": "code",
   "execution_count": null,
   "metadata": {},
   "outputs": [],
   "source": [
    "x = np.array([-4, 6, -7])\n",
    "np.abs(x)"
   ]
  },
  {
   "cell_type": "code",
   "execution_count": null,
   "metadata": {},
   "outputs": [],
   "source": [
    "x = np.array([1, 2, 3])\n",
    "np.exp(x)"
   ]
  },
  {
   "cell_type": "code",
   "execution_count": null,
   "metadata": {},
   "outputs": [],
   "source": [
    "x = np.array([10, 1000, 100000])\n",
    "np.log10(x)"
   ]
  },
  {
   "cell_type": "markdown",
   "metadata": {},
   "source": [
    "### 1.5. Mảng ngẫu nhiên\n",
    "Việc tạo ra một array chứa các số ngẫu nhiên nhưng tuân theo một số tính chất (như số nguyên hay phân phối chuẩn) rất quan trọng để thử nghiệm các đặc tính của dữ liệu."
   ]
  },
  {
   "cell_type": "code",
   "execution_count": null,
   "metadata": {},
   "outputs": [],
   "source": [
    "import numpy as np"
   ]
  },
  {
   "cell_type": "markdown",
   "metadata": {},
   "source": [
    "#### Số thực ngẫu nhiên\n",
    "Hàm `numpy.random.random()` trả về các số thực ngẫu nhiên trong nửa khoảng `[0.0; 1.0)`."
   ]
  },
  {
   "cell_type": "code",
   "execution_count": null,
   "metadata": {},
   "outputs": [],
   "source": [
    "np.random.random(size=(4,5))"
   ]
  },
  {
   "cell_type": "markdown",
   "metadata": {},
   "source": [
    "**Tình huống 3:** Tạo ra các số thực ngẫu nhiên trong nửa khoảng `[a; b)`."
   ]
  },
  {
   "cell_type": "markdown",
   "metadata": {},
   "source": [
    "#### Số nguyên ngẫu nhiên\n",
    "Hàm `numpy.random.randint()` trả về các số nguyên ngẫu nhiên trong nửa khoảng `[a; b)` hoặc `[0; a)`."
   ]
  },
  {
   "cell_type": "code",
   "execution_count": null,
   "metadata": {},
   "outputs": [],
   "source": [
    "np.random.randint(10, 100, (4,5))"
   ]
  },
  {
   "cell_type": "code",
   "execution_count": null,
   "metadata": {},
   "outputs": [],
   "source": [
    "np.random.randint(5, size=(4,5))"
   ]
  },
  {
   "cell_type": "markdown",
   "metadata": {},
   "source": [
    "#### Ngẫu nhiên theo phân phối chuẩn\n",
    "Hàm `numpy.random.normal()` tạo ra một array chứa các số ngẫu nhiên nhưng tuân theo phân phối chuẩn. Tham số `loc` thể hiện trung bình và `scale` thể hiện độ lệch chuẩn. Đồ thị histogram được sử dụng để thể hiện quy luật phân phối của số liệu."
   ]
  },
  {
   "cell_type": "code",
   "execution_count": null,
   "metadata": {},
   "outputs": [],
   "source": [
    "import matplotlib.pyplot as plt\n",
    "plt.style.use('ggplot')\n",
    "\n",
    "plt.figure(figsize=(10,5))\n",
    "plt.hist(np.random.normal(loc=0, scale=5, size=100000), bins=100)\n",
    "plt.show()"
   ]
  },
  {
   "cell_type": "markdown",
   "metadata": {},
   "source": [
    "#### Ngẫu nhiên theo phân phối đều"
   ]
  },
  {
   "cell_type": "code",
   "execution_count": null,
   "metadata": {},
   "outputs": [],
   "source": [
    "import matplotlib.pyplot as plt\n",
    "plt.style.use('ggplot')\n",
    "\n",
    "plt.figure(figsize=(10,5))\n",
    "plt.hist(np.random.uniform(low=-30, high=30, size=100000), bins=100)\n",
    "plt.show()"
   ]
  },
  {
   "cell_type": "markdown",
   "metadata": {},
   "source": [
    "#### Seed\n",
    "Hàm `numpy.random.seed()` sẽ cố định kết quả ngẫu nhiên với mỗi số được truyền vào."
   ]
  },
  {
   "cell_type": "code",
   "execution_count": null,
   "metadata": {},
   "outputs": [],
   "source": [
    "np.random.seed(0)\n",
    "np.random.randint(1, 9, 20)"
   ]
  },
  {
   "cell_type": "markdown",
   "metadata": {},
   "source": [
    "## 2. Thao tác với Array"
   ]
  },
  {
   "cell_type": "markdown",
   "metadata": {},
   "source": [
    "### 2.1. Mô tả array"
   ]
  },
  {
   "cell_type": "code",
   "execution_count": null,
   "metadata": {},
   "outputs": [],
   "source": [
    "import numpy as np"
   ]
  },
  {
   "cell_type": "code",
   "execution_count": null,
   "metadata": {},
   "outputs": [],
   "source": [
    "a = np.array(\n",
    "    [[ 1,  2,  3,  4,  5,  6],\n",
    "     [ 7,  8,  9, 10, 11, 12],\n",
    "     [13, 14, 15, 16, 17, 18],\n",
    "     [19, 20, 21, 22, 23, 24]]\n",
    ")"
   ]
  },
  {
   "cell_type": "code",
   "execution_count": null,
   "metadata": {},
   "outputs": [],
   "source": [
    "# số chiều\n",
    "a.ndim"
   ]
  },
  {
   "cell_type": "code",
   "execution_count": null,
   "metadata": {},
   "outputs": [],
   "source": [
    "# kích thước mỗi chiều\n",
    "a.shape"
   ]
  },
  {
   "cell_type": "code",
   "execution_count": null,
   "metadata": {},
   "outputs": [],
   "source": [
    "# số phần tử\n",
    "a.size"
   ]
  },
  {
   "cell_type": "markdown",
   "metadata": {},
   "source": [
    "**Tình huống 4:** Sử dụng Numpy, kiểm tra:\n",
    "- Số phần tử thuộc tính `shape` trả về có bằng giá trị `ndim` hay không?\n",
    "- Kích thước array có bằng tích độ dài tất cả các chiều hay không?"
   ]
  },
  {
   "cell_type": "markdown",
   "metadata": {},
   "source": [
    "**Chú ý:** Numpy xác định chiều của array dựa vào ngoặc vuông `[]`:\n",
    "- Array `a` được bắt đầu bằng 2 dấu ngoặc vuông, vì thế `a` có 2 chiều.\n",
    "- Chiều thứ nhất (axis 0) là chiều dọc, xác định bởi dấu ngoặc vuông đầu tiên. Bên trong dấu ngoặc này có 4 phần tử, vậy kích thước của chiều thứ nhất là 4.\n",
    "- Chiều thứ hai (axis 1) là chiều ngang, xác định bởi dấu ngoặc vuông thứ hai. Bên trong dấu ngoặc này có 6 phần tử, vậy kích thước của chiều thứ hai là 6.\n",
    "\n",
    "<img src=\"images\\array_axes_convention.png\">"
   ]
  },
  {
   "cell_type": "code",
   "execution_count": null,
   "metadata": {},
   "outputs": [],
   "source": [
    "a = np.array(\n",
    "    [[ 1,  2,  3,  4,  5,  6],\n",
    "     [ 7,  8,  9, 10, 11, 12],\n",
    "     [13, 14, 15, 16, 17, 18],\n",
    "     [19, 20, 21, 22, 23, 24]]\n",
    ")"
   ]
  },
  {
   "cell_type": "code",
   "execution_count": null,
   "metadata": {},
   "outputs": [],
   "source": [
    "# phần tử nhỏ nhất trong toàn bộ array\n",
    "a.min()"
   ]
  },
  {
   "cell_type": "markdown",
   "metadata": {},
   "source": [
    "Nếu sử dụng tham số `axis=1`, array sẽ được thu gọn và tính toán dọc theo axis 1. Nói cách khác, axis 1 bị loại bỏ."
   ]
  },
  {
   "cell_type": "code",
   "execution_count": null,
   "metadata": {},
   "outputs": [],
   "source": [
    "# phần tử lớn nhất dọc theo chiều thứ hai\n",
    "a.max(axis=1)"
   ]
  },
  {
   "cell_type": "markdown",
   "metadata": {},
   "source": [
    "### 2.2. Slicing\n",
    "Giống với list, cũng có thể sử dụng kỹ thuật slicing đối với array nhưng đa dạng hơn rất nhiều."
   ]
  },
  {
   "cell_type": "code",
   "execution_count": null,
   "metadata": {},
   "outputs": [],
   "source": [
    "import numpy as np"
   ]
  },
  {
   "cell_type": "markdown",
   "metadata": {},
   "source": [
    "#### Slicing cơ bản\n",
    "Cú pháp: `[start:stop:step]`. Để slicing nhiều chiều: `[start0:stop0:step0, start1:stop1:step1,...]` trong đó các số 0, 1,... ám chỉ chiều 0, chiều 1,..."
   ]
  },
  {
   "cell_type": "code",
   "execution_count": null,
   "metadata": {},
   "outputs": [],
   "source": [
    "a = np.array(\n",
    "    [[ 1,  2,  3,  4,  5,  6],\n",
    "     [ 7,  8,  9, 10, 11, 12],\n",
    "     [13, 14, 15, 16, 17, 18],\n",
    "     [19, 20, 21, 22, 23, 24]]\n",
    ")"
   ]
  },
  {
   "cell_type": "code",
   "execution_count": null,
   "metadata": {},
   "outputs": [],
   "source": [
    "# cắt ra các phần tử thuộc dòng 1, 2\n",
    "a[1:3]"
   ]
  },
  {
   "cell_type": "code",
   "execution_count": null,
   "metadata": {},
   "outputs": [],
   "source": [
    "# cắt ra các phần tử thuộc cột 0, 2, 4\n",
    "a[:, ::2]"
   ]
  },
  {
   "cell_type": "code",
   "execution_count": null,
   "metadata": {},
   "outputs": [],
   "source": [
    "# kết hợp slicing trên 2 chiều\n",
    "a[1:3, 1::2]"
   ]
  },
  {
   "cell_type": "code",
   "execution_count": null,
   "metadata": {},
   "outputs": [],
   "source": [
    "# lấy phần tử nằm ở hàng 2, cột 1\n",
    "a[2, 1]"
   ]
  },
  {
   "cell_type": "code",
   "execution_count": null,
   "metadata": {},
   "outputs": [],
   "source": [
    "# phép gán giá trị\n",
    "a[::, ::2] = 0\n",
    "a"
   ]
  },
  {
   "cell_type": "markdown",
   "metadata": {},
   "source": [
    "**Tình huống 5:** Tạo vector chứa các số tự nhiên từ 10 đến 99. Sau đó loại bỏ 10 số đầu tiên và 15 số cuối cùng."
   ]
  },
  {
   "cell_type": "markdown",
   "metadata": {},
   "source": [
    "**Tình huống 6:** Sử dụng `np.zeros()` để tạo ra 1 ma trận 5x5 chứa các số 1 bao ngoài và số 0 nằm bên trong."
   ]
  },
  {
   "cell_type": "markdown",
   "metadata": {},
   "source": [
    "#### Boolean slicing"
   ]
  },
  {
   "cell_type": "markdown",
   "metadata": {},
   "source": [
    "Trước hết, hãy tìm hiểu về so sánh từng phần tử. Trong ví dụ dưới đây, kết quả trả về là một array chứa các giá trị Boolean (giá trị `True` nếu phần tử đó thỏa mãn x > 5)."
   ]
  },
  {
   "cell_type": "code",
   "execution_count": null,
   "metadata": {},
   "outputs": [],
   "source": [
    "x = np.array([1, 3, 5, 7, 9])\n",
    "x > 5"
   ]
  },
  {
   "cell_type": "markdown",
   "metadata": {},
   "source": [
    "Các toán tử `and` và `or` không có tính chất \"element-wise\". Nếu muốn so sánh từng phần tử, cần sử dụng toán tử `&` thay cho `and` và `|` thay cho `or`."
   ]
  },
  {
   "cell_type": "code",
   "execution_count": null,
   "metadata": {},
   "outputs": [],
   "source": [
    "np.array([True, True, False, False]) & np.array([True, False, True, False])"
   ]
  },
  {
   "cell_type": "code",
   "execution_count": null,
   "metadata": {},
   "outputs": [],
   "source": [
    "np.array([True, True, False, False]) | np.array([True, False, True, False])"
   ]
  },
  {
   "cell_type": "markdown",
   "metadata": {},
   "source": [
    "Để kích hoạt Boolean slicing, cần truyền vào một list chứa các phần tử `True` và `False` hoặc một điều kiện."
   ]
  },
  {
   "cell_type": "code",
   "execution_count": null,
   "metadata": {},
   "outputs": [],
   "source": [
    "x = np.array([1, 3, 5, 7, 9])\n",
    "x[[True, True, False, False, True]]"
   ]
  },
  {
   "cell_type": "code",
   "execution_count": null,
   "metadata": {},
   "outputs": [],
   "source": [
    "x = np.array([1, 3, 5, 7, 9])\n",
    "x[(c>=5) & (c!=9)]"
   ]
  },
  {
   "cell_type": "markdown",
   "metadata": {},
   "source": [
    "**Chú ý:** Dấu ngã `~` có tác dụng đảo ngược giá trị của một array chứa các phần tử Boolean (`True` thành `False`, `False` thành `True`). Cách viết này dùng để chỉ ra điều kiện loại bỏ phần tử."
   ]
  },
  {
   "cell_type": "code",
   "execution_count": null,
   "metadata": {},
   "outputs": [],
   "source": [
    "~np.array([True, False, True])"
   ]
  },
  {
   "cell_type": "code",
   "execution_count": null,
   "metadata": {},
   "outputs": [],
   "source": [
    "d = np.array([1, 2, 3, 4, 5, 6, 7, 100])\n",
    "d[~(d>10)]"
   ]
  },
  {
   "cell_type": "markdown",
   "metadata": {},
   "source": [
    "**Tình huống 7:** Cho array dưới đây, hãy đổi dấu (dương thành âm) các số lớn hơn 3 và nhỏ hơn 8."
   ]
  },
  {
   "cell_type": "code",
   "execution_count": null,
   "metadata": {},
   "outputs": [],
   "source": [
    "x = np.array([6, 1, 4, 4, 8, 4, 6, 3, 5, 8, 7, 9, 9, 2, 7, 8, 8, 9, 2, 6])"
   ]
  },
  {
   "cell_type": "markdown",
   "metadata": {},
   "source": [
    "## 2.3. Tái cấu trúc array"
   ]
  },
  {
   "cell_type": "code",
   "execution_count": null,
   "metadata": {},
   "outputs": [],
   "source": [
    "import numpy as np"
   ]
  },
  {
   "cell_type": "markdown",
   "metadata": {},
   "source": [
    "Phương thức `reshape()` của array cho phép tái cấu trúc array sang một hình dạng khác (thay đổi số chiều, kích thước mỗi chiều). Dù thay đổi sang hình dạng nào, số phần tử và thứ tự của chúng vẫn luôn luôn không thay đổi."
   ]
  },
  {
   "cell_type": "code",
   "execution_count": null,
   "metadata": {},
   "outputs": [],
   "source": [
    "a = np.array(\n",
    "    [[ 1,  2,  3,  4,  5,  6],\n",
    "     [ 7,  8,  9, 10, 11, 12],\n",
    "     [13, 14, 15, 16, 17, 18],\n",
    "     [19, 20, 21, 22, 23, 24]]\n",
    ")"
   ]
  },
  {
   "cell_type": "code",
   "execution_count": null,
   "metadata": {},
   "outputs": [],
   "source": [
    "a.reshape(3, 8)"
   ]
  },
  {
   "cell_type": "markdown",
   "metadata": {},
   "source": [
    "Phương thức `reshape()` cho phép đặt một chiều có kích thước bằng -1. Numpy sẽ tự tính toán kích thước của chiều này sao cho phù hợp với số phần tử của array."
   ]
  },
  {
   "cell_type": "code",
   "execution_count": null,
   "metadata": {},
   "outputs": [],
   "source": [
    "a.reshape(2, -1)"
   ]
  },
  {
   "cell_type": "code",
   "execution_count": null,
   "metadata": {},
   "outputs": [],
   "source": [
    "a.reshape(2, 3, 4)"
   ]
  },
  {
   "cell_type": "markdown",
   "metadata": {},
   "source": [
    "#### Làm phẳng array\n",
    "Làm phẳng là quá trình biến đổi array nhiều chiều về vector 1 chiều."
   ]
  },
  {
   "cell_type": "code",
   "execution_count": null,
   "metadata": {},
   "outputs": [],
   "source": [
    "a = np.array(\n",
    "    [[1,  2,  3],\n",
    "     [4,  5,  6]]\n",
    ")"
   ]
  },
  {
   "cell_type": "code",
   "execution_count": null,
   "metadata": {},
   "outputs": [],
   "source": [
    "a.flatten()"
   ]
  },
  {
   "cell_type": "code",
   "execution_count": null,
   "metadata": {},
   "outputs": [],
   "source": [
    "a.reshape(-1)"
   ]
  },
  {
   "cell_type": "markdown",
   "metadata": {},
   "source": [
    "Nếu viết `reshape(-1, 1)` kết quả thu được là một vector cột, khác với `reshape(-1)` trả về một vector hàng. Vector cột trong Numpy là array 2 chiều."
   ]
  },
  {
   "cell_type": "code",
   "execution_count": null,
   "metadata": {},
   "outputs": [],
   "source": [
    "a.reshape(-1, 1)"
   ]
  },
  {
   "cell_type": "markdown",
   "metadata": {},
   "source": [
    "## 3. Một số đại lượng thống kê mô tả"
   ]
  },
  {
   "cell_type": "markdown",
   "metadata": {},
   "source": [
    "### 3.1. Tổng và trung bình"
   ]
  },
  {
   "cell_type": "code",
   "execution_count": null,
   "metadata": {},
   "outputs": [],
   "source": [
    "import numpy as np"
   ]
  },
  {
   "cell_type": "code",
   "execution_count": null,
   "metadata": {},
   "outputs": [],
   "source": [
    "np.random.seed(0)\n",
    "a = np.random.randint(1000, size=100)\n",
    "a"
   ]
  },
  {
   "cell_type": "code",
   "execution_count": null,
   "metadata": {},
   "outputs": [],
   "source": [
    "# tổng\n",
    "a.sum()"
   ]
  },
  {
   "cell_type": "code",
   "execution_count": null,
   "metadata": {},
   "outputs": [],
   "source": [
    "# trung bình\n",
    "a.mean()"
   ]
  },
  {
   "cell_type": "markdown",
   "metadata": {},
   "source": [
    "### 3.2. Độ lệch chuẩn và phương sai\n",
    "Công thức tính độ lệch chuẩn (standard deviation) và phương sai (variance):\\\n",
    "$$\\sigma^2 = \\frac{1}{n}\\sum_{i=1}^n{(x_i - \\mu)}^2$$\n",
    "Trong đó:\n",
    "- $\\sigma$: độ lệch chuẩn\n",
    "- $\\sigma^2$: phương sai\n",
    "- $\\mu$: trung bình\n",
    "- $n$: số phần tử\n",
    "- $x_i$: phần tử thứ i"
   ]
  },
  {
   "cell_type": "code",
   "execution_count": null,
   "metadata": {},
   "outputs": [],
   "source": [
    "import numpy as np"
   ]
  },
  {
   "cell_type": "code",
   "execution_count": null,
   "metadata": {},
   "outputs": [],
   "source": [
    "np.random.seed(0)\n",
    "a = np.random.randint(1000, size=100)\n",
    "a"
   ]
  },
  {
   "cell_type": "code",
   "execution_count": null,
   "metadata": {},
   "outputs": [],
   "source": [
    "# độ lệch chuẩn\n",
    "a.std()"
   ]
  },
  {
   "cell_type": "code",
   "execution_count": null,
   "metadata": {},
   "outputs": [],
   "source": [
    "# phương sai\n",
    "a.var()"
   ]
  },
  {
   "cell_type": "markdown",
   "metadata": {},
   "source": [
    "Ý nghĩa: phương sai và độ lệch chuẩn thể hiện sự phân tán của dữ liệu so với trung bình. Độ lệch chuẩn càng lớn, dữ liệu càng phân bố xa trung bình."
   ]
  },
  {
   "cell_type": "code",
   "execution_count": null,
   "metadata": {},
   "outputs": [],
   "source": [
    "import matplotlib.pyplot as plt\n",
    "plt.style.use('ggplot')\n",
    "\n",
    "fig, ax = plt.subplots(ncols=2, sharex=True, figsize=(15,5))\n",
    "ax[0].hist(np.random.normal(loc=0, scale=50, size=100000), bins=100)\n",
    "ax[0].set_title('Độ lệch chuẩn 50')\n",
    "ax[1].hist(np.random.normal(loc=0, scale=10, size=100000), bins=100)\n",
    "ax[1].set_title('Độ lệch chuẩn 10')\n",
    "plt.show()"
   ]
  },
  {
   "cell_type": "markdown",
   "metadata": {},
   "source": [
    "**Tình huống 8:** Viết lại công thức tính phương sai thông qua các đại lượng cơ bản như tổng hoặc trung bình.\n",
    "$$\\sigma^2 = \\frac{1}{n}\\sum_{i=1}^n{(x_i - \\mu)}^2$$"
   ]
  },
  {
   "cell_type": "markdown",
   "metadata": {},
   "source": [
    "### 3.3. Tứ phân vị (Quartile)\n",
    "3 điểm tứ phân vị $Q_1$, $Q_2$, $Q_3$ chia tập số liệu thành 4 phần có xác suất bằng nhau. Giá trị $Q_2$ chính là trung vị (median) - giá trị chia tập số liệu thành 2 phần bằng nhau."
   ]
  },
  {
   "cell_type": "code",
   "execution_count": null,
   "metadata": {},
   "outputs": [],
   "source": [
    "import numpy as np"
   ]
  },
  {
   "cell_type": "code",
   "execution_count": null,
   "metadata": {},
   "outputs": [],
   "source": [
    "np.random.seed(0)\n",
    "a = np.random.randint(1000, size=100)\n",
    "a"
   ]
  },
  {
   "cell_type": "code",
   "execution_count": null,
   "metadata": {},
   "outputs": [],
   "source": [
    "# trung vị\n",
    "np.median(a)"
   ]
  },
  {
   "cell_type": "markdown",
   "metadata": {},
   "source": [
    "Để xác định các điểm tứ phân vị, ta dùng hàm `numpy.quantile()`."
   ]
  },
  {
   "cell_type": "code",
   "execution_count": null,
   "metadata": {},
   "outputs": [],
   "source": [
    "np.quantile(a, (0.25, 0.5, 0.75))"
   ]
  },
  {
   "cell_type": "markdown",
   "metadata": {},
   "source": [
    "Sử dụng kỹ thuật unpacking để \"giải nén\" ra các giá trị $Q_1$, $Q_2$, $Q_3$."
   ]
  },
  {
   "cell_type": "code",
   "execution_count": null,
   "metadata": {},
   "outputs": [],
   "source": [
    "Q1, Q2, Q3 = np.quantile(a, (0.25, 0.5, 0.75))"
   ]
  },
  {
   "cell_type": "markdown",
   "metadata": {},
   "source": [
    "**Tình huống 9:** Dùng Numpy chứng minh 4 khoảng tứ phân vị chứa số lượng phần tử bằng nhau."
   ]
  },
  {
   "cell_type": "markdown",
   "metadata": {},
   "source": [
    "Trực quan hóa các điểm tứ phân vị bằng biểu đồ hộp (box plot)."
   ]
  },
  {
   "cell_type": "code",
   "execution_count": null,
   "metadata": {},
   "outputs": [],
   "source": [
    "import matplotlib.pyplot as plt\n",
    "import seaborn as sns\n",
    "plt.style.use('ggplot')\n",
    "\n",
    "sample = np.random.normal(loc=0, scale=1, size=100000)\n",
    "Q1, Q2, Q3 = np.quantile(sample, (0.25, 0.5, 0.75))\n",
    "\n",
    "fig, ax = plt.subplots(nrows=2, sharex=True, figsize=(10,10))\n",
    "ax[0].hist(sample, bins=100)\n",
    "ax[0].plot([Q1]*4000, np.arange(4000), color='k')\n",
    "ax[0].plot([Q2]*4000, np.arange(4000), color='k')\n",
    "ax[0].plot([Q3]*4000, np.arange(4000), color='k')\n",
    "ax[0].set_title('Histogram')\n",
    "sns.boxplot(sample, ax=ax[1])\n",
    "ax[1].set_title('Box plot')\n",
    "plt.show()"
   ]
  },
  {
   "cell_type": "markdown",
   "metadata": {},
   "source": [
    "## Giải đáp tình huống"
   ]
  },
  {
   "cell_type": "markdown",
   "metadata": {},
   "source": [
    "**Tình huống 1:** Tạo ra dãy số nguyên nằm trong khoảng $[a,b]$ bất kỳ."
   ]
  },
  {
   "cell_type": "code",
   "execution_count": null,
   "metadata": {},
   "outputs": [],
   "source": [
    "import numpy as np\n",
    "a, b = -2.5, 6.5\n",
    "lower = np.ceil(a)\n",
    "upper = np.floor(b) + 1\n",
    "np.arange(lower, upper)"
   ]
  },
  {
   "cell_type": "markdown",
   "metadata": {},
   "source": [
    "**Tình huống 2:** Giải thích kết quả 3 phép nhân array sau.\n",
    "- TH1: Tất cả phần tử đều nhân với 7\n",
    "- TH2: Mỗi vector nhỏ `[1, 1, 1]` được nhân với vector `[2, 3, 4]`\n",
    "- TH3: Mỗi vector nhỏ `[1, 1, 1]` nhân lần lượt với `[2]`, `[3]` và `[4]`"
   ]
  },
  {
   "cell_type": "code",
   "execution_count": null,
   "metadata": {},
   "outputs": [],
   "source": [
    "a = np.array([[1, 1, 1],\n",
    "              [1, 1, 1],\n",
    "              [1, 1, 1]])\n",
    "b = np.array(7)\n",
    "a * b"
   ]
  },
  {
   "cell_type": "code",
   "execution_count": null,
   "metadata": {},
   "outputs": [],
   "source": [
    "a = np.array([[1, 1, 1],\n",
    "              [1, 1, 1],\n",
    "              [1, 1, 1]])\n",
    "b = np.array([2, 3, 4])\n",
    "a * b"
   ]
  },
  {
   "cell_type": "code",
   "execution_count": null,
   "metadata": {},
   "outputs": [],
   "source": [
    "a = np.array([[1, 1, 1],\n",
    "              [1, 1, 1],\n",
    "              [1, 1, 1]])\n",
    "b = np.array([[2], [3], [4]])\n",
    "a * b"
   ]
  },
  {
   "cell_type": "markdown",
   "metadata": {},
   "source": [
    "**Tình huống 3:** Tạo ra các số thực ngẫu nhiên trong nửa khoảng `[a; b)`."
   ]
  },
  {
   "cell_type": "code",
   "execution_count": null,
   "metadata": {},
   "outputs": [],
   "source": [
    "import numpy as np\n",
    "a = 10\n",
    "b = 100\n",
    "(b-a) * np.random.random(size=20) + a"
   ]
  },
  {
   "cell_type": "markdown",
   "metadata": {},
   "source": [
    "**Tình huống 4:** Sử dụng Numpy, kiểm tra:\n",
    "- Số phần tử thuộc tính `shape` trả về có bằng giá trị `ndim` hay không?\n",
    "- Kích thước array có bằng tích độ dài tất cả các chiều hay không?"
   ]
  },
  {
   "cell_type": "code",
   "execution_count": null,
   "metadata": {},
   "outputs": [],
   "source": [
    "import numpy as np\n",
    "a = np.array(\n",
    "    [[ 1,  2,  3,  4,  5,  6],\n",
    "     [ 7,  8,  9, 10, 11, 12],\n",
    "     [13, 14, 15, 16, 17, 18],\n",
    "     [19, 20, 21, 22, 23, 24]]\n",
    ")"
   ]
  },
  {
   "cell_type": "code",
   "execution_count": null,
   "metadata": {},
   "outputs": [],
   "source": [
    "len(a.shape) == a.ndim"
   ]
  },
  {
   "cell_type": "code",
   "execution_count": null,
   "metadata": {},
   "outputs": [],
   "source": [
    "a.size == np.product(a.shape)"
   ]
  },
  {
   "cell_type": "markdown",
   "metadata": {},
   "source": [
    "**Tình huống 5:** Tạo vector chứa các số tự nhiên từ 10 đến 99. Sau đó loại bỏ 10 số đầu tiên và 15 số cuối cùng."
   ]
  },
  {
   "cell_type": "code",
   "execution_count": null,
   "metadata": {},
   "outputs": [],
   "source": [
    "import numpy as np\n",
    "a = np.arange(10, 100)\n",
    "a[10:-15]"
   ]
  },
  {
   "cell_type": "markdown",
   "metadata": {},
   "source": [
    "**Tình huống 6:** Sử dụng `np.zeros()` để tạo ra 1 ma trận 5x5 chứa các số 0 bao ngoài và số 1 nằm bên trong."
   ]
  },
  {
   "cell_type": "code",
   "execution_count": null,
   "metadata": {},
   "outputs": [],
   "source": [
    "import numpy as np\n",
    "a = np.zeros((5,5), dtype=int)\n",
    "a[1:-1, 1:-1] = 1\n",
    "a"
   ]
  },
  {
   "cell_type": "markdown",
   "metadata": {},
   "source": [
    "**Tình huống 7:** Tạo ra 1 vector có độ dài là 100, chứa các số nguyên ngẫu nhiên từ 0 đến 9. Hãy đổi dấu (dương thành âm) các số lớn hơn 3 và nhỏ hơn 8."
   ]
  },
  {
   "cell_type": "code",
   "execution_count": null,
   "metadata": {},
   "outputs": [],
   "source": [
    "import numpy as np\n",
    "np.random.seed(0)\n",
    "x = np.random.randint(0, 9, size=100)\n",
    "x[(x>3) & (x<8)] *= -1\n",
    "x"
   ]
  },
  {
   "cell_type": "markdown",
   "metadata": {},
   "source": [
    "**Tình huống 8:** Viết lại công thức tính phương sai thông qua các đại lượng cơ bản như tổng hoặc trung bình.\n",
    "$$\\sigma^2 = \\frac{1}{n}\\sum_{i=1}^n{(x_i - \\mu)}^2$$"
   ]
  },
  {
   "cell_type": "code",
   "execution_count": null,
   "metadata": {},
   "outputs": [],
   "source": [
    "np.random.seed(0)\n",
    "x = np.random.randint(1000, size=100)\n",
    "\n",
    "variance = ((x - x.mean())**2).mean()\n",
    "variance"
   ]
  },
  {
   "cell_type": "markdown",
   "metadata": {},
   "source": [
    "**Tình huống 9:** Dùng Numpy chứng minh 4 khoảng tứ phân vị chứa số lượng phần tử bằng nhau."
   ]
  },
  {
   "cell_type": "code",
   "execution_count": null,
   "metadata": {},
   "outputs": [],
   "source": [
    "import numpy as np\n",
    "np.random.seed(0)\n",
    "x = np.random.randint(1000, size=100)\n",
    "Q1, Q2, Q3 = np.quantile(a, (0.25, 0.5, 0.75))"
   ]
  },
  {
   "cell_type": "code",
   "execution_count": null,
   "metadata": {},
   "outputs": [],
   "source": [
    "# khoảng thứ nhất: từ min đến Q1\n",
    "x[x < Q1].shape"
   ]
  },
  {
   "cell_type": "code",
   "execution_count": null,
   "metadata": {},
   "outputs": [],
   "source": [
    "# khoảng thứ hai: từ Q1 đến Q2\n",
    "x[(Q1 < x) & (x < Q2)].shape"
   ]
  },
  {
   "cell_type": "code",
   "execution_count": null,
   "metadata": {},
   "outputs": [],
   "source": [
    "# khoảng thứ ba: từ Q2 đến Q3\n",
    "x[(Q2 < x) & (x < Q3)].shape"
   ]
  },
  {
   "cell_type": "code",
   "execution_count": null,
   "metadata": {},
   "outputs": [],
   "source": [
    "# khoảng thứ tư: từ Q3 đến max\n",
    "x[x > Q3].shape"
   ]
  },
  {
   "cell_type": "code",
   "execution_count": null,
   "metadata": {},
   "outputs": [],
   "source": []
  }
 ],
 "metadata": {
  "colab": {
   "name": "lecture6.ipynb",
   "provenance": [],
   "version": "0.3.2"
  },
  "kernelspec": {
   "display_name": "Python 3",
   "language": "python",
   "name": "python3"
  },
  "language_info": {
   "codemirror_mode": {
    "name": "ipython",
    "version": 3
   },
   "file_extension": ".py",
   "mimetype": "text/x-python",
   "name": "python",
   "nbconvert_exporter": "python",
   "pygments_lexer": "ipython3",
   "version": "3.8.5"
  }
 },
 "nbformat": 4,
 "nbformat_minor": 4
}
