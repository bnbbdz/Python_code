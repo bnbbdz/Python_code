{
 "cells": [
  {
   "cell_type": "code",
   "execution_count": null,
   "metadata": {},
   "outputs": [],
   "source": [
    "# BÀI 1: GIỚI THIỆU\n",
    "**[Website chính thức của Python](https://docs.python.org/3.7/)**"
   ]
  },
  {
   "cell_type": "code",
   "execution_count": null,
   "metadata": {},
   "outputs": [],
   "source": [
    "## 1. Các khái niệm cơ bản"
   ]
  },
  {
   "cell_type": "markdown",
   "metadata": {},
   "source": [
    "### 1.1. Chương trình \"Hello world!\"\n",
    "Viết một chương trình hiển thị dòng chữ \"Hello world!\"."
   ]
  },
  {
   "cell_type": "code",
   "execution_count": 2,
   "metadata": {
    "scrolled": true
   },
   "outputs": [
    {
     "name": "stdout",
     "output_type": "stream",
     "text": [
      "Hello World!\n"
     ]
    }
   ],
   "source": [
    "print(\"Hello World!\")"
   ]
  },
  {
   "cell_type": "markdown",
   "metadata": {},
   "source": [
    "`print()` là một **hàm** (function) của Python. Lệnh `?` được dùng để hiển thị phần hướng dẫn của hàm đó (docstring)."
   ]
  },
  {
   "cell_type": "code",
   "execution_count": 3,
   "metadata": {},
   "outputs": [],
   "source": [
    "print?"
   ]
  },
  {
   "cell_type": "code",
   "execution_count": 4,
   "metadata": {},
   "outputs": [
    {
     "name": "stdout",
     "output_type": "stream",
     "text": [
      "1-2-3*"
     ]
    }
   ],
   "source": [
    "print(1, 2, 3, sep='-', end='*')"
   ]
  },
  {
   "cell_type": "markdown",
   "metadata": {},
   "source": [
    "`sep` và `end` là các **tham số** (parameter) của hàm `print()`. Các **đối số** (argument) `'*'` và `'-'` lần lượt là các giá trị thực tế của tham số."
   ]
  },
  {
   "cell_type": "markdown",
   "metadata": {},
   "source": [
    "**Tình huống 1:** Vì sao khi ghi tham số `end`, kết quả in không xuống dòng?"
   ]
  },
  {
   "cell_type": "code",
   "execution_count": 5,
   "metadata": {},
   "outputs": [
    {
     "name": "stdout",
     "output_type": "stream",
     "text": [
      "abcd\n",
      "1234\n"
     ]
    }
   ],
   "source": [
    "print('abcd')\n",
    "print('1234')"
   ]
  },
  {
   "cell_type": "code",
   "execution_count": 6,
   "metadata": {},
   "outputs": [
    {
     "name": "stdout",
     "output_type": "stream",
     "text": [
      "abcd1234"
     ]
    }
   ],
   "source": [
    "print('abc', end='d')\n",
    "print('123', end='4')"
   ]
  },
  {
   "cell_type": "markdown",
   "metadata": {},
   "source": [
    "**Tình huống 2:** Làm thế nào để in ra nhiều dòng, chỉ dùng một hàm `print()`?"
   ]
  },
  {
   "cell_type": "code",
   "execution_count": 8,
   "metadata": {},
   "outputs": [
    {
     "name": "stdout",
     "output_type": "stream",
     "text": [
      "1\n",
      "2\n",
      "3\n"
     ]
    }
   ],
   "source": [
    "print('1', '2', '3', sep='\\n')"
   ]
  },
  {
   "cell_type": "markdown",
   "metadata": {},
   "source": [
    "### 1.2. Chú thích\n",
    "Một dòng chú thích (comment) bắt đầu bằng dấu thăng `#`. Chúng chỉ mang tính chất giải thích và không được thực hiện.  \n",
    "Dùng tổ hợp phím `Ctrl` + `/` để comment một dòng.\n",
    "\n",
    "Tác dụng của chú thích:\n",
    "- Giải thích quá trình suy nghĩ\n",
    "- Một số dòng code sẽ được thực hiện sau"
   ]
  },
  {
   "cell_type": "code",
   "execution_count": 9,
   "metadata": {},
   "outputs": [
    {
     "name": "stdout",
     "output_type": "stream",
     "text": [
      "Hello world!\n"
     ]
    }
   ],
   "source": [
    "print(\"Hello world!\")\n",
    "# dòng này không được thực thi"
   ]
  },
  {
   "cell_type": "code",
   "execution_count": 10,
   "metadata": {
    "scrolled": true
   },
   "outputs": [
    {
     "name": "stdout",
     "output_type": "stream",
     "text": [
      "1\n",
      "2\n"
     ]
    }
   ],
   "source": [
    "print(1); print(2) # viết nhiều câu lệnh trên cùng một dòng"
   ]
  },
  {
   "cell_type": "code",
   "execution_count": 11,
   "metadata": {},
   "outputs": [
    {
     "name": "stdout",
     "output_type": "stream",
     "text": [
      "Hello world!\n"
     ]
    }
   ],
   "source": [
    "# viết một câu code trên nhiều dòng\n",
    "print('Hello \\\n",
    "world!')"
   ]
  },
  {
   "cell_type": "markdown",
   "metadata": {},
   "source": [
    "## 2. Biến và đối tượng"
   ]
  },
  {
   "cell_type": "markdown",
   "metadata": {},
   "source": [
    "Tạo ra một số **đối tượng** (object) cơ bản."
   ]
  },
  {
   "cell_type": "code",
   "execution_count": 12,
   "metadata": {},
   "outputs": [
    {
     "data": {
      "text/plain": [
       "100"
      ]
     },
     "execution_count": 12,
     "metadata": {},
     "output_type": "execute_result"
    }
   ],
   "source": [
    "100"
   ]
  },
  {
   "cell_type": "code",
   "execution_count": 13,
   "metadata": {},
   "outputs": [
    {
     "data": {
      "text/plain": [
       "'python'"
      ]
     },
     "execution_count": 13,
     "metadata": {},
     "output_type": "execute_result"
    }
   ],
   "source": [
    "'python'"
   ]
  },
  {
   "cell_type": "markdown",
   "metadata": {},
   "source": [
    "Mỗi đối tượng mang một kiểu dữ liệu (data type) cụ thể. Dùng hàm `type()` để kiểm tra xem đối tượng mang kiểu dữ liệu nào."
   ]
  },
  {
   "cell_type": "code",
   "execution_count": 14,
   "metadata": {},
   "outputs": [
    {
     "data": {
      "text/plain": [
       "int"
      ]
     },
     "execution_count": 14,
     "metadata": {},
     "output_type": "execute_result"
    }
   ],
   "source": [
    "type(100)"
   ]
  },
  {
   "cell_type": "code",
   "execution_count": 15,
   "metadata": {},
   "outputs": [
    {
     "data": {
      "text/plain": [
       "str"
      ]
     },
     "execution_count": 15,
     "metadata": {},
     "output_type": "execute_result"
    }
   ],
   "source": [
    "type('python')"
   ]
  },
  {
   "cell_type": "markdown",
   "metadata": {},
   "source": [
    "Sử dụng dấu bằng `=` để gán giá trị của đối tượng cho một **biến** (variable). Biến giống như tên gọi của đối tượng."
   ]
  },
  {
   "cell_type": "code",
   "execution_count": 16,
   "metadata": {},
   "outputs": [],
   "source": [
    "a = 14\n",
    "b = 'Vietnam'"
   ]
  },
  {
   "cell_type": "code",
   "execution_count": 17,
   "metadata": {},
   "outputs": [
    {
     "name": "stdout",
     "output_type": "stream",
     "text": [
      "14\n",
      "Vietnam\n"
     ]
    }
   ],
   "source": [
    "print(a)\n",
    "print(b)"
   ]
  },
  {
   "cell_type": "markdown",
   "metadata": {},
   "source": [
    "Các biến không nhất thiết phải có giá trị hay kiểu dữ liệu cố định. Có thể gán giá trị mới cho biến bất cứ lúc nào."
   ]
  },
  {
   "cell_type": "code",
   "execution_count": 18,
   "metadata": {},
   "outputs": [
    {
     "data": {
      "text/plain": [
       "50"
      ]
     },
     "execution_count": 18,
     "metadata": {},
     "output_type": "execute_result"
    }
   ],
   "source": [
    "a = 9\n",
    "a = 50\n",
    "a"
   ]
  },
  {
   "cell_type": "markdown",
   "metadata": {},
   "source": [
    "Ngoài ra còn nhiều cách khác để gán giá trị cho biến. Python sẽ thực hiện phần bên phải dấu bằng trước rồi gán kết quả cho biến."
   ]
  },
  {
   "cell_type": "code",
   "execution_count": 19,
   "metadata": {},
   "outputs": [
    {
     "name": "stdout",
     "output_type": "stream",
     "text": [
      "7\n",
      "7\n"
     ]
    }
   ],
   "source": [
    "a = 7\n",
    "b = a\n",
    "print(a)\n",
    "print(b)"
   ]
  },
  {
   "cell_type": "code",
   "execution_count": 20,
   "metadata": {},
   "outputs": [
    {
     "data": {
      "text/plain": [
       "9"
      ]
     },
     "execution_count": 20,
     "metadata": {},
     "output_type": "execute_result"
    }
   ],
   "source": [
    "a = 7\n",
    "a = a + 2\n",
    "a"
   ]
  },
  {
   "cell_type": "markdown",
   "metadata": {},
   "source": [
    "## 3. Các loại dấu\n",
    "[Documentation](https://docs.python.org/3/library/operator.html#mapping-operators-to-functions)"
   ]
  },
  {
   "cell_type": "markdown",
   "metadata": {},
   "source": [
    "### 3.1. Dấu toán học"
   ]
  },
  {
   "cell_type": "code",
   "execution_count": 21,
   "metadata": {},
   "outputs": [
    {
     "data": {
      "text/plain": [
       "655"
      ]
     },
     "execution_count": 21,
     "metadata": {},
     "output_type": "execute_result"
    }
   ],
   "source": [
    "# phép cộng\n",
    "123 + 532"
   ]
  },
  {
   "cell_type": "code",
   "execution_count": 22,
   "metadata": {},
   "outputs": [
    {
     "data": {
      "text/plain": [
       "412"
      ]
     },
     "execution_count": 22,
     "metadata": {},
     "output_type": "execute_result"
    }
   ],
   "source": [
    "# phép trừ\n",
    "555 - 143"
   ]
  },
  {
   "cell_type": "code",
   "execution_count": 23,
   "metadata": {},
   "outputs": [
    {
     "data": {
      "text/plain": [
       "116064"
      ]
     },
     "execution_count": 23,
     "metadata": {},
     "output_type": "execute_result"
    }
   ],
   "source": [
    "# phép nhân\n",
    "124 * 936"
   ]
  },
  {
   "cell_type": "code",
   "execution_count": 24,
   "metadata": {},
   "outputs": [
    {
     "data": {
      "text/plain": [
       "4.0"
      ]
     },
     "execution_count": 24,
     "metadata": {},
     "output_type": "execute_result"
    }
   ],
   "source": [
    "# phép chia\n",
    "48 / 12"
   ]
  },
  {
   "cell_type": "code",
   "execution_count": 25,
   "metadata": {},
   "outputs": [
    {
     "ename": "ZeroDivisionError",
     "evalue": "division by zero",
     "output_type": "error",
     "traceback": [
      "\u001b[1;31m---------------------------------------------------------------------------\u001b[0m",
      "\u001b[1;31mZeroDivisionError\u001b[0m                         Traceback (most recent call last)",
      "\u001b[1;32m<ipython-input-25-cbb615da522a>\u001b[0m in \u001b[0;36m<module>\u001b[1;34m\u001b[0m\n\u001b[0;32m      1\u001b[0m \u001b[1;31m# lỗi\u001b[0m\u001b[1;33m\u001b[0m\u001b[1;33m\u001b[0m\u001b[1;33m\u001b[0m\u001b[0m\n\u001b[1;32m----> 2\u001b[1;33m \u001b[1;36m5\u001b[0m \u001b[1;33m/\u001b[0m \u001b[1;36m0\u001b[0m\u001b[1;33m\u001b[0m\u001b[1;33m\u001b[0m\u001b[0m\n\u001b[0m",
      "\u001b[1;31mZeroDivisionError\u001b[0m: division by zero"
     ]
    }
   ],
   "source": [
    "# lỗi\n",
    "5 / 0"
   ]
  },
  {
   "cell_type": "markdown",
   "metadata": {},
   "source": [
    "**Chú ý:** Phân tích lỗi thông qua việc tìm nguyên nhân gây ra lỗi và dòng nào bị lỗi."
   ]
  },
  {
   "cell_type": "code",
   "execution_count": 27,
   "metadata": {},
   "outputs": [
    {
     "data": {
      "text/plain": [
       "1"
      ]
     },
     "execution_count": 27,
     "metadata": {},
     "output_type": "execute_result"
    }
   ],
   "source": [
    "# số dư của phép chia\n",
    "16 % 5"
   ]
  },
  {
   "cell_type": "code",
   "execution_count": 26,
   "metadata": {},
   "outputs": [
    {
     "data": {
      "text/plain": [
       "3"
      ]
     },
     "execution_count": 26,
     "metadata": {},
     "output_type": "execute_result"
    }
   ],
   "source": [
    "# thương của phép chia có dư\n",
    "16 // 5"
   ]
  },
  {
   "cell_type": "code",
   "execution_count": 28,
   "metadata": {},
   "outputs": [
    {
     "data": {
      "text/plain": [
       "32"
      ]
     },
     "execution_count": 28,
     "metadata": {},
     "output_type": "execute_result"
    }
   ],
   "source": [
    "# phép lũy thừa\n",
    "2 ** 5"
   ]
  },
  {
   "cell_type": "markdown",
   "metadata": {},
   "source": [
    "### 3.2. Dấu gán\n",
    "Gán giá trị của một đối tượng cho một biến."
   ]
  },
  {
   "cell_type": "code",
   "execution_count": 29,
   "metadata": {},
   "outputs": [],
   "source": [
    "x = 7"
   ]
  },
  {
   "cell_type": "code",
   "execution_count": 30,
   "metadata": {},
   "outputs": [
    {
     "data": {
      "text/plain": [
       "10"
      ]
     },
     "execution_count": 30,
     "metadata": {},
     "output_type": "execute_result"
    }
   ],
   "source": [
    "x = 7\n",
    "x += 3\n",
    "x"
   ]
  },
  {
   "cell_type": "code",
   "execution_count": null,
   "metadata": {},
   "outputs": [],
   "source": [
    "x = 7\n",
    "x = x + 3"
   ]
  },
  {
   "cell_type": "code",
   "execution_count": 31,
   "metadata": {},
   "outputs": [
    {
     "data": {
      "text/plain": [
       "2"
      ]
     },
     "execution_count": 31,
     "metadata": {},
     "output_type": "execute_result"
    }
   ],
   "source": [
    "x = 10\n",
    "x -= 8\n",
    "x"
   ]
  },
  {
   "cell_type": "code",
   "execution_count": null,
   "metadata": {},
   "outputs": [],
   "source": [
    "x = 10\n",
    "x = x - 8\n",
    "x"
   ]
  },
  {
   "cell_type": "code",
   "execution_count": 32,
   "metadata": {},
   "outputs": [
    {
     "data": {
      "text/plain": [
       "20"
      ]
     },
     "execution_count": 32,
     "metadata": {},
     "output_type": "execute_result"
    }
   ],
   "source": [
    "x = 5\n",
    "x *= 4\n",
    "x"
   ]
  },
  {
   "cell_type": "code",
   "execution_count": 33,
   "metadata": {},
   "outputs": [
    {
     "data": {
      "text/plain": [
       "12.0"
      ]
     },
     "execution_count": 33,
     "metadata": {},
     "output_type": "execute_result"
    }
   ],
   "source": [
    "x = 60\n",
    "x /= 5\n",
    "x"
   ]
  },
  {
   "cell_type": "markdown",
   "metadata": {},
   "source": [
    "Python cho phép gán giá trị cho nhiều biến một lúc."
   ]
  },
  {
   "cell_type": "code",
   "execution_count": 34,
   "metadata": {},
   "outputs": [
    {
     "name": "stdout",
     "output_type": "stream",
     "text": [
      "3 8 1\n"
     ]
    }
   ],
   "source": [
    "x, y, z = 3, 8, 1\n",
    "print(x, y, z)"
   ]
  },
  {
   "cell_type": "markdown",
   "metadata": {},
   "source": [
    "**Tình huống 3:** Cho a = 4, b = 7. Sử dụng 1 phép gán, hoán đổi giá trị của a và b."
   ]
  },
  {
   "cell_type": "code",
   "execution_count": 35,
   "metadata": {},
   "outputs": [
    {
     "name": "stdout",
     "output_type": "stream",
     "text": [
      "7\n",
      "4\n"
     ]
    }
   ],
   "source": [
    "a = 4\n",
    "b = 7\n",
    "tmp = a\n",
    "a = b\n",
    "b = tmp\n",
    "\n",
    "print(a)\n",
    "print(b)"
   ]
  },
  {
   "cell_type": "code",
   "execution_count": 36,
   "metadata": {},
   "outputs": [
    {
     "name": "stdout",
     "output_type": "stream",
     "text": [
      "7\n",
      "4\n"
     ]
    }
   ],
   "source": [
    "a = 4\n",
    "b = 7\n",
    "a, b = b, a\n",
    "print(a)\n",
    "print(b)"
   ]
  },
  {
   "cell_type": "markdown",
   "metadata": {},
   "source": [
    "### 3.3. Dấu so sánh\n",
    "So sánh giá trị của hai đối tượng, trả về kết quả `True` hoặc `False`."
   ]
  },
  {
   "cell_type": "code",
   "execution_count": 37,
   "metadata": {},
   "outputs": [
    {
     "data": {
      "text/plain": [
       "True"
      ]
     },
     "execution_count": 37,
     "metadata": {},
     "output_type": "execute_result"
    }
   ],
   "source": [
    "7 == 7"
   ]
  },
  {
   "cell_type": "code",
   "execution_count": 38,
   "metadata": {},
   "outputs": [
    {
     "data": {
      "text/plain": [
       "True"
      ]
     },
     "execution_count": 38,
     "metadata": {},
     "output_type": "execute_result"
    }
   ],
   "source": [
    "'a' != 'A'"
   ]
  },
  {
   "cell_type": "code",
   "execution_count": 39,
   "metadata": {},
   "outputs": [
    {
     "data": {
      "text/plain": [
       "True"
      ]
     },
     "execution_count": 39,
     "metadata": {},
     "output_type": "execute_result"
    }
   ],
   "source": [
    "7 > 4"
   ]
  },
  {
   "cell_type": "code",
   "execution_count": 40,
   "metadata": {},
   "outputs": [
    {
     "data": {
      "text/plain": [
       "True"
      ]
     },
     "execution_count": 40,
     "metadata": {},
     "output_type": "execute_result"
    }
   ],
   "source": [
    "0 < 4"
   ]
  },
  {
   "cell_type": "code",
   "execution_count": 41,
   "metadata": {},
   "outputs": [
    {
     "data": {
      "text/plain": [
       "True"
      ]
     },
     "execution_count": 41,
     "metadata": {},
     "output_type": "execute_result"
    }
   ],
   "source": [
    "5 >= 3"
   ]
  },
  {
   "cell_type": "code",
   "execution_count": 42,
   "metadata": {},
   "outputs": [
    {
     "data": {
      "text/plain": [
       "True"
      ]
     },
     "execution_count": 42,
     "metadata": {},
     "output_type": "execute_result"
    }
   ],
   "source": [
    "10 <= 10"
   ]
  },
  {
   "cell_type": "markdown",
   "metadata": {},
   "source": [
    "## 4. Thư viện\n",
    "Thư viện (library, module hay package) là một file có đuôi là `.py` chứa các hàm và đối tượng dùng cho một mục đích cụ thể."
   ]
  },
  {
   "cell_type": "markdown",
   "metadata": {},
   "source": [
    "### 4.1. Truy cập thư viện\n",
    "Có 2 cách import một thư viện. Dưới đây là các ví dụ truy cập hằng số `pi` và hàm `degrees()` của thư viện `math`."
   ]
  },
  {
   "cell_type": "markdown",
   "metadata": {},
   "source": [
    "**Cách 1:** Import toàn bộ thư viện `math`."
   ]
  },
  {
   "cell_type": "code",
   "execution_count": 43,
   "metadata": {},
   "outputs": [
    {
     "data": {
      "text/plain": [
       "180.0"
      ]
     },
     "execution_count": 43,
     "metadata": {},
     "output_type": "execute_result"
    }
   ],
   "source": [
    "import math\n",
    "math.degrees(math.pi)"
   ]
  },
  {
   "cell_type": "code",
   "execution_count": 47,
   "metadata": {},
   "outputs": [
    {
     "data": {
      "text/plain": [
       "2.718281828459045"
      ]
     },
     "execution_count": 47,
     "metadata": {},
     "output_type": "execute_result"
    }
   ],
   "source": [
    "math.e"
   ]
  },
  {
   "cell_type": "markdown",
   "metadata": {},
   "source": [
    "**Cách 2:** Import thư viện `math` dưới tên gọi `m`."
   ]
  },
  {
   "cell_type": "code",
   "execution_count": 44,
   "metadata": {},
   "outputs": [
    {
     "data": {
      "text/plain": [
       "180.0"
      ]
     },
     "execution_count": 44,
     "metadata": {},
     "output_type": "execute_result"
    }
   ],
   "source": [
    "import math as m\n",
    "m.degrees(m.pi)"
   ]
  },
  {
   "cell_type": "markdown",
   "metadata": {},
   "source": [
    "**Cách 3:** Import các hàm và hằng số cụ thể."
   ]
  },
  {
   "cell_type": "code",
   "execution_count": 45,
   "metadata": {
    "scrolled": true
   },
   "outputs": [
    {
     "data": {
      "text/plain": [
       "180.0"
      ]
     },
     "execution_count": 45,
     "metadata": {},
     "output_type": "execute_result"
    }
   ],
   "source": [
    "from math import pi, degrees\n",
    "degrees(pi)"
   ]
  },
  {
   "cell_type": "code",
   "execution_count": 46,
   "metadata": {},
   "outputs": [
    {
     "data": {
      "text/plain": [
       "2.718281828459045"
      ]
     },
     "execution_count": 46,
     "metadata": {},
     "output_type": "execute_result"
    }
   ],
   "source": [
    "from math import e\n",
    "e"
   ]
  },
  {
   "cell_type": "markdown",
   "metadata": {},
   "source": [
    "**Trợ giúp sử dụng thư viện**"
   ]
  },
  {
   "cell_type": "code",
   "execution_count": 48,
   "metadata": {
    "collapsed": true
   },
   "outputs": [
    {
     "data": {
      "text/plain": [
       "['__doc__',\n",
       " '__loader__',\n",
       " '__name__',\n",
       " '__package__',\n",
       " '__spec__',\n",
       " 'acos',\n",
       " 'acosh',\n",
       " 'asin',\n",
       " 'asinh',\n",
       " 'atan',\n",
       " 'atan2',\n",
       " 'atanh',\n",
       " 'ceil',\n",
       " 'copysign',\n",
       " 'cos',\n",
       " 'cosh',\n",
       " 'degrees',\n",
       " 'e',\n",
       " 'erf',\n",
       " 'erfc',\n",
       " 'exp',\n",
       " 'expm1',\n",
       " 'fabs',\n",
       " 'factorial',\n",
       " 'floor',\n",
       " 'fmod',\n",
       " 'frexp',\n",
       " 'fsum',\n",
       " 'gamma',\n",
       " 'gcd',\n",
       " 'hypot',\n",
       " 'inf',\n",
       " 'isclose',\n",
       " 'isfinite',\n",
       " 'isinf',\n",
       " 'isnan',\n",
       " 'ldexp',\n",
       " 'lgamma',\n",
       " 'log',\n",
       " 'log10',\n",
       " 'log1p',\n",
       " 'log2',\n",
       " 'modf',\n",
       " 'nan',\n",
       " 'pi',\n",
       " 'pow',\n",
       " 'radians',\n",
       " 'remainder',\n",
       " 'sin',\n",
       " 'sinh',\n",
       " 'sqrt',\n",
       " 'tan',\n",
       " 'tanh',\n",
       " 'tau',\n",
       " 'trunc']"
      ]
     },
     "execution_count": 48,
     "metadata": {},
     "output_type": "execute_result"
    }
   ],
   "source": [
    "# hiển thị tất cả hàm và hằng số\n",
    "import math\n",
    "dir(math)"
   ]
  },
  {
   "cell_type": "code",
   "execution_count": 49,
   "metadata": {
    "collapsed": true
   },
   "outputs": [
    {
     "name": "stdout",
     "output_type": "stream",
     "text": [
      "Help on built-in module math:\n",
      "\n",
      "NAME\n",
      "    math\n",
      "\n",
      "DESCRIPTION\n",
      "    This module provides access to the mathematical functions\n",
      "    defined by the C standard.\n",
      "\n",
      "FUNCTIONS\n",
      "    acos(x, /)\n",
      "        Return the arc cosine (measured in radians) of x.\n",
      "    \n",
      "    acosh(x, /)\n",
      "        Return the inverse hyperbolic cosine of x.\n",
      "    \n",
      "    asin(x, /)\n",
      "        Return the arc sine (measured in radians) of x.\n",
      "    \n",
      "    asinh(x, /)\n",
      "        Return the inverse hyperbolic sine of x.\n",
      "    \n",
      "    atan(x, /)\n",
      "        Return the arc tangent (measured in radians) of x.\n",
      "    \n",
      "    atan2(y, x, /)\n",
      "        Return the arc tangent (measured in radians) of y/x.\n",
      "        \n",
      "        Unlike atan(y/x), the signs of both x and y are considered.\n",
      "    \n",
      "    atanh(x, /)\n",
      "        Return the inverse hyperbolic tangent of x.\n",
      "    \n",
      "    ceil(x, /)\n",
      "        Return the ceiling of x as an Integral.\n",
      "        \n",
      "        This is the smallest integer >= x.\n",
      "    \n",
      "    copysign(x, y, /)\n",
      "        Return a float with the magnitude (absolute value) of x but the sign of y.\n",
      "        \n",
      "        On platforms that support signed zeros, copysign(1.0, -0.0)\n",
      "        returns -1.0.\n",
      "    \n",
      "    cos(x, /)\n",
      "        Return the cosine of x (measured in radians).\n",
      "    \n",
      "    cosh(x, /)\n",
      "        Return the hyperbolic cosine of x.\n",
      "    \n",
      "    degrees(x, /)\n",
      "        Convert angle x from radians to degrees.\n",
      "    \n",
      "    erf(x, /)\n",
      "        Error function at x.\n",
      "    \n",
      "    erfc(x, /)\n",
      "        Complementary error function at x.\n",
      "    \n",
      "    exp(x, /)\n",
      "        Return e raised to the power of x.\n",
      "    \n",
      "    expm1(x, /)\n",
      "        Return exp(x)-1.\n",
      "        \n",
      "        This function avoids the loss of precision involved in the direct evaluation of exp(x)-1 for small x.\n",
      "    \n",
      "    fabs(x, /)\n",
      "        Return the absolute value of the float x.\n",
      "    \n",
      "    factorial(x, /)\n",
      "        Find x!.\n",
      "        \n",
      "        Raise a ValueError if x is negative or non-integral.\n",
      "    \n",
      "    floor(x, /)\n",
      "        Return the floor of x as an Integral.\n",
      "        \n",
      "        This is the largest integer <= x.\n",
      "    \n",
      "    fmod(x, y, /)\n",
      "        Return fmod(x, y), according to platform C.\n",
      "        \n",
      "        x % y may differ.\n",
      "    \n",
      "    frexp(x, /)\n",
      "        Return the mantissa and exponent of x, as pair (m, e).\n",
      "        \n",
      "        m is a float and e is an int, such that x = m * 2.**e.\n",
      "        If x is 0, m and e are both 0.  Else 0.5 <= abs(m) < 1.0.\n",
      "    \n",
      "    fsum(seq, /)\n",
      "        Return an accurate floating point sum of values in the iterable seq.\n",
      "        \n",
      "        Assumes IEEE-754 floating point arithmetic.\n",
      "    \n",
      "    gamma(x, /)\n",
      "        Gamma function at x.\n",
      "    \n",
      "    gcd(x, y, /)\n",
      "        greatest common divisor of x and y\n",
      "    \n",
      "    hypot(x, y, /)\n",
      "        Return the Euclidean distance, sqrt(x*x + y*y).\n",
      "    \n",
      "    isclose(a, b, *, rel_tol=1e-09, abs_tol=0.0)\n",
      "        Determine whether two floating point numbers are close in value.\n",
      "        \n",
      "          rel_tol\n",
      "            maximum difference for being considered \"close\", relative to the\n",
      "            magnitude of the input values\n",
      "          abs_tol\n",
      "            maximum difference for being considered \"close\", regardless of the\n",
      "            magnitude of the input values\n",
      "        \n",
      "        Return True if a is close in value to b, and False otherwise.\n",
      "        \n",
      "        For the values to be considered close, the difference between them\n",
      "        must be smaller than at least one of the tolerances.\n",
      "        \n",
      "        -inf, inf and NaN behave similarly to the IEEE 754 Standard.  That\n",
      "        is, NaN is not close to anything, even itself.  inf and -inf are\n",
      "        only close to themselves.\n",
      "    \n",
      "    isfinite(x, /)\n",
      "        Return True if x is neither an infinity nor a NaN, and False otherwise.\n",
      "    \n",
      "    isinf(x, /)\n",
      "        Return True if x is a positive or negative infinity, and False otherwise.\n",
      "    \n",
      "    isnan(x, /)\n",
      "        Return True if x is a NaN (not a number), and False otherwise.\n",
      "    \n",
      "    ldexp(x, i, /)\n",
      "        Return x * (2**i).\n",
      "        \n",
      "        This is essentially the inverse of frexp().\n",
      "    \n",
      "    lgamma(x, /)\n",
      "        Natural logarithm of absolute value of Gamma function at x.\n",
      "    \n",
      "    log(...)\n",
      "        log(x, [base=math.e])\n",
      "        Return the logarithm of x to the given base.\n",
      "        \n",
      "        If the base not specified, returns the natural logarithm (base e) of x.\n",
      "    \n",
      "    log10(x, /)\n",
      "        Return the base 10 logarithm of x.\n",
      "    \n",
      "    log1p(x, /)\n",
      "        Return the natural logarithm of 1+x (base e).\n",
      "        \n",
      "        The result is computed in a way which is accurate for x near zero.\n",
      "    \n",
      "    log2(x, /)\n",
      "        Return the base 2 logarithm of x.\n",
      "    \n",
      "    modf(x, /)\n",
      "        Return the fractional and integer parts of x.\n",
      "        \n",
      "        Both results carry the sign of x and are floats.\n",
      "    \n",
      "    pow(x, y, /)\n",
      "        Return x**y (x to the power of y).\n",
      "    \n",
      "    radians(x, /)\n",
      "        Convert angle x from degrees to radians.\n",
      "    \n",
      "    remainder(x, y, /)\n",
      "        Difference between x and the closest integer multiple of y.\n",
      "        \n",
      "        Return x - n*y where n*y is the closest integer multiple of y.\n",
      "        In the case where x is exactly halfway between two multiples of\n",
      "        y, the nearest even value of n is used. The result is always exact.\n",
      "    \n",
      "    sin(x, /)\n",
      "        Return the sine of x (measured in radians).\n",
      "    \n",
      "    sinh(x, /)\n",
      "        Return the hyperbolic sine of x.\n",
      "    \n",
      "    sqrt(x, /)\n",
      "        Return the square root of x.\n",
      "    \n",
      "    tan(x, /)\n",
      "        Return the tangent of x (measured in radians).\n",
      "    \n",
      "    tanh(x, /)\n",
      "        Return the hyperbolic tangent of x.\n",
      "    \n",
      "    trunc(x, /)\n",
      "        Truncates the Real x to the nearest Integral toward 0.\n",
      "        \n",
      "        Uses the __trunc__ magic method.\n",
      "\n",
      "DATA\n",
      "    e = 2.718281828459045\n",
      "    inf = inf\n",
      "    nan = nan\n",
      "    pi = 3.141592653589793\n",
      "    tau = 6.283185307179586\n",
      "\n",
      "FILE\n",
      "    (built-in)\n",
      "\n",
      "\n"
     ]
    }
   ],
   "source": [
    "# hướng dẫn sử dụng thư viện\n",
    "import math\n",
    "help(math)"
   ]
  },
  {
   "cell_type": "markdown",
   "metadata": {},
   "source": [
    "### 4.2. Cài đặt thư viện"
   ]
  },
  {
   "cell_type": "code",
   "execution_count": 50,
   "metadata": {},
   "outputs": [
    {
     "name": "stdout",
     "output_type": "stream",
     "text": [
      "Requirement already satisfied: pygame in c:\\anaconda\\lib\\site-packages (1.9.6)\n"
     ]
    }
   ],
   "source": [
    "# cài thư viện pygame để viết game\n",
    "!pip install pygame"
   ]
  },
  {
   "cell_type": "code",
   "execution_count": 51,
   "metadata": {
    "scrolled": true
   },
   "outputs": [
    {
     "name": "stdout",
     "output_type": "stream",
     "text": [
      "pygame 1.9.6\n",
      "Hello from the pygame community. https://www.pygame.org/contribute.html\n"
     ]
    }
   ],
   "source": [
    "import pygame"
   ]
  },
  {
   "cell_type": "code",
   "execution_count": 52,
   "metadata": {
    "collapsed": true
   },
   "outputs": [
    {
     "name": "stdout",
     "output_type": "stream",
     "text": [
      "Help on package pygame:\n",
      "\n",
      "NAME\n",
      "    pygame\n",
      "\n",
      "DESCRIPTION\n",
      "    Pygame is a set of Python modules designed for writing games.\n",
      "    It is written on top of the excellent SDL library. This allows you\n",
      "    to create fully featured games and multimedia programs in the python\n",
      "    language. The package is highly portable, with games running on\n",
      "    Windows, MacOS, OS X, BeOS, FreeBSD, IRIX, and Linux.\n",
      "\n",
      "PACKAGE CONTENTS\n",
      "    _camera_opencv_highgui\n",
      "    _camera_vidcapture\n",
      "    _dummybackend\n",
      "    _freetype\n",
      "    _numpysndarray\n",
      "    _numpysurfarray\n",
      "    base\n",
      "    bufferproxy\n",
      "    camera\n",
      "    cdrom\n",
      "    color\n",
      "    colordict\n",
      "    compat\n",
      "    constants\n",
      "    cursors\n",
      "    display\n",
      "    docs (package)\n",
      "    draw\n",
      "    draw_py\n",
      "    event\n",
      "    examples (package)\n",
      "    fastevent\n",
      "    font\n",
      "    freetype\n",
      "    ftfont\n",
      "    gfxdraw\n",
      "    image\n",
      "    imageext\n",
      "    joystick\n",
      "    key\n",
      "    locals\n",
      "    macosx\n",
      "    mask\n",
      "    math\n",
      "    midi\n",
      "    mixer\n",
      "    mixer_music\n",
      "    mouse\n",
      "    newbuffer\n",
      "    overlay\n",
      "    pixelarray\n",
      "    pixelcopy\n",
      "    pkgdata\n",
      "    pypm\n",
      "    rect\n",
      "    rwobject\n",
      "    scrap\n",
      "    sndarray\n",
      "    sprite\n",
      "    surface\n",
      "    surfarray\n",
      "    surflock\n",
      "    sysfont\n",
      "    tests (package)\n",
      "    threads (package)\n",
      "    time\n",
      "    transform\n",
      "    version\n",
      "\n",
      "CLASSES\n",
      "    builtins.BufferError(builtins.Exception)\n",
      "        BufferError\n",
      "    builtins.RuntimeError(builtins.Exception)\n",
      "        error\n",
      "    builtins.object\n",
      "        BufferProxy\n",
      "        Color\n",
      "        PixelArray\n",
      "        Rect\n",
      "        Surface\n",
      "        overlay\n",
      "    \n",
      "    class BufferError(builtins.BufferError)\n",
      "     |  Buffer error.\n",
      "     |  \n",
      "     |  Method resolution order:\n",
      "     |      BufferError\n",
      "     |      builtins.BufferError\n",
      "     |      builtins.Exception\n",
      "     |      builtins.BaseException\n",
      "     |      builtins.object\n",
      "     |  \n",
      "     |  Data descriptors defined here:\n",
      "     |  \n",
      "     |  __weakref__\n",
      "     |      list of weak references to the object (if defined)\n",
      "     |  \n",
      "     |  ----------------------------------------------------------------------\n",
      "     |  Methods inherited from builtins.BufferError:\n",
      "     |  \n",
      "     |  __init__(self, /, *args, **kwargs)\n",
      "     |      Initialize self.  See help(type(self)) for accurate signature.\n",
      "     |  \n",
      "     |  ----------------------------------------------------------------------\n",
      "     |  Static methods inherited from builtins.BufferError:\n",
      "     |  \n",
      "     |  __new__(*args, **kwargs) from builtins.type\n",
      "     |      Create and return a new object.  See help(type) for accurate signature.\n",
      "     |  \n",
      "     |  ----------------------------------------------------------------------\n",
      "     |  Methods inherited from builtins.BaseException:\n",
      "     |  \n",
      "     |  __delattr__(self, name, /)\n",
      "     |      Implement delattr(self, name).\n",
      "     |  \n",
      "     |  __getattribute__(self, name, /)\n",
      "     |      Return getattr(self, name).\n",
      "     |  \n",
      "     |  __reduce__(...)\n",
      "     |      Helper for pickle.\n",
      "     |  \n",
      "     |  __repr__(self, /)\n",
      "     |      Return repr(self).\n",
      "     |  \n",
      "     |  __setattr__(self, name, value, /)\n",
      "     |      Implement setattr(self, name, value).\n",
      "     |  \n",
      "     |  __setstate__(...)\n",
      "     |  \n",
      "     |  __str__(self, /)\n",
      "     |      Return str(self).\n",
      "     |  \n",
      "     |  with_traceback(...)\n",
      "     |      Exception.with_traceback(tb) --\n",
      "     |      set self.__traceback__ to tb and return self.\n",
      "     |  \n",
      "     |  ----------------------------------------------------------------------\n",
      "     |  Data descriptors inherited from builtins.BaseException:\n",
      "     |  \n",
      "     |  __cause__\n",
      "     |      exception cause\n",
      "     |  \n",
      "     |  __context__\n",
      "     |      exception context\n",
      "     |  \n",
      "     |  __dict__\n",
      "     |  \n",
      "     |  __suppress_context__\n",
      "     |  \n",
      "     |  __traceback__\n",
      "     |  \n",
      "     |  args\n",
      "    \n",
      "    class BufferProxy(builtins.object)\n",
      "     |  BufferProxy(<parent>) -> BufferProxy\n",
      "     |  pygame object to export a surface buffer through an array protocol\n",
      "     |  \n",
      "     |  Methods defined here:\n",
      "     |  \n",
      "     |  __repr__(self, /)\n",
      "     |      Return repr(self).\n",
      "     |  \n",
      "     |  write(...)\n",
      "     |      write(buffer, offset=0)\n",
      "     |      Write raw bytes to object buffer.\n",
      "     |  \n",
      "     |  ----------------------------------------------------------------------\n",
      "     |  Static methods defined here:\n",
      "     |  \n",
      "     |  __new__(*args, **kwargs) from builtins.type\n",
      "     |      Create and return a new object.  See help(type) for accurate signature.\n",
      "     |  \n",
      "     |  ----------------------------------------------------------------------\n",
      "     |  Data descriptors defined here:\n",
      "     |  \n",
      "     |  __array_interface__\n",
      "     |      Version 3 array interface, Python level\n",
      "     |  \n",
      "     |  __array_struct__\n",
      "     |      Version 3 array interface, C level\n",
      "     |  \n",
      "     |  __dict__\n",
      "     |      The object's attribute dictionary, read-only\n",
      "     |  \n",
      "     |  length\n",
      "     |      length -> int\n",
      "     |      The size, in bytes, of the exported buffer.\n",
      "     |  \n",
      "     |  parent\n",
      "     |      parent -> Surface\n",
      "     |      parent -> <parent>\n",
      "     |      Return wrapped exporting object.\n",
      "     |  \n",
      "     |  raw\n",
      "     |      raw -> bytes\n",
      "     |      A copy of the exported buffer as a single block of bytes.\n",
      "    \n",
      "    class Color(builtins.object)\n",
      "     |  Color(name) -> Color\n",
      "     |  Color(r, g, b, a) -> Color\n",
      "     |  Color(rgbvalue) -> Color\n",
      "     |  pygame object for color representations\n",
      "     |  \n",
      "     |  Methods defined here:\n",
      "     |  \n",
      "     |  __add__(self, value, /)\n",
      "     |      Return self+value.\n",
      "     |  \n",
      "     |  __delitem__(self, key, /)\n",
      "     |      Delete self[key].\n",
      "     |  \n",
      "     |  __eq__(self, value, /)\n",
      "     |      Return self==value.\n",
      "     |  \n",
      "     |  __float__(self, /)\n",
      "     |      float(self)\n",
      "     |  \n",
      "     |  __floordiv__(self, value, /)\n",
      "     |      Return self//value.\n",
      "     |  \n",
      "     |  __ge__(self, value, /)\n",
      "     |      Return self>=value.\n",
      "     |  \n",
      "     |  __getitem__(self, key, /)\n",
      "     |      Return self[key].\n",
      "     |  \n",
      "     |  __gt__(self, value, /)\n",
      "     |      Return self>value.\n",
      "     |  \n",
      "     |  __index__(self, /)\n",
      "     |      Return self converted to an integer, if self is suitable for use as an index into a list.\n",
      "     |  \n",
      "     |  __init__(self, /, *args, **kwargs)\n",
      "     |      Initialize self.  See help(type(self)) for accurate signature.\n",
      "     |  \n",
      "     |  __int__(self, /)\n",
      "     |      int(self)\n",
      "     |  \n",
      "     |  __invert__(self, /)\n",
      "     |      ~self\n",
      "     |  \n",
      "     |  __le__(self, value, /)\n",
      "     |      Return self<=value.\n",
      "     |  \n",
      "     |  __len__(self, /)\n",
      "     |      Return len(self).\n",
      "     |  \n",
      "     |  __lt__(self, value, /)\n",
      "     |      Return self<value.\n",
      "     |  \n",
      "     |  __mod__(self, value, /)\n",
      "     |      Return self%value.\n",
      "     |  \n",
      "     |  __mul__(self, value, /)\n",
      "     |      Return self*value.\n",
      "     |  \n",
      "     |  __ne__(self, value, /)\n",
      "     |      Return self!=value.\n",
      "     |  \n",
      "     |  __radd__(self, value, /)\n",
      "     |      Return value+self.\n",
      "     |  \n",
      "     |  __repr__(self, /)\n",
      "     |      Return repr(self).\n",
      "     |  \n",
      "     |  __rfloordiv__(self, value, /)\n",
      "     |      Return value//self.\n",
      "     |  \n",
      "     |  __rmod__(self, value, /)\n",
      "     |      Return value%self.\n",
      "     |  \n",
      "     |  __rmul__(self, value, /)\n",
      "     |      Return value*self.\n",
      "     |  \n",
      "     |  __rsub__(self, value, /)\n",
      "     |      Return value-self.\n",
      "     |  \n",
      "     |  __setitem__(self, key, value, /)\n",
      "     |      Set self[key] to value.\n",
      "     |  \n",
      "     |  __sub__(self, value, /)\n",
      "     |      Return self-value.\n",
      "     |  \n",
      "     |  correct_gamma(...)\n",
      "     |      correct_gamma (gamma) -> Color\n",
      "     |      Applies a certain gamma value to the Color.\n",
      "     |  \n",
      "     |  normalize(...)\n",
      "     |      normalize() -> tuple\n",
      "     |      Returns the normalized RGBA values of the Color.\n",
      "     |  \n",
      "     |  set_length(...)\n",
      "     |      set_length(len) -> None\n",
      "     |      Set the number of elements in the Color to 1,2,3, or 4.\n",
      "     |  \n",
      "     |  ----------------------------------------------------------------------\n",
      "     |  Static methods defined here:\n",
      "     |  \n",
      "     |  __new__(*args, **kwargs) from builtins.type\n",
      "     |      Create and return a new object.  See help(type) for accurate signature.\n",
      "     |  \n",
      "     |  ----------------------------------------------------------------------\n",
      "     |  Data descriptors defined here:\n",
      "     |  \n",
      "     |  __array_struct__\n",
      "     |      array structure interface, read only\n",
      "     |  \n",
      "     |  a\n",
      "     |      a -> int\n",
      "     |      Gets or sets the alpha value of the Color.\n",
      "     |  \n",
      "     |  b\n",
      "     |      b -> int\n",
      "     |      Gets or sets the blue value of the Color.\n",
      "     |  \n",
      "     |  cmy\n",
      "     |      cmy -> tuple\n",
      "     |      Gets or sets the CMY representation of the Color.\n",
      "     |  \n",
      "     |  g\n",
      "     |      g -> int\n",
      "     |      Gets or sets the green value of the Color.\n",
      "     |  \n",
      "     |  hsla\n",
      "     |      hsla -> tuple\n",
      "     |      Gets or sets the HSLA representation of the Color.\n",
      "     |  \n",
      "     |  hsva\n",
      "     |      hsva -> tuple\n",
      "     |      Gets or sets the HSVA representation of the Color.\n",
      "     |  \n",
      "     |  i1i2i3\n",
      "     |      i1i2i3 -> tuple\n",
      "     |      Gets or sets the I1I2I3 representation of the Color.\n",
      "     |  \n",
      "     |  r\n",
      "     |      r -> int\n",
      "     |      Gets or sets the red value of the Color.\n",
      "     |  \n",
      "     |  ----------------------------------------------------------------------\n",
      "     |  Data and other attributes defined here:\n",
      "     |  \n",
      "     |  __hash__ = None\n",
      "    \n",
      "    Overlay = class overlay(builtins.object)\n",
      "     |  Overlay(format, (width, height)) -> Overlay\n",
      "     |  pygame object for video overlay graphics\n",
      "     |  \n",
      "     |  Methods defined here:\n",
      "     |  \n",
      "     |  display(...)\n",
      "     |      display((y, u, v)) -> None\n",
      "     |      display() -> None\n",
      "     |      set the overlay pixel data\n",
      "     |  \n",
      "     |  get_hardware(...)\n",
      "     |      get_hardware(rect) -> int\n",
      "     |      test if the Overlay is hardware accelerated\n",
      "     |  \n",
      "     |  set_location(...)\n",
      "     |      set_location(rect) -> None\n",
      "     |      control where the overlay is displayed\n",
      "     |  \n",
      "     |  ----------------------------------------------------------------------\n",
      "     |  Static methods defined here:\n",
      "     |  \n",
      "     |  __new__(*args, **kwargs) from builtins.type\n",
      "     |      Create and return a new object.  See help(type) for accurate signature.\n",
      "    \n",
      "    class PixelArray(builtins.object)\n",
      "     |  PixelArray(Surface) -> PixelArray\n",
      "     |  pygame object for direct pixel access of surfaces\n",
      "     |  \n",
      "     |  Methods defined here:\n",
      "     |  \n",
      "     |  __contains__(self, key, /)\n",
      "     |      Return key in self.\n",
      "     |  \n",
      "     |  __delitem__(self, key, /)\n",
      "     |      Delete self[key].\n",
      "     |  \n",
      "     |  __enter__(...)\n",
      "     |      transpose() -> PixelArray\n",
      "     |      Closes the PixelArray, and releases Surface lock.\n",
      "     |  \n",
      "     |  __exit__(...)\n",
      "     |      extract(color, distance=0, weights=(0.299, 0.587, 0.114)) -> PixelArray\n",
      "     |      Extracts the passed color from the PixelArray.\n",
      "     |  \n",
      "     |  __getitem__(self, key, /)\n",
      "     |      Return self[key].\n",
      "     |  \n",
      "     |  __iter__(self, /)\n",
      "     |      Implement iter(self).\n",
      "     |  \n",
      "     |  __len__(self, /)\n",
      "     |      Return len(self).\n",
      "     |  \n",
      "     |  __repr__(self, /)\n",
      "     |      Return repr(self).\n",
      "     |  \n",
      "     |  __setitem__(self, key, value, /)\n",
      "     |      Set self[key] to value.\n",
      "     |  \n",
      "     |  close(...)\n",
      "     |      transpose() -> PixelArray\n",
      "     |      Closes the PixelArray, and releases Surface lock.\n",
      "     |  \n",
      "     |  compare(...)\n",
      "     |      compare(array, distance=0, weights=(0.299, 0.587, 0.114)) -> PixelArray\n",
      "     |      Compares the PixelArray with another one.\n",
      "     |  \n",
      "     |  extract(...)\n",
      "     |      extract(color, distance=0, weights=(0.299, 0.587, 0.114)) -> PixelArray\n",
      "     |      Extracts the passed color from the PixelArray.\n",
      "     |  \n",
      "     |  make_surface(...)\n",
      "     |      make_surface() -> Surface\n",
      "     |      Creates a new Surface from the current PixelArray.\n",
      "     |  \n",
      "     |  replace(...)\n",
      "     |      replace(color, repcolor, distance=0, weights=(0.299, 0.587, 0.114)) -> None\n",
      "     |      Replaces the passed color in the PixelArray with another one.\n",
      "     |  \n",
      "     |  transpose(...)\n",
      "     |      transpose() -> PixelArray\n",
      "     |      Exchanges the x and y axis.\n",
      "     |  \n",
      "     |  ----------------------------------------------------------------------\n",
      "     |  Static methods defined here:\n",
      "     |  \n",
      "     |  __new__(*args, **kwargs) from builtins.type\n",
      "     |      Create and return a new object.  See help(type) for accurate signature.\n",
      "     |  \n",
      "     |  ----------------------------------------------------------------------\n",
      "     |  Data descriptors defined here:\n",
      "     |  \n",
      "     |  __array_interface__\n",
      "     |      Version 3\n",
      "     |  \n",
      "     |  __array_struct__\n",
      "     |      Version 3\n",
      "     |  \n",
      "     |  __dict__\n",
      "     |  \n",
      "     |  itemsize\n",
      "     |      itemsize -> int\n",
      "     |      Returns the byte size of a pixel array item\n",
      "     |  \n",
      "     |  ndim\n",
      "     |      ndim -> int\n",
      "     |      Returns the number of dimensions.\n",
      "     |  \n",
      "     |  shape\n",
      "     |      shape -> tuple of int's\n",
      "     |      Returns the array size.\n",
      "     |  \n",
      "     |  strides\n",
      "     |      strides -> tuple of int's\n",
      "     |      Returns byte offsets for each array dimension.\n",
      "     |  \n",
      "     |  surface\n",
      "     |      surface -> Surface\n",
      "     |      Gets the Surface the PixelArray uses.\n",
      "    \n",
      "    class Rect(builtins.object)\n",
      "     |  Rect(left, top, width, height) -> Rect\n",
      "     |  Rect((left, top), (width, height)) -> Rect\n",
      "     |  Rect(object) -> Rect\n",
      "     |  pygame object for storing rectangular coordinates\n",
      "     |  \n",
      "     |  Methods defined here:\n",
      "     |  \n",
      "     |  __bool__(self, /)\n",
      "     |      self != 0\n",
      "     |  \n",
      "     |  __copy__(...)\n",
      "     |  \n",
      "     |  __delitem__(self, key, /)\n",
      "     |      Delete self[key].\n",
      "     |  \n",
      "     |  __eq__(self, value, /)\n",
      "     |      Return self==value.\n",
      "     |  \n",
      "     |  __ge__(self, value, /)\n",
      "     |      Return self>=value.\n",
      "     |  \n",
      "     |  __getitem__(self, key, /)\n",
      "     |      Return self[key].\n",
      "     |  \n",
      "     |  __gt__(self, value, /)\n",
      "     |      Return self>value.\n",
      "     |  \n",
      "     |  __init__(self, /, *args, **kwargs)\n",
      "     |      Initialize self.  See help(type(self)) for accurate signature.\n",
      "     |  \n",
      "     |  __le__(self, value, /)\n",
      "     |      Return self<=value.\n",
      "     |  \n",
      "     |  __len__(self, /)\n",
      "     |      Return len(self).\n",
      "     |  \n",
      "     |  __lt__(self, value, /)\n",
      "     |      Return self<value.\n",
      "     |  \n",
      "     |  __ne__(self, value, /)\n",
      "     |      Return self!=value.\n",
      "     |  \n",
      "     |  __reduce__(...)\n",
      "     |      Helper for pickle.\n",
      "     |  \n",
      "     |  __repr__(self, /)\n",
      "     |      Return repr(self).\n",
      "     |  \n",
      "     |  __setitem__(self, key, value, /)\n",
      "     |      Set self[key] to value.\n",
      "     |  \n",
      "     |  __str__(self, /)\n",
      "     |      Return str(self).\n",
      "     |  \n",
      "     |  clamp(...)\n",
      "     |      clamp(Rect) -> Rect\n",
      "     |      moves the rectangle inside another\n",
      "     |  \n",
      "     |  clamp_ip(...)\n",
      "     |      clamp_ip(Rect) -> None\n",
      "     |      moves the rectangle inside another, in place\n",
      "     |  \n",
      "     |  clip(...)\n",
      "     |      clip(Rect) -> Rect\n",
      "     |      crops a rectangle inside another\n",
      "     |  \n",
      "     |  collidedict(...)\n",
      "     |      collidedict(dict) -> (key, value)\n",
      "     |      test if one rectangle in a dictionary intersects\n",
      "     |  \n",
      "     |  collidedictall(...)\n",
      "     |      collidedictall(dict) -> [(key, value), ...]\n",
      "     |      test if all rectangles in a dictionary intersect\n",
      "     |  \n",
      "     |  collidelist(...)\n",
      "     |      collidelist(list) -> index\n",
      "     |      test if one rectangle in a list intersects\n",
      "     |  \n",
      "     |  collidelistall(...)\n",
      "     |      collidelistall(list) -> indices\n",
      "     |      test if all rectangles in a list intersect\n",
      "     |  \n",
      "     |  collidepoint(...)\n",
      "     |      collidepoint(x, y) -> bool\n",
      "     |      collidepoint((x,y)) -> bool\n",
      "     |      test if a point is inside a rectangle\n",
      "     |  \n",
      "     |  colliderect(...)\n",
      "     |      colliderect(Rect) -> bool\n",
      "     |      test if two rectangles overlap\n",
      "     |  \n",
      "     |  contains(...)\n",
      "     |      contains(Rect) -> bool\n",
      "     |      test if one rectangle is inside another\n",
      "     |  \n",
      "     |  copy(...)\n",
      "     |      copy() -> Rect\n",
      "     |      copy the rectangle\n",
      "     |  \n",
      "     |  fit(...)\n",
      "     |      fit(Rect) -> Rect\n",
      "     |      resize and move a rectangle with aspect ratio\n",
      "     |  \n",
      "     |  inflate(...)\n",
      "     |      inflate(x, y) -> Rect\n",
      "     |      grow or shrink the rectangle size\n",
      "     |  \n",
      "     |  inflate_ip(...)\n",
      "     |      inflate_ip(x, y) -> None\n",
      "     |      grow or shrink the rectangle size, in place\n",
      "     |  \n",
      "     |  move(...)\n",
      "     |      move(x, y) -> Rect\n",
      "     |      moves the rectangle\n",
      "     |  \n",
      "     |  move_ip(...)\n",
      "     |      move_ip(x, y) -> None\n",
      "     |      moves the rectangle, in place\n",
      "     |  \n",
      "     |  normalize(...)\n",
      "     |      normalize() -> None\n",
      "     |      correct negative sizes\n",
      "     |  \n",
      "     |  union(...)\n",
      "     |      union(Rect) -> Rect\n",
      "     |      joins two rectangles into one\n",
      "     |  \n",
      "     |  union_ip(...)\n",
      "     |      union_ip(Rect) -> None\n",
      "     |      joins two rectangles into one, in place\n",
      "     |  \n",
      "     |  unionall(...)\n",
      "     |      unionall(Rect_sequence) -> Rect\n",
      "     |      the union of many rectangles\n",
      "     |  \n",
      "     |  unionall_ip(...)\n",
      "     |      unionall_ip(Rect_sequence) -> None\n",
      "     |      the union of many rectangles, in place\n",
      "     |  \n",
      "     |  ----------------------------------------------------------------------\n",
      "     |  Static methods defined here:\n",
      "     |  \n",
      "     |  __new__(*args, **kwargs) from builtins.type\n",
      "     |      Create and return a new object.  See help(type) for accurate signature.\n",
      "     |  \n",
      "     |  ----------------------------------------------------------------------\n",
      "     |  Data descriptors defined here:\n",
      "     |  \n",
      "     |  __safe_for_unpickling__\n",
      "     |  \n",
      "     |  bottom\n",
      "     |  \n",
      "     |  bottomleft\n",
      "     |  \n",
      "     |  bottomright\n",
      "     |  \n",
      "     |  center\n",
      "     |  \n",
      "     |  centerx\n",
      "     |  \n",
      "     |  centery\n",
      "     |  \n",
      "     |  h\n",
      "     |  \n",
      "     |  height\n",
      "     |  \n",
      "     |  left\n",
      "     |  \n",
      "     |  midbottom\n",
      "     |  \n",
      "     |  midleft\n",
      "     |  \n",
      "     |  midright\n",
      "     |  \n",
      "     |  midtop\n",
      "     |  \n",
      "     |  right\n",
      "     |  \n",
      "     |  size\n",
      "     |  \n",
      "     |  top\n",
      "     |  \n",
      "     |  topleft\n",
      "     |  \n",
      "     |  topright\n",
      "     |  \n",
      "     |  w\n",
      "     |  \n",
      "     |  width\n",
      "     |  \n",
      "     |  x\n",
      "     |  \n",
      "     |  y\n",
      "     |  \n",
      "     |  ----------------------------------------------------------------------\n",
      "     |  Data and other attributes defined here:\n",
      "     |  \n",
      "     |  __hash__ = None\n",
      "    \n",
      "    class Surface(builtins.object)\n",
      "     |  Surface((width, height), flags=0, depth=0, masks=None) -> Surface\n",
      "     |  Surface((width, height), flags=0, Surface) -> Surface\n",
      "     |  pygame object for representing images\n",
      "     |  \n",
      "     |  Methods defined here:\n",
      "     |  \n",
      "     |  __copy__(...)\n",
      "     |      copy() -> Surface\n",
      "     |      create a new copy of a Surface\n",
      "     |  \n",
      "     |  __init__(self, /, *args, **kwargs)\n",
      "     |      Initialize self.  See help(type(self)) for accurate signature.\n",
      "     |  \n",
      "     |  __repr__(self, /)\n",
      "     |      Return repr(self).\n",
      "     |  \n",
      "     |  blit(...)\n",
      "     |      blit(source, dest, area=None, special_flags=0) -> Rect\n",
      "     |      draw one image onto another\n",
      "     |  \n",
      "     |  blits(...)\n",
      "     |      blits(blit_sequence=(source, dest), ...), doreturn=1) -> [Rect, ...] or None\n",
      "     |      blits((source, dest, area), ...)) -> [Rect, ...]\n",
      "     |      blits((source, dest, area, special_flags), ...)) -> [Rect, ...]\n",
      "     |      draw many images onto another\n",
      "     |  \n",
      "     |  convert(...)\n",
      "     |      convert(Surface=None) -> Surface\n",
      "     |      convert(depth, flags=0) -> Surface\n",
      "     |      convert(masks, flags=0) -> Surface\n",
      "     |      change the pixel format of an image\n",
      "     |  \n",
      "     |  convert_alpha(...)\n",
      "     |      convert_alpha(Surface) -> Surface\n",
      "     |      convert_alpha() -> Surface\n",
      "     |      change the pixel format of an image including per pixel alphas\n",
      "     |  \n",
      "     |  copy(...)\n",
      "     |      copy() -> Surface\n",
      "     |      create a new copy of a Surface\n",
      "     |  \n",
      "     |  fill(...)\n",
      "     |      fill(color, rect=None, special_flags=0) -> Rect\n",
      "     |      fill Surface with a solid color\n",
      "     |  \n",
      "     |  get_abs_offset(...)\n",
      "     |      get_abs_offset() -> (x, y)\n",
      "     |      find the absolute position of a child subsurface inside its top level parent\n",
      "     |  \n",
      "     |  get_abs_parent(...)\n",
      "     |      get_abs_parent() -> Surface\n",
      "     |      find the top level parent of a subsurface\n",
      "     |  \n",
      "     |  get_alpha(...)\n",
      "     |      get_alpha() -> int_value\n",
      "     |      get the current Surface transparency value\n",
      "     |  \n",
      "     |  get_at(...)\n",
      "     |      get_at((x, y)) -> Color\n",
      "     |      get the color value at a single pixel\n",
      "     |  \n",
      "     |  get_at_mapped(...)\n",
      "     |      get_at_mapped((x, y)) -> Color\n",
      "     |      get the mapped color value at a single pixel\n",
      "     |  \n",
      "     |  get_bitsize(...)\n",
      "     |      get_bitsize() -> int\n",
      "     |      get the bit depth of the Surface pixel format\n",
      "     |  \n",
      "     |  get_bounding_rect(...)\n",
      "     |      get_bounding_rect(min_alpha = 1) -> Rect\n",
      "     |      find the smallest rect containing data\n",
      "     |  \n",
      "     |  get_buffer(...)\n",
      "     |      get_buffer() -> BufferProxy\n",
      "     |      acquires a buffer object for the pixels of the Surface.\n",
      "     |  \n",
      "     |  get_bytesize(...)\n",
      "     |      get_bytesize() -> int\n",
      "     |      get the bytes used per Surface pixel\n",
      "     |  \n",
      "     |  get_clip(...)\n",
      "     |      get_clip() -> Rect\n",
      "     |      get the current clipping area of the Surface\n",
      "     |  \n",
      "     |  get_colorkey(...)\n",
      "     |      get_colorkey() -> RGB or None\n",
      "     |      Get the current transparent colorkey\n",
      "     |  \n",
      "     |  get_flags(...)\n",
      "     |      get_flags() -> int\n",
      "     |      get the additional flags used for the Surface\n",
      "     |  \n",
      "     |  get_height(...)\n",
      "     |      get_height() -> height\n",
      "     |      get the height of the Surface\n",
      "     |  \n",
      "     |  get_locked(...)\n",
      "     |      get_locked() -> bool\n",
      "     |      test if the Surface is current locked\n",
      "     |  \n",
      "     |  get_locks(...)\n",
      "     |      get_locks() -> tuple\n",
      "     |      Gets the locks for the Surface\n",
      "     |  \n",
      "     |  get_losses(...)\n",
      "     |      get_losses() -> (R, G, B, A)\n",
      "     |      the significant bits used to convert between a color and a mapped integer\n",
      "     |  \n",
      "     |  get_masks(...)\n",
      "     |      get_masks() -> (R, G, B, A)\n",
      "     |      the bitmasks needed to convert between a color and a mapped integer\n",
      "     |  \n",
      "     |  get_offset(...)\n",
      "     |      get_offset() -> (x, y)\n",
      "     |      find the position of a child subsurface inside a parent\n",
      "     |  \n",
      "     |  get_palette(...)\n",
      "     |      get_palette() -> [RGB, RGB, RGB, ...]\n",
      "     |      get the color index palette for an 8-bit Surface\n",
      "     |  \n",
      "     |  get_palette_at(...)\n",
      "     |      get_palette_at(index) -> RGB\n",
      "     |      get the color for a single entry in a palette\n",
      "     |  \n",
      "     |  get_parent(...)\n",
      "     |      get_parent() -> Surface\n",
      "     |      find the parent of a subsurface\n",
      "     |  \n",
      "     |  get_pitch(...)\n",
      "     |      get_pitch() -> int\n",
      "     |      get the number of bytes used per Surface row\n",
      "     |  \n",
      "     |  get_rect(...)\n",
      "     |      get_rect(**kwargs) -> Rect\n",
      "     |      get the rectangular area of the Surface\n",
      "     |  \n",
      "     |  get_shifts(...)\n",
      "     |      get_shifts() -> (R, G, B, A)\n",
      "     |      the bit shifts needed to convert between a color and a mapped integer\n",
      "     |  \n",
      "     |  get_size(...)\n",
      "     |      get_size() -> (width, height)\n",
      "     |      get the dimensions of the Surface\n",
      "     |  \n",
      "     |  get_view(...)\n",
      "     |      get_view(<kind>='2') -> BufferProxy\n",
      "     |      return a buffer view of the Surface's pixels.\n",
      "     |  \n",
      "     |  get_width(...)\n",
      "     |      get_width() -> width\n",
      "     |      get the width of the Surface\n",
      "     |  \n",
      "     |  lock(...)\n",
      "     |      lock() -> None\n",
      "     |      lock the Surface memory for pixel access\n",
      "     |  \n",
      "     |  map_rgb(...)\n",
      "     |      map_rgb(Color) -> mapped_int\n",
      "     |      convert a color into a mapped color value\n",
      "     |  \n",
      "     |  mustlock(...)\n",
      "     |      mustlock() -> bool\n",
      "     |      test if the Surface requires locking\n",
      "     |  \n",
      "     |  scroll(...)\n",
      "     |      scroll(dx=0, dy=0) -> None\n",
      "     |      Shift the surface image in place\n",
      "     |  \n",
      "     |  set_alpha(...)\n",
      "     |      set_alpha(value, flags=0) -> None\n",
      "     |      set_alpha(None) -> None\n",
      "     |      set the alpha value for the full Surface image\n",
      "     |  \n",
      "     |  set_at(...)\n",
      "     |      set_at((x, y), Color) -> None\n",
      "     |      set the color value for a single pixel\n",
      "     |  \n",
      "     |  set_clip(...)\n",
      "     |      set_clip(rect) -> None\n",
      "     |      set_clip(None) -> None\n",
      "     |      set the current clipping area of the Surface\n",
      "     |  \n",
      "     |  set_colorkey(...)\n",
      "     |      set_colorkey(Color, flags=0) -> None\n",
      "     |      set_colorkey(None) -> None\n",
      "     |      Set the transparent colorkey\n",
      "     |  \n",
      "     |  set_masks(...)\n",
      "     |      set_masks((r,g,b,a)) -> None\n",
      "     |      set the bitmasks needed to convert between a color and a mapped integer\n",
      "     |  \n",
      "     |  set_palette(...)\n",
      "     |      set_palette([RGB, RGB, RGB, ...]) -> None\n",
      "     |      set the color palette for an 8-bit Surface\n",
      "     |  \n",
      "     |  set_palette_at(...)\n",
      "     |      set_palette_at(index, RGB) -> None\n",
      "     |      set the color for a single index in an 8-bit Surface palette\n",
      "     |  \n",
      "     |  set_shifts(...)\n",
      "     |      set_shifts((r,g,b,a)) -> None\n",
      "     |      sets the bit shifts needed to convert between a color and a mapped integer\n",
      "     |  \n",
      "     |  subsurface(...)\n",
      "     |      subsurface(Rect) -> Surface\n",
      "     |      create a new surface that references its parent\n",
      "     |  \n",
      "     |  unlock(...)\n",
      "     |      unlock() -> None\n",
      "     |      unlock the Surface memory from pixel access\n",
      "     |  \n",
      "     |  unmap_rgb(...)\n",
      "     |      unmap_rgb(mapped_int) -> Color\n",
      "     |      convert a mapped integer color value into a Color\n",
      "     |  \n",
      "     |  ----------------------------------------------------------------------\n",
      "     |  Static methods defined here:\n",
      "     |  \n",
      "     |  __new__(*args, **kwargs) from builtins.type\n",
      "     |      Create and return a new object.  See help(type) for accurate signature.\n",
      "    \n",
      "    SurfaceType = class Surface(builtins.object)\n",
      "     |  Surface((width, height), flags=0, depth=0, masks=None) -> Surface\n",
      "     |  Surface((width, height), flags=0, Surface) -> Surface\n",
      "     |  pygame object for representing images\n",
      "     |  \n",
      "     |  Methods defined here:\n",
      "     |  \n",
      "     |  __copy__(...)\n",
      "     |      copy() -> Surface\n",
      "     |      create a new copy of a Surface\n",
      "     |  \n",
      "     |  __init__(self, /, *args, **kwargs)\n",
      "     |      Initialize self.  See help(type(self)) for accurate signature.\n",
      "     |  \n",
      "     |  __repr__(self, /)\n",
      "     |      Return repr(self).\n",
      "     |  \n",
      "     |  blit(...)\n",
      "     |      blit(source, dest, area=None, special_flags=0) -> Rect\n",
      "     |      draw one image onto another\n",
      "     |  \n",
      "     |  blits(...)\n",
      "     |      blits(blit_sequence=(source, dest), ...), doreturn=1) -> [Rect, ...] or None\n",
      "     |      blits((source, dest, area), ...)) -> [Rect, ...]\n",
      "     |      blits((source, dest, area, special_flags), ...)) -> [Rect, ...]\n",
      "     |      draw many images onto another\n",
      "     |  \n",
      "     |  convert(...)\n",
      "     |      convert(Surface=None) -> Surface\n",
      "     |      convert(depth, flags=0) -> Surface\n",
      "     |      convert(masks, flags=0) -> Surface\n",
      "     |      change the pixel format of an image\n",
      "     |  \n",
      "     |  convert_alpha(...)\n",
      "     |      convert_alpha(Surface) -> Surface\n",
      "     |      convert_alpha() -> Surface\n",
      "     |      change the pixel format of an image including per pixel alphas\n",
      "     |  \n",
      "     |  copy(...)\n",
      "     |      copy() -> Surface\n",
      "     |      create a new copy of a Surface\n",
      "     |  \n",
      "     |  fill(...)\n",
      "     |      fill(color, rect=None, special_flags=0) -> Rect\n",
      "     |      fill Surface with a solid color\n",
      "     |  \n",
      "     |  get_abs_offset(...)\n",
      "     |      get_abs_offset() -> (x, y)\n",
      "     |      find the absolute position of a child subsurface inside its top level parent\n",
      "     |  \n",
      "     |  get_abs_parent(...)\n",
      "     |      get_abs_parent() -> Surface\n",
      "     |      find the top level parent of a subsurface\n",
      "     |  \n",
      "     |  get_alpha(...)\n",
      "     |      get_alpha() -> int_value\n",
      "     |      get the current Surface transparency value\n",
      "     |  \n",
      "     |  get_at(...)\n",
      "     |      get_at((x, y)) -> Color\n",
      "     |      get the color value at a single pixel\n",
      "     |  \n",
      "     |  get_at_mapped(...)\n",
      "     |      get_at_mapped((x, y)) -> Color\n",
      "     |      get the mapped color value at a single pixel\n",
      "     |  \n",
      "     |  get_bitsize(...)\n",
      "     |      get_bitsize() -> int\n",
      "     |      get the bit depth of the Surface pixel format\n",
      "     |  \n",
      "     |  get_bounding_rect(...)\n",
      "     |      get_bounding_rect(min_alpha = 1) -> Rect\n",
      "     |      find the smallest rect containing data\n",
      "     |  \n",
      "     |  get_buffer(...)\n",
      "     |      get_buffer() -> BufferProxy\n",
      "     |      acquires a buffer object for the pixels of the Surface.\n",
      "     |  \n",
      "     |  get_bytesize(...)\n",
      "     |      get_bytesize() -> int\n",
      "     |      get the bytes used per Surface pixel\n",
      "     |  \n",
      "     |  get_clip(...)\n",
      "     |      get_clip() -> Rect\n",
      "     |      get the current clipping area of the Surface\n",
      "     |  \n",
      "     |  get_colorkey(...)\n",
      "     |      get_colorkey() -> RGB or None\n",
      "     |      Get the current transparent colorkey\n",
      "     |  \n",
      "     |  get_flags(...)\n",
      "     |      get_flags() -> int\n",
      "     |      get the additional flags used for the Surface\n",
      "     |  \n",
      "     |  get_height(...)\n",
      "     |      get_height() -> height\n",
      "     |      get the height of the Surface\n",
      "     |  \n",
      "     |  get_locked(...)\n",
      "     |      get_locked() -> bool\n",
      "     |      test if the Surface is current locked\n",
      "     |  \n",
      "     |  get_locks(...)\n",
      "     |      get_locks() -> tuple\n",
      "     |      Gets the locks for the Surface\n",
      "     |  \n",
      "     |  get_losses(...)\n",
      "     |      get_losses() -> (R, G, B, A)\n",
      "     |      the significant bits used to convert between a color and a mapped integer\n",
      "     |  \n",
      "     |  get_masks(...)\n",
      "     |      get_masks() -> (R, G, B, A)\n",
      "     |      the bitmasks needed to convert between a color and a mapped integer\n",
      "     |  \n",
      "     |  get_offset(...)\n",
      "     |      get_offset() -> (x, y)\n",
      "     |      find the position of a child subsurface inside a parent\n",
      "     |  \n",
      "     |  get_palette(...)\n",
      "     |      get_palette() -> [RGB, RGB, RGB, ...]\n",
      "     |      get the color index palette for an 8-bit Surface\n",
      "     |  \n",
      "     |  get_palette_at(...)\n",
      "     |      get_palette_at(index) -> RGB\n",
      "     |      get the color for a single entry in a palette\n",
      "     |  \n",
      "     |  get_parent(...)\n",
      "     |      get_parent() -> Surface\n",
      "     |      find the parent of a subsurface\n",
      "     |  \n",
      "     |  get_pitch(...)\n",
      "     |      get_pitch() -> int\n",
      "     |      get the number of bytes used per Surface row\n",
      "     |  \n",
      "     |  get_rect(...)\n",
      "     |      get_rect(**kwargs) -> Rect\n",
      "     |      get the rectangular area of the Surface\n",
      "     |  \n",
      "     |  get_shifts(...)\n",
      "     |      get_shifts() -> (R, G, B, A)\n",
      "     |      the bit shifts needed to convert between a color and a mapped integer\n",
      "     |  \n",
      "     |  get_size(...)\n",
      "     |      get_size() -> (width, height)\n",
      "     |      get the dimensions of the Surface\n",
      "     |  \n",
      "     |  get_view(...)\n",
      "     |      get_view(<kind>='2') -> BufferProxy\n",
      "     |      return a buffer view of the Surface's pixels.\n",
      "     |  \n",
      "     |  get_width(...)\n",
      "     |      get_width() -> width\n",
      "     |      get the width of the Surface\n",
      "     |  \n",
      "     |  lock(...)\n",
      "     |      lock() -> None\n",
      "     |      lock the Surface memory for pixel access\n",
      "     |  \n",
      "     |  map_rgb(...)\n",
      "     |      map_rgb(Color) -> mapped_int\n",
      "     |      convert a color into a mapped color value\n",
      "     |  \n",
      "     |  mustlock(...)\n",
      "     |      mustlock() -> bool\n",
      "     |      test if the Surface requires locking\n",
      "     |  \n",
      "     |  scroll(...)\n",
      "     |      scroll(dx=0, dy=0) -> None\n",
      "     |      Shift the surface image in place\n",
      "     |  \n",
      "     |  set_alpha(...)\n",
      "     |      set_alpha(value, flags=0) -> None\n",
      "     |      set_alpha(None) -> None\n",
      "     |      set the alpha value for the full Surface image\n",
      "     |  \n",
      "     |  set_at(...)\n",
      "     |      set_at((x, y), Color) -> None\n",
      "     |      set the color value for a single pixel\n",
      "     |  \n",
      "     |  set_clip(...)\n",
      "     |      set_clip(rect) -> None\n",
      "     |      set_clip(None) -> None\n",
      "     |      set the current clipping area of the Surface\n",
      "     |  \n",
      "     |  set_colorkey(...)\n",
      "     |      set_colorkey(Color, flags=0) -> None\n",
      "     |      set_colorkey(None) -> None\n",
      "     |      Set the transparent colorkey\n",
      "     |  \n",
      "     |  set_masks(...)\n",
      "     |      set_masks((r,g,b,a)) -> None\n",
      "     |      set the bitmasks needed to convert between a color and a mapped integer\n",
      "     |  \n",
      "     |  set_palette(...)\n",
      "     |      set_palette([RGB, RGB, RGB, ...]) -> None\n",
      "     |      set the color palette for an 8-bit Surface\n",
      "     |  \n",
      "     |  set_palette_at(...)\n",
      "     |      set_palette_at(index, RGB) -> None\n",
      "     |      set the color for a single index in an 8-bit Surface palette\n",
      "     |  \n",
      "     |  set_shifts(...)\n",
      "     |      set_shifts((r,g,b,a)) -> None\n",
      "     |      sets the bit shifts needed to convert between a color and a mapped integer\n",
      "     |  \n",
      "     |  subsurface(...)\n",
      "     |      subsurface(Rect) -> Surface\n",
      "     |      create a new surface that references its parent\n",
      "     |  \n",
      "     |  unlock(...)\n",
      "     |      unlock() -> None\n",
      "     |      unlock the Surface memory from pixel access\n",
      "     |  \n",
      "     |  unmap_rgb(...)\n",
      "     |      unmap_rgb(mapped_int) -> Color\n",
      "     |      convert a mapped integer color value into a Color\n",
      "     |  \n",
      "     |  ----------------------------------------------------------------------\n",
      "     |  Static methods defined here:\n",
      "     |  \n",
      "     |  __new__(*args, **kwargs) from builtins.type\n",
      "     |      Create and return a new object.  See help(type) for accurate signature.\n",
      "    \n",
      "    class error(builtins.RuntimeError)\n",
      "     |  Unspecified run-time error.\n",
      "     |  \n",
      "     |  Method resolution order:\n",
      "     |      error\n",
      "     |      builtins.RuntimeError\n",
      "     |      builtins.Exception\n",
      "     |      builtins.BaseException\n",
      "     |      builtins.object\n",
      "     |  \n",
      "     |  Data descriptors defined here:\n",
      "     |  \n",
      "     |  __weakref__\n",
      "     |      list of weak references to the object (if defined)\n",
      "     |  \n",
      "     |  ----------------------------------------------------------------------\n",
      "     |  Methods inherited from builtins.RuntimeError:\n",
      "     |  \n",
      "     |  __init__(self, /, *args, **kwargs)\n",
      "     |      Initialize self.  See help(type(self)) for accurate signature.\n",
      "     |  \n",
      "     |  ----------------------------------------------------------------------\n",
      "     |  Static methods inherited from builtins.RuntimeError:\n",
      "     |  \n",
      "     |  __new__(*args, **kwargs) from builtins.type\n",
      "     |      Create and return a new object.  See help(type) for accurate signature.\n",
      "     |  \n",
      "     |  ----------------------------------------------------------------------\n",
      "     |  Methods inherited from builtins.BaseException:\n",
      "     |  \n",
      "     |  __delattr__(self, name, /)\n",
      "     |      Implement delattr(self, name).\n",
      "     |  \n",
      "     |  __getattribute__(self, name, /)\n",
      "     |      Return getattr(self, name).\n",
      "     |  \n",
      "     |  __reduce__(...)\n",
      "     |      Helper for pickle.\n",
      "     |  \n",
      "     |  __repr__(self, /)\n",
      "     |      Return repr(self).\n",
      "     |  \n",
      "     |  __setattr__(self, name, value, /)\n",
      "     |      Implement setattr(self, name, value).\n",
      "     |  \n",
      "     |  __setstate__(...)\n",
      "     |  \n",
      "     |  __str__(self, /)\n",
      "     |      Return str(self).\n",
      "     |  \n",
      "     |  with_traceback(...)\n",
      "     |      Exception.with_traceback(tb) --\n",
      "     |      set self.__traceback__ to tb and return self.\n",
      "     |  \n",
      "     |  ----------------------------------------------------------------------\n",
      "     |  Data descriptors inherited from builtins.BaseException:\n",
      "     |  \n",
      "     |  __cause__\n",
      "     |      exception cause\n",
      "     |  \n",
      "     |  __context__\n",
      "     |      exception context\n",
      "     |  \n",
      "     |  __dict__\n",
      "     |  \n",
      "     |  __suppress_context__\n",
      "     |  \n",
      "     |  __traceback__\n",
      "     |  \n",
      "     |  args\n",
      "\n",
      "FUNCTIONS\n",
      "    Mask(...)\n",
      "        Mask(size=(width, height)) -> Mask\n",
      "        Mask(size=(width, height), fill=False) -> Mask\n",
      "        pygame object for representing 2D bitmasks\n",
      "    \n",
      "    encode_file_path(...)\n",
      "        encode_file_path([obj [, etype]]) -> bytes or None\n",
      "        Encode a Unicode or bytes object as a file system path\n",
      "    \n",
      "    encode_string(...)\n",
      "        encode_string([obj [, encoding [, errors [, etype]]]]) -> bytes or None\n",
      "        Encode a Unicode or bytes object\n",
      "    \n",
      "    get_array_interface(...)\n",
      "        return an array struct interface as an interface dictionary\n",
      "    \n",
      "    get_error(...)\n",
      "        get_error() -> errorstr\n",
      "        get the current error message\n",
      "    \n",
      "    get_init(...)\n",
      "        get_init() -> bool\n",
      "        returns True if pygame is currently initialized\n",
      "    \n",
      "    get_sdl_byteorder(...)\n",
      "        get_sdl_byteorder() -> int\n",
      "        get the byte order of SDL\n",
      "    \n",
      "    get_sdl_version(...)\n",
      "        get_sdl_version() -> major, minor, patch\n",
      "        get the version number of SDL\n",
      "    \n",
      "    init(...)\n",
      "        init() -> (numpass, numfail)\n",
      "        initialize all imported pygame modules\n",
      "    \n",
      "    packager_imports()\n",
      "        some additional imports that py2app/py2exe will want to see\n",
      "    \n",
      "    quit(...)\n",
      "        quit() -> None\n",
      "        uninitialize all pygame modules\n",
      "    \n",
      "    register_quit(...)\n",
      "        register_quit(callable) -> None\n",
      "        register a function to be called when pygame quits\n",
      "    \n",
      "    segfault(...)\n",
      "        crash\n",
      "    \n",
      "    set_error(...)\n",
      "        set_error(error_msg) -> None\n",
      "        set the current error message\n",
      "    \n",
      "    warn_unwanted_files()\n",
      "        warn about unneeded old files\n",
      "\n",
      "DATA\n",
      "    ACTIVEEVENT = 1\n",
      "    ANYFORMAT = 268435456\n",
      "    ASYNCBLIT = 4\n",
      "    AUDIODEVICEADDED = -1\n",
      "    AUDIODEVICEREMOVED = -1\n",
      "    AUDIO_ALLOW_ANY_CHANGE = -1\n",
      "    AUDIO_ALLOW_CHANNELS_CHANGE = -1\n",
      "    AUDIO_ALLOW_FORMAT_CHANGE = -1\n",
      "    AUDIO_ALLOW_FREQUENCY_CHANGE = -1\n",
      "    AUDIO_S16 = 32784\n",
      "    AUDIO_S16LSB = 32784\n",
      "    AUDIO_S16MSB = 36880\n",
      "    AUDIO_S16SYS = 32784\n",
      "    AUDIO_S8 = 32776\n",
      "    AUDIO_U16 = 16\n",
      "    AUDIO_U16LSB = 16\n",
      "    AUDIO_U16MSB = 4112\n",
      "    AUDIO_U16SYS = 16\n",
      "    AUDIO_U8 = 8\n",
      "    BIG_ENDIAN = 4321\n",
      "    BLEND_ADD = 1\n",
      "    BLEND_MAX = 5\n",
      "    BLEND_MIN = 4\n",
      "    BLEND_MULT = 3\n",
      "    BLEND_PREMULTIPLIED = 17\n",
      "    BLEND_RGBA_ADD = 6\n",
      "    BLEND_RGBA_MAX = 16\n",
      "    BLEND_RGBA_MIN = 9\n",
      "    BLEND_RGBA_MULT = 8\n",
      "    BLEND_RGBA_SUB = 7\n",
      "    BLEND_RGB_ADD = 1\n",
      "    BLEND_RGB_MAX = 5\n",
      "    BLEND_RGB_MIN = 4\n",
      "    BLEND_RGB_MULT = 3\n",
      "    BLEND_RGB_SUB = 2\n",
      "    BLEND_SUB = 2\n",
      "    BUTTON_LEFT = 1\n",
      "    BUTTON_MIDDLE = 2\n",
      "    BUTTON_RIGHT = 3\n",
      "    BUTTON_WHEELDOWN = 5\n",
      "    BUTTON_WHEELUP = 4\n",
      "    BUTTON_X1 = 6\n",
      "    BUTTON_X2 = 7\n",
      "    DOUBLEBUF = 1073741824\n",
      "    DROPBEGIN = -1\n",
      "    DROPCOMPLETE = -1\n",
      "    DROPFILE = -1\n",
      "    DROPTEXT = -1\n",
      "    FINGERDOWN = -1\n",
      "    FINGERMOTION = -1\n",
      "    FINGERUP = -1\n",
      "    FULLSCREEN = -2147483648\n",
      "    GL_ACCELERATED_VISUAL = 15\n",
      "    GL_ACCUM_ALPHA_SIZE = 11\n",
      "    GL_ACCUM_BLUE_SIZE = 10\n",
      "    GL_ACCUM_GREEN_SIZE = 9\n",
      "    GL_ACCUM_RED_SIZE = 8\n",
      "    GL_ALPHA_SIZE = 3\n",
      "    GL_BLUE_SIZE = 2\n",
      "    GL_BUFFER_SIZE = 4\n",
      "    GL_DEPTH_SIZE = 6\n",
      "    GL_DOUBLEBUFFER = 5\n",
      "    GL_GREEN_SIZE = 1\n",
      "    GL_MULTISAMPLEBUFFERS = 13\n",
      "    GL_MULTISAMPLESAMPLES = 14\n",
      "    GL_RED_SIZE = 0\n",
      "    GL_STENCIL_SIZE = 7\n",
      "    GL_STEREO = 12\n",
      "    GL_SWAP_CONTROL = 16\n",
      "    HAT_CENTERED = 0\n",
      "    HAT_DOWN = 4\n",
      "    HAT_LEFT = 8\n",
      "    HAT_LEFTDOWN = 12\n",
      "    HAT_LEFTUP = 9\n",
      "    HAT_RIGHT = 2\n",
      "    HAT_RIGHTDOWN = 6\n",
      "    HAT_RIGHTUP = 3\n",
      "    HAT_UP = 1\n",
      "    HAVE_NEWBUF = 1\n",
      "    HWACCEL = 256\n",
      "    HWPALETTE = 536870912\n",
      "    HWSURFACE = 1\n",
      "    IYUV_OVERLAY = 1448433993\n",
      "    JOYAXISMOTION = 7\n",
      "    JOYBALLMOTION = 8\n",
      "    JOYBUTTONDOWN = 10\n",
      "    JOYBUTTONUP = 11\n",
      "    JOYHATMOTION = 9\n",
      "    KEYDOWN = 2\n",
      "    KEYUP = 3\n",
      "    KMOD_ALT = 768\n",
      "    KMOD_CAPS = 8192\n",
      "    KMOD_CTRL = 192\n",
      "    KMOD_LALT = 256\n",
      "    KMOD_LCTRL = 64\n",
      "    KMOD_LMETA = 1024\n",
      "    KMOD_LSHIFT = 1\n",
      "    KMOD_META = 3072\n",
      "    KMOD_MODE = 16384\n",
      "    KMOD_NONE = 0\n",
      "    KMOD_NUM = 4096\n",
      "    KMOD_RALT = 512\n",
      "    KMOD_RCTRL = 128\n",
      "    KMOD_RMETA = 2048\n",
      "    KMOD_RSHIFT = 2\n",
      "    KMOD_SHIFT = 3\n",
      "    K_0 = 48\n",
      "    K_1 = 49\n",
      "    K_2 = 50\n",
      "    K_3 = 51\n",
      "    K_4 = 52\n",
      "    K_5 = 53\n",
      "    K_6 = 54\n",
      "    K_7 = 55\n",
      "    K_8 = 56\n",
      "    K_9 = 57\n",
      "    K_AMPERSAND = 38\n",
      "    K_ASTERISK = 42\n",
      "    K_AT = 64\n",
      "    K_BACKQUOTE = 96\n",
      "    K_BACKSLASH = 92\n",
      "    K_BACKSPACE = 8\n",
      "    K_BREAK = 318\n",
      "    K_CAPSLOCK = 301\n",
      "    K_CARET = 94\n",
      "    K_CLEAR = 12\n",
      "    K_COLON = 58\n",
      "    K_COMMA = 44\n",
      "    K_DELETE = 127\n",
      "    K_DOLLAR = 36\n",
      "    K_DOWN = 274\n",
      "    K_END = 279\n",
      "    K_EQUALS = 61\n",
      "    K_ESCAPE = 27\n",
      "    K_EURO = 321\n",
      "    K_EXCLAIM = 33\n",
      "    K_F1 = 282\n",
      "    K_F10 = 291\n",
      "    K_F11 = 292\n",
      "    K_F12 = 293\n",
      "    K_F13 = 294\n",
      "    K_F14 = 295\n",
      "    K_F15 = 296\n",
      "    K_F2 = 283\n",
      "    K_F3 = 284\n",
      "    K_F4 = 285\n",
      "    K_F5 = 286\n",
      "    K_F6 = 287\n",
      "    K_F7 = 288\n",
      "    K_F8 = 289\n",
      "    K_F9 = 290\n",
      "    K_FIRST = 0\n",
      "    K_GREATER = 62\n",
      "    K_HASH = 35\n",
      "    K_HELP = 315\n",
      "    K_HOME = 278\n",
      "    K_INSERT = 277\n",
      "    K_KP0 = 256\n",
      "    K_KP1 = 257\n",
      "    K_KP2 = 258\n",
      "    K_KP3 = 259\n",
      "    K_KP4 = 260\n",
      "    K_KP5 = 261\n",
      "    K_KP6 = 262\n",
      "    K_KP7 = 263\n",
      "    K_KP8 = 264\n",
      "    K_KP9 = 265\n",
      "    K_KP_DIVIDE = 267\n",
      "    K_KP_ENTER = 271\n",
      "    K_KP_EQUALS = 272\n",
      "    K_KP_MINUS = 269\n",
      "    K_KP_MULTIPLY = 268\n",
      "    K_KP_PERIOD = 266\n",
      "    K_KP_PLUS = 270\n",
      "    K_LALT = 308\n",
      "    K_LAST = 323\n",
      "    K_LCTRL = 306\n",
      "    K_LEFT = 276\n",
      "    K_LEFTBRACKET = 91\n",
      "    K_LEFTPAREN = 40\n",
      "    K_LESS = 60\n",
      "    K_LMETA = 310\n",
      "    K_LSHIFT = 304\n",
      "    K_LSUPER = 311\n",
      "    K_MENU = 319\n",
      "    K_MINUS = 45\n",
      "    K_MODE = 313\n",
      "    K_NUMLOCK = 300\n",
      "    K_PAGEDOWN = 281\n",
      "    K_PAGEUP = 280\n",
      "    K_PAUSE = 19\n",
      "    K_PERIOD = 46\n",
      "    K_PLUS = 43\n",
      "    K_POWER = 320\n",
      "    K_PRINT = 316\n",
      "    K_QUESTION = 63\n",
      "    K_QUOTE = 39\n",
      "    K_QUOTEDBL = 34\n",
      "    K_RALT = 307\n",
      "    K_RCTRL = 305\n",
      "    K_RETURN = 13\n",
      "    K_RIGHT = 275\n",
      "    K_RIGHTBRACKET = 93\n",
      "    K_RIGHTPAREN = 41\n",
      "    K_RMETA = 309\n",
      "    K_RSHIFT = 303\n",
      "    K_RSUPER = 312\n",
      "    K_SCROLLOCK = 302\n",
      "    K_SEMICOLON = 59\n",
      "    K_SLASH = 47\n",
      "    K_SPACE = 32\n",
      "    K_SYSREQ = 317\n",
      "    K_TAB = 9\n",
      "    K_UNDERSCORE = 95\n",
      "    K_UNKNOWN = 0\n",
      "    K_UP = 273\n",
      "    K_a = 97\n",
      "    K_b = 98\n",
      "    K_c = 99\n",
      "    K_d = 100\n",
      "    K_e = 101\n",
      "    K_f = 102\n",
      "    K_g = 103\n",
      "    K_h = 104\n",
      "    K_i = 105\n",
      "    K_j = 106\n",
      "    K_k = 107\n",
      "    K_l = 108\n",
      "    K_m = 109\n",
      "    K_n = 110\n",
      "    K_o = 111\n",
      "    K_p = 112\n",
      "    K_q = 113\n",
      "    K_r = 114\n",
      "    K_s = 115\n",
      "    K_t = 116\n",
      "    K_u = 117\n",
      "    K_v = 118\n",
      "    K_w = 119\n",
      "    K_x = 120\n",
      "    K_y = 121\n",
      "    K_z = 122\n",
      "    LIL_ENDIAN = 1234\n",
      "    MOUSEBUTTONDOWN = 5\n",
      "    MOUSEBUTTONUP = 6\n",
      "    MOUSEMOTION = 4\n",
      "    MOUSEWHEEL = -1\n",
      "    MULTIGESTURE = -1\n",
      "    NOEVENT = 0\n",
      "    NOFRAME = 32\n",
      "    NUMEVENTS = 32\n",
      "    OPENGL = 2\n",
      "    OPENGLBLIT = 10\n",
      "    PREALLOC = 16777216\n",
      "    QUIT = 12\n",
      "    RESIZABLE = 16\n",
      "    RLEACCEL = 16384\n",
      "    RLEACCELOK = 8192\n",
      "    SCRAP_BMP = 'image/bmp'\n",
      "    SCRAP_CLIPBOARD = 0\n",
      "    SCRAP_PBM = 'image/pbm'\n",
      "    SCRAP_PPM = 'image/ppm'\n",
      "    SCRAP_SELECTION = 1\n",
      "    SCRAP_TEXT = 'text/plain'\n",
      "    SRCALPHA = 65536\n",
      "    SRCCOLORKEY = 4096\n",
      "    SWSURFACE = 0\n",
      "    SYSWMEVENT = 13\n",
      "    TEXTEDITING = -1\n",
      "    TEXTINPUT = -1\n",
      "    TIMER_RESOLUTION = 10\n",
      "    USEREVENT = 24\n",
      "    USEREVENT_DROPFILE = 4096\n",
      "    UYVY_OVERLAY = 1498831189\n",
      "    VIDEOEXPOSE = 17\n",
      "    VIDEORESIZE = 16\n",
      "    WINDOWEVENT = -1\n",
      "    WINDOWEVENT_CLOSE = -1\n",
      "    YUY2_OVERLAY = 844715353\n",
      "    YV12_OVERLAY = 842094169\n",
      "    YVYU_OVERLAY = 1431918169\n",
      "    movie = <pygame.MissingModule object>\n",
      "    pygame_dir = r'C:\\Anaconda\\lib\\site-packages\\pygame'\n",
      "    rev = ''\n",
      "    ver = '1.9.6'\n",
      "    vernum = PygameVersion(major=1, minor=9, patch=6)\n",
      "\n",
      "VERSION\n",
      "    1.9.6\n",
      "\n",
      "FILE\n",
      "    c:\\anaconda\\lib\\site-packages\\pygame\\__init__.py\n",
      "\n",
      "\n"
     ]
    }
   ],
   "source": [
    "help(pygame)"
   ]
  },
  {
   "cell_type": "code",
   "execution_count": 53,
   "metadata": {
    "collapsed": true
   },
   "outputs": [
    {
     "data": {
      "text/plain": [
       "['ACTIVEEVENT',\n",
       " 'ANYFORMAT',\n",
       " 'ASYNCBLIT',\n",
       " 'AUDIODEVICEADDED',\n",
       " 'AUDIODEVICEREMOVED',\n",
       " 'AUDIO_ALLOW_ANY_CHANGE',\n",
       " 'AUDIO_ALLOW_CHANNELS_CHANGE',\n",
       " 'AUDIO_ALLOW_FORMAT_CHANGE',\n",
       " 'AUDIO_ALLOW_FREQUENCY_CHANGE',\n",
       " 'AUDIO_S16',\n",
       " 'AUDIO_S16LSB',\n",
       " 'AUDIO_S16MSB',\n",
       " 'AUDIO_S16SYS',\n",
       " 'AUDIO_S8',\n",
       " 'AUDIO_U16',\n",
       " 'AUDIO_U16LSB',\n",
       " 'AUDIO_U16MSB',\n",
       " 'AUDIO_U16SYS',\n",
       " 'AUDIO_U8',\n",
       " 'BIG_ENDIAN',\n",
       " 'BLEND_ADD',\n",
       " 'BLEND_MAX',\n",
       " 'BLEND_MIN',\n",
       " 'BLEND_MULT',\n",
       " 'BLEND_PREMULTIPLIED',\n",
       " 'BLEND_RGBA_ADD',\n",
       " 'BLEND_RGBA_MAX',\n",
       " 'BLEND_RGBA_MIN',\n",
       " 'BLEND_RGBA_MULT',\n",
       " 'BLEND_RGBA_SUB',\n",
       " 'BLEND_RGB_ADD',\n",
       " 'BLEND_RGB_MAX',\n",
       " 'BLEND_RGB_MIN',\n",
       " 'BLEND_RGB_MULT',\n",
       " 'BLEND_RGB_SUB',\n",
       " 'BLEND_SUB',\n",
       " 'BUTTON_LEFT',\n",
       " 'BUTTON_MIDDLE',\n",
       " 'BUTTON_RIGHT',\n",
       " 'BUTTON_WHEELDOWN',\n",
       " 'BUTTON_WHEELUP',\n",
       " 'BUTTON_X1',\n",
       " 'BUTTON_X2',\n",
       " 'BufferError',\n",
       " 'BufferProxy',\n",
       " 'Color',\n",
       " 'DOUBLEBUF',\n",
       " 'DROPBEGIN',\n",
       " 'DROPCOMPLETE',\n",
       " 'DROPFILE',\n",
       " 'DROPTEXT',\n",
       " 'FINGERDOWN',\n",
       " 'FINGERMOTION',\n",
       " 'FINGERUP',\n",
       " 'FULLSCREEN',\n",
       " 'GL_ACCELERATED_VISUAL',\n",
       " 'GL_ACCUM_ALPHA_SIZE',\n",
       " 'GL_ACCUM_BLUE_SIZE',\n",
       " 'GL_ACCUM_GREEN_SIZE',\n",
       " 'GL_ACCUM_RED_SIZE',\n",
       " 'GL_ALPHA_SIZE',\n",
       " 'GL_BLUE_SIZE',\n",
       " 'GL_BUFFER_SIZE',\n",
       " 'GL_DEPTH_SIZE',\n",
       " 'GL_DOUBLEBUFFER',\n",
       " 'GL_GREEN_SIZE',\n",
       " 'GL_MULTISAMPLEBUFFERS',\n",
       " 'GL_MULTISAMPLESAMPLES',\n",
       " 'GL_RED_SIZE',\n",
       " 'GL_STENCIL_SIZE',\n",
       " 'GL_STEREO',\n",
       " 'GL_SWAP_CONTROL',\n",
       " 'HAT_CENTERED',\n",
       " 'HAT_DOWN',\n",
       " 'HAT_LEFT',\n",
       " 'HAT_LEFTDOWN',\n",
       " 'HAT_LEFTUP',\n",
       " 'HAT_RIGHT',\n",
       " 'HAT_RIGHTDOWN',\n",
       " 'HAT_RIGHTUP',\n",
       " 'HAT_UP',\n",
       " 'HAVE_NEWBUF',\n",
       " 'HWACCEL',\n",
       " 'HWPALETTE',\n",
       " 'HWSURFACE',\n",
       " 'IYUV_OVERLAY',\n",
       " 'JOYAXISMOTION',\n",
       " 'JOYBALLMOTION',\n",
       " 'JOYBUTTONDOWN',\n",
       " 'JOYBUTTONUP',\n",
       " 'JOYHATMOTION',\n",
       " 'KEYDOWN',\n",
       " 'KEYUP',\n",
       " 'KMOD_ALT',\n",
       " 'KMOD_CAPS',\n",
       " 'KMOD_CTRL',\n",
       " 'KMOD_LALT',\n",
       " 'KMOD_LCTRL',\n",
       " 'KMOD_LMETA',\n",
       " 'KMOD_LSHIFT',\n",
       " 'KMOD_META',\n",
       " 'KMOD_MODE',\n",
       " 'KMOD_NONE',\n",
       " 'KMOD_NUM',\n",
       " 'KMOD_RALT',\n",
       " 'KMOD_RCTRL',\n",
       " 'KMOD_RMETA',\n",
       " 'KMOD_RSHIFT',\n",
       " 'KMOD_SHIFT',\n",
       " 'K_0',\n",
       " 'K_1',\n",
       " 'K_2',\n",
       " 'K_3',\n",
       " 'K_4',\n",
       " 'K_5',\n",
       " 'K_6',\n",
       " 'K_7',\n",
       " 'K_8',\n",
       " 'K_9',\n",
       " 'K_AMPERSAND',\n",
       " 'K_ASTERISK',\n",
       " 'K_AT',\n",
       " 'K_BACKQUOTE',\n",
       " 'K_BACKSLASH',\n",
       " 'K_BACKSPACE',\n",
       " 'K_BREAK',\n",
       " 'K_CAPSLOCK',\n",
       " 'K_CARET',\n",
       " 'K_CLEAR',\n",
       " 'K_COLON',\n",
       " 'K_COMMA',\n",
       " 'K_DELETE',\n",
       " 'K_DOLLAR',\n",
       " 'K_DOWN',\n",
       " 'K_END',\n",
       " 'K_EQUALS',\n",
       " 'K_ESCAPE',\n",
       " 'K_EURO',\n",
       " 'K_EXCLAIM',\n",
       " 'K_F1',\n",
       " 'K_F10',\n",
       " 'K_F11',\n",
       " 'K_F12',\n",
       " 'K_F13',\n",
       " 'K_F14',\n",
       " 'K_F15',\n",
       " 'K_F2',\n",
       " 'K_F3',\n",
       " 'K_F4',\n",
       " 'K_F5',\n",
       " 'K_F6',\n",
       " 'K_F7',\n",
       " 'K_F8',\n",
       " 'K_F9',\n",
       " 'K_FIRST',\n",
       " 'K_GREATER',\n",
       " 'K_HASH',\n",
       " 'K_HELP',\n",
       " 'K_HOME',\n",
       " 'K_INSERT',\n",
       " 'K_KP0',\n",
       " 'K_KP1',\n",
       " 'K_KP2',\n",
       " 'K_KP3',\n",
       " 'K_KP4',\n",
       " 'K_KP5',\n",
       " 'K_KP6',\n",
       " 'K_KP7',\n",
       " 'K_KP8',\n",
       " 'K_KP9',\n",
       " 'K_KP_DIVIDE',\n",
       " 'K_KP_ENTER',\n",
       " 'K_KP_EQUALS',\n",
       " 'K_KP_MINUS',\n",
       " 'K_KP_MULTIPLY',\n",
       " 'K_KP_PERIOD',\n",
       " 'K_KP_PLUS',\n",
       " 'K_LALT',\n",
       " 'K_LAST',\n",
       " 'K_LCTRL',\n",
       " 'K_LEFT',\n",
       " 'K_LEFTBRACKET',\n",
       " 'K_LEFTPAREN',\n",
       " 'K_LESS',\n",
       " 'K_LMETA',\n",
       " 'K_LSHIFT',\n",
       " 'K_LSUPER',\n",
       " 'K_MENU',\n",
       " 'K_MINUS',\n",
       " 'K_MODE',\n",
       " 'K_NUMLOCK',\n",
       " 'K_PAGEDOWN',\n",
       " 'K_PAGEUP',\n",
       " 'K_PAUSE',\n",
       " 'K_PERIOD',\n",
       " 'K_PLUS',\n",
       " 'K_POWER',\n",
       " 'K_PRINT',\n",
       " 'K_QUESTION',\n",
       " 'K_QUOTE',\n",
       " 'K_QUOTEDBL',\n",
       " 'K_RALT',\n",
       " 'K_RCTRL',\n",
       " 'K_RETURN',\n",
       " 'K_RIGHT',\n",
       " 'K_RIGHTBRACKET',\n",
       " 'K_RIGHTPAREN',\n",
       " 'K_RMETA',\n",
       " 'K_RSHIFT',\n",
       " 'K_RSUPER',\n",
       " 'K_SCROLLOCK',\n",
       " 'K_SEMICOLON',\n",
       " 'K_SLASH',\n",
       " 'K_SPACE',\n",
       " 'K_SYSREQ',\n",
       " 'K_TAB',\n",
       " 'K_UNDERSCORE',\n",
       " 'K_UNKNOWN',\n",
       " 'K_UP',\n",
       " 'K_a',\n",
       " 'K_b',\n",
       " 'K_c',\n",
       " 'K_d',\n",
       " 'K_e',\n",
       " 'K_f',\n",
       " 'K_g',\n",
       " 'K_h',\n",
       " 'K_i',\n",
       " 'K_j',\n",
       " 'K_k',\n",
       " 'K_l',\n",
       " 'K_m',\n",
       " 'K_n',\n",
       " 'K_o',\n",
       " 'K_p',\n",
       " 'K_q',\n",
       " 'K_r',\n",
       " 'K_s',\n",
       " 'K_t',\n",
       " 'K_u',\n",
       " 'K_v',\n",
       " 'K_w',\n",
       " 'K_x',\n",
       " 'K_y',\n",
       " 'K_z',\n",
       " 'LIL_ENDIAN',\n",
       " 'MOUSEBUTTONDOWN',\n",
       " 'MOUSEBUTTONUP',\n",
       " 'MOUSEMOTION',\n",
       " 'MOUSEWHEEL',\n",
       " 'MULTIGESTURE',\n",
       " 'Mask',\n",
       " 'NOEVENT',\n",
       " 'NOFRAME',\n",
       " 'NUMEVENTS',\n",
       " 'OPENGL',\n",
       " 'OPENGLBLIT',\n",
       " 'Overlay',\n",
       " 'PREALLOC',\n",
       " 'PixelArray',\n",
       " 'PygameVersion',\n",
       " 'QUIT',\n",
       " 'RESIZABLE',\n",
       " 'RLEACCEL',\n",
       " 'RLEACCELOK',\n",
       " 'Rect',\n",
       " 'SCRAP_BMP',\n",
       " 'SCRAP_CLIPBOARD',\n",
       " 'SCRAP_PBM',\n",
       " 'SCRAP_PPM',\n",
       " 'SCRAP_SELECTION',\n",
       " 'SCRAP_TEXT',\n",
       " 'SRCALPHA',\n",
       " 'SRCCOLORKEY',\n",
       " 'SWSURFACE',\n",
       " 'SYSWMEVENT',\n",
       " 'Surface',\n",
       " 'SurfaceType',\n",
       " 'TEXTEDITING',\n",
       " 'TEXTINPUT',\n",
       " 'TIMER_RESOLUTION',\n",
       " 'USEREVENT',\n",
       " 'USEREVENT_DROPFILE',\n",
       " 'UYVY_OVERLAY',\n",
       " 'VIDEOEXPOSE',\n",
       " 'VIDEORESIZE',\n",
       " 'Vector2',\n",
       " 'Vector3',\n",
       " 'WINDOWEVENT',\n",
       " 'WINDOWEVENT_CLOSE',\n",
       " 'YUY2_OVERLAY',\n",
       " 'YV12_OVERLAY',\n",
       " 'YVYU_OVERLAY',\n",
       " '__builtins__',\n",
       " '__cached__',\n",
       " '__color_constructor',\n",
       " '__color_reduce',\n",
       " '__doc__',\n",
       " '__file__',\n",
       " '__loader__',\n",
       " '__name__',\n",
       " '__package__',\n",
       " '__path__',\n",
       " '__rect_constructor',\n",
       " '__rect_reduce',\n",
       " '__spec__',\n",
       " '__version__',\n",
       " '_numpysndarray',\n",
       " '_numpysurfarray',\n",
       " 'base',\n",
       " 'bufferproxy',\n",
       " 'cdrom',\n",
       " 'color',\n",
       " 'colordict',\n",
       " 'compat',\n",
       " 'constants',\n",
       " 'cursors',\n",
       " 'display',\n",
       " 'draw',\n",
       " 'encode_file_path',\n",
       " 'encode_string',\n",
       " 'error',\n",
       " 'event',\n",
       " 'fastevent',\n",
       " 'font',\n",
       " 'get_array_interface',\n",
       " 'get_error',\n",
       " 'get_init',\n",
       " 'get_sdl_byteorder',\n",
       " 'get_sdl_version',\n",
       " 'image',\n",
       " 'init',\n",
       " 'joystick',\n",
       " 'key',\n",
       " 'mask',\n",
       " 'math',\n",
       " 'mixer',\n",
       " 'mixer_music',\n",
       " 'mouse',\n",
       " 'movie',\n",
       " 'overlay',\n",
       " 'packager_imports',\n",
       " 'pixelarray',\n",
       " 'pixelcopy',\n",
       " 'pygame_dir',\n",
       " 'quit',\n",
       " 'rect',\n",
       " 'register_quit',\n",
       " 'rev',\n",
       " 'rwobject',\n",
       " 'scrap',\n",
       " 'segfault',\n",
       " 'set_error',\n",
       " 'sndarray',\n",
       " 'sprite',\n",
       " 'surface',\n",
       " 'surfarray',\n",
       " 'sysfont',\n",
       " 'threads',\n",
       " 'time',\n",
       " 'transform',\n",
       " 'ver',\n",
       " 'vernum',\n",
       " 'version',\n",
       " 'warn_unwanted_files']"
      ]
     },
     "execution_count": 53,
     "metadata": {},
     "output_type": "execute_result"
    }
   ],
   "source": [
    "dir(pygame)"
   ]
  },
  {
   "cell_type": "markdown",
   "metadata": {},
   "source": [
    "***\n",
    "## Giải đáp các tình huống"
   ]
  },
  {
   "cell_type": "markdown",
   "metadata": {},
   "source": [
    "**Tình huống 1:** Vì sao khi ghi tham số `end`, kết quả in không xuống dòng?"
   ]
  },
  {
   "cell_type": "code",
   "execution_count": null,
   "metadata": {},
   "outputs": [],
   "source": [
    "print('abcd')\n",
    "print('1234')"
   ]
  },
  {
   "cell_type": "code",
   "execution_count": null,
   "metadata": {},
   "outputs": [],
   "source": [
    "print('abc', end='d')\n",
    "print('123', end='4')"
   ]
  },
  {
   "cell_type": "markdown",
   "metadata": {},
   "source": [
    "Giá trị mặc định của tham số `end` là `'\\n'` mang ý nghĩa \"new line\". Khi giá trị này bị thay đổi, hàm `print()` không xuống dòng nữa."
   ]
  },
  {
   "cell_type": "markdown",
   "metadata": {},
   "source": [
    "**Tình huống 2:** Làm thế nào để in ra nhiều dòng, chỉ dùng một hàm `print()`?"
   ]
  },
  {
   "cell_type": "code",
   "execution_count": null,
   "metadata": {},
   "outputs": [],
   "source": [
    "print('python', 'anaconda', 'jupyter', sep='\\n')"
   ]
  },
  {
   "cell_type": "markdown",
   "metadata": {},
   "source": [
    "**Tình huống 3:** Cho a = 4, b = 7. Sử dụng 1 phép gán, hoán đổi giá trị của a và b."
   ]
  },
  {
   "cell_type": "code",
   "execution_count": null,
   "metadata": {},
   "outputs": [],
   "source": [
    "a = 4\n",
    "b = 7\n",
    "\n",
    "a, b = b, a\n",
    "\n",
    "print(a)\n",
    "print(b)"
   ]
  }
 ],
 "metadata": {
  "kernelspec": {
   "display_name": "Python 3",
   "language": "python",
   "name": "python3"
  },
  "language_info": {
   "codemirror_mode": {
    "name": "ipython",
    "version": 3
   },
   "file_extension": ".py",
   "mimetype": "text/x-python",
   "name": "python",
   "nbconvert_exporter": "python",
   "pygments_lexer": "ipython3",
   "version": "3.8.3"
  }
 },
 "nbformat": 4,
 "nbformat_minor": 4
}
