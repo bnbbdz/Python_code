{
 "cells": [
  {
   "cell_type": "markdown",
   "metadata": {},
   "source": [
    "# BÀI 2: CÁC OBJECT ĐƠN GIẢN VÀ CONTROL FLOW"
   ]
  },
  {
   "cell_type": "markdown",
   "metadata": {},
   "source": [
    "## 1. Kiểu dữ liệu số"
   ]
  },
  {
   "cell_type": "markdown",
   "metadata": {},
   "source": [
    "### 1.1. Khởi tạo"
   ]
  },
  {
   "cell_type": "code",
   "execution_count": 1,
   "metadata": {
    "colab": {},
    "colab_type": "code",
    "id": "YgvVMooyJTAg"
   },
   "outputs": [
    {
     "data": {
      "text/plain": [
       "int"
      ]
     },
     "execution_count": 1,
     "metadata": {},
     "output_type": "execute_result"
    }
   ],
   "source": [
    "a = 10\n",
    "type(a)"
   ]
  },
  {
   "cell_type": "code",
   "execution_count": 2,
   "metadata": {
    "colab": {},
    "colab_type": "code",
    "id": "euFB-1k0JTAk"
   },
   "outputs": [
    {
     "data": {
      "text/plain": [
       "float"
      ]
     },
     "execution_count": 2,
     "metadata": {},
     "output_type": "execute_result"
    }
   ],
   "source": [
    "b = 1.25\n",
    "type(b)"
   ]
  },
  {
   "cell_type": "code",
   "execution_count": 3,
   "metadata": {
    "scrolled": true
   },
   "outputs": [
    {
     "data": {
      "text/plain": [
       "complex"
      ]
     },
     "execution_count": 3,
     "metadata": {},
     "output_type": "execute_result"
    }
   ],
   "source": [
    "c = 3 + 4j\n",
    "type(c)"
   ]
  },
  {
   "cell_type": "code",
   "execution_count": 4,
   "metadata": {},
   "outputs": [
    {
     "data": {
      "text/plain": [
       "100000.0"
      ]
     },
     "execution_count": 4,
     "metadata": {},
     "output_type": "execute_result"
    }
   ],
   "source": [
    "1e5"
   ]
  },
  {
   "cell_type": "code",
   "execution_count": 5,
   "metadata": {},
   "outputs": [
    {
     "data": {
      "text/plain": [
       "3"
      ]
     },
     "execution_count": 5,
     "metadata": {},
     "output_type": "execute_result"
    }
   ],
   "source": [
    "int(3.14)"
   ]
  },
  {
   "cell_type": "code",
   "execution_count": 6,
   "metadata": {},
   "outputs": [
    {
     "data": {
      "text/plain": [
       "7"
      ]
     },
     "execution_count": 6,
     "metadata": {},
     "output_type": "execute_result"
    }
   ],
   "source": [
    "int('7')"
   ]
  },
  {
   "cell_type": "code",
   "execution_count": 7,
   "metadata": {},
   "outputs": [
    {
     "data": {
      "text/plain": [
       "5.0"
      ]
     },
     "execution_count": 7,
     "metadata": {},
     "output_type": "execute_result"
    }
   ],
   "source": [
    "float(5)"
   ]
  },
  {
   "cell_type": "code",
   "execution_count": 8,
   "metadata": {},
   "outputs": [
    {
     "data": {
      "text/plain": [
       "3.14"
      ]
     },
     "execution_count": 8,
     "metadata": {},
     "output_type": "execute_result"
    }
   ],
   "source": [
    "float('3.14')"
   ]
  },
  {
   "cell_type": "code",
   "execution_count": 9,
   "metadata": {},
   "outputs": [
    {
     "data": {
      "text/plain": [
       "(7+0j)"
      ]
     },
     "execution_count": 9,
     "metadata": {},
     "output_type": "execute_result"
    }
   ],
   "source": [
    "complex(7)"
   ]
  },
  {
   "cell_type": "code",
   "execution_count": 10,
   "metadata": {},
   "outputs": [
    {
     "data": {
      "text/plain": [
       "(3+4j)"
      ]
     },
     "execution_count": 10,
     "metadata": {},
     "output_type": "execute_result"
    }
   ],
   "source": [
    "complex(3, 4)"
   ]
  },
  {
   "cell_type": "markdown",
   "metadata": {},
   "source": [
    "**Chú ý:** `int()`, `float()`, `complex()` được gọi là các hàm khởi tạo. Mỗi object đều có hàm khởi tạo riêng."
   ]
  },
  {
   "cell_type": "markdown",
   "metadata": {},
   "source": [
    "### 1.2. Dấu và các hàm toán học"
   ]
  },
  {
   "cell_type": "markdown",
   "metadata": {},
   "source": [
    "#### Các loại dấu cơ bản"
   ]
  },
  {
   "cell_type": "code",
   "execution_count": null,
   "metadata": {
    "colab": {},
    "colab_type": "code",
    "id": "fQzM2bmIJTAq"
   },
   "outputs": [],
   "source": [
    "# tổng\n",
    "5 + 3.14"
   ]
  },
  {
   "cell_type": "code",
   "execution_count": null,
   "metadata": {},
   "outputs": [],
   "source": [
    "# hiệu\n",
    "6 - 9"
   ]
  },
  {
   "cell_type": "code",
   "execution_count": null,
   "metadata": {
    "colab": {},
    "colab_type": "code",
    "id": "A1nDpmALNbzK"
   },
   "outputs": [],
   "source": [
    "# tích\n",
    "3 * (5+2.5j)"
   ]
  },
  {
   "cell_type": "code",
   "execution_count": null,
   "metadata": {
    "colab": {},
    "colab_type": "code",
    "id": "bJg3Dg7VNbzF"
   },
   "outputs": [],
   "source": [
    "# thương\n",
    "40 / 8"
   ]
  },
  {
   "cell_type": "code",
   "execution_count": null,
   "metadata": {
    "colab": {},
    "colab_type": "code",
    "id": "-9RXY34va9m9"
   },
   "outputs": [],
   "source": [
    "# thương trong phép chia có dư\n",
    "41 // 5"
   ]
  },
  {
   "cell_type": "code",
   "execution_count": null,
   "metadata": {},
   "outputs": [],
   "source": [
    "# số dư của phép chia\n",
    "41 % 5"
   ]
  },
  {
   "cell_type": "code",
   "execution_count": null,
   "metadata": {
    "colab": {},
    "colab_type": "code",
    "id": "nueqBNyTNbzN"
   },
   "outputs": [],
   "source": [
    "# hàm lũy thừa, trả về 2^5\n",
    "2 ** 5"
   ]
  },
  {
   "cell_type": "code",
   "execution_count": null,
   "metadata": {
    "colab": {},
    "colab_type": "code",
    "id": "8LRE4X1Xa9m_"
   },
   "outputs": [],
   "source": [
    "# căn bậc 2\n",
    "import math\n",
    "math.sqrt(25)"
   ]
  },
  {
   "cell_type": "code",
   "execution_count": null,
   "metadata": {
    "scrolled": true
   },
   "outputs": [],
   "source": [
    "# giá trị tuyệt đối\n",
    "abs(-7)"
   ]
  },
  {
   "cell_type": "markdown",
   "metadata": {},
   "source": [
    "**Tình huống 1:** Với các giá trị a, b, c cho trước, tính biệt thức delta của hàm số bậc hai $ax^2+bx+c$: $$\\Delta=\\sqrt{b^2-4ac}$$"
   ]
  },
  {
   "cell_type": "markdown",
   "metadata": {},
   "source": [
    "#### Hàm và hằng số toán học\n",
    "[Documentation](https://docs.python.org/3.7/library/math.html)"
   ]
  },
  {
   "cell_type": "code",
   "execution_count": null,
   "metadata": {
    "colab": {},
    "colab_type": "code",
    "id": "9c2EzigYa9nD"
   },
   "outputs": [],
   "source": [
    "# làm tròn đến 2 chữ số thập phân\n",
    "round(1.4825, 2)"
   ]
  },
  {
   "cell_type": "code",
   "execution_count": null,
   "metadata": {},
   "outputs": [],
   "source": [
    "# làm tròn về số nguyên\n",
    "round(1.85)"
   ]
  },
  {
   "cell_type": "code",
   "execution_count": null,
   "metadata": {},
   "outputs": [],
   "source": [
    "import math"
   ]
  },
  {
   "cell_type": "code",
   "execution_count": null,
   "metadata": {},
   "outputs": [],
   "source": [
    "# hằng số pi\n",
    "math.pi"
   ]
  },
  {
   "cell_type": "code",
   "execution_count": null,
   "metadata": {},
   "outputs": [],
   "source": [
    "# hằng số e\n",
    "math.e"
   ]
  },
  {
   "cell_type": "code",
   "execution_count": null,
   "metadata": {},
   "outputs": [],
   "source": [
    "# vô cùng\n",
    "1/math.inf"
   ]
  },
  {
   "cell_type": "code",
   "execution_count": null,
   "metadata": {},
   "outputs": [],
   "source": [
    "# giai thừa\n",
    "math.factorial(10)"
   ]
  },
  {
   "cell_type": "code",
   "execution_count": null,
   "metadata": {},
   "outputs": [],
   "source": [
    "# e^2\n",
    "math.exp(2)"
   ]
  },
  {
   "cell_type": "code",
   "execution_count": null,
   "metadata": {},
   "outputs": [],
   "source": [
    "# logarit tự nhiên\n",
    "math.log(math.e)"
   ]
  },
  {
   "cell_type": "code",
   "execution_count": null,
   "metadata": {},
   "outputs": [],
   "source": [
    "# logarit cơ số 10\n",
    "math.log(100, 10)"
   ]
  },
  {
   "cell_type": "markdown",
   "metadata": {},
   "source": [
    "### 1.3. Một số phương thức và thuộc tính"
   ]
  },
  {
   "cell_type": "code",
   "execution_count": null,
   "metadata": {},
   "outputs": [],
   "source": [
    "# kiểm tra có phải số nguyên hay không\n",
    "my_decimal = 7.0\n",
    "my_decimal.is_integer()"
   ]
  },
  {
   "cell_type": "code",
   "execution_count": null,
   "metadata": {},
   "outputs": [],
   "source": [
    "# phần thực của số phức\n",
    "my_complex = 3+4j\n",
    "my_complex.real"
   ]
  },
  {
   "cell_type": "code",
   "execution_count": null,
   "metadata": {},
   "outputs": [],
   "source": [
    "# phẩn ảo của số phức\n",
    "my_complex = 3+4j\n",
    "my_complex.imag"
   ]
  },
  {
   "cell_type": "markdown",
   "metadata": {
    "colab_type": "text",
    "id": "XA86Fse0JTAw"
   },
   "source": [
    "## 2. Kiểu dữ liệu Boolean\n",
    "[Toán tử Boolean](https://docs.python.org/3/library/stdtypes.html#boolean-operations-and-or-not)\n",
    "\n",
    "Có 2 giá trị Boolean trong Python là `True` và `False` (viết hoa).\\\n",
    "Các phép so sánh và điều kiện trả về `True` or `False`. Chúng thường được sử dụng kết hợp với các toán tử `and` và `or`."
   ]
  },
  {
   "cell_type": "markdown",
   "metadata": {
    "colab_type": "text",
    "id": "pkWn3c_ia9pK"
   },
   "source": [
    "### 2.1. Ứng dụng của kiểu dữ liệu Boolean"
   ]
  },
  {
   "cell_type": "markdown",
   "metadata": {
    "colab_type": "text",
    "id": "pkWn3c_ia9pK"
   },
   "source": [
    "**So sánh**"
   ]
  },
  {
   "cell_type": "code",
   "execution_count": null,
   "metadata": {
    "colab": {},
    "colab_type": "code",
    "id": "jTK2MehHNb1r",
    "scrolled": true
   },
   "outputs": [],
   "source": [
    "1 == 2"
   ]
  },
  {
   "cell_type": "code",
   "execution_count": null,
   "metadata": {
    "colab": {},
    "colab_type": "code",
    "id": "hwvwVSt8Nb1u"
   },
   "outputs": [],
   "source": [
    "1 < 2"
   ]
  },
  {
   "cell_type": "code",
   "execution_count": null,
   "metadata": {
    "colab": {},
    "colab_type": "code",
    "id": "SwpaGQEWNb1v"
   },
   "outputs": [],
   "source": [
    "a = 3\n",
    "b = 2\n",
    "c = 1\n",
    "d = 4"
   ]
  },
  {
   "cell_type": "code",
   "execution_count": null,
   "metadata": {
    "colab": {},
    "colab_type": "code",
    "id": "PvU4TSp8Nb1y"
   },
   "outputs": [],
   "source": [
    "(a > b) and (b > c)"
   ]
  },
  {
   "cell_type": "code",
   "execution_count": null,
   "metadata": {
    "colab": {},
    "colab_type": "code",
    "id": "-8rRq5uWNb10"
   },
   "outputs": [],
   "source": [
    "a > b > c > d"
   ]
  },
  {
   "cell_type": "markdown",
   "metadata": {
    "colab_type": "text",
    "id": "LLpPAoh8a9pd"
   },
   "source": [
    "**Điều kiện**"
   ]
  },
  {
   "cell_type": "code",
   "execution_count": null,
   "metadata": {
    "colab": {},
    "colab_type": "code",
    "id": "_qlVntatNb2S"
   },
   "outputs": [],
   "source": [
    "# nếu \"a\" nằm trong 'anaconda'\n",
    "'a' in 'anaconda'"
   ]
  },
  {
   "cell_type": "code",
   "execution_count": null,
   "metadata": {},
   "outputs": [],
   "source": [
    "'b' not in 'anaconda'"
   ]
  },
  {
   "cell_type": "code",
   "execution_count": null,
   "metadata": {
    "colab": {},
    "colab_type": "code",
    "id": "Ci1LHkYFa9pg"
   },
   "outputs": [],
   "source": [
    "# nếu tất cả ký tự là số\n",
    "'1996'.isdigit()"
   ]
  },
  {
   "cell_type": "code",
   "execution_count": null,
   "metadata": {},
   "outputs": [],
   "source": [
    "isinstance(672., float)"
   ]
  },
  {
   "cell_type": "markdown",
   "metadata": {
    "colab_type": "text",
    "id": "n6Sgmhq9a9pR"
   },
   "source": [
    "### 2.2. Toán tử Boolean\n",
    "\n",
    "`True   and  True   =  True`  \n",
    "`True   or   True   =  True`\\\n",
    "`False  and  False  =  False`\\\n",
    "`False  or   False  =  False`\\\n",
    "`True   and  False  =  False`\\\n",
    "`True   or   False  =  True`"
   ]
  },
  {
   "cell_type": "code",
   "execution_count": null,
   "metadata": {
    "colab": {},
    "colab_type": "code",
    "id": "7pFlfM3Ba9pR"
   },
   "outputs": [],
   "source": [
    "True and False and False or True\n",
    "# = False and False or True\n",
    "# = False or True\n",
    "# = True"
   ]
  },
  {
   "cell_type": "code",
   "execution_count": null,
   "metadata": {},
   "outputs": [],
   "source": [
    "True and (False and True) or (False or True)\n",
    "# = True and False or True\n",
    "# = False or True\n",
    "# = True"
   ]
  },
  {
   "cell_type": "markdown",
   "metadata": {
    "colab_type": "text",
    "id": "cY3RRzgIa9pS"
   },
   "source": [
    "### 2.3. Chuyển đổi sang Boolean"
   ]
  },
  {
   "cell_type": "code",
   "execution_count": null,
   "metadata": {},
   "outputs": [],
   "source": [
    "bool(1)"
   ]
  },
  {
   "cell_type": "code",
   "execution_count": null,
   "metadata": {},
   "outputs": [],
   "source": [
    "bool(0)"
   ]
  },
  {
   "cell_type": "markdown",
   "metadata": {
    "colab_type": "text",
    "id": "yjG5RMMmJS-r"
   },
   "source": [
    "## 3. Kiểu dữ liệu None\n",
    "`None` (viết hoa) nghĩa là \"không có dữ liệu\", là một đối tượng hoàn toàn phân biệt với số `0`."
   ]
  },
  {
   "cell_type": "code",
   "execution_count": null,
   "metadata": {},
   "outputs": [],
   "source": [
    "None == 0"
   ]
  },
  {
   "cell_type": "markdown",
   "metadata": {},
   "source": [
    "## Tổng kết về hàm, phương thức, hằng số và thuộc tính\n",
    "\n",
    "Đối tượng  |Thuật ngữ tiếng Anh|Chức năng              |Phạm vi              |Cú pháp                            |\n",
    ":----------|:------------------|:----------------------|:--------------------|:----------------------------------|\n",
    "Hàm        |**Function**       |Thực hiện một hành động|Độc lập              |`function(parameter=argument)`     |\n",
    "Phương thức|**Method**         |Thực hiện một hành động|Gắn với một đối tượng|`object.method(parameter=argument)`|\n",
    "Hằng số    |**Constant**       |Trả về một giá trị     |Độc lập              |`constant`                         |\n",
    "Thuộc tính |**Attribute**      |Trả về một giá trị     |Gắn với một đối tượng|`object.attribute`                 |"
   ]
  },
  {
   "cell_type": "markdown",
   "metadata": {},
   "source": [
    "**Tình huống 2:** Nêu ra một số hàm, phương thức, hằng số, thuộc tính đã học."
   ]
  },
  {
   "cell_type": "markdown",
   "metadata": {},
   "source": [
    "## 4. Điều kiện rẽ nhánh\n",
    "Sử dụng `if`, `else`, `elif`."
   ]
  },
  {
   "cell_type": "markdown",
   "metadata": {},
   "source": [
    "Nếu điều kiện nhận giá trị `True`, phần thân của lệnh `if` được thực hiện.\\\n",
    "Nếu điều kiện nhận giá trị `False`, phần thân của lệnh `else` được thực hiện."
   ]
  },
  {
   "cell_type": "code",
   "execution_count": null,
   "metadata": {
    "scrolled": true
   },
   "outputs": [],
   "source": [
    "x = 10\n",
    "if x > 0:\n",
    "    print('x is positive')\n",
    "else:\n",
    "    print('x is at most 0')"
   ]
  },
  {
   "cell_type": "markdown",
   "metadata": {},
   "source": [
    "Dùng nhiều lệnh `if... else...` lồng nhau để tạo thêm nhánh."
   ]
  },
  {
   "cell_type": "code",
   "execution_count": null,
   "metadata": {},
   "outputs": [],
   "source": [
    "x = 10\n",
    "if x > 0:\n",
    "    print('x is positive')\n",
    "else:\n",
    "    if x == 0:\n",
    "        print('x equals 0')\n",
    "    else:\n",
    "        print('x is negative')"
   ]
  },
  {
   "cell_type": "markdown",
   "metadata": {},
   "source": [
    "Hoặc dùng `elif` thay thế."
   ]
  },
  {
   "cell_type": "code",
   "execution_count": null,
   "metadata": {},
   "outputs": [],
   "source": [
    "x = 10\n",
    "if x > 0:\n",
    "    print('x is positive')\n",
    "elif x == 0:\n",
    "    print('x equals 0')\n",
    "else:\n",
    "    print('x is negative')"
   ]
  },
  {
   "cell_type": "markdown",
   "metadata": {},
   "source": [
    "**Tình huống 3:** Viết công thức giải phương trình $ax + b = 0$."
   ]
  },
  {
   "cell_type": "markdown",
   "metadata": {},
   "source": [
    "**Tình huống 4:** Cho số nguyên x:\n",
    "- In \"Ok\" nếu x chia hết cho 3\n",
    "- In \"Fine\" nếu x chia hết cho 7\n",
    "- In \"Ok fine\" nếu x chia hết cho cả 3 và 7\n",
    "- In \"Nope\" nếu x không chia hết cho cả 3 và 7"
   ]
  },
  {
   "cell_type": "markdown",
   "metadata": {},
   "source": [
    "## 5. Vòng lặp `while`\n",
    "Vòng lặp `while` thực hiện phần thân lặp đi lặp lại cho đến khi điều kiện lặp có giá trị `False`."
   ]
  },
  {
   "cell_type": "code",
   "execution_count": null,
   "metadata": {},
   "outputs": [],
   "source": [
    "x = 0\n",
    "while x < 10:\n",
    "    print(x)\n",
    "    x += 1"
   ]
  },
  {
   "cell_type": "markdown",
   "metadata": {},
   "source": [
    "Thêm 1 ràng buộc cho điều kiện của `while`."
   ]
  },
  {
   "cell_type": "code",
   "execution_count": null,
   "metadata": {},
   "outputs": [],
   "source": [
    "x = 0\n",
    "while x < 10 and x != 5:\n",
    "    print(x)\n",
    "    x += 1"
   ]
  },
  {
   "cell_type": "markdown",
   "metadata": {},
   "source": [
    "Dùng lệnh `break` để ngừng vòng lặp."
   ]
  },
  {
   "cell_type": "code",
   "execution_count": null,
   "metadata": {},
   "outputs": [],
   "source": [
    "x = 0\n",
    "while x < 10:\n",
    "    print(x)\n",
    "    x += 1\n",
    "    if x == 5:\n",
    "        break"
   ]
  },
  {
   "cell_type": "code",
   "execution_count": null,
   "metadata": {},
   "outputs": [],
   "source": [
    "x = 0\n",
    "while True:\n",
    "    x += 1\n",
    "    print(x)\n",
    "    if x >= 10 or x == 5:\n",
    "        break"
   ]
  },
  {
   "cell_type": "markdown",
   "metadata": {},
   "source": [
    "Dùng lệnh `continue` để kết thúc bước lặp hiện tại và chuyển sang bước tiếp theo."
   ]
  },
  {
   "cell_type": "code",
   "execution_count": null,
   "metadata": {},
   "outputs": [],
   "source": [
    "x = 0\n",
    "while x < 10:\n",
    "    x += 1\n",
    "    if x == 5:\n",
    "        continue\n",
    "    print(x)"
   ]
  },
  {
   "cell_type": "markdown",
   "metadata": {},
   "source": [
    "**Tình huống 5:** Viết chương trình tính giai thừa của một số tự nhiên.\n",
    "$$n!=1 \\times 2 \\times 3 \\times \\dots \\times n$$ "
   ]
  },
  {
   "cell_type": "markdown",
   "metadata": {},
   "source": [
    "## 6. Vòng lặp `for`\n",
    "Vòng lặp `for` chạy qua mỗi phần tử trong một danh sách và thực hiện phần thân với mỗi giá trị đó."
   ]
  },
  {
   "cell_type": "code",
   "execution_count": null,
   "metadata": {},
   "outputs": [],
   "source": [
    "for i in [1, 2, 3, None, 5]:\n",
    "    print(i)"
   ]
  },
  {
   "cell_type": "markdown",
   "metadata": {},
   "source": [
    "Lệnh `break` và `continue` cũng dùng được với vòng lặp `for`."
   ]
  },
  {
   "cell_type": "code",
   "execution_count": null,
   "metadata": {},
   "outputs": [],
   "source": [
    "for i in [1, 2, 3, 4, 5]:\n",
    "    if i == 4:\n",
    "        break\n",
    "    print(i)"
   ]
  },
  {
   "cell_type": "code",
   "execution_count": null,
   "metadata": {},
   "outputs": [],
   "source": [
    "total = 0\n",
    "for i in [1, 2, 3, None, 5]:\n",
    "    if i == None:\n",
    "        continue\n",
    "    total += i\n",
    "total"
   ]
  },
  {
   "cell_type": "markdown",
   "metadata": {},
   "source": [
    "**Tình huống 6:** Tìm số lớn nhất trong một danh sách, sử dụng vòng lặp `for`."
   ]
  },
  {
   "cell_type": "markdown",
   "metadata": {},
   "source": [
    "**Tình huống 7:** In ra các số tự nhiên nhỏ hơn 100 chia hết cho cả 3 và 5. Sử dụng 2 cách: `while` và `for`."
   ]
  },
  {
   "cell_type": "markdown",
   "metadata": {},
   "source": [
    "## 7. Xử lý lỗi\n",
    "[Documentation](https://docs.python.org/3/tutorial/errors.html)."
   ]
  },
  {
   "cell_type": "markdown",
   "metadata": {},
   "source": [
    "**Các loại lỗi trong Python**\n",
    "- Lỗi cú pháp (syntax error) - lỗi do viết code sai, thường gặp bởi những người mới học\n",
    "- Lỗi logic (logical error) - lỗi xảy ra trong quá trình thực thi code"
   ]
  },
  {
   "cell_type": "markdown",
   "metadata": {},
   "source": [
    "Lỗi cú pháp: thiếu dấu hai chấm `:`."
   ]
  },
  {
   "cell_type": "code",
   "execution_count": null,
   "metadata": {},
   "outputs": [],
   "source": [
    "if 1 > 0\n",
    "    print(True)"
   ]
  },
  {
   "cell_type": "markdown",
   "metadata": {},
   "source": [
    "Lỗi logic: chia cho 0."
   ]
  },
  {
   "cell_type": "code",
   "execution_count": null,
   "metadata": {},
   "outputs": [],
   "source": [
    "1/0"
   ]
  },
  {
   "cell_type": "markdown",
   "metadata": {},
   "source": [
    "Lỗi logic: chưa gán giá trị cho biến."
   ]
  },
  {
   "cell_type": "code",
   "execution_count": null,
   "metadata": {},
   "outputs": [],
   "source": [
    "print(no_name)"
   ]
  },
  {
   "cell_type": "markdown",
   "metadata": {},
   "source": [
    "**Xử lý lỗi**\\\n",
    "Đoạn code có thể phát sinh lỗi sẽ được đặt trong lệnh `try`. Phương án xử lý lỗi được viết trong lệnh `except`."
   ]
  },
  {
   "cell_type": "code",
   "execution_count": null,
   "metadata": {},
   "outputs": [],
   "source": [
    "try:\n",
    "    print(1/0)\n",
    "except:\n",
    "    print('Cannot execute')"
   ]
  },
  {
   "cell_type": "markdown",
   "metadata": {},
   "source": [
    "***\n",
    "## Giải đáp tình huống"
   ]
  },
  {
   "cell_type": "markdown",
   "metadata": {},
   "source": [
    "**Tình huống 1:** Với các giá trị a, b, c cho trước, tính biệt thức delta của hàm số bậc hai $ax^2+bx+c$: $$\\Delta=\\sqrt{b^2-4ac}$$"
   ]
  },
  {
   "cell_type": "code",
   "execution_count": null,
   "metadata": {},
   "outputs": [],
   "source": [
    "a = 4\n",
    "b = 8\n",
    "c = -3\n",
    "\n",
    "from math import sqrt\n",
    "delta = sqrt(b**2 - 4*a*c)\n",
    "delta"
   ]
  },
  {
   "cell_type": "markdown",
   "metadata": {},
   "source": [
    "**Tình huống 2:** Nêu ra một số hàm, phương thức, hằng số, thuộc tính đã học.\n",
    "\n",
    "- Functions: `print()`, `type()`, `dir()`, `sum()`, `math.sqrt()`, `math.log()`,...\n",
    "- Methods: `float.is_integer()`, `datetime.datetime.now()`, `datetime.date.today()`,...\n",
    "- Constants: `None`, `True`, `False`, `math.pi`, `math.e`,...\n",
    "- Attributes: `complex.real`, `complex.imag`, `datetime.datetime.year`,..."
   ]
  },
  {
   "cell_type": "markdown",
   "metadata": {},
   "source": [
    "**Tình huống 3:** Viết công thức giải phương trình $ax + b = 0$. Nghiệm được làm tròn đến 2 chữ số thập phân."
   ]
  },
  {
   "cell_type": "code",
   "execution_count": null,
   "metadata": {},
   "outputs": [],
   "source": [
    "a = 7\n",
    "b = -6\n",
    "\n",
    "print(f'The equation: {a}x + {b} = 0')\n",
    "if a == 0:\n",
    "    print('Inconsistant')\n",
    "elif a != 0:\n",
    "    x = -b/a\n",
    "    x = round(x, 2)\n",
    "    print(f'x = {x}')"
   ]
  },
  {
   "cell_type": "markdown",
   "metadata": {},
   "source": [
    "**Tình huống 4:** Cho số nguyên x:\n",
    "- In \"Ok\" nếu x chia hết cho 3\n",
    "- In \"Fine\" nếu x chia hết cho 7\n",
    "- In \"Ok fine\" nếu x chia hết cho cả 3 và 7\n",
    "- In \"Nope\" nếu x không chia hết cho cả 3 và 7"
   ]
  },
  {
   "cell_type": "code",
   "execution_count": null,
   "metadata": {},
   "outputs": [],
   "source": [
    "x = 100\n",
    "\n",
    "if x%3 == 0 and x%7 == 0:\n",
    "    print('Ok fine')\n",
    "elif x%3 == 0:\n",
    "    print('Ok')\n",
    "elif x%7 == 0:\n",
    "    print('Fine')\n",
    "else:\n",
    "    print('Nope')"
   ]
  },
  {
   "cell_type": "markdown",
   "metadata": {},
   "source": [
    "**Tình huống 5:** Viết chương trình tính giai thừa của một số tự nhiên.\n",
    "$$n!=1 \\times 2 \\times 3 \\times \\dots \\times n$$ "
   ]
  },
  {
   "cell_type": "code",
   "execution_count": null,
   "metadata": {},
   "outputs": [],
   "source": [
    "x = 10\n",
    "\n",
    "i = 1\n",
    "x_factorial = 1\n",
    "while True:\n",
    "    x_factorial *= i\n",
    "    i += 1\n",
    "    if i == 10:\n",
    "        break\n",
    "\n",
    "x_factorial"
   ]
  },
  {
   "cell_type": "markdown",
   "metadata": {},
   "source": [
    "**Tình huống 6:** Tìm số lớn nhất trong một danh sách, sử dụng vòng lặp `for`."
   ]
  },
  {
   "cell_type": "code",
   "execution_count": null,
   "metadata": {},
   "outputs": [],
   "source": [
    "# giải đáp\n",
    "data = [5, 10, -7, 4, -15, 1, 0]\n",
    "\n",
    "maximum = None\n",
    "for i in data:\n",
    "    if maximum == None:\n",
    "        maximum = i\n",
    "    if maximum < i:\n",
    "        maximum = i\n",
    "print(maximum)"
   ]
  },
  {
   "cell_type": "markdown",
   "metadata": {},
   "source": [
    "**Tình huống 7:** In ra các số tự nhiên nhỏ hơn 100 chia hết cho cả 3 và 5. Sử dụng 2 cách: `while` và `for`."
   ]
  },
  {
   "cell_type": "code",
   "execution_count": null,
   "metadata": {},
   "outputs": [],
   "source": [
    "for i in range(100):\n",
    "    if i%3 == 0 and i%5 == 0:\n",
    "        print(i)"
   ]
  },
  {
   "cell_type": "code",
   "execution_count": null,
   "metadata": {},
   "outputs": [],
   "source": [
    "i = 0\n",
    "while i < 100:\n",
    "    if i%3 == 0 and i%5 == 0:\n",
    "        print(i)\n",
    "    i += 1"
   ]
  }
 ],
 "metadata": {
  "anaconda-cloud": {},
  "colab": {
   "name": "Lecture 2.ipynb",
   "provenance": [],
   "version": "0.3.2"
  },
  "kernelspec": {
   "display_name": "Python 3",
   "language": "python",
   "name": "python3"
  },
  "language_info": {
   "codemirror_mode": {
    "name": "ipython",
    "version": 3
   },
   "file_extension": ".py",
   "mimetype": "text/x-python",
   "name": "python",
   "nbconvert_exporter": "python",
   "pygments_lexer": "ipython3",
   "version": "3.8.3"
  }
 },
 "nbformat": 4,
 "nbformat_minor": 4
}
