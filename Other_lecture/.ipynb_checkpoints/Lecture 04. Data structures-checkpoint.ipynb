{
 "cells": [
  {
   "cell_type": "markdown",
   "metadata": {
    "colab_type": "text",
    "id": "4OP8FoYkOhy8"
   },
   "source": [
    "# BÀI 4: CẤU TRÚC DỮ LIỆU"
   ]
  },
  {
   "cell_type": "markdown",
   "metadata": {},
   "source": [
    "## 1. List"
   ]
  },
  {
   "cell_type": "markdown",
   "metadata": {
    "colab_type": "text",
    "id": "gyNLPl4FOh01"
   },
   "source": [
    "`list` là kiểu dữ liệu chứa các phần tử có thứ tự. `list` có thể chỉnh sửa được (mutable).\\\n",
    "Có thể tạo ra `list` bằng dấu ngoặc vuông `[]` hoặc dùng hàm khởi tạo `list()`."
   ]
  },
  {
   "cell_type": "code",
   "execution_count": null,
   "metadata": {},
   "outputs": [],
   "source": [
    "# chuyển string sang list\n",
    "list('python')"
   ]
  },
  {
   "cell_type": "code",
   "execution_count": null,
   "metadata": {},
   "outputs": [],
   "source": [
    "# chứa nhiều kiểu dữ liệu khác nhau\n",
    "['python', 3.14, None]"
   ]
  },
  {
   "cell_type": "code",
   "execution_count": null,
   "metadata": {},
   "outputs": [],
   "source": [
    "# xem tất cả thuộc tính và phương thức\n",
    "dir([])"
   ]
  },
  {
   "cell_type": "code",
   "execution_count": null,
   "metadata": {},
   "outputs": [],
   "source": [
    "'a' in [1, 2, 3]"
   ]
  },
  {
   "cell_type": "markdown",
   "metadata": {},
   "source": [
    "### 1.1. Thêm và xóa phần tử"
   ]
  },
  {
   "cell_type": "markdown",
   "metadata": {},
   "source": [
    "Phương thức  `list.append()` thêm một phần tử vào cuối list."
   ]
  },
  {
   "cell_type": "code",
   "execution_count": null,
   "metadata": {},
   "outputs": [],
   "source": [
    "cats = ['jaguar', 'tiger', 'lion', 'panther']\n",
    "cats.append('leopard')\n",
    "cats"
   ]
  },
  {
   "cell_type": "markdown",
   "metadata": {},
   "source": [
    "**Tình huống 1:** Sử dụng list tạo ra danh sách 20 số Fibonacci đầu tiên."
   ]
  },
  {
   "cell_type": "markdown",
   "metadata": {},
   "source": [
    "Phương thức `list.insert()` thêm một phần tử vào một vị trí cụ thể."
   ]
  },
  {
   "cell_type": "code",
   "execution_count": null,
   "metadata": {},
   "outputs": [],
   "source": [
    "cats = ['jaguar', 'tiger', 'lion', 'panther']\n",
    "cats.insert(2, 'puma')\n",
    "cats"
   ]
  },
  {
   "cell_type": "code",
   "execution_count": null,
   "metadata": {},
   "outputs": [],
   "source": [
    "cats = ['jaguar', 'tiger', 'lion', 'panther']\n",
    "cats.insert(2, ['cheetah', 'puma'])\n",
    "cats"
   ]
  },
  {
   "cell_type": "markdown",
   "metadata": {},
   "source": [
    "Phương thức `list.extend()` thêm tất cả phần tử của một list khác vào list hiện tại."
   ]
  },
  {
   "cell_type": "code",
   "execution_count": null,
   "metadata": {},
   "outputs": [],
   "source": [
    "cats = ['jaguar', 'tiger', 'lion', 'panther']\n",
    "cats.extend(['cheetah', 'puma'])\n",
    "cats"
   ]
  },
  {
   "cell_type": "markdown",
   "metadata": {},
   "source": [
    "Phép cộng 2 list: trả về object mới."
   ]
  },
  {
   "cell_type": "code",
   "execution_count": null,
   "metadata": {},
   "outputs": [],
   "source": [
    "cats = ['jaguar', 'tiger', 'lion', 'panther']\n",
    "cats + ['cheetah', 'puma']"
   ]
  },
  {
   "cell_type": "markdown",
   "metadata": {},
   "source": [
    "**Tình huống 2:** Cho 2 list `X`, `Y`. Tạo ra các list sau:\n",
    "- List `A` chứa tất cả phần tử có trong cả `X` và `Y`\n",
    "- List `B` chứa các phần tử có trong `X` nhưng không có trong `Y`\n",
    "- List `C` chứa các phần tử là số chẵn trong `X` hoặc là số lẻ trong `Y`"
   ]
  },
  {
   "cell_type": "code",
   "execution_count": null,
   "metadata": {},
   "outputs": [],
   "source": [
    "X = [1, 1, 1, 2, 3, 5, 8, 8, 13, 21, 21, 34, 55, 89]\n",
    "Y = [1, 2, 3, 4, 5, 6, 7, 8, 9, 10, 11, 12, 13, 13]"
   ]
  },
  {
   "cell_type": "markdown",
   "metadata": {},
   "source": [
    "Phương thức `list.remove()` xóa một phần tử (chỉ xóa lần xuất hiện đầu tiên)."
   ]
  },
  {
   "cell_type": "code",
   "execution_count": null,
   "metadata": {},
   "outputs": [],
   "source": [
    "cats = ['tiger', 'python', 'lion', 'leopard']\n",
    "cats.remove('python')\n",
    "cats"
   ]
  },
  {
   "cell_type": "markdown",
   "metadata": {},
   "source": [
    "Phương thức `list.pop()` xóa phần tử tại vị trí được chỉ định, đồng thời trả về giá trị phần tử đó."
   ]
  },
  {
   "cell_type": "code",
   "execution_count": null,
   "metadata": {},
   "outputs": [],
   "source": [
    "cats = ['tiger', 'python', 'lion', 'leopard']\n",
    "deleted = cats.pop(1)\n",
    "print(cats)\n",
    "print(deleted)"
   ]
  },
  {
   "cell_type": "markdown",
   "metadata": {},
   "source": [
    "### 1.2. Kỹ thuật slicing\n",
    "Cú pháp giống như trong string: `[start:stop:step]`."
   ]
  },
  {
   "cell_type": "markdown",
   "metadata": {},
   "source": [
    "#### Ôn lại slicing"
   ]
  },
  {
   "cell_type": "code",
   "execution_count": null,
   "metadata": {},
   "outputs": [],
   "source": [
    "digits = [0, 1, 2, 3, 4, 5, 6, 7, 8, 9]\n",
    "digits[1:7:2]"
   ]
  },
  {
   "cell_type": "code",
   "execution_count": null,
   "metadata": {},
   "outputs": [],
   "source": [
    "digits = [0, 1, 2, 3, 4, 5, 6, 7, 8, 9]\n",
    "digits[7]"
   ]
  },
  {
   "cell_type": "code",
   "execution_count": null,
   "metadata": {},
   "outputs": [],
   "source": [
    "digits = [0, 1, 2, 3, 4, 5, 6, 7, 8, 9]\n",
    "digits[7:8]"
   ]
  },
  {
   "cell_type": "code",
   "execution_count": null,
   "metadata": {},
   "outputs": [],
   "source": [
    "digits = [0, 1, 2, 3, 4, 5, 6, 7, 8, 9]\n",
    "digits[:7] + digits[7:]"
   ]
  },
  {
   "cell_type": "code",
   "execution_count": null,
   "metadata": {},
   "outputs": [],
   "source": [
    "digits = [0, 1, 2, 3, 4, 5, 6, 7, 8, 9]\n",
    "digits[::-1]"
   ]
  },
  {
   "cell_type": "code",
   "execution_count": null,
   "metadata": {},
   "outputs": [],
   "source": [
    "list(range(10))"
   ]
  },
  {
   "cell_type": "markdown",
   "metadata": {},
   "source": [
    "**Chú ý:** Để tạo ra dãy số nguyên cách đều, có thể sử dụng hàm `range()` với các tham số `start`, `stop`, `step` giống với slicing."
   ]
  },
  {
   "cell_type": "markdown",
   "metadata": {},
   "source": [
    "**Tình huống 3:** Cho list sau: `[[1, 2, 3, 4, 5], [True, True, False, True, False]]`. Hãy dùng slicing, lấy ra phần tử thứ 3 của list con thứ nhất."
   ]
  },
  {
   "cell_type": "markdown",
   "metadata": {},
   "source": [
    "**Tình huống 4:** Cho list `data = ['aa', 'bb', 'cc', 'dd', 'ee']`. Hãy tạo ra list sau:\\\n",
    "`result = [[1, 'aa'], [2, 'bb'], [3, 'cc'], [4, 'dd'], [5, 'ee']]`"
   ]
  },
  {
   "cell_type": "markdown",
   "metadata": {},
   "source": [
    "#### Phép gán phần tử\n",
    "Chỉ xuất hiện ở những đối tượng chỉnh sửa được."
   ]
  },
  {
   "cell_type": "code",
   "execution_count": null,
   "metadata": {
    "scrolled": true
   },
   "outputs": [],
   "source": [
    "digits = [0, 1, 2, 3, 4, 5, 6, 7, 8, 9]\n",
    "digits[7] = None\n",
    "digits"
   ]
  },
  {
   "cell_type": "code",
   "execution_count": null,
   "metadata": {},
   "outputs": [],
   "source": [
    "digits = [0, 1, 2, 3, 4, 5, 6, 7, 8, 9]\n",
    "digits[1:6] = [True, False]\n",
    "digits"
   ]
  },
  {
   "cell_type": "markdown",
   "metadata": {
    "colab_type": "text",
    "id": "-C6ldsDzOh21"
   },
   "source": [
    "### 1.3. Các thao tác với list\n",
    "Một hàm/phương thức thường có một trong hai chức năng sau:\n",
    "- Trả về một đối tượng mới, không thay đổi đối tượng ban đầu\n",
    "- Sửa đối tượng ban đầu, nhưng trả về None"
   ]
  },
  {
   "cell_type": "markdown",
   "metadata": {},
   "source": [
    "**Lặp qua các phần tử của list**"
   ]
  },
  {
   "cell_type": "code",
   "execution_count": null,
   "metadata": {
    "scrolled": true
   },
   "outputs": [],
   "source": [
    "felidae = ['tiger', 'lion', 'panther', 'leopard', 'jaguar', 'cheetah']\n",
    "for felid in felidae:\n",
    "    print(f'meow {felid}')"
   ]
  },
  {
   "cell_type": "markdown",
   "metadata": {},
   "source": [
    "**Sắp xếp**"
   ]
  },
  {
   "cell_type": "code",
   "execution_count": null,
   "metadata": {
    "colab": {},
    "colab_type": "code",
    "id": "iJXQNd8BOh22",
    "scrolled": true
   },
   "outputs": [],
   "source": [
    "# sắp xếp theo bảng chữ cái, tăng dần\n",
    "digits = [5, 2, 1, 6, 3, 0, 7, 9, 4, 8]\n",
    "digits.sort()\n",
    "digits"
   ]
  },
  {
   "cell_type": "code",
   "execution_count": null,
   "metadata": {
    "colab": {},
    "colab_type": "code",
    "id": "ZX9uJDqqOh3P"
   },
   "outputs": [],
   "source": [
    "# sắp xếp theo độ dài phần tử, giảm dần\n",
    "cats = ['tiger', 'lion', 'panther', 'leopard', 'jaguar', 'cheetah']\n",
    "cats.sort(key=len, reverse=True)\n",
    "cats"
   ]
  },
  {
   "cell_type": "code",
   "execution_count": null,
   "metadata": {},
   "outputs": [],
   "source": [
    "# trả về list mới đã được sort, không thay đổi list cũ\n",
    "digits = [5, 2, 1, 6, 3, 0, 7, 9, 4, 8]\n",
    "sorted(digits)"
   ]
  },
  {
   "cell_type": "markdown",
   "metadata": {},
   "source": [
    "**Một số hàm hoạt động với list**"
   ]
  },
  {
   "cell_type": "code",
   "execution_count": null,
   "metadata": {},
   "outputs": [],
   "source": [
    "my_list = ['a', 'n', 'a', 'c', 'o', 'n', 'd', 'a']\n",
    "my_list.count('a')"
   ]
  },
  {
   "cell_type": "code",
   "execution_count": null,
   "metadata": {},
   "outputs": [],
   "source": [
    "cats = ['tiger', 'lion', 'panther', 'leopard', 'jaguar', 'cheetah']\n",
    "cats.index('panther')"
   ]
  },
  {
   "cell_type": "code",
   "execution_count": null,
   "metadata": {},
   "outputs": [],
   "source": [
    "cats = ['tiger', 'lion', 'panther', 'leopard', 'jaguar', 'cheetah']\n",
    "len(cats)"
   ]
  },
  {
   "cell_type": "code",
   "execution_count": null,
   "metadata": {},
   "outputs": [],
   "source": [
    "cats = ['tiger', 'lion', 'panther', 'leopard', 'jaguar', 'cheetah']\n",
    "min(cats)"
   ]
  },
  {
   "cell_type": "code",
   "execution_count": null,
   "metadata": {},
   "outputs": [],
   "source": [
    "cats = ['tiger', 'lion', 'panther', 'leopard', 'jaguar', 'cheetah']\n",
    "max(cats)"
   ]
  },
  {
   "cell_type": "code",
   "execution_count": null,
   "metadata": {},
   "outputs": [],
   "source": [
    "digits = [0, 1, 2, 3, 4, 5, 6, 7, 8, 9]\n",
    "sum(digits)"
   ]
  },
  {
   "cell_type": "code",
   "execution_count": null,
   "metadata": {},
   "outputs": [],
   "source": [
    "bool_list = [True, False, False, True, True]\n",
    "sum(bool_list)"
   ]
  },
  {
   "cell_type": "markdown",
   "metadata": {},
   "source": [
    "## 2. Tuple\n",
    "`tuple` là phiên bản không chỉnh sửa được của `list`. Vì vậy các phương thức chỉnh sửa list như `list.append()`, `list.remove()` không có trên tuple."
   ]
  },
  {
   "cell_type": "markdown",
   "metadata": {},
   "source": [
    "### 2.1. Khởi tạo tuple\n",
    "Sử dụng ngoặc tròn `()` hoặc hàm khởi tạo `tuple()`."
   ]
  },
  {
   "cell_type": "code",
   "execution_count": null,
   "metadata": {
    "colab": {},
    "colab_type": "code",
    "id": "jvDoKQx9Ohy_",
    "scrolled": true
   },
   "outputs": [],
   "source": [
    "cats = ('tiger', 'lion', 'jaguar')\n",
    "cats"
   ]
  },
  {
   "cell_type": "markdown",
   "metadata": {},
   "source": [
    "**Tình huống 5:** Vì sao trong tình huống dưới, kết quả là `False`?"
   ]
  },
  {
   "cell_type": "code",
   "execution_count": null,
   "metadata": {},
   "outputs": [],
   "source": [
    "tuple_1 = ('python')\n",
    "tuple_2 = ('python',)\n",
    "type(tuple_1) == type(tuple_2)"
   ]
  },
  {
   "cell_type": "code",
   "execution_count": null,
   "metadata": {
    "colab": {},
    "colab_type": "code",
    "id": "PdsLx1kgOhzc",
    "outputId": "c3e07b60-685a-480c-a02b-54c3d71e81fe"
   },
   "outputs": [],
   "source": [
    "tuple([2, 3, 5])"
   ]
  },
  {
   "cell_type": "code",
   "execution_count": null,
   "metadata": {},
   "outputs": [],
   "source": [
    "tuple('235')"
   ]
  },
  {
   "cell_type": "markdown",
   "metadata": {},
   "source": [
    "### 2.2. Kỹ thuật unpacking\n",
    "Một số hàm có thể trả về nhiều giá trị, thường được đặt trong 1 tuple. Unpacking giúp nhanh chóng lấy ra thông tin cần sử dụng."
   ]
  },
  {
   "cell_type": "code",
   "execution_count": null,
   "metadata": {},
   "outputs": [],
   "source": [
    "rectangle = (5, 8, 40)\n",
    "width, length, area = rectangle # unpacking\n",
    "print(f'Area = Width * Length = {width} * {length} = {area}')"
   ]
  },
  {
   "cell_type": "markdown",
   "metadata": {
    "colab_type": "text",
    "id": "4OP8FoYkOhy8"
   },
   "source": [
    "## 3. Dictionary"
   ]
  },
  {
   "cell_type": "markdown",
   "metadata": {
    "colab_type": "text",
    "id": "J6uDYPnSOh4f"
   },
   "source": [
    "Dictionary là kiểu dữ liệu 2 chiều, chứa các cặp **key-value**, trong đó key là độc nhất.\\\n",
    "Dictionary chỉnh sửa được."
   ]
  },
  {
   "cell_type": "markdown",
   "metadata": {},
   "source": [
    "### 3.1. Khởi tạo dictionary\n",
    "Các đối tượng thuộc lớp `dict` được định nghĩa bởi dấu ngoặc nhọn `{}` và sử dụng dấu hai chấm `:` để chỉ định 1 cặp key-value. Ngoài ra có thể dùng hàm khởi tạo `dict()`.\\\n",
    "Nếu một key xuất hiện 2 lần trở lên, Python sẽ lấy giá trị sau cùng."
   ]
  },
  {
   "cell_type": "code",
   "execution_count": null,
   "metadata": {
    "colab": {},
    "colab_type": "code",
    "id": "ilHJcxGYOh4g"
   },
   "outputs": [],
   "source": [
    "my_dict = {\n",
    "    'python': 6,\n",
    "    'jupyter': 0,\n",
    "    'jupyter': 7,\n",
    "    'kaggle': 6\n",
    "}\n",
    "my_dict"
   ]
  },
  {
   "cell_type": "code",
   "execution_count": null,
   "metadata": {},
   "outputs": [],
   "source": [
    "dict([['python', 6], ['jupyter', 7], ['kaggle', 6]])"
   ]
  },
  {
   "cell_type": "code",
   "execution_count": null,
   "metadata": {},
   "outputs": [],
   "source": [
    "dict(python=6, jupyter=7, kaggle=6)"
   ]
  },
  {
   "cell_type": "code",
   "execution_count": null,
   "metadata": {},
   "outputs": [],
   "source": [
    "{1: 2, 3: 4} == {3: 4, 1: 2}"
   ]
  },
  {
   "cell_type": "markdown",
   "metadata": {},
   "source": [
    "### 3.2. Thao tác với key và value"
   ]
  },
  {
   "cell_type": "markdown",
   "metadata": {},
   "source": [
    "Lấy ra danh sách key và value."
   ]
  },
  {
   "cell_type": "code",
   "execution_count": null,
   "metadata": {},
   "outputs": [],
   "source": [
    "my_dict = dict([['python', 6], ['jupyter', 7], ['kaggle', 6]])\n",
    "my_dict.keys()"
   ]
  },
  {
   "cell_type": "code",
   "execution_count": null,
   "metadata": {},
   "outputs": [],
   "source": [
    "my_dict = dict([['python', 6], ['jupyter', 7], ['kaggle', 6]])\n",
    "my_dict.values()"
   ]
  },
  {
   "cell_type": "markdown",
   "metadata": {},
   "source": [
    "Sử dụng từ khóa `in` để kiểm tra 1 key có thuộc dictionary đó hay không."
   ]
  },
  {
   "cell_type": "code",
   "execution_count": null,
   "metadata": {},
   "outputs": [],
   "source": [
    "my_dict = dict([['python', 6], ['jupyter', 7], ['kaggle', 6]])\n",
    "'anaconda' in my_dict"
   ]
  },
  {
   "cell_type": "markdown",
   "metadata": {},
   "source": [
    "Có thể truy cập value thông qua key. Đồng thời cho phép gán phần tử cho dictionary.\\\n",
    "Tuy có cú pháp gần giống nhau nhưng đây không phải slicing, bởi dictionary không có thứ tự phần tử."
   ]
  },
  {
   "cell_type": "code",
   "execution_count": null,
   "metadata": {},
   "outputs": [],
   "source": [
    "# truy cập value ứng với key \"python\"\n",
    "my_dict = dict([['python', 6], ['jupyter', 7], ['kaggle', 6]])\n",
    "my_dict['python']"
   ]
  },
  {
   "cell_type": "code",
   "execution_count": null,
   "metadata": {},
   "outputs": [],
   "source": [
    "# item assignment\n",
    "my_dict = {'python': 6, 'jupyter': 7, 'kaggle': 6}\n",
    "my_dict['anaconda'] = 8\n",
    "my_dict"
   ]
  },
  {
   "cell_type": "markdown",
   "metadata": {},
   "source": [
    "**Tình huống 6:** Cho dictionary `my_dict = {'python': 1, 'jupyter': 7, 'kaggle': 6}`. Hãy sửa giá trị của key \"python\" thành độ dài chính key đó."
   ]
  },
  {
   "cell_type": "markdown",
   "metadata": {},
   "source": [
    "Lệnh `del` xóa một cặp key-value."
   ]
  },
  {
   "cell_type": "code",
   "execution_count": null,
   "metadata": {},
   "outputs": [],
   "source": [
    "my_dict = {'python': 6, 'jupyter': 7, 'kaggle': 6}\n",
    "del my_dict['kaggle']\n",
    "my_dict"
   ]
  },
  {
   "cell_type": "markdown",
   "metadata": {},
   "source": [
    "Phương thức `dict.pop()` xóa key và trả về value."
   ]
  },
  {
   "cell_type": "code",
   "execution_count": null,
   "metadata": {},
   "outputs": [],
   "source": [
    "my_dict = {'python': 6, 'jupyter': 7, 'kaggle': 6}\n",
    "print(my_dict.pop('python'))\n",
    "print(my_dict)"
   ]
  },
  {
   "cell_type": "markdown",
   "metadata": {},
   "source": [
    "**Tình huống 7:** Cho dictionary `my_dict = {'kaggle': 6, 'jupyter': 7, 'anaconda': 8}`. Hãy sửa key \"kaggle\" thành \"python\"."
   ]
  },
  {
   "cell_type": "markdown",
   "metadata": {},
   "source": [
    "### 3.3. Phương thức `dict.update()`\n",
    "Thêm key mới, cập nhật những key bị trùng và giữ nguyên những key sẵn có."
   ]
  },
  {
   "cell_type": "code",
   "execution_count": null,
   "metadata": {},
   "outputs": [],
   "source": [
    "data1 = {\n",
    "    'name': ['Taylor', 'Patrick', 'Sam'],\n",
    "    'phone': ['0912345678', '01600000016']\n",
    "}\n",
    "\n",
    "data2 = {\n",
    "    'gender': ['female', 'male', 'male'],\n",
    "    'phone': ['0912345678', '0300000016', '0312345678']\n",
    "}"
   ]
  },
  {
   "cell_type": "code",
   "execution_count": null,
   "metadata": {},
   "outputs": [],
   "source": [
    "data1.update(data2)\n",
    "data1"
   ]
  },
  {
   "cell_type": "markdown",
   "metadata": {},
   "source": [
    "Trong ví dụ trên:\n",
    "- `'name'` là một key sẵn có, không thay đổi gì.\n",
    "- `'phone'` là một key bị trùng, nó sẽ nhất value từ `data2`.\n",
    "- `'gender'` là một key mới, cặp key-value này sẽ được thêm vào `data1`."
   ]
  },
  {
   "cell_type": "markdown",
   "metadata": {},
   "source": [
    "### 3.4. Hàm `zip()`\n",
    "Hàm `zip()` ghép 2 list cùng độ dài với nhau. Có thể dùng để tạo ra dictionary."
   ]
  },
  {
   "cell_type": "code",
   "execution_count": null,
   "metadata": {},
   "outputs": [],
   "source": [
    "cats = ['tiger', 'lion', 'leopard']\n",
    "patterns = ['stripes', 'solid', 'dots']\n",
    "data = zip(cats, patterns)\n",
    "data = dict(data)\n",
    "data"
   ]
  },
  {
   "cell_type": "markdown",
   "metadata": {},
   "source": [
    "***\n",
    "# Tổng kết về các kiểu dữ liệu có cấu trúc\n",
    "\n",
    "Đối tượng     |Cú pháp                    |Hàm khởi tạo  |Truy cập     |Slicing     |Tính độc nhất        |Chỉnh sửa |\n",
    ":---------    |:--------------------------|:-------------|:------------|:-----------|:--------------------|:---------|\n",
    "**String**    |`x = '123'`                |`str()`       |`x[0]`       |`x[0:2:1]`  |Không                |Không     |\n",
    "**List**      |`x = [1, 2, 3]`            |`list()`      |`x[0]`       |`x[0:2:1]`  |Không                |Có        |\n",
    "**Tuple**     |`x = (1, 2, 3)`            |`tuple()`     |`x[0]`       |`x[0:2:1]`  |Không                |Không     |\n",
    "**Dictionary**|`x = {'a':1, 'b':2, 'c':3}`|`dict()`      |`x['a']`     |            |Key: có, Value: không|Có        |"
   ]
  },
  {
   "cell_type": "markdown",
   "metadata": {},
   "source": [
    "***\n",
    "## Giải đáp tình huống"
   ]
  },
  {
   "cell_type": "markdown",
   "metadata": {},
   "source": [
    "**Tình huống 1:** Sử dụng list tạo ra danh sách 20 số Fibonacci đầu tiên."
   ]
  },
  {
   "cell_type": "code",
   "execution_count": 3,
   "metadata": {},
   "outputs": [
    {
     "name": "stdout",
     "output_type": "stream",
     "text": [
      "Sum = 28655\n"
     ]
    }
   ],
   "source": [
    "# sử dụng def\n",
    "def F(x):\n",
    "    if x == 1:\n",
    "        return 1\n",
    "    elif x == 2:\n",
    "        return 2\n",
    "    else:\n",
    "        print(1)\n",
    "        return F(x-1) + F(x-2)\n",
    "\n",
    "Fibo_sum = 0\n",
    "n = 20\n",
    "for i in range(1, n+1):\n",
    "    Fibo_sum += F(i)\n",
    "print('Sum = {}'.format(Fibo_sum))"
   ]
  },
  {
   "cell_type": "code",
   "execution_count": null,
   "metadata": {},
   "outputs": [],
   "source": [
    "# sử dụng list\n",
    "n = 20\n",
    "fibo = [1, 2]\n",
    "\n",
    "for i in range(2, n):\n",
    "    fibo.append(fibo[i-1] + fibo[i-2])\n",
    "print(fibo)"
   ]
  },
  {
   "cell_type": "markdown",
   "metadata": {},
   "source": [
    "**Tình huống 2:** Cho 2 list `X`, `Y`. Tạo ra các list sau:\n",
    "- List `A` chứa tất cả phần tử có trong cả `X` và `Y`\n",
    "- List `B` chứa các phần tử có trong `X` nhưng không có trong `Y`\n",
    "- List `C` chứa các phần tử là số chẵn trong `X` hoặc là số lẻ trong `Y`"
   ]
  },
  {
   "cell_type": "code",
   "execution_count": null,
   "metadata": {},
   "outputs": [],
   "source": [
    "X = [1, 1, 1, 2, 3, 5, 8, 8, 13, 21, 21, 34, 55, 89]\n",
    "Y = [1, 2, 3, 4, 5, 6, 7, 8, 9, 10, 11, 12, 13, 13]"
   ]
  },
  {
   "cell_type": "code",
   "execution_count": null,
   "metadata": {},
   "outputs": [],
   "source": [
    "A = X + Y\n",
    "print(A)"
   ]
  },
  {
   "cell_type": "code",
   "execution_count": null,
   "metadata": {},
   "outputs": [],
   "source": [
    "B = []\n",
    "for i in X:\n",
    "    if i not in Y:\n",
    "        B.append(i)\n",
    "B"
   ]
  },
  {
   "cell_type": "markdown",
   "metadata": {},
   "source": [
    "**Tình huống 3:** Cho list sau: `[[1, 2, 3, 4, 5], [True, True, False, True, False]]`. Hãy dùng slicing, lấy ra phần tử thứ 3 của list con thứ nhất."
   ]
  },
  {
   "cell_type": "code",
   "execution_count": null,
   "metadata": {},
   "outputs": [],
   "source": [
    "nested_list = [[1, 2, 3, 4, 5], [True, True, False, True, False]]\n",
    "nested_list[0][2]"
   ]
  },
  {
   "cell_type": "markdown",
   "metadata": {},
   "source": [
    "**Tình huống 4:** Cho list `data = ['aa', 'bb', 'cc', 'dd', 'ee']`. Hãy tạo ra list sau:\\\n",
    "`result = [[1, 'aa'], [2, 'bb'], [3, 'cc'], [4, 'dd'], [5, 'ee']]`"
   ]
  },
  {
   "cell_type": "code",
   "execution_count": null,
   "metadata": {},
   "outputs": [],
   "source": [
    "data = ['aa', 'bb', 'cc', 'dd', 'ee']\n",
    "\n",
    "result = []\n",
    "for i in range(len(data)):\n",
    "    small_list = [i+1]\n",
    "    small_list.append(data[i])\n",
    "    result.append(small_list)\n",
    "result"
   ]
  },
  {
   "cell_type": "markdown",
   "metadata": {},
   "source": [
    "**Tình huống 5:** Vì sao trong tình huống dưới, kết quả là `False`?\\\n",
    "Vì dấu ngoặc đơn `()` được ưu tiên cho việc tính toán trước."
   ]
  },
  {
   "cell_type": "code",
   "execution_count": null,
   "metadata": {},
   "outputs": [],
   "source": [
    "tuple_1 = ('python')\n",
    "tuple_2 = ('python',)\n",
    "type(tuple_1) == type(tuple_2)"
   ]
  },
  {
   "cell_type": "markdown",
   "metadata": {},
   "source": [
    "**Tình huống 6:** Cho dictionary `my_dict = {'python': 1, 'jupyter': 7, 'kaggle': 6}`. Hãy sửa giá trị của key \"python\" thành độ dài chính key đó."
   ]
  },
  {
   "cell_type": "code",
   "execution_count": null,
   "metadata": {},
   "outputs": [],
   "source": [
    "# thay đổi value của một key sẵn có\n",
    "my_dict = {'python': 1, 'jupyter': 7, 'kaggle': 6}\n",
    "my_dict['python'] = 6\n",
    "my_dict"
   ]
  },
  {
   "cell_type": "markdown",
   "metadata": {},
   "source": [
    "**Tình huống 7:** Cho dictionary `my_dict = {'kaggle': 6, 'jupyter': 7, 'anaconda': 8}`. Hãy sửa key \"kaggle\" thành \"python\"."
   ]
  },
  {
   "cell_type": "code",
   "execution_count": null,
   "metadata": {},
   "outputs": [],
   "source": [
    "my_dict = {'kaggle': 6, 'jupyter': 7, 'anaconda': 8}\n",
    "my_dict['python'] = my_dict['kaggle']\n",
    "del my_dict['kaggle']\n",
    "my_dict"
   ]
  },
  {
   "cell_type": "code",
   "execution_count": null,
   "metadata": {},
   "outputs": [],
   "source": [
    "my_dict = {'kaggle': 6, 'jupyter': 7, 'anaconda': 8}\n",
    "my_dict['python'] = my_dict.pop('kaggle')\n",
    "my_dict"
   ]
  }
 ],
 "metadata": {
  "colab": {
   "name": "Lecture 3.ipynb",
   "provenance": [],
   "version": "0.3.2"
  },
  "kernelspec": {
   "display_name": "Python 3",
   "language": "python",
   "name": "python3"
  },
  "language_info": {
   "codemirror_mode": {
    "name": "ipython",
    "version": 3
   },
   "file_extension": ".py",
   "mimetype": "text/x-python",
   "name": "python",
   "nbconvert_exporter": "python",
   "pygments_lexer": "ipython3",
   "version": "3.8.3"
  }
 },
 "nbformat": 4,
 "nbformat_minor": 4
}
