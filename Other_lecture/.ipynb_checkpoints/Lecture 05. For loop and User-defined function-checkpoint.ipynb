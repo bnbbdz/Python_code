{
 "cells": [
  {
   "cell_type": "markdown",
   "metadata": {
    "colab_type": "text",
    "id": "4OP8FoYkOhy8"
   },
   "source": [
    "# BÀI 5: VÒNG LẶP VỚI DỮ LIỆU CÓ CẤU TRÚC"
   ]
  },
  {
   "cell_type": "markdown",
   "metadata": {},
   "source": [
    "# Tổng kết về các kiểu dữ liệu có cấu trúc\n",
    "\n",
    "Đối tượng     |Cú pháp                    |Hàm khởi tạo  |Truy cập     |Slicing     |Tính độc nhất        |Chỉnh sửa |\n",
    ":---------    |:--------------------------|:-------------|:------------|:-----------|:--------------------|:---------|\n",
    "**String**    |`x = '123'`                |`str()`       |`x[0]`       |`x[0:2:1]`  |Không                |Không     |\n",
    "**List**      |`x = [1, 2, 3]`            |`list()`      |`x[0]`       |`x[0:2:1]`  |Không                |Có        |\n",
    "**Tuple**     |`x = (1, 2, 3)`            |`tuple()`     |`x[0]`       |`x[0:2:1]`  |Không                |Không     |\n",
    "**Dictionary**|`x = {'a':1, 'b':2, 'c':3}`|`dict()`      |`x['a']`     |            |Key: có, Value: không|Có        |"
   ]
  },
  {
   "cell_type": "markdown",
   "metadata": {},
   "source": [
    "## 1. Sử dụng vòng lặp với list"
   ]
  },
  {
   "cell_type": "markdown",
   "metadata": {},
   "source": [
    "### 1.1. Ứng dụng của vòng lặp for với list"
   ]
  },
  {
   "cell_type": "code",
   "execution_count": 6,
   "metadata": {},
   "outputs": [
    {
     "data": {
      "text/plain": [
       "['Nedved', 'Shevchenko', 'Ronaldinho', 'Cannavaro', 'Kaka', 'Modric']"
      ]
     },
     "execution_count": 6,
     "metadata": {},
     "output_type": "execute_result"
    }
   ],
   "source": [
    "# lấy tất cả phần tử chỉ xuất hiện 1 lần\n",
    "golden_ball = [\n",
    "    'Nedved', 'Shevchenko', 'Ronaldinho', 'Cannavaro',\n",
    "    'Kaka', 'Ronaldo', 'Messi', 'Messi',\n",
    "    'Messi', 'Messi', 'Ronaldo', 'Ronaldo',\n",
    "    'Messi', 'Ronaldo', 'Ronaldo', 'Modric'\n",
    "]\n",
    "\n",
    "players = []\n",
    "for player in golden_ball:\n",
    "    if golden_ball.count(player) == 1:\n",
    "        players.append(player)\n",
    "\n",
    "players"
   ]
  },
  {
   "cell_type": "code",
   "execution_count": 15,
   "metadata": {},
   "outputs": [
    {
     "data": {
      "text/plain": [
       "[1, 2, 3, 4, 5, 6, 7, 8]"
      ]
     },
     "execution_count": 15,
     "metadata": {},
     "output_type": "execute_result"
    }
   ],
   "source": [
    "# làm phẳng list lồng nhau\n",
    "matrix = [\n",
    "    [1, 2, 3, 4],\n",
    "    [5, 6, 7, 8]\n",
    "]\n",
    "\n",
    "vector = []\n",
    "for row in matrix:\n",
    "    for entry in row:\n",
    "        vector.append(entry)\n",
    "        \n",
    "vector"
   ]
  },
  {
   "cell_type": "markdown",
   "metadata": {},
   "source": [
    "**Tình huống 1:** Lấy ra tất cả các phần tử chứa `an/An` trong list dưới đây:\n",
    "\n",
    "`customer_name = [\n",
    "    'Anna Bella', 'Andre Fluit', 'Hallie Larmon',\n",
    "    'Kathyrn Deets', 'Aniee Luker', 'Mickie Stepp',\n",
    "    'Janinto Petteway', 'Blondell Walberg', 'Iona Mantos']`"
   ]
  },
  {
   "cell_type": "markdown",
   "metadata": {},
   "source": [
    "### 1.2. List comprehension"
   ]
  },
  {
   "cell_type": "markdown",
   "metadata": {},
   "source": [
    "**Vòng lặp so với list comprehension**\\\n",
    "Trong 2 đoạn code dưới đây, đoạn 2 (là một list comprehension) ngắn gọn và dễ hiểu hơn. Ngoài ra list comprehension còn nhanh hơn.\\\n",
    "Tuy nhiên không nên dùng list comprehension nếu vòng lặp quá phức tạp."
   ]
  },
  {
   "cell_type": "code",
   "execution_count": 8,
   "metadata": {},
   "outputs": [
    {
     "data": {
      "text/plain": [
       "[0, 1, 2, 3, 4, 5, 6, 7, 8, 9]"
      ]
     },
     "execution_count": 8,
     "metadata": {},
     "output_type": "execute_result"
    }
   ],
   "source": [
    "# script 1\n",
    "digits = []\n",
    "for i in range(10):\n",
    "    digits.append(i)\n",
    "digits"
   ]
  },
  {
   "cell_type": "code",
   "execution_count": 7,
   "metadata": {
    "scrolled": true
   },
   "outputs": [
    {
     "data": {
      "text/plain": [
       "[0, 1, 2, 3, 4, 5, 6, 7, 8, 9]"
      ]
     },
     "execution_count": 7,
     "metadata": {},
     "output_type": "execute_result"
    }
   ],
   "source": [
    "# script 2\n",
    "digits = [i for i in range(10)]\n",
    "digits"
   ]
  },
  {
   "cell_type": "markdown",
   "metadata": {},
   "source": [
    "**Tình huống 2:** Với mỗi số trong list_B, lấy số đó và vị trí của nó trong list_A thành 1 cặp số và in ra list chứa các cặp số đó. Sử dụng list comprehension.\n",
    "\n",
    "`list_A = [2, 5, 6, 9, 8, 4, 6, 7, 10, 1, 14]`\\\n",
    "`list_B = [9, 10, 1, 7, 9, 5, 10]`"
   ]
  },
  {
   "cell_type": "markdown",
   "metadata": {},
   "source": [
    "**List comprehensions với nhiều điều kiện**\\\n",
    "Mỗi điều kiện phải đặt trong ngoặc tròn `()`."
   ]
  },
  {
   "cell_type": "code",
   "execution_count": 7,
   "metadata": {},
   "outputs": [
    {
     "data": {
      "text/plain": [
       "['Figo', 'Modric']"
      ]
     },
     "execution_count": 7,
     "metadata": {},
     "output_type": "execute_result"
    }
   ],
   "source": [
    "golden_ball = [\n",
    "    'Figo', 'Owen', 'Nedved', 'Shevchenko', 'Ronaldinho',\n",
    "    'Cannavaro', 'Kaka', 'Ronaldo', 'Messi', 'Modric'\n",
    "]\n",
    "\n",
    "approach1 = [\n",
    "    i for i in golden_ball if\n",
    "    ('a' not in i) and\n",
    "    ('e' not in i)\n",
    "]\n",
    "approach1"
   ]
  },
  {
   "cell_type": "markdown",
   "metadata": {},
   "source": [
    "**In ra các phần tử trong một danh sách**"
   ]
  },
  {
   "cell_type": "code",
   "execution_count": 1,
   "metadata": {},
   "outputs": [
    {
     "name": "stdout",
     "output_type": "stream",
     "text": [
      "2020-01-01\n",
      "2020-01-02\n",
      "2020-01-03\n",
      "2020-01-04\n",
      "2020-01-05\n",
      "2020-01-06\n",
      "2020-01-07\n"
     ]
    }
   ],
   "source": [
    "from datetime import date\n",
    "data = [\n",
    "    date(2020, 1, 1),\n",
    "    date(2020, 1, 2),\n",
    "    date(2020, 1, 3),\n",
    "    date(2020, 1, 4),\n",
    "    date(2020, 1, 5),\n",
    "    date(2020, 1, 6),\n",
    "    date(2020, 1, 7)\n",
    "]\n",
    "\n",
    "_ = [print(i) for i in data]"
   ]
  },
  {
   "cell_type": "markdown",
   "metadata": {},
   "source": [
    "**List comprehensions đối với list lồng nhau**"
   ]
  },
  {
   "cell_type": "code",
   "execution_count": 16,
   "metadata": {},
   "outputs": [
    {
     "data": {
      "text/plain": [
       "[1, 2, 3, 4, 5, 6, 7, 8]"
      ]
     },
     "execution_count": 16,
     "metadata": {},
     "output_type": "execute_result"
    }
   ],
   "source": [
    "# làm phẳng ma trận\n",
    "matrix = [\n",
    "    [1, 2, 3, 4],\n",
    "    [5, 6, 7, 8]\n",
    "]\n",
    "\n",
    "vector = [entry for row in matrix for entry in row]\n",
    "        \n",
    "vector"
   ]
  },
  {
   "cell_type": "code",
   "execution_count": 10,
   "metadata": {},
   "outputs": [
    {
     "data": {
      "text/plain": [
       "[[1, 5], [2, 6], [3, 7], [4, 8]]"
      ]
     },
     "execution_count": 10,
     "metadata": {},
     "output_type": "execute_result"
    }
   ],
   "source": [
    "# tạo ra ma trận chuyển vị\n",
    "matrix = [\n",
    "    [1, 2, 3, 4],\n",
    "    [5, 6, 7, 8]\n",
    "]\n",
    "\n",
    "transpose = [[row[i] for row in matrix] for i in range(4)]\n",
    "\n",
    "transpose"
   ]
  },
  {
   "cell_type": "markdown",
   "metadata": {},
   "source": [
    "**Tình huống 3:**  Cho 1 ma trận dưới đây, hãy tạo ra 1 list chứa các phần tử chia hết cho 2 trong ma trận đó, sử dụng list comprehension\\\n",
    "`matrix = [[1, 2, 3], [19, 20, 46], [-4, 10, 5], [8, 7, -9]]`"
   ]
  },
  {
   "cell_type": "markdown",
   "metadata": {},
   "source": [
    "## 2. Sử dụng vòng lặp với dictionary"
   ]
  },
  {
   "cell_type": "markdown",
   "metadata": {},
   "source": [
    "### 2.1. Ứng dụng của vòng lặp for với dictionary"
   ]
  },
  {
   "cell_type": "code",
   "execution_count": 8,
   "metadata": {},
   "outputs": [
    {
     "data": {
      "text/plain": [
       "{'export_quantity': '5000',\n",
       " 'export_value': '20000',\n",
       " 'import_quantity': '1000',\n",
       " 'import_value': '100000'}"
      ]
     },
     "execution_count": 8,
     "metadata": {},
     "output_type": "execute_result"
    }
   ],
   "source": [
    "# lọc dữ liệu đạt các tiêu chí nhất định\n",
    "data = {\n",
    "    'quarter': '2020-1',\n",
    "    'country': 'vietnam',\n",
    "    'export_quantity': '5000',\n",
    "    'export_value': '20000',\n",
    "    'import_quantity': '1000',\n",
    "    'import_value': '100000'\n",
    "}\n",
    "\n",
    "approach1 = {}\n",
    "for key, value in data.items():\n",
    "    if value.isnumeric():\n",
    "        approach1[key] = value\n",
    "\n",
    "approach1"
   ]
  },
  {
   "cell_type": "markdown",
   "metadata": {},
   "source": [
    "**Lặp qua key**"
   ]
  },
  {
   "cell_type": "code",
   "execution_count": 19,
   "metadata": {},
   "outputs": [
    {
     "name": "stdout",
     "output_type": "stream",
     "text": [
      "kaggle\n",
      "jupyter\n",
      "anaconda\n"
     ]
    }
   ],
   "source": [
    "my_dict = {'kaggle': 6, 'jupyter': 7, 'anaconda': 8}\n",
    "for key in my_dict:\n",
    "    print(key)"
   ]
  },
  {
   "cell_type": "code",
   "execution_count": 21,
   "metadata": {},
   "outputs": [
    {
     "name": "stdout",
     "output_type": "stream",
     "text": [
      "kaggle\n",
      "jupyter\n",
      "anaconda\n"
     ]
    }
   ],
   "source": [
    "my_dict = {'kaggle': 6, 'jupyter': 7, 'anaconda': 8}\n",
    "for key in my_dict.keys():\n",
    "    print(key)"
   ]
  },
  {
   "cell_type": "markdown",
   "metadata": {},
   "source": [
    "**Lặp qua value**"
   ]
  },
  {
   "cell_type": "code",
   "execution_count": 23,
   "metadata": {
    "scrolled": true
   },
   "outputs": [
    {
     "name": "stdout",
     "output_type": "stream",
     "text": [
      "6\n",
      "7\n",
      "8\n"
     ]
    }
   ],
   "source": [
    "my_dict = {'kaggle': 6, 'jupyter': 7, 'anaconda': 8}\n",
    "for value in my_dict.values():\n",
    "    print(value)"
   ]
  },
  {
   "cell_type": "code",
   "execution_count": 24,
   "metadata": {
    "scrolled": true
   },
   "outputs": [
    {
     "name": "stdout",
     "output_type": "stream",
     "text": [
      "6\n",
      "7\n",
      "8\n"
     ]
    }
   ],
   "source": [
    "my_dict = {'kaggle': 6, 'jupyter': 7, 'anaconda': 8}\n",
    "for key in my_dict:\n",
    "    print(my_dict[key])"
   ]
  },
  {
   "cell_type": "markdown",
   "metadata": {},
   "source": [
    "**Lặp đồng thời qua danh sách key và value**"
   ]
  },
  {
   "cell_type": "code",
   "execution_count": 25,
   "metadata": {},
   "outputs": [
    {
     "name": "stdout",
     "output_type": "stream",
     "text": [
      "The length of \"kaggle\" is 6\n",
      "The length of \"jupyter\" is 7\n",
      "The length of \"anaconda\" is 8\n"
     ]
    }
   ],
   "source": [
    "my_dict = {'kaggle': 6, 'jupyter': 7, 'anaconda': 8}\n",
    "for key, value in my_dict.items():\n",
    "    print(f'The length of \"{key}\" is {value}')"
   ]
  },
  {
   "cell_type": "markdown",
   "metadata": {},
   "source": [
    "**Tình huống 4:**  Lấy ra những phần tử trong dictionary có value lớn hơn 5 và in ra với format:\n",
    "`Score of {key} is {value}`\n",
    "\n",
    "`brands = {\n",
    "    'ostar': 6, 'poca': 7, 'oishi': 5,\n",
    "    'cheestos': 4, 'crimpy': 8, 'doritos': 3,\n",
    "    'fritos': 6, 'jumbo': 7.5, 'lays': 3.5}`"
   ]
  },
  {
   "cell_type": "markdown",
   "metadata": {},
   "source": [
    "### 2.2 Dictionary comprehension"
   ]
  },
  {
   "cell_type": "code",
   "execution_count": 3,
   "metadata": {},
   "outputs": [
    {
     "data": {
      "text/plain": [
       "{'lion': 4,\n",
       " 'tiger': 5,\n",
       " 'leopard': 7,\n",
       " 'jaguar': 6,\n",
       " 'panther': 7,\n",
       " 'cheetah': 7,\n",
       " 'puma': 4}"
      ]
     },
     "execution_count": 3,
     "metadata": {},
     "output_type": "execute_result"
    }
   ],
   "source": [
    "cats = ['lion', 'tiger', 'leopard', 'jaguar', 'panther', 'cheetah', 'puma']\n",
    "{key: len(key) for key in felidae}"
   ]
  },
  {
   "cell_type": "code",
   "execution_count": 6,
   "metadata": {},
   "outputs": [
    {
     "data": {
      "text/plain": [
       "{7: 49, 9: 81}"
      ]
     },
     "execution_count": 6,
     "metadata": {},
     "output_type": "execute_result"
    }
   ],
   "source": [
    "digits = range(10)\n",
    "{\n",
    "    key: key**2 for key in digits\n",
    "    if key%2 == 1\n",
    "    if key**2 > 30\n",
    "}"
   ]
  },
  {
   "cell_type": "markdown",
   "metadata": {},
   "source": [
    "**Tình huống 5:**\n",
    "Với một số nguyên n cho trước, viết một chương trình tạo ra 1 dictionary bao gồm `(i, log(i))` với i là số nguyên chạy từ 1 đến n (bao gồm cả 1 và n). Sau đó in ra dictionary."
   ]
  },
  {
   "cell_type": "markdown",
   "metadata": {
    "colab_type": "text",
    "id": "eSuq_eTgcsvg"
   },
   "source": [
    "## 3. Hàm người dùng định nghĩa"
   ]
  },
  {
   "cell_type": "markdown",
   "metadata": {},
   "source": [
    "Python có 2 loại hàm:\n",
    "- Hàm sẵn có (built-in functions): các hàm được tạo ra sẵn và luôn khả dụng. Đọc thêm: [Documentation](https://docs.python.org/3/library/functions.html).   \n",
    "- Hàm người dùng định nghĩa (user-defined functions): hàm do chính bạn tự tạo ra để dùng cho nhiều trường hợp."
   ]
  },
  {
   "cell_type": "markdown",
   "metadata": {},
   "source": [
    "### 3.1. Định nghĩa hàm\n",
    "Bạn có thể tạo một hàm mới thông qua lệnh `def`. Đầu vào của hàm là các đối số (argument), đầu ra của hàm được đặt trọng lệnh `return`."
   ]
  },
  {
   "cell_type": "markdown",
   "metadata": {},
   "source": [
    "**Định nghĩa một số hàm cơ bản**"
   ]
  },
  {
   "cell_type": "code",
   "execution_count": 3,
   "metadata": {},
   "outputs": [
    {
     "data": {
      "text/plain": [
       "16"
      ]
     },
     "execution_count": 3,
     "metadata": {},
     "output_type": "execute_result"
    }
   ],
   "source": [
    "# hàm bình phương\n",
    "def square(base):\n",
    "    return base**2\n",
    "square(4)"
   ]
  },
  {
   "cell_type": "code",
   "execution_count": 11,
   "metadata": {},
   "outputs": [
    {
     "name": "stdout",
     "output_type": "stream",
     "text": [
      "125\n"
     ]
    }
   ],
   "source": [
    "# hàm lập phương\n",
    "def cube(base):\n",
    "    print(base**3)\n",
    "cube(base=5)"
   ]
  },
  {
   "cell_type": "markdown",
   "metadata": {},
   "source": [
    "**Chú ý:** Hàm `cube()` chỉ thực hiện in ra giá trị và trả về `None`, bởi hàm `cube()` được định nghĩa mà không có từ khóa `return`."
   ]
  },
  {
   "cell_type": "markdown",
   "metadata": {},
   "source": [
    "**Giá trị mặc định của tham số**"
   ]
  },
  {
   "cell_type": "code",
   "execution_count": 9,
   "metadata": {},
   "outputs": [
    {
     "data": {
      "text/plain": [
       "81"
      ]
     },
     "execution_count": 9,
     "metadata": {},
     "output_type": "execute_result"
    }
   ],
   "source": [
    "# hàm lũy thừa\n",
    "def exp(base, power=2):\n",
    "    return base**power\n",
    "exp(base=3, power=4)"
   ]
  },
  {
   "cell_type": "code",
   "execution_count": 10,
   "metadata": {},
   "outputs": [
    {
     "data": {
      "text/plain": [
       "9"
      ]
     },
     "execution_count": 10,
     "metadata": {},
     "output_type": "execute_result"
    }
   ],
   "source": [
    "# hàm lũy thừa\n",
    "def exp(base, power=2):\n",
    "    return base**power\n",
    "exp(base=3)"
   ]
  },
  {
   "cell_type": "markdown",
   "metadata": {},
   "source": [
    "Trong hàm `exp()` trên đây, tham số `power` (số mũ) nhận giá trị mặc định là 2. Giá trị mặc định này chỉ được dùng khi không truyền giá trị nào cho tham số `power`."
   ]
  },
  {
   "cell_type": "markdown",
   "metadata": {},
   "source": [
    "**Hàm trả về nhiều giá trị**"
   ]
  },
  {
   "cell_type": "code",
   "execution_count": 17,
   "metadata": {},
   "outputs": [
    {
     "name": "stdout",
     "output_type": "stream",
     "text": [
      "The perimeter is 50\n",
      "The area is 150\n"
     ]
    }
   ],
   "source": [
    "# hàm tính chu vi, diện tích hình chữ nhật\n",
    "def rectangle(width, length):\n",
    "    perimeter = 2 * (width + length)\n",
    "    area = width * length\n",
    "    return perimeter, area\n",
    "\n",
    "# unpacking the output\n",
    "perimeter, area = rectangle(10, 15)\n",
    "print(f'The perimeter is {perimeter}')\n",
    "print(f'The area is {area}')"
   ]
  },
  {
   "cell_type": "markdown",
   "metadata": {},
   "source": [
    "**Hàm có nhiều đối số**\n",
    "\n",
    "Để hàm nhận nhiều đối số đầu vào, cần sử dụng `*args` (viết tắt của arguments). Bản chất từ khóa `*args` tạo ra một tuple có kích thước tùy thích, các phần tử của tuple này được dùng làm đối số cho hàm."
   ]
  },
  {
   "cell_type": "code",
   "execution_count": 33,
   "metadata": {},
   "outputs": [
    {
     "data": {
      "text/plain": [
       "4.0"
      ]
     },
     "execution_count": 33,
     "metadata": {},
     "output_type": "execute_result"
    }
   ],
   "source": [
    "# hàm tính trung bình\n",
    "def mean(*args):\n",
    "    mean = sum(args) / len(args)\n",
    "    return mean\n",
    "mean(1, 3, 5, 7)"
   ]
  },
  {
   "cell_type": "markdown",
   "metadata": {},
   "source": [
    "**Tình huống 6:** Định nghĩa hàm `f()` nhận đầu vào là các số `-7, -3, 0, 5, 8, 18, 30`. Hàm này cần có các chức năng sau:\n",
    "- Trả về bình phương nếu số đó chia hết cho 3.\n",
    "- Trả về lập phương nếu số đó chia hết cho 5.\n",
    "- Trả về chính số đó nếu nó chia hết cho cả 3 và 5.\n",
    "- Còn lại, trả về None."
   ]
  },
  {
   "cell_type": "markdown",
   "metadata": {
    "colab_type": "text",
    "id": "2s1ed5Z2csyK"
   },
   "source": [
    "### 3.2. Hàm lambda\n",
    "Ngoài cách dùng từ khóa `def` còn có thể dùng từ khóa `lambda` để định nghĩa hàm. Cách này thường được dùng để tạo hàm nhanh do không phải đặt tên hàm và dễ dàng viết hàm trên cùng một dòng."
   ]
  },
  {
   "cell_type": "code",
   "execution_count": null,
   "metadata": {},
   "outputs": [],
   "source": [
    "lambda x: x*x"
   ]
  },
  {
   "cell_type": "code",
   "execution_count": null,
   "metadata": {},
   "outputs": [],
   "source": [
    "def square(x):\n",
    "    return x*x"
   ]
  },
  {
   "cell_type": "markdown",
   "metadata": {},
   "source": [
    "Hai hàm trên có chức năng giống nhau, nhưng theo mặc định hàm lambda không có tên."
   ]
  },
  {
   "cell_type": "code",
   "execution_count": null,
   "metadata": {},
   "outputs": [],
   "source": [
    "# đặt tên cho hàm lambda\n",
    "square = lambda x: x*x\n",
    "square(5)"
   ]
  },
  {
   "cell_type": "code",
   "execution_count": 38,
   "metadata": {},
   "outputs": [
    {
     "data": {
      "text/plain": [
       "30"
      ]
     },
     "execution_count": 38,
     "metadata": {},
     "output_type": "execute_result"
    }
   ],
   "source": [
    "# hàm lambda với 2 đối số\n",
    "product = lambda a, b: a*b\n",
    "product(5, 6)"
   ]
  },
  {
   "cell_type": "markdown",
   "metadata": {},
   "source": [
    "### 3.3. Sử dụng hàm làm đối số\n",
    "Một số hàm như `map()`, `sorted()` and `filter()` nhận một hàm khác làm đối số."
   ]
  },
  {
   "cell_type": "markdown",
   "metadata": {},
   "source": [
    "Hàm `sorted()` dùng hàm `len()` (trả về độ dài) làm điều kiện sắp xếp một list."
   ]
  },
  {
   "cell_type": "code",
   "execution_count": null,
   "metadata": {},
   "outputs": [],
   "source": [
    "cats = ['tiger', 'lion', 'panther', 'cheetah', 'puma']\n",
    "sorted(cats, key=len)"
   ]
  },
  {
   "cell_type": "markdown",
   "metadata": {},
   "source": [
    "Định nghĩa hàm `factorial()` để tính giai thừa các số trong một list."
   ]
  },
  {
   "cell_type": "code",
   "execution_count": 15,
   "metadata": {},
   "outputs": [
    {
     "data": {
      "text/plain": [
       "[1, 1, 2, 6, 24, 120]"
      ]
     },
     "execution_count": 15,
     "metadata": {},
     "output_type": "execute_result"
    }
   ],
   "source": [
    "def factorial(x):\n",
    "    y = 1\n",
    "    if x == 0:\n",
    "        y = 1\n",
    "    else:\n",
    "        for i in range(1, x+1):\n",
    "            y *= i\n",
    "    return y\n",
    "\n",
    "numbers = [0, 1, 2, 3, 4, 5]\n",
    "list(map(factorial, numbers))"
   ]
  },
  {
   "cell_type": "markdown",
   "metadata": {},
   "source": [
    "Định nghĩa hàm `is_odd()` rồi dùng làm đối số cho hàm `filter()`."
   ]
  },
  {
   "cell_type": "code",
   "execution_count": 16,
   "metadata": {},
   "outputs": [
    {
     "data": {
      "text/plain": [
       "[-13, -1, 1, 5]"
      ]
     },
     "execution_count": 16,
     "metadata": {},
     "output_type": "execute_result"
    }
   ],
   "source": [
    "def is_odd(x):\n",
    "    return x%2 != 0\n",
    "\n",
    "numbers = [-13, -4, -1, 1, 5, 6, 12]\n",
    "list(filter(is_odd, numbers))"
   ]
  },
  {
   "cell_type": "markdown",
   "metadata": {},
   "source": [
    "Trong trường hợp các hàm làm đối số rất đơn giản, có thể sử dụng hàm lambda."
   ]
  },
  {
   "cell_type": "code",
   "execution_count": 18,
   "metadata": {},
   "outputs": [
    {
     "data": {
      "text/plain": [
       "[-13, -1, 1, 5]"
      ]
     },
     "execution_count": 18,
     "metadata": {},
     "output_type": "execute_result"
    }
   ],
   "source": [
    "# lọc ra các số lẻ\n",
    "numbers = [-13, -4, -1, 1, 5, 6, 12]\n",
    "list(filter(lambda x: x%2 != 0, numbers))"
   ]
  },
  {
   "cell_type": "code",
   "execution_count": 17,
   "metadata": {},
   "outputs": [
    {
     "data": {
      "text/plain": [
       "['puma', 'cheetah', 'lion', 'tiger', 'panther']"
      ]
     },
     "execution_count": 17,
     "metadata": {},
     "output_type": "execute_result"
    }
   ],
   "source": [
    "# sắp xếp theo chữ cái kết thúc\n",
    "cats = ['tiger', 'lion', 'panther', 'cheetah', 'puma']\n",
    "sorted(cats, key=lambda x: x[-1].lower())"
   ]
  },
  {
   "cell_type": "code",
   "execution_count": 7,
   "metadata": {},
   "outputs": [
    {
     "data": {
      "text/plain": [
       "[-1, -4, -13, 12, 6, 5, 1]"
      ]
     },
     "execution_count": 7,
     "metadata": {},
     "output_type": "execute_result"
    }
   ],
   "source": [
    "# sắp xếp theo giá trị nghịch đảo\n",
    "numbers = [-13, -4, -1, 1, 5, 6, 12]\n",
    "sorted(numbers, key=lambda x: 1/x)"
   ]
  },
  {
   "cell_type": "code",
   "execution_count": 20,
   "metadata": {},
   "outputs": [
    {
     "data": {
      "text/plain": [
       "[25, 1, 16, 49, 64]"
      ]
     },
     "execution_count": 20,
     "metadata": {},
     "output_type": "execute_result"
    }
   ],
   "source": [
    "# tính bình phương\n",
    "numbers = [-5, 1, 4, -7, 8]\n",
    "list(map(lambda x: x*x, numbers))"
   ]
  },
  {
   "cell_type": "markdown",
   "metadata": {},
   "source": [
    "**Tình huống 7:** Sử dụng `lambda` tìm những từ bắt đầu bằng `d` trong list dưới đây:\n",
    "\n",
    "`[python, data, desk, tableau, destination, code, visual, dashboard, intelligent]`"
   ]
  },
  {
   "cell_type": "markdown",
   "metadata": {},
   "source": [
    "## Giải đáp tình huống"
   ]
  },
  {
   "cell_type": "markdown",
   "metadata": {},
   "source": [
    "**Tình huống 1:** Lấy ra tất cả các phần tử chứa `an/An` trong list dưới đây:\n",
    "\n",
    "`customer_name = [\n",
    "    'Anna Bella', 'Andre Fluit', 'Hallie Larmon',\n",
    "    'Kathyrn Deets', 'Aniee Luker','Mickie Stepp',\n",
    "    'Janinto Petteway', 'Blondell Walberg', 'Iona Mantos']`"
   ]
  },
  {
   "cell_type": "code",
   "execution_count": 28,
   "metadata": {
    "scrolled": true
   },
   "outputs": [
    {
     "data": {
      "text/plain": [
       "['Anna Bella', 'Andre Fluit', 'Aniee Luker', 'Janinto Petteway', 'Iona Mantos']"
      ]
     },
     "execution_count": 28,
     "metadata": {},
     "output_type": "execute_result"
    }
   ],
   "source": [
    "customer_name = [\n",
    "    'Anna Bella', 'Andre Fluit', 'Hallie Larmon',\n",
    "    'Kathyrn Deets', 'Aniee Luker','Mickie Stepp',\n",
    "    'Janinto Petteway', 'Blondell Walberg', 'Iona Mantos'\n",
    "]\n",
    "\n",
    "names=[]\n",
    "for name in customer_name:\n",
    "    if 'an' in name.lower():\n",
    "        names.append(name)\n",
    "names"
   ]
  },
  {
   "cell_type": "markdown",
   "metadata": {},
   "source": [
    "**Tình huống 2:** Với mỗi số trong list_B, lấy số đó và vị trí của nó trong list_A thành 1 cặp số và in ra list chứa các cặp số đó. Sử dụng list comprehension.\n",
    "\n",
    "`list_A = [2, 5, 6, 9, 8, 4, 6, 7, 10, 1, 14]`\\\n",
    "`list_B = [9, 10, 1, 7, 9, 5, 10]`"
   ]
  },
  {
   "cell_type": "code",
   "execution_count": 46,
   "metadata": {
    "scrolled": true
   },
   "outputs": [
    {
     "name": "stdout",
     "output_type": "stream",
     "text": [
      "[(9, 3), (10, 8), (1, 9), (7, 7), (9, 3), (5, 1), (10, 8)]\n"
     ]
    }
   ],
   "source": [
    "list_A = [2,5,6,9,8,4,6,7,10,1,14]\n",
    "list_B = [9,10,1,7,9,5,10]\n",
    "\n",
    "[(i, list_A.index(i)) for i in list_B]"
   ]
  },
  {
   "cell_type": "markdown",
   "metadata": {},
   "source": [
    "**Tình huống 3:**  Cho 1 ma trận dưới đây, hãy tạo ra 1 list chứa các phần tử chia hết cho 2 trong ma trận đó, sử dụng list comprehension\\\n",
    "`matrix = [[1, 2, 3], [19, 20, 46], [-4, 10, 5], [8, 7, -9]]`"
   ]
  },
  {
   "cell_type": "code",
   "execution_count": 36,
   "metadata": {},
   "outputs": [
    {
     "data": {
      "text/plain": [
       "[2, 20, 46, -4, 10, 8]"
      ]
     },
     "execution_count": 36,
     "metadata": {},
     "output_type": "execute_result"
    }
   ],
   "source": [
    "matrix = [[1,2,3],[19,20,46],[-4,10,5],[8,7,-9]]\n",
    "\n",
    "result = [i for row in matrix for i in row if i%2==0]\n",
    "result"
   ]
  },
  {
   "cell_type": "markdown",
   "metadata": {},
   "source": [
    "**Tình huống 4:**  Lấy ra những phần tử trong dictionary có value lớn hơn 5 và in ra với format:\n",
    "`Score of {key} is {value}`\n",
    "\n",
    "`brands = {\n",
    "    'ostar': 6, 'poca': 7, 'oishi': 5,\n",
    "    'cheestos': 4, 'crimpy': 8, 'doritos': 3,\n",
    "    'fritos': 6, 'jumbo': 7.5,'lays': 3.5}`"
   ]
  },
  {
   "cell_type": "code",
   "execution_count": 17,
   "metadata": {},
   "outputs": [
    {
     "name": "stdout",
     "output_type": "stream",
     "text": [
      "Score of ostar is 6\n",
      "Score of poca is 7\n",
      "Score of crimpy is 8\n",
      "Score of fritos is 6\n",
      "Score of jumbo is 7.5\n"
     ]
    }
   ],
   "source": [
    "brands = {\n",
    "    'ostar': 6, 'poca': 7, 'oishi': 5,\n",
    "    'cheestos': 4, 'crimpy': 8, 'doritos': 3,\n",
    "    'fritos': 6, 'jumbo': 7.5,'lays': 3.5\n",
    "}\n",
    "\n",
    "for key, value in brands.items():\n",
    "    if value > 5:\n",
    "        print(f'Score of {key} is {value}')\n"
   ]
  },
  {
   "cell_type": "markdown",
   "metadata": {},
   "source": [
    "**Tình huống 5:**\n",
    "Với một số nguyên n cho trước, viết một chương trình tạo ra 1 dictionary bao gồm `(i, log(i))` với i là số nguyên chạy từ 1 đến n (bao gồm cả 1 và n) với n tùy người nhập. Sau đó in ra dictionary."
   ]
  },
  {
   "cell_type": "code",
   "execution_count": 44,
   "metadata": {},
   "outputs": [
    {
     "data": {
      "text/plain": [
       "{1: 0.0, 2: 0.6931471805599453, 3: 1.0986122886681098, 4: 1.3862943611198906}"
      ]
     },
     "execution_count": 44,
     "metadata": {},
     "output_type": "execute_result"
    }
   ],
   "source": [
    "import math\n",
    "\n",
    "dic = {i: math.log(i) for i in range (1, 5)}\n",
    "dic"
   ]
  },
  {
   "cell_type": "markdown",
   "metadata": {},
   "source": [
    "**Tình huống 6:** Định nghĩa hàm `f()` nhận đầu vào là các số `-7, -3, 0, 5, 8, 18, 30`. Hàm này cần có các chức năng sau:\n",
    "- Trả về bình phương nếu số đó chia hết cho 3.\n",
    "- Trả về lập phương nếu số đó chia hết cho 5.\n",
    "- Trả về chính số đó nếu nó chia hết cho cả 3 và 5.\n",
    "- Còn lại, trả về None."
   ]
  },
  {
   "cell_type": "code",
   "execution_count": 1,
   "metadata": {},
   "outputs": [
    {
     "data": {
      "text/plain": [
       "[None, 9, 0, 125, None, 324, 30]"
      ]
     },
     "execution_count": 1,
     "metadata": {},
     "output_type": "execute_result"
    }
   ],
   "source": [
    "def f(*args):\n",
    "    y = []\n",
    "    for x in args:\n",
    "        if x%3 == 0 and x%5 == 0:\n",
    "            y.append(x)\n",
    "        elif x%3 == 0:\n",
    "            y.append(x**2)\n",
    "        elif x%5 == 0:\n",
    "            y.append(x**3)\n",
    "        else:\n",
    "            y.append(None)\n",
    "    return y\n",
    "\n",
    "f(-7, -3, 0, 5, 8, 18, 30)"
   ]
  },
  {
   "cell_type": "markdown",
   "metadata": {},
   "source": [
    "**Tình huống 7:** Sử dụng `lambda` tìm những từ bắt đầu bằng `d` trong list dưới đây:\n",
    "\n",
    "`[python, data, desk, tableau, destination, code, visual, dashboard, intelligent]`"
   ]
  },
  {
   "cell_type": "code",
   "execution_count": 7,
   "metadata": {},
   "outputs": [
    {
     "data": {
      "text/plain": [
       "['data', 'destination', 'dashboard', 'deep']"
      ]
     },
     "execution_count": 7,
     "metadata": {},
     "output_type": "execute_result"
    }
   ],
   "source": [
    "data=['python', 'data', 'math', 'tableau', 'destination', 'code', 'visual', 'dashboard', 'deep']\n",
    "list(filter(lambda x: x.startswith('d'), data))"
   ]
  }
 ],
 "metadata": {
  "colab": {
   "name": "Lecture 3.ipynb",
   "provenance": [],
   "version": "0.3.2"
  },
  "kernelspec": {
   "display_name": "Python 3",
   "language": "python",
   "name": "python3"
  },
  "language_info": {
   "codemirror_mode": {
    "name": "ipython",
    "version": 3
   },
   "file_extension": ".py",
   "mimetype": "text/x-python",
   "name": "python",
   "nbconvert_exporter": "python",
   "pygments_lexer": "ipython3",
   "version": "3.8.3"
  }
 },
 "nbformat": 4,
 "nbformat_minor": 4
}
