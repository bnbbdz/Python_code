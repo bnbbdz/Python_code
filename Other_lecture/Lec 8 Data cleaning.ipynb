{
 "cells": [
  {
   "cell_type": "markdown",
   "metadata": {},
   "source": [
    "# BÀI 8: LÀM SẠCH VÀ CHUẨN HÓA DỮ LIỆU"
   ]
  },
  {
   "cell_type": "markdown",
   "metadata": {},
   "source": [
    "## 1. Làm sạch sơ bộ dữ liệu"
   ]
  },
  {
   "cell_type": "markdown",
   "metadata": {},
   "source": [
    "### 1.1. Xóa cột và hàng thừa"
   ]
  },
  {
   "cell_type": "code",
   "execution_count": 2,
   "metadata": {},
   "outputs": [],
   "source": [
    "import numpy as np\n",
    "import pandas as pd"
   ]
  },
  {
   "cell_type": "code",
   "execution_count": 6,
   "metadata": {},
   "outputs": [
    {
     "data": {
      "text/html": [
       "<div>\n",
       "<style scoped>\n",
       "    .dataframe tbody tr th:only-of-type {\n",
       "        vertical-align: middle;\n",
       "    }\n",
       "\n",
       "    .dataframe tbody tr th {\n",
       "        vertical-align: top;\n",
       "    }\n",
       "\n",
       "    .dataframe thead th {\n",
       "        text-align: right;\n",
       "    }\n",
       "</style>\n",
       "<table border=\"1\" class=\"dataframe\">\n",
       "  <thead>\n",
       "    <tr style=\"text-align: right;\">\n",
       "      <th></th>\n",
       "      <th>year</th>\n",
       "      <th>month_name</th>\n",
       "      <th>month_number</th>\n",
       "      <th>commodity</th>\n",
       "      <th>profit</th>\n",
       "      <th>company</th>\n",
       "    </tr>\n",
       "  </thead>\n",
       "  <tbody>\n",
       "    <tr>\n",
       "      <th>0</th>\n",
       "      <td>2020</td>\n",
       "      <td>Jan</td>\n",
       "      <td>1</td>\n",
       "      <td>Fish</td>\n",
       "      <td>7415</td>\n",
       "      <td>Pandas</td>\n",
       "    </tr>\n",
       "    <tr>\n",
       "      <th>1</th>\n",
       "      <td>2020</td>\n",
       "      <td>Jan</td>\n",
       "      <td>1</td>\n",
       "      <td>Shrimp</td>\n",
       "      <td>3239</td>\n",
       "      <td>Pandas</td>\n",
       "    </tr>\n",
       "    <tr>\n",
       "      <th>2</th>\n",
       "      <td>2020</td>\n",
       "      <td>Jun</td>\n",
       "      <td>6</td>\n",
       "      <td>Fish</td>\n",
       "      <td>7280</td>\n",
       "      <td>Pandas</td>\n",
       "    </tr>\n",
       "    <tr>\n",
       "      <th>3</th>\n",
       "      <td>2020</td>\n",
       "      <td>Jun</td>\n",
       "      <td>6</td>\n",
       "      <td>Shrimp</td>\n",
       "      <td>2007</td>\n",
       "      <td>Pandas</td>\n",
       "    </tr>\n",
       "    <tr>\n",
       "      <th>4</th>\n",
       "      <td>2020</td>\n",
       "      <td>Jul</td>\n",
       "      <td>7</td>\n",
       "      <td>Fish</td>\n",
       "      <td>3574</td>\n",
       "      <td>Pandas</td>\n",
       "    </tr>\n",
       "    <tr>\n",
       "      <th>5</th>\n",
       "      <td>2020</td>\n",
       "      <td>Jul</td>\n",
       "      <td>7</td>\n",
       "      <td>Shrimp</td>\n",
       "      <td>9285</td>\n",
       "      <td>Pandas</td>\n",
       "    </tr>\n",
       "  </tbody>\n",
       "</table>\n",
       "</div>"
      ],
      "text/plain": [
       "   year month_name  month_number commodity  profit company\n",
       "0  2020        Jan             1      Fish    7415  Pandas\n",
       "1  2020        Jan             1    Shrimp    3239  Pandas\n",
       "2  2020        Jun             6      Fish    7280  Pandas\n",
       "3  2020        Jun             6    Shrimp    2007  Pandas\n",
       "4  2020        Jul             7      Fish    3574  Pandas\n",
       "5  2020        Jul             7    Shrimp    9285  Pandas"
      ]
     },
     "execution_count": 6,
     "metadata": {},
     "output_type": "execute_result"
    }
   ],
   "source": [
    "aqua = pd.DataFrame({\n",
    "    'year': pd.Series([2020, 2020, 2020, 2020, 2020, 2020]),\n",
    "    'month_name': pd.Series(['Jan', 'Jan', 'Jun', 'Jun', 'Jul', 'Jul']),\n",
    "    'month_number': pd.Series([1, 1, 6, 6, 7, 7]),\n",
    "    'commodity': pd.Series(['Fish', 'Shrimp', 'Fish', 'Shrimp', 'Fish', 'Shrimp']),\n",
    "    'profit': pd.Series([7415, 3239, 7280, 2007, 3574, 9285]),\n",
    "    'company': pd.Series(['Pandas', 'Pandas', 'Pandas', 'Pandas', 'Pandas', 'Pandas'])\n",
    "})\n",
    "aqua"
   ]
  },
  {
   "cell_type": "code",
   "execution_count": 7,
   "metadata": {},
   "outputs": [
    {
     "data": {
      "text/html": [
       "<div>\n",
       "<style scoped>\n",
       "    .dataframe tbody tr th:only-of-type {\n",
       "        vertical-align: middle;\n",
       "    }\n",
       "\n",
       "    .dataframe tbody tr th {\n",
       "        vertical-align: top;\n",
       "    }\n",
       "\n",
       "    .dataframe thead th {\n",
       "        text-align: right;\n",
       "    }\n",
       "</style>\n",
       "<table border=\"1\" class=\"dataframe\">\n",
       "  <thead>\n",
       "    <tr style=\"text-align: right;\">\n",
       "      <th></th>\n",
       "      <th>year</th>\n",
       "      <th>month_number</th>\n",
       "      <th>commodity</th>\n",
       "      <th>profit</th>\n",
       "    </tr>\n",
       "  </thead>\n",
       "  <tbody>\n",
       "    <tr>\n",
       "      <th>2</th>\n",
       "      <td>2020</td>\n",
       "      <td>6</td>\n",
       "      <td>Fish</td>\n",
       "      <td>7280</td>\n",
       "    </tr>\n",
       "    <tr>\n",
       "      <th>3</th>\n",
       "      <td>2020</td>\n",
       "      <td>6</td>\n",
       "      <td>Shrimp</td>\n",
       "      <td>2007</td>\n",
       "    </tr>\n",
       "    <tr>\n",
       "      <th>4</th>\n",
       "      <td>2020</td>\n",
       "      <td>7</td>\n",
       "      <td>Fish</td>\n",
       "      <td>3574</td>\n",
       "    </tr>\n",
       "    <tr>\n",
       "      <th>5</th>\n",
       "      <td>2020</td>\n",
       "      <td>7</td>\n",
       "      <td>Shrimp</td>\n",
       "      <td>9285</td>\n",
       "    </tr>\n",
       "  </tbody>\n",
       "</table>\n",
       "</div>"
      ],
      "text/plain": [
       "   year  month_number commodity  profit\n",
       "2  2020             6      Fish    7280\n",
       "3  2020             6    Shrimp    2007\n",
       "4  2020             7      Fish    3574\n",
       "5  2020             7    Shrimp    9285"
      ]
     },
     "execution_count": 7,
     "metadata": {},
     "output_type": "execute_result"
    }
   ],
   "source": [
    "# xóa cột month_name và company\n",
    "aqua.drop(columns=['month_name', 'company'], index=[0, 1])"
   ]
  },
  {
   "cell_type": "code",
   "execution_count": 8,
   "metadata": {},
   "outputs": [
    {
     "data": {
      "text/html": [
       "<div>\n",
       "<style scoped>\n",
       "    .dataframe tbody tr th:only-of-type {\n",
       "        vertical-align: middle;\n",
       "    }\n",
       "\n",
       "    .dataframe tbody tr th {\n",
       "        vertical-align: top;\n",
       "    }\n",
       "\n",
       "    .dataframe thead th {\n",
       "        text-align: right;\n",
       "    }\n",
       "</style>\n",
       "<table border=\"1\" class=\"dataframe\">\n",
       "  <thead>\n",
       "    <tr style=\"text-align: right;\">\n",
       "      <th></th>\n",
       "      <th>year</th>\n",
       "      <th>month_number</th>\n",
       "      <th>commodity</th>\n",
       "      <th>profit</th>\n",
       "    </tr>\n",
       "  </thead>\n",
       "  <tbody>\n",
       "    <tr>\n",
       "      <th>2</th>\n",
       "      <td>2020</td>\n",
       "      <td>6</td>\n",
       "      <td>Fish</td>\n",
       "      <td>7280</td>\n",
       "    </tr>\n",
       "    <tr>\n",
       "      <th>3</th>\n",
       "      <td>2020</td>\n",
       "      <td>6</td>\n",
       "      <td>Shrimp</td>\n",
       "      <td>2007</td>\n",
       "    </tr>\n",
       "    <tr>\n",
       "      <th>4</th>\n",
       "      <td>2020</td>\n",
       "      <td>7</td>\n",
       "      <td>Fish</td>\n",
       "      <td>3574</td>\n",
       "    </tr>\n",
       "    <tr>\n",
       "      <th>5</th>\n",
       "      <td>2020</td>\n",
       "      <td>7</td>\n",
       "      <td>Shrimp</td>\n",
       "      <td>9285</td>\n",
       "    </tr>\n",
       "  </tbody>\n",
       "</table>\n",
       "</div>"
      ],
      "text/plain": [
       "   year  month_number commodity  profit\n",
       "2  2020             6      Fish    7280\n",
       "3  2020             6    Shrimp    2007\n",
       "4  2020             7      Fish    3574\n",
       "5  2020             7    Shrimp    9285"
      ]
     },
     "execution_count": 8,
     "metadata": {},
     "output_type": "execute_result"
    }
   ],
   "source": [
    "# ghi đè lên dataframe gốc\n",
    "aqua = aqua.drop(columns=['month_name', 'company'], index=[0, 1])\n",
    "aqua"
   ]
  },
  {
   "cell_type": "code",
   "execution_count": 5,
   "metadata": {},
   "outputs": [
    {
     "data": {
      "text/html": [
       "<div>\n",
       "<style scoped>\n",
       "    .dataframe tbody tr th:only-of-type {\n",
       "        vertical-align: middle;\n",
       "    }\n",
       "\n",
       "    .dataframe tbody tr th {\n",
       "        vertical-align: top;\n",
       "    }\n",
       "\n",
       "    .dataframe thead th {\n",
       "        text-align: right;\n",
       "    }\n",
       "</style>\n",
       "<table border=\"1\" class=\"dataframe\">\n",
       "  <thead>\n",
       "    <tr style=\"text-align: right;\">\n",
       "      <th></th>\n",
       "      <th>year</th>\n",
       "      <th>month_number</th>\n",
       "      <th>commodity</th>\n",
       "      <th>profit</th>\n",
       "    </tr>\n",
       "  </thead>\n",
       "  <tbody>\n",
       "    <tr>\n",
       "      <td>0</td>\n",
       "      <td>2020</td>\n",
       "      <td>6</td>\n",
       "      <td>Fish</td>\n",
       "      <td>7280</td>\n",
       "    </tr>\n",
       "    <tr>\n",
       "      <td>1</td>\n",
       "      <td>2020</td>\n",
       "      <td>6</td>\n",
       "      <td>Shrimp</td>\n",
       "      <td>2007</td>\n",
       "    </tr>\n",
       "    <tr>\n",
       "      <td>2</td>\n",
       "      <td>2020</td>\n",
       "      <td>7</td>\n",
       "      <td>Fish</td>\n",
       "      <td>3574</td>\n",
       "    </tr>\n",
       "    <tr>\n",
       "      <td>3</td>\n",
       "      <td>2020</td>\n",
       "      <td>7</td>\n",
       "      <td>Shrimp</td>\n",
       "      <td>9285</td>\n",
       "    </tr>\n",
       "  </tbody>\n",
       "</table>\n",
       "</div>"
      ],
      "text/plain": [
       "   year  month_number commodity  profit\n",
       "0  2020             6      Fish    7280\n",
       "1  2020             6    Shrimp    2007\n",
       "2  2020             7      Fish    3574\n",
       "3  2020             7    Shrimp    9285"
      ]
     },
     "execution_count": 5,
     "metadata": {},
     "output_type": "execute_result"
    }
   ],
   "source": [
    "aqua = aqua.reset_index(drop=True)\n",
    "aqua"
   ]
  },
  {
   "cell_type": "markdown",
   "metadata": {},
   "source": [
    "### 1.2. Đổi tên cột\n",
    "Tên cột nên đổi về dạng không chứa dấu cách và không trùng nhau."
   ]
  },
  {
   "cell_type": "code",
   "execution_count": 6,
   "metadata": {},
   "outputs": [],
   "source": [
    "import numpy as np\n",
    "import pandas as pd"
   ]
  },
  {
   "cell_type": "code",
   "execution_count": 7,
   "metadata": {},
   "outputs": [
    {
     "data": {
      "text/html": [
       "<div>\n",
       "<style scoped>\n",
       "    .dataframe tbody tr th:only-of-type {\n",
       "        vertical-align: middle;\n",
       "    }\n",
       "\n",
       "    .dataframe tbody tr th {\n",
       "        vertical-align: top;\n",
       "    }\n",
       "\n",
       "    .dataframe thead th {\n",
       "        text-align: right;\n",
       "    }\n",
       "</style>\n",
       "<table border=\"1\" class=\"dataframe\">\n",
       "  <thead>\n",
       "    <tr style=\"text-align: right;\">\n",
       "      <th></th>\n",
       "      <th>Year</th>\n",
       "      <th>Month Name</th>\n",
       "      <th>Month Number</th>\n",
       "      <th>Product Name</th>\n",
       "      <th>Profit</th>\n",
       "      <th>Company Name</th>\n",
       "    </tr>\n",
       "  </thead>\n",
       "  <tbody>\n",
       "    <tr>\n",
       "      <td>0</td>\n",
       "      <td>2020</td>\n",
       "      <td>Jan</td>\n",
       "      <td>1</td>\n",
       "      <td>Fish</td>\n",
       "      <td>7415</td>\n",
       "      <td>Pandas</td>\n",
       "    </tr>\n",
       "    <tr>\n",
       "      <td>1</td>\n",
       "      <td>2020</td>\n",
       "      <td>Jan</td>\n",
       "      <td>1</td>\n",
       "      <td>Shrimp</td>\n",
       "      <td>3239</td>\n",
       "      <td>Pandas</td>\n",
       "    </tr>\n",
       "    <tr>\n",
       "      <td>2</td>\n",
       "      <td>2020</td>\n",
       "      <td>Jun</td>\n",
       "      <td>6</td>\n",
       "      <td>Fish</td>\n",
       "      <td>7280</td>\n",
       "      <td>Pandas</td>\n",
       "    </tr>\n",
       "    <tr>\n",
       "      <td>3</td>\n",
       "      <td>2020</td>\n",
       "      <td>Jun</td>\n",
       "      <td>6</td>\n",
       "      <td>Shrimp</td>\n",
       "      <td>2007</td>\n",
       "      <td>Pandas</td>\n",
       "    </tr>\n",
       "    <tr>\n",
       "      <td>4</td>\n",
       "      <td>2020</td>\n",
       "      <td>Jul</td>\n",
       "      <td>7</td>\n",
       "      <td>Fish</td>\n",
       "      <td>3574</td>\n",
       "      <td>Pandas</td>\n",
       "    </tr>\n",
       "    <tr>\n",
       "      <td>5</td>\n",
       "      <td>2020</td>\n",
       "      <td>Jul</td>\n",
       "      <td>7</td>\n",
       "      <td>Shrimp</td>\n",
       "      <td>9285</td>\n",
       "      <td>Pandas</td>\n",
       "    </tr>\n",
       "  </tbody>\n",
       "</table>\n",
       "</div>"
      ],
      "text/plain": [
       "   Year Month Name  Month Number Product Name  Profit Company Name\n",
       "0  2020        Jan             1         Fish    7415       Pandas\n",
       "1  2020        Jan             1       Shrimp    3239       Pandas\n",
       "2  2020        Jun             6         Fish    7280       Pandas\n",
       "3  2020        Jun             6       Shrimp    2007       Pandas\n",
       "4  2020        Jul             7         Fish    3574       Pandas\n",
       "5  2020        Jul             7       Shrimp    9285       Pandas"
      ]
     },
     "execution_count": 7,
     "metadata": {},
     "output_type": "execute_result"
    }
   ],
   "source": [
    "aqua = pd.DataFrame({\n",
    "    'Year': pd.Series([2020, 2020, 2020, 2020, 2020, 2020]),\n",
    "    'Month Name': pd.Series(['Jan', 'Jan', 'Jun', 'Jun', 'Jul', 'Jul']),\n",
    "    'Month Number': pd.Series([1, 1, 6, 6, 7, 7]),\n",
    "    'Product Name': pd.Series(['Fish', 'Shrimp', 'Fish', 'Shrimp', 'Fish', 'Shrimp']),\n",
    "    'Profit': pd.Series([7415, 3239, 7280, 2007, 3574, 9285]),\n",
    "    'Company Name': pd.Series(['Pandas', 'Pandas', 'Pandas', 'Pandas', 'Pandas', 'Pandas'])\n",
    "})\n",
    "aqua"
   ]
  },
  {
   "cell_type": "code",
   "execution_count": 8,
   "metadata": {},
   "outputs": [
    {
     "data": {
      "text/plain": [
       "Index(['Year', 'Month Name', 'Month Number', 'Product Name', 'Profit',\n",
       "       'Company Name'],\n",
       "      dtype='object')"
      ]
     },
     "execution_count": 8,
     "metadata": {},
     "output_type": "execute_result"
    }
   ],
   "source": [
    "# lấy ra danh sách tên cột\n",
    "aqua.columns"
   ]
  },
  {
   "cell_type": "code",
   "execution_count": 9,
   "metadata": {},
   "outputs": [
    {
     "data": {
      "text/plain": [
       "Index(['year', 'month name', 'month number', 'product name', 'profit',\n",
       "       'company name'],\n",
       "      dtype='object')"
      ]
     },
     "execution_count": 9,
     "metadata": {},
     "output_type": "execute_result"
    }
   ],
   "source": [
    "# chuyển hết về chữ viết thường\n",
    "aqua.columns.str.lower()"
   ]
  },
  {
   "cell_type": "code",
   "execution_count": 10,
   "metadata": {},
   "outputs": [
    {
     "data": {
      "text/plain": [
       "Index(['year', 'month_name', 'month_number', 'product_name', 'profit',\n",
       "       'company_name'],\n",
       "      dtype='object')"
      ]
     },
     "execution_count": 10,
     "metadata": {},
     "output_type": "execute_result"
    }
   ],
   "source": [
    "# thay dấu cách bằng dấu gạch dưới\n",
    "aqua.columns.str.lower().str.replace(' ', '_')"
   ]
  },
  {
   "cell_type": "code",
   "execution_count": 11,
   "metadata": {},
   "outputs": [],
   "source": [
    "# ghi đè lên tên cột cũ\n",
    "aqua.columns = aqua.columns.str.lower().str.replace(' ', '_')"
   ]
  },
  {
   "cell_type": "code",
   "execution_count": 12,
   "metadata": {},
   "outputs": [
    {
     "data": {
      "text/html": [
       "<div>\n",
       "<style scoped>\n",
       "    .dataframe tbody tr th:only-of-type {\n",
       "        vertical-align: middle;\n",
       "    }\n",
       "\n",
       "    .dataframe tbody tr th {\n",
       "        vertical-align: top;\n",
       "    }\n",
       "\n",
       "    .dataframe thead th {\n",
       "        text-align: right;\n",
       "    }\n",
       "</style>\n",
       "<table border=\"1\" class=\"dataframe\">\n",
       "  <thead>\n",
       "    <tr style=\"text-align: right;\">\n",
       "      <th></th>\n",
       "      <th>year</th>\n",
       "      <th>month_name</th>\n",
       "      <th>month_number</th>\n",
       "      <th>product_name</th>\n",
       "      <th>profit</th>\n",
       "      <th>company_name</th>\n",
       "    </tr>\n",
       "  </thead>\n",
       "  <tbody>\n",
       "    <tr>\n",
       "      <td>0</td>\n",
       "      <td>2020</td>\n",
       "      <td>Jan</td>\n",
       "      <td>1</td>\n",
       "      <td>Fish</td>\n",
       "      <td>7415</td>\n",
       "      <td>Pandas</td>\n",
       "    </tr>\n",
       "    <tr>\n",
       "      <td>1</td>\n",
       "      <td>2020</td>\n",
       "      <td>Jan</td>\n",
       "      <td>1</td>\n",
       "      <td>Shrimp</td>\n",
       "      <td>3239</td>\n",
       "      <td>Pandas</td>\n",
       "    </tr>\n",
       "    <tr>\n",
       "      <td>2</td>\n",
       "      <td>2020</td>\n",
       "      <td>Jun</td>\n",
       "      <td>6</td>\n",
       "      <td>Fish</td>\n",
       "      <td>7280</td>\n",
       "      <td>Pandas</td>\n",
       "    </tr>\n",
       "    <tr>\n",
       "      <td>3</td>\n",
       "      <td>2020</td>\n",
       "      <td>Jun</td>\n",
       "      <td>6</td>\n",
       "      <td>Shrimp</td>\n",
       "      <td>2007</td>\n",
       "      <td>Pandas</td>\n",
       "    </tr>\n",
       "    <tr>\n",
       "      <td>4</td>\n",
       "      <td>2020</td>\n",
       "      <td>Jul</td>\n",
       "      <td>7</td>\n",
       "      <td>Fish</td>\n",
       "      <td>3574</td>\n",
       "      <td>Pandas</td>\n",
       "    </tr>\n",
       "    <tr>\n",
       "      <td>5</td>\n",
       "      <td>2020</td>\n",
       "      <td>Jul</td>\n",
       "      <td>7</td>\n",
       "      <td>Shrimp</td>\n",
       "      <td>9285</td>\n",
       "      <td>Pandas</td>\n",
       "    </tr>\n",
       "  </tbody>\n",
       "</table>\n",
       "</div>"
      ],
      "text/plain": [
       "   year month_name  month_number product_name  profit company_name\n",
       "0  2020        Jan             1         Fish    7415       Pandas\n",
       "1  2020        Jan             1       Shrimp    3239       Pandas\n",
       "2  2020        Jun             6         Fish    7280       Pandas\n",
       "3  2020        Jun             6       Shrimp    2007       Pandas\n",
       "4  2020        Jul             7         Fish    3574       Pandas\n",
       "5  2020        Jul             7       Shrimp    9285       Pandas"
      ]
     },
     "execution_count": 12,
     "metadata": {},
     "output_type": "execute_result"
    }
   ],
   "source": [
    "aqua"
   ]
  },
  {
   "cell_type": "code",
   "execution_count": 13,
   "metadata": {},
   "outputs": [],
   "source": [
    "# dùng phương thức rename để đổi tên các cột cụ thể\n",
    "aqua = aqua.rename(columns={\n",
    "    'product_name': 'commodity',\n",
    "    'company_name': 'company'\n",
    "})"
   ]
  },
  {
   "cell_type": "code",
   "execution_count": 14,
   "metadata": {},
   "outputs": [
    {
     "data": {
      "text/html": [
       "<div>\n",
       "<style scoped>\n",
       "    .dataframe tbody tr th:only-of-type {\n",
       "        vertical-align: middle;\n",
       "    }\n",
       "\n",
       "    .dataframe tbody tr th {\n",
       "        vertical-align: top;\n",
       "    }\n",
       "\n",
       "    .dataframe thead th {\n",
       "        text-align: right;\n",
       "    }\n",
       "</style>\n",
       "<table border=\"1\" class=\"dataframe\">\n",
       "  <thead>\n",
       "    <tr style=\"text-align: right;\">\n",
       "      <th></th>\n",
       "      <th>year</th>\n",
       "      <th>month_name</th>\n",
       "      <th>month_number</th>\n",
       "      <th>commodity</th>\n",
       "      <th>profit</th>\n",
       "      <th>company</th>\n",
       "    </tr>\n",
       "  </thead>\n",
       "  <tbody>\n",
       "    <tr>\n",
       "      <td>0</td>\n",
       "      <td>2020</td>\n",
       "      <td>Jan</td>\n",
       "      <td>1</td>\n",
       "      <td>Fish</td>\n",
       "      <td>7415</td>\n",
       "      <td>Pandas</td>\n",
       "    </tr>\n",
       "    <tr>\n",
       "      <td>1</td>\n",
       "      <td>2020</td>\n",
       "      <td>Jan</td>\n",
       "      <td>1</td>\n",
       "      <td>Shrimp</td>\n",
       "      <td>3239</td>\n",
       "      <td>Pandas</td>\n",
       "    </tr>\n",
       "    <tr>\n",
       "      <td>2</td>\n",
       "      <td>2020</td>\n",
       "      <td>Jun</td>\n",
       "      <td>6</td>\n",
       "      <td>Fish</td>\n",
       "      <td>7280</td>\n",
       "      <td>Pandas</td>\n",
       "    </tr>\n",
       "    <tr>\n",
       "      <td>3</td>\n",
       "      <td>2020</td>\n",
       "      <td>Jun</td>\n",
       "      <td>6</td>\n",
       "      <td>Shrimp</td>\n",
       "      <td>2007</td>\n",
       "      <td>Pandas</td>\n",
       "    </tr>\n",
       "    <tr>\n",
       "      <td>4</td>\n",
       "      <td>2020</td>\n",
       "      <td>Jul</td>\n",
       "      <td>7</td>\n",
       "      <td>Fish</td>\n",
       "      <td>3574</td>\n",
       "      <td>Pandas</td>\n",
       "    </tr>\n",
       "    <tr>\n",
       "      <td>5</td>\n",
       "      <td>2020</td>\n",
       "      <td>Jul</td>\n",
       "      <td>7</td>\n",
       "      <td>Shrimp</td>\n",
       "      <td>9285</td>\n",
       "      <td>Pandas</td>\n",
       "    </tr>\n",
       "  </tbody>\n",
       "</table>\n",
       "</div>"
      ],
      "text/plain": [
       "   year month_name  month_number commodity  profit company\n",
       "0  2020        Jan             1      Fish    7415  Pandas\n",
       "1  2020        Jan             1    Shrimp    3239  Pandas\n",
       "2  2020        Jun             6      Fish    7280  Pandas\n",
       "3  2020        Jun             6    Shrimp    2007  Pandas\n",
       "4  2020        Jul             7      Fish    3574  Pandas\n",
       "5  2020        Jul             7    Shrimp    9285  Pandas"
      ]
     },
     "execution_count": 14,
     "metadata": {},
     "output_type": "execute_result"
    }
   ],
   "source": [
    "aqua"
   ]
  },
  {
   "cell_type": "markdown",
   "metadata": {},
   "source": [
    "### 1.3. Chuẩn hóa kiểu dữ liệu\n",
    "Mỗi cột của dataframe cần được chọn đúng kiểu dữ liệu để hoạt động tốt nhất."
   ]
  },
  {
   "cell_type": "code",
   "execution_count": 15,
   "metadata": {},
   "outputs": [],
   "source": [
    "import numpy as np\n",
    "import pandas as pd"
   ]
  },
  {
   "cell_type": "code",
   "execution_count": 16,
   "metadata": {},
   "outputs": [
    {
     "data": {
      "text/html": [
       "<div>\n",
       "<style scoped>\n",
       "    .dataframe tbody tr th:only-of-type {\n",
       "        vertical-align: middle;\n",
       "    }\n",
       "\n",
       "    .dataframe tbody tr th {\n",
       "        vertical-align: top;\n",
       "    }\n",
       "\n",
       "    .dataframe thead th {\n",
       "        text-align: right;\n",
       "    }\n",
       "</style>\n",
       "<table border=\"1\" class=\"dataframe\">\n",
       "  <thead>\n",
       "    <tr style=\"text-align: right;\">\n",
       "      <th></th>\n",
       "      <th>year</th>\n",
       "      <th>date</th>\n",
       "      <th>medal</th>\n",
       "      <th>name</th>\n",
       "      <th>left_handed</th>\n",
       "    </tr>\n",
       "  </thead>\n",
       "  <tbody>\n",
       "    <tr>\n",
       "      <td>0</td>\n",
       "      <td>2019.0</td>\n",
       "      <td>20191103</td>\n",
       "      <td>Gold</td>\n",
       "      <td>Wayne</td>\n",
       "      <td>1</td>\n",
       "    </tr>\n",
       "    <tr>\n",
       "      <td>1</td>\n",
       "      <td>2019.0</td>\n",
       "      <td>20190812</td>\n",
       "      <td>Bronze</td>\n",
       "      <td>Robert</td>\n",
       "      <td>0</td>\n",
       "    </tr>\n",
       "    <tr>\n",
       "      <td>2</td>\n",
       "      <td>2020.0</td>\n",
       "      <td>20200125</td>\n",
       "      <td>Silver</td>\n",
       "      <td>Ashley</td>\n",
       "      <td>0</td>\n",
       "    </tr>\n",
       "    <tr>\n",
       "      <td>3</td>\n",
       "      <td>2020.0</td>\n",
       "      <td>20200129</td>\n",
       "      <td>Bronze</td>\n",
       "      <td>Jamie</td>\n",
       "      <td>0</td>\n",
       "    </tr>\n",
       "    <tr>\n",
       "      <td>4</td>\n",
       "      <td>2020.0</td>\n",
       "      <td>20200412</td>\n",
       "      <td>Silver</td>\n",
       "      <td>Jessie</td>\n",
       "      <td>1</td>\n",
       "    </tr>\n",
       "    <tr>\n",
       "      <td>5</td>\n",
       "      <td>2020.0</td>\n",
       "      <td>20200220</td>\n",
       "      <td>Silver</td>\n",
       "      <td>Sergio</td>\n",
       "      <td>0</td>\n",
       "    </tr>\n",
       "  </tbody>\n",
       "</table>\n",
       "</div>"
      ],
      "text/plain": [
       "     year      date   medal    name  left_handed\n",
       "0  2019.0  20191103    Gold   Wayne            1\n",
       "1  2019.0  20190812  Bronze  Robert            0\n",
       "2  2020.0  20200125  Silver  Ashley            0\n",
       "3  2020.0  20200129  Bronze   Jamie            0\n",
       "4  2020.0  20200412  Silver  Jessie            1\n",
       "5  2020.0  20200220  Silver  Sergio            0"
      ]
     },
     "execution_count": 16,
     "metadata": {},
     "output_type": "execute_result"
    }
   ],
   "source": [
    "athletes = pd.DataFrame({\n",
    "    'year': [2019, 2019, 2020., 2020, 2020, 2020],\n",
    "    'date': [20191103, 20190812, 20200125, 20200129, 20200412, 20200220],\n",
    "    'medal': ['Gold', 'Bronze', 'Silver', 'Bronze', 'Silver', 'Silver'],\n",
    "    'name': ['Wayne', 'Robert', 'Ashley', 'Jamie', 'Jessie', 'Sergio'],\n",
    "    'left_handed': [1, 0, 0, 0, 1, 0]\n",
    "})\n",
    "athletes"
   ]
  },
  {
   "cell_type": "code",
   "execution_count": 17,
   "metadata": {},
   "outputs": [
    {
     "data": {
      "text/plain": [
       "year           float64\n",
       "date             int64\n",
       "medal           object\n",
       "name            object\n",
       "left_handed      int64\n",
       "dtype: object"
      ]
     },
     "execution_count": 17,
     "metadata": {},
     "output_type": "execute_result"
    }
   ],
   "source": [
    "athletes.dtypes"
   ]
  },
  {
   "cell_type": "code",
   "execution_count": 18,
   "metadata": {},
   "outputs": [
    {
     "data": {
      "text/html": [
       "<div>\n",
       "<style scoped>\n",
       "    .dataframe tbody tr th:only-of-type {\n",
       "        vertical-align: middle;\n",
       "    }\n",
       "\n",
       "    .dataframe tbody tr th {\n",
       "        vertical-align: top;\n",
       "    }\n",
       "\n",
       "    .dataframe thead th {\n",
       "        text-align: right;\n",
       "    }\n",
       "</style>\n",
       "<table border=\"1\" class=\"dataframe\">\n",
       "  <thead>\n",
       "    <tr style=\"text-align: right;\">\n",
       "      <th></th>\n",
       "      <th>year</th>\n",
       "      <th>date</th>\n",
       "      <th>medal</th>\n",
       "      <th>name</th>\n",
       "      <th>left_handed</th>\n",
       "    </tr>\n",
       "  </thead>\n",
       "  <tbody>\n",
       "    <tr>\n",
       "      <td>0</td>\n",
       "      <td>2019</td>\n",
       "      <td>20191103</td>\n",
       "      <td>Gold</td>\n",
       "      <td>Wayne</td>\n",
       "      <td>True</td>\n",
       "    </tr>\n",
       "    <tr>\n",
       "      <td>1</td>\n",
       "      <td>2019</td>\n",
       "      <td>20190812</td>\n",
       "      <td>Bronze</td>\n",
       "      <td>Robert</td>\n",
       "      <td>False</td>\n",
       "    </tr>\n",
       "    <tr>\n",
       "      <td>2</td>\n",
       "      <td>2020</td>\n",
       "      <td>20200125</td>\n",
       "      <td>Silver</td>\n",
       "      <td>Ashley</td>\n",
       "      <td>False</td>\n",
       "    </tr>\n",
       "    <tr>\n",
       "      <td>3</td>\n",
       "      <td>2020</td>\n",
       "      <td>20200129</td>\n",
       "      <td>Bronze</td>\n",
       "      <td>Jamie</td>\n",
       "      <td>False</td>\n",
       "    </tr>\n",
       "    <tr>\n",
       "      <td>4</td>\n",
       "      <td>2020</td>\n",
       "      <td>20200412</td>\n",
       "      <td>Silver</td>\n",
       "      <td>Jessie</td>\n",
       "      <td>True</td>\n",
       "    </tr>\n",
       "    <tr>\n",
       "      <td>5</td>\n",
       "      <td>2020</td>\n",
       "      <td>20200220</td>\n",
       "      <td>Silver</td>\n",
       "      <td>Sergio</td>\n",
       "      <td>False</td>\n",
       "    </tr>\n",
       "  </tbody>\n",
       "</table>\n",
       "</div>"
      ],
      "text/plain": [
       "   year      date   medal    name  left_handed\n",
       "0  2019  20191103    Gold   Wayne         True\n",
       "1  2019  20190812  Bronze  Robert        False\n",
       "2  2020  20200125  Silver  Ashley        False\n",
       "3  2020  20200129  Bronze   Jamie        False\n",
       "4  2020  20200412  Silver  Jessie         True\n",
       "5  2020  20200220  Silver  Sergio        False"
      ]
     },
     "execution_count": 18,
     "metadata": {},
     "output_type": "execute_result"
    }
   ],
   "source": [
    "athletes = athletes.astype({\n",
    "    'year': int,\n",
    "    'left_handed': bool\n",
    "})\n",
    "athletes"
   ]
  },
  {
   "cell_type": "code",
   "execution_count": 19,
   "metadata": {},
   "outputs": [
    {
     "data": {
      "text/plain": [
       "0   2019-11-03\n",
       "1   2019-08-12\n",
       "2   2020-01-25\n",
       "3   2020-01-29\n",
       "4   2020-04-12\n",
       "5   2020-02-20\n",
       "Name: date, dtype: datetime64[ns]"
      ]
     },
     "execution_count": 19,
     "metadata": {},
     "output_type": "execute_result"
    }
   ],
   "source": [
    "pd.to_datetime(athletes.date, format='%Y%m%d')"
   ]
  },
  {
   "cell_type": "code",
   "execution_count": 20,
   "metadata": {},
   "outputs": [
    {
     "data": {
      "text/plain": [
       "[Gold, Bronze, Silver, Bronze, Silver, Silver]\n",
       "Categories (3, object): [Gold, Silver, Bronze]"
      ]
     },
     "execution_count": 20,
     "metadata": {},
     "output_type": "execute_result"
    }
   ],
   "source": [
    "pd.Categorical(athletes.medal, categories=['Gold', 'Silver', 'Bronze'])"
   ]
  },
  {
   "cell_type": "code",
   "execution_count": 21,
   "metadata": {},
   "outputs": [
    {
     "data": {
      "text/html": [
       "<div>\n",
       "<style scoped>\n",
       "    .dataframe tbody tr th:only-of-type {\n",
       "        vertical-align: middle;\n",
       "    }\n",
       "\n",
       "    .dataframe tbody tr th {\n",
       "        vertical-align: top;\n",
       "    }\n",
       "\n",
       "    .dataframe thead th {\n",
       "        text-align: right;\n",
       "    }\n",
       "</style>\n",
       "<table border=\"1\" class=\"dataframe\">\n",
       "  <thead>\n",
       "    <tr style=\"text-align: right;\">\n",
       "      <th></th>\n",
       "      <th>year</th>\n",
       "      <th>date</th>\n",
       "      <th>medal</th>\n",
       "      <th>name</th>\n",
       "      <th>left_handed</th>\n",
       "    </tr>\n",
       "  </thead>\n",
       "  <tbody>\n",
       "    <tr>\n",
       "      <td>0</td>\n",
       "      <td>2019</td>\n",
       "      <td>2019-11-03</td>\n",
       "      <td>Gold</td>\n",
       "      <td>Wayne</td>\n",
       "      <td>True</td>\n",
       "    </tr>\n",
       "    <tr>\n",
       "      <td>1</td>\n",
       "      <td>2019</td>\n",
       "      <td>2019-08-12</td>\n",
       "      <td>Bronze</td>\n",
       "      <td>Robert</td>\n",
       "      <td>False</td>\n",
       "    </tr>\n",
       "    <tr>\n",
       "      <td>2</td>\n",
       "      <td>2020</td>\n",
       "      <td>2020-01-25</td>\n",
       "      <td>Silver</td>\n",
       "      <td>Ashley</td>\n",
       "      <td>False</td>\n",
       "    </tr>\n",
       "    <tr>\n",
       "      <td>3</td>\n",
       "      <td>2020</td>\n",
       "      <td>2020-01-29</td>\n",
       "      <td>Bronze</td>\n",
       "      <td>Jamie</td>\n",
       "      <td>False</td>\n",
       "    </tr>\n",
       "    <tr>\n",
       "      <td>4</td>\n",
       "      <td>2020</td>\n",
       "      <td>2020-04-12</td>\n",
       "      <td>Silver</td>\n",
       "      <td>Jessie</td>\n",
       "      <td>True</td>\n",
       "    </tr>\n",
       "    <tr>\n",
       "      <td>5</td>\n",
       "      <td>2020</td>\n",
       "      <td>2020-02-20</td>\n",
       "      <td>Silver</td>\n",
       "      <td>Sergio</td>\n",
       "      <td>False</td>\n",
       "    </tr>\n",
       "  </tbody>\n",
       "</table>\n",
       "</div>"
      ],
      "text/plain": [
       "   year       date   medal    name  left_handed\n",
       "0  2019 2019-11-03    Gold   Wayne         True\n",
       "1  2019 2019-08-12  Bronze  Robert        False\n",
       "2  2020 2020-01-25  Silver  Ashley        False\n",
       "3  2020 2020-01-29  Bronze   Jamie        False\n",
       "4  2020 2020-04-12  Silver  Jessie         True\n",
       "5  2020 2020-02-20  Silver  Sergio        False"
      ]
     },
     "execution_count": 21,
     "metadata": {},
     "output_type": "execute_result"
    }
   ],
   "source": [
    "athletes.date = pd.to_datetime(athletes.date, format='%Y%m%d')\n",
    "athletes.medal = pd.Categorical(athletes.medal, categories=['Gold', 'Silver', 'Bronze'])\n",
    "athletes"
   ]
  },
  {
   "cell_type": "code",
   "execution_count": 22,
   "metadata": {},
   "outputs": [
    {
     "data": {
      "text/html": [
       "<div>\n",
       "<style scoped>\n",
       "    .dataframe tbody tr th:only-of-type {\n",
       "        vertical-align: middle;\n",
       "    }\n",
       "\n",
       "    .dataframe tbody tr th {\n",
       "        vertical-align: top;\n",
       "    }\n",
       "\n",
       "    .dataframe thead th {\n",
       "        text-align: right;\n",
       "    }\n",
       "</style>\n",
       "<table border=\"1\" class=\"dataframe\">\n",
       "  <thead>\n",
       "    <tr style=\"text-align: right;\">\n",
       "      <th></th>\n",
       "      <th>year</th>\n",
       "      <th>date</th>\n",
       "      <th>medal</th>\n",
       "      <th>name</th>\n",
       "      <th>left_handed</th>\n",
       "    </tr>\n",
       "  </thead>\n",
       "  <tbody>\n",
       "    <tr>\n",
       "      <td>0</td>\n",
       "      <td>2019</td>\n",
       "      <td>2019-11-03</td>\n",
       "      <td>Gold</td>\n",
       "      <td>Wayne</td>\n",
       "      <td>True</td>\n",
       "    </tr>\n",
       "    <tr>\n",
       "      <td>2</td>\n",
       "      <td>2020</td>\n",
       "      <td>2020-01-25</td>\n",
       "      <td>Silver</td>\n",
       "      <td>Ashley</td>\n",
       "      <td>False</td>\n",
       "    </tr>\n",
       "    <tr>\n",
       "      <td>4</td>\n",
       "      <td>2020</td>\n",
       "      <td>2020-04-12</td>\n",
       "      <td>Silver</td>\n",
       "      <td>Jessie</td>\n",
       "      <td>True</td>\n",
       "    </tr>\n",
       "    <tr>\n",
       "      <td>5</td>\n",
       "      <td>2020</td>\n",
       "      <td>2020-02-20</td>\n",
       "      <td>Silver</td>\n",
       "      <td>Sergio</td>\n",
       "      <td>False</td>\n",
       "    </tr>\n",
       "    <tr>\n",
       "      <td>1</td>\n",
       "      <td>2019</td>\n",
       "      <td>2019-08-12</td>\n",
       "      <td>Bronze</td>\n",
       "      <td>Robert</td>\n",
       "      <td>False</td>\n",
       "    </tr>\n",
       "    <tr>\n",
       "      <td>3</td>\n",
       "      <td>2020</td>\n",
       "      <td>2020-01-29</td>\n",
       "      <td>Bronze</td>\n",
       "      <td>Jamie</td>\n",
       "      <td>False</td>\n",
       "    </tr>\n",
       "  </tbody>\n",
       "</table>\n",
       "</div>"
      ],
      "text/plain": [
       "   year       date   medal    name  left_handed\n",
       "0  2019 2019-11-03    Gold   Wayne         True\n",
       "2  2020 2020-01-25  Silver  Ashley        False\n",
       "4  2020 2020-04-12  Silver  Jessie         True\n",
       "5  2020 2020-02-20  Silver  Sergio        False\n",
       "1  2019 2019-08-12  Bronze  Robert        False\n",
       "3  2020 2020-01-29  Bronze   Jamie        False"
      ]
     },
     "execution_count": 22,
     "metadata": {},
     "output_type": "execute_result"
    }
   ],
   "source": [
    "athletes.sort_values(by='medal')"
   ]
  },
  {
   "cell_type": "markdown",
   "metadata": {},
   "source": [
    "### 1.4. Xử lý giá trị trùng lặp\n",
    "Khi xuất hiện nhiều giá trị trùng lặp: hoặc chỉ có 1 giá trị đúng, hoặc tất cả đều sai."
   ]
  },
  {
   "cell_type": "code",
   "execution_count": 1,
   "metadata": {},
   "outputs": [],
   "source": [
    "import numpy as np\n",
    "import pandas as pd"
   ]
  },
  {
   "cell_type": "code",
   "execution_count": 2,
   "metadata": {},
   "outputs": [
    {
     "data": {
      "text/html": [
       "<div>\n",
       "<style scoped>\n",
       "    .dataframe tbody tr th:only-of-type {\n",
       "        vertical-align: middle;\n",
       "    }\n",
       "\n",
       "    .dataframe tbody tr th {\n",
       "        vertical-align: top;\n",
       "    }\n",
       "\n",
       "    .dataframe thead th {\n",
       "        text-align: right;\n",
       "    }\n",
       "</style>\n",
       "<table border=\"1\" class=\"dataframe\">\n",
       "  <thead>\n",
       "    <tr style=\"text-align: right;\">\n",
       "      <th></th>\n",
       "      <th>year</th>\n",
       "      <th>company</th>\n",
       "      <th>sales</th>\n",
       "      <th>profit</th>\n",
       "    </tr>\n",
       "  </thead>\n",
       "  <tbody>\n",
       "    <tr>\n",
       "      <td>0</td>\n",
       "      <td>2019</td>\n",
       "      <td>Pandas</td>\n",
       "      <td>5466</td>\n",
       "      <td>1546</td>\n",
       "    </tr>\n",
       "    <tr>\n",
       "      <td>1</td>\n",
       "      <td>2019</td>\n",
       "      <td>Numpy</td>\n",
       "      <td>8558</td>\n",
       "      <td>3546</td>\n",
       "    </tr>\n",
       "    <tr>\n",
       "      <td>2</td>\n",
       "      <td>2020</td>\n",
       "      <td>Pandas</td>\n",
       "      <td>6650</td>\n",
       "      <td>2007</td>\n",
       "    </tr>\n",
       "    <tr>\n",
       "      <td>3</td>\n",
       "      <td>2020</td>\n",
       "      <td>Pandas</td>\n",
       "      <td>8435</td>\n",
       "      <td>3574</td>\n",
       "    </tr>\n",
       "    <tr>\n",
       "      <td>4</td>\n",
       "      <td>2020</td>\n",
       "      <td>Numpy</td>\n",
       "      <td>7280</td>\n",
       "      <td>3352</td>\n",
       "    </tr>\n",
       "    <tr>\n",
       "      <td>5</td>\n",
       "      <td>2020</td>\n",
       "      <td>Numpy</td>\n",
       "      <td>9285</td>\n",
       "      <td>4678</td>\n",
       "    </tr>\n",
       "  </tbody>\n",
       "</table>\n",
       "</div>"
      ],
      "text/plain": [
       "   year company  sales  profit\n",
       "0  2019  Pandas   5466    1546\n",
       "1  2019   Numpy   8558    3546\n",
       "2  2020  Pandas   6650    2007\n",
       "3  2020  Pandas   8435    3574\n",
       "4  2020   Numpy   7280    3352\n",
       "5  2020   Numpy   9285    4678"
      ]
     },
     "execution_count": 2,
     "metadata": {},
     "output_type": "execute_result"
    }
   ],
   "source": [
    "report = pd.DataFrame({\n",
    "    'year': pd.Series([2019, 2019, 2020, 2020, 2020, 2020]),\n",
    "    'company': pd.Series(['Pandas', 'Numpy', 'Pandas', 'Numpy', 'Numpy', 'Pandas']),\n",
    "    'sales': pd.Series([5466, 8558, 8435, 7280, 9285, 6650]),\n",
    "    'profit': pd.Series([1546, 3546, 3574, 3352, 4678, 2007])\n",
    "})\n",
    "report"
   ]
  },
  {
   "cell_type": "markdown",
   "metadata": {},
   "source": [
    "Tùy vào nguyên nhân gây ra hiện tượng trùng lặp, bạn cần có các phương án xử lý khác nhau:\n",
    "1. Liệt kê tất cả bản ghi trùng lặp và chọn xóa thủ công để giữ lại bản ghi đúng\n",
    "2. Căn cứ vào dấu hiệu nhận biết, chẳng hạn giữ lại bản ghi có thời gian gần nhất hay có giá trị lớn nhất\n",
    "3. Tính tổng hay trung bình tất cả bản ghi trùng lặp"
   ]
  },
  {
   "cell_type": "markdown",
   "metadata": {},
   "source": [
    "**Tình huống 1:** Dữ liệu `report` chứa các bản ghi trùng lặp trong 2 cột `year` và `company`. Hãy sử dụng các phương thức của dataframe để thực hiện 3 phương án sau:\n",
    "1. Liệt kê tất cả bản ghi trùng lặp và chọn xóa thủ công, sử dụng phương thức `duplicated()`\n",
    "2. Giữ lại bản ghi có giá trị sales lớn nhất, sử dụng phương thức `drop_duplicates()`\n",
    "3. Tính tổng tất cả bản ghi trùng lặp, sử dụng phương thức `groupby()`"
   ]
  },
  {
   "cell_type": "markdown",
   "metadata": {},
   "source": [
    "### 1.5. Lọc dữ liệu"
   ]
  },
  {
   "cell_type": "code",
   "execution_count": 30,
   "metadata": {},
   "outputs": [],
   "source": [
    "import numpy as np\n",
    "import pandas as pd"
   ]
  },
  {
   "cell_type": "code",
   "execution_count": 31,
   "metadata": {},
   "outputs": [
    {
     "data": {
      "text/html": [
       "<div>\n",
       "<style scoped>\n",
       "    .dataframe tbody tr th:only-of-type {\n",
       "        vertical-align: middle;\n",
       "    }\n",
       "\n",
       "    .dataframe tbody tr th {\n",
       "        vertical-align: top;\n",
       "    }\n",
       "\n",
       "    .dataframe thead th {\n",
       "        text-align: right;\n",
       "    }\n",
       "</style>\n",
       "<table border=\"1\" class=\"dataframe\">\n",
       "  <thead>\n",
       "    <tr style=\"text-align: right;\">\n",
       "      <th></th>\n",
       "      <th>worker</th>\n",
       "      <th>age</th>\n",
       "      <th>job</th>\n",
       "    </tr>\n",
       "  </thead>\n",
       "  <tbody>\n",
       "    <tr>\n",
       "      <td>0</td>\n",
       "      <td>Wayne</td>\n",
       "      <td>8</td>\n",
       "      <td>Student</td>\n",
       "    </tr>\n",
       "    <tr>\n",
       "      <td>1</td>\n",
       "      <td>Robert</td>\n",
       "      <td>37</td>\n",
       "      <td>Data Scientist</td>\n",
       "    </tr>\n",
       "    <tr>\n",
       "      <td>2</td>\n",
       "      <td>Ashley</td>\n",
       "      <td>25</td>\n",
       "      <td>DATA Analyst</td>\n",
       "    </tr>\n",
       "    <tr>\n",
       "      <td>3</td>\n",
       "      <td>Jamie</td>\n",
       "      <td>26</td>\n",
       "      <td>data Engineer</td>\n",
       "    </tr>\n",
       "    <tr>\n",
       "      <td>4</td>\n",
       "      <td>Jessie</td>\n",
       "      <td>80</td>\n",
       "      <td>Retired</td>\n",
       "    </tr>\n",
       "    <tr>\n",
       "      <td>5</td>\n",
       "      <td>Sergio</td>\n",
       "      <td>30</td>\n",
       "      <td>Business Intelligence</td>\n",
       "    </tr>\n",
       "    <tr>\n",
       "      <td>6</td>\n",
       "      <td>Harry</td>\n",
       "      <td>20</td>\n",
       "      <td>Student</td>\n",
       "    </tr>\n",
       "    <tr>\n",
       "      <td>7</td>\n",
       "      <td>Johnny</td>\n",
       "      <td>31</td>\n",
       "      <td>Data Analyst</td>\n",
       "    </tr>\n",
       "    <tr>\n",
       "      <td>8</td>\n",
       "      <td>Aaron</td>\n",
       "      <td>28</td>\n",
       "      <td>AI Engineer</td>\n",
       "    </tr>\n",
       "  </tbody>\n",
       "</table>\n",
       "</div>"
      ],
      "text/plain": [
       "   worker  age                    job\n",
       "0   Wayne    8                Student\n",
       "1  Robert   37         Data Scientist\n",
       "2  Ashley   25           DATA Analyst\n",
       "3   Jamie   26          data Engineer\n",
       "4  Jessie   80                Retired\n",
       "5  Sergio   30  Business Intelligence\n",
       "6   Harry   20                Student\n",
       "7  Johnny   31           Data Analyst\n",
       "8   Aaron   28            AI Engineer"
      ]
     },
     "execution_count": 31,
     "metadata": {},
     "output_type": "execute_result"
    }
   ],
   "source": [
    "ds = pd.DataFrame({\n",
    "    'worker': [\n",
    "        'Wayne', 'Robert', 'Ashley',\n",
    "        'Jamie', 'Jessie', 'Sergio',\n",
    "        'Harry', 'Johnny', 'Aaron'\n",
    "    ],\n",
    "    'age': [8, 37, 25, 26, 80, 30, 20, 31, 28],\n",
    "    'job': [\n",
    "        'Student', 'Data Scientist', 'DATA Analyst',\n",
    "        'data Engineer', 'Retired', 'Business Intelligence',\n",
    "        'Student', 'Data Analyst', 'AI Engineer'\n",
    "    ]\n",
    "})\n",
    "ds"
   ]
  },
  {
   "cell_type": "code",
   "execution_count": 32,
   "metadata": {},
   "outputs": [
    {
     "data": {
      "text/html": [
       "<div>\n",
       "<style scoped>\n",
       "    .dataframe tbody tr th:only-of-type {\n",
       "        vertical-align: middle;\n",
       "    }\n",
       "\n",
       "    .dataframe tbody tr th {\n",
       "        vertical-align: top;\n",
       "    }\n",
       "\n",
       "    .dataframe thead th {\n",
       "        text-align: right;\n",
       "    }\n",
       "</style>\n",
       "<table border=\"1\" class=\"dataframe\">\n",
       "  <thead>\n",
       "    <tr style=\"text-align: right;\">\n",
       "      <th></th>\n",
       "      <th>worker</th>\n",
       "      <th>age</th>\n",
       "      <th>job</th>\n",
       "    </tr>\n",
       "  </thead>\n",
       "  <tbody>\n",
       "    <tr>\n",
       "      <td>1</td>\n",
       "      <td>Robert</td>\n",
       "      <td>37</td>\n",
       "      <td>Data Scientist</td>\n",
       "    </tr>\n",
       "    <tr>\n",
       "      <td>2</td>\n",
       "      <td>Ashley</td>\n",
       "      <td>25</td>\n",
       "      <td>DATA Analyst</td>\n",
       "    </tr>\n",
       "    <tr>\n",
       "      <td>3</td>\n",
       "      <td>Jamie</td>\n",
       "      <td>26</td>\n",
       "      <td>data Engineer</td>\n",
       "    </tr>\n",
       "    <tr>\n",
       "      <td>5</td>\n",
       "      <td>Sergio</td>\n",
       "      <td>30</td>\n",
       "      <td>Business Intelligence</td>\n",
       "    </tr>\n",
       "    <tr>\n",
       "      <td>6</td>\n",
       "      <td>Harry</td>\n",
       "      <td>20</td>\n",
       "      <td>Student</td>\n",
       "    </tr>\n",
       "    <tr>\n",
       "      <td>7</td>\n",
       "      <td>Johnny</td>\n",
       "      <td>31</td>\n",
       "      <td>Data Analyst</td>\n",
       "    </tr>\n",
       "    <tr>\n",
       "      <td>8</td>\n",
       "      <td>Aaron</td>\n",
       "      <td>28</td>\n",
       "      <td>AI Engineer</td>\n",
       "    </tr>\n",
       "  </tbody>\n",
       "</table>\n",
       "</div>"
      ],
      "text/plain": [
       "   worker  age                    job\n",
       "1  Robert   37         Data Scientist\n",
       "2  Ashley   25           DATA Analyst\n",
       "3   Jamie   26          data Engineer\n",
       "5  Sergio   30  Business Intelligence\n",
       "6   Harry   20                Student\n",
       "7  Johnny   31           Data Analyst\n",
       "8   Aaron   28            AI Engineer"
      ]
     },
     "execution_count": 32,
     "metadata": {},
     "output_type": "execute_result"
    }
   ],
   "source": [
    "ds[(ds.age >= 15) & (ds.age <= 60)]"
   ]
  },
  {
   "cell_type": "code",
   "execution_count": 33,
   "metadata": {},
   "outputs": [
    {
     "data": {
      "text/html": [
       "<div>\n",
       "<style scoped>\n",
       "    .dataframe tbody tr th:only-of-type {\n",
       "        vertical-align: middle;\n",
       "    }\n",
       "\n",
       "    .dataframe tbody tr th {\n",
       "        vertical-align: top;\n",
       "    }\n",
       "\n",
       "    .dataframe thead th {\n",
       "        text-align: right;\n",
       "    }\n",
       "</style>\n",
       "<table border=\"1\" class=\"dataframe\">\n",
       "  <thead>\n",
       "    <tr style=\"text-align: right;\">\n",
       "      <th></th>\n",
       "      <th>worker</th>\n",
       "      <th>age</th>\n",
       "      <th>job</th>\n",
       "    </tr>\n",
       "  </thead>\n",
       "  <tbody>\n",
       "    <tr>\n",
       "      <td>1</td>\n",
       "      <td>Robert</td>\n",
       "      <td>37</td>\n",
       "      <td>Data Scientist</td>\n",
       "    </tr>\n",
       "    <tr>\n",
       "      <td>2</td>\n",
       "      <td>Ashley</td>\n",
       "      <td>25</td>\n",
       "      <td>DATA Analyst</td>\n",
       "    </tr>\n",
       "    <tr>\n",
       "      <td>3</td>\n",
       "      <td>Jamie</td>\n",
       "      <td>26</td>\n",
       "      <td>data Engineer</td>\n",
       "    </tr>\n",
       "    <tr>\n",
       "      <td>7</td>\n",
       "      <td>Johnny</td>\n",
       "      <td>31</td>\n",
       "      <td>Data Analyst</td>\n",
       "    </tr>\n",
       "  </tbody>\n",
       "</table>\n",
       "</div>"
      ],
      "text/plain": [
       "   worker  age             job\n",
       "1  Robert   37  Data Scientist\n",
       "2  Ashley   25    DATA Analyst\n",
       "3   Jamie   26   data Engineer\n",
       "7  Johnny   31    Data Analyst"
      ]
     },
     "execution_count": 33,
     "metadata": {},
     "output_type": "execute_result"
    }
   ],
   "source": [
    "ds[ds.job.str.lower().str.contains('data')]"
   ]
  },
  {
   "cell_type": "markdown",
   "metadata": {},
   "source": [
    "**Tình huống 2:** Trong dữ liệu `ds` hãy lọc ra những người mà nghề nghiệp không chứa \"data\" và từ 18 đến 50 tuổi."
   ]
  },
  {
   "cell_type": "markdown",
   "metadata": {
    "colab_type": "text",
    "id": "Q_G6ZQAk5bID"
   },
   "source": [
    "### 1.6. Ánh xạ"
   ]
  },
  {
   "cell_type": "code",
   "execution_count": 35,
   "metadata": {},
   "outputs": [],
   "source": [
    "import numpy as np\n",
    "import pandas as pd"
   ]
  },
  {
   "cell_type": "code",
   "execution_count": 30,
   "metadata": {},
   "outputs": [
    {
     "data": {
      "text/html": [
       "<div>\n",
       "<style scoped>\n",
       "    .dataframe tbody tr th:only-of-type {\n",
       "        vertical-align: middle;\n",
       "    }\n",
       "\n",
       "    .dataframe tbody tr th {\n",
       "        vertical-align: top;\n",
       "    }\n",
       "\n",
       "    .dataframe thead th {\n",
       "        text-align: right;\n",
       "    }\n",
       "</style>\n",
       "<table border=\"1\" class=\"dataframe\">\n",
       "  <thead>\n",
       "    <tr style=\"text-align: right;\">\n",
       "      <th></th>\n",
       "      <th>student_id</th>\n",
       "      <th>grade</th>\n",
       "      <th>gender</th>\n",
       "    </tr>\n",
       "  </thead>\n",
       "  <tbody>\n",
       "    <tr>\n",
       "      <td>0</td>\n",
       "      <td>010001</td>\n",
       "      <td>1</td>\n",
       "      <td>Male</td>\n",
       "    </tr>\n",
       "    <tr>\n",
       "      <td>1</td>\n",
       "      <td>030001</td>\n",
       "      <td>3</td>\n",
       "      <td>Female</td>\n",
       "    </tr>\n",
       "    <tr>\n",
       "      <td>2</td>\n",
       "      <td>070001</td>\n",
       "      <td>7</td>\n",
       "      <td>female</td>\n",
       "    </tr>\n",
       "    <tr>\n",
       "      <td>3</td>\n",
       "      <td>080001</td>\n",
       "      <td>8</td>\n",
       "      <td>Female</td>\n",
       "    </tr>\n",
       "    <tr>\n",
       "      <td>4</td>\n",
       "      <td>110001</td>\n",
       "      <td>11</td>\n",
       "      <td>male</td>\n",
       "    </tr>\n",
       "    <tr>\n",
       "      <td>5</td>\n",
       "      <td>120001</td>\n",
       "      <td>12</td>\n",
       "      <td>female</td>\n",
       "    </tr>\n",
       "  </tbody>\n",
       "</table>\n",
       "</div>"
      ],
      "text/plain": [
       "  student_id  grade  gender\n",
       "0     010001      1    Male\n",
       "1     030001      3  Female\n",
       "2     070001      7  female\n",
       "3     080001      8  Female\n",
       "4     110001     11    male\n",
       "5     120001     12  female"
      ]
     },
     "execution_count": 30,
     "metadata": {},
     "output_type": "execute_result"
    }
   ],
   "source": [
    "students = pd.DataFrame({\n",
    "    'student_id': ['010001', '030001', '070001', '080001', '110001', '120001'],\n",
    "    'grade': [1, 3, 7, 8, 11, 12],\n",
    "    'gender': ['Male', 'Female', 'female', 'Female', 'male', 'female']\n",
    "})\n",
    "students"
   ]
  },
  {
   "cell_type": "markdown",
   "metadata": {},
   "source": [
    "#### Ánh xạ bằng dictionary"
   ]
  },
  {
   "cell_type": "code",
   "execution_count": 32,
   "metadata": {},
   "outputs": [],
   "source": [
    "gender_map = {'female': 0, 'male': 1}"
   ]
  },
  {
   "cell_type": "code",
   "execution_count": 35,
   "metadata": {},
   "outputs": [
    {
     "data": {
      "text/html": [
       "<div>\n",
       "<style scoped>\n",
       "    .dataframe tbody tr th:only-of-type {\n",
       "        vertical-align: middle;\n",
       "    }\n",
       "\n",
       "    .dataframe tbody tr th {\n",
       "        vertical-align: top;\n",
       "    }\n",
       "\n",
       "    .dataframe thead th {\n",
       "        text-align: right;\n",
       "    }\n",
       "</style>\n",
       "<table border=\"1\" class=\"dataframe\">\n",
       "  <thead>\n",
       "    <tr style=\"text-align: right;\">\n",
       "      <th></th>\n",
       "      <th>student_id</th>\n",
       "      <th>grade</th>\n",
       "      <th>gender</th>\n",
       "      <th>is_male</th>\n",
       "    </tr>\n",
       "  </thead>\n",
       "  <tbody>\n",
       "    <tr>\n",
       "      <td>0</td>\n",
       "      <td>010001</td>\n",
       "      <td>1</td>\n",
       "      <td>Male</td>\n",
       "      <td>1</td>\n",
       "    </tr>\n",
       "    <tr>\n",
       "      <td>1</td>\n",
       "      <td>030001</td>\n",
       "      <td>3</td>\n",
       "      <td>Female</td>\n",
       "      <td>0</td>\n",
       "    </tr>\n",
       "    <tr>\n",
       "      <td>2</td>\n",
       "      <td>070001</td>\n",
       "      <td>7</td>\n",
       "      <td>female</td>\n",
       "      <td>0</td>\n",
       "    </tr>\n",
       "    <tr>\n",
       "      <td>3</td>\n",
       "      <td>080001</td>\n",
       "      <td>8</td>\n",
       "      <td>Female</td>\n",
       "      <td>0</td>\n",
       "    </tr>\n",
       "    <tr>\n",
       "      <td>4</td>\n",
       "      <td>110001</td>\n",
       "      <td>11</td>\n",
       "      <td>male</td>\n",
       "      <td>1</td>\n",
       "    </tr>\n",
       "    <tr>\n",
       "      <td>5</td>\n",
       "      <td>120001</td>\n",
       "      <td>12</td>\n",
       "      <td>female</td>\n",
       "      <td>0</td>\n",
       "    </tr>\n",
       "  </tbody>\n",
       "</table>\n",
       "</div>"
      ],
      "text/plain": [
       "  student_id  grade  gender  is_male\n",
       "0     010001      1    Male        1\n",
       "1     030001      3  Female        0\n",
       "2     070001      7  female        0\n",
       "3     080001      8  Female        0\n",
       "4     110001     11    male        1\n",
       "5     120001     12  female        0"
      ]
     },
     "execution_count": 35,
     "metadata": {},
     "output_type": "execute_result"
    }
   ],
   "source": [
    "students['is_male'] = students.gender.str.lower().map(gender_map)\n",
    "students"
   ]
  },
  {
   "cell_type": "markdown",
   "metadata": {},
   "source": [
    "#### Ánh xạ bằng function"
   ]
  },
  {
   "cell_type": "code",
   "execution_count": 26,
   "metadata": {},
   "outputs": [],
   "source": [
    "def stage_map(grade):\n",
    "    if grade in range(1, 6):\n",
    "        stage = 'Primary'\n",
    "    if grade in range(6, 10):\n",
    "        stage = 'Secondary'\n",
    "    if grade in range(10, 13):\n",
    "        stage = 'High'\n",
    "    return stage"
   ]
  },
  {
   "cell_type": "code",
   "execution_count": 36,
   "metadata": {},
   "outputs": [
    {
     "data": {
      "text/html": [
       "<div>\n",
       "<style scoped>\n",
       "    .dataframe tbody tr th:only-of-type {\n",
       "        vertical-align: middle;\n",
       "    }\n",
       "\n",
       "    .dataframe tbody tr th {\n",
       "        vertical-align: top;\n",
       "    }\n",
       "\n",
       "    .dataframe thead th {\n",
       "        text-align: right;\n",
       "    }\n",
       "</style>\n",
       "<table border=\"1\" class=\"dataframe\">\n",
       "  <thead>\n",
       "    <tr style=\"text-align: right;\">\n",
       "      <th></th>\n",
       "      <th>student_id</th>\n",
       "      <th>grade</th>\n",
       "      <th>gender</th>\n",
       "      <th>is_male</th>\n",
       "      <th>stage</th>\n",
       "    </tr>\n",
       "  </thead>\n",
       "  <tbody>\n",
       "    <tr>\n",
       "      <td>0</td>\n",
       "      <td>010001</td>\n",
       "      <td>1</td>\n",
       "      <td>Male</td>\n",
       "      <td>1</td>\n",
       "      <td>Primary</td>\n",
       "    </tr>\n",
       "    <tr>\n",
       "      <td>1</td>\n",
       "      <td>030001</td>\n",
       "      <td>3</td>\n",
       "      <td>Female</td>\n",
       "      <td>0</td>\n",
       "      <td>Primary</td>\n",
       "    </tr>\n",
       "    <tr>\n",
       "      <td>2</td>\n",
       "      <td>070001</td>\n",
       "      <td>7</td>\n",
       "      <td>female</td>\n",
       "      <td>0</td>\n",
       "      <td>Secondary</td>\n",
       "    </tr>\n",
       "    <tr>\n",
       "      <td>3</td>\n",
       "      <td>080001</td>\n",
       "      <td>8</td>\n",
       "      <td>Female</td>\n",
       "      <td>0</td>\n",
       "      <td>Secondary</td>\n",
       "    </tr>\n",
       "    <tr>\n",
       "      <td>4</td>\n",
       "      <td>110001</td>\n",
       "      <td>11</td>\n",
       "      <td>male</td>\n",
       "      <td>1</td>\n",
       "      <td>High</td>\n",
       "    </tr>\n",
       "    <tr>\n",
       "      <td>5</td>\n",
       "      <td>120001</td>\n",
       "      <td>12</td>\n",
       "      <td>female</td>\n",
       "      <td>0</td>\n",
       "      <td>High</td>\n",
       "    </tr>\n",
       "  </tbody>\n",
       "</table>\n",
       "</div>"
      ],
      "text/plain": [
       "  student_id  grade  gender  is_male      stage\n",
       "0     010001      1    Male        1    Primary\n",
       "1     030001      3  Female        0    Primary\n",
       "2     070001      7  female        0  Secondary\n",
       "3     080001      8  Female        0  Secondary\n",
       "4     110001     11    male        1       High\n",
       "5     120001     12  female        0       High"
      ]
     },
     "execution_count": 36,
     "metadata": {},
     "output_type": "execute_result"
    }
   ],
   "source": [
    "students['stage'] = students.grade.map(stage_map)\n",
    "students"
   ]
  },
  {
   "cell_type": "markdown",
   "metadata": {},
   "source": [
    "## 2. Xử lý dữ liệu văn bản"
   ]
  },
  {
   "cell_type": "markdown",
   "metadata": {},
   "source": [
    "### 2.1. Xử lý dấu cách và xuống dòng\n",
    "Do thói quen người nhập, các cột văn bản (text) có thể:\n",
    "- Có dấu cách ở đầu hoặc cuối\n",
    "- Dùng nhiều dấu cách giữa các từ\n",
    "- Xuống dòng"
   ]
  },
  {
   "cell_type": "code",
   "execution_count": 39,
   "metadata": {},
   "outputs": [],
   "source": [
    "import numpy as np\n",
    "import pandas as pd"
   ]
  },
  {
   "cell_type": "code",
   "execution_count": 37,
   "metadata": {},
   "outputs": [
    {
     "data": {
      "text/html": [
       "<div>\n",
       "<style scoped>\n",
       "    .dataframe tbody tr th:only-of-type {\n",
       "        vertical-align: middle;\n",
       "    }\n",
       "\n",
       "    .dataframe tbody tr th {\n",
       "        vertical-align: top;\n",
       "    }\n",
       "\n",
       "    .dataframe thead th {\n",
       "        text-align: right;\n",
       "    }\n",
       "</style>\n",
       "<table border=\"1\" class=\"dataframe\">\n",
       "  <thead>\n",
       "    <tr style=\"text-align: right;\">\n",
       "      <th></th>\n",
       "      <th>year</th>\n",
       "      <th>country</th>\n",
       "      <th>export</th>\n",
       "      <th>import</th>\n",
       "    </tr>\n",
       "  </thead>\n",
       "  <tbody>\n",
       "    <tr>\n",
       "      <td>0</td>\n",
       "      <td>2017</td>\n",
       "      <td>United\\nKingdom_</td>\n",
       "      <td>5466</td>\n",
       "      <td>1546</td>\n",
       "    </tr>\n",
       "    <tr>\n",
       "      <td>1</td>\n",
       "      <td>2018</td>\n",
       "      <td>___  United Kingdom</td>\n",
       "      <td>8558</td>\n",
       "      <td>3546</td>\n",
       "    </tr>\n",
       "    <tr>\n",
       "      <td>2</td>\n",
       "      <td>2019</td>\n",
       "      <td>_United     Kingdom</td>\n",
       "      <td>8435</td>\n",
       "      <td>2007</td>\n",
       "    </tr>\n",
       "    <tr>\n",
       "      <td>3</td>\n",
       "      <td>2020</td>\n",
       "      <td>United Kingdom ____</td>\n",
       "      <td>8435</td>\n",
       "      <td>3574</td>\n",
       "    </tr>\n",
       "  </tbody>\n",
       "</table>\n",
       "</div>"
      ],
      "text/plain": [
       "   year              country  export  import\n",
       "0  2017     United\\nKingdom_    5466    1546\n",
       "1  2018  ___  United Kingdom    8558    3546\n",
       "2  2019  _United     Kingdom    8435    2007\n",
       "3  2020  United Kingdom ____    8435    3574"
      ]
     },
     "execution_count": 37,
     "metadata": {},
     "output_type": "execute_result"
    }
   ],
   "source": [
    "trade = pd.DataFrame({\n",
    "    'year': pd.Series([2017, 2018, 2019, 2020]),\n",
    "    'country': pd.Series([\n",
    "        'United\\nKingdom_',\n",
    "        '___  United Kingdom',\n",
    "        '_United     Kingdom',\n",
    "        'United Kingdom ____']),\n",
    "    'export': pd.Series([5466, 8558, 8435, 8435]),\n",
    "    'import': pd.Series([1546, 3546, 2007, 3574])\n",
    "})\n",
    "trade"
   ]
  },
  {
   "cell_type": "code",
   "execution_count": 41,
   "metadata": {},
   "outputs": [
    {
     "data": {
      "text/plain": [
       "array(['United\\nKingdom_', '___  United Kingdom', '_United     Kingdom',\n",
       "       'United Kingdom ____'], dtype=object)"
      ]
     },
     "execution_count": 41,
     "metadata": {},
     "output_type": "execute_result"
    }
   ],
   "source": [
    "trade.country.unique()"
   ]
  },
  {
   "cell_type": "code",
   "execution_count": 42,
   "metadata": {},
   "outputs": [
    {
     "data": {
      "text/plain": [
       "array(['United\\nKingdom', '  United Kingdom', 'United     Kingdom',\n",
       "       'United Kingdom '], dtype=object)"
      ]
     },
     "execution_count": 42,
     "metadata": {},
     "output_type": "execute_result"
    }
   ],
   "source": [
    "trade.country = trade.country.str.strip('_')\n",
    "trade.country.unique()"
   ]
  },
  {
   "cell_type": "code",
   "execution_count": 43,
   "metadata": {},
   "outputs": [
    {
     "data": {
      "text/plain": [
       "array(['United Kingdom'], dtype=object)"
      ]
     },
     "execution_count": 43,
     "metadata": {},
     "output_type": "execute_result"
    }
   ],
   "source": [
    "trade.country = trade.country.str.split().str.join(' ')\n",
    "trade.country.unique()"
   ]
  },
  {
   "cell_type": "markdown",
   "metadata": {},
   "source": [
    "### 2.2. Sửa lỗi chính tả"
   ]
  },
  {
   "cell_type": "code",
   "execution_count": 44,
   "metadata": {},
   "outputs": [],
   "source": [
    "import numpy as np\n",
    "import pandas as pd"
   ]
  },
  {
   "cell_type": "code",
   "execution_count": 45,
   "metadata": {},
   "outputs": [
    {
     "data": {
      "text/html": [
       "<div>\n",
       "<style scoped>\n",
       "    .dataframe tbody tr th:only-of-type {\n",
       "        vertical-align: middle;\n",
       "    }\n",
       "\n",
       "    .dataframe tbody tr th {\n",
       "        vertical-align: top;\n",
       "    }\n",
       "\n",
       "    .dataframe thead th {\n",
       "        text-align: right;\n",
       "    }\n",
       "</style>\n",
       "<table border=\"1\" class=\"dataframe\">\n",
       "  <thead>\n",
       "    <tr style=\"text-align: right;\">\n",
       "      <th></th>\n",
       "      <th>date</th>\n",
       "      <th>commodity</th>\n",
       "      <th>price</th>\n",
       "      <th>unit</th>\n",
       "    </tr>\n",
       "  </thead>\n",
       "  <tbody>\n",
       "    <tr>\n",
       "      <td>0</td>\n",
       "      <td>2020-01-01</td>\n",
       "      <td>Shrimp, frozen, chem free</td>\n",
       "      <td>10</td>\n",
       "      <td>usd/kg</td>\n",
       "    </tr>\n",
       "    <tr>\n",
       "      <td>1</td>\n",
       "      <td>2020-01-02</td>\n",
       "      <td>Shrimp, frz, chemical-free</td>\n",
       "      <td>13</td>\n",
       "      <td>USD/KG</td>\n",
       "    </tr>\n",
       "    <tr>\n",
       "      <td>2</td>\n",
       "      <td>2020-01-03</td>\n",
       "      <td>Prawn, frz, chemical-free</td>\n",
       "      <td>14</td>\n",
       "      <td>USD/kg</td>\n",
       "    </tr>\n",
       "  </tbody>\n",
       "</table>\n",
       "</div>"
      ],
      "text/plain": [
       "         date                   commodity  price    unit\n",
       "0  2020-01-01   Shrimp, frozen, chem free     10  usd/kg\n",
       "1  2020-01-02  Shrimp, frz, chemical-free     13  USD/KG\n",
       "2  2020-01-03   Prawn, frz, chemical-free     14  USD/kg"
      ]
     },
     "execution_count": 45,
     "metadata": {},
     "output_type": "execute_result"
    }
   ],
   "source": [
    "shrimp = pd.DataFrame({\n",
    "    'date': ['2020-01-01', '2020-01-02', '2020-01-03'],\n",
    "    'commodity': ['Shrimp, frozen, chem free', 'Shrimp, frz, chemical-free', 'Prawn, frz, chemical-free'],\n",
    "    'price': [10, 13, 14],\n",
    "    'unit': ['usd/kg', 'USD/KG', 'USD/kg']\n",
    "})\n",
    "shrimp"
   ]
  },
  {
   "cell_type": "code",
   "execution_count": 46,
   "metadata": {},
   "outputs": [],
   "source": [
    "shrimp.commodity = shrimp.commodity.str.replace('Prawn', 'Shrimp')\n",
    "shrimp.commodity = shrimp.commodity.str.replace('frz', 'frozen')\n",
    "shrimp.commodity = shrimp.commodity.str.replace('chem free', 'chemical-free')\n",
    "shrimp.unit = shrimp.unit.str.replace('usd', 'USD')\n",
    "shrimp.unit = shrimp.unit.str.replace('KG', 'kg')"
   ]
  },
  {
   "cell_type": "code",
   "execution_count": 47,
   "metadata": {},
   "outputs": [
    {
     "data": {
      "text/html": [
       "<div>\n",
       "<style scoped>\n",
       "    .dataframe tbody tr th:only-of-type {\n",
       "        vertical-align: middle;\n",
       "    }\n",
       "\n",
       "    .dataframe tbody tr th {\n",
       "        vertical-align: top;\n",
       "    }\n",
       "\n",
       "    .dataframe thead th {\n",
       "        text-align: right;\n",
       "    }\n",
       "</style>\n",
       "<table border=\"1\" class=\"dataframe\">\n",
       "  <thead>\n",
       "    <tr style=\"text-align: right;\">\n",
       "      <th></th>\n",
       "      <th>date</th>\n",
       "      <th>commodity</th>\n",
       "      <th>price</th>\n",
       "      <th>unit</th>\n",
       "    </tr>\n",
       "  </thead>\n",
       "  <tbody>\n",
       "    <tr>\n",
       "      <td>0</td>\n",
       "      <td>2020-01-01</td>\n",
       "      <td>Shrimp, frozen, chemical-free</td>\n",
       "      <td>10</td>\n",
       "      <td>USD/kg</td>\n",
       "    </tr>\n",
       "    <tr>\n",
       "      <td>1</td>\n",
       "      <td>2020-01-02</td>\n",
       "      <td>Shrimp, frozen, chemical-free</td>\n",
       "      <td>13</td>\n",
       "      <td>USD/kg</td>\n",
       "    </tr>\n",
       "    <tr>\n",
       "      <td>2</td>\n",
       "      <td>2020-01-03</td>\n",
       "      <td>Shrimp, frozen, chemical-free</td>\n",
       "      <td>14</td>\n",
       "      <td>USD/kg</td>\n",
       "    </tr>\n",
       "  </tbody>\n",
       "</table>\n",
       "</div>"
      ],
      "text/plain": [
       "         date                      commodity  price    unit\n",
       "0  2020-01-01  Shrimp, frozen, chemical-free     10  USD/kg\n",
       "1  2020-01-02  Shrimp, frozen, chemical-free     13  USD/kg\n",
       "2  2020-01-03  Shrimp, frozen, chemical-free     14  USD/kg"
      ]
     },
     "execution_count": 47,
     "metadata": {},
     "output_type": "execute_result"
    }
   ],
   "source": [
    "shrimp"
   ]
  },
  {
   "cell_type": "markdown",
   "metadata": {},
   "source": [
    "### 2.3. Xử lý số điện thoại và mã số"
   ]
  },
  {
   "cell_type": "code",
   "execution_count": 44,
   "metadata": {},
   "outputs": [],
   "source": [
    "import numpy as np\n",
    "import pandas as pd"
   ]
  },
  {
   "cell_type": "code",
   "execution_count": 48,
   "metadata": {},
   "outputs": [
    {
     "data": {
      "text/html": [
       "<div>\n",
       "<style scoped>\n",
       "    .dataframe tbody tr th:only-of-type {\n",
       "        vertical-align: middle;\n",
       "    }\n",
       "\n",
       "    .dataframe tbody tr th {\n",
       "        vertical-align: top;\n",
       "    }\n",
       "\n",
       "    .dataframe thead th {\n",
       "        text-align: right;\n",
       "    }\n",
       "</style>\n",
       "<table border=\"1\" class=\"dataframe\">\n",
       "  <thead>\n",
       "    <tr style=\"text-align: right;\">\n",
       "      <th></th>\n",
       "      <th>customer_id</th>\n",
       "      <th>phone</th>\n",
       "      <th>name</th>\n",
       "      <th>information</th>\n",
       "    </tr>\n",
       "  </thead>\n",
       "  <tbody>\n",
       "    <tr>\n",
       "      <td>0</td>\n",
       "      <td>3</td>\n",
       "      <td>363334444</td>\n",
       "      <td>Jack</td>\n",
       "      <td>England Male</td>\n",
       "    </tr>\n",
       "    <tr>\n",
       "      <td>1</td>\n",
       "      <td>423</td>\n",
       "      <td>913334444</td>\n",
       "      <td>James</td>\n",
       "      <td>Colombia Male</td>\n",
       "    </tr>\n",
       "    <tr>\n",
       "      <td>2</td>\n",
       "      <td>5464</td>\n",
       "      <td>123334444</td>\n",
       "      <td>Gabriel</td>\n",
       "      <td>France Female</td>\n",
       "    </tr>\n",
       "  </tbody>\n",
       "</table>\n",
       "</div>"
      ],
      "text/plain": [
       "   customer_id      phone     name    information\n",
       "0            3  363334444     Jack   England Male\n",
       "1          423  913334444    James  Colombia Male\n",
       "2         5464  123334444  Gabriel  France Female"
      ]
     },
     "execution_count": 48,
     "metadata": {},
     "output_type": "execute_result"
    }
   ],
   "source": [
    "info = pd.DataFrame({\n",
    "    'customer_id': [3, 423, 5464],\n",
    "    'phone': [363334444, 913334444, 123334444],\n",
    "    'name': ['Jack', 'James', 'Gabriel'],\n",
    "    'information': ['England Male', 'Colombia Male', 'France Female']\n",
    "})\n",
    "info"
   ]
  },
  {
   "cell_type": "code",
   "execution_count": 49,
   "metadata": {},
   "outputs": [],
   "source": [
    "info = info.astype(str)"
   ]
  },
  {
   "cell_type": "code",
   "execution_count": 50,
   "metadata": {},
   "outputs": [],
   "source": [
    "info.customer_id = info.customer_id.str.pad(width=4, fillchar='0')"
   ]
  },
  {
   "cell_type": "code",
   "execution_count": 51,
   "metadata": {},
   "outputs": [
    {
     "data": {
      "text/html": [
       "<div>\n",
       "<style scoped>\n",
       "    .dataframe tbody tr th:only-of-type {\n",
       "        vertical-align: middle;\n",
       "    }\n",
       "\n",
       "    .dataframe tbody tr th {\n",
       "        vertical-align: top;\n",
       "    }\n",
       "\n",
       "    .dataframe thead th {\n",
       "        text-align: right;\n",
       "    }\n",
       "</style>\n",
       "<table border=\"1\" class=\"dataframe\">\n",
       "  <thead>\n",
       "    <tr style=\"text-align: right;\">\n",
       "      <th></th>\n",
       "      <th>customer_id</th>\n",
       "      <th>phone</th>\n",
       "      <th>name</th>\n",
       "      <th>information</th>\n",
       "    </tr>\n",
       "  </thead>\n",
       "  <tbody>\n",
       "    <tr>\n",
       "      <td>0</td>\n",
       "      <td>0003</td>\n",
       "      <td>0363334444</td>\n",
       "      <td>Jack</td>\n",
       "      <td>England Male</td>\n",
       "    </tr>\n",
       "    <tr>\n",
       "      <td>1</td>\n",
       "      <td>0423</td>\n",
       "      <td>0913334444</td>\n",
       "      <td>James</td>\n",
       "      <td>Colombia Male</td>\n",
       "    </tr>\n",
       "    <tr>\n",
       "      <td>2</td>\n",
       "      <td>5464</td>\n",
       "      <td>0123334444</td>\n",
       "      <td>Gabriel</td>\n",
       "      <td>France Female</td>\n",
       "    </tr>\n",
       "  </tbody>\n",
       "</table>\n",
       "</div>"
      ],
      "text/plain": [
       "  customer_id       phone     name    information\n",
       "0        0003  0363334444     Jack   England Male\n",
       "1        0423  0913334444    James  Colombia Male\n",
       "2        5464  0123334444  Gabriel  France Female"
      ]
     },
     "execution_count": 51,
     "metadata": {},
     "output_type": "execute_result"
    }
   ],
   "source": [
    "info"
   ]
  },
  {
   "cell_type": "markdown",
   "metadata": {},
   "source": [
    "**Tình huống 3:** Thêm số \"0\" vào đầu cột số điện thoại của dữ liệu `info`."
   ]
  },
  {
   "cell_type": "markdown",
   "metadata": {},
   "source": [
    "### 2.4. Tách cột (Optional)"
   ]
  },
  {
   "cell_type": "code",
   "execution_count": 52,
   "metadata": {},
   "outputs": [
    {
     "data": {
      "text/html": [
       "<div>\n",
       "<style scoped>\n",
       "    .dataframe tbody tr th:only-of-type {\n",
       "        vertical-align: middle;\n",
       "    }\n",
       "\n",
       "    .dataframe tbody tr th {\n",
       "        vertical-align: top;\n",
       "    }\n",
       "\n",
       "    .dataframe thead th {\n",
       "        text-align: right;\n",
       "    }\n",
       "</style>\n",
       "<table border=\"1\" class=\"dataframe\">\n",
       "  <thead>\n",
       "    <tr style=\"text-align: right;\">\n",
       "      <th></th>\n",
       "      <th>customer_id</th>\n",
       "      <th>phone</th>\n",
       "      <th>name</th>\n",
       "      <th>information</th>\n",
       "    </tr>\n",
       "  </thead>\n",
       "  <tbody>\n",
       "    <tr>\n",
       "      <td>0</td>\n",
       "      <td>3</td>\n",
       "      <td>363334444</td>\n",
       "      <td>Jack</td>\n",
       "      <td>England Male</td>\n",
       "    </tr>\n",
       "    <tr>\n",
       "      <td>1</td>\n",
       "      <td>423</td>\n",
       "      <td>913334444</td>\n",
       "      <td>James</td>\n",
       "      <td>Colombia Male</td>\n",
       "    </tr>\n",
       "    <tr>\n",
       "      <td>2</td>\n",
       "      <td>5464</td>\n",
       "      <td>123334444</td>\n",
       "      <td>Gabriel</td>\n",
       "      <td>France Female</td>\n",
       "    </tr>\n",
       "  </tbody>\n",
       "</table>\n",
       "</div>"
      ],
      "text/plain": [
       "   customer_id      phone     name    information\n",
       "0            3  363334444     Jack   England Male\n",
       "1          423  913334444    James  Colombia Male\n",
       "2         5464  123334444  Gabriel  France Female"
      ]
     },
     "execution_count": 52,
     "metadata": {},
     "output_type": "execute_result"
    }
   ],
   "source": [
    "info = pd.DataFrame({\n",
    "    'customer_id': [3, 423, 5464],\n",
    "    'phone': [363334444, 913334444, 123334444],\n",
    "    'name': ['Jack', 'James', 'Gabriel'],\n",
    "    'information': ['England Male', 'Colombia Male', 'France Female']\n",
    "})\n",
    "info"
   ]
  },
  {
   "cell_type": "code",
   "execution_count": 53,
   "metadata": {},
   "outputs": [
    {
     "data": {
      "text/plain": [
       "0     [England, Male]\n",
       "1    [Colombia, Male]\n",
       "2    [France, Female]\n",
       "Name: information, dtype: object"
      ]
     },
     "execution_count": 53,
     "metadata": {},
     "output_type": "execute_result"
    }
   ],
   "source": [
    "info['information'].str.split()"
   ]
  },
  {
   "cell_type": "code",
   "execution_count": 54,
   "metadata": {},
   "outputs": [],
   "source": [
    "# unpacking\n",
    "info['nationality'], info['gender'] = info['information'].str.split().str"
   ]
  },
  {
   "cell_type": "code",
   "execution_count": 55,
   "metadata": {},
   "outputs": [
    {
     "data": {
      "text/html": [
       "<div>\n",
       "<style scoped>\n",
       "    .dataframe tbody tr th:only-of-type {\n",
       "        vertical-align: middle;\n",
       "    }\n",
       "\n",
       "    .dataframe tbody tr th {\n",
       "        vertical-align: top;\n",
       "    }\n",
       "\n",
       "    .dataframe thead th {\n",
       "        text-align: right;\n",
       "    }\n",
       "</style>\n",
       "<table border=\"1\" class=\"dataframe\">\n",
       "  <thead>\n",
       "    <tr style=\"text-align: right;\">\n",
       "      <th></th>\n",
       "      <th>customer_id</th>\n",
       "      <th>phone</th>\n",
       "      <th>name</th>\n",
       "      <th>information</th>\n",
       "      <th>nationality</th>\n",
       "      <th>gender</th>\n",
       "    </tr>\n",
       "  </thead>\n",
       "  <tbody>\n",
       "    <tr>\n",
       "      <td>0</td>\n",
       "      <td>3</td>\n",
       "      <td>363334444</td>\n",
       "      <td>Jack</td>\n",
       "      <td>England Male</td>\n",
       "      <td>England</td>\n",
       "      <td>Male</td>\n",
       "    </tr>\n",
       "    <tr>\n",
       "      <td>1</td>\n",
       "      <td>423</td>\n",
       "      <td>913334444</td>\n",
       "      <td>James</td>\n",
       "      <td>Colombia Male</td>\n",
       "      <td>Colombia</td>\n",
       "      <td>Male</td>\n",
       "    </tr>\n",
       "    <tr>\n",
       "      <td>2</td>\n",
       "      <td>5464</td>\n",
       "      <td>123334444</td>\n",
       "      <td>Gabriel</td>\n",
       "      <td>France Female</td>\n",
       "      <td>France</td>\n",
       "      <td>Female</td>\n",
       "    </tr>\n",
       "  </tbody>\n",
       "</table>\n",
       "</div>"
      ],
      "text/plain": [
       "   customer_id      phone     name    information nationality  gender\n",
       "0            3  363334444     Jack   England Male     England    Male\n",
       "1          423  913334444    James  Colombia Male    Colombia    Male\n",
       "2         5464  123334444  Gabriel  France Female      France  Female"
      ]
     },
     "execution_count": 55,
     "metadata": {},
     "output_type": "execute_result"
    }
   ],
   "source": [
    "info"
   ]
  },
  {
   "cell_type": "markdown",
   "metadata": {},
   "source": [
    "### 2.5. Ghép cột"
   ]
  },
  {
   "cell_type": "code",
   "execution_count": 56,
   "metadata": {},
   "outputs": [
    {
     "data": {
      "text/html": [
       "<div>\n",
       "<style scoped>\n",
       "    .dataframe tbody tr th:only-of-type {\n",
       "        vertical-align: middle;\n",
       "    }\n",
       "\n",
       "    .dataframe tbody tr th {\n",
       "        vertical-align: top;\n",
       "    }\n",
       "\n",
       "    .dataframe thead th {\n",
       "        text-align: right;\n",
       "    }\n",
       "</style>\n",
       "<table border=\"1\" class=\"dataframe\">\n",
       "  <thead>\n",
       "    <tr style=\"text-align: right;\">\n",
       "      <th></th>\n",
       "      <th>first_name</th>\n",
       "      <th>last_name</th>\n",
       "      <th>position</th>\n",
       "    </tr>\n",
       "  </thead>\n",
       "  <tbody>\n",
       "    <tr>\n",
       "      <td>0</td>\n",
       "      <td>Wayne</td>\n",
       "      <td>Rooney</td>\n",
       "      <td>Second Striker</td>\n",
       "    </tr>\n",
       "    <tr>\n",
       "      <td>1</td>\n",
       "      <td>Cristiano</td>\n",
       "      <td>Ronaldo</td>\n",
       "      <td>Left Winger</td>\n",
       "    </tr>\n",
       "    <tr>\n",
       "      <td>2</td>\n",
       "      <td>Lionel</td>\n",
       "      <td>Messi</td>\n",
       "      <td>Right Winger</td>\n",
       "    </tr>\n",
       "  </tbody>\n",
       "</table>\n",
       "</div>"
      ],
      "text/plain": [
       "  first_name last_name        position\n",
       "0      Wayne    Rooney  Second Striker\n",
       "1  Cristiano   Ronaldo     Left Winger\n",
       "2     Lionel     Messi    Right Winger"
      ]
     },
     "execution_count": 56,
     "metadata": {},
     "output_type": "execute_result"
    }
   ],
   "source": [
    "football = pd.DataFrame({\n",
    "    'first_name': ['Wayne', 'Cristiano', 'Lionel'],\n",
    "    'last_name': ['Rooney', 'Ronaldo', 'Messi'],\n",
    "    'position': ['Second Striker', 'Left Winger', 'Right Winger']\n",
    "})\n",
    "football"
   ]
  },
  {
   "cell_type": "code",
   "execution_count": 57,
   "metadata": {},
   "outputs": [],
   "source": [
    "football['player'] = football.first_name + ' ' + football.last_name"
   ]
  },
  {
   "cell_type": "code",
   "execution_count": 58,
   "metadata": {},
   "outputs": [
    {
     "data": {
      "text/html": [
       "<div>\n",
       "<style scoped>\n",
       "    .dataframe tbody tr th:only-of-type {\n",
       "        vertical-align: middle;\n",
       "    }\n",
       "\n",
       "    .dataframe tbody tr th {\n",
       "        vertical-align: top;\n",
       "    }\n",
       "\n",
       "    .dataframe thead th {\n",
       "        text-align: right;\n",
       "    }\n",
       "</style>\n",
       "<table border=\"1\" class=\"dataframe\">\n",
       "  <thead>\n",
       "    <tr style=\"text-align: right;\">\n",
       "      <th></th>\n",
       "      <th>first_name</th>\n",
       "      <th>last_name</th>\n",
       "      <th>position</th>\n",
       "      <th>player</th>\n",
       "    </tr>\n",
       "  </thead>\n",
       "  <tbody>\n",
       "    <tr>\n",
       "      <td>0</td>\n",
       "      <td>Wayne</td>\n",
       "      <td>Rooney</td>\n",
       "      <td>Second Striker</td>\n",
       "      <td>Wayne Rooney</td>\n",
       "    </tr>\n",
       "    <tr>\n",
       "      <td>1</td>\n",
       "      <td>Cristiano</td>\n",
       "      <td>Ronaldo</td>\n",
       "      <td>Left Winger</td>\n",
       "      <td>Cristiano Ronaldo</td>\n",
       "    </tr>\n",
       "    <tr>\n",
       "      <td>2</td>\n",
       "      <td>Lionel</td>\n",
       "      <td>Messi</td>\n",
       "      <td>Right Winger</td>\n",
       "      <td>Lionel Messi</td>\n",
       "    </tr>\n",
       "  </tbody>\n",
       "</table>\n",
       "</div>"
      ],
      "text/plain": [
       "  first_name last_name        position             player\n",
       "0      Wayne    Rooney  Second Striker       Wayne Rooney\n",
       "1  Cristiano   Ronaldo     Left Winger  Cristiano Ronaldo\n",
       "2     Lionel     Messi    Right Winger       Lionel Messi"
      ]
     },
     "execution_count": 58,
     "metadata": {},
     "output_type": "execute_result"
    }
   ],
   "source": [
    "football"
   ]
  },
  {
   "cell_type": "markdown",
   "metadata": {},
   "source": [
    "**Tình huống 4:** Ghép 2 cột `prefix` và `suffix` để tạo ra cột `id` cho dữ liệu dưới đây. Chú ý cột `suffix` có 4 chữ số, nếu có ít hơn cần được lấp đầy bằng ký tự 0."
   ]
  },
  {
   "cell_type": "code",
   "execution_count": 44,
   "metadata": {},
   "outputs": [],
   "source": [
    "customer_id = pd.DataFrame({\n",
    "    'prefix': ['VN', 'UK', 'US', 'VN', 'JP', 'RU'],\n",
    "    'suffix': [4686, 3336, 553, 6564, 864, 63]\n",
    "})"
   ]
  },
  {
   "cell_type": "markdown",
   "metadata": {},
   "source": [
    "## 3. Xử lý dữ liệu ngày tháng"
   ]
  },
  {
   "cell_type": "markdown",
   "metadata": {},
   "source": [
    "#### Các ký hiệu định dạng ngày tháng:\n",
    "Ký hiệu|Ý nghĩa                         |Ví dụ                               |\n",
    ":------|:-------------------------------|:-----------------------------------|\n",
    "`%a`   |Tên ngày trong tuần, viết tắt   |Mon, Tue, Wed,...                   |\n",
    "`%A`   |Tên ngày trong tuần, viết đầy đủ|Monday, Tuesday, Wednesday,...      |\n",
    "`%b`   |Tên tháng, viết tắt             |Jan, Feb, Mar,...                   |\n",
    "`%B`   |Tên tháng, viết đầy đủ          |January, February, March,...        |\n",
    "`%d`   |Ngày trong tháng, 2 chữ số      |01, 02, 03,..., 31                  |\n",
    "`%m`   |Tháng, 2 chữ số                 |01, 02, 03,..., 12                  |\n",
    "`%y`   |Năm, 2 chữ số                   |00, 01, 02,..., 99                  |\n",
    "`%Y`   |Năm, 4 chữ số                   |0001, 0002,..., 2019, 2020,..., 9999|\n",
    "`%W`   |Tuần trong năm, 2 chữ số        |00, 01, 02,..., 53                  |\n",
    "`%H`   |Giờ, hệ 24h, 2 chữ số           |00, 01, 02,..., 23                  |\n",
    "`%I`   |Giờ, hệ 12h, 2 chữ số           |01, 02, 03,..., 12                  |\n",
    "`%p`   |Buổi (sáng/chiều)               |AM, PM                              |\n",
    "`%M`   |Phút, 2 chữ số                  |00, 01, 02,..., 59                  |\n",
    "`%S`   |Giây, 2 chữ số                  |00, 01, 02,..., 59                  |"
   ]
  },
  {
   "cell_type": "markdown",
   "metadata": {},
   "source": [
    "### 3.1. Thuộc tính ngày tháng gốc\n",
    "Cột ngày tháng gốc có kiểu dữ liệu `datetime64` với định dạng `YYYY-MM-DD`. Đây là rất thông tin rất quan trọng, được dùng để tạo ra các cột khác như: năm, quý, tháng, tuần, ngày,..."
   ]
  },
  {
   "cell_type": "code",
   "execution_count": 59,
   "metadata": {},
   "outputs": [],
   "source": [
    "import numpy as np\n",
    "import pandas as pd"
   ]
  },
  {
   "cell_type": "code",
   "execution_count": 60,
   "metadata": {},
   "outputs": [
    {
     "data": {
      "text/html": [
       "<div>\n",
       "<style scoped>\n",
       "    .dataframe tbody tr th:only-of-type {\n",
       "        vertical-align: middle;\n",
       "    }\n",
       "\n",
       "    .dataframe tbody tr th {\n",
       "        vertical-align: top;\n",
       "    }\n",
       "\n",
       "    .dataframe thead th {\n",
       "        text-align: right;\n",
       "    }\n",
       "</style>\n",
       "<table border=\"1\" class=\"dataframe\">\n",
       "  <thead>\n",
       "    <tr style=\"text-align: right;\">\n",
       "      <th></th>\n",
       "      <th>date</th>\n",
       "      <th>profit</th>\n",
       "    </tr>\n",
       "  </thead>\n",
       "  <tbody>\n",
       "    <tr>\n",
       "      <td>0</td>\n",
       "      <td>2020.01.01</td>\n",
       "      <td>134</td>\n",
       "    </tr>\n",
       "    <tr>\n",
       "      <td>1</td>\n",
       "      <td>2020.01.02</td>\n",
       "      <td>185</td>\n",
       "    </tr>\n",
       "    <tr>\n",
       "      <td>2</td>\n",
       "      <td>2020.01.03</td>\n",
       "      <td>206</td>\n",
       "    </tr>\n",
       "  </tbody>\n",
       "</table>\n",
       "</div>"
      ],
      "text/plain": [
       "         date  profit\n",
       "0  2020.01.01     134\n",
       "1  2020.01.02     185\n",
       "2  2020.01.03     206"
      ]
     },
     "execution_count": 60,
     "metadata": {},
     "output_type": "execute_result"
    }
   ],
   "source": [
    "sales = pd.DataFrame({\n",
    "    'date': ['2020.01.01', '2020.01.02', '2020.01.03'],\n",
    "    'profit': [134, 185, 206]\n",
    "})\n",
    "sales"
   ]
  },
  {
   "cell_type": "code",
   "execution_count": 61,
   "metadata": {},
   "outputs": [
    {
     "data": {
      "text/html": [
       "<div>\n",
       "<style scoped>\n",
       "    .dataframe tbody tr th:only-of-type {\n",
       "        vertical-align: middle;\n",
       "    }\n",
       "\n",
       "    .dataframe tbody tr th {\n",
       "        vertical-align: top;\n",
       "    }\n",
       "\n",
       "    .dataframe thead th {\n",
       "        text-align: right;\n",
       "    }\n",
       "</style>\n",
       "<table border=\"1\" class=\"dataframe\">\n",
       "  <thead>\n",
       "    <tr style=\"text-align: right;\">\n",
       "      <th></th>\n",
       "      <th>date</th>\n",
       "      <th>profit</th>\n",
       "    </tr>\n",
       "  </thead>\n",
       "  <tbody>\n",
       "    <tr>\n",
       "      <td>0</td>\n",
       "      <td>2020-01-01</td>\n",
       "      <td>134</td>\n",
       "    </tr>\n",
       "    <tr>\n",
       "      <td>1</td>\n",
       "      <td>2020-01-02</td>\n",
       "      <td>185</td>\n",
       "    </tr>\n",
       "    <tr>\n",
       "      <td>2</td>\n",
       "      <td>2020-01-03</td>\n",
       "      <td>206</td>\n",
       "    </tr>\n",
       "  </tbody>\n",
       "</table>\n",
       "</div>"
      ],
      "text/plain": [
       "        date  profit\n",
       "0 2020-01-01     134\n",
       "1 2020-01-02     185\n",
       "2 2020-01-03     206"
      ]
     },
     "execution_count": 61,
     "metadata": {},
     "output_type": "execute_result"
    }
   ],
   "source": [
    "sales = pd.DataFrame({\n",
    "    'date': ['2020.01.01', '2020.01.02', '2020.01.03'],\n",
    "    'profit': [134, 185, 206]\n",
    "})\n",
    "sales.date = pd.to_datetime(sales.date)\n",
    "sales"
   ]
  },
  {
   "cell_type": "code",
   "execution_count": 62,
   "metadata": {},
   "outputs": [
    {
     "data": {
      "text/html": [
       "<div>\n",
       "<style scoped>\n",
       "    .dataframe tbody tr th:only-of-type {\n",
       "        vertical-align: middle;\n",
       "    }\n",
       "\n",
       "    .dataframe tbody tr th {\n",
       "        vertical-align: top;\n",
       "    }\n",
       "\n",
       "    .dataframe thead th {\n",
       "        text-align: right;\n",
       "    }\n",
       "</style>\n",
       "<table border=\"1\" class=\"dataframe\">\n",
       "  <thead>\n",
       "    <tr style=\"text-align: right;\">\n",
       "      <th></th>\n",
       "      <th>date</th>\n",
       "      <th>profit</th>\n",
       "    </tr>\n",
       "  </thead>\n",
       "  <tbody>\n",
       "    <tr>\n",
       "      <td>0</td>\n",
       "      <td>2020-01-01</td>\n",
       "      <td>134</td>\n",
       "    </tr>\n",
       "    <tr>\n",
       "      <td>1</td>\n",
       "      <td>2020-02-01</td>\n",
       "      <td>185</td>\n",
       "    </tr>\n",
       "    <tr>\n",
       "      <td>2</td>\n",
       "      <td>2020-03-01</td>\n",
       "      <td>206</td>\n",
       "    </tr>\n",
       "  </tbody>\n",
       "</table>\n",
       "</div>"
      ],
      "text/plain": [
       "        date  profit\n",
       "0 2020-01-01     134\n",
       "1 2020-02-01     185\n",
       "2 2020-03-01     206"
      ]
     },
     "execution_count": 62,
     "metadata": {},
     "output_type": "execute_result"
    }
   ],
   "source": [
    "sales = pd.DataFrame({\n",
    "    'date': ['2020.01.01', '2020.01.02', '2020.01.03'],\n",
    "    'profit': [134, 185, 206]\n",
    "})\n",
    "sales.date = pd.to_datetime(sales.date, format='%Y.%d.%m') # chỉ rõ vị trí năm, tháng, ngày\n",
    "sales"
   ]
  },
  {
   "cell_type": "code",
   "execution_count": 63,
   "metadata": {},
   "outputs": [
    {
     "data": {
      "text/html": [
       "<div>\n",
       "<style scoped>\n",
       "    .dataframe tbody tr th:only-of-type {\n",
       "        vertical-align: middle;\n",
       "    }\n",
       "\n",
       "    .dataframe tbody tr th {\n",
       "        vertical-align: top;\n",
       "    }\n",
       "\n",
       "    .dataframe thead th {\n",
       "        text-align: right;\n",
       "    }\n",
       "</style>\n",
       "<table border=\"1\" class=\"dataframe\">\n",
       "  <thead>\n",
       "    <tr style=\"text-align: right;\">\n",
       "      <th></th>\n",
       "      <th>date</th>\n",
       "      <th>profit</th>\n",
       "    </tr>\n",
       "  </thead>\n",
       "  <tbody>\n",
       "    <tr>\n",
       "      <td>0</td>\n",
       "      <td>2020-01-01</td>\n",
       "      <td>134</td>\n",
       "    </tr>\n",
       "    <tr>\n",
       "      <td>1</td>\n",
       "      <td>2020-01-02</td>\n",
       "      <td>185</td>\n",
       "    </tr>\n",
       "    <tr>\n",
       "      <td>2</td>\n",
       "      <td>2020-01-03</td>\n",
       "      <td>206</td>\n",
       "    </tr>\n",
       "  </tbody>\n",
       "</table>\n",
       "</div>"
      ],
      "text/plain": [
       "        date  profit\n",
       "0 2020-01-01     134\n",
       "1 2020-01-02     185\n",
       "2 2020-01-03     206"
      ]
     },
     "execution_count": 63,
     "metadata": {},
     "output_type": "execute_result"
    }
   ],
   "source": [
    "sales = pd.DataFrame({\n",
    "    'day': [1, 2, 3],\n",
    "    'month': [1, 1, 1],\n",
    "    'year': [2020, 2020, 2020],\n",
    "    'profit': [134, 185, 206]\n",
    "})\n",
    "sales['date'] = pd.to_datetime(sales[['day', 'month', 'year']]) # gộp 3 cột day, month, year thành 1 cột date\n",
    "sales[['date', 'profit']]"
   ]
  },
  {
   "cell_type": "markdown",
   "metadata": {},
   "source": [
    "### 3.2. Thay đổi định dạng ngày tháng (Optional)"
   ]
  },
  {
   "cell_type": "code",
   "execution_count": 64,
   "metadata": {},
   "outputs": [],
   "source": [
    "import numpy as np\n",
    "import pandas as pd"
   ]
  },
  {
   "cell_type": "code",
   "execution_count": 65,
   "metadata": {},
   "outputs": [
    {
     "data": {
      "text/html": [
       "<div>\n",
       "<style scoped>\n",
       "    .dataframe tbody tr th:only-of-type {\n",
       "        vertical-align: middle;\n",
       "    }\n",
       "\n",
       "    .dataframe tbody tr th {\n",
       "        vertical-align: top;\n",
       "    }\n",
       "\n",
       "    .dataframe thead th {\n",
       "        text-align: right;\n",
       "    }\n",
       "</style>\n",
       "<table border=\"1\" class=\"dataframe\">\n",
       "  <thead>\n",
       "    <tr style=\"text-align: right;\">\n",
       "      <th></th>\n",
       "      <th>date</th>\n",
       "      <th>profit</th>\n",
       "    </tr>\n",
       "  </thead>\n",
       "  <tbody>\n",
       "    <tr>\n",
       "      <td>0</td>\n",
       "      <td>2020-01-01</td>\n",
       "      <td>134</td>\n",
       "    </tr>\n",
       "    <tr>\n",
       "      <td>1</td>\n",
       "      <td>2020-01-02</td>\n",
       "      <td>185</td>\n",
       "    </tr>\n",
       "    <tr>\n",
       "      <td>2</td>\n",
       "      <td>2020-01-03</td>\n",
       "      <td>206</td>\n",
       "    </tr>\n",
       "  </tbody>\n",
       "</table>\n",
       "</div>"
      ],
      "text/plain": [
       "        date  profit\n",
       "0 2020-01-01     134\n",
       "1 2020-01-02     185\n",
       "2 2020-01-03     206"
      ]
     },
     "execution_count": 65,
     "metadata": {},
     "output_type": "execute_result"
    }
   ],
   "source": [
    "sales = pd.DataFrame({\n",
    "    'date': pd.date_range(start='2020-01-01', end='2020-01-03', freq='D'),\n",
    "    'profit': [134, 185, 206]\n",
    "})\n",
    "sales "
   ]
  },
  {
   "cell_type": "code",
   "execution_count": 66,
   "metadata": {},
   "outputs": [
    {
     "data": {
      "text/html": [
       "<div>\n",
       "<style scoped>\n",
       "    .dataframe tbody tr th:only-of-type {\n",
       "        vertical-align: middle;\n",
       "    }\n",
       "\n",
       "    .dataframe tbody tr th {\n",
       "        vertical-align: top;\n",
       "    }\n",
       "\n",
       "    .dataframe thead th {\n",
       "        text-align: right;\n",
       "    }\n",
       "</style>\n",
       "<table border=\"1\" class=\"dataframe\">\n",
       "  <thead>\n",
       "    <tr style=\"text-align: right;\">\n",
       "      <th></th>\n",
       "      <th>date</th>\n",
       "      <th>profit</th>\n",
       "      <th>date_print</th>\n",
       "    </tr>\n",
       "  </thead>\n",
       "  <tbody>\n",
       "    <tr>\n",
       "      <td>0</td>\n",
       "      <td>2020-01-01</td>\n",
       "      <td>134</td>\n",
       "      <td>Jan 01, 2020</td>\n",
       "    </tr>\n",
       "    <tr>\n",
       "      <td>1</td>\n",
       "      <td>2020-01-02</td>\n",
       "      <td>185</td>\n",
       "      <td>Jan 02, 2020</td>\n",
       "    </tr>\n",
       "    <tr>\n",
       "      <td>2</td>\n",
       "      <td>2020-01-03</td>\n",
       "      <td>206</td>\n",
       "      <td>Jan 03, 2020</td>\n",
       "    </tr>\n",
       "  </tbody>\n",
       "</table>\n",
       "</div>"
      ],
      "text/plain": [
       "        date  profit    date_print\n",
       "0 2020-01-01     134  Jan 01, 2020\n",
       "1 2020-01-02     185  Jan 02, 2020\n",
       "2 2020-01-03     206  Jan 03, 2020"
      ]
     },
     "execution_count": 66,
     "metadata": {},
     "output_type": "execute_result"
    }
   ],
   "source": [
    "sales['date_print'] = sales.date.dt.strftime('%b %d, %Y')\n",
    "sales"
   ]
  },
  {
   "cell_type": "code",
   "execution_count": 67,
   "metadata": {},
   "outputs": [
    {
     "data": {
      "text/plain": [
       "date          datetime64[ns]\n",
       "profit                 int64\n",
       "date_print            object\n",
       "dtype: object"
      ]
     },
     "execution_count": 67,
     "metadata": {},
     "output_type": "execute_result"
    }
   ],
   "source": [
    "sales.dtypes"
   ]
  },
  {
   "cell_type": "markdown",
   "metadata": {},
   "source": [
    "**Chú ý:** Cột ngày tháng gốc `date` được dùng để tính toán, cột `date_print` chỉ mang ý nghĩa hiển thị."
   ]
  },
  {
   "cell_type": "markdown",
   "metadata": {},
   "source": [
    "### 3.3. Trích xuất thuộc tính năm, quý, tháng, tuần"
   ]
  },
  {
   "cell_type": "code",
   "execution_count": 68,
   "metadata": {},
   "outputs": [],
   "source": [
    "import numpy as np\n",
    "import pandas as pd"
   ]
  },
  {
   "cell_type": "code",
   "execution_count": 69,
   "metadata": {},
   "outputs": [
    {
     "data": {
      "text/html": [
       "<div>\n",
       "<style scoped>\n",
       "    .dataframe tbody tr th:only-of-type {\n",
       "        vertical-align: middle;\n",
       "    }\n",
       "\n",
       "    .dataframe tbody tr th {\n",
       "        vertical-align: top;\n",
       "    }\n",
       "\n",
       "    .dataframe thead th {\n",
       "        text-align: right;\n",
       "    }\n",
       "</style>\n",
       "<table border=\"1\" class=\"dataframe\">\n",
       "  <thead>\n",
       "    <tr style=\"text-align: right;\">\n",
       "      <th></th>\n",
       "      <th>date</th>\n",
       "    </tr>\n",
       "  </thead>\n",
       "  <tbody>\n",
       "    <tr>\n",
       "      <td>0</td>\n",
       "      <td>2020-01-01</td>\n",
       "    </tr>\n",
       "    <tr>\n",
       "      <td>1</td>\n",
       "      <td>2020-01-02</td>\n",
       "    </tr>\n",
       "    <tr>\n",
       "      <td>2</td>\n",
       "      <td>2020-01-03</td>\n",
       "    </tr>\n",
       "    <tr>\n",
       "      <td>3</td>\n",
       "      <td>2020-01-04</td>\n",
       "    </tr>\n",
       "    <tr>\n",
       "      <td>4</td>\n",
       "      <td>2020-01-05</td>\n",
       "    </tr>\n",
       "    <tr>\n",
       "      <td>...</td>\n",
       "      <td>...</td>\n",
       "    </tr>\n",
       "    <tr>\n",
       "      <td>361</td>\n",
       "      <td>2020-12-27</td>\n",
       "    </tr>\n",
       "    <tr>\n",
       "      <td>362</td>\n",
       "      <td>2020-12-28</td>\n",
       "    </tr>\n",
       "    <tr>\n",
       "      <td>363</td>\n",
       "      <td>2020-12-29</td>\n",
       "    </tr>\n",
       "    <tr>\n",
       "      <td>364</td>\n",
       "      <td>2020-12-30</td>\n",
       "    </tr>\n",
       "    <tr>\n",
       "      <td>365</td>\n",
       "      <td>2020-12-31</td>\n",
       "    </tr>\n",
       "  </tbody>\n",
       "</table>\n",
       "<p>366 rows × 1 columns</p>\n",
       "</div>"
      ],
      "text/plain": [
       "          date\n",
       "0   2020-01-01\n",
       "1   2020-01-02\n",
       "2   2020-01-03\n",
       "3   2020-01-04\n",
       "4   2020-01-05\n",
       "..         ...\n",
       "361 2020-12-27\n",
       "362 2020-12-28\n",
       "363 2020-12-29\n",
       "364 2020-12-30\n",
       "365 2020-12-31\n",
       "\n",
       "[366 rows x 1 columns]"
      ]
     },
     "execution_count": 69,
     "metadata": {},
     "output_type": "execute_result"
    }
   ],
   "source": [
    "calendar = pd.DataFrame({\n",
    "    'date': pd.date_range('2020-01-01', '2020-12-31')\n",
    "})\n",
    "calendar"
   ]
  },
  {
   "cell_type": "code",
   "execution_count": 70,
   "metadata": {},
   "outputs": [
    {
     "data": {
      "text/plain": [
       "0      2020\n",
       "1      2020\n",
       "2      2020\n",
       "3      2020\n",
       "4      2020\n",
       "       ... \n",
       "361    2020\n",
       "362    2020\n",
       "363    2020\n",
       "364    2020\n",
       "365    2020\n",
       "Name: date, Length: 366, dtype: period[A-DEC]"
      ]
     },
     "execution_count": 70,
     "metadata": {},
     "output_type": "execute_result"
    }
   ],
   "source": [
    "# tách năm\n",
    "calendar.date.dt.to_period('Y')"
   ]
  },
  {
   "cell_type": "code",
   "execution_count": 71,
   "metadata": {},
   "outputs": [
    {
     "data": {
      "text/plain": [
       "0      2020Q1\n",
       "1      2020Q1\n",
       "2      2020Q1\n",
       "3      2020Q1\n",
       "4      2020Q1\n",
       "        ...  \n",
       "361    2020Q4\n",
       "362    2020Q4\n",
       "363    2020Q4\n",
       "364    2020Q4\n",
       "365    2020Q4\n",
       "Name: date, Length: 366, dtype: period[Q-DEC]"
      ]
     },
     "execution_count": 71,
     "metadata": {},
     "output_type": "execute_result"
    }
   ],
   "source": [
    "# tách quý\n",
    "calendar.date.dt.to_period('Q')"
   ]
  },
  {
   "cell_type": "code",
   "execution_count": 72,
   "metadata": {},
   "outputs": [
    {
     "data": {
      "text/plain": [
       "0      2020-01\n",
       "1      2020-01\n",
       "2      2020-01\n",
       "3      2020-01\n",
       "4      2020-01\n",
       "        ...   \n",
       "361    2020-12\n",
       "362    2020-12\n",
       "363    2020-12\n",
       "364    2020-12\n",
       "365    2020-12\n",
       "Name: date, Length: 366, dtype: period[M]"
      ]
     },
     "execution_count": 72,
     "metadata": {},
     "output_type": "execute_result"
    }
   ],
   "source": [
    "# tách tháng\n",
    "calendar.date.dt.to_period('M')"
   ]
  },
  {
   "cell_type": "code",
   "execution_count": 73,
   "metadata": {},
   "outputs": [
    {
     "data": {
      "text/plain": [
       "0      2020-00\n",
       "1      2020-00\n",
       "2      2020-00\n",
       "3      2020-00\n",
       "4      2020-01\n",
       "        ...   \n",
       "361    2020-52\n",
       "362    2020-52\n",
       "363    2020-52\n",
       "364    2020-52\n",
       "365    2020-52\n",
       "Name: date, Length: 366, dtype: object"
      ]
     },
     "execution_count": 73,
     "metadata": {},
     "output_type": "execute_result"
    }
   ],
   "source": [
    "# tách tuần\n",
    "calendar.date.dt.strftime('%Y-%U')"
   ]
  },
  {
   "cell_type": "code",
   "execution_count": 74,
   "metadata": {},
   "outputs": [
    {
     "data": {
      "text/html": [
       "<div>\n",
       "<style scoped>\n",
       "    .dataframe tbody tr th:only-of-type {\n",
       "        vertical-align: middle;\n",
       "    }\n",
       "\n",
       "    .dataframe tbody tr th {\n",
       "        vertical-align: top;\n",
       "    }\n",
       "\n",
       "    .dataframe thead th {\n",
       "        text-align: right;\n",
       "    }\n",
       "</style>\n",
       "<table border=\"1\" class=\"dataframe\">\n",
       "  <thead>\n",
       "    <tr style=\"text-align: right;\">\n",
       "      <th></th>\n",
       "      <th>date</th>\n",
       "      <th>year</th>\n",
       "      <th>quarter</th>\n",
       "      <th>month</th>\n",
       "      <th>week</th>\n",
       "    </tr>\n",
       "  </thead>\n",
       "  <tbody>\n",
       "    <tr>\n",
       "      <td>0</td>\n",
       "      <td>2020-01-01</td>\n",
       "      <td>2020</td>\n",
       "      <td>2020-1</td>\n",
       "      <td>2020-01</td>\n",
       "      <td>2020-00</td>\n",
       "    </tr>\n",
       "    <tr>\n",
       "      <td>1</td>\n",
       "      <td>2020-01-02</td>\n",
       "      <td>2020</td>\n",
       "      <td>2020-1</td>\n",
       "      <td>2020-01</td>\n",
       "      <td>2020-00</td>\n",
       "    </tr>\n",
       "    <tr>\n",
       "      <td>2</td>\n",
       "      <td>2020-01-03</td>\n",
       "      <td>2020</td>\n",
       "      <td>2020-1</td>\n",
       "      <td>2020-01</td>\n",
       "      <td>2020-00</td>\n",
       "    </tr>\n",
       "    <tr>\n",
       "      <td>3</td>\n",
       "      <td>2020-01-04</td>\n",
       "      <td>2020</td>\n",
       "      <td>2020-1</td>\n",
       "      <td>2020-01</td>\n",
       "      <td>2020-00</td>\n",
       "    </tr>\n",
       "    <tr>\n",
       "      <td>4</td>\n",
       "      <td>2020-01-05</td>\n",
       "      <td>2020</td>\n",
       "      <td>2020-1</td>\n",
       "      <td>2020-01</td>\n",
       "      <td>2020-01</td>\n",
       "    </tr>\n",
       "    <tr>\n",
       "      <td>...</td>\n",
       "      <td>...</td>\n",
       "      <td>...</td>\n",
       "      <td>...</td>\n",
       "      <td>...</td>\n",
       "      <td>...</td>\n",
       "    </tr>\n",
       "    <tr>\n",
       "      <td>361</td>\n",
       "      <td>2020-12-27</td>\n",
       "      <td>2020</td>\n",
       "      <td>2020-4</td>\n",
       "      <td>2020-12</td>\n",
       "      <td>2020-52</td>\n",
       "    </tr>\n",
       "    <tr>\n",
       "      <td>362</td>\n",
       "      <td>2020-12-28</td>\n",
       "      <td>2020</td>\n",
       "      <td>2020-4</td>\n",
       "      <td>2020-12</td>\n",
       "      <td>2020-52</td>\n",
       "    </tr>\n",
       "    <tr>\n",
       "      <td>363</td>\n",
       "      <td>2020-12-29</td>\n",
       "      <td>2020</td>\n",
       "      <td>2020-4</td>\n",
       "      <td>2020-12</td>\n",
       "      <td>2020-52</td>\n",
       "    </tr>\n",
       "    <tr>\n",
       "      <td>364</td>\n",
       "      <td>2020-12-30</td>\n",
       "      <td>2020</td>\n",
       "      <td>2020-4</td>\n",
       "      <td>2020-12</td>\n",
       "      <td>2020-52</td>\n",
       "    </tr>\n",
       "    <tr>\n",
       "      <td>365</td>\n",
       "      <td>2020-12-31</td>\n",
       "      <td>2020</td>\n",
       "      <td>2020-4</td>\n",
       "      <td>2020-12</td>\n",
       "      <td>2020-52</td>\n",
       "    </tr>\n",
       "  </tbody>\n",
       "</table>\n",
       "<p>366 rows × 5 columns</p>\n",
       "</div>"
      ],
      "text/plain": [
       "          date  year quarter    month     week\n",
       "0   2020-01-01  2020  2020-1  2020-01  2020-00\n",
       "1   2020-01-02  2020  2020-1  2020-01  2020-00\n",
       "2   2020-01-03  2020  2020-1  2020-01  2020-00\n",
       "3   2020-01-04  2020  2020-1  2020-01  2020-00\n",
       "4   2020-01-05  2020  2020-1  2020-01  2020-01\n",
       "..         ...   ...     ...      ...      ...\n",
       "361 2020-12-27  2020  2020-4  2020-12  2020-52\n",
       "362 2020-12-28  2020  2020-4  2020-12  2020-52\n",
       "363 2020-12-29  2020  2020-4  2020-12  2020-52\n",
       "364 2020-12-30  2020  2020-4  2020-12  2020-52\n",
       "365 2020-12-31  2020  2020-4  2020-12  2020-52\n",
       "\n",
       "[366 rows x 5 columns]"
      ]
     },
     "execution_count": 74,
     "metadata": {},
     "output_type": "execute_result"
    }
   ],
   "source": [
    "calendar['year'] = calendar.date.dt.to_period('Y').astype(int)\n",
    "calendar['quarter'] = calendar.date.dt.to_period('Q').astype(str).str.replace('Q', '-')\n",
    "calendar['month'] = calendar.date.dt.to_period('M').astype(str)\n",
    "calendar['week'] = calendar.date.dt.strftime('%Y-%U')\n",
    "calendar"
   ]
  },
  {
   "cell_type": "markdown",
   "metadata": {},
   "source": [
    "### 3.4. Trích xuất các thuộc tính chu kỳ"
   ]
  },
  {
   "cell_type": "code",
   "execution_count": 75,
   "metadata": {},
   "outputs": [],
   "source": [
    "import numpy as np\n",
    "import pandas as pd"
   ]
  },
  {
   "cell_type": "code",
   "execution_count": 76,
   "metadata": {},
   "outputs": [
    {
     "data": {
      "text/html": [
       "<div>\n",
       "<style scoped>\n",
       "    .dataframe tbody tr th:only-of-type {\n",
       "        vertical-align: middle;\n",
       "    }\n",
       "\n",
       "    .dataframe tbody tr th {\n",
       "        vertical-align: top;\n",
       "    }\n",
       "\n",
       "    .dataframe thead th {\n",
       "        text-align: right;\n",
       "    }\n",
       "</style>\n",
       "<table border=\"1\" class=\"dataframe\">\n",
       "  <thead>\n",
       "    <tr style=\"text-align: right;\">\n",
       "      <th></th>\n",
       "      <th>date</th>\n",
       "    </tr>\n",
       "  </thead>\n",
       "  <tbody>\n",
       "    <tr>\n",
       "      <td>0</td>\n",
       "      <td>2020-01-01</td>\n",
       "    </tr>\n",
       "    <tr>\n",
       "      <td>1</td>\n",
       "      <td>2020-01-02</td>\n",
       "    </tr>\n",
       "    <tr>\n",
       "      <td>2</td>\n",
       "      <td>2020-01-03</td>\n",
       "    </tr>\n",
       "    <tr>\n",
       "      <td>3</td>\n",
       "      <td>2020-01-04</td>\n",
       "    </tr>\n",
       "    <tr>\n",
       "      <td>4</td>\n",
       "      <td>2020-01-05</td>\n",
       "    </tr>\n",
       "    <tr>\n",
       "      <td>...</td>\n",
       "      <td>...</td>\n",
       "    </tr>\n",
       "    <tr>\n",
       "      <td>361</td>\n",
       "      <td>2020-12-27</td>\n",
       "    </tr>\n",
       "    <tr>\n",
       "      <td>362</td>\n",
       "      <td>2020-12-28</td>\n",
       "    </tr>\n",
       "    <tr>\n",
       "      <td>363</td>\n",
       "      <td>2020-12-29</td>\n",
       "    </tr>\n",
       "    <tr>\n",
       "      <td>364</td>\n",
       "      <td>2020-12-30</td>\n",
       "    </tr>\n",
       "    <tr>\n",
       "      <td>365</td>\n",
       "      <td>2020-12-31</td>\n",
       "    </tr>\n",
       "  </tbody>\n",
       "</table>\n",
       "<p>366 rows × 1 columns</p>\n",
       "</div>"
      ],
      "text/plain": [
       "          date\n",
       "0   2020-01-01\n",
       "1   2020-01-02\n",
       "2   2020-01-03\n",
       "3   2020-01-04\n",
       "4   2020-01-05\n",
       "..         ...\n",
       "361 2020-12-27\n",
       "362 2020-12-28\n",
       "363 2020-12-29\n",
       "364 2020-12-30\n",
       "365 2020-12-31\n",
       "\n",
       "[366 rows x 1 columns]"
      ]
     },
     "execution_count": 76,
     "metadata": {},
     "output_type": "execute_result"
    }
   ],
   "source": [
    "calendar = pd.DataFrame({\n",
    "    'date': pd.date_range('2020-01-01', '2020-12-31')\n",
    "})\n",
    "calendar"
   ]
  },
  {
   "cell_type": "code",
   "execution_count": 77,
   "metadata": {},
   "outputs": [
    {
     "data": {
      "text/html": [
       "<div>\n",
       "<style scoped>\n",
       "    .dataframe tbody tr th:only-of-type {\n",
       "        vertical-align: middle;\n",
       "    }\n",
       "\n",
       "    .dataframe tbody tr th {\n",
       "        vertical-align: top;\n",
       "    }\n",
       "\n",
       "    .dataframe thead th {\n",
       "        text-align: right;\n",
       "    }\n",
       "</style>\n",
       "<table border=\"1\" class=\"dataframe\">\n",
       "  <thead>\n",
       "    <tr style=\"text-align: right;\">\n",
       "      <th></th>\n",
       "      <th>date</th>\n",
       "      <th>weekday</th>\n",
       "      <th>day_of_year</th>\n",
       "      <th>month_of_year</th>\n",
       "      <th>quarter_of_year</th>\n",
       "    </tr>\n",
       "  </thead>\n",
       "  <tbody>\n",
       "    <tr>\n",
       "      <td>0</td>\n",
       "      <td>2020-01-01</td>\n",
       "      <td>Wednesday</td>\n",
       "      <td>1</td>\n",
       "      <td>1</td>\n",
       "      <td>1</td>\n",
       "    </tr>\n",
       "    <tr>\n",
       "      <td>1</td>\n",
       "      <td>2020-01-02</td>\n",
       "      <td>Thursday</td>\n",
       "      <td>2</td>\n",
       "      <td>1</td>\n",
       "      <td>1</td>\n",
       "    </tr>\n",
       "    <tr>\n",
       "      <td>2</td>\n",
       "      <td>2020-01-03</td>\n",
       "      <td>Friday</td>\n",
       "      <td>3</td>\n",
       "      <td>1</td>\n",
       "      <td>1</td>\n",
       "    </tr>\n",
       "    <tr>\n",
       "      <td>3</td>\n",
       "      <td>2020-01-04</td>\n",
       "      <td>Saturday</td>\n",
       "      <td>4</td>\n",
       "      <td>1</td>\n",
       "      <td>1</td>\n",
       "    </tr>\n",
       "    <tr>\n",
       "      <td>4</td>\n",
       "      <td>2020-01-05</td>\n",
       "      <td>Sunday</td>\n",
       "      <td>5</td>\n",
       "      <td>1</td>\n",
       "      <td>1</td>\n",
       "    </tr>\n",
       "    <tr>\n",
       "      <td>...</td>\n",
       "      <td>...</td>\n",
       "      <td>...</td>\n",
       "      <td>...</td>\n",
       "      <td>...</td>\n",
       "      <td>...</td>\n",
       "    </tr>\n",
       "    <tr>\n",
       "      <td>361</td>\n",
       "      <td>2020-12-27</td>\n",
       "      <td>Sunday</td>\n",
       "      <td>362</td>\n",
       "      <td>12</td>\n",
       "      <td>4</td>\n",
       "    </tr>\n",
       "    <tr>\n",
       "      <td>362</td>\n",
       "      <td>2020-12-28</td>\n",
       "      <td>Monday</td>\n",
       "      <td>363</td>\n",
       "      <td>12</td>\n",
       "      <td>4</td>\n",
       "    </tr>\n",
       "    <tr>\n",
       "      <td>363</td>\n",
       "      <td>2020-12-29</td>\n",
       "      <td>Tuesday</td>\n",
       "      <td>364</td>\n",
       "      <td>12</td>\n",
       "      <td>4</td>\n",
       "    </tr>\n",
       "    <tr>\n",
       "      <td>364</td>\n",
       "      <td>2020-12-30</td>\n",
       "      <td>Wednesday</td>\n",
       "      <td>365</td>\n",
       "      <td>12</td>\n",
       "      <td>4</td>\n",
       "    </tr>\n",
       "    <tr>\n",
       "      <td>365</td>\n",
       "      <td>2020-12-31</td>\n",
       "      <td>Thursday</td>\n",
       "      <td>366</td>\n",
       "      <td>12</td>\n",
       "      <td>4</td>\n",
       "    </tr>\n",
       "  </tbody>\n",
       "</table>\n",
       "<p>366 rows × 5 columns</p>\n",
       "</div>"
      ],
      "text/plain": [
       "          date    weekday  day_of_year  month_of_year  quarter_of_year\n",
       "0   2020-01-01  Wednesday            1              1                1\n",
       "1   2020-01-02   Thursday            2              1                1\n",
       "2   2020-01-03     Friday            3              1                1\n",
       "3   2020-01-04   Saturday            4              1                1\n",
       "4   2020-01-05     Sunday            5              1                1\n",
       "..         ...        ...          ...            ...              ...\n",
       "361 2020-12-27     Sunday          362             12                4\n",
       "362 2020-12-28     Monday          363             12                4\n",
       "363 2020-12-29    Tuesday          364             12                4\n",
       "364 2020-12-30  Wednesday          365             12                4\n",
       "365 2020-12-31   Thursday          366             12                4\n",
       "\n",
       "[366 rows x 5 columns]"
      ]
     },
     "execution_count": 77,
     "metadata": {},
     "output_type": "execute_result"
    }
   ],
   "source": [
    "calendar['weekday'] = calendar.date.dt.weekday_name    # tên ngày trong tuần\n",
    "calendar['day_of_year'] = calendar.date.dt.dayofyear   # ngày trong năm\n",
    "calendar['month_of_year'] = calendar.date.dt.month     # tháng trong năm\n",
    "calendar['quarter_of_year'] = calendar.date.dt.quarter # quý trong năm\n",
    "calendar"
   ]
  },
  {
   "cell_type": "markdown",
   "metadata": {},
   "source": [
    "### 3.5. Khoảng thời gian (Timedelta)"
   ]
  },
  {
   "cell_type": "code",
   "execution_count": 78,
   "metadata": {},
   "outputs": [],
   "source": [
    "import numpy as np\n",
    "import pandas as pd"
   ]
  },
  {
   "cell_type": "markdown",
   "metadata": {},
   "source": [
    "#### Chênh lệnh giữa 2 thời điểm"
   ]
  },
  {
   "cell_type": "code",
   "execution_count": 79,
   "metadata": {},
   "outputs": [
    {
     "data": {
      "text/plain": [
       "DatetimeIndex(['2020-01-05', '2020-01-12', '2020-01-19', '2020-01-26',\n",
       "               '2020-02-02', '2020-02-09', '2020-02-16', '2020-02-23'],\n",
       "              dtype='datetime64[ns]', freq='W-SUN')"
      ]
     },
     "execution_count": 79,
     "metadata": {},
     "output_type": "execute_result"
    }
   ],
   "source": [
    "pd.date_range('2020-01-02', '2020-02-29', freq='W')"
   ]
  },
  {
   "cell_type": "code",
   "execution_count": 80,
   "metadata": {},
   "outputs": [
    {
     "data": {
      "text/html": [
       "<div>\n",
       "<style scoped>\n",
       "    .dataframe tbody tr th:only-of-type {\n",
       "        vertical-align: middle;\n",
       "    }\n",
       "\n",
       "    .dataframe tbody tr th {\n",
       "        vertical-align: top;\n",
       "    }\n",
       "\n",
       "    .dataframe thead th {\n",
       "        text-align: right;\n",
       "    }\n",
       "</style>\n",
       "<table border=\"1\" class=\"dataframe\">\n",
       "  <thead>\n",
       "    <tr style=\"text-align: right;\">\n",
       "      <th></th>\n",
       "      <th>date1</th>\n",
       "      <th>date2</th>\n",
       "    </tr>\n",
       "  </thead>\n",
       "  <tbody>\n",
       "    <tr>\n",
       "      <td>0</td>\n",
       "      <td>2020-01-01</td>\n",
       "      <td>2020-01-05</td>\n",
       "    </tr>\n",
       "    <tr>\n",
       "      <td>1</td>\n",
       "      <td>2020-01-04</td>\n",
       "      <td>2020-01-12</td>\n",
       "    </tr>\n",
       "    <tr>\n",
       "      <td>2</td>\n",
       "      <td>2020-01-07</td>\n",
       "      <td>2020-01-19</td>\n",
       "    </tr>\n",
       "    <tr>\n",
       "      <td>3</td>\n",
       "      <td>2020-01-10</td>\n",
       "      <td>2020-01-26</td>\n",
       "    </tr>\n",
       "    <tr>\n",
       "      <td>4</td>\n",
       "      <td>2020-01-13</td>\n",
       "      <td>2020-02-02</td>\n",
       "    </tr>\n",
       "    <tr>\n",
       "      <td>5</td>\n",
       "      <td>2020-01-16</td>\n",
       "      <td>2020-02-09</td>\n",
       "    </tr>\n",
       "    <tr>\n",
       "      <td>6</td>\n",
       "      <td>2020-01-19</td>\n",
       "      <td>2020-02-16</td>\n",
       "    </tr>\n",
       "    <tr>\n",
       "      <td>7</td>\n",
       "      <td>2020-01-22</td>\n",
       "      <td>2020-02-23</td>\n",
       "    </tr>\n",
       "    <tr>\n",
       "      <td>8</td>\n",
       "      <td>2020-01-25</td>\n",
       "      <td>2020-03-01</td>\n",
       "    </tr>\n",
       "    <tr>\n",
       "      <td>9</td>\n",
       "      <td>2020-01-28</td>\n",
       "      <td>2020-03-08</td>\n",
       "    </tr>\n",
       "    <tr>\n",
       "      <td>10</td>\n",
       "      <td>2020-01-31</td>\n",
       "      <td>2020-03-15</td>\n",
       "    </tr>\n",
       "  </tbody>\n",
       "</table>\n",
       "</div>"
      ],
      "text/plain": [
       "        date1      date2\n",
       "0  2020-01-01 2020-01-05\n",
       "1  2020-01-04 2020-01-12\n",
       "2  2020-01-07 2020-01-19\n",
       "3  2020-01-10 2020-01-26\n",
       "4  2020-01-13 2020-02-02\n",
       "5  2020-01-16 2020-02-09\n",
       "6  2020-01-19 2020-02-16\n",
       "7  2020-01-22 2020-02-23\n",
       "8  2020-01-25 2020-03-01\n",
       "9  2020-01-28 2020-03-08\n",
       "10 2020-01-31 2020-03-15"
      ]
     },
     "execution_count": 80,
     "metadata": {},
     "output_type": "execute_result"
    }
   ],
   "source": [
    "delta = pd.DataFrame({\n",
    "    'date1': pd.date_range('2020-01-01', '2020-01-31', freq='3D'),\n",
    "    'date2': pd.date_range('2020-01-02', '2020-03-15', freq='W')\n",
    "})\n",
    "delta"
   ]
  },
  {
   "cell_type": "code",
   "execution_count": 81,
   "metadata": {},
   "outputs": [
    {
     "data": {
      "text/html": [
       "<div>\n",
       "<style scoped>\n",
       "    .dataframe tbody tr th:only-of-type {\n",
       "        vertical-align: middle;\n",
       "    }\n",
       "\n",
       "    .dataframe tbody tr th {\n",
       "        vertical-align: top;\n",
       "    }\n",
       "\n",
       "    .dataframe thead th {\n",
       "        text-align: right;\n",
       "    }\n",
       "</style>\n",
       "<table border=\"1\" class=\"dataframe\">\n",
       "  <thead>\n",
       "    <tr style=\"text-align: right;\">\n",
       "      <th></th>\n",
       "      <th>date1</th>\n",
       "      <th>date2</th>\n",
       "      <th>timedelta</th>\n",
       "    </tr>\n",
       "  </thead>\n",
       "  <tbody>\n",
       "    <tr>\n",
       "      <td>0</td>\n",
       "      <td>2020-01-01</td>\n",
       "      <td>2020-01-05</td>\n",
       "      <td>4 days</td>\n",
       "    </tr>\n",
       "    <tr>\n",
       "      <td>1</td>\n",
       "      <td>2020-01-04</td>\n",
       "      <td>2020-01-12</td>\n",
       "      <td>8 days</td>\n",
       "    </tr>\n",
       "    <tr>\n",
       "      <td>2</td>\n",
       "      <td>2020-01-07</td>\n",
       "      <td>2020-01-19</td>\n",
       "      <td>12 days</td>\n",
       "    </tr>\n",
       "    <tr>\n",
       "      <td>3</td>\n",
       "      <td>2020-01-10</td>\n",
       "      <td>2020-01-26</td>\n",
       "      <td>16 days</td>\n",
       "    </tr>\n",
       "    <tr>\n",
       "      <td>4</td>\n",
       "      <td>2020-01-13</td>\n",
       "      <td>2020-02-02</td>\n",
       "      <td>20 days</td>\n",
       "    </tr>\n",
       "    <tr>\n",
       "      <td>5</td>\n",
       "      <td>2020-01-16</td>\n",
       "      <td>2020-02-09</td>\n",
       "      <td>24 days</td>\n",
       "    </tr>\n",
       "    <tr>\n",
       "      <td>6</td>\n",
       "      <td>2020-01-19</td>\n",
       "      <td>2020-02-16</td>\n",
       "      <td>28 days</td>\n",
       "    </tr>\n",
       "    <tr>\n",
       "      <td>7</td>\n",
       "      <td>2020-01-22</td>\n",
       "      <td>2020-02-23</td>\n",
       "      <td>32 days</td>\n",
       "    </tr>\n",
       "    <tr>\n",
       "      <td>8</td>\n",
       "      <td>2020-01-25</td>\n",
       "      <td>2020-03-01</td>\n",
       "      <td>36 days</td>\n",
       "    </tr>\n",
       "    <tr>\n",
       "      <td>9</td>\n",
       "      <td>2020-01-28</td>\n",
       "      <td>2020-03-08</td>\n",
       "      <td>40 days</td>\n",
       "    </tr>\n",
       "    <tr>\n",
       "      <td>10</td>\n",
       "      <td>2020-01-31</td>\n",
       "      <td>2020-03-15</td>\n",
       "      <td>44 days</td>\n",
       "    </tr>\n",
       "  </tbody>\n",
       "</table>\n",
       "</div>"
      ],
      "text/plain": [
       "        date1      date2 timedelta\n",
       "0  2020-01-01 2020-01-05    4 days\n",
       "1  2020-01-04 2020-01-12    8 days\n",
       "2  2020-01-07 2020-01-19   12 days\n",
       "3  2020-01-10 2020-01-26   16 days\n",
       "4  2020-01-13 2020-02-02   20 days\n",
       "5  2020-01-16 2020-02-09   24 days\n",
       "6  2020-01-19 2020-02-16   28 days\n",
       "7  2020-01-22 2020-02-23   32 days\n",
       "8  2020-01-25 2020-03-01   36 days\n",
       "9  2020-01-28 2020-03-08   40 days\n",
       "10 2020-01-31 2020-03-15   44 days"
      ]
     },
     "execution_count": 81,
     "metadata": {},
     "output_type": "execute_result"
    }
   ],
   "source": [
    "delta['timedelta'] = delta.date2 - delta.date1\n",
    "delta"
   ]
  },
  {
   "cell_type": "markdown",
   "metadata": {},
   "source": [
    "#### Tính toán bằng timedelta"
   ]
  },
  {
   "cell_type": "code",
   "execution_count": 82,
   "metadata": {},
   "outputs": [],
   "source": [
    "import numpy as np\n",
    "import pandas as pd"
   ]
  },
  {
   "cell_type": "code",
   "execution_count": 83,
   "metadata": {},
   "outputs": [],
   "source": [
    "delta = pd.DataFrame({\n",
    "    'date1': pd.date_range('2020-01-01', '2020-01-31', freq='3D'),\n",
    "    'date2': pd.date_range('2020-01-02', '2020-03-15', freq='W')\n",
    "})"
   ]
  },
  {
   "cell_type": "code",
   "execution_count": 84,
   "metadata": {},
   "outputs": [
    {
     "data": {
      "text/html": [
       "<div>\n",
       "<style scoped>\n",
       "    .dataframe tbody tr th:only-of-type {\n",
       "        vertical-align: middle;\n",
       "    }\n",
       "\n",
       "    .dataframe tbody tr th {\n",
       "        vertical-align: top;\n",
       "    }\n",
       "\n",
       "    .dataframe thead th {\n",
       "        text-align: right;\n",
       "    }\n",
       "</style>\n",
       "<table border=\"1\" class=\"dataframe\">\n",
       "  <thead>\n",
       "    <tr style=\"text-align: right;\">\n",
       "      <th></th>\n",
       "      <th>date1</th>\n",
       "      <th>date2</th>\n",
       "      <th>date3</th>\n",
       "    </tr>\n",
       "  </thead>\n",
       "  <tbody>\n",
       "    <tr>\n",
       "      <td>0</td>\n",
       "      <td>2020-01-01</td>\n",
       "      <td>2020-01-05</td>\n",
       "      <td>2020-01-16</td>\n",
       "    </tr>\n",
       "    <tr>\n",
       "      <td>1</td>\n",
       "      <td>2020-01-04</td>\n",
       "      <td>2020-01-12</td>\n",
       "      <td>2020-01-19</td>\n",
       "    </tr>\n",
       "    <tr>\n",
       "      <td>2</td>\n",
       "      <td>2020-01-07</td>\n",
       "      <td>2020-01-19</td>\n",
       "      <td>2020-01-22</td>\n",
       "    </tr>\n",
       "    <tr>\n",
       "      <td>3</td>\n",
       "      <td>2020-01-10</td>\n",
       "      <td>2020-01-26</td>\n",
       "      <td>2020-01-25</td>\n",
       "    </tr>\n",
       "    <tr>\n",
       "      <td>4</td>\n",
       "      <td>2020-01-13</td>\n",
       "      <td>2020-02-02</td>\n",
       "      <td>2020-01-28</td>\n",
       "    </tr>\n",
       "    <tr>\n",
       "      <td>5</td>\n",
       "      <td>2020-01-16</td>\n",
       "      <td>2020-02-09</td>\n",
       "      <td>2020-01-31</td>\n",
       "    </tr>\n",
       "    <tr>\n",
       "      <td>6</td>\n",
       "      <td>2020-01-19</td>\n",
       "      <td>2020-02-16</td>\n",
       "      <td>2020-02-03</td>\n",
       "    </tr>\n",
       "    <tr>\n",
       "      <td>7</td>\n",
       "      <td>2020-01-22</td>\n",
       "      <td>2020-02-23</td>\n",
       "      <td>2020-02-06</td>\n",
       "    </tr>\n",
       "    <tr>\n",
       "      <td>8</td>\n",
       "      <td>2020-01-25</td>\n",
       "      <td>2020-03-01</td>\n",
       "      <td>2020-02-09</td>\n",
       "    </tr>\n",
       "    <tr>\n",
       "      <td>9</td>\n",
       "      <td>2020-01-28</td>\n",
       "      <td>2020-03-08</td>\n",
       "      <td>2020-02-12</td>\n",
       "    </tr>\n",
       "    <tr>\n",
       "      <td>10</td>\n",
       "      <td>2020-01-31</td>\n",
       "      <td>2020-03-15</td>\n",
       "      <td>2020-02-15</td>\n",
       "    </tr>\n",
       "  </tbody>\n",
       "</table>\n",
       "</div>"
      ],
      "text/plain": [
       "        date1      date2      date3\n",
       "0  2020-01-01 2020-01-05 2020-01-16\n",
       "1  2020-01-04 2020-01-12 2020-01-19\n",
       "2  2020-01-07 2020-01-19 2020-01-22\n",
       "3  2020-01-10 2020-01-26 2020-01-25\n",
       "4  2020-01-13 2020-02-02 2020-01-28\n",
       "5  2020-01-16 2020-02-09 2020-01-31\n",
       "6  2020-01-19 2020-02-16 2020-02-03\n",
       "7  2020-01-22 2020-02-23 2020-02-06\n",
       "8  2020-01-25 2020-03-01 2020-02-09\n",
       "9  2020-01-28 2020-03-08 2020-02-12\n",
       "10 2020-01-31 2020-03-15 2020-02-15"
      ]
     },
     "execution_count": 84,
     "metadata": {},
     "output_type": "execute_result"
    }
   ],
   "source": [
    "delta['date3'] = delta.date1 + pd.Timedelta('15 days')\n",
    "delta"
   ]
  },
  {
   "cell_type": "markdown",
   "metadata": {},
   "source": [
    "## Thang đo dữ liệu\n",
    "\n",
    "Measurement |Thang đo  |Phân loại   |So sánh |Chênh lệch|Tỉ lệ   |Ví dụ|\n",
    ":-----------|:---------|:-----------|:------:|:--------:|:------:|:----|\n",
    "**Nominal** |Định danh |Định tính   |        |          |        |Cam, Táo, Lê - không so sánh được|\n",
    "**Ordinal** |Thứ bậc   |Định tính   |&#10004;|          |        |(Huy chương) Vàng, Bạc, Đồng - có thứ tự cao thấp|\n",
    "**Interval**|Khoảng    |Định lượng  |&#10004;|&#10004;  |        |6h00, 12h00, 18h00 - tính được khoảng cách nhưng không tính được tỉ lệ|\n",
    "**Ratio**   |Tỉ lệ     |Định lượng  |&#10004;|&#10004;  |&#10004;|10 kg, 20 kg, 50 kg - tính được cả chênh lệch và tỉ lệ|"
   ]
  },
  {
   "cell_type": "markdown",
   "metadata": {},
   "source": [
    "## Giải đáp tình huống"
   ]
  },
  {
   "cell_type": "markdown",
   "metadata": {},
   "source": [
    "**Tình huống 1:** Dữ liệu `report` chứa các bản ghi trùng lặp trong 2 cột `year` và `company`. Hãy sử dụng các phương thức của dataframe để thực hiện 3 phương án sau:\n",
    "1. Liệt kê tất cả bản ghi trùng lặp và chọn xóa thủ công, sử dụng phương thức `duplicated()`\n",
    "2. Giữ lại bản ghi có giá trị sales lớn nhất, sử dụng phương thức `drop_duplicates()`\n",
    "3. Tính tổng tất cả bản ghi trùng lặp, sử dụng phương thức `groupby()`"
   ]
  },
  {
   "cell_type": "code",
   "execution_count": 1,
   "metadata": {},
   "outputs": [],
   "source": [
    "import numpy as np\n",
    "import pandas as pd"
   ]
  },
  {
   "cell_type": "code",
   "execution_count": 2,
   "metadata": {},
   "outputs": [
    {
     "data": {
      "text/html": [
       "<div>\n",
       "<style scoped>\n",
       "    .dataframe tbody tr th:only-of-type {\n",
       "        vertical-align: middle;\n",
       "    }\n",
       "\n",
       "    .dataframe tbody tr th {\n",
       "        vertical-align: top;\n",
       "    }\n",
       "\n",
       "    .dataframe thead th {\n",
       "        text-align: right;\n",
       "    }\n",
       "</style>\n",
       "<table border=\"1\" class=\"dataframe\">\n",
       "  <thead>\n",
       "    <tr style=\"text-align: right;\">\n",
       "      <th></th>\n",
       "      <th>year</th>\n",
       "      <th>company</th>\n",
       "      <th>sales</th>\n",
       "      <th>profit</th>\n",
       "    </tr>\n",
       "  </thead>\n",
       "  <tbody>\n",
       "    <tr>\n",
       "      <td>0</td>\n",
       "      <td>2019</td>\n",
       "      <td>Pandas</td>\n",
       "      <td>5466</td>\n",
       "      <td>1546</td>\n",
       "    </tr>\n",
       "    <tr>\n",
       "      <td>1</td>\n",
       "      <td>2019</td>\n",
       "      <td>Numpy</td>\n",
       "      <td>8558</td>\n",
       "      <td>3546</td>\n",
       "    </tr>\n",
       "    <tr>\n",
       "      <td>2</td>\n",
       "      <td>2020</td>\n",
       "      <td>Pandas</td>\n",
       "      <td>8435</td>\n",
       "      <td>3574</td>\n",
       "    </tr>\n",
       "    <tr>\n",
       "      <td>3</td>\n",
       "      <td>2020</td>\n",
       "      <td>Numpy</td>\n",
       "      <td>7280</td>\n",
       "      <td>3352</td>\n",
       "    </tr>\n",
       "    <tr>\n",
       "      <td>4</td>\n",
       "      <td>2020</td>\n",
       "      <td>Numpy</td>\n",
       "      <td>9285</td>\n",
       "      <td>4678</td>\n",
       "    </tr>\n",
       "    <tr>\n",
       "      <td>5</td>\n",
       "      <td>2020</td>\n",
       "      <td>Pandas</td>\n",
       "      <td>6650</td>\n",
       "      <td>2007</td>\n",
       "    </tr>\n",
       "  </tbody>\n",
       "</table>\n",
       "</div>"
      ],
      "text/plain": [
       "   year company  sales  profit\n",
       "0  2019  Pandas   5466    1546\n",
       "1  2019   Numpy   8558    3546\n",
       "2  2020  Pandas   8435    3574\n",
       "3  2020   Numpy   7280    3352\n",
       "4  2020   Numpy   9285    4678\n",
       "5  2020  Pandas   6650    2007"
      ]
     },
     "execution_count": 2,
     "metadata": {},
     "output_type": "execute_result"
    }
   ],
   "source": [
    "report = pd.DataFrame({\n",
    "    'year': pd.Series([2019, 2019, 2020, 2020, 2020, 2020]),\n",
    "    'company': pd.Series(['Pandas', 'Numpy', 'Pandas', 'Numpy', 'Numpy', 'Pandas']),\n",
    "    'sales': pd.Series([5466, 8558, 8435, 7280, 9285, 6650]),\n",
    "    'profit': pd.Series([1546, 3546, 3574, 3352, 4678, 2007])\n",
    "})\n",
    "report"
   ]
  },
  {
   "cell_type": "code",
   "execution_count": 7,
   "metadata": {},
   "outputs": [],
   "source": [
    "# tạo biến subset là các cột để xác định giá trị trùng lặp\n",
    "subset = ['year', 'company']"
   ]
  },
  {
   "cell_type": "markdown",
   "metadata": {},
   "source": [
    "Phương án 1: Liệt kê tất cả bản ghi trùng lặp và chọn xóa thủ công"
   ]
  },
  {
   "cell_type": "code",
   "execution_count": 6,
   "metadata": {},
   "outputs": [
    {
     "data": {
      "text/html": [
       "<div>\n",
       "<style scoped>\n",
       "    .dataframe tbody tr th:only-of-type {\n",
       "        vertical-align: middle;\n",
       "    }\n",
       "\n",
       "    .dataframe tbody tr th {\n",
       "        vertical-align: top;\n",
       "    }\n",
       "\n",
       "    .dataframe thead th {\n",
       "        text-align: right;\n",
       "    }\n",
       "</style>\n",
       "<table border=\"1\" class=\"dataframe\">\n",
       "  <thead>\n",
       "    <tr style=\"text-align: right;\">\n",
       "      <th></th>\n",
       "      <th>year</th>\n",
       "      <th>company</th>\n",
       "      <th>sales</th>\n",
       "      <th>profit</th>\n",
       "    </tr>\n",
       "  </thead>\n",
       "  <tbody>\n",
       "    <tr>\n",
       "      <td>3</td>\n",
       "      <td>2020</td>\n",
       "      <td>Numpy</td>\n",
       "      <td>7280</td>\n",
       "      <td>3352</td>\n",
       "    </tr>\n",
       "    <tr>\n",
       "      <td>4</td>\n",
       "      <td>2020</td>\n",
       "      <td>Numpy</td>\n",
       "      <td>9285</td>\n",
       "      <td>4678</td>\n",
       "    </tr>\n",
       "    <tr>\n",
       "      <td>2</td>\n",
       "      <td>2020</td>\n",
       "      <td>Pandas</td>\n",
       "      <td>6650</td>\n",
       "      <td>2007</td>\n",
       "    </tr>\n",
       "    <tr>\n",
       "      <td>5</td>\n",
       "      <td>2020</td>\n",
       "      <td>Pandas</td>\n",
       "      <td>8435</td>\n",
       "      <td>3574</td>\n",
       "    </tr>\n",
       "  </tbody>\n",
       "</table>\n",
       "</div>"
      ],
      "text/plain": [
       "   year company  sales  profit\n",
       "3  2020   Numpy   7280    3352\n",
       "4  2020   Numpy   9285    4678\n",
       "2  2020  Pandas   6650    2007\n",
       "5  2020  Pandas   8435    3574"
      ]
     },
     "execution_count": 6,
     "metadata": {},
     "output_type": "execute_result"
    }
   ],
   "source": [
    "# liệt kê các bản ghi trùng lặp\n",
    "report[report.duplicated(subset, keep=False)].sort_values(subset)"
   ]
  },
  {
   "cell_type": "code",
   "execution_count": 8,
   "metadata": {},
   "outputs": [
    {
     "data": {
      "text/html": [
       "<div>\n",
       "<style scoped>\n",
       "    .dataframe tbody tr th:only-of-type {\n",
       "        vertical-align: middle;\n",
       "    }\n",
       "\n",
       "    .dataframe tbody tr th {\n",
       "        vertical-align: top;\n",
       "    }\n",
       "\n",
       "    .dataframe thead th {\n",
       "        text-align: right;\n",
       "    }\n",
       "</style>\n",
       "<table border=\"1\" class=\"dataframe\">\n",
       "  <thead>\n",
       "    <tr style=\"text-align: right;\">\n",
       "      <th></th>\n",
       "      <th>year</th>\n",
       "      <th>company</th>\n",
       "      <th>sales</th>\n",
       "      <th>profit</th>\n",
       "    </tr>\n",
       "  </thead>\n",
       "  <tbody>\n",
       "    <tr>\n",
       "      <td>0</td>\n",
       "      <td>2019</td>\n",
       "      <td>Pandas</td>\n",
       "      <td>5466</td>\n",
       "      <td>1546</td>\n",
       "    </tr>\n",
       "    <tr>\n",
       "      <td>1</td>\n",
       "      <td>2019</td>\n",
       "      <td>Numpy</td>\n",
       "      <td>8558</td>\n",
       "      <td>3546</td>\n",
       "    </tr>\n",
       "    <tr>\n",
       "      <td>3</td>\n",
       "      <td>2020</td>\n",
       "      <td>Numpy</td>\n",
       "      <td>7280</td>\n",
       "      <td>3352</td>\n",
       "    </tr>\n",
       "    <tr>\n",
       "      <td>5</td>\n",
       "      <td>2020</td>\n",
       "      <td>Pandas</td>\n",
       "      <td>8435</td>\n",
       "      <td>3574</td>\n",
       "    </tr>\n",
       "  </tbody>\n",
       "</table>\n",
       "</div>"
      ],
      "text/plain": [
       "   year company  sales  profit\n",
       "0  2019  Pandas   5466    1546\n",
       "1  2019   Numpy   8558    3546\n",
       "3  2020   Numpy   7280    3352\n",
       "5  2020  Pandas   8435    3574"
      ]
     },
     "execution_count": 8,
     "metadata": {},
     "output_type": "execute_result"
    }
   ],
   "source": [
    "# xóa các dòng 2, 4 hoặc các dòng khác tùy ý\n",
    "report.drop(index=[4, 2])"
   ]
  },
  {
   "cell_type": "markdown",
   "metadata": {},
   "source": [
    "Phương án 2: Chỉ giữ lại bản ghi có giá trị sales lớn nhất"
   ]
  },
  {
   "cell_type": "code",
   "execution_count": 15,
   "metadata": {},
   "outputs": [
    {
     "data": {
      "text/html": [
       "<div>\n",
       "<style scoped>\n",
       "    .dataframe tbody tr th:only-of-type {\n",
       "        vertical-align: middle;\n",
       "    }\n",
       "\n",
       "    .dataframe tbody tr th {\n",
       "        vertical-align: top;\n",
       "    }\n",
       "\n",
       "    .dataframe thead th {\n",
       "        text-align: right;\n",
       "    }\n",
       "</style>\n",
       "<table border=\"1\" class=\"dataframe\">\n",
       "  <thead>\n",
       "    <tr style=\"text-align: right;\">\n",
       "      <th></th>\n",
       "      <th>year</th>\n",
       "      <th>company</th>\n",
       "      <th>sales</th>\n",
       "      <th>profit</th>\n",
       "    </tr>\n",
       "  </thead>\n",
       "  <tbody>\n",
       "    <tr>\n",
       "      <td>1</td>\n",
       "      <td>2019</td>\n",
       "      <td>Numpy</td>\n",
       "      <td>8558</td>\n",
       "      <td>3546</td>\n",
       "    </tr>\n",
       "    <tr>\n",
       "      <td>0</td>\n",
       "      <td>2019</td>\n",
       "      <td>Pandas</td>\n",
       "      <td>5466</td>\n",
       "      <td>1546</td>\n",
       "    </tr>\n",
       "    <tr>\n",
       "      <td>4</td>\n",
       "      <td>2020</td>\n",
       "      <td>Numpy</td>\n",
       "      <td>9285</td>\n",
       "      <td>4678</td>\n",
       "    </tr>\n",
       "    <tr>\n",
       "      <td>2</td>\n",
       "      <td>2020</td>\n",
       "      <td>Pandas</td>\n",
       "      <td>8435</td>\n",
       "      <td>3574</td>\n",
       "    </tr>\n",
       "  </tbody>\n",
       "</table>\n",
       "</div>"
      ],
      "text/plain": [
       "   year company  sales  profit\n",
       "1  2019   Numpy   8558    3546\n",
       "0  2019  Pandas   5466    1546\n",
       "4  2020   Numpy   9285    4678\n",
       "2  2020  Pandas   8435    3574"
      ]
     },
     "execution_count": 15,
     "metadata": {},
     "output_type": "execute_result"
    }
   ],
   "source": [
    "report\\\n",
    "    .sort_values(by=['year', 'company', 'sales'])\\\n",
    "    .drop_duplicates(subset=subset, keep='last')"
   ]
  },
  {
   "cell_type": "markdown",
   "metadata": {},
   "source": [
    "Phương án 3: Tính tổng các bản ghi trùng lặp"
   ]
  },
  {
   "cell_type": "code",
   "execution_count": 17,
   "metadata": {},
   "outputs": [
    {
     "data": {
      "text/html": [
       "<div>\n",
       "<style scoped>\n",
       "    .dataframe tbody tr th:only-of-type {\n",
       "        vertical-align: middle;\n",
       "    }\n",
       "\n",
       "    .dataframe tbody tr th {\n",
       "        vertical-align: top;\n",
       "    }\n",
       "\n",
       "    .dataframe thead th {\n",
       "        text-align: right;\n",
       "    }\n",
       "</style>\n",
       "<table border=\"1\" class=\"dataframe\">\n",
       "  <thead>\n",
       "    <tr style=\"text-align: right;\">\n",
       "      <th></th>\n",
       "      <th>year</th>\n",
       "      <th>company</th>\n",
       "      <th>sales</th>\n",
       "      <th>profit</th>\n",
       "    </tr>\n",
       "  </thead>\n",
       "  <tbody>\n",
       "    <tr>\n",
       "      <td>0</td>\n",
       "      <td>2019</td>\n",
       "      <td>Numpy</td>\n",
       "      <td>8558</td>\n",
       "      <td>3546</td>\n",
       "    </tr>\n",
       "    <tr>\n",
       "      <td>1</td>\n",
       "      <td>2019</td>\n",
       "      <td>Pandas</td>\n",
       "      <td>5466</td>\n",
       "      <td>1546</td>\n",
       "    </tr>\n",
       "    <tr>\n",
       "      <td>2</td>\n",
       "      <td>2020</td>\n",
       "      <td>Numpy</td>\n",
       "      <td>16565</td>\n",
       "      <td>8030</td>\n",
       "    </tr>\n",
       "    <tr>\n",
       "      <td>3</td>\n",
       "      <td>2020</td>\n",
       "      <td>Pandas</td>\n",
       "      <td>15085</td>\n",
       "      <td>5581</td>\n",
       "    </tr>\n",
       "  </tbody>\n",
       "</table>\n",
       "</div>"
      ],
      "text/plain": [
       "   year company  sales  profit\n",
       "0  2019   Numpy   8558    3546\n",
       "1  2019  Pandas   5466    1546\n",
       "2  2020   Numpy  16565    8030\n",
       "3  2020  Pandas  15085    5581"
      ]
     },
     "execution_count": 17,
     "metadata": {},
     "output_type": "execute_result"
    }
   ],
   "source": [
    "report.groupby(by=['year', 'company']).sum().reset_index()"
   ]
  },
  {
   "cell_type": "markdown",
   "metadata": {},
   "source": [
    "**Tình huống 2:** Trong dữ liệu `ds` hãy lọc ra những người mà nghề nghiệp không chứa \"data\" và từ 18 đến 50 tuổi."
   ]
  },
  {
   "cell_type": "code",
   "execution_count": 30,
   "metadata": {},
   "outputs": [],
   "source": [
    "import numpy as np\n",
    "import pandas as pd"
   ]
  },
  {
   "cell_type": "code",
   "execution_count": 31,
   "metadata": {},
   "outputs": [
    {
     "data": {
      "text/html": [
       "<div>\n",
       "<style scoped>\n",
       "    .dataframe tbody tr th:only-of-type {\n",
       "        vertical-align: middle;\n",
       "    }\n",
       "\n",
       "    .dataframe tbody tr th {\n",
       "        vertical-align: top;\n",
       "    }\n",
       "\n",
       "    .dataframe thead th {\n",
       "        text-align: right;\n",
       "    }\n",
       "</style>\n",
       "<table border=\"1\" class=\"dataframe\">\n",
       "  <thead>\n",
       "    <tr style=\"text-align: right;\">\n",
       "      <th></th>\n",
       "      <th>worker</th>\n",
       "      <th>age</th>\n",
       "      <th>job</th>\n",
       "    </tr>\n",
       "  </thead>\n",
       "  <tbody>\n",
       "    <tr>\n",
       "      <td>0</td>\n",
       "      <td>Wayne</td>\n",
       "      <td>8</td>\n",
       "      <td>Student</td>\n",
       "    </tr>\n",
       "    <tr>\n",
       "      <td>1</td>\n",
       "      <td>Robert</td>\n",
       "      <td>37</td>\n",
       "      <td>Data Scientist</td>\n",
       "    </tr>\n",
       "    <tr>\n",
       "      <td>2</td>\n",
       "      <td>Ashley</td>\n",
       "      <td>25</td>\n",
       "      <td>DATA Analyst</td>\n",
       "    </tr>\n",
       "    <tr>\n",
       "      <td>3</td>\n",
       "      <td>Jamie</td>\n",
       "      <td>26</td>\n",
       "      <td>data Engineer</td>\n",
       "    </tr>\n",
       "    <tr>\n",
       "      <td>4</td>\n",
       "      <td>Jessie</td>\n",
       "      <td>80</td>\n",
       "      <td>Retired</td>\n",
       "    </tr>\n",
       "    <tr>\n",
       "      <td>5</td>\n",
       "      <td>Sergio</td>\n",
       "      <td>30</td>\n",
       "      <td>Business Intelligence</td>\n",
       "    </tr>\n",
       "    <tr>\n",
       "      <td>6</td>\n",
       "      <td>Harry</td>\n",
       "      <td>20</td>\n",
       "      <td>Student</td>\n",
       "    </tr>\n",
       "    <tr>\n",
       "      <td>7</td>\n",
       "      <td>Johnny</td>\n",
       "      <td>31</td>\n",
       "      <td>Data Analyst</td>\n",
       "    </tr>\n",
       "    <tr>\n",
       "      <td>8</td>\n",
       "      <td>Aaron</td>\n",
       "      <td>28</td>\n",
       "      <td>AI Engineer</td>\n",
       "    </tr>\n",
       "  </tbody>\n",
       "</table>\n",
       "</div>"
      ],
      "text/plain": [
       "   worker  age                    job\n",
       "0   Wayne    8                Student\n",
       "1  Robert   37         Data Scientist\n",
       "2  Ashley   25           DATA Analyst\n",
       "3   Jamie   26          data Engineer\n",
       "4  Jessie   80                Retired\n",
       "5  Sergio   30  Business Intelligence\n",
       "6   Harry   20                Student\n",
       "7  Johnny   31           Data Analyst\n",
       "8   Aaron   28            AI Engineer"
      ]
     },
     "execution_count": 31,
     "metadata": {},
     "output_type": "execute_result"
    }
   ],
   "source": [
    "ds = pd.DataFrame({\n",
    "    'worker': [\n",
    "        'Wayne', 'Robert', 'Ashley',\n",
    "        'Jamie', 'Jessie', 'Sergio',\n",
    "        'Harry', 'Johnny', 'Aaron'\n",
    "    ],\n",
    "    'age': [8, 37, 25, 26, 80, 30, 20, 31, 28],\n",
    "    'job': [\n",
    "        'Student', 'Data Scientist', 'DATA Analyst',\n",
    "        'data Engineer', 'Retired', 'Business Intelligence',\n",
    "        'Student', 'Data Analyst', 'AI Engineer'\n",
    "    ]\n",
    "})\n",
    "ds"
   ]
  },
  {
   "cell_type": "code",
   "execution_count": 34,
   "metadata": {},
   "outputs": [
    {
     "data": {
      "text/html": [
       "<div>\n",
       "<style scoped>\n",
       "    .dataframe tbody tr th:only-of-type {\n",
       "        vertical-align: middle;\n",
       "    }\n",
       "\n",
       "    .dataframe tbody tr th {\n",
       "        vertical-align: top;\n",
       "    }\n",
       "\n",
       "    .dataframe thead th {\n",
       "        text-align: right;\n",
       "    }\n",
       "</style>\n",
       "<table border=\"1\" class=\"dataframe\">\n",
       "  <thead>\n",
       "    <tr style=\"text-align: right;\">\n",
       "      <th></th>\n",
       "      <th>worker</th>\n",
       "      <th>age</th>\n",
       "      <th>job</th>\n",
       "    </tr>\n",
       "  </thead>\n",
       "  <tbody>\n",
       "    <tr>\n",
       "      <td>0</td>\n",
       "      <td>Wayne</td>\n",
       "      <td>8</td>\n",
       "      <td>Student</td>\n",
       "    </tr>\n",
       "    <tr>\n",
       "      <td>4</td>\n",
       "      <td>Jessie</td>\n",
       "      <td>80</td>\n",
       "      <td>Retired</td>\n",
       "    </tr>\n",
       "    <tr>\n",
       "      <td>5</td>\n",
       "      <td>Sergio</td>\n",
       "      <td>30</td>\n",
       "      <td>Business Intelligence</td>\n",
       "    </tr>\n",
       "    <tr>\n",
       "      <td>6</td>\n",
       "      <td>Harry</td>\n",
       "      <td>20</td>\n",
       "      <td>Student</td>\n",
       "    </tr>\n",
       "    <tr>\n",
       "      <td>8</td>\n",
       "      <td>Aaron</td>\n",
       "      <td>28</td>\n",
       "      <td>AI Engineer</td>\n",
       "    </tr>\n",
       "  </tbody>\n",
       "</table>\n",
       "</div>"
      ],
      "text/plain": [
       "   worker  age                    job\n",
       "0   Wayne    8                Student\n",
       "4  Jessie   80                Retired\n",
       "5  Sergio   30  Business Intelligence\n",
       "6   Harry   20                Student\n",
       "8   Aaron   28            AI Engineer"
      ]
     },
     "execution_count": 34,
     "metadata": {},
     "output_type": "execute_result"
    }
   ],
   "source": [
    "ds[~ds.job.str.lower().str.contains('data')]"
   ]
  },
  {
   "cell_type": "markdown",
   "metadata": {},
   "source": [
    "**Tình huống 3:** Thêm số \"0\" vào đầu cột số điện thoại của dữ liệu `info`."
   ]
  },
  {
   "cell_type": "code",
   "execution_count": 38,
   "metadata": {},
   "outputs": [],
   "source": [
    "import numpy as np\n",
    "import pandas as pd"
   ]
  },
  {
   "cell_type": "code",
   "execution_count": 41,
   "metadata": {},
   "outputs": [
    {
     "data": {
      "text/html": [
       "<div>\n",
       "<style scoped>\n",
       "    .dataframe tbody tr th:only-of-type {\n",
       "        vertical-align: middle;\n",
       "    }\n",
       "\n",
       "    .dataframe tbody tr th {\n",
       "        vertical-align: top;\n",
       "    }\n",
       "\n",
       "    .dataframe thead th {\n",
       "        text-align: right;\n",
       "    }\n",
       "</style>\n",
       "<table border=\"1\" class=\"dataframe\">\n",
       "  <thead>\n",
       "    <tr style=\"text-align: right;\">\n",
       "      <th></th>\n",
       "      <th>customer_id</th>\n",
       "      <th>phone</th>\n",
       "      <th>name</th>\n",
       "      <th>information</th>\n",
       "    </tr>\n",
       "  </thead>\n",
       "  <tbody>\n",
       "    <tr>\n",
       "      <td>0</td>\n",
       "      <td>3</td>\n",
       "      <td>363334444</td>\n",
       "      <td>Jack</td>\n",
       "      <td>England Male</td>\n",
       "    </tr>\n",
       "    <tr>\n",
       "      <td>1</td>\n",
       "      <td>423</td>\n",
       "      <td>913334444</td>\n",
       "      <td>James</td>\n",
       "      <td>Colombia Male</td>\n",
       "    </tr>\n",
       "    <tr>\n",
       "      <td>2</td>\n",
       "      <td>5464</td>\n",
       "      <td>123334444</td>\n",
       "      <td>Gabriel</td>\n",
       "      <td>France Female</td>\n",
       "    </tr>\n",
       "  </tbody>\n",
       "</table>\n",
       "</div>"
      ],
      "text/plain": [
       "   customer_id      phone     name    information\n",
       "0            3  363334444     Jack   England Male\n",
       "1          423  913334444    James  Colombia Male\n",
       "2         5464  123334444  Gabriel  France Female"
      ]
     },
     "execution_count": 41,
     "metadata": {},
     "output_type": "execute_result"
    }
   ],
   "source": [
    "info = pd.DataFrame({\n",
    "    'customer_id': [3, 423, 5464],\n",
    "    'phone': [363334444, 913334444, 123334444],\n",
    "    'name': ['Jack', 'James', 'Gabriel'],\n",
    "    'information': ['England Male', 'Colombia Male', 'France Female']\n",
    "})\n",
    "info"
   ]
  },
  {
   "cell_type": "code",
   "execution_count": 43,
   "metadata": {},
   "outputs": [
    {
     "data": {
      "text/html": [
       "<div>\n",
       "<style scoped>\n",
       "    .dataframe tbody tr th:only-of-type {\n",
       "        vertical-align: middle;\n",
       "    }\n",
       "\n",
       "    .dataframe tbody tr th {\n",
       "        vertical-align: top;\n",
       "    }\n",
       "\n",
       "    .dataframe thead th {\n",
       "        text-align: right;\n",
       "    }\n",
       "</style>\n",
       "<table border=\"1\" class=\"dataframe\">\n",
       "  <thead>\n",
       "    <tr style=\"text-align: right;\">\n",
       "      <th></th>\n",
       "      <th>customer_id</th>\n",
       "      <th>phone</th>\n",
       "      <th>name</th>\n",
       "      <th>information</th>\n",
       "    </tr>\n",
       "  </thead>\n",
       "  <tbody>\n",
       "    <tr>\n",
       "      <td>0</td>\n",
       "      <td>3</td>\n",
       "      <td>0363334444</td>\n",
       "      <td>Jack</td>\n",
       "      <td>England Male</td>\n",
       "    </tr>\n",
       "    <tr>\n",
       "      <td>1</td>\n",
       "      <td>423</td>\n",
       "      <td>0913334444</td>\n",
       "      <td>James</td>\n",
       "      <td>Colombia Male</td>\n",
       "    </tr>\n",
       "    <tr>\n",
       "      <td>2</td>\n",
       "      <td>5464</td>\n",
       "      <td>0123334444</td>\n",
       "      <td>Gabriel</td>\n",
       "      <td>France Female</td>\n",
       "    </tr>\n",
       "  </tbody>\n",
       "</table>\n",
       "</div>"
      ],
      "text/plain": [
       "   customer_id       phone     name    information\n",
       "0            3  0363334444     Jack   England Male\n",
       "1          423  0913334444    James  Colombia Male\n",
       "2         5464  0123334444  Gabriel  France Female"
      ]
     },
     "execution_count": 43,
     "metadata": {},
     "output_type": "execute_result"
    }
   ],
   "source": [
    "info.phone = info.astype(str).phone.str.pad(width=10, fillchar='0')\n",
    "info"
   ]
  },
  {
   "cell_type": "markdown",
   "metadata": {},
   "source": [
    "**Tình huống 4:** Ghép 2 cột `prefix` và `suffix` để tạo ra cột `id` cho dữ liệu dưới đây. Chú ý cột `suffix` có 4 chữ số, nếu có ít hơn cần được lấp đầy bằng ký tự 0."
   ]
  },
  {
   "cell_type": "code",
   "execution_count": 45,
   "metadata": {},
   "outputs": [
    {
     "data": {
      "text/html": [
       "<div>\n",
       "<style scoped>\n",
       "    .dataframe tbody tr th:only-of-type {\n",
       "        vertical-align: middle;\n",
       "    }\n",
       "\n",
       "    .dataframe tbody tr th {\n",
       "        vertical-align: top;\n",
       "    }\n",
       "\n",
       "    .dataframe thead th {\n",
       "        text-align: right;\n",
       "    }\n",
       "</style>\n",
       "<table border=\"1\" class=\"dataframe\">\n",
       "  <thead>\n",
       "    <tr style=\"text-align: right;\">\n",
       "      <th></th>\n",
       "      <th>prefix</th>\n",
       "      <th>suffix</th>\n",
       "    </tr>\n",
       "  </thead>\n",
       "  <tbody>\n",
       "    <tr>\n",
       "      <td>0</td>\n",
       "      <td>VN</td>\n",
       "      <td>4686</td>\n",
       "    </tr>\n",
       "    <tr>\n",
       "      <td>1</td>\n",
       "      <td>UK</td>\n",
       "      <td>3336</td>\n",
       "    </tr>\n",
       "    <tr>\n",
       "      <td>2</td>\n",
       "      <td>US</td>\n",
       "      <td>553</td>\n",
       "    </tr>\n",
       "    <tr>\n",
       "      <td>3</td>\n",
       "      <td>VN</td>\n",
       "      <td>6564</td>\n",
       "    </tr>\n",
       "    <tr>\n",
       "      <td>4</td>\n",
       "      <td>JP</td>\n",
       "      <td>864</td>\n",
       "    </tr>\n",
       "    <tr>\n",
       "      <td>5</td>\n",
       "      <td>RU</td>\n",
       "      <td>63</td>\n",
       "    </tr>\n",
       "  </tbody>\n",
       "</table>\n",
       "</div>"
      ],
      "text/plain": [
       "  prefix  suffix\n",
       "0     VN    4686\n",
       "1     UK    3336\n",
       "2     US     553\n",
       "3     VN    6564\n",
       "4     JP     864\n",
       "5     RU      63"
      ]
     },
     "execution_count": 45,
     "metadata": {},
     "output_type": "execute_result"
    }
   ],
   "source": [
    "customer_id = pd.DataFrame({\n",
    "    'prefix': ['VN', 'UK', 'US', 'VN', 'JP', 'RU'],\n",
    "    'suffix': [4686, 3336, 553, 6564, 864, 63]\n",
    "})\n",
    "customer_id"
   ]
  },
  {
   "cell_type": "code",
   "execution_count": 47,
   "metadata": {},
   "outputs": [
    {
     "data": {
      "text/plain": [
       "0    4686\n",
       "1    3336\n",
       "2    0553\n",
       "3    6564\n",
       "4    0864\n",
       "5    0063\n",
       "Name: suffix, dtype: object"
      ]
     },
     "execution_count": 47,
     "metadata": {},
     "output_type": "execute_result"
    }
   ],
   "source": [
    "customer_id.suffix.astype(str).str.pad(width=4, fillchar='0')"
   ]
  },
  {
   "cell_type": "code",
   "execution_count": 50,
   "metadata": {},
   "outputs": [
    {
     "data": {
      "text/html": [
       "<div>\n",
       "<style scoped>\n",
       "    .dataframe tbody tr th:only-of-type {\n",
       "        vertical-align: middle;\n",
       "    }\n",
       "\n",
       "    .dataframe tbody tr th {\n",
       "        vertical-align: top;\n",
       "    }\n",
       "\n",
       "    .dataframe thead th {\n",
       "        text-align: right;\n",
       "    }\n",
       "</style>\n",
       "<table border=\"1\" class=\"dataframe\">\n",
       "  <thead>\n",
       "    <tr style=\"text-align: right;\">\n",
       "      <th></th>\n",
       "      <th>prefix</th>\n",
       "      <th>suffix</th>\n",
       "      <th>id</th>\n",
       "    </tr>\n",
       "  </thead>\n",
       "  <tbody>\n",
       "    <tr>\n",
       "      <td>0</td>\n",
       "      <td>VN</td>\n",
       "      <td>4686</td>\n",
       "      <td>VN4686</td>\n",
       "    </tr>\n",
       "    <tr>\n",
       "      <td>1</td>\n",
       "      <td>UK</td>\n",
       "      <td>3336</td>\n",
       "      <td>UK3336</td>\n",
       "    </tr>\n",
       "    <tr>\n",
       "      <td>2</td>\n",
       "      <td>US</td>\n",
       "      <td>553</td>\n",
       "      <td>US0553</td>\n",
       "    </tr>\n",
       "    <tr>\n",
       "      <td>3</td>\n",
       "      <td>VN</td>\n",
       "      <td>6564</td>\n",
       "      <td>VN6564</td>\n",
       "    </tr>\n",
       "    <tr>\n",
       "      <td>4</td>\n",
       "      <td>JP</td>\n",
       "      <td>864</td>\n",
       "      <td>JP0864</td>\n",
       "    </tr>\n",
       "    <tr>\n",
       "      <td>5</td>\n",
       "      <td>RU</td>\n",
       "      <td>63</td>\n",
       "      <td>RU0063</td>\n",
       "    </tr>\n",
       "  </tbody>\n",
       "</table>\n",
       "</div>"
      ],
      "text/plain": [
       "  prefix  suffix      id\n",
       "0     VN    4686  VN4686\n",
       "1     UK    3336  UK3336\n",
       "2     US     553  US0553\n",
       "3     VN    6564  VN6564\n",
       "4     JP     864  JP0864\n",
       "5     RU      63  RU0063"
      ]
     },
     "execution_count": 50,
     "metadata": {},
     "output_type": "execute_result"
    }
   ],
   "source": [
    "customer_id['id'] = customer_id.prefix + customer_id.suffix.astype(str).str.pad(width=4, fillchar='0')\n",
    "customer_id"
   ]
  }
 ],
 "metadata": {
  "colab": {
   "name": "lecture7.ipynb",
   "provenance": [],
   "version": "0.3.2"
  },
  "kernelspec": {
   "display_name": "Python 3",
   "language": "python",
   "name": "python3"
  },
  "language_info": {
   "codemirror_mode": {
    "name": "ipython",
    "version": 3
   },
   "file_extension": ".py",
   "mimetype": "text/x-python",
   "name": "python",
   "nbconvert_exporter": "python",
   "pygments_lexer": "ipython3",
   "version": "3.8.3"
  },
  "toc-autonumbering": false,
  "toc-showcode": false,
  "toc-showmarkdowntxt": false,
  "toc-showtags": false
 },
 "nbformat": 4,
 "nbformat_minor": 4
}
