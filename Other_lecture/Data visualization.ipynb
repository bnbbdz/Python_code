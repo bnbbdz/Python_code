{
 "cells": [
  {
   "cell_type": "markdown",
   "metadata": {},
   "source": [
    "# BÀI 10: TRỰC QUAN HÓA DỮ LIỆU"
   ]
  },
  {
   "cell_type": "markdown",
   "metadata": {},
   "source": [
    "## 1. Tại sao cần trực quan hóa dữ liệu?"
   ]
  },
  {
   "cell_type": "code",
   "execution_count": 1,
   "metadata": {},
   "outputs": [],
   "source": [
    "import numpy as np\n",
    "import pandas as pd\n",
    "import matplotlib.pyplot as plt\n",
    "import seaborn as sns\n",
    "sns.set_style('whitegrid'); sns.set_palette('deep')"
   ]
  },
  {
   "cell_type": "markdown",
   "metadata": {},
   "source": [
    "Bộ tứ Anscombe gồm 4 cặp số liệu (x, y) có các đại lượng thống kê mô tả bằng nhau.\\\n",
    "Chúng thậm chí có cùng phương trình hồi quy tuyến tính: $y = 0.5x + 3$.\n",
    "\n",
    "*Tham khảo: [Wikipedia](https://en.wikipedia.org/wiki/Anscombe%27s_quartet)*"
   ]
  },
  {
   "cell_type": "code",
   "execution_count": 2,
   "metadata": {},
   "outputs": [
    {
     "data": {
      "text/html": [
       "<div>\n",
       "<style scoped>\n",
       "    .dataframe tbody tr th:only-of-type {\n",
       "        vertical-align: middle;\n",
       "    }\n",
       "\n",
       "    .dataframe tbody tr th {\n",
       "        vertical-align: top;\n",
       "    }\n",
       "\n",
       "    .dataframe thead th {\n",
       "        text-align: right;\n",
       "    }\n",
       "</style>\n",
       "<table border=\"1\" class=\"dataframe\">\n",
       "  <thead>\n",
       "    <tr style=\"text-align: right;\">\n",
       "      <th></th>\n",
       "      <th>x1</th>\n",
       "      <th>x2</th>\n",
       "      <th>x3</th>\n",
       "      <th>x4</th>\n",
       "      <th>y1</th>\n",
       "      <th>y2</th>\n",
       "      <th>y3</th>\n",
       "      <th>y4</th>\n",
       "    </tr>\n",
       "  </thead>\n",
       "  <tbody>\n",
       "    <tr>\n",
       "      <th>0</th>\n",
       "      <td>10</td>\n",
       "      <td>10</td>\n",
       "      <td>10</td>\n",
       "      <td>8</td>\n",
       "      <td>8.04</td>\n",
       "      <td>9.14</td>\n",
       "      <td>7.46</td>\n",
       "      <td>6.58</td>\n",
       "    </tr>\n",
       "    <tr>\n",
       "      <th>1</th>\n",
       "      <td>8</td>\n",
       "      <td>8</td>\n",
       "      <td>8</td>\n",
       "      <td>8</td>\n",
       "      <td>6.95</td>\n",
       "      <td>8.14</td>\n",
       "      <td>6.77</td>\n",
       "      <td>5.76</td>\n",
       "    </tr>\n",
       "    <tr>\n",
       "      <th>2</th>\n",
       "      <td>13</td>\n",
       "      <td>13</td>\n",
       "      <td>13</td>\n",
       "      <td>8</td>\n",
       "      <td>7.58</td>\n",
       "      <td>8.74</td>\n",
       "      <td>12.74</td>\n",
       "      <td>7.71</td>\n",
       "    </tr>\n",
       "    <tr>\n",
       "      <th>3</th>\n",
       "      <td>9</td>\n",
       "      <td>9</td>\n",
       "      <td>9</td>\n",
       "      <td>8</td>\n",
       "      <td>8.81</td>\n",
       "      <td>8.77</td>\n",
       "      <td>7.11</td>\n",
       "      <td>8.84</td>\n",
       "    </tr>\n",
       "    <tr>\n",
       "      <th>4</th>\n",
       "      <td>11</td>\n",
       "      <td>11</td>\n",
       "      <td>11</td>\n",
       "      <td>8</td>\n",
       "      <td>8.33</td>\n",
       "      <td>9.26</td>\n",
       "      <td>7.81</td>\n",
       "      <td>8.47</td>\n",
       "    </tr>\n",
       "    <tr>\n",
       "      <th>5</th>\n",
       "      <td>14</td>\n",
       "      <td>14</td>\n",
       "      <td>14</td>\n",
       "      <td>8</td>\n",
       "      <td>9.96</td>\n",
       "      <td>8.10</td>\n",
       "      <td>8.84</td>\n",
       "      <td>7.04</td>\n",
       "    </tr>\n",
       "    <tr>\n",
       "      <th>6</th>\n",
       "      <td>6</td>\n",
       "      <td>6</td>\n",
       "      <td>6</td>\n",
       "      <td>8</td>\n",
       "      <td>7.24</td>\n",
       "      <td>6.13</td>\n",
       "      <td>6.08</td>\n",
       "      <td>5.25</td>\n",
       "    </tr>\n",
       "    <tr>\n",
       "      <th>7</th>\n",
       "      <td>4</td>\n",
       "      <td>4</td>\n",
       "      <td>4</td>\n",
       "      <td>19</td>\n",
       "      <td>4.26</td>\n",
       "      <td>3.10</td>\n",
       "      <td>5.39</td>\n",
       "      <td>12.50</td>\n",
       "    </tr>\n",
       "    <tr>\n",
       "      <th>8</th>\n",
       "      <td>12</td>\n",
       "      <td>12</td>\n",
       "      <td>12</td>\n",
       "      <td>8</td>\n",
       "      <td>10.84</td>\n",
       "      <td>9.13</td>\n",
       "      <td>8.15</td>\n",
       "      <td>5.56</td>\n",
       "    </tr>\n",
       "    <tr>\n",
       "      <th>9</th>\n",
       "      <td>7</td>\n",
       "      <td>7</td>\n",
       "      <td>7</td>\n",
       "      <td>8</td>\n",
       "      <td>4.82</td>\n",
       "      <td>7.26</td>\n",
       "      <td>6.42</td>\n",
       "      <td>7.91</td>\n",
       "    </tr>\n",
       "    <tr>\n",
       "      <th>10</th>\n",
       "      <td>5</td>\n",
       "      <td>5</td>\n",
       "      <td>5</td>\n",
       "      <td>8</td>\n",
       "      <td>5.68</td>\n",
       "      <td>4.74</td>\n",
       "      <td>5.73</td>\n",
       "      <td>6.89</td>\n",
       "    </tr>\n",
       "  </tbody>\n",
       "</table>\n",
       "</div>"
      ],
      "text/plain": [
       "    x1  x2  x3  x4     y1    y2     y3     y4\n",
       "0   10  10  10   8   8.04  9.14   7.46   6.58\n",
       "1    8   8   8   8   6.95  8.14   6.77   5.76\n",
       "2   13  13  13   8   7.58  8.74  12.74   7.71\n",
       "3    9   9   9   8   8.81  8.77   7.11   8.84\n",
       "4   11  11  11   8   8.33  9.26   7.81   8.47\n",
       "5   14  14  14   8   9.96  8.10   8.84   7.04\n",
       "6    6   6   6   8   7.24  6.13   6.08   5.25\n",
       "7    4   4   4  19   4.26  3.10   5.39  12.50\n",
       "8   12  12  12   8  10.84  9.13   8.15   5.56\n",
       "9    7   7   7   8   4.82  7.26   6.42   7.91\n",
       "10   5   5   5   8   5.68  4.74   5.73   6.89"
      ]
     },
     "execution_count": 2,
     "metadata": {},
     "output_type": "execute_result"
    }
   ],
   "source": [
    "anscombe = pd.read_excel('data/anscombe.xlsx')\n",
    "anscombe"
   ]
  },
  {
   "cell_type": "markdown",
   "metadata": {},
   "source": [
    "**Tình huống 1:** Tính và nhận xét:\n",
    "- Mean và Standard Deviation của x1, x2, x3, x4\n",
    "- Mean và Standard Deviation của y1, y2, y3, y4\n",
    "- Correlation của 4 cặp x-y"
   ]
  },
  {
   "cell_type": "code",
   "execution_count": 3,
   "metadata": {},
   "outputs": [
    {
     "data": {
      "image/png": "[encoded data removed]",
      "text/plain": [
       "<Figure size 576x576 with 4 Axes>"
      ]
     },
     "metadata": {},
     "output_type": "display_data"
    }
   ],
   "source": [
    "anscombe = sns.load_dataset('anscombe')\n",
    "\n",
    "_ = sns.lmplot(\n",
    "    data=anscombe,\n",
    "    x='x', y='y',\n",
    "    col='dataset', hue='dataset',\n",
    "    ci=False,\n",
    "    col_wrap=2, height=4,\n",
    "    scatter_kws={'s': 50, 'alpha': 1})"
   ]
  },
  {
   "cell_type": "markdown",
   "metadata": {},
   "source": [
    "## 2. Các thành phần của biểu đồ"
   ]
  },
  {
   "cell_type": "markdown",
   "metadata": {},
   "source": [
    "#### Giao diện"
   ]
  },
  {
   "cell_type": "code",
   "execution_count": 4,
   "metadata": {},
   "outputs": [],
   "source": [
    "import numpy as np\n",
    "import pandas as pd\n",
    "import matplotlib.pyplot as plt\n",
    "import seaborn as sns\n",
    "sns.set_style('whitegrid'); sns.set_palette('deep')"
   ]
  },
  {
   "cell_type": "code",
   "execution_count": 5,
   "metadata": {},
   "outputs": [
    {
     "data": {
      "image/png": "[encoded data removed]",
      "text/plain": [
       "<Figure size 432x288 with 1 Axes>"
      ]
     },
     "metadata": {},
     "output_type": "display_data"
    }
   ],
   "source": [
    "# tạo dữ liệu\n",
    "x1 = np.arange(-100, 100)\n",
    "y1 = x1**2\n",
    "x2 = np.arange(-100, 100)\n",
    "y2 = 10*x2 + 5000\n",
    "\n",
    "# vẽ biểu đồ\n",
    "plt.plot(x1, y1, label='Parabol')\n",
    "plt.plot(x2, y2, label='Line')\n",
    "\n",
    "# tên trục x, y\n",
    "plt.xlabel('x label')\n",
    "plt.ylabel('y label')\n",
    "\n",
    "# tên biểu đồ\n",
    "plt.title('My graph')\n",
    "\n",
    "# legend\n",
    "plt.legend()\n",
    "\n",
    "plt.show()"
   ]
  },
  {
   "cell_type": "markdown",
   "metadata": {},
   "source": [
    "#### Vẽ biểu đồ với 2 object: figure và axes"
   ]
  },
  {
   "cell_type": "code",
   "execution_count": 6,
   "metadata": {},
   "outputs": [],
   "source": [
    "import numpy as np\n",
    "import pandas as pd\n",
    "import matplotlib.pyplot as plt\n",
    "import seaborn as sns\n",
    "sns.set_style('whitegrid'); sns.set_palette('deep')"
   ]
  },
  {
   "cell_type": "code",
   "execution_count": 7,
   "metadata": {},
   "outputs": [
    {
     "data": {
      "image/png": "[encoded data removed]",
      "text/plain": [
       "<Figure size 432x288 with 1 Axes>"
      ]
     },
     "metadata": {},
     "output_type": "display_data"
    }
   ],
   "source": [
    "fig, ax = plt.subplots()"
   ]
  },
  {
   "cell_type": "code",
   "execution_count": 8,
   "metadata": {},
   "outputs": [
    {
     "data": {
      "image/png": "[encoded data removed]",
      "text/plain": [
       "<Figure size 1080x360 with 2 Axes>"
      ]
     },
     "metadata": {},
     "output_type": "display_data"
    }
   ],
   "source": [
    "fig, ax = plt.subplots(nrows=1, ncols=2, figsize=(15,5))"
   ]
  },
  {
   "cell_type": "code",
   "execution_count": 9,
   "metadata": {},
   "outputs": [
    {
     "data": {
      "image/png": "[encoded data removed]",
      "text/plain": [
       "<Figure size 1080x360 with 2 Axes>"
      ]
     },
     "metadata": {},
     "output_type": "display_data"
    }
   ],
   "source": [
    "x1 = np.arange(-100, 100)\n",
    "y1 = x1**2\n",
    "x2 = np.arange(-100, 100)\n",
    "y2 = 10*x2 + 5000\n",
    "\n",
    "fig, ax = plt.subplots(nrows=1, ncols=2, figsize=(15,5))\n",
    "\n",
    "sns.lineplot(x1, y1, ax=ax[0], color='steelblue', linewidth=3)\n",
    "sns.lineplot(x2, y2, ax=ax[1], color='indianred', linewidth=3)\n",
    "\n",
    "plt.show()"
   ]
  },
  {
   "cell_type": "markdown",
   "metadata": {},
   "source": [
    "## Bảng màu Matplotlib và Seaborn\n",
    "<img src=\"images\\matplotlib_color_names.png\">\\\n",
    "*Nguồn: [Matplotlib](https://matplotlib.org/3.2.1/gallery/color/named_colors.html)*"
   ]
  },
  {
   "cell_type": "markdown",
   "metadata": {},
   "source": [
    "## Thang đo dữ liệu\n",
    "\n",
    "Measurement |Thang đo  |Phân loại   |So sánh |Chênh lệch|Tỉ lệ   |Ví dụ|\n",
    ":-----------|:---------|:-----------|:------:|:--------:|:------:|:----|\n",
    "**Nominal** |Định danh |Định tính   |        |          |        |Cam, Táo, Lê - không so sánh được|\n",
    "**Ordinal** |Thứ bậc   |Định tính   |&#10004;|          |        |(Huy chương) Vàng, Bạc, Đồng - có thứ tự cao thấp|\n",
    "**Interval**|Khoảng    |Định lượng  |&#10004;|&#10004;  |        |6h00, 12h00, 18h00 - tính được khoảng cách nhưng không tính được tỉ lệ|\n",
    "**Ratio**   |Tỉ lệ     |Định lượng  |&#10004;|&#10004;  |&#10004;|10 kg, 20 kg, 50 kg - tính được cả chênh lệch và tỉ lệ|"
   ]
  },
  {
   "cell_type": "markdown",
   "metadata": {},
   "source": [
    "## Ba kiểu dữ liệu phổ biến trong Visualization\n",
    "Data type    |Equivalent measurements|\n",
    ":-----------:|:---------------------:|\n",
    "**Category** |Nominal & Ordinal      |\n",
    "**Date/Time**|Interval               |\n",
    "**Value**    |Ratio                  |"
   ]
  },
  {
   "cell_type": "markdown",
   "metadata": {},
   "source": [
    "## 3. Pie chart\n",
    "Pie chart (biểu đồ tròn) được sử dụng để biểu diễn tỷ trọng trong tổng thể. Pie chart thể hiện 2 chiều thông tin:\n",
    "- **Kích thước:** thuộc tính Value\n",
    "- **Màu sắc:** thuộc tính Category"
   ]
  },
  {
   "cell_type": "code",
   "execution_count": 10,
   "metadata": {},
   "outputs": [],
   "source": [
    "import numpy as np\n",
    "import pandas as pd\n",
    "import matplotlib.pyplot as plt\n",
    "import seaborn as sns\n",
    "sns.set_style('whitegrid'); sns.set_palette('deep')"
   ]
  },
  {
   "cell_type": "code",
   "execution_count": 11,
   "metadata": {},
   "outputs": [
    {
     "data": {
      "image/png": "[encoded data removed]",
      "text/plain": [
       "<Figure size 360x360 with 1 Axes>"
      ]
     },
     "metadata": {},
     "output_type": "display_data"
    }
   ],
   "source": [
    "df = pd.DataFrame({\n",
    "    'mass': [100, 200, 400],\n",
    "    'planet': ['Mercury', 'Venus', 'Earth']\n",
    "})\n",
    "\n",
    "plt.figure(figsize=(5,5))\n",
    "plt.style.use('seaborn-whitegrid')\n",
    "plt.pie(df.mass, labels=df.planet, autopct='%1.2f%%')\n",
    "plt.show()"
   ]
  },
  {
   "cell_type": "markdown",
   "metadata": {},
   "source": [
    "## 4. Line chart\n",
    "Line chart (biểu đồ đường) thường dùng để biểu diễn xu thế của dữ liệu theo thời gian. Line chart thể hiện được 3 chiều thông tin:\n",
    "- **Trục x:** thuộc tính Datetime hoặc Value\n",
    "- **Trục y:** thuộc tính Value\n",
    "- **Màu sắc:** thuộc tính Category"
   ]
  },
  {
   "cell_type": "code",
   "execution_count": 12,
   "metadata": {},
   "outputs": [],
   "source": [
    "import numpy as np\n",
    "import pandas as pd\n",
    "import matplotlib.pyplot as plt\n",
    "import seaborn as sns\n",
    "sns.set_style('whitegrid'); sns.set_palette('deep')"
   ]
  },
  {
   "cell_type": "code",
   "execution_count": 18,
   "metadata": {},
   "outputs": [
    {
     "data": {
      "text/html": [
       "<div>\n",
       "<style scoped>\n",
       "    .dataframe tbody tr th:only-of-type {\n",
       "        vertical-align: middle;\n",
       "    }\n",
       "\n",
       "    .dataframe tbody tr th {\n",
       "        vertical-align: top;\n",
       "    }\n",
       "\n",
       "    .dataframe thead th {\n",
       "        text-align: right;\n",
       "    }\n",
       "</style>\n",
       "<table border=\"1\" class=\"dataframe\">\n",
       "  <thead>\n",
       "    <tr style=\"text-align: right;\">\n",
       "      <th></th>\n",
       "      <th>date</th>\n",
       "      <th>city</th>\n",
       "      <th>temperature</th>\n",
       "    </tr>\n",
       "  </thead>\n",
       "  <tbody>\n",
       "    <tr>\n",
       "      <th>0</th>\n",
       "      <td>2011-10-01</td>\n",
       "      <td>New York</td>\n",
       "      <td>63.4</td>\n",
       "    </tr>\n",
       "    <tr>\n",
       "      <th>1</th>\n",
       "      <td>2011-10-01</td>\n",
       "      <td>San Francisco</td>\n",
       "      <td>62.7</td>\n",
       "    </tr>\n",
       "    <tr>\n",
       "      <th>2</th>\n",
       "      <td>2011-10-01</td>\n",
       "      <td>Austin</td>\n",
       "      <td>72.2</td>\n",
       "    </tr>\n",
       "    <tr>\n",
       "      <th>3</th>\n",
       "      <td>2011-10-02</td>\n",
       "      <td>New York</td>\n",
       "      <td>58.0</td>\n",
       "    </tr>\n",
       "    <tr>\n",
       "      <th>4</th>\n",
       "      <td>2011-10-02</td>\n",
       "      <td>San Francisco</td>\n",
       "      <td>59.9</td>\n",
       "    </tr>\n",
       "  </tbody>\n",
       "</table>\n",
       "</div>"
      ],
      "text/plain": [
       "        date           city  temperature\n",
       "0 2011-10-01       New York         63.4\n",
       "1 2011-10-01  San Francisco         62.7\n",
       "2 2011-10-01         Austin         72.2\n",
       "3 2011-10-02       New York         58.0\n",
       "4 2011-10-02  San Francisco         59.9"
      ]
     },
     "execution_count": 18,
     "metadata": {},
     "output_type": "execute_result"
    }
   ],
   "source": [
    "temp = pd.read_excel(r'data/temperatures.xlsx')\n",
    "temp.head()"
   ]
  },
  {
   "cell_type": "code",
   "execution_count": 19,
   "metadata": {},
   "outputs": [
    {
     "data": {
      "image/png": "[encoded data removed]",
      "text/plain": [
       "<Figure size 1080x360 with 1 Axes>"
      ]
     },
     "metadata": {},
     "output_type": "display_data"
    }
   ],
   "source": [
    "plt.figure(figsize=(15,5))\n",
    "_ = sns.lineplot(data=temp, x='date', y='temperature', hue='city')"
   ]
  },
  {
   "cell_type": "markdown",
   "metadata": {},
   "source": [
    "**Tình huống 2:** Vẽ biểu đồ biểu diễn dân số của 3 nước: United States, China, India qua các năm với dữ liệu trong file `world_population.xlsx`"
   ]
  },
  {
   "cell_type": "markdown",
   "metadata": {},
   "source": [
    "## 5. Bar chart\n",
    "Bar chart (biểu đồ cột) là loại biểu đồ phổ biến dùng để so sánh giá trị của từng phân khúc. Bar chart thể hiện được 3 chiều thông tin:\n",
    "- **Trục x:** thuộc tính Category\n",
    "- **Trục y:** thuộc tính Value\n",
    "- **Màu sắc:** thuộc tính Category"
   ]
  },
  {
   "cell_type": "code",
   "execution_count": 20,
   "metadata": {},
   "outputs": [],
   "source": [
    "import numpy as np\n",
    "import pandas as pd\n",
    "import matplotlib.pyplot as plt\n",
    "import seaborn as sns\n",
    "sns.set_style('whitegrid'); sns.set_palette('deep')"
   ]
  },
  {
   "cell_type": "code",
   "execution_count": 21,
   "metadata": {},
   "outputs": [
    {
     "data": {
      "text/html": [
       "<div>\n",
       "<style scoped>\n",
       "    .dataframe tbody tr th:only-of-type {\n",
       "        vertical-align: middle;\n",
       "    }\n",
       "\n",
       "    .dataframe tbody tr th {\n",
       "        vertical-align: top;\n",
       "    }\n",
       "\n",
       "    .dataframe thead th {\n",
       "        text-align: right;\n",
       "    }\n",
       "</style>\n",
       "<table border=\"1\" class=\"dataframe\">\n",
       "  <thead>\n",
       "    <tr style=\"text-align: right;\">\n",
       "      <th></th>\n",
       "      <th>manufacturer</th>\n",
       "      <th>model</th>\n",
       "      <th>type</th>\n",
       "      <th>min_price</th>\n",
       "      <th>price</th>\n",
       "      <th>max_price</th>\n",
       "      <th>mpg_city</th>\n",
       "      <th>mpg_highway</th>\n",
       "      <th>airbags</th>\n",
       "      <th>drive_train</th>\n",
       "      <th>...</th>\n",
       "      <th>passengers</th>\n",
       "      <th>length</th>\n",
       "      <th>wheelbase</th>\n",
       "      <th>width</th>\n",
       "      <th>turn_circle</th>\n",
       "      <th>rear_seat_room</th>\n",
       "      <th>luggage_room</th>\n",
       "      <th>weight</th>\n",
       "      <th>origin</th>\n",
       "      <th>make</th>\n",
       "    </tr>\n",
       "  </thead>\n",
       "  <tbody>\n",
       "    <tr>\n",
       "      <th>0</th>\n",
       "      <td>Chevrolet</td>\n",
       "      <td>Cavalier</td>\n",
       "      <td>Compact</td>\n",
       "      <td>8.5</td>\n",
       "      <td>13.4</td>\n",
       "      <td>18.3</td>\n",
       "      <td>25</td>\n",
       "      <td>36</td>\n",
       "      <td>None</td>\n",
       "      <td>Front</td>\n",
       "      <td>...</td>\n",
       "      <td>5</td>\n",
       "      <td>182</td>\n",
       "      <td>101</td>\n",
       "      <td>66</td>\n",
       "      <td>38</td>\n",
       "      <td>25.0</td>\n",
       "      <td>13.0</td>\n",
       "      <td>2490</td>\n",
       "      <td>USA</td>\n",
       "      <td>Chevrolet Cavalier</td>\n",
       "    </tr>\n",
       "    <tr>\n",
       "      <th>1</th>\n",
       "      <td>Chevrolet</td>\n",
       "      <td>Corsica</td>\n",
       "      <td>Compact</td>\n",
       "      <td>11.4</td>\n",
       "      <td>11.4</td>\n",
       "      <td>11.4</td>\n",
       "      <td>25</td>\n",
       "      <td>34</td>\n",
       "      <td>Driver only</td>\n",
       "      <td>Front</td>\n",
       "      <td>...</td>\n",
       "      <td>5</td>\n",
       "      <td>184</td>\n",
       "      <td>103</td>\n",
       "      <td>68</td>\n",
       "      <td>39</td>\n",
       "      <td>26.0</td>\n",
       "      <td>14.0</td>\n",
       "      <td>2785</td>\n",
       "      <td>USA</td>\n",
       "      <td>Chevrolet Corsica</td>\n",
       "    </tr>\n",
       "    <tr>\n",
       "      <th>2</th>\n",
       "      <td>Chevrolet</td>\n",
       "      <td>Camaro</td>\n",
       "      <td>Sporty</td>\n",
       "      <td>13.4</td>\n",
       "      <td>15.1</td>\n",
       "      <td>16.8</td>\n",
       "      <td>19</td>\n",
       "      <td>28</td>\n",
       "      <td>Driver &amp; Passenger</td>\n",
       "      <td>Rear</td>\n",
       "      <td>...</td>\n",
       "      <td>4</td>\n",
       "      <td>193</td>\n",
       "      <td>101</td>\n",
       "      <td>74</td>\n",
       "      <td>43</td>\n",
       "      <td>25.0</td>\n",
       "      <td>13.0</td>\n",
       "      <td>3240</td>\n",
       "      <td>USA</td>\n",
       "      <td>Chevrolet Camaro</td>\n",
       "    </tr>\n",
       "    <tr>\n",
       "      <th>3</th>\n",
       "      <td>Chevrolet</td>\n",
       "      <td>Lumina</td>\n",
       "      <td>Midsize</td>\n",
       "      <td>13.4</td>\n",
       "      <td>15.9</td>\n",
       "      <td>18.4</td>\n",
       "      <td>21</td>\n",
       "      <td>29</td>\n",
       "      <td>None</td>\n",
       "      <td>Front</td>\n",
       "      <td>...</td>\n",
       "      <td>6</td>\n",
       "      <td>198</td>\n",
       "      <td>108</td>\n",
       "      <td>71</td>\n",
       "      <td>40</td>\n",
       "      <td>28.5</td>\n",
       "      <td>16.0</td>\n",
       "      <td>3195</td>\n",
       "      <td>USA</td>\n",
       "      <td>Chevrolet Lumina</td>\n",
       "    </tr>\n",
       "    <tr>\n",
       "      <th>4</th>\n",
       "      <td>Chevrolet</td>\n",
       "      <td>Lumina_APV</td>\n",
       "      <td>Van</td>\n",
       "      <td>14.7</td>\n",
       "      <td>16.3</td>\n",
       "      <td>18.0</td>\n",
       "      <td>18</td>\n",
       "      <td>23</td>\n",
       "      <td>None</td>\n",
       "      <td>Front</td>\n",
       "      <td>...</td>\n",
       "      <td>7</td>\n",
       "      <td>178</td>\n",
       "      <td>110</td>\n",
       "      <td>74</td>\n",
       "      <td>44</td>\n",
       "      <td>30.5</td>\n",
       "      <td>NaN</td>\n",
       "      <td>3715</td>\n",
       "      <td>USA</td>\n",
       "      <td>Chevrolet Lumina_APV</td>\n",
       "    </tr>\n",
       "  </tbody>\n",
       "</table>\n",
       "<p>5 rows × 27 columns</p>\n",
       "</div>"
      ],
      "text/plain": [
       "  manufacturer       model     type  min_price  price  max_price  mpg_city  \\\n",
       "0    Chevrolet    Cavalier  Compact        8.5   13.4       18.3        25   \n",
       "1    Chevrolet     Corsica  Compact       11.4   11.4       11.4        25   \n",
       "2    Chevrolet      Camaro   Sporty       13.4   15.1       16.8        19   \n",
       "3    Chevrolet      Lumina  Midsize       13.4   15.9       18.4        21   \n",
       "4    Chevrolet  Lumina_APV      Van       14.7   16.3       18.0        18   \n",
       "\n",
       "   mpg_highway             airbags drive_train  ...  passengers  length  \\\n",
       "0           36                None       Front  ...           5     182   \n",
       "1           34         Driver only       Front  ...           5     184   \n",
       "2           28  Driver & Passenger        Rear  ...           4     193   \n",
       "3           29                None       Front  ...           6     198   \n",
       "4           23                None       Front  ...           7     178   \n",
       "\n",
       "   wheelbase  width  turn_circle rear_seat_room  luggage_room  weight  origin  \\\n",
       "0        101     66           38           25.0          13.0    2490     USA   \n",
       "1        103     68           39           26.0          14.0    2785     USA   \n",
       "2        101     74           43           25.0          13.0    3240     USA   \n",
       "3        108     71           40           28.5          16.0    3195     USA   \n",
       "4        110     74           44           30.5           NaN    3715     USA   \n",
       "\n",
       "                   make  \n",
       "0    Chevrolet Cavalier  \n",
       "1     Chevrolet Corsica  \n",
       "2      Chevrolet Camaro  \n",
       "3      Chevrolet Lumina  \n",
       "4  Chevrolet Lumina_APV  \n",
       "\n",
       "[5 rows x 27 columns]"
      ]
     },
     "execution_count": 21,
     "metadata": {},
     "output_type": "execute_result"
    }
   ],
   "source": [
    "car = pd.read_excel(r'data/cars.xlsx')\n",
    "car.head()"
   ]
  },
  {
   "cell_type": "code",
   "execution_count": 22,
   "metadata": {},
   "outputs": [
    {
     "data": {
      "image/png": "[encoded data removed]",
      "text/plain": [
       "<Figure size 432x288 with 1 Axes>"
      ]
     },
     "metadata": {},
     "output_type": "display_data"
    }
   ],
   "source": [
    "_ = sns.barplot(data=car, x='manufacturer', y='price', color='steelblue', ci=False)"
   ]
  },
  {
   "cell_type": "markdown",
   "metadata": {},
   "source": [
    "Sử dụng thêm chiều thông tin về màu sắc (optional) sẽ thu được biến thể Group bar chart."
   ]
  },
  {
   "cell_type": "code",
   "execution_count": 23,
   "metadata": {},
   "outputs": [
    {
     "data": {
      "image/png": "[encoded data removed]",
      "text/plain": [
       "<Figure size 648x432 with 1 Axes>"
      ]
     },
     "metadata": {},
     "output_type": "display_data"
    }
   ],
   "source": [
    "plt.figure(figsize=(9,6))\n",
    "_ = sns.barplot(data=car, x='manufacturer', y='price', hue='airbags', ci=False)"
   ]
  },
  {
   "cell_type": "markdown",
   "metadata": {},
   "source": [
    "**Tình huống 3:** Sử dụng dữ liệu trong file `supermarket_sales.csv` thực hiện các yêu cầu sau:\n",
    "1. Tính ra doanh thu của 3 nhãn hàng (brand) với công thức: $sales = unit price * quantity + tax$\n",
    "2. Dùng biểu đồ cột để so sánh tổng doanh thu giữa các nhãn hàng.\n",
    "3. So sánh tổng doanh thu giữa khách hàng nam và nữ của các nhãn hàng."
   ]
  },
  {
   "cell_type": "markdown",
   "metadata": {},
   "source": [
    "## 6. Heatmap\n",
    "Heatmap (biểu đồ nhiệt) dùng để biểu diễn cường độ/mức độ tương quan của các biến định lượng."
   ]
  },
  {
   "cell_type": "code",
   "execution_count": 24,
   "metadata": {},
   "outputs": [],
   "source": [
    "import numpy as np\n",
    "import pandas as pd\n",
    "import matplotlib.pyplot as plt\n",
    "import seaborn as sns\n",
    "sns.set_style('whitegrid'); sns.set_palette('deep')"
   ]
  },
  {
   "cell_type": "code",
   "execution_count": 25,
   "metadata": {},
   "outputs": [
    {
     "data": {
      "text/html": [
       "<div>\n",
       "<style scoped>\n",
       "    .dataframe tbody tr th:only-of-type {\n",
       "        vertical-align: middle;\n",
       "    }\n",
       "\n",
       "    .dataframe tbody tr th {\n",
       "        vertical-align: top;\n",
       "    }\n",
       "\n",
       "    .dataframe thead th {\n",
       "        text-align: right;\n",
       "    }\n",
       "</style>\n",
       "<table border=\"1\" class=\"dataframe\">\n",
       "  <thead>\n",
       "    <tr style=\"text-align: right;\">\n",
       "      <th></th>\n",
       "      <th>manufacturer</th>\n",
       "      <th>model</th>\n",
       "      <th>type</th>\n",
       "      <th>min_price</th>\n",
       "      <th>price</th>\n",
       "      <th>max_price</th>\n",
       "      <th>mpg_city</th>\n",
       "      <th>mpg_highway</th>\n",
       "      <th>airbags</th>\n",
       "      <th>drive_train</th>\n",
       "      <th>...</th>\n",
       "      <th>passengers</th>\n",
       "      <th>length</th>\n",
       "      <th>wheelbase</th>\n",
       "      <th>width</th>\n",
       "      <th>turn_circle</th>\n",
       "      <th>rear_seat_room</th>\n",
       "      <th>luggage_room</th>\n",
       "      <th>weight</th>\n",
       "      <th>origin</th>\n",
       "      <th>make</th>\n",
       "    </tr>\n",
       "  </thead>\n",
       "  <tbody>\n",
       "    <tr>\n",
       "      <th>0</th>\n",
       "      <td>Chevrolet</td>\n",
       "      <td>Cavalier</td>\n",
       "      <td>Compact</td>\n",
       "      <td>8.5</td>\n",
       "      <td>13.4</td>\n",
       "      <td>18.3</td>\n",
       "      <td>25</td>\n",
       "      <td>36</td>\n",
       "      <td>None</td>\n",
       "      <td>Front</td>\n",
       "      <td>...</td>\n",
       "      <td>5</td>\n",
       "      <td>182</td>\n",
       "      <td>101</td>\n",
       "      <td>66</td>\n",
       "      <td>38</td>\n",
       "      <td>25.0</td>\n",
       "      <td>13.0</td>\n",
       "      <td>2490</td>\n",
       "      <td>USA</td>\n",
       "      <td>Chevrolet Cavalier</td>\n",
       "    </tr>\n",
       "    <tr>\n",
       "      <th>1</th>\n",
       "      <td>Chevrolet</td>\n",
       "      <td>Corsica</td>\n",
       "      <td>Compact</td>\n",
       "      <td>11.4</td>\n",
       "      <td>11.4</td>\n",
       "      <td>11.4</td>\n",
       "      <td>25</td>\n",
       "      <td>34</td>\n",
       "      <td>Driver only</td>\n",
       "      <td>Front</td>\n",
       "      <td>...</td>\n",
       "      <td>5</td>\n",
       "      <td>184</td>\n",
       "      <td>103</td>\n",
       "      <td>68</td>\n",
       "      <td>39</td>\n",
       "      <td>26.0</td>\n",
       "      <td>14.0</td>\n",
       "      <td>2785</td>\n",
       "      <td>USA</td>\n",
       "      <td>Chevrolet Corsica</td>\n",
       "    </tr>\n",
       "    <tr>\n",
       "      <th>2</th>\n",
       "      <td>Chevrolet</td>\n",
       "      <td>Camaro</td>\n",
       "      <td>Sporty</td>\n",
       "      <td>13.4</td>\n",
       "      <td>15.1</td>\n",
       "      <td>16.8</td>\n",
       "      <td>19</td>\n",
       "      <td>28</td>\n",
       "      <td>Driver &amp; Passenger</td>\n",
       "      <td>Rear</td>\n",
       "      <td>...</td>\n",
       "      <td>4</td>\n",
       "      <td>193</td>\n",
       "      <td>101</td>\n",
       "      <td>74</td>\n",
       "      <td>43</td>\n",
       "      <td>25.0</td>\n",
       "      <td>13.0</td>\n",
       "      <td>3240</td>\n",
       "      <td>USA</td>\n",
       "      <td>Chevrolet Camaro</td>\n",
       "    </tr>\n",
       "    <tr>\n",
       "      <th>3</th>\n",
       "      <td>Chevrolet</td>\n",
       "      <td>Lumina</td>\n",
       "      <td>Midsize</td>\n",
       "      <td>13.4</td>\n",
       "      <td>15.9</td>\n",
       "      <td>18.4</td>\n",
       "      <td>21</td>\n",
       "      <td>29</td>\n",
       "      <td>None</td>\n",
       "      <td>Front</td>\n",
       "      <td>...</td>\n",
       "      <td>6</td>\n",
       "      <td>198</td>\n",
       "      <td>108</td>\n",
       "      <td>71</td>\n",
       "      <td>40</td>\n",
       "      <td>28.5</td>\n",
       "      <td>16.0</td>\n",
       "      <td>3195</td>\n",
       "      <td>USA</td>\n",
       "      <td>Chevrolet Lumina</td>\n",
       "    </tr>\n",
       "    <tr>\n",
       "      <th>4</th>\n",
       "      <td>Chevrolet</td>\n",
       "      <td>Lumina_APV</td>\n",
       "      <td>Van</td>\n",
       "      <td>14.7</td>\n",
       "      <td>16.3</td>\n",
       "      <td>18.0</td>\n",
       "      <td>18</td>\n",
       "      <td>23</td>\n",
       "      <td>None</td>\n",
       "      <td>Front</td>\n",
       "      <td>...</td>\n",
       "      <td>7</td>\n",
       "      <td>178</td>\n",
       "      <td>110</td>\n",
       "      <td>74</td>\n",
       "      <td>44</td>\n",
       "      <td>30.5</td>\n",
       "      <td>NaN</td>\n",
       "      <td>3715</td>\n",
       "      <td>USA</td>\n",
       "      <td>Chevrolet Lumina_APV</td>\n",
       "    </tr>\n",
       "  </tbody>\n",
       "</table>\n",
       "<p>5 rows × 27 columns</p>\n",
       "</div>"
      ],
      "text/plain": [
       "  manufacturer       model     type  min_price  price  max_price  mpg_city  \\\n",
       "0    Chevrolet    Cavalier  Compact        8.5   13.4       18.3        25   \n",
       "1    Chevrolet     Corsica  Compact       11.4   11.4       11.4        25   \n",
       "2    Chevrolet      Camaro   Sporty       13.4   15.1       16.8        19   \n",
       "3    Chevrolet      Lumina  Midsize       13.4   15.9       18.4        21   \n",
       "4    Chevrolet  Lumina_APV      Van       14.7   16.3       18.0        18   \n",
       "\n",
       "   mpg_highway             airbags drive_train  ...  passengers  length  \\\n",
       "0           36                None       Front  ...           5     182   \n",
       "1           34         Driver only       Front  ...           5     184   \n",
       "2           28  Driver & Passenger        Rear  ...           4     193   \n",
       "3           29                None       Front  ...           6     198   \n",
       "4           23                None       Front  ...           7     178   \n",
       "\n",
       "   wheelbase  width  turn_circle rear_seat_room  luggage_room  weight  origin  \\\n",
       "0        101     66           38           25.0          13.0    2490     USA   \n",
       "1        103     68           39           26.0          14.0    2785     USA   \n",
       "2        101     74           43           25.0          13.0    3240     USA   \n",
       "3        108     71           40           28.5          16.0    3195     USA   \n",
       "4        110     74           44           30.5           NaN    3715     USA   \n",
       "\n",
       "                   make  \n",
       "0    Chevrolet Cavalier  \n",
       "1     Chevrolet Corsica  \n",
       "2      Chevrolet Camaro  \n",
       "3      Chevrolet Lumina  \n",
       "4  Chevrolet Lumina_APV  \n",
       "\n",
       "[5 rows x 27 columns]"
      ]
     },
     "execution_count": 25,
     "metadata": {},
     "output_type": "execute_result"
    }
   ],
   "source": [
    "car = pd.read_excel(r'data/cars.xlsx')\n",
    "car.head()"
   ]
  },
  {
   "cell_type": "code",
   "execution_count": 26,
   "metadata": {},
   "outputs": [
    {
     "data": {
      "text/html": [
       "<div>\n",
       "<style scoped>\n",
       "    .dataframe tbody tr th:only-of-type {\n",
       "        vertical-align: middle;\n",
       "    }\n",
       "\n",
       "    .dataframe tbody tr th {\n",
       "        vertical-align: top;\n",
       "    }\n",
       "\n",
       "    .dataframe thead th {\n",
       "        text-align: right;\n",
       "    }\n",
       "</style>\n",
       "<table border=\"1\" class=\"dataframe\">\n",
       "  <thead>\n",
       "    <tr style=\"text-align: right;\">\n",
       "      <th></th>\n",
       "      <th>min_price</th>\n",
       "      <th>price</th>\n",
       "      <th>max_price</th>\n",
       "      <th>mpg_city</th>\n",
       "      <th>mpg_highway</th>\n",
       "      <th>cylinders</th>\n",
       "      <th>engine_size</th>\n",
       "      <th>horsepower</th>\n",
       "      <th>rpm</th>\n",
       "      <th>rev_per_mile</th>\n",
       "      <th>fuel_tank_capacity</th>\n",
       "      <th>passengers</th>\n",
       "      <th>length</th>\n",
       "      <th>wheelbase</th>\n",
       "      <th>width</th>\n",
       "      <th>turn_circle</th>\n",
       "      <th>rear_seat_room</th>\n",
       "      <th>luggage_room</th>\n",
       "      <th>weight</th>\n",
       "    </tr>\n",
       "  </thead>\n",
       "  <tbody>\n",
       "    <tr>\n",
       "      <th>min_price</th>\n",
       "      <td>1.000000</td>\n",
       "      <td>0.971079</td>\n",
       "      <td>0.901655</td>\n",
       "      <td>-0.558136</td>\n",
       "      <td>-0.491793</td>\n",
       "      <td>0.745531</td>\n",
       "      <td>0.545440</td>\n",
       "      <td>0.938509</td>\n",
       "      <td>-0.059048</td>\n",
       "      <td>-0.515629</td>\n",
       "      <td>0.556904</td>\n",
       "      <td>-0.232101</td>\n",
       "      <td>0.316236</td>\n",
       "      <td>0.200121</td>\n",
       "      <td>0.515359</td>\n",
       "      <td>0.448681</td>\n",
       "      <td>0.357360</td>\n",
       "      <td>0.595768</td>\n",
       "      <td>0.514545</td>\n",
       "    </tr>\n",
       "    <tr>\n",
       "      <th>price</th>\n",
       "      <td>0.971079</td>\n",
       "      <td>1.000000</td>\n",
       "      <td>0.976673</td>\n",
       "      <td>-0.539219</td>\n",
       "      <td>-0.473897</td>\n",
       "      <td>0.678956</td>\n",
       "      <td>0.542223</td>\n",
       "      <td>0.917073</td>\n",
       "      <td>-0.063453</td>\n",
       "      <td>-0.502146</td>\n",
       "      <td>0.552320</td>\n",
       "      <td>-0.209765</td>\n",
       "      <td>0.313810</td>\n",
       "      <td>0.251057</td>\n",
       "      <td>0.496262</td>\n",
       "      <td>0.496714</td>\n",
       "      <td>0.320072</td>\n",
       "      <td>0.503250</td>\n",
       "      <td>0.527332</td>\n",
       "    </tr>\n",
       "    <tr>\n",
       "      <th>max_price</th>\n",
       "      <td>0.901655</td>\n",
       "      <td>0.976673</td>\n",
       "      <td>1.000000</td>\n",
       "      <td>-0.504451</td>\n",
       "      <td>-0.440755</td>\n",
       "      <td>0.600089</td>\n",
       "      <td>0.521714</td>\n",
       "      <td>0.861826</td>\n",
       "      <td>-0.071574</td>\n",
       "      <td>-0.475777</td>\n",
       "      <td>0.522152</td>\n",
       "      <td>-0.184077</td>\n",
       "      <td>0.303353</td>\n",
       "      <td>0.282854</td>\n",
       "      <td>0.465735</td>\n",
       "      <td>0.527805</td>\n",
       "      <td>0.250954</td>\n",
       "      <td>0.373321</td>\n",
       "      <td>0.519918</td>\n",
       "    </tr>\n",
       "    <tr>\n",
       "      <th>mpg_city</th>\n",
       "      <td>-0.558136</td>\n",
       "      <td>-0.539219</td>\n",
       "      <td>-0.504451</td>\n",
       "      <td>1.000000</td>\n",
       "      <td>0.939222</td>\n",
       "      <td>-0.665439</td>\n",
       "      <td>-0.677867</td>\n",
       "      <td>-0.629974</td>\n",
       "      <td>0.470358</td>\n",
       "      <td>0.662816</td>\n",
       "      <td>-0.765252</td>\n",
       "      <td>-0.357147</td>\n",
       "      <td>-0.577726</td>\n",
       "      <td>-0.528733</td>\n",
       "      <td>-0.743325</td>\n",
       "      <td>-0.733358</td>\n",
       "      <td>-0.388034</td>\n",
       "      <td>-0.420973</td>\n",
       "      <td>-0.804700</td>\n",
       "    </tr>\n",
       "    <tr>\n",
       "      <th>mpg_highway</th>\n",
       "      <td>-0.491793</td>\n",
       "      <td>-0.473897</td>\n",
       "      <td>-0.440755</td>\n",
       "      <td>0.939222</td>\n",
       "      <td>1.000000</td>\n",
       "      <td>-0.599360</td>\n",
       "      <td>-0.617667</td>\n",
       "      <td>-0.548539</td>\n",
       "      <td>0.473191</td>\n",
       "      <td>0.544989</td>\n",
       "      <td>-0.781684</td>\n",
       "      <td>-0.463025</td>\n",
       "      <td>-0.418777</td>\n",
       "      <td>-0.526222</td>\n",
       "      <td>-0.693519</td>\n",
       "      <td>-0.668548</td>\n",
       "      <td>-0.499348</td>\n",
       "      <td>-0.371603</td>\n",
       "      <td>-0.778334</td>\n",
       "    </tr>\n",
       "    <tr>\n",
       "      <th>cylinders</th>\n",
       "      <td>0.745531</td>\n",
       "      <td>0.678956</td>\n",
       "      <td>0.600089</td>\n",
       "      <td>-0.665439</td>\n",
       "      <td>-0.599360</td>\n",
       "      <td>1.000000</td>\n",
       "      <td>0.941868</td>\n",
       "      <td>0.772989</td>\n",
       "      <td>-0.674820</td>\n",
       "      <td>-0.908579</td>\n",
       "      <td>0.679140</td>\n",
       "      <td>0.251775</td>\n",
       "      <td>0.691319</td>\n",
       "      <td>0.582597</td>\n",
       "      <td>0.846939</td>\n",
       "      <td>0.692120</td>\n",
       "      <td>0.388644</td>\n",
       "      <td>0.673299</td>\n",
       "      <td>0.812808</td>\n",
       "    </tr>\n",
       "    <tr>\n",
       "      <th>engine_size</th>\n",
       "      <td>0.545440</td>\n",
       "      <td>0.542223</td>\n",
       "      <td>0.521714</td>\n",
       "      <td>-0.677867</td>\n",
       "      <td>-0.617667</td>\n",
       "      <td>0.941868</td>\n",
       "      <td>1.000000</td>\n",
       "      <td>0.664998</td>\n",
       "      <td>-0.714645</td>\n",
       "      <td>-0.884187</td>\n",
       "      <td>0.748369</td>\n",
       "      <td>0.340608</td>\n",
       "      <td>0.736448</td>\n",
       "      <td>0.606968</td>\n",
       "      <td>0.894824</td>\n",
       "      <td>0.780443</td>\n",
       "      <td>0.490492</td>\n",
       "      <td>0.666574</td>\n",
       "      <td>0.853808</td>\n",
       "    </tr>\n",
       "    <tr>\n",
       "      <th>horsepower</th>\n",
       "      <td>0.938509</td>\n",
       "      <td>0.917073</td>\n",
       "      <td>0.861826</td>\n",
       "      <td>-0.629974</td>\n",
       "      <td>-0.548539</td>\n",
       "      <td>0.772989</td>\n",
       "      <td>0.664998</td>\n",
       "      <td>1.000000</td>\n",
       "      <td>-0.110788</td>\n",
       "      <td>-0.639609</td>\n",
       "      <td>0.604573</td>\n",
       "      <td>-0.143859</td>\n",
       "      <td>0.405367</td>\n",
       "      <td>0.252441</td>\n",
       "      <td>0.639251</td>\n",
       "      <td>0.591460</td>\n",
       "      <td>0.411866</td>\n",
       "      <td>0.417208</td>\n",
       "      <td>0.615692</td>\n",
       "    </tr>\n",
       "    <tr>\n",
       "      <th>rpm</th>\n",
       "      <td>-0.059048</td>\n",
       "      <td>-0.063453</td>\n",
       "      <td>-0.071574</td>\n",
       "      <td>0.470358</td>\n",
       "      <td>0.473191</td>\n",
       "      <td>-0.674820</td>\n",
       "      <td>-0.714645</td>\n",
       "      <td>-0.110788</td>\n",
       "      <td>1.000000</td>\n",
       "      <td>0.605426</td>\n",
       "      <td>-0.535646</td>\n",
       "      <td>-0.472883</td>\n",
       "      <td>-0.566671</td>\n",
       "      <td>-0.511633</td>\n",
       "      <td>-0.677483</td>\n",
       "      <td>-0.573043</td>\n",
       "      <td>-0.289607</td>\n",
       "      <td>-0.518282</td>\n",
       "      <td>-0.630208</td>\n",
       "    </tr>\n",
       "    <tr>\n",
       "      <th>rev_per_mile</th>\n",
       "      <td>-0.515629</td>\n",
       "      <td>-0.502146</td>\n",
       "      <td>-0.475777</td>\n",
       "      <td>0.662816</td>\n",
       "      <td>0.544989</td>\n",
       "      <td>-0.908579</td>\n",
       "      <td>-0.884187</td>\n",
       "      <td>-0.639609</td>\n",
       "      <td>0.605426</td>\n",
       "      <td>1.000000</td>\n",
       "      <td>-0.670614</td>\n",
       "      <td>-0.252564</td>\n",
       "      <td>-0.735556</td>\n",
       "      <td>-0.572620</td>\n",
       "      <td>-0.857080</td>\n",
       "      <td>-0.730246</td>\n",
       "      <td>-0.365538</td>\n",
       "      <td>-0.666519</td>\n",
       "      <td>-0.799162</td>\n",
       "    </tr>\n",
       "    <tr>\n",
       "      <th>fuel_tank_capacity</th>\n",
       "      <td>0.556904</td>\n",
       "      <td>0.552320</td>\n",
       "      <td>0.522152</td>\n",
       "      <td>-0.765252</td>\n",
       "      <td>-0.781684</td>\n",
       "      <td>0.679140</td>\n",
       "      <td>0.748369</td>\n",
       "      <td>0.604573</td>\n",
       "      <td>-0.535646</td>\n",
       "      <td>-0.670614</td>\n",
       "      <td>1.000000</td>\n",
       "      <td>0.580955</td>\n",
       "      <td>0.630456</td>\n",
       "      <td>0.751763</td>\n",
       "      <td>0.822755</td>\n",
       "      <td>0.663501</td>\n",
       "      <td>0.719113</td>\n",
       "      <td>0.727965</td>\n",
       "      <td>0.891421</td>\n",
       "    </tr>\n",
       "    <tr>\n",
       "      <th>passengers</th>\n",
       "      <td>-0.232101</td>\n",
       "      <td>-0.209765</td>\n",
       "      <td>-0.184077</td>\n",
       "      <td>-0.357147</td>\n",
       "      <td>-0.463025</td>\n",
       "      <td>0.251775</td>\n",
       "      <td>0.340608</td>\n",
       "      <td>-0.143859</td>\n",
       "      <td>-0.472883</td>\n",
       "      <td>-0.252564</td>\n",
       "      <td>0.580955</td>\n",
       "      <td>1.000000</td>\n",
       "      <td>0.405528</td>\n",
       "      <td>0.725495</td>\n",
       "      <td>0.437890</td>\n",
       "      <td>0.320863</td>\n",
       "      <td>0.811126</td>\n",
       "      <td>0.609127</td>\n",
       "      <td>0.584612</td>\n",
       "    </tr>\n",
       "    <tr>\n",
       "      <th>length</th>\n",
       "      <td>0.316236</td>\n",
       "      <td>0.313810</td>\n",
       "      <td>0.303353</td>\n",
       "      <td>-0.577726</td>\n",
       "      <td>-0.418777</td>\n",
       "      <td>0.691319</td>\n",
       "      <td>0.736448</td>\n",
       "      <td>0.405367</td>\n",
       "      <td>-0.566671</td>\n",
       "      <td>-0.735556</td>\n",
       "      <td>0.630456</td>\n",
       "      <td>0.405528</td>\n",
       "      <td>1.000000</td>\n",
       "      <td>0.746616</td>\n",
       "      <td>0.814369</td>\n",
       "      <td>0.719119</td>\n",
       "      <td>0.347985</td>\n",
       "      <td>0.682402</td>\n",
       "      <td>0.805469</td>\n",
       "    </tr>\n",
       "    <tr>\n",
       "      <th>wheelbase</th>\n",
       "      <td>0.200121</td>\n",
       "      <td>0.251057</td>\n",
       "      <td>0.282854</td>\n",
       "      <td>-0.528733</td>\n",
       "      <td>-0.526222</td>\n",
       "      <td>0.582597</td>\n",
       "      <td>0.606968</td>\n",
       "      <td>0.252441</td>\n",
       "      <td>-0.511633</td>\n",
       "      <td>-0.572620</td>\n",
       "      <td>0.751763</td>\n",
       "      <td>0.725495</td>\n",
       "      <td>0.746616</td>\n",
       "      <td>1.000000</td>\n",
       "      <td>0.717881</td>\n",
       "      <td>0.686518</td>\n",
       "      <td>0.639859</td>\n",
       "      <td>0.798047</td>\n",
       "      <td>0.842657</td>\n",
       "    </tr>\n",
       "    <tr>\n",
       "      <th>width</th>\n",
       "      <td>0.515359</td>\n",
       "      <td>0.496262</td>\n",
       "      <td>0.465735</td>\n",
       "      <td>-0.743325</td>\n",
       "      <td>-0.693519</td>\n",
       "      <td>0.846939</td>\n",
       "      <td>0.894824</td>\n",
       "      <td>0.639251</td>\n",
       "      <td>-0.677483</td>\n",
       "      <td>-0.857080</td>\n",
       "      <td>0.822755</td>\n",
       "      <td>0.437890</td>\n",
       "      <td>0.814369</td>\n",
       "      <td>0.717881</td>\n",
       "      <td>1.000000</td>\n",
       "      <td>0.834073</td>\n",
       "      <td>0.490222</td>\n",
       "      <td>0.641162</td>\n",
       "      <td>0.933988</td>\n",
       "    </tr>\n",
       "    <tr>\n",
       "      <th>turn_circle</th>\n",
       "      <td>0.448681</td>\n",
       "      <td>0.496714</td>\n",
       "      <td>0.527805</td>\n",
       "      <td>-0.733358</td>\n",
       "      <td>-0.668548</td>\n",
       "      <td>0.692120</td>\n",
       "      <td>0.780443</td>\n",
       "      <td>0.591460</td>\n",
       "      <td>-0.573043</td>\n",
       "      <td>-0.730246</td>\n",
       "      <td>0.663501</td>\n",
       "      <td>0.320863</td>\n",
       "      <td>0.719119</td>\n",
       "      <td>0.686518</td>\n",
       "      <td>0.834073</td>\n",
       "      <td>1.000000</td>\n",
       "      <td>0.372714</td>\n",
       "      <td>0.429187</td>\n",
       "      <td>0.844033</td>\n",
       "    </tr>\n",
       "    <tr>\n",
       "      <th>rear_seat_room</th>\n",
       "      <td>0.357360</td>\n",
       "      <td>0.320072</td>\n",
       "      <td>0.250954</td>\n",
       "      <td>-0.388034</td>\n",
       "      <td>-0.499348</td>\n",
       "      <td>0.388644</td>\n",
       "      <td>0.490492</td>\n",
       "      <td>0.411866</td>\n",
       "      <td>-0.289607</td>\n",
       "      <td>-0.365538</td>\n",
       "      <td>0.719113</td>\n",
       "      <td>0.811126</td>\n",
       "      <td>0.347985</td>\n",
       "      <td>0.639859</td>\n",
       "      <td>0.490222</td>\n",
       "      <td>0.372714</td>\n",
       "      <td>1.000000</td>\n",
       "      <td>0.527825</td>\n",
       "      <td>0.595865</td>\n",
       "    </tr>\n",
       "    <tr>\n",
       "      <th>luggage_room</th>\n",
       "      <td>0.595768</td>\n",
       "      <td>0.503250</td>\n",
       "      <td>0.373321</td>\n",
       "      <td>-0.420973</td>\n",
       "      <td>-0.371603</td>\n",
       "      <td>0.673299</td>\n",
       "      <td>0.666574</td>\n",
       "      <td>0.417208</td>\n",
       "      <td>-0.518282</td>\n",
       "      <td>-0.666519</td>\n",
       "      <td>0.727965</td>\n",
       "      <td>0.609127</td>\n",
       "      <td>0.682402</td>\n",
       "      <td>0.798047</td>\n",
       "      <td>0.641162</td>\n",
       "      <td>0.429187</td>\n",
       "      <td>0.527825</td>\n",
       "      <td>1.000000</td>\n",
       "      <td>0.684413</td>\n",
       "    </tr>\n",
       "    <tr>\n",
       "      <th>weight</th>\n",
       "      <td>0.514545</td>\n",
       "      <td>0.527332</td>\n",
       "      <td>0.519918</td>\n",
       "      <td>-0.804700</td>\n",
       "      <td>-0.778334</td>\n",
       "      <td>0.812808</td>\n",
       "      <td>0.853808</td>\n",
       "      <td>0.615692</td>\n",
       "      <td>-0.630208</td>\n",
       "      <td>-0.799162</td>\n",
       "      <td>0.891421</td>\n",
       "      <td>0.584612</td>\n",
       "      <td>0.805469</td>\n",
       "      <td>0.842657</td>\n",
       "      <td>0.933988</td>\n",
       "      <td>0.844033</td>\n",
       "      <td>0.595865</td>\n",
       "      <td>0.684413</td>\n",
       "      <td>1.000000</td>\n",
       "    </tr>\n",
       "  </tbody>\n",
       "</table>\n",
       "</div>"
      ],
      "text/plain": [
       "                    min_price     price  max_price  mpg_city  mpg_highway  \\\n",
       "min_price            1.000000  0.971079   0.901655 -0.558136    -0.491793   \n",
       "price                0.971079  1.000000   0.976673 -0.539219    -0.473897   \n",
       "max_price            0.901655  0.976673   1.000000 -0.504451    -0.440755   \n",
       "mpg_city            -0.558136 -0.539219  -0.504451  1.000000     0.939222   \n",
       "mpg_highway         -0.491793 -0.473897  -0.440755  0.939222     1.000000   \n",
       "cylinders            0.745531  0.678956   0.600089 -0.665439    -0.599360   \n",
       "engine_size          0.545440  0.542223   0.521714 -0.677867    -0.617667   \n",
       "horsepower           0.938509  0.917073   0.861826 -0.629974    -0.548539   \n",
       "rpm                 -0.059048 -0.063453  -0.071574  0.470358     0.473191   \n",
       "rev_per_mile        -0.515629 -0.502146  -0.475777  0.662816     0.544989   \n",
       "fuel_tank_capacity   0.556904  0.552320   0.522152 -0.765252    -0.781684   \n",
       "passengers          -0.232101 -0.209765  -0.184077 -0.357147    -0.463025   \n",
       "length               0.316236  0.313810   0.303353 -0.577726    -0.418777   \n",
       "wheelbase            0.200121  0.251057   0.282854 -0.528733    -0.526222   \n",
       "width                0.515359  0.496262   0.465735 -0.743325    -0.693519   \n",
       "turn_circle          0.448681  0.496714   0.527805 -0.733358    -0.668548   \n",
       "rear_seat_room       0.357360  0.320072   0.250954 -0.388034    -0.499348   \n",
       "luggage_room         0.595768  0.503250   0.373321 -0.420973    -0.371603   \n",
       "weight               0.514545  0.527332   0.519918 -0.804700    -0.778334   \n",
       "\n",
       "                    cylinders  engine_size  horsepower       rpm  \\\n",
       "min_price            0.745531     0.545440    0.938509 -0.059048   \n",
       "price                0.678956     0.542223    0.917073 -0.063453   \n",
       "max_price            0.600089     0.521714    0.861826 -0.071574   \n",
       "mpg_city            -0.665439    -0.677867   -0.629974  0.470358   \n",
       "mpg_highway         -0.599360    -0.617667   -0.548539  0.473191   \n",
       "cylinders            1.000000     0.941868    0.772989 -0.674820   \n",
       "engine_size          0.941868     1.000000    0.664998 -0.714645   \n",
       "horsepower           0.772989     0.664998    1.000000 -0.110788   \n",
       "rpm                 -0.674820    -0.714645   -0.110788  1.000000   \n",
       "rev_per_mile        -0.908579    -0.884187   -0.639609  0.605426   \n",
       "fuel_tank_capacity   0.679140     0.748369    0.604573 -0.535646   \n",
       "passengers           0.251775     0.340608   -0.143859 -0.472883   \n",
       "length               0.691319     0.736448    0.405367 -0.566671   \n",
       "wheelbase            0.582597     0.606968    0.252441 -0.511633   \n",
       "width                0.846939     0.894824    0.639251 -0.677483   \n",
       "turn_circle          0.692120     0.780443    0.591460 -0.573043   \n",
       "rear_seat_room       0.388644     0.490492    0.411866 -0.289607   \n",
       "luggage_room         0.673299     0.666574    0.417208 -0.518282   \n",
       "weight               0.812808     0.853808    0.615692 -0.630208   \n",
       "\n",
       "                    rev_per_mile  fuel_tank_capacity  passengers    length  \\\n",
       "min_price              -0.515629            0.556904   -0.232101  0.316236   \n",
       "price                  -0.502146            0.552320   -0.209765  0.313810   \n",
       "max_price              -0.475777            0.522152   -0.184077  0.303353   \n",
       "mpg_city                0.662816           -0.765252   -0.357147 -0.577726   \n",
       "mpg_highway             0.544989           -0.781684   -0.463025 -0.418777   \n",
       "cylinders              -0.908579            0.679140    0.251775  0.691319   \n",
       "engine_size            -0.884187            0.748369    0.340608  0.736448   \n",
       "horsepower             -0.639609            0.604573   -0.143859  0.405367   \n",
       "rpm                     0.605426           -0.535646   -0.472883 -0.566671   \n",
       "rev_per_mile            1.000000           -0.670614   -0.252564 -0.735556   \n",
       "fuel_tank_capacity     -0.670614            1.000000    0.580955  0.630456   \n",
       "passengers             -0.252564            0.580955    1.000000  0.405528   \n",
       "length                 -0.735556            0.630456    0.405528  1.000000   \n",
       "wheelbase              -0.572620            0.751763    0.725495  0.746616   \n",
       "width                  -0.857080            0.822755    0.437890  0.814369   \n",
       "turn_circle            -0.730246            0.663501    0.320863  0.719119   \n",
       "rear_seat_room         -0.365538            0.719113    0.811126  0.347985   \n",
       "luggage_room           -0.666519            0.727965    0.609127  0.682402   \n",
       "weight                 -0.799162            0.891421    0.584612  0.805469   \n",
       "\n",
       "                    wheelbase     width  turn_circle  rear_seat_room  \\\n",
       "min_price            0.200121  0.515359     0.448681        0.357360   \n",
       "price                0.251057  0.496262     0.496714        0.320072   \n",
       "max_price            0.282854  0.465735     0.527805        0.250954   \n",
       "mpg_city            -0.528733 -0.743325    -0.733358       -0.388034   \n",
       "mpg_highway         -0.526222 -0.693519    -0.668548       -0.499348   \n",
       "cylinders            0.582597  0.846939     0.692120        0.388644   \n",
       "engine_size          0.606968  0.894824     0.780443        0.490492   \n",
       "horsepower           0.252441  0.639251     0.591460        0.411866   \n",
       "rpm                 -0.511633 -0.677483    -0.573043       -0.289607   \n",
       "rev_per_mile        -0.572620 -0.857080    -0.730246       -0.365538   \n",
       "fuel_tank_capacity   0.751763  0.822755     0.663501        0.719113   \n",
       "passengers           0.725495  0.437890     0.320863        0.811126   \n",
       "length               0.746616  0.814369     0.719119        0.347985   \n",
       "wheelbase            1.000000  0.717881     0.686518        0.639859   \n",
       "width                0.717881  1.000000     0.834073        0.490222   \n",
       "turn_circle          0.686518  0.834073     1.000000        0.372714   \n",
       "rear_seat_room       0.639859  0.490222     0.372714        1.000000   \n",
       "luggage_room         0.798047  0.641162     0.429187        0.527825   \n",
       "weight               0.842657  0.933988     0.844033        0.595865   \n",
       "\n",
       "                    luggage_room    weight  \n",
       "min_price               0.595768  0.514545  \n",
       "price                   0.503250  0.527332  \n",
       "max_price               0.373321  0.519918  \n",
       "mpg_city               -0.420973 -0.804700  \n",
       "mpg_highway            -0.371603 -0.778334  \n",
       "cylinders               0.673299  0.812808  \n",
       "engine_size             0.666574  0.853808  \n",
       "horsepower              0.417208  0.615692  \n",
       "rpm                    -0.518282 -0.630208  \n",
       "rev_per_mile           -0.666519 -0.799162  \n",
       "fuel_tank_capacity      0.727965  0.891421  \n",
       "passengers              0.609127  0.584612  \n",
       "length                  0.682402  0.805469  \n",
       "wheelbase               0.798047  0.842657  \n",
       "width                   0.641162  0.933988  \n",
       "turn_circle             0.429187  0.844033  \n",
       "rear_seat_room          0.527825  0.595865  \n",
       "luggage_room            1.000000  0.684413  \n",
       "weight                  0.684413  1.000000  "
      ]
     },
     "execution_count": 26,
     "metadata": {},
     "output_type": "execute_result"
    }
   ],
   "source": [
    "car.corr()"
   ]
  },
  {
   "cell_type": "code",
   "execution_count": 27,
   "metadata": {},
   "outputs": [
    {
     "data": {
      "image/png": "[encoded data removed]",
      "text/plain": [
       "<Figure size 720x720 with 2 Axes>"
      ]
     },
     "metadata": {},
     "output_type": "display_data"
    }
   ],
   "source": [
    "plt.figure(figsize=(10,10))\n",
    "_ = sns.heatmap(car.corr(), cmap=sns.color_palette('RdBu', 9), square=True)"
   ]
  },
  {
   "cell_type": "code",
   "execution_count": 28,
   "metadata": {},
   "outputs": [
    {
     "data": {
      "image/png": "[encoded data removed]",
      "text/plain": [
       "<Figure size 360x360 with 2 Axes>"
      ]
     },
     "metadata": {},
     "output_type": "display_data"
    }
   ],
   "source": [
    "subset = [\n",
    "    'fuel_tank_capacity', 'passengers', 'length', 'wheelbase', 'width',\n",
    "    'turn_circle', 'rear_seat_room', 'luggage_room', 'weight'\n",
    "]\n",
    "\n",
    "plt.figure(figsize=(5,5))\n",
    "_ = sns.heatmap(car[subset].corr(), cmap=sns.color_palette('BuGn'), square=True)"
   ]
  },
  {
   "cell_type": "markdown",
   "metadata": {},
   "source": [
    "**Tình huống 4:** Tính hệ số tương quan giữa các biến định lượng trong file `supermarket_sales.csv`. Sau đó vẽ biểu đồ biểu thị mức độ tương quan giữa các biến đó."
   ]
  },
  {
   "cell_type": "markdown",
   "metadata": {},
   "source": [
    "## 7. Histogram\n",
    "Histogram là biểu đồ thống kê biểu diễn phân bố tần suất của 1 thuộc tính định lượng. Histogram thường dễ bị nhầm lẫn với Bar plot, nhưng thực tế chúng khác nhau hoàn toàn, bởi trục x của Histogram biểu diễn một thuộc tính định lượng. Tác dụng của histogram:\n",
    "- Quan sát phân bố của tập dữ liệu lớn\n",
    "- Xem tính đối xứng và độ rộng dữ liệu\n",
    "- Đường KDE (Kernel Density Estimator) cho biết hình dạng phân phối của dữ liệu"
   ]
  },
  {
   "cell_type": "code",
   "execution_count": null,
   "metadata": {},
   "outputs": [],
   "source": [
    "import numpy as np\n",
    "import pandas as pd\n",
    "import matplotlib.pyplot as plt\n",
    "import seaborn as sns\n",
    "sns.set_style('whitegrid'); sns.set_palette('deep')"
   ]
  },
  {
   "cell_type": "markdown",
   "metadata": {},
   "source": [
    "#### Histogram cơ bản"
   ]
  },
  {
   "cell_type": "code",
   "execution_count": null,
   "metadata": {},
   "outputs": [],
   "source": [
    "np.random.seed(0)\n",
    "x = np.random.normal(size=1000)\n",
    "\n",
    "plt.figure(figsize = (10,5))\n",
    "_ = sns.distplot(x, color='darkred')"
   ]
  },
  {
   "cell_type": "code",
   "execution_count": null,
   "metadata": {},
   "outputs": [],
   "source": [
    "np.random.seed(0)\n",
    "x = np.random.normal(size=1000)\n",
    "\n",
    "plt.figure(figsize = (10,5))\n",
    "_ = sns.distplot(x, color='darkred', bins=10)"
   ]
  },
  {
   "cell_type": "markdown",
   "metadata": {},
   "source": [
    "#### Histogram với 2 chiều thông tin"
   ]
  },
  {
   "cell_type": "code",
   "execution_count": null,
   "metadata": {},
   "outputs": [],
   "source": [
    "tips = sns.load_dataset('tips')\n",
    "tips"
   ]
  },
  {
   "cell_type": "code",
   "execution_count": null,
   "metadata": {},
   "outputs": [],
   "source": [
    "_ = sns.jointplot(data=tips, x='total_bill', y='tip', kind='reg', color='steelblue')"
   ]
  },
  {
   "cell_type": "code",
   "execution_count": null,
   "metadata": {},
   "outputs": [],
   "source": [
    "_ = sns.jointplot(data=tips, x='total_bill', y='tip', kind='hex', color='steelblue')"
   ]
  },
  {
   "cell_type": "code",
   "execution_count": null,
   "metadata": {},
   "outputs": [],
   "source": [
    "_ = sns.jointplot(data=tips, x='total_bill', y='tip', kind='kde', color='steelblue')"
   ]
  },
  {
   "cell_type": "markdown",
   "metadata": {},
   "source": [
    "**Tình huống 5:** Với dữ liệu trong file `cars.xlsx`, vẽ histogram thể hiện sự phân bổ các giá trị mã lực (horsepower) của tất cả ô tô."
   ]
  },
  {
   "cell_type": "markdown",
   "metadata": {},
   "source": [
    "## 8. Box plot\n",
    "Box plot (biểu đồ hộp) là cách biểu diễn dữ liệu với 3 điểm tứ phân vị (chia tập dữ liệu thành 4 phần bằng nhau). Boxplot cho biết:\n",
    "- Nhận biết vị trí của dữ liệu dựa vào trung vị và sự dàn trải của dữ liệu\n",
    "- Nhận biết độ lệch phân phối của dữ liệu\n",
    "- Nhận biết các giá trị ngoại biên trong tập dữ liệu\n",
    "\n",
    "Box plot thể hiển được 3 chiều thông tin:\n",
    "- **Trục x:** thuộc tính Category\n",
    "- **Trục y:** thuộc tính Value\n",
    "- **Màu sắc:** thuộc tính Category"
   ]
  },
  {
   "cell_type": "code",
   "execution_count": null,
   "metadata": {},
   "outputs": [],
   "source": [
    "import numpy as np\n",
    "import pandas as pd\n",
    "import matplotlib.pyplot as plt\n",
    "import seaborn as sns\n",
    "sns.set_style('whitegrid'); sns.set_palette('deep')"
   ]
  },
  {
   "cell_type": "code",
   "execution_count": null,
   "metadata": {},
   "outputs": [],
   "source": [
    "tips = sns.load_dataset('tips')\n",
    "tips.head()"
   ]
  },
  {
   "cell_type": "markdown",
   "metadata": {},
   "source": [
    "#### Boxplot đơn với 1 thuộc tính"
   ]
  },
  {
   "cell_type": "code",
   "execution_count": null,
   "metadata": {},
   "outputs": [],
   "source": [
    "_ = sns.boxplot(tips.total_bill)"
   ]
  },
  {
   "cell_type": "markdown",
   "metadata": {},
   "source": [
    "#### Boxplot với 3 hoặc 4 chiều thông tin"
   ]
  },
  {
   "cell_type": "code",
   "execution_count": null,
   "metadata": {},
   "outputs": [],
   "source": [
    "plt.figure(figsize=(9,6))\n",
    "_ = sns.boxplot( data=tips, x='day', y='total_bill', hue='smoker')"
   ]
  },
  {
   "cell_type": "code",
   "execution_count": null,
   "metadata": {},
   "outputs": [],
   "source": [
    "_ = sns.catplot(data=tips, x='day', y='total_bill', hue='smoker', col='sex', kind='box', height=4)"
   ]
  },
  {
   "cell_type": "markdown",
   "metadata": {},
   "source": [
    "**Tình huống 6:** Vẽ biểu đồ biểu diễn phân phối lợi nhuận của 3 nhãn hàng với dữ liệu trong file `supermarket_sales.csv`"
   ]
  },
  {
   "cell_type": "markdown",
   "metadata": {},
   "source": [
    "## 9. Scatter plot\n",
    "Scatter plot (biểu đồ phân tán) biểu diễn các mật độ phân bố các điểm dữ liệu trên biểu đồ; và rất mạnh trong việc biểu thị mối tương quan giữa 2 biến định lượng. Scatter plot thể hiện được từ 3-5 chiều thông tin của dữ liệu:\n",
    "- **Trục x:** thuộc tính Value hoặc Category\n",
    "- **Trục y:** thuộc tính Value hoặc Category\n",
    "- **Màu sắc:** thuộc tính Category\n",
    "- **Kích thước:** thuộc tính Value hoặc Category (có thứ tự)\n",
    "- **Slicer** thuộc tính Datetime"
   ]
  },
  {
   "cell_type": "markdown",
   "metadata": {},
   "source": [
    "### 9.1. Scatter plot cơ bản"
   ]
  },
  {
   "cell_type": "code",
   "execution_count": null,
   "metadata": {},
   "outputs": [],
   "source": [
    "import numpy as np\n",
    "import pandas as pd\n",
    "import matplotlib.pyplot as plt\n",
    "import seaborn as sns\n",
    "sns.set_style('whitegrid'); sns.set_palette('deep')"
   ]
  },
  {
   "cell_type": "code",
   "execution_count": null,
   "metadata": {},
   "outputs": [],
   "source": [
    "car = pd.read_excel(r'data\\cars.xlsx')\n",
    "car.head()"
   ]
  },
  {
   "cell_type": "markdown",
   "metadata": {},
   "source": [
    "#### Scatter plot với 2 thuộc tính định lượng"
   ]
  },
  {
   "cell_type": "code",
   "execution_count": null,
   "metadata": {},
   "outputs": [],
   "source": [
    "_ = sns.scatterplot(data=car, x='price', y='horsepower', s=200, alpha=0.8)"
   ]
  },
  {
   "cell_type": "markdown",
   "metadata": {},
   "source": [
    "#### Scatter plot với 3 và 4 thuộc tính"
   ]
  },
  {
   "cell_type": "code",
   "execution_count": null,
   "metadata": {},
   "outputs": [],
   "source": [
    "plt.figure(figsize=(10,5))\n",
    "_ = sns.scatterplot(data=car, x='price', y='horsepower', hue='type', s=200)"
   ]
  },
  {
   "cell_type": "code",
   "execution_count": null,
   "metadata": {},
   "outputs": [],
   "source": [
    "plt.figure(figsize=(10,5))\n",
    "scatter2 = sns.scatterplot(data=car, x='price', y='horsepower', hue='type', size='engine_size', sizes=(100,600))"
   ]
  },
  {
   "cell_type": "code",
   "execution_count": null,
   "metadata": {},
   "outputs": [],
   "source": [
    "plt.figure(figsize=(10,5))\n",
    "scatter2 = sns.scatterplot(data=car, x='price', y='horsepower', hue='engine_size', size='engine_size', sizes=(100,600))"
   ]
  },
  {
   "cell_type": "markdown",
   "metadata": {},
   "source": [
    "**Tình huống 7:** Sử dụng dữ liệu trong file `gapminder.xlsx`\n",
    "1. Vẽ biểu đồ biểu thị mối quan hệ giữa tuổi thọ bình quân và GDP/người trong năm 2007\n",
    "2. Vẽ biểu đồ biểu thị mối quan hệ giữa tuổi thọ bình quân và GDP/người trong năm 2007 của từng châu lục cùng với quy mô dân số của mỗi châu lục"
   ]
  },
  {
   "cell_type": "markdown",
   "metadata": {},
   "source": [
    "### 9.2. Swarm plot - biến thể của Scatter plot"
   ]
  },
  {
   "cell_type": "code",
   "execution_count": null,
   "metadata": {},
   "outputs": [],
   "source": [
    "iris = sns.load_dataset('iris')\n",
    "iris = pd.melt(iris, 'species', var_name='measurement')\n",
    "iris"
   ]
  },
  {
   "cell_type": "code",
   "execution_count": null,
   "metadata": {},
   "outputs": [],
   "source": [
    "plt.figure(figsize=(10,7))\n",
    "_ = sns.swarmplot(data=iris, x='measurement', y='value', hue='species')"
   ]
  },
  {
   "cell_type": "markdown",
   "metadata": {},
   "source": [
    "## 10. Plotly - thư viện vẽ biểu đồ tương tác"
   ]
  },
  {
   "cell_type": "code",
   "execution_count": null,
   "metadata": {},
   "outputs": [],
   "source": [
    "import pandas as pd\n",
    "import numpy as np\n",
    "import plotly.express as px\n",
    "import plotly.graph_objects as go"
   ]
  },
  {
   "cell_type": "markdown",
   "metadata": {},
   "source": [
    "### 10.1. Interactive Scatter Plot with slider"
   ]
  },
  {
   "cell_type": "code",
   "execution_count": null,
   "metadata": {},
   "outputs": [],
   "source": [
    "fig1 = px.scatter(\n",
    "     px.data.gapminder(), \n",
    "     x='gdpPercap', y='lifeExp',\n",
    "     size='pop', color='continent',\n",
    "     animation_frame='year',\n",
    "     animation_group='country',\n",
    "     hover_name='country', log_x=True,\n",
    "     size_max=100, range_x=[100,100000], range_y=[25,90],\n",
    "     template='none'\n",
    ")\n",
    "\n",
    "fig1.show()"
   ]
  },
  {
   "cell_type": "markdown",
   "metadata": {},
   "source": [
    "### 10.2. Interactive 3D Scatter Plot"
   ]
  },
  {
   "cell_type": "code",
   "execution_count": null,
   "metadata": {},
   "outputs": [],
   "source": [
    "df = px.data.iris()\n",
    "fig2 = px.scatter_3d(\n",
    "    df,\n",
    "    x='sepal_length',\n",
    "    y='sepal_width',\n",
    "    z='petal_width',\n",
    "    color='species')\n",
    "fig2.update_layout(margin=dict(l=0, r=0, b=0, t=0))\n",
    "fig2.show()"
   ]
  },
  {
   "cell_type": "markdown",
   "metadata": {},
   "source": [
    "### 10.3. Interactive Line Chart with range slider and selector"
   ]
  },
  {
   "cell_type": "code",
   "execution_count": null,
   "metadata": {},
   "outputs": [],
   "source": [
    "apple = pd.read_csv(r'data\\finance_charts_apple.csv')\n",
    "apple.columns = [col.replace(\"AAPL.\", '') for col in apple.columns]\n",
    "apple.head()"
   ]
  },
  {
   "cell_type": "code",
   "execution_count": null,
   "metadata": {},
   "outputs": [],
   "source": [
    "fig3 = go.Figure()\n",
    "fig3.add_trace(go.Scatter(x=list(apple.Date), y=list(apple.High)))\n",
    "fig3.update_layout(title_text='Time series with range slider and selectors')\n",
    "\n",
    "# range slider\n",
    "fig3.update_layout(\n",
    "    xaxis=dict(\n",
    "        rangeselector=dict(\n",
    "            buttons=list([\n",
    "                dict(count=1, label='1m', step='month', stepmode='backward'),\n",
    "                dict(count=6, label='6m', step='month', stepmode='backward'),\n",
    "                dict(count=1, label='YTD', step='year', stepmode='todate'),\n",
    "                dict(count=1, label='1y', step='year', stepmode='backward'),\n",
    "                dict(step='all')\n",
    "            ])\n",
    "        ),\n",
    "        rangeslider=dict(visible=True),\n",
    "        type='date'\n",
    "    )\n",
    ")\n",
    "\n",
    "fig3.show()"
   ]
  },
  {
   "cell_type": "markdown",
   "metadata": {},
   "source": [
    "### 10.4. Interactive 3D Bubble Map"
   ]
  },
  {
   "cell_type": "code",
   "execution_count": null,
   "metadata": {},
   "outputs": [],
   "source": [
    "carshare = px.data.carshare()\n",
    "carshare.head()"
   ]
  },
  {
   "cell_type": "code",
   "execution_count": null,
   "metadata": {},
   "outputs": [],
   "source": [
    "px.set_mapbox_access_token('pk.eyJ1IjoiY2hyaWRkeXAiLCJhIjoiY2ozcGI1MTZ3MDBpcTJ3cXR4b3owdDQwaCJ9.8jpMunbKjdq1anXwU5gxIw')\n",
    "fig4 = px.scatter_mapbox(\n",
    "    carshare,\n",
    "    lat='centroid_lat', lon='centroid_lon',\n",
    "    color='peak_hour', size='car_hours',\n",
    "    color_continuous_scale=px.colors.cyclical.IceFire,\n",
    "    size_max=15, zoom=10)\n",
    "\n",
    "fig4.show()"
   ]
  },
  {
   "cell_type": "markdown",
   "metadata": {},
   "source": [
    "### 10.5. Xuất ra HTML"
   ]
  },
  {
   "cell_type": "code",
   "execution_count": null,
   "metadata": {},
   "outputs": [],
   "source": [
    "import plotly\n",
    "plotly.offline.plot(fig1, filename='Fig 1 - Interactive Scatter Plot with slider.html')"
   ]
  },
  {
   "cell_type": "code",
   "execution_count": null,
   "metadata": {},
   "outputs": [],
   "source": [
    "import plotly\n",
    "plotly.offline.plot(fig2, filename='Fig 2 - Interactive 3D Scatter Plot.html')"
   ]
  },
  {
   "cell_type": "code",
   "execution_count": null,
   "metadata": {},
   "outputs": [],
   "source": [
    "import plotly\n",
    "plotly.offline.plot(fig3, filename='Fig 3 - Interactive Line Chart with range slider and selector.html')"
   ]
  },
  {
   "cell_type": "code",
   "execution_count": null,
   "metadata": {},
   "outputs": [],
   "source": [
    "import plotly\n",
    "plotly.offline.plot(fig4, filename='Fig 4 - Interactive 3D Bubble Map.html')"
   ]
  },
  {
   "cell_type": "markdown",
   "metadata": {},
   "source": [
    "## Giải đáp tình huống"
   ]
  },
  {
   "cell_type": "markdown",
   "metadata": {},
   "source": [
    "**Tình huống 1:** Tính và nhận xét:\n",
    "- Mean và Variance của x1, x2, x3, x4\n",
    "- Mean và Variance của y1, y2, y3, y4\n",
    "- Correlation của 4 cặp x-y"
   ]
  },
  {
   "cell_type": "code",
   "execution_count": null,
   "metadata": {},
   "outputs": [],
   "source": [
    "anscombe = pd.read_excel('data/anscombe.xlsx')"
   ]
  },
  {
   "cell_type": "code",
   "execution_count": null,
   "metadata": {},
   "outputs": [],
   "source": [
    "anscombe.describe().loc[['mean', 'std']]"
   ]
  },
  {
   "cell_type": "code",
   "execution_count": null,
   "metadata": {},
   "outputs": [],
   "source": [
    "for i in range(1,5):\n",
    "    x = anscombe[f'x{i}']\n",
    "    y = anscombe[f'y{i}']\n",
    "    corr = x.corr(y)\n",
    "    print(f'Correlation between x{i} and y{i} = {corr}')"
   ]
  },
  {
   "cell_type": "markdown",
   "metadata": {},
   "source": [
    "**Tình huống 2:** Vẽ biểu đồ biểu diễn dân số của 3 nước: United States, China, India  qua các năm với dữ liệu trong file `world_population.xlsx`."
   ]
  },
  {
   "cell_type": "code",
   "execution_count": null,
   "metadata": {},
   "outputs": [],
   "source": [
    "pop = pd.read_excel(r'data/world_population.xlsx')\n",
    "pop.head()"
   ]
  },
  {
   "cell_type": "code",
   "execution_count": null,
   "metadata": {},
   "outputs": [],
   "source": [
    "pop1 = pop[\n",
    "    (pop['country'] == 'United States') |\n",
    "    (pop['country'] == 'China') |\n",
    "    (pop['country'] == 'India')\n",
    "]\n",
    "\n",
    "pop1.head()"
   ]
  },
  {
   "cell_type": "code",
   "execution_count": null,
   "metadata": {},
   "outputs": [],
   "source": [
    "sns.lineplot(\n",
    "    x='year', \n",
    "    y='population', \n",
    "    hue='country',\n",
    "    data=pop1\n",
    ")\n",
    "plt.show()"
   ]
  },
  {
   "cell_type": "markdown",
   "metadata": {},
   "source": [
    "**Tình huống 3:** Sử dụng dữ liệu trong file `supermarket_sales.csv` thực hiện các yêu cầu sau:\n",
    "1. Tính ra doanh thu của 3 nhãn hàng (brand) với công thức: $sales = unit price * quantity + tax$\n",
    "2. Dùng biểu đồ cột để so sánh tổng doanh thu giữa các nhãn hàng.\n",
    "3. So sánh tổng doanh thu giữa khách hàng nam và nữ của các nhãn hàng."
   ]
  },
  {
   "cell_type": "code",
   "execution_count": null,
   "metadata": {},
   "outputs": [],
   "source": [
    "sales = pd.read_csv(r'data/supermarket_sales.csv')\n",
    "sales.head()"
   ]
  },
  {
   "cell_type": "code",
   "execution_count": null,
   "metadata": {},
   "outputs": [],
   "source": [
    "sales['sales'] = sales['unit_price'] * sales['quantity'] + sales['tax']\n",
    "sales.head()"
   ]
  },
  {
   "cell_type": "code",
   "execution_count": null,
   "metadata": {},
   "outputs": [],
   "source": [
    "_ = sns.barplot(data=sales, x='brand', y='sales', color='teal', ci=False, estimator=np.sum)"
   ]
  },
  {
   "cell_type": "code",
   "execution_count": null,
   "metadata": {},
   "outputs": [],
   "source": [
    "_ = sns.barplot(data=sales, x='brand', y='sales', hue='gender', ci=False, estimator=np.sum)"
   ]
  },
  {
   "cell_type": "markdown",
   "metadata": {},
   "source": [
    "**Tình huống 4:** Tính hệ số tương quan giữa các biến định lượng trong file `supermarket_sales.csv`. Sau đó vẽ biểu đồ biểu thị mức độ tương quan giữa các biến đó."
   ]
  },
  {
   "cell_type": "code",
   "execution_count": null,
   "metadata": {},
   "outputs": [],
   "source": [
    "sales = pd.read_csv(r'data/supermarket_sales.csv')\n",
    "sales.head()"
   ]
  },
  {
   "cell_type": "code",
   "execution_count": null,
   "metadata": {},
   "outputs": [],
   "source": [
    "corr = sales.corr()\n",
    "corr"
   ]
  },
  {
   "cell_type": "code",
   "execution_count": null,
   "metadata": {},
   "outputs": [],
   "source": [
    "_ = sns.heatmap(corr, \n",
    "    vmin=-1, vmax=1, center=0,\n",
    "    cmap=sns.color_palette('RdBu', 7),\n",
    "    square=True\n",
    ")"
   ]
  },
  {
   "cell_type": "markdown",
   "metadata": {},
   "source": [
    "**Tình huống 5:** Với dữ liệu trong file `cars.xlsx`, vẽ histogram thể hiện sự phân bổ các giá trị mã lực (horsepower) của tất cả ô tô."
   ]
  },
  {
   "cell_type": "code",
   "execution_count": null,
   "metadata": {},
   "outputs": [],
   "source": [
    "car = pd.read_excel(r'data\\cars.xlsx')\n",
    "car.head()"
   ]
  },
  {
   "cell_type": "code",
   "execution_count": null,
   "metadata": {},
   "outputs": [],
   "source": [
    "plt.figure(figsize = (10,5))\n",
    "_ = sns.distplot(car['horsepower'], bins=8, color='indianred', kde_kws={'linewidth':3})"
   ]
  },
  {
   "cell_type": "markdown",
   "metadata": {},
   "source": [
    "**Tình huống 6:** Vẽ biểu đồ biểu diễn phân phối lợi nhuận của 3 nhãn hàng với dữ liệu trong file `supermarket_sales.csv`"
   ]
  },
  {
   "cell_type": "code",
   "execution_count": null,
   "metadata": {},
   "outputs": [],
   "source": [
    "sales = pd.read_csv(r'data\\supermarket_sales.csv')\n",
    "sales.head()"
   ]
  },
  {
   "cell_type": "code",
   "execution_count": null,
   "metadata": {},
   "outputs": [],
   "source": [
    "_ = sns.boxplot(data=sales, x='brand', y='profit')"
   ]
  },
  {
   "cell_type": "markdown",
   "metadata": {},
   "source": [
    "**Tình huống 7:** Sử dụng dữ liệu trong file `gapminder.xlsx`\n",
    "1. Vẽ biểu đồ biểu thị mối quan hệ giữa tuổi thọ bình quân và GDP/người trong năm 2007\n",
    "2. Vẽ biểu đồ biểu thị mối quan hệ giữa tuổi thọ bình quân và GDP/người trong năm 2007 của từng châu lục cùng với quy mô dân số của mỗi châu lục"
   ]
  },
  {
   "cell_type": "code",
   "execution_count": null,
   "metadata": {},
   "outputs": [],
   "source": [
    "world = pd.read_excel(r'data/gapminder.xlsx')\n",
    "world.head()"
   ]
  },
  {
   "cell_type": "code",
   "execution_count": null,
   "metadata": {},
   "outputs": [],
   "source": [
    "world1 = world[world['year'] == 2007]\n",
    "world1.head()"
   ]
  },
  {
   "cell_type": "code",
   "execution_count": null,
   "metadata": {},
   "outputs": [],
   "source": [
    "_ = sns.scatterplot(data=world1, x='lifeExp', y='gdpPercap')"
   ]
  },
  {
   "cell_type": "code",
   "execution_count": null,
   "metadata": {},
   "outputs": [],
   "source": [
    "plt.figure(figsize = (14,7))\n",
    "_ = sns.scatterplot(data=world1, x='lifeExp', y='gdpPercap', hue='continent', size='pop', sizes=(50,1000))"
   ]
  }
 ],
 "metadata": {
  "kernelspec": {
   "display_name": "Python 3",
   "language": "python",
   "name": "python3"
  },
  "language_info": {
   "codemirror_mode": {
    "name": "ipython",
    "version": 3
   },
   "file_extension": ".py",
   "mimetype": "text/x-python",
   "name": "python",
   "nbconvert_exporter": "python",
   "pygments_lexer": "ipython3",
   "version": "3.8.5"
  }
 },
 "nbformat": 4,
 "nbformat_minor": 4
}
