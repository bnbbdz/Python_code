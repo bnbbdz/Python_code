{
 "cells": [
  {
   "cell_type": "markdown",
   "metadata": {},
   "source": [
    "# Task 08"
   ]
  },
  {
   "cell_type": "markdown",
   "metadata": {},
   "source": [
    "Cho 2 list $A$ và $B$ như bên dưới. Viết code để sinh ra các list mới với yêu cầu như sau.\n",
    "1. List C chứa các phần tử trong cả A và B\n",
    "2. List D chứa các phần tử có trong A nhưng không có trong B\n",
    "3. List E chứa các phần tử chỉ có trong A hoặc B và chia hết cho 3\n",
    "4. List F chứa các phần tử lặp lại nhiều hơn 1 lần trong A hoặc B"
   ]
  },
  {
   "cell_type": "code",
   "execution_count": 11,
   "metadata": {},
   "outputs": [],
   "source": [
    "A = [1, 1, 2, 3, 5, 8, 13, 21, 34, 55, 89]\n",
    "B = [1, 2, 3, 4, 5, 6, 7, 8, 9, 10, 11, 12, 13, 13]"
   ]
  },
  {
   "cell_type": "markdown",
   "metadata": {},
   "source": [
    "1."
   ]
  },
  {
   "cell_type": "code",
   "execution_count": 12,
   "metadata": {},
   "outputs": [
    {
     "name": "stdout",
     "output_type": "stream",
     "text": [
      "C =  [1, 1, 2, 3, 5, 8, 13, 21, 34, 55, 89, 1, 2, 3, 4, 5, 6, 7, 8, 9, 10, 11, 12, 13, 13]\n"
     ]
    }
   ],
   "source": [
    "C = A + B\n",
    "print('C = ',C)"
   ]
  },
  {
   "cell_type": "markdown",
   "metadata": {},
   "source": [
    "2."
   ]
  },
  {
   "cell_type": "code",
   "execution_count": 13,
   "metadata": {},
   "outputs": [
    {
     "name": "stdout",
     "output_type": "stream",
     "text": [
      "[21, 34, 55, 89]\n"
     ]
    }
   ],
   "source": [
    "D = []\n",
    "for i in A :\n",
    "    if i not in B :\n",
    "        D.append(i)\n",
    "print(D)"
   ]
  },
  {
   "cell_type": "code",
   "execution_count": 14,
   "metadata": {
    "scrolled": true
   },
   "outputs": [
    {
     "name": "stdout",
     "output_type": "stream",
     "text": [
      "D =  [21, 34, 55, 89]\n"
     ]
    }
   ],
   "source": [
    "D = [i for i in A if i not in B]\n",
    "print('D = ',D)"
   ]
  },
  {
   "cell_type": "markdown",
   "metadata": {},
   "source": [
    "3."
   ]
  },
  {
   "cell_type": "code",
   "execution_count": 15,
   "metadata": {},
   "outputs": [
    {
     "name": "stdout",
     "output_type": "stream",
     "text": [
      "[21, 6, 9, 12]\n"
     ]
    }
   ],
   "source": [
    "E = []\n",
    "for i in A :\n",
    "    if i not in B and i % 3 == 0 :\n",
    "        E.append(i)\n",
    "for i in B :\n",
    "    if i not in A and i % 3 == 0 :\n",
    "        E.append(i)\n",
    "print(E)"
   ]
  },
  {
   "cell_type": "code",
   "execution_count": 16,
   "metadata": {},
   "outputs": [
    {
     "name": "stdout",
     "output_type": "stream",
     "text": [
      "E =  [21, 6, 9, 12]\n"
     ]
    }
   ],
   "source": [
    "E = [i for i in A if i not in B and i%3==0] + [i for i in B if i not in A and i%3==0]\n",
    "print('E = ',E)"
   ]
  },
  {
   "cell_type": "markdown",
   "metadata": {},
   "source": [
    "4."
   ]
  },
  {
   "cell_type": "code",
   "execution_count": 17,
   "metadata": {},
   "outputs": [
    {
     "name": "stdout",
     "output_type": "stream",
     "text": [
      "[1, 1, 13, 13]\n"
     ]
    }
   ],
   "source": [
    "F = []\n",
    "for i in A :\n",
    "    if A.count(i) > 1 :\n",
    "        F.append(i)\n",
    "for i in B :\n",
    "    if B.count(i) > 1 :\n",
    "        F.append(i)\n",
    "print(F)"
   ]
  },
  {
   "cell_type": "code",
   "execution_count": 18,
   "metadata": {
    "scrolled": true
   },
   "outputs": [
    {
     "name": "stdout",
     "output_type": "stream",
     "text": [
      "F =  [1, 1, 13, 13]\n"
     ]
    }
   ],
   "source": [
    "F = [i for i in A if A.count(i)>1 ] + [i for i in B if B.count(i)>1]\n",
    "print('F = ',F)"
   ]
  },
  {
   "cell_type": "code",
   "execution_count": null,
   "metadata": {},
   "outputs": [],
   "source": []
  }
 ],
 "metadata": {
  "kernelspec": {
   "display_name": "Python 3",
   "language": "python",
   "name": "python3"
  },
  "language_info": {
   "codemirror_mode": {
    "name": "ipython",
    "version": 3
   },
   "file_extension": ".py",
   "mimetype": "text/x-python",
   "name": "python",
   "nbconvert_exporter": "python",
   "pygments_lexer": "ipython3",
   "version": "3.7.1"
  },
  "toc": {
   "base_numbering": 1,
   "nav_menu": {},
   "number_sections": true,
   "sideBar": true,
   "skip_h1_title": false,
   "title_cell": "Table of Contents",
   "title_sidebar": "Contents",
   "toc_cell": false,
   "toc_position": {},
   "toc_section_display": true,
   "toc_window_display": false
  }
 },
 "nbformat": 4,
 "nbformat_minor": 2
}
