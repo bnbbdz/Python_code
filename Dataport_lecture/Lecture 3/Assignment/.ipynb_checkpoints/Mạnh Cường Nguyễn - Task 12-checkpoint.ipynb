{
 "cells": [
  {
   "cell_type": "markdown",
   "metadata": {},
   "source": [
    "## Task 12\n",
    "\n",
    "Viết script tính tổng điểm của 1 từ tiếng anh bất kì.\n",
    "\n",
    "Nếu a b c d (không phân biệt chữ hoa thường) .... lần lượt bằng 1 2 3 4 ... thì từ ``attitude`` có giá trị bằng 100.\n",
    "(https://9gag.com/gag/aWWP7bd?ref=fbp)"
   ]
  },
  {
   "cell_type": "code",
   "execution_count": 8,
   "metadata": {},
   "outputs": [
    {
     "name": "stdout",
     "output_type": "stream",
     "text": [
      "input string to calc: ATTITUDE\n"
     ]
    }
   ],
   "source": [
    "import string\n",
    "string_to_calc = input('input string to calc: ')\n",
    "abc = string.ascii_lowercase\n",
    "# YOUR CODE HERE\n"
   ]
  },
  {
   "cell_type": "code",
   "execution_count": 9,
   "metadata": {},
   "outputs": [],
   "source": [
    "def xxx(sequence):\n",
    "    n = 1\n",
    "    for i in sequence:\n",
    "        yield i, n\n",
    "        n += 1\n",
    "dic = dict([list(i) for i in xxx(abc)])"
   ]
  },
  {
   "cell_type": "code",
   "execution_count": 10,
   "metadata": {
    "scrolled": false
   },
   "outputs": [
    {
     "name": "stdout",
     "output_type": "stream",
     "text": [
      "100\n"
     ]
    }
   ],
   "source": [
    "tong = sum(dic[i] for i in string_to_calc.lower())\n",
    "print(tong)"
   ]
  },
  {
   "cell_type": "code",
   "execution_count": null,
   "metadata": {},
   "outputs": [],
   "source": []
  }
 ],
 "metadata": {
  "colab": {
   "name": "Lecture 3.ipynb",
   "provenance": [],
   "version": "0.3.2"
  },
  "kernelspec": {
   "display_name": "Python 3",
   "language": "python",
   "name": "python3"
  },
  "language_info": {
   "codemirror_mode": {
    "name": "ipython",
    "version": 3
   },
   "file_extension": ".py",
   "mimetype": "text/x-python",
   "name": "python",
   "nbconvert_exporter": "python",
   "pygments_lexer": "ipython3",
   "version": "3.7.5"
  },
  "toc": {
   "base_numbering": 1,
   "nav_menu": {},
   "number_sections": true,
   "sideBar": true,
   "skip_h1_title": false,
   "title_cell": "Table of Contents",
   "title_sidebar": "Contents",
   "toc_cell": false,
   "toc_position": {},
   "toc_section_display": true,
   "toc_window_display": false
  }
 },
 "nbformat": 4,
 "nbformat_minor": 1
}
