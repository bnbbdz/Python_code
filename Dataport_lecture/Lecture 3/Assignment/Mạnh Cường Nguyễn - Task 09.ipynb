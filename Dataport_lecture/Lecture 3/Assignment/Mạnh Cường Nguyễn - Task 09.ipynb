{
 "cells": [
  {
   "cell_type": "markdown",
   "metadata": {},
   "source": [
    "# Task 09"
   ]
  },
  {
   "cell_type": "markdown",
   "metadata": {},
   "source": [
    "Cho list <b>input</b>, viết script để có được list như <b>output</b>\n",
    "\n",
    "<i>Gợi ý: Có thể sử dụng range kết hợp với slicing.</i>"
   ]
  },
  {
   "cell_type": "code",
   "execution_count": null,
   "metadata": {},
   "outputs": [],
   "source": [
    "exchange_input = ['AUD',\n",
    "         '16,671.10',\n",
    "         '16,771.73',\n",
    "         '16,954.84',\n",
    "         'EUR',\n",
    "         '26,216.05',\n",
    "         '26,294.93',\n",
    "         '26,687.44',\n",
    "         'GBP',\n",
    "         '29,977.52',\n",
    "         '30,188.84',\n",
    "         '30,457.46',\n",
    "         'JPY',\n",
    "         '198.56',\n",
    "         '200.57',\n",
    "         '205.58',\n",
    "         'USD',\n",
    "         '23,245.00',\n",
    "         '23,245.00',\n",
    "         '23,335.00']\n",
    "exchange_output = [['AUD', '16,671.10', '16,771.73', '16,954.84'],\n",
    "                ['EUR', '26,216.05', '26,294.93', '26,687.44'],\n",
    "                ['GBP', '29,977.52', '30,188.84', '30,457.46'],\n",
    "                ['JPY', '198.56', '200.57', '205.58'],\n",
    "                ['USD', '23,245.00', '23,245.00', '23,335.00']]"
   ]
  },
  {
   "cell_type": "code",
   "execution_count": 67,
   "metadata": {},
   "outputs": [],
   "source": [
    "# YOUR CODE HERE\n",
    "dau_vao = ['AUD',\n",
    "         '16,671.10',\n",
    "         '16,771.73',\n",
    "         '16,954.84',\n",
    "         'EUR',\n",
    "         '26,216.05',\n",
    "         '26,294.93',\n",
    "         '26,687.44',\n",
    "         'GBP',\n",
    "         '29,977.52',\n",
    "         '30,188.84',\n",
    "         '30,457.46',\n",
    "         'JPY',\n",
    "         '198.56',\n",
    "         '200.57',\n",
    "         '205.58',\n",
    "         'USD',\n",
    "         '23,245.00',\n",
    "         '23,245.00',\n",
    "         '23,335.00']"
   ]
  },
  {
   "cell_type": "code",
   "execution_count": 68,
   "metadata": {},
   "outputs": [],
   "source": [
    "def tim_index(x,y) :\n",
    "    i = y.index(x)\n",
    "    return i    "
   ]
  },
  {
   "cell_type": "code",
   "execution_count": 69,
   "metadata": {},
   "outputs": [],
   "source": [
    "AUD = dau_vao[:tim_index('EUR',dau_vao)]\n",
    "EUR = dau_vao[tim_index('EUR',dau_vao):tim_index('GBP',dau_vao)]\n",
    "GBP = dau_vao[tim_index('GBP',dau_vao):tim_index('JPY',dau_vao)]\n",
    "JPY = dau_vao[tim_index('JPY',dau_vao):tim_index('USD',dau_vao)]\n",
    "USD = dau_vao[tim_index('USD',dau_vao):]"
   ]
  },
  {
   "cell_type": "code",
   "execution_count": 70,
   "metadata": {},
   "outputs": [],
   "source": [
    "dau_ra = [AUD,EUR,GBP,JPY,USD]"
   ]
  },
  {
   "cell_type": "code",
   "execution_count": 71,
   "metadata": {},
   "outputs": [
    {
     "data": {
      "text/plain": [
       "[['AUD', '16,671.10', '16,771.73', '16,954.84'],\n",
       " ['EUR', '26,216.05', '26,294.93', '26,687.44'],\n",
       " ['GBP', '29,977.52', '30,188.84', '30,457.46'],\n",
       " ['JPY', '198.56', '200.57', '205.58'],\n",
       " ['USD', '23,245.00', '23,245.00', '23,335.00']]"
      ]
     },
     "execution_count": 71,
     "metadata": {},
     "output_type": "execute_result"
    }
   ],
   "source": [
    "dau_ra"
   ]
  },
  {
   "cell_type": "markdown",
   "metadata": {},
   "source": [
    "Cách 2"
   ]
  },
  {
   "cell_type": "code",
   "execution_count": 72,
   "metadata": {},
   "outputs": [],
   "source": [
    "a = ['USD','JPY','GBP','EUR','AUD']\n",
    "def tim_index(x,y) :\n",
    "    i = y.index(x)\n",
    "    return i "
   ]
  },
  {
   "cell_type": "code",
   "execution_count": 73,
   "metadata": {},
   "outputs": [
    {
     "data": {
      "text/plain": [
       "[['AUD', '16,671.10', '16,771.73', '16,954.84'],\n",
       " ['EUR', '26,216.05', '26,294.93', '26,687.44'],\n",
       " ['GBP', '29,977.52', '30,188.84', '30,457.46'],\n",
       " ['JPY', '198.56', '200.57', '205.58'],\n",
       " ['USD', '23,245.00', '23,245.00', '23,335.00']]"
      ]
     },
     "execution_count": 73,
     "metadata": {},
     "output_type": "execute_result"
    }
   ],
   "source": [
    "z = []\n",
    "for i in a :\n",
    "    i = tim_index(i,dau_vao)\n",
    "    z.append(dau_vao[i:])\n",
    "    del dau_vao[i:]\n",
    "z.reverse()\n",
    "z"
   ]
  },
  {
   "cell_type": "code",
   "execution_count": null,
   "metadata": {},
   "outputs": [],
   "source": []
  }
 ],
 "metadata": {
  "kernelspec": {
   "display_name": "Python 3",
   "language": "python",
   "name": "python3"
  },
  "language_info": {
   "codemirror_mode": {
    "name": "ipython",
    "version": 3
   },
   "file_extension": ".py",
   "mimetype": "text/x-python",
   "name": "python",
   "nbconvert_exporter": "python",
   "pygments_lexer": "ipython3",
   "version": "3.7.5"
  },
  "toc": {
   "base_numbering": 1,
   "nav_menu": {},
   "number_sections": true,
   "sideBar": true,
   "skip_h1_title": false,
   "title_cell": "Table of Contents",
   "title_sidebar": "Contents",
   "toc_cell": false,
   "toc_position": {},
   "toc_section_display": true,
   "toc_window_display": false
  }
 },
 "nbformat": 4,
 "nbformat_minor": 2
}
