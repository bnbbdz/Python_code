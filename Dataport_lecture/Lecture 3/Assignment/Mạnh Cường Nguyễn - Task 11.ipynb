{
 "cells": [
  {
   "cell_type": "markdown",
   "metadata": {
    "collapsed": true
   },
   "source": [
    "## Task 11\n",
    "\n",
    "<b>Cho list sau:</b>\n",
    "\n",
    "data = ['I', 'Love', 'You', 'Chiu', 'Chiu']\n",
    "\n",
    "<b>Tạo ra 1 list mới như bên dưới:</b>\n",
    "\n",
    "result = [[1, 'I'], [2, 'Love'], [3, 'You'], [4, 'Chiu'], [5, 'Chiu']]"
   ]
  },
  {
   "cell_type": "code",
   "execution_count": 1,
   "metadata": {},
   "outputs": [],
   "source": [
    "data = ['I', 'Love', 'You', 'Chiu', 'Chiu']\n",
    "# YOUR CODE HERE"
   ]
  },
  {
   "cell_type": "code",
   "execution_count": 7,
   "metadata": {},
   "outputs": [
    {
     "data": {
      "text/plain": [
       "[[0, 'I'], [1, 'Love'], [2, 'You'], [3, 'Chiu'], [4, 'Chiu']]"
      ]
     },
     "execution_count": 7,
     "metadata": {},
     "output_type": "execute_result"
    }
   ],
   "source": [
    "#1\n",
    "result = []\n",
    "for i in list(enumerate(data)) :\n",
    "    result.append(list(i))\n",
    "result\n"
   ]
  },
  {
   "cell_type": "code",
   "execution_count": null,
   "metadata": {},
   "outputs": [],
   "source": [
    "#2\n",
    "# see more about enumerate at docs https://docs.python.org/3/library/functions.html#enumerate"
   ]
  },
  {
   "cell_type": "markdown",
   "metadata": {},
   "source": [
    "Cách 2"
   ]
  },
  {
   "cell_type": "code",
   "execution_count": 17,
   "metadata": {},
   "outputs": [
    {
     "data": {
      "text/plain": [
       "[[1, 'I'], [2, 'Love'], [3, 'You'], [4, 'Chiu'], [5, 'Chiu']]"
      ]
     },
     "execution_count": 17,
     "metadata": {},
     "output_type": "execute_result"
    }
   ],
   "source": [
    "def xxx(sequence):\n",
    "    n = 1\n",
    "    for i in sequence:\n",
    "        yield n, i\n",
    "        n += 1\n",
    "result = [list(i) for i in list(xxx(data))]\n",
    "result"
   ]
  },
  {
   "cell_type": "code",
   "execution_count": null,
   "metadata": {},
   "outputs": [],
   "source": []
  }
 ],
 "metadata": {
  "colab": {
   "name": "Lecture 3.ipynb",
   "provenance": [],
   "version": "0.3.2"
  },
  "kernelspec": {
   "display_name": "Python 3",
   "language": "python",
   "name": "python3"
  },
  "language_info": {
   "codemirror_mode": {
    "name": "ipython",
    "version": 3
   },
   "file_extension": ".py",
   "mimetype": "text/x-python",
   "name": "python",
   "nbconvert_exporter": "python",
   "pygments_lexer": "ipython3",
   "version": "3.7.1"
  },
  "toc": {
   "base_numbering": 1,
   "nav_menu": {},
   "number_sections": true,
   "sideBar": true,
   "skip_h1_title": false,
   "title_cell": "Table of Contents",
   "title_sidebar": "Contents",
   "toc_cell": false,
   "toc_position": {},
   "toc_section_display": true,
   "toc_window_display": false
  }
 },
 "nbformat": 4,
 "nbformat_minor": 1
}
