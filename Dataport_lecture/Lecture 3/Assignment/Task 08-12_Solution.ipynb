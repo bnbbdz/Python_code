{
 "cells": [
  {
   "cell_type": "markdown",
   "metadata": {},
   "source": [
    "# TASK 08"
   ]
  },
  {
   "cell_type": "markdown",
   "metadata": {},
   "source": [
    "Cho 2 list  𝐴  và  𝐵  như bên dưới. Viết code để sinh ra các list mới với yêu cầu như sau.\n",
    "\n",
    "1.List C chứa các phần tử trong cả A và B\n",
    "2.List D chứa các phần tử có trong A nhưng không có trong B\n",
    "3.List E chứa các phần tử chỉ có trong A hoặc B và chia hết cho 3\n",
    "4.List F chứa các phần tử lặp lại nhiều hơn 1 lần trong A hoặc B"
   ]
  },
  {
   "cell_type": "code",
   "execution_count": 1,
   "metadata": {},
   "outputs": [],
   "source": [
    "A = [1, 1, 2, 3, 5, 8, 13, 21, 34, 55, 89]\n",
    "B = [1, 2, 3, 4, 5, 6, 7, 8, 9, 10, 11, 12, 13, 13]"
   ]
  },
  {
   "cell_type": "code",
   "execution_count": 2,
   "metadata": {},
   "outputs": [],
   "source": [
    "# 8.1\n",
    "C = A+B\n",
    "C= set(C)\n",
    "C = list(C)"
   ]
  },
  {
   "cell_type": "code",
   "execution_count": 4,
   "metadata": {},
   "outputs": [],
   "source": [
    "# 8.2:\n",
    "D = []\n",
    "for i in A:\n",
    "    if i not in B:\n",
    "        D.append(i)\n",
    "# OR\n",
    "D = [i for i in A if i not in B]"
   ]
  },
  {
   "cell_type": "code",
   "execution_count": 8,
   "metadata": {},
   "outputs": [],
   "source": [
    "# 8.3:\n",
    "E = [i for i in A if i not in B and i%3== 0] + [i for i in B if i not in A and i%3==0]"
   ]
  },
  {
   "cell_type": "code",
   "execution_count": 16,
   "metadata": {},
   "outputs": [],
   "source": [
    "# 8.4:\n",
    "F=[]\n",
    "for i in A:\n",
    "    if A.count(i) > 1 and i not in F:\n",
    "        F.append(i)\n",
    "for i in B:\n",
    "    if B.count(i) > 1 and i not in F:\n",
    "        F.append(i)\n",
    "        "
   ]
  },
  {
   "cell_type": "markdown",
   "metadata": {},
   "source": [
    "# TASK 09"
   ]
  },
  {
   "cell_type": "code",
   "execution_count": 19,
   "metadata": {},
   "outputs": [],
   "source": [
    "exchange_input = ['AUD',\n",
    "         '16,671.10',\n",
    "         '16,771.73',\n",
    "         '16,954.84',\n",
    "         'EUR',\n",
    "         '26,216.05',\n",
    "         '26,294.93',\n",
    "         '26,687.44',\n",
    "         'GBP',\n",
    "         '29,977.52',\n",
    "         '30,188.84',\n",
    "         '30,457.46',\n",
    "         'JPY',\n",
    "         '198.56',\n",
    "         '200.57',\n",
    "         '205.58',\n",
    "         'USD',\n",
    "         '23,245.00',\n",
    "         '23,245.00',\n",
    "         '23,335.00']\n",
    "exchange_output = [['AUD', '16,671.10', '16,771.73', '16,954.84'],\n",
    "                ['EUR', '26,216.05', '26,294.93', '26,687.44'],\n",
    "                ['GBP', '29,977.52', '30,188.84', '30,457.46'],\n",
    "                ['JPY', '198.56', '200.57', '205.58'],\n",
    "                ['USD', '23,245.00', '23,245.00', '23,335.00']]"
   ]
  },
  {
   "cell_type": "code",
   "execution_count": 21,
   "metadata": {},
   "outputs": [
    {
     "name": "stdout",
     "output_type": "stream",
     "text": [
      "[['AUD', '16,671.10', '16,771.73', '16,954.84'], ['EUR', '26,216.05', '26,294.93', '26,687.44'], ['GBP', '29,977.52', '30,188.84', '30,457.46'], ['JPY', '198.56', '200.57', '205.58'], ['USD', '23,245.00', '23,245.00', '23,335.00']]\n"
     ]
    }
   ],
   "source": [
    "exchange_output=[]\n",
    "for i in range(0,len(exchange_input),4):\n",
    "    a=exchange_input[i:i+4]\n",
    "    exchange_output.append(a)\n",
    "print(exchange_output)"
   ]
  },
  {
   "cell_type": "markdown",
   "metadata": {},
   "source": [
    "# TASK 10"
   ]
  },
  {
   "cell_type": "markdown",
   "metadata": {},
   "source": [
    "a, b, c là các số nguyên dương nhỏ hơn 10, biết a + b/c = 10\n",
    "\n",
    "In ra list chứa các bộ số thỏa mãn điều kiện trên (a, b, c có thể trùng nhau).\n",
    "\n",
    "Ví dụ:\n",
    "\n",
    "output: [[9, 1, 1], ...]\n",
    "\n",
    "Trả về list chứa các list là các bộ số thỏa mãn đề bài\n",
    "\n",
    "Ví dụ: [[9, 1, 1], ..., [1, 9, 1]]\n",
    "\n",
    "Lưu ý: kết quả từng list con trả về với a giảm dần, b và c tăng dần"
   ]
  },
  {
   "cell_type": "code",
   "execution_count": 29,
   "metadata": {},
   "outputs": [
    {
     "name": "stdout",
     "output_type": "stream",
     "text": [
      "[[9, 1, 1], [9, 2, 2], [9, 3, 3], [9, 4, 4], [9, 5, 5], [9, 6, 6], [9, 7, 7], [9, 8, 8], [9, 9, 9], [8, 2, 1], [8, 4, 2], [8, 6, 3], [8, 8, 4], [7, 3, 1], [7, 6, 2], [7, 9, 3], [6, 4, 1], [6, 8, 2], [5, 5, 1], [4, 6, 1], [3, 7, 1], [2, 8, 1], [1, 9, 1]]\n"
     ]
    }
   ],
   "source": [
    "D = []\n",
    "for a in range(9,0,-1):\n",
    "    for b in range(1,10):\n",
    "        for c in range(1,10):\n",
    "            if a + b/c == 10:\n",
    "                D.append([a,b,c])"
   ]
  },
  {
   "cell_type": "markdown",
   "metadata": {},
   "source": [
    "# TASK 11"
   ]
  },
  {
   "cell_type": "markdown",
   "metadata": {},
   "source": [
    "Cho list sau:\n",
    "\n",
    "data = ['I', 'Love', 'You', 'Chiu', 'Chiu']\n",
    "\n",
    "Tạo ra 1 list mới như bên dưới:\n",
    "\n",
    "result = [[1, 'I'], [2, 'Love'], [3, 'You'], [4, 'Chiu'], [5, 'Chiu']]"
   ]
  },
  {
   "cell_type": "code",
   "execution_count": 22,
   "metadata": {},
   "outputs": [],
   "source": [
    "data = ['I', 'Love', 'You', 'Chiu', 'Chiu']"
   ]
  },
  {
   "cell_type": "code",
   "execution_count": 23,
   "metadata": {},
   "outputs": [
    {
     "data": {
      "text/plain": [
       "[[1, 'I'], [2, 'Love'], [3, 'You'], [4, 'Chiu'], [5, 'Chiu']]"
      ]
     },
     "execution_count": 23,
     "metadata": {},
     "output_type": "execute_result"
    }
   ],
   "source": [
    "[[i, v] for i, v in zip(range(1, 6), data)]"
   ]
  },
  {
   "cell_type": "markdown",
   "metadata": {},
   "source": [
    "# TASK 12"
   ]
  },
  {
   "cell_type": "markdown",
   "metadata": {},
   "source": [
    "Viết script tính tổng điểm của 1 từ tiếng anh bất kì.\n",
    "\n",
    "Nếu a b c d (không phân biệt chữ hoa thường) .... lần lượt bằng 1 2 3 4 ... thì từ attitude có giá trị bằng 100. (https://9gag.com/gag/aWWP7bd?ref=fbp)"
   ]
  },
  {
   "cell_type": "code",
   "execution_count": 27,
   "metadata": {},
   "outputs": [
    {
     "name": "stdout",
     "output_type": "stream",
     "text": [
      "input string to calc: ATTITUDE\n",
      "100\n"
     ]
    }
   ],
   "source": [
    "import string\n",
    "str_input = input('input string to calc: ')\n",
    "abc = string.ascii_lowercase\n",
    "\n",
    "# YOUR CODE HERE\n",
    "number=[]\n",
    "string = str_input.lower()\n",
    "for i in string:\n",
    "    num = abc.find(i) + 1\n",
    "    number.append(num)\n",
    "print(sum(number))"
   ]
  },
  {
   "cell_type": "code",
   "execution_count": null,
   "metadata": {},
   "outputs": [],
   "source": []
  },
  {
   "cell_type": "code",
   "execution_count": null,
   "metadata": {},
   "outputs": [],
   "source": []
  }
 ],
 "metadata": {
  "kernelspec": {
   "display_name": "Python 3",
   "language": "python",
   "name": "python3"
  },
  "language_info": {
   "codemirror_mode": {
    "name": "ipython",
    "version": 3
   },
   "file_extension": ".py",
   "mimetype": "text/x-python",
   "name": "python",
   "nbconvert_exporter": "python",
   "pygments_lexer": "ipython3",
   "version": "3.7.3"
  }
 },
 "nbformat": 4,
 "nbformat_minor": 2
}
