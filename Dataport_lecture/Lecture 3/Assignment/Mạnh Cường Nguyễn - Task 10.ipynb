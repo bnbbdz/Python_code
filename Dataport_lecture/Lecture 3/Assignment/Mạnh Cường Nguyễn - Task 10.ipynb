{
 "cells": [
  {
   "cell_type": "markdown",
   "metadata": {},
   "source": [
    "# Task 10 "
   ]
  },
  {
   "cell_type": "markdown",
   "metadata": {},
   "source": [
    "a, b, c là các số nguyên dương nhỏ hơn 10, biết a + b/c = 10\n",
    "\n",
    "In ra list chứa các bộ số thỏa mãn điều kiện trên (a, b, c có thể trùng nhau).\n",
    "\n",
    "Ví dụ:\n",
    "\n",
    "output: [[9, 1, 1], ...]\n",
    "\n",
    "Trả về list chứa các list là các bộ số thỏa mãn đề bài\n",
    "\n",
    "Ví dụ: [[9, 1, 1], ..., [1, 9, 1]]\n",
    "\n",
    "<b> Lưu ý: kết quả từng list con trả về với a giảm dần, b và c tăng dần</b> "
   ]
  },
  {
   "cell_type": "code",
   "execution_count": 20,
   "metadata": {},
   "outputs": [
    {
     "data": {
      "text/plain": [
       "[[9, 1, 1],\n",
       " [9, 2, 2],\n",
       " [9, 3, 3],\n",
       " [9, 4, 4],\n",
       " [9, 5, 5],\n",
       " [9, 6, 6],\n",
       " [9, 7, 7],\n",
       " [9, 8, 8],\n",
       " [9, 9, 9],\n",
       " [8, 2, 1],\n",
       " [8, 4, 2],\n",
       " [8, 6, 3],\n",
       " [8, 8, 4],\n",
       " [7, 3, 1],\n",
       " [7, 6, 2],\n",
       " [7, 9, 3],\n",
       " [6, 4, 1],\n",
       " [6, 8, 2],\n",
       " [5, 5, 1],\n",
       " [4, 6, 1],\n",
       " [3, 7, 1],\n",
       " [2, 8, 1],\n",
       " [1, 9, 1]]"
      ]
     },
     "execution_count": 20,
     "metadata": {},
     "output_type": "execute_result"
    }
   ],
   "source": [
    "# YOUR CODE HERE\n",
    "List = []\n",
    "for a in reversed(range(0,10)) :\n",
    "    for b in range(0,10) :\n",
    "        for c in range(1,10) :\n",
    "            if a + b/c == 10 :\n",
    "                List.append([a,b,c])\n",
    "List"
   ]
  },
  {
   "cell_type": "code",
   "execution_count": null,
   "metadata": {},
   "outputs": [],
   "source": []
  },
  {
   "cell_type": "code",
   "execution_count": null,
   "metadata": {},
   "outputs": [],
   "source": []
  }
 ],
 "metadata": {
  "kernelspec": {
   "display_name": "Python 3",
   "language": "python",
   "name": "python3"
  },
  "language_info": {
   "codemirror_mode": {
    "name": "ipython",
    "version": 3
   },
   "file_extension": ".py",
   "mimetype": "text/x-python",
   "name": "python",
   "nbconvert_exporter": "python",
   "pygments_lexer": "ipython3",
   "version": "3.7.1"
  },
  "toc": {
   "base_numbering": 1,
   "nav_menu": {},
   "number_sections": true,
   "sideBar": true,
   "skip_h1_title": false,
   "title_cell": "Table of Contents",
   "title_sidebar": "Contents",
   "toc_cell": false,
   "toc_position": {},
   "toc_section_display": true,
   "toc_window_display": false
  }
 },
 "nbformat": 4,
 "nbformat_minor": 2
}
