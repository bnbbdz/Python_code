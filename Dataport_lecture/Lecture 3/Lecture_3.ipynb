{
 "cells": [
  {
   "cell_type": "markdown",
   "metadata": {
    "colab_type": "text",
    "id": "4OP8FoYkOhy8"
   },
   "source": [
    "# Data Structures and Sequences"
   ]
  },
  {
   "cell_type": "markdown",
   "metadata": {
    "colab_type": "text",
    "id": "gyNLPl4FOh01"
   },
   "source": [
    "# list\n",
    "In contrast with tuples, lists are variable-length and their contents can be modified\n",
    "in-place. You can define them using square brackets [] or using the list type function:"
   ]
  },
  {
   "cell_type": "code",
   "execution_count": null,
   "metadata": {
    "colab": {},
    "colab_type": "code",
    "id": "JCWmAwzyOh02"
   },
   "outputs": [],
   "source": [
    "dpy = []\n",
    "dpy"
   ]
  },
  {
   "cell_type": "code",
   "execution_count": null,
   "metadata": {},
   "outputs": [],
   "source": [
    "dpy.append('bao')"
   ]
  },
  {
   "cell_type": "code",
   "execution_count": null,
   "metadata": {},
   "outputs": [],
   "source": [
    "dpy"
   ]
  },
  {
   "cell_type": "code",
   "execution_count": null,
   "metadata": {},
   "outputs": [],
   "source": [
    "team = ['linh', 'chi', 'huong', 'hien']\n",
    "dpy.extend(team)"
   ]
  },
  {
   "cell_type": "code",
   "execution_count": null,
   "metadata": {
    "scrolled": false
   },
   "outputs": [],
   "source": [
    "dpy"
   ]
  },
  {
   "cell_type": "code",
   "execution_count": null,
   "metadata": {},
   "outputs": [],
   "source": [
    "dpy.remove('bao')"
   ]
  },
  {
   "cell_type": "code",
   "execution_count": null,
   "metadata": {},
   "outputs": [],
   "source": [
    "dpy"
   ]
  },
  {
   "cell_type": "code",
   "execution_count": null,
   "metadata": {},
   "outputs": [],
   "source": [
    "dpy[1]"
   ]
  },
  {
   "cell_type": "code",
   "execution_count": null,
   "metadata": {},
   "outputs": [],
   "source": [
    "dpy.insert(1, 'viet')"
   ]
  },
  {
   "cell_type": "code",
   "execution_count": null,
   "metadata": {
    "scrolled": true
   },
   "outputs": [],
   "source": [
    "dpy"
   ]
  },
  {
   "cell_type": "code",
   "execution_count": null,
   "metadata": {},
   "outputs": [],
   "source": [
    "len(dpy)"
   ]
  },
  {
   "cell_type": "code",
   "execution_count": null,
   "metadata": {},
   "outputs": [],
   "source": [
    "dpy[1]"
   ]
  },
  {
   "cell_type": "code",
   "execution_count": null,
   "metadata": {},
   "outputs": [],
   "source": [
    "x = dpy.pop(1)"
   ]
  },
  {
   "cell_type": "code",
   "execution_count": null,
   "metadata": {},
   "outputs": [],
   "source": [
    "x"
   ]
  },
  {
   "cell_type": "code",
   "execution_count": null,
   "metadata": {},
   "outputs": [],
   "source": [
    "dpy"
   ]
  },
  {
   "cell_type": "code",
   "execution_count": null,
   "metadata": {},
   "outputs": [],
   "source": [
    "'huong' in dpy"
   ]
  },
  {
   "cell_type": "code",
   "execution_count": null,
   "metadata": {},
   "outputs": [],
   "source": [
    "dpy = ['linh', 'viet', 'chi', 'huong', 'hien']"
   ]
  },
  {
   "cell_type": "code",
   "execution_count": null,
   "metadata": {},
   "outputs": [],
   "source": [
    "dpy[0:2]"
   ]
  },
  {
   "cell_type": "code",
   "execution_count": null,
   "metadata": {},
   "outputs": [],
   "source": [
    "dpy[-3:-1]"
   ]
  },
  {
   "cell_type": "code",
   "execution_count": null,
   "metadata": {},
   "outputs": [],
   "source": [
    "dpy[0:3:2]"
   ]
  },
  {
   "cell_type": "code",
   "execution_count": null,
   "metadata": {},
   "outputs": [],
   "source": [
    "dpy[1:5:3]"
   ]
  },
  {
   "cell_type": "code",
   "execution_count": null,
   "metadata": {
    "scrolled": true
   },
   "outputs": [],
   "source": [
    "for student in dpy:\n",
    "    print('chao {}'.format(student))"
   ]
  },
  {
   "cell_type": "markdown",
   "metadata": {},
   "source": [
    "### range\n",
    "range formula:   <b> range(start, stop[, step]) </b>"
   ]
  },
  {
   "cell_type": "code",
   "execution_count": null,
   "metadata": {
    "colab": {},
    "colab_type": "code",
    "id": "pb8OdIRtOh1L",
    "scrolled": true
   },
   "outputs": [],
   "source": [
    "gen = range(-10, 10, 3)\n",
    "li=list(gen)\n",
    "li"
   ]
  },
  {
   "cell_type": "code",
   "execution_count": null,
   "metadata": {},
   "outputs": [],
   "source": [
    "sum(li)"
   ]
  },
  {
   "cell_type": "code",
   "execution_count": null,
   "metadata": {},
   "outputs": [],
   "source": [
    "gen2=range(1,11)\n",
    "li2=list(gen2)\n",
    "li2"
   ]
  },
  {
   "cell_type": "code",
   "execution_count": null,
   "metadata": {
    "scrolled": true
   },
   "outputs": [],
   "source": [
    "print(list(range(1, 10, 2)))"
   ]
  },
  {
   "cell_type": "markdown",
   "metadata": {},
   "source": [
    "## Practice:\n",
    "Tính tổng các số chia hết cho 3 và <b>KHÔNG</b> chia hết cho 7 từ 1 đến 100:\n",
    "\n",
    "Duration: 5 mins"
   ]
  },
  {
   "cell_type": "code",
   "execution_count": null,
   "metadata": {},
   "outputs": [],
   "source": [
    "su = 0\n",
    "for i in range(1, 101):\n",
    "    if i%3==0 and i%7!=0:\n",
    "        su += i\n",
    "print(su)"
   ]
  },
  {
   "cell_type": "code",
   "execution_count": null,
   "metadata": {},
   "outputs": [],
   "source": [
    "sum([i for i in range(1, 101) if (i%3==0 and i%7!=0)])"
   ]
  },
  {
   "cell_type": "markdown",
   "metadata": {
    "colab_type": "text",
    "id": "99ludYIUOh2W"
   },
   "source": [
    "### Concatenating, combining and filtering lists"
   ]
  },
  {
   "cell_type": "code",
   "execution_count": null,
   "metadata": {
    "colab": {},
    "colab_type": "code",
    "id": "6I-t31lIOh2X",
    "outputId": "ba787869-f6d9-4a0e-a96f-e8b2e1f7da92"
   },
   "outputs": [],
   "source": [
    "lst = [4, None, 'foo'] + [7, 8, (2, 3)]\n",
    "lst"
   ]
  },
  {
   "cell_type": "code",
   "execution_count": null,
   "metadata": {
    "colab": {},
    "colab_type": "code",
    "id": "HwLIGFcoOh2f"
   },
   "outputs": [],
   "source": [
    "x = [4, None, 'foo']\n",
    "x.extend([7, 8, (2, 3)])\n",
    "x"
   ]
  },
  {
   "cell_type": "markdown",
   "metadata": {
    "colab_type": "text",
    "id": "-C6ldsDzOh21"
   },
   "source": [
    "### Sorting"
   ]
  },
  {
   "cell_type": "code",
   "execution_count": null,
   "metadata": {
    "colab": {},
    "colab_type": "code",
    "id": "iJXQNd8BOh22"
   },
   "outputs": [],
   "source": [
    "a = [7, 2, 5, 1, 3]"
   ]
  },
  {
   "cell_type": "code",
   "execution_count": null,
   "metadata": {
    "colab": {},
    "colab_type": "code",
    "id": "JagiYDf3Oh2-"
   },
   "outputs": [],
   "source": [
    "a.sort(reverse=True)"
   ]
  },
  {
   "cell_type": "code",
   "execution_count": null,
   "metadata": {
    "colab": {},
    "colab_type": "code",
    "id": "ne8oY2DEOh3G",
    "outputId": "f5ae5acb-fdee-4cdf-af93-490b84c23b7f"
   },
   "outputs": [],
   "source": [
    "a"
   ]
  },
  {
   "cell_type": "code",
   "execution_count": null,
   "metadata": {},
   "outputs": [],
   "source": [
    "sum(a)"
   ]
  },
  {
   "cell_type": "code",
   "execution_count": null,
   "metadata": {},
   "outputs": [],
   "source": [
    "min(a)"
   ]
  },
  {
   "cell_type": "code",
   "execution_count": null,
   "metadata": {
    "scrolled": true
   },
   "outputs": [],
   "source": [
    "max(a)"
   ]
  },
  {
   "cell_type": "code",
   "execution_count": null,
   "metadata": {},
   "outputs": [],
   "source": [
    "a.copy?"
   ]
  },
  {
   "cell_type": "code",
   "execution_count": null,
   "metadata": {},
   "outputs": [],
   "source": [
    "dir(a)"
   ]
  },
  {
   "cell_type": "code",
   "execution_count": null,
   "metadata": {
    "colab": {},
    "colab_type": "code",
    "id": "ZX9uJDqqOh3P"
   },
   "outputs": [],
   "source": [
    "b = ['saw', 'six', 'sal', 'He', 'foxes']\n",
    "#b.sort()\n",
    "b.sort(key=len)\n",
    "b"
   ]
  },
  {
   "cell_type": "code",
   "execution_count": null,
   "metadata": {
    "colab": {},
    "colab_type": "code",
    "id": "ITKeNSOrOh4L",
    "outputId": "9f33c68a-959b-46cd-fa5f-d0037a95d350",
    "scrolled": true
   },
   "outputs": [],
   "source": [
    "#sorted\n",
    "a = [7, 1, 2, 6, 0, 3, 2]\n",
    "b = sorted(a)"
   ]
  },
  {
   "cell_type": "code",
   "execution_count": null,
   "metadata": {
    "colab": {},
    "colab_type": "code",
    "id": "aYNf5NxHOh4O",
    "outputId": "399f4742-a8ef-4c17-809c-1b4d67f183b3"
   },
   "outputs": [],
   "source": [
    "print(a)\n",
    "print(b)"
   ]
  },
  {
   "cell_type": "markdown",
   "metadata": {
    "colab_type": "text",
    "id": "m-EjFzZ1Ohy-"
   },
   "source": [
    "## Tuple\n",
    "A tuple is a fixed-length, immutable sequence of Python objects. The easiest way to create one is with a comma-separated sequence of values:"
   ]
  },
  {
   "cell_type": "markdown",
   "metadata": {},
   "source": [
    "Create a tuple, check tuple detail"
   ]
  },
  {
   "cell_type": "code",
   "execution_count": null,
   "metadata": {
    "colab": {},
    "colab_type": "code",
    "id": "jvDoKQx9Ohy_"
   },
   "outputs": [],
   "source": [
    "tup = (2, 3 ,5)"
   ]
  },
  {
   "cell_type": "code",
   "execution_count": null,
   "metadata": {
    "colab": {},
    "colab_type": "code",
    "id": "xM21wVwROhzF",
    "outputId": "88f53f10-dc1e-45b3-a393-83bc68cc2349"
   },
   "outputs": [],
   "source": [
    "tup"
   ]
  },
  {
   "cell_type": "code",
   "execution_count": null,
   "metadata": {
    "colab": {},
    "colab_type": "code",
    "id": "3SWES_UaOhzO"
   },
   "outputs": [],
   "source": [
    "tup?"
   ]
  },
  {
   "cell_type": "markdown",
   "metadata": {},
   "source": [
    "Create a nested tuple"
   ]
  },
  {
   "cell_type": "code",
   "execution_count": null,
   "metadata": {
    "colab": {},
    "colab_type": "code",
    "id": "q7gtZZ6zOhzT"
   },
   "outputs": [],
   "source": [
    "nested_tup = ((4, 5, 6), (7, 8))"
   ]
  },
  {
   "cell_type": "code",
   "execution_count": null,
   "metadata": {
    "colab": {},
    "colab_type": "code",
    "id": "KiG2hGkbOhzX",
    "outputId": "9bdcbd13-d950-47fb-fa94-0f33a15d3817",
    "scrolled": true
   },
   "outputs": [],
   "source": [
    "nested_tup"
   ]
  },
  {
   "cell_type": "markdown",
   "metadata": {},
   "source": [
    "Convert a list to a tuple"
   ]
  },
  {
   "cell_type": "code",
   "execution_count": null,
   "metadata": {
    "colab": {},
    "colab_type": "code",
    "id": "PdsLx1kgOhzc",
    "outputId": "c3e07b60-685a-480c-a02b-54c3d71e81fe"
   },
   "outputs": [],
   "source": [
    "li=[3, 5, 6]\n",
    "a = tuple(li)\n",
    "a\n"
   ]
  },
  {
   "cell_type": "code",
   "execution_count": null,
   "metadata": {},
   "outputs": [],
   "source": [
    "b=list(a)\n",
    "print(b)\n",
    "print(a)"
   ]
  },
  {
   "cell_type": "markdown",
   "metadata": {},
   "source": [
    "Convert a string to a tuple"
   ]
  },
  {
   "cell_type": "code",
   "execution_count": null,
   "metadata": {
    "colab": {},
    "colab_type": "code",
    "id": "kV9RLeaIOhzi",
    "outputId": "ceef3f42-96d4-499e-f054-6faf164d31ee"
   },
   "outputs": [],
   "source": [
    "tuple('a string')"
   ]
  },
  {
   "cell_type": "markdown",
   "metadata": {
    "colab_type": "text",
    "id": "IoSE38jqOhzn"
   },
   "source": [
    "Access Tuple Items"
   ]
  },
  {
   "cell_type": "code",
   "execution_count": null,
   "metadata": {
    "colab": {},
    "colab_type": "code",
    "id": "pLAnJlcuOhzq",
    "outputId": "45a5c58b-c949-412d-8a51-322af6fd4a9b"
   },
   "outputs": [],
   "source": [
    "tup = (2, 3 ,5)\n",
    "tup[0]"
   ]
  },
  {
   "cell_type": "code",
   "execution_count": null,
   "metadata": {
    "colab": {},
    "colab_type": "code",
    "id": "1VqXJTgsOhzx"
   },
   "outputs": [],
   "source": [
    "tup =('foo', [1, 2], True)"
   ]
  },
  {
   "cell_type": "code",
   "execution_count": null,
   "metadata": {},
   "outputs": [],
   "source": [
    "x = list(tup)\n",
    "x"
   ]
  },
  {
   "cell_type": "code",
   "execution_count": null,
   "metadata": {},
   "outputs": [],
   "source": [
    "x[1] = [1, 2, 3]\n",
    "x"
   ]
  },
  {
   "cell_type": "code",
   "execution_count": null,
   "metadata": {},
   "outputs": [],
   "source": [
    "tuple(x)"
   ]
  },
  {
   "cell_type": "code",
   "execution_count": null,
   "metadata": {},
   "outputs": [],
   "source": [
    "tup"
   ]
  },
  {
   "cell_type": "markdown",
   "metadata": {},
   "source": [
    "Change Tuple Values"
   ]
  },
  {
   "cell_type": "code",
   "execution_count": 1,
   "metadata": {
    "colab": {},
    "colab_type": "code",
    "id": "WaVPOi1zOhz1",
    "outputId": "7493fc36-d5dc-4948-8835-e5db10a290a3"
   },
   "outputs": [],
   "source": [
    "tup =('foo', [1, 2], True)\n",
    "tup[1].append(3)"
   ]
  },
  {
   "cell_type": "code",
   "execution_count": null,
   "metadata": {
    "scrolled": true
   },
   "outputs": [],
   "source": [
    "tup"
   ]
  },
  {
   "cell_type": "code",
   "execution_count": null,
   "metadata": {},
   "outputs": [],
   "source": [
    "tup[1]=1"
   ]
  },
  {
   "cell_type": "code",
   "execution_count": null,
   "metadata": {},
   "outputs": [],
   "source": [
    "a = [1, [2, 3], 4]"
   ]
  },
  {
   "cell_type": "code",
   "execution_count": null,
   "metadata": {},
   "outputs": [],
   "source": [
    "b = a"
   ]
  },
  {
   "cell_type": "code",
   "execution_count": null,
   "metadata": {},
   "outputs": [],
   "source": [
    "a[1].append(56)"
   ]
  },
  {
   "cell_type": "code",
   "execution_count": null,
   "metadata": {},
   "outputs": [],
   "source": [
    "a"
   ]
  },
  {
   "cell_type": "code",
   "execution_count": null,
   "metadata": {},
   "outputs": [],
   "source": [
    "b[1].append(10)"
   ]
  },
  {
   "cell_type": "code",
   "execution_count": null,
   "metadata": {},
   "outputs": [],
   "source": [
    "b"
   ]
  },
  {
   "cell_type": "code",
   "execution_count": null,
   "metadata": {},
   "outputs": [],
   "source": [
    "a"
   ]
  },
  {
   "cell_type": "markdown",
   "metadata": {},
   "source": [
    "Can't not remove or add Items in tuple"
   ]
  },
  {
   "cell_type": "markdown",
   "metadata": {},
   "source": [
    "unpacking a tuple"
   ]
  },
  {
   "cell_type": "code",
   "execution_count": null,
   "metadata": {
    "colab": {},
    "colab_type": "code",
    "id": "iNrWHMDpOh0G"
   },
   "outputs": [],
   "source": [
    "tup = (6, 8 ,9)\n",
    "a, b, c = tup"
   ]
  },
  {
   "cell_type": "code",
   "execution_count": null,
   "metadata": {
    "colab": {},
    "colab_type": "code",
    "id": "CKRFw5xlOh0J",
    "outputId": "82241099-eb90-4eab-fd6f-2b880e9d3d07",
    "scrolled": true
   },
   "outputs": [],
   "source": [
    "a"
   ]
  },
  {
   "cell_type": "code",
   "execution_count": null,
   "metadata": {
    "colab": {},
    "colab_type": "code",
    "id": "eaH80asjOh0O",
    "outputId": "020e28cb-944b-41e4-c320-8f3fc8124571",
    "scrolled": true
   },
   "outputs": [],
   "source": [
    "b"
   ]
  },
  {
   "cell_type": "code",
   "execution_count": null,
   "metadata": {},
   "outputs": [],
   "source": [
    "z=tup[0]\n",
    "z"
   ]
  },
  {
   "cell_type": "code",
   "execution_count": null,
   "metadata": {
    "colab": {},
    "colab_type": "code",
    "id": "hUB1kfFVOh0V"
   },
   "outputs": [],
   "source": [
    "tup = (5, [6, 7, 8], 9)\n",
    "a, [x, y, z], c = tup"
   ]
  },
  {
   "cell_type": "code",
   "execution_count": null,
   "metadata": {
    "colab": {},
    "colab_type": "code",
    "id": "AiYLIV5lOh0a",
    "outputId": "4cc0d8fb-16ab-4a53-ba30-c768a87f86d1"
   },
   "outputs": [],
   "source": [
    "x"
   ]
  },
  {
   "cell_type": "code",
   "execution_count": null,
   "metadata": {},
   "outputs": [],
   "source": [
    "khanh = 1,2,3"
   ]
  },
  {
   "cell_type": "code",
   "execution_count": null,
   "metadata": {},
   "outputs": [],
   "source": [
    "khanh"
   ]
  },
  {
   "cell_type": "code",
   "execution_count": null,
   "metadata": {},
   "outputs": [],
   "source": [
    "new_tuple = 1, 2, 3, '', 5\n",
    "new_tuple"
   ]
  },
  {
   "cell_type": "markdown",
   "metadata": {},
   "source": [
    "Try: min(), max(), len(), sum()"
   ]
  },
  {
   "cell_type": "markdown",
   "metadata": {
    "colab_type": "text",
    "id": "J6uDYPnSOh4f"
   },
   "source": [
    "## dict\n",
    "dict is a flexibly sized collection of key-value pairs, where key and value are Python objects. One approach for creating one is to use curly braces {} and colons to separate keys and values:"
   ]
  },
  {
   "cell_type": "code",
   "execution_count": null,
   "metadata": {
    "colab": {},
    "colab_type": "code",
    "id": "ilHJcxGYOh4g"
   },
   "outputs": [],
   "source": [
    "d1 = {'full_name' : 'Nguyen Van A', 'phones' : ['090078955','0168558889']}\n",
    "d1"
   ]
  },
  {
   "cell_type": "code",
   "execution_count": null,
   "metadata": {},
   "outputs": [],
   "source": [
    "d1['phones']"
   ]
  },
  {
   "cell_type": "code",
   "execution_count": null,
   "metadata": {
    "colab": {},
    "colab_type": "code",
    "id": "0w-rl04tOh4l"
   },
   "outputs": [],
   "source": [
    "d1['id'] = '017109888'\n",
    "d1"
   ]
  },
  {
   "cell_type": "code",
   "execution_count": null,
   "metadata": {
    "scrolled": true
   },
   "outputs": [],
   "source": [
    "d1['id'] = '5678'\n",
    "d1"
   ]
  },
  {
   "cell_type": "code",
   "execution_count": null,
   "metadata": {},
   "outputs": [],
   "source": [
    "s=d1['phones'][1] \n",
    "type(d1['phones'][1])"
   ]
  },
  {
   "cell_type": "code",
   "execution_count": null,
   "metadata": {
    "colab": {},
    "colab_type": "code",
    "id": "dXEvS_lmOh4s",
    "outputId": "4bc0685d-f5fb-4033-fb21-7ae945f59c3e"
   },
   "outputs": [],
   "source": [
    "d1['phones'][1] = d1['phones'][1].replace('016', '03')"
   ]
  },
  {
   "cell_type": "code",
   "execution_count": null,
   "metadata": {},
   "outputs": [],
   "source": [
    "d1"
   ]
  },
  {
   "cell_type": "code",
   "execution_count": null,
   "metadata": {
    "colab": {},
    "colab_type": "code",
    "id": "BMqkyKihOh4x",
    "outputId": "befeec59-1b43-48ba-b7cf-9c4789c2f059"
   },
   "outputs": [],
   "source": [
    "'id' in d1"
   ]
  },
  {
   "cell_type": "code",
   "execution_count": null,
   "metadata": {
    "colab": {},
    "colab_type": "code",
    "id": "UN9dtqEMOh40"
   },
   "outputs": [],
   "source": [
    "from datetime import date\n",
    "d1['dob'] = date(1999,1,21)\n",
    "d1"
   ]
  },
  {
   "cell_type": "code",
   "execution_count": null,
   "metadata": {
    "colab": {},
    "colab_type": "code",
    "id": "J7HXfb78Oh44"
   },
   "outputs": [],
   "source": [
    "del d1['id']\n",
    "d1"
   ]
  },
  {
   "cell_type": "code",
   "execution_count": null,
   "metadata": {
    "colab": {},
    "colab_type": "code",
    "id": "-ZD_FFVtOh48",
    "outputId": "97af0df4-f142-42c3-d079-032ea0b289ce"
   },
   "outputs": [],
   "source": [
    "d1.pop('phones')"
   ]
  },
  {
   "cell_type": "code",
   "execution_count": null,
   "metadata": {},
   "outputs": [],
   "source": [
    "d1"
   ]
  },
  {
   "cell_type": "code",
   "execution_count": null,
   "metadata": {},
   "outputs": [],
   "source": [
    "d2 = {'full_name' : 'Nguyen Van Teo', 'phones' : ['89548224'], 'id':'1568','address':'Hanoi'}\n",
    "d1.update(d2)"
   ]
  },
  {
   "cell_type": "code",
   "execution_count": null,
   "metadata": {
    "colab": {},
    "colab_type": "code",
    "id": "BWa-jYZ8Oh4-",
    "outputId": "97f53ae5-c5d5-4bb9-9585-ebf746b1b5ec"
   },
   "outputs": [],
   "source": [
    "d1"
   ]
  },
  {
   "cell_type": "code",
   "execution_count": null,
   "metadata": {
    "colab": {},
    "colab_type": "code",
    "id": "df3G5qXZOh5C",
    "outputId": "07ab8f7e-fc3e-44aa-ae5c-3732620c1d1b"
   },
   "outputs": [],
   "source": [
    "list(d1.keys())"
   ]
  },
  {
   "cell_type": "code",
   "execution_count": null,
   "metadata": {
    "colab": {},
    "colab_type": "code",
    "id": "M_CgPFrAOh5E",
    "outputId": "703b36cf-56b6-4c2a-ae72-03051a6f2f08"
   },
   "outputs": [],
   "source": [
    "list(d1.values())"
   ]
  },
  {
   "cell_type": "code",
   "execution_count": null,
   "metadata": {},
   "outputs": [],
   "source": [
    "d1.items()"
   ]
  },
  {
   "cell_type": "code",
   "execution_count": null,
   "metadata": {
    "scrolled": true
   },
   "outputs": [],
   "source": [
    "for key, value in d1.items():\n",
    "    print (key, value)"
   ]
  },
  {
   "cell_type": "code",
   "execution_count": null,
   "metadata": {},
   "outputs": [],
   "source": [
    "name = ['bao', 'huong', 'linh']\n",
    "mark = ['8', '7', '8']\n",
    "combined=zip(name, mark)\n",
    "combined=dict(combined)\n",
    "combined"
   ]
  },
  {
   "cell_type": "code",
   "execution_count": null,
   "metadata": {},
   "outputs": [],
   "source": [
    "for name, mark in combined:\n",
    "    print('{0}\\'s mark is {1}'.format(name,mark))"
   ]
  },
  {
   "cell_type": "code",
   "execution_count": null,
   "metadata": {
    "colab": {},
    "colab_type": "code",
    "id": "rXLC2gMtOh4T"
   },
   "outputs": [],
   "source": [
    "#zip\n",
    "value = ['Nguyễn Văn A', 1235849, 'A']\n",
    "key = ['Full Name', 'ID', 'Grade']\n",
    "zipped = zip(key, value)\n",
    "zipped?"
   ]
  },
  {
   "cell_type": "code",
   "execution_count": null,
   "metadata": {},
   "outputs": [],
   "source": [
    "dict(zipped)"
   ]
  },
  {
   "cell_type": "markdown",
   "metadata": {
    "colab_type": "text",
    "id": "tKtOpBw8Oh5Y"
   },
   "source": [
    "## set"
   ]
  },
  {
   "cell_type": "markdown",
   "metadata": {
    "colab_type": "text",
    "id": "GzPjgpx7Oh5Z"
   },
   "source": [
    "A set is an unordered collection of unique elements. You can think of them like dicts,\n",
    "but keys only, no values. A set can be created in two ways: via the set function or via\n",
    "a set literal with curly braces:"
   ]
  },
  {
   "cell_type": "code",
   "execution_count": 3,
   "metadata": {
    "colab": {},
    "colab_type": "code",
    "id": "CZAII0IUOh5a",
    "outputId": "f1af0a88-3b60-4a36-c570-4df8593698f7",
    "scrolled": true
   },
   "outputs": [
    {
     "name": "stdout",
     "output_type": "stream",
     "text": [
      "[2, 2, 2, 1, 3, 3]\n",
      "{1, 2, 3}\n"
     ]
    }
   ],
   "source": [
    "li = [2, 2, 2, 1, 3, 3]\n",
    "se = set(li)\n",
    "print (li)\n",
    "print (se)"
   ]
  },
  {
   "cell_type": "code",
   "execution_count": 4,
   "metadata": {
    "colab": {},
    "colab_type": "code",
    "id": "IbDyjVP-Oh5c"
   },
   "outputs": [],
   "source": [
    "a = {1, 2, 3, 4, 5}\n",
    "b = {3, 4, 5, 6, 7, 8}"
   ]
  },
  {
   "cell_type": "code",
   "execution_count": 5,
   "metadata": {
    "colab": {},
    "colab_type": "code",
    "id": "Ms7wvvyVOh5e",
    "outputId": "39c57697-d1b2-45da-e197-e7ba9772eda5"
   },
   "outputs": [
    {
     "data": {
      "text/plain": [
       "{1, 2, 3, 4, 5, 6, 7, 8}"
      ]
     },
     "execution_count": 5,
     "metadata": {},
     "output_type": "execute_result"
    }
   ],
   "source": [
    "a.union(b)"
   ]
  },
  {
   "cell_type": "code",
   "execution_count": 6,
   "metadata": {
    "colab": {},
    "colab_type": "code",
    "id": "m4keGjKtOh5g",
    "outputId": "7db820e6-0ab9-4e2f-87e6-e55b4aa849dc"
   },
   "outputs": [
    {
     "data": {
      "text/plain": [
       "{3, 4, 5}"
      ]
     },
     "execution_count": 6,
     "metadata": {},
     "output_type": "execute_result"
    }
   ],
   "source": [
    "a.intersection(b)"
   ]
  },
  {
   "cell_type": "code",
   "execution_count": 7,
   "metadata": {},
   "outputs": [
    {
     "data": {
      "text/plain": [
       "{1, 2}"
      ]
     },
     "execution_count": 7,
     "metadata": {},
     "output_type": "execute_result"
    }
   ],
   "source": [
    "a.difference(b)"
   ]
  },
  {
   "cell_type": "code",
   "execution_count": 8,
   "metadata": {
    "colab": {},
    "colab_type": "code",
    "id": "2HswS05oOh5j"
   },
   "outputs": [
    {
     "data": {
      "text/plain": [
       "{1, 2, 3, 4}"
      ]
     },
     "execution_count": 8,
     "metadata": {},
     "output_type": "execute_result"
    }
   ],
   "source": [
    "a = {1, 2, 3, 4, 5}\n",
    "a.discard(5)\n",
    "a"
   ]
  },
  {
   "cell_type": "code",
   "execution_count": 9,
   "metadata": {},
   "outputs": [
    {
     "data": {
      "text/plain": [
       "{1, 2, 3, 4, 5}"
      ]
     },
     "execution_count": 9,
     "metadata": {},
     "output_type": "execute_result"
    }
   ],
   "source": [
    "a.add(5)\n",
    "a"
   ]
  },
  {
   "cell_type": "code",
   "execution_count": 10,
   "metadata": {},
   "outputs": [],
   "source": [
    "a = {1, 2, 3, 4, 5}"
   ]
  },
  {
   "cell_type": "code",
   "execution_count": 11,
   "metadata": {
    "scrolled": true
   },
   "outputs": [],
   "source": [
    "a.remove?"
   ]
  },
  {
   "cell_type": "code",
   "execution_count": null,
   "metadata": {},
   "outputs": [],
   "source": [
    "a"
   ]
  },
  {
   "cell_type": "code",
   "execution_count": 12,
   "metadata": {},
   "outputs": [],
   "source": [
    "a.discard?"
   ]
  },
  {
   "cell_type": "code",
   "execution_count": 13,
   "metadata": {
    "colab": {},
    "colab_type": "code",
    "id": "ARvBedLWOh5o"
   },
   "outputs": [],
   "source": [
    "my_data = [1, 2, 3, 4]\n",
    "my_set = {tuple(my_data)}"
   ]
  },
  {
   "cell_type": "code",
   "execution_count": 14,
   "metadata": {},
   "outputs": [
    {
     "data": {
      "text/plain": [
       "{(1, 2, 3, 4)}"
      ]
     },
     "execution_count": 14,
     "metadata": {},
     "output_type": "execute_result"
    }
   ],
   "source": [
    "my_set"
   ]
  },
  {
   "cell_type": "code",
   "execution_count": 15,
   "metadata": {
    "colab": {},
    "colab_type": "code",
    "id": "jGKQ7zFfOh5p",
    "outputId": "202a78b7-0026-42d4-fb38-ca9d32d1b1e4"
   },
   "outputs": [],
   "source": [
    "new_set = {1, 2, 3, 4}"
   ]
  },
  {
   "cell_type": "code",
   "execution_count": 16,
   "metadata": {
    "colab": {},
    "colab_type": "code",
    "id": "gmkWMWmaOh5u"
   },
   "outputs": [],
   "source": [
    "a_set = {1, 2, 3, 4, 5}"
   ]
  },
  {
   "cell_type": "code",
   "execution_count": null,
   "metadata": {
    "colab": {},
    "colab_type": "code",
    "id": "sw3XcDkCOh5w",
    "outputId": "efba825c-1745-4b67-ecce-fe7398e63c68"
   },
   "outputs": [],
   "source": [
    "new_set.issubset(a_set)"
   ]
  },
  {
   "cell_type": "code",
   "execution_count": 17,
   "metadata": {
    "colab": {},
    "colab_type": "code",
    "id": "6XihYUmcOh5x",
    "outputId": "153e832d-58b4-47ea-8384-569d0f1df46c"
   },
   "outputs": [
    {
     "data": {
      "text/plain": [
       "True"
      ]
     },
     "execution_count": 17,
     "metadata": {},
     "output_type": "execute_result"
    }
   ],
   "source": [
    "{1, 2, 3} == {3, 2, 1}"
   ]
  },
  {
   "cell_type": "markdown",
   "metadata": {
    "colab_type": "text",
    "id": "KFDQMykgIAqn"
   },
   "source": [
    "## for loops over collection\n",
    "for loops are for iterating over a collection (like a list or tuple) or an iterater."
   ]
  },
  {
   "cell_type": "code",
   "execution_count": 21,
   "metadata": {
    "colab": {},
    "colab_type": "code",
    "id": "p9UMJhOGIAqq"
   },
   "outputs": [
    {
     "data": {
      "text/plain": [
       "37"
      ]
     },
     "execution_count": 21,
     "metadata": {},
     "output_type": "execute_result"
    }
   ],
   "source": [
    "sequence = [1, 0, 1, 2, None, 8, 5,  8, None, 12]\n",
    "total = 0\n",
    "for value in sequence:\n",
    "    if value is None:\n",
    "        continue\n",
    "    total += value\n",
    "total"
   ]
  },
  {
   "cell_type": "code",
   "execution_count": 24,
   "metadata": {
    "colab": {},
    "colab_type": "code",
    "id": "KfYHn_Y7IAqr"
   },
   "outputs": [
    {
     "ename": "TypeError",
     "evalue": "'>=' not supported between instances of 'NoneType' and 'int'",
     "output_type": "error",
     "traceback": [
      "\u001b[1;31m---------------------------------------------------------------------------\u001b[0m",
      "\u001b[1;31mTypeError\u001b[0m                                 Traceback (most recent call last)",
      "\u001b[1;32m<ipython-input-24-38c8a8ee67dd>\u001b[0m in \u001b[0;36m<module>\u001b[1;34m()\u001b[0m\n\u001b[0;32m      1\u001b[0m \u001b[0mtotal_until_5\u001b[0m \u001b[1;33m=\u001b[0m \u001b[1;36m0\u001b[0m\u001b[1;33m\u001b[0m\u001b[0m\n\u001b[0;32m      2\u001b[0m \u001b[1;32mfor\u001b[0m \u001b[0mvalue\u001b[0m \u001b[1;32min\u001b[0m \u001b[0msequence\u001b[0m\u001b[1;33m:\u001b[0m\u001b[1;33m\u001b[0m\u001b[0m\n\u001b[1;32m----> 3\u001b[1;33m     \u001b[1;32mif\u001b[0m \u001b[0mvalue\u001b[0m \u001b[1;33m>=\u001b[0m \u001b[1;36m5\u001b[0m\u001b[1;33m:\u001b[0m\u001b[1;33m\u001b[0m\u001b[0m\n\u001b[0m\u001b[0;32m      4\u001b[0m         \u001b[1;32mbreak\u001b[0m\u001b[1;33m\u001b[0m\u001b[0m\n\u001b[0;32m      5\u001b[0m     \u001b[0mtotal_until_5\u001b[0m \u001b[1;33m+=\u001b[0m \u001b[0mvalue\u001b[0m\u001b[1;33m\u001b[0m\u001b[0m\n",
      "\u001b[1;31mTypeError\u001b[0m: '>=' not supported between instances of 'NoneType' and 'int'"
     ]
    }
   ],
   "source": [
    "total_until_5 = 0\n",
    "for value in sequence:\n",
    "    if value >= 5:\n",
    "        break\n",
    "    total_until_5 += value\n",
    "total_until_5"
   ]
  },
  {
   "cell_type": "code",
   "execution_count": 26,
   "metadata": {
    "colab": {},
    "colab_type": "code",
    "id": "VqHPEMhDIAqt"
   },
   "outputs": [
    {
     "name": "stdout",
     "output_type": "stream",
     "text": [
      "(0, 0)\n",
      "(0, 1)\n",
      "(0, 2)\n",
      "(0, 3)\n",
      "(1, 0)\n",
      "(1, 1)\n",
      "(1, 2)\n",
      "(1, 3)\n",
      "(2, 0)\n",
      "(2, 1)\n",
      "(2, 2)\n",
      "(2, 3)\n"
     ]
    }
   ],
   "source": [
    "for i in range(6):\n",
    "    b = False\n",
    "    for j in range(4):\n",
    "        if i == 3:\n",
    "            b = True\n",
    "            break\n",
    "        print((i, j))\n",
    "    if b == True:\n",
    "        break\n",
    "    "
   ]
  },
  {
   "cell_type": "code",
   "execution_count": null,
   "metadata": {},
   "outputs": [],
   "source": [
    "# for loop inside a loop\n",
    "all_data = [['John', 'Emily', 'Michael', 'Mary', 'Steven'], \n",
    "        ['Maria', 'Juan', 'Javier', 'Natalia', 'Pilar', 'Steven']]\n",
    "\n",
    "name_list = []\n",
    "for names in all_data:\n",
    "    for name in names:\n",
    "        name_list.append(name)\n",
    "        \n",
    "name_list"
   ]
  },
  {
   "cell_type": "code",
   "execution_count": null,
   "metadata": {},
   "outputs": [],
   "source": [
    "lst = []\n",
    "for name in name_list:\n",
    "    if name_list.count(name)>=2:\n",
    "        lst.append(name)\n",
    "lst"
   ]
  },
  {
   "cell_type": "code",
   "execution_count": null,
   "metadata": {},
   "outputs": [],
   "source": [
    "[name for name in name_list if name_list.count(name) >= 2]"
   ]
  },
  {
   "cell_type": "code",
   "execution_count": null,
   "metadata": {},
   "outputs": [],
   "source": [
    "[name for name in name_list if 'a' in name]"
   ]
  },
  {
   "cell_type": "code",
   "execution_count": null,
   "metadata": {},
   "outputs": [],
   "source": [
    "lst = []\n",
    "for i in range(1, 101):\n",
    "    if i%3 == 0:\n",
    "        lst.append(i)\n",
    "lst"
   ]
  },
  {
   "cell_type": "code",
   "execution_count": null,
   "metadata": {},
   "outputs": [],
   "source": [
    "[i for i in range(1, 101) if i%3==0]"
   ]
  },
  {
   "cell_type": "markdown",
   "metadata": {
    "colab_type": "text",
    "id": "JJp-RgQbOh50"
   },
   "source": [
    "## List, Set, and Dict Comprehensions\n",
    "[expr for val in collection if condition]"
   ]
  },
  {
   "cell_type": "code",
   "execution_count": 31,
   "metadata": {
    "colab": {},
    "colab_type": "code",
    "id": "MIITNP2vOh53"
   },
   "outputs": [],
   "source": [
    "strings = ['a', 'as', 'bat', 'car', 'dove', 'python']"
   ]
  },
  {
   "cell_type": "markdown",
   "metadata": {
    "collapsed": true
   },
   "source": [
    "### Practice"
   ]
  },
  {
   "cell_type": "code",
   "execution_count": 32,
   "metadata": {
    "colab": {},
    "colab_type": "code",
    "id": "W5m5iFllOh55",
    "outputId": "5701614a-6b84-47d6-9c07-e26be3389ad8"
   },
   "outputs": [
    {
     "data": {
      "text/plain": [
       "['BAT', 'CAR', 'DOVE', 'PYTHON']"
      ]
     },
     "execution_count": 32,
     "metadata": {},
     "output_type": "execute_result"
    }
   ],
   "source": [
    "[x.upper() for x in strings if len(x) > 2]"
   ]
  },
  {
   "cell_type": "code",
   "execution_count": 33,
   "metadata": {
    "colab": {},
    "colab_type": "code",
    "id": "gX5s2iRBOh58",
    "outputId": "b1746d9a-cc15-4ac7-b5ef-3b7268addcc6"
   },
   "outputs": [
    {
     "data": {
      "text/plain": [
       "{1, 2, 3, 4, 6}"
      ]
     },
     "execution_count": 33,
     "metadata": {},
     "output_type": "execute_result"
    }
   ],
   "source": [
    "{len(x) for x in strings}"
   ]
  },
  {
   "cell_type": "code",
   "execution_count": 37,
   "metadata": {
    "colab": {},
    "colab_type": "code",
    "id": "0ZH8cyNnOh6D",
    "outputId": "c02bd778-1440-4f66-d95e-7cd765aa9b3b"
   },
   "outputs": [
    {
     "data": {
      "text/plain": [
       "{'phone': '0988888789', 'new phone': '0168559955'}"
      ]
     },
     "execution_count": 37,
     "metadata": {},
     "output_type": "execute_result"
    }
   ],
   "source": [
    "new_dict = {'name': 'nguyen van a', 'phone':'0988888789', 'new phone':'0168559955'}\n",
    "\n",
    "{key: value for key, value in new_dict.items() if value.isnumeric()}"
   ]
  },
  {
   "cell_type": "code",
   "execution_count": 36,
   "metadata": {},
   "outputs": [
    {
     "name": "stdout",
     "output_type": "stream",
     "text": [
      "name\n",
      "nguyen van a\n",
      "phone\n",
      "0988888789\n",
      "new phone\n",
      "0168559955\n"
     ]
    }
   ],
   "source": []
  },
  {
   "cell_type": "code",
   "execution_count": 39,
   "metadata": {},
   "outputs": [
    {
     "data": {
      "text/plain": [
       "True"
      ]
     },
     "execution_count": 39,
     "metadata": {},
     "output_type": "execute_result"
    }
   ],
   "source": [
    "s = '456'\n",
    "s.isnumeric()"
   ]
  },
  {
   "cell_type": "markdown",
   "metadata": {
    "colab_type": "text",
    "id": "W7e1VKoAOh6G"
   },
   "source": [
    "### Nested list comprehensions"
   ]
  },
  {
   "cell_type": "markdown",
   "metadata": {},
   "source": [
    "# Practice:\n",
    "In the following lists, find all name with more than 2 'e' character."
   ]
  },
  {
   "cell_type": "code",
   "execution_count": null,
   "metadata": {
    "colab": {},
    "colab_type": "code",
    "id": "W6QxVY4OOh6H"
   },
   "outputs": [],
   "source": [
    "all_data = [['John', 'Emily', 'Michael', 'Mary', 'Steven'], \n",
    "            ['Maria', 'Juan', 'Javier', 'Natalia', 'Pilar']]"
   ]
  },
  {
   "cell_type": "code",
   "execution_count": null,
   "metadata": {
    "colab": {},
    "colab_type": "code",
    "id": "MFJ0SR8MOh6L"
   },
   "outputs": [],
   "source": [
    "names_of_interest = []\n",
    "for names in all_data:\n",
    "    enough_es = [name for name in names if name.count('e') >= 2]\n",
    "    names_of_interest.extend(enough_es)"
   ]
  },
  {
   "cell_type": "code",
   "execution_count": null,
   "metadata": {
    "colab": {},
    "colab_type": "code",
    "id": "MRtwsh3JOh6Q"
   },
   "outputs": [],
   "source": [
    "result = [name for names in all_data for name in names if name.count('e') >= 2]"
   ]
  },
  {
   "cell_type": "code",
   "execution_count": null,
   "metadata": {
    "colab": {},
    "colab_type": "code",
    "id": "2TkE4o0kOh6S",
    "outputId": "3166b9d9-07c9-4259-ec10-202fe52d9575"
   },
   "outputs": [],
   "source": [
    "names_of_interest"
   ]
  },
  {
   "cell_type": "code",
   "execution_count": null,
   "metadata": {
    "colab": {},
    "colab_type": "code",
    "id": "bWh-wXnnOh6V",
    "outputId": "72824340-386a-4fa3-d9e2-790dd7b5774d"
   },
   "outputs": [],
   "source": [
    "result"
   ]
  },
  {
   "cell_type": "code",
   "execution_count": null,
   "metadata": {
    "colab": {},
    "colab_type": "code",
    "id": "mVpXL1pLOh6X"
   },
   "outputs": [],
   "source": [
    "#use to flaten data \n",
    "some_tuples = [(1, 2, 3), (4, 5, 6), (7, 8, 9)]"
   ]
  },
  {
   "cell_type": "code",
   "execution_count": null,
   "metadata": {
    "colab": {},
    "colab_type": "code",
    "id": "214pZGS5Oh6Y",
    "outputId": "ca779e27-2376-49e8-a7a5-e9f1068f7590",
    "scrolled": true
   },
   "outputs": [],
   "source": [
    "[x for tup in some_tuples for x in tup]"
   ]
  },
  {
   "cell_type": "code",
   "execution_count": null,
   "metadata": {},
   "outputs": [],
   "source": [
    "import datetime\n",
    "\n",
    "d1 = datetime.date(2018, 7, 15)\n",
    "d2 = datetime.date(2018, 8, 6)\n",
    "date_range = range((d2-d1).days + 1)\n",
    "days = [d1 + datetime.timedelta(days=x) for x in date_range]\n",
    "\n",
    "\n",
    "x = [print(day.strftime('%Y/%m/%d')) for day in days]"
   ]
  },
  {
   "cell_type": "code",
   "execution_count": null,
   "metadata": {},
   "outputs": [],
   "source": [
    "x"
   ]
  },
  {
   "cell_type": "code",
   "execution_count": null,
   "metadata": {},
   "outputs": [],
   "source": [
    "a = [1, 2, [3, 4, 5]]\n",
    "b = a"
   ]
  },
  {
   "cell_type": "code",
   "execution_count": null,
   "metadata": {},
   "outputs": [],
   "source": [
    "a"
   ]
  },
  {
   "cell_type": "code",
   "execution_count": null,
   "metadata": {},
   "outputs": [],
   "source": [
    "b"
   ]
  },
  {
   "cell_type": "code",
   "execution_count": null,
   "metadata": {},
   "outputs": [],
   "source": [
    "b[2].append(6)"
   ]
  },
  {
   "cell_type": "code",
   "execution_count": null,
   "metadata": {},
   "outputs": [],
   "source": [
    "b"
   ]
  },
  {
   "cell_type": "code",
   "execution_count": null,
   "metadata": {},
   "outputs": [],
   "source": [
    "a"
   ]
  },
  {
   "cell_type": "markdown",
   "metadata": {},
   "source": [
    "## Task 1\n",
    "Each new term in the Fibonacci sequence is generated by adding the previous two terms. By starting with 1 and 2, the first 10 terms will be:\n",
    "\n",
    "$$1, 2, 3, 5, 8, 13, 21, 34, 55, 89, ...$$\n",
    "\n",
    "1. Made a list of first 20 Fibonacci number\n",
    "3. List of even number in first 20 number.\n",
    "3. Sum of odd number in first 20 number\n",
    "\n",
    "Duration: 10 mins"
   ]
  },
  {
   "cell_type": "code",
   "execution_count": null,
   "metadata": {},
   "outputs": [],
   "source": [
    "flist = [1, 2]\n",
    "a, b = 1, 2\n",
    "count = 2\n",
    "while len(flist) < 20:\n",
    "    a, b = b, a + b\n",
    "    flist.append(b)   \n",
    "print (flist)"
   ]
  },
  {
   "cell_type": "code",
   "execution_count": null,
   "metadata": {},
   "outputs": [],
   "source": [
    "sum(flist)"
   ]
  },
  {
   "cell_type": "code",
   "execution_count": null,
   "metadata": {},
   "outputs": [],
   "source": [
    "[number for number in flist if number%2 == 0]"
   ]
  },
  {
   "cell_type": "code",
   "execution_count": null,
   "metadata": {},
   "outputs": [],
   "source": [
    "sum(number for number in flist if number%2 != 0)"
   ]
  },
  {
   "cell_type": "markdown",
   "metadata": {
    "collapsed": true
   },
   "source": [
    "## Task 2\n",
    "<b>Cho list sau:</b>\n",
    "\n",
    "data = ['I', 'Love', 'You', 'Chiu', 'Chiu']\n",
    "\n",
    "<b>Tạo ra 1 list mới như bên dưới:</b>\n",
    "\n",
    "result = [[1, 'I'], [2, 'Love'], [3, 'You'], [4, 'Chiu'], [5, 'Chiu']]"
   ]
  },
  {
   "cell_type": "code",
   "execution_count": null,
   "metadata": {},
   "outputs": [],
   "source": [
    "data = ['I', 'Love', 'You', 'Chiu', 'Chiu']"
   ]
  },
  {
   "cell_type": "code",
   "execution_count": null,
   "metadata": {},
   "outputs": [],
   "source": [
    "#1\n",
    "[[i, v] for i, v in zip(range(1, 6), data)]\n"
   ]
  },
  {
   "cell_type": "code",
   "execution_count": null,
   "metadata": {},
   "outputs": [],
   "source": [
    "#2\n",
    "[[i, v] for i, v in enumerate(data, start = 1)]\n",
    "# see more about enumerate at docs https://docs.python.org/3/library/functions.html#enumerate"
   ]
  },
  {
   "cell_type": "markdown",
   "metadata": {
    "collapsed": true
   },
   "source": [
    "## Task 3"
   ]
  },
  {
   "cell_type": "markdown",
   "metadata": {},
   "source": [
    "Cho list <b>input</b>, viết script để có được list như <b>output</b>"
   ]
  },
  {
   "cell_type": "code",
   "execution_count": 2,
   "metadata": {},
   "outputs": [],
   "source": [
    "exchange_input = ['AUD',\n",
    "         '16,671.10',\n",
    "         '16,771.73',\n",
    "         '16,954.84',\n",
    "         'EUR',\n",
    "         '26,216.05',\n",
    "         '26,294.93',\n",
    "         '26,687.44',\n",
    "         'GBP',\n",
    "         '29,977.52',\n",
    "         '30,188.84',\n",
    "         '30,457.46',\n",
    "         'JPY',\n",
    "         '198.56',\n",
    "         '200.57',\n",
    "         '205.58',\n",
    "         'USD',\n",
    "         '23,245.00',\n",
    "         '23,245.00',\n",
    "         '23,335.00']\n",
    "exchange_output = [['AUD', '16,671.10', '16,771.73', '16,954.84'],\n",
    "         ['EUR', '26,216.05', '26,294.93', '26,687.44'],\n",
    "         ['GBP', '29,977.52', '30,188.84', '30,457.46'],\n",
    "         ['JPY', '198.56', '200.57', '205.58'],\n",
    "         ['USD', '23,245.00', '23,245.00', '23,335.00']]"
   ]
  },
  {
   "cell_type": "code",
   "execution_count": 5,
   "metadata": {},
   "outputs": [
    {
     "data": {
      "text/plain": [
       "[['AUD', '16,671.10', '16,771.73', '16,954.84'],\n",
       " ['EUR', '26,216.05', '26,294.93', '26,687.44'],\n",
       " ['GBP', '29,977.52', '30,188.84', '30,457.46'],\n",
       " ['JPY', '198.56', '200.57', '205.58'],\n",
       " ['USD', '23,245.00', '23,245.00', '23,335.00']]"
      ]
     },
     "execution_count": 5,
     "metadata": {},
     "output_type": "execute_result"
    }
   ],
   "source": [
    "[exchange_input[i:i+4] for i in range(0, len(exchange_input)+1, 4)  \n",
    "  if exchange_input[i:i+4]\n",
    "]"
   ]
  },
  {
   "cell_type": "markdown",
   "metadata": {},
   "source": [
    "## Task 4\n",
    "\n",
    "a, b, c là các số nguyên dương nhỏ hơn 10, biết a + b/c = 10\n",
    "\n",
    "In ra list chứa các bộ số thỏa mãn điều kiện trên (a, b, c có thể trùng nhau).\n",
    "\n",
    "Ví dụ:\n",
    "\n",
    "output: [[9, 1, 1], ...]\n",
    "\n",
    "Trả về list chứa các list là các bộ số thỏa mãn đề bài\n",
    "\n",
    "Ví dụ: [[9, 1, 1], ..., [1, 9, 1]]\n",
    "\n",
    "<b> Lưu ý: kết quả từng list con trả về với a giảm dần, b và c tăng dần</b> \n",
    "\n"
   ]
  },
  {
   "cell_type": "code",
   "execution_count": 6,
   "metadata": {},
   "outputs": [
    {
     "data": {
      "text/plain": [
       "[[9, 1, 1],\n",
       " [9, 2, 2],\n",
       " [9, 3, 3],\n",
       " [9, 4, 4],\n",
       " [9, 5, 5],\n",
       " [9, 6, 6],\n",
       " [9, 7, 7],\n",
       " [9, 8, 8],\n",
       " [9, 9, 9],\n",
       " [8, 2, 1],\n",
       " [8, 4, 2],\n",
       " [8, 6, 3],\n",
       " [8, 8, 4],\n",
       " [7, 3, 1],\n",
       " [7, 6, 2],\n",
       " [7, 9, 3],\n",
       " [6, 4, 1],\n",
       " [6, 8, 2],\n",
       " [5, 5, 1],\n",
       " [4, 6, 1],\n",
       " [3, 7, 1],\n",
       " [2, 8, 1],\n",
       " [1, 9, 1]]"
      ]
     },
     "execution_count": 6,
     "metadata": {},
     "output_type": "execute_result"
    }
   ],
   "source": [
    "[[a, b, c] for a in range(9, 0, -1) for b in range(1, 10) for c in range(1, 10) \n",
    " if a+b/c==10]"
   ]
  },
  {
   "cell_type": "code",
   "execution_count": null,
   "metadata": {},
   "outputs": [],
   "source": [
    "list(range(9, 0, -1))"
   ]
  },
  {
   "cell_type": "markdown",
   "metadata": {},
   "source": [
    "## Task 5\n",
    "\n",
    "Viết script tính tổng điểm của 1 từ tiếng anh bất kì.\n",
    "\n",
    "Nếu a b c d (không phân biệt chữ hoa thường) .... lần lượt bằng 1 2 3 4 ... thì từ ``attitude`` có giá trị bằng 100.\n",
    "(https://9gag.com/gag/aWWP7bd?ref=fbp)"
   ]
  },
  {
   "cell_type": "code",
   "execution_count": 8,
   "metadata": {},
   "outputs": [
    {
     "name": "stdout",
     "output_type": "stream",
     "text": [
      "input string to calc: attitude\n"
     ]
    },
    {
     "data": {
      "text/plain": [
       "100"
      ]
     },
     "execution_count": 8,
     "metadata": {},
     "output_type": "execute_result"
    }
   ],
   "source": [
    "import string\n",
    "string_to_calc = input('input string to calc: ')\n",
    "abc = string.ascii_lowercase\n",
    "sum(abc.find(x)+1 for x in string_to_calc)"
   ]
  },
  {
   "cell_type": "code",
   "execution_count": 11,
   "metadata": {},
   "outputs": [],
   "source": [
    "s = 'abcd'"
   ]
  },
  {
   "cell_type": "code",
   "execution_count": 13,
   "metadata": {},
   "outputs": [
    {
     "data": {
      "text/plain": [
       "1"
      ]
     },
     "execution_count": 13,
     "metadata": {},
     "output_type": "execute_result"
    }
   ],
   "source": [
    "s.find('b')"
   ]
  },
  {
   "cell_type": "markdown",
   "metadata": {},
   "source": [
    "## Task 6\n",
    "Viết script trả về toàn bộ 3 số integer (a, b, c) là độ dài 3 cạnh của tam giác vuông cạnh huyền `c`,  có chu vi 24, biết độ dài các cạnh <= 10cm.\n",
    "\n",
    "<b> Yêu cầu: dùng list comprehension.</b> "
   ]
  },
  {
   "cell_type": "code",
   "execution_count": 10,
   "metadata": {},
   "outputs": [
    {
     "data": {
      "text/plain": [
       "[(6, 8, 10), (8, 6, 10)]"
      ]
     },
     "execution_count": 10,
     "metadata": {},
     "output_type": "execute_result"
    }
   ],
   "source": [
    "[(a, b, c) for a in range(0, 11) for b in range(0, 11) for c in range(0, 11) if (a+b+c==24 and a**2+b**2==c**2)]"
   ]
  },
  {
   "cell_type": "markdown",
   "metadata": {},
   "source": [
    "## Task 7\n",
    "Thông tin học viên trong lớp trước tại thời điểm đầu năm:\n",
    "\n",
    "data = [\n",
    "    {\"name\": \"Thanh\",\n",
    "     \"phone\": \"0988888888\",\n",
    "     \"languages\": [\"Python\", \"C\", \"SQL\", \"HTML\", \"CSS\", \"JavaScript\",\n",
    "                   \"Golang\"],\n",
    "     },\n",
    "    {\"name\": \"Duy\", \"girl_friend\": \"Maria\"},\n",
    "    {\"name\": \"Dai\", \"girl_friend\": \"Angela\"},\n",
    "    {\"name\": \"Tu\"},\n",
    "]\n",
    "\n",
    "\n",
    "Yêu cầu: \n",
    "Trả về list thông tin các học viên vào cuối năm, sau khi đã cập nhật các thay đổi trong năm và không thay đổi thông tin năm cũ. Biết rằng:\n",
    "\n",
    "- Các học viên đều học được các ngôn ngữ lập trình trong \"languages\" của học viên \"Thanh\".\n",
    "\n",
    "- Sau đó \"Thanh\" học thêm được ngôn ngữ \"R\", các học viên khác không biết ngôn ngữ này.\n",
    "\n",
    "- \"Tu\" có bạn gái tên là \"Do Anh\".\n",
    "\n",
    "- \"Duy\" chia thay bạn gái, không còn bạn gái nữa.\n",
    "\n",
    "\n",
    "Lưu ý: Ví dụ này cần sử dụng đến deepcopy, xem thêm tại: https://docs.python.org/3/library/copy.html\n"
   ]
  },
  {
   "cell_type": "code",
   "execution_count": null,
   "metadata": {},
   "outputs": [],
   "source": [
    "data = [\n",
    "    {'name': 'Thanh',\n",
    "     'phone': '0988888888',\n",
    "     'languages': ['Python', 'C', 'SQL', 'HTML', 'CSS', 'JavaScript', 'Golang'],},\n",
    "    {'name': 'Duy', 'girl_friend': 'Maria'},\n",
    "    {'name': 'Dai', 'girl_friend': 'Angela'},\n",
    "    {'name': 'Tu'},\n",
    "]\n",
    "\n",
    "import copy\n",
    "data_new = copy.deepcopy(data)\n",
    "\n",
    "old_lang = copy.deepcopy([student['languages'] for student in data_new if student['name'] == 'Thanh'][0])\n",
    "\n",
    "for student in data_new:\n",
    "    if student['name'] == 'Thanh':\n",
    "        student['languages'].append('R')\n",
    "    else:\n",
    "        student['languages']=copy.deepcopy(old_lang)\n",
    "    if student['name'] == 'Tu':\n",
    "        student['girl_friend']='Do Anh'\n",
    "    if student['name'] == 'Duy':\n",
    "        del student['girl_friend']\n",
    "\n",
    "data_new"
   ]
  },
  {
   "cell_type": "markdown",
   "metadata": {},
   "source": [
    "## Task 8\n",
    "\n",
    "Cho chuỗi sau:\n",
    "\n",
    "data = '''Dictionaries are sometimes found in other languages as “associative memories” or “associative arrays”. Unlike sequences, which are indexed by a range of numbers, dictionaries are indexed by keys, which can be any immutable type; strings and numbers can always be keys. Tuples can be used as keys if they contain only strings, numbers, or tuples; if a tuple contains any mutable object either directly or indirectly, it cannot be used as a key. You can’t use lists as keys, since lists can be modified in place using index assignments, slice assignments.'''\n",
    "\n",
    "\n",
    "Tạo ra 1 dict với key là từ xuất hiện trong chuỗi và value là số lần xuất hiện tương ứng. \n",
    "Ví dụ:\n",
    "\n",
    "result={'Hello':5,'Buddy':6}"
   ]
  },
  {
   "cell_type": "code",
   "execution_count": 14,
   "metadata": {
    "scrolled": true
   },
   "outputs": [
    {
     "data": {
      "text/plain": [
       "{'arrays': 1,\n",
       " 'keys': 4,\n",
       " 'can': 4,\n",
       " 'use': 1,\n",
       " 'indirectly': 1,\n",
       " 'unlike': 1,\n",
       " 'numbers': 3,\n",
       " 'index': 1,\n",
       " 'associative': 2,\n",
       " 'contains': 1,\n",
       " 'any': 2,\n",
       " 'since': 1,\n",
       " 'immutable': 1,\n",
       " 'of': 1,\n",
       " 'memories': 1,\n",
       " 'tuple': 1,\n",
       " 'using': 1,\n",
       " 'place': 1,\n",
       " 'directly': 1,\n",
       " 'used': 2,\n",
       " 'found': 1,\n",
       " 'strings': 2,\n",
       " 'it': 1,\n",
       " 'range': 1,\n",
       " 'assignments': 2,\n",
       " 'are': 3,\n",
       " 'be': 5,\n",
       " 'type': 1,\n",
       " 'which': 2,\n",
       " 'key': 1,\n",
       " 'cant': 1,\n",
       " 'cannot': 1,\n",
       " 'and': 1,\n",
       " 'contain': 1,\n",
       " 'modified': 1,\n",
       " 'mutable': 1,\n",
       " 'object': 1,\n",
       " 'other': 1,\n",
       " 'you': 1,\n",
       " 'indexed': 2,\n",
       " 'as': 4,\n",
       " 'in': 2,\n",
       " 'or': 3,\n",
       " 'sequences': 1,\n",
       " 'either': 1,\n",
       " 'sometimes': 1,\n",
       " 'dictionaries': 2,\n",
       " 'only': 1,\n",
       " 'always': 1,\n",
       " 'if': 2,\n",
       " 'they': 1,\n",
       " 'slice': 1,\n",
       " 'by': 2,\n",
       " 'lists': 2,\n",
       " 'a': 3,\n",
       " 'tuples': 2,\n",
       " 'languages': 1}"
      ]
     },
     "execution_count": 14,
     "metadata": {},
     "output_type": "execute_result"
    }
   ],
   "source": [
    "import string\n",
    "data = '''Dictionaries are sometimes found in other languages as “associative memories” or “associative arrays”. Unlike sequences, which are indexed by a range of numbers, dictionaries are indexed by keys, which can be any immutable type; strings and numbers can always be keys. Tuples can be used as keys if they contain only strings, numbers, or tuples; if a tuple contains any mutable object either directly or indirectly, it cannot be used as a key. You can’t use lists as keys, since lists can be modified in place using index assignments, slice assignments.'''\n",
    "\n",
    "data = data.lower()\n",
    "string_set = set(string.ascii_lowercase)\n",
    "string_set.add(' ')\n",
    "spec_set = set(data).difference(string_set)\n",
    "\n",
    "for i in spec_set:\n",
    "    data = data.replace(i,'')\n",
    "\n",
    "{i:data.split().count(i) for i in set(data.split())}"
   ]
  },
  {
   "cell_type": "code",
   "execution_count": null,
   "metadata": {},
   "outputs": [],
   "source": []
  },
  {
   "cell_type": "markdown",
   "metadata": {},
   "source": [
    "## Task 9\n",
    "\n",
    "Cho bảng điểm 2 học kì như sau\n",
    "\n",
    "Trả về result là dict chứa bảng điểm của các học sinh và trong mỗi bảng điểm chứa kết quả của các môn học sau hai học kỳ (cấu trúc tương tự như 2 terms đã cho). Biết điểm số được chọn là điểm số ở lần học sau cùng của mỗi người theo từng môn."
   ]
  },
  {
   "cell_type": "code",
   "execution_count": 16,
   "metadata": {},
   "outputs": [],
   "source": [
    "term1 = {'khanh': {'math': 3, 'python': 5, 'data': 2}, 'tung':{'math': 8, 'data': 7, 'python': 9}, 'lam':{'SQL': 5, 'data': 6}}\n",
    "term2 = {'khanh': {'math': 7, 'python': 9, 'SQL': 8, 'HTML': 6}, 'tung':{'math': 8, 'data': 2}, 'hoang':{'math':6, 'data':3}}"
   ]
  },
  {
   "cell_type": "code",
   "execution_count": 17,
   "metadata": {},
   "outputs": [
    {
     "data": {
      "text/plain": [
       "{'khanh': {'math': 7, 'python': 9, 'data': 2, 'SQL': 8, 'HTML': 6},\n",
       " 'tung': {'math': 8, 'data': 2, 'python': 9},\n",
       " 'lam': {'SQL': 5, 'data': 6},\n",
       " 'hoang': {'math': 6, 'data': 3}}"
      ]
     },
     "execution_count": 17,
     "metadata": {},
     "output_type": "execute_result"
    }
   ],
   "source": [
    "import copy\n",
    "year = copy.deepcopy(term1)\n",
    "for key, value in term2.items():\n",
    "    if key in year:\n",
    "        year[key].update(value)\n",
    "    else:\n",
    "        year[key] = value\n",
    "year"
   ]
  }
 ],
 "metadata": {
  "colab": {
   "name": "Lecture 3.ipynb",
   "provenance": [],
   "version": "0.3.2"
  },
  "kernelspec": {
   "display_name": "Python 3",
   "language": "python",
   "name": "python3"
  },
  "language_info": {
   "codemirror_mode": {
    "name": "ipython",
    "version": 3
   },
   "file_extension": ".py",
   "mimetype": "text/x-python",
   "name": "python",
   "nbconvert_exporter": "python",
   "pygments_lexer": "ipython3",
   "version": "3.6.5"
  }
 },
 "nbformat": 4,
 "nbformat_minor": 1
}
