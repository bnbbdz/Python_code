{
 "cells": [
  {
   "cell_type": "markdown",
   "metadata": {},
   "source": [
    "## Task 4\n",
    "\n",
    "$$ax^2 + bx + c = 0$$\n",
    "\n",
    "Use if statement to solve the following equation in 3 cases:\n",
    "\n",
    "- a=0\n",
    "- delta > 0\n",
    "- delta < 0\n",
    "- delta == 0\n",
    "\n",
    "Format roots (if any) with 2 characters after the decimal point."
   ]
  },
  {
   "cell_type": "code",
   "execution_count": 9,
   "metadata": {},
   "outputs": [],
   "source": [
    "import math as m"
   ]
  },
  {
   "cell_type": "code",
   "execution_count": 10,
   "metadata": {},
   "outputs": [
    {
     "name": "stdout",
     "output_type": "stream",
     "text": [
      "Cho phương trình 𝑎𝑥2+𝑏𝑥+𝑐=0\n"
     ]
    }
   ],
   "source": [
    "print('Cho phương trình 𝑎𝑥2+𝑏𝑥+𝑐=0')"
   ]
  },
  {
   "cell_type": "code",
   "execution_count": 11,
   "metadata": {
    "scrolled": true
   },
   "outputs": [
    {
     "name": "stdout",
     "output_type": "stream",
     "text": [
      "Nhập số a , b , c : 0 0 5\n",
      "a = 0.0 , b = 0.0 , c = 5.0\n",
      "\n"
     ]
    }
   ],
   "source": [
    "a,b,c = (float(a) for a in input('Nhập số a , b , c : ').split())\n",
    "print('a = {:.2} , b = {:.2} , c = {:.2}'.format(a,b,c))\n",
    "print()"
   ]
  },
  {
   "cell_type": "code",
   "execution_count": 12,
   "metadata": {
    "scrolled": false
   },
   "outputs": [
    {
     "name": "stdout",
     "output_type": "stream",
     "text": [
      "Phương trình vô nghiệm\n"
     ]
    }
   ],
   "source": [
    "x = None\n",
    "delta = None\n",
    "x1 = None\n",
    "x2 = None\n",
    "delta = b**2 - 4*a*c\n",
    "if a == 0 and b == 0 :\n",
    "    print('Không phải phương trình')\n",
    "elif a == 0 :\n",
    "    x = -c/b\n",
    "    print(x)\n",
    "elif delta < 0 :\n",
    "    print('Phương trình vô nghiệm')\n",
    "elif delta == 0 :\n",
    "    x = -b/(2*a)\n",
    "    print('Phương trình có nghiệm kép: x = {:.3}'.format(x))\n",
    "else :\n",
    "    x1 = -b + (m.sqrt(delta)/(2*a))\n",
    "    x2 = -b - (m.sqrt(delta)/(2*a))\n",
    "    print('Phương trình có 2 nghiệm: \\n x1 = {:.3} \\n x2 = {:.3}'.format(x1,x2))"
   ]
  },
  {
   "cell_type": "code",
   "execution_count": null,
   "metadata": {},
   "outputs": [],
   "source": [
    "# miss case a=0 & b=0"
   ]
  }
 ],
 "metadata": {
  "kernelspec": {
   "display_name": "Python 3",
   "language": "python",
   "name": "python3"
  },
  "language_info": {
   "codemirror_mode": {
    "name": "ipython",
    "version": 3
   },
   "file_extension": ".py",
   "mimetype": "text/x-python",
   "name": "python",
   "nbconvert_exporter": "python",
   "pygments_lexer": "ipython3",
   "version": "3.7.1"
  },
  "toc": {
   "base_numbering": 1,
   "nav_menu": {},
   "number_sections": true,
   "sideBar": true,
   "skip_h1_title": false,
   "title_cell": "Table of Contents",
   "title_sidebar": "Contents",
   "toc_cell": false,
   "toc_position": {},
   "toc_section_display": true,
   "toc_window_display": false
  }
 },
 "nbformat": 4,
 "nbformat_minor": 2
}
