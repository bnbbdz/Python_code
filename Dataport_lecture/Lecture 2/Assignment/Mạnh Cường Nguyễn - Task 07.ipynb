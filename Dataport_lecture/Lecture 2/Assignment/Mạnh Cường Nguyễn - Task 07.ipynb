{
 "cells": [
  {
   "cell_type": "markdown",
   "metadata": {},
   "source": [
    "## Task 8\n",
    "Given integer numbers from 1 to 100. \n",
    "\n",
    "-If a number is divisible by 3, print out “Fizz” instead of the number. \n",
    "\n",
    "-If a number is divisible by 5, print out “Buzz” instead of the number. \n",
    "\n",
    "-If a number is divisible by both 3 and 5, print out “FizzBuzz” instead of the number. \n",
    "\n",
    "-Otherwise, print the number as it is. "
   ]
  },
  {
   "cell_type": "code",
   "execution_count": 31,
   "metadata": {},
   "outputs": [
    {
     "name": "stdout",
     "output_type": "stream",
     "text": [
      "           1           2        Fizz           4        Buzz        Fizz           7           8        Fizz        Buzz\n",
      "          11        Fizz          13          14    FizzBuzz          16          17        Fizz          19        Buzz\n",
      "        Fizz          22          23        Fizz        Buzz          26        Fizz          28          29    FizzBuzz\n",
      "          31          32        Fizz          34        Buzz        Fizz          37          38        Fizz        Buzz\n",
      "          41        Fizz          43          44    FizzBuzz          46          47        Fizz          49        Buzz\n",
      "        Fizz          52          53        Fizz        Buzz          56        Fizz          58          59    FizzBuzz\n",
      "          61          62        Fizz          64        Buzz        Fizz          67          68        Fizz        Buzz\n",
      "          71        Fizz          73          74    FizzBuzz          76          77        Fizz          79        Buzz\n",
      "        Fizz          82          83        Fizz        Buzz          86        Fizz          88          89    FizzBuzz\n",
      "          91          92        Fizz          94        Buzz        Fizz          97          98        Fizz        Buzz\n"
     ]
    }
   ],
   "source": [
    "z = 0 \n",
    "for i in range(1,101,1) :\n",
    "    if i % 3 == 0 and i % 5 == 0 :\n",
    "        print('{:>12}'.format(str('FizzBuzz')), end=\"\")\n",
    "    elif i % 3 == 0 :\n",
    "        print('{:>12}'.format(str('Fizz')), end=\"\")\n",
    "    elif i % 5 == 0 :\n",
    "        print('{:>12}'.format(str('Buzz')), end=\"\")\n",
    "    else :\n",
    "        print('{:>12}'.format(str(i)), end=\"\")\n",
    "    z += 1\n",
    "    if z % 10 == 0 :\n",
    "          print('')\n",
    "    "
   ]
  },
  {
   "cell_type": "code",
   "execution_count": null,
   "metadata": {},
   "outputs": [],
   "source": []
  }
 ],
 "metadata": {
  "kernelspec": {
   "display_name": "Python 3",
   "language": "python",
   "name": "python3"
  },
  "language_info": {
   "codemirror_mode": {
    "name": "ipython",
    "version": 3
   },
   "file_extension": ".py",
   "mimetype": "text/x-python",
   "name": "python",
   "nbconvert_exporter": "python",
   "pygments_lexer": "ipython3",
   "version": "3.7.1"
  },
  "toc": {
   "base_numbering": 1,
   "nav_menu": {},
   "number_sections": true,
   "sideBar": true,
   "skip_h1_title": false,
   "title_cell": "Table of Contents",
   "title_sidebar": "Contents",
   "toc_cell": false,
   "toc_position": {},
   "toc_section_display": true,
   "toc_window_display": false
  }
 },
 "nbformat": 4,
 "nbformat_minor": 2
}
