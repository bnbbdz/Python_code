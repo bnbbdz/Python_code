{
 "cells": [
  {
   "cell_type": "markdown",
   "metadata": {},
   "source": [
    "## Task 01:\n",
    "\n",
    "Write simple code to input a, b, c then solve this equation for x:  $$ ax + b = c$$"
   ]
  },
  {
   "cell_type": "code",
   "execution_count": 2,
   "metadata": {},
   "outputs": [
    {
     "name": "stdout",
     "output_type": "stream",
     "text": [
      "Nhập a: 1\n",
      "Nhập b: 2\n",
      "Nhập c: 3\n",
      "Pt có nghiệm x: = -1.0\n"
     ]
    }
   ],
   "source": [
    "a = float(input('Nhập a: '))\n",
    "b = float(input('Nhập b: '))\n",
    "c = float(input('Nhập c: '))\n",
    "\n",
    "if a == 0:\n",
    "    if b == c:\n",
    "        print('Pt có vô số nghiệm')\n",
    "    else:\n",
    "        print('Pt vô nghiệm')\n",
    "else:\n",
    "    x = (b-c)/a\n",
    "    print('Pt có nghiệm x: = {}'.format(x))"
   ]
  },
  {
   "cell_type": "markdown",
   "metadata": {},
   "source": [
    "## Task 02\n",
    "\n",
    "Given a, b, c solve this equation for x: \n",
    "$$ax^2 + bx + c = 0$$\n",
    "\n",
    "Note: To calculate the square root of x:\n",
    "use math.sqrt(x) in math module"
   ]
  },
  {
   "cell_type": "code",
   "execution_count": null,
   "metadata": {},
   "outputs": [],
   "source": [
    "# import math module\n",
    "import math\n",
    "\n",
    "#input\n",
    "a = 2\n",
    "b = 6\n",
    "c = -4\n",
    "\n",
    "delta = b**2 - 4*a*c\n",
    "\n",
    "if delta < 0:\n",
    "    print ('Pt vô nghiệm')\n",
    "elif delta == 0:\n",
    "    x = ((-b/(2*a)))\n",
    "    print ('x = {:.2f}'.format(x))\n",
    "else:\n",
    "    x1 = ((-b-math.sqrt(delta)/(2*a)))\n",
    "    x2 = ((-b+math.sqrt(delta)/(2*a)))\n",
    "    print ('x1 = {:.2f}'.format(x1))\n",
    "    print ('x2 = {:.2f}'.format(x2))"
   ]
  },
  {
   "cell_type": "markdown",
   "metadata": {},
   "source": [
    "## Task 03\n",
    "\n",
    "Given 3 strings below:\n",
    "\n",
    "<i>\n",
    "'nguyen tuan anh DA11 0988444888'\n",
    "\n",
    "'nguyen_dinh_toan Da11 0988444888'\n",
    "\n",
    "'cao van truong_Da11_0988 444 888'\n",
    "</i>\n",
    "\n",
    "Write simple code to get username and phone number and generate outputs with result format below:\n",
    "\n",
    "<center><b>Nguyen Van A 's phone number is 0988444888 </b></center>\n",
    "\n",
    "For example: \n",
    "\n",
    "<b> Input: </b> 'le cong vinh DA11 0988444888' \n",
    "\n",
    "<b>Output: </b> Le Cong Vinh 's phone number is 0988444888\n",
    "\n",
    "\n",
    ".........."
   ]
  },
  {
   "cell_type": "code",
   "execution_count": 1,
   "metadata": {},
   "outputs": [
    {
     "name": "stdout",
     "output_type": "stream",
     "text": [
      "Nguyen Tuan Anh's phone number is 0988444888\n",
      "Nguyen Dinh Toan's phone number is 0988444888\n",
      "Cao Van Truong's phone number is 0988 444 888\n"
     ]
    }
   ],
   "source": [
    "### BEGIN SOLUTION\n",
    "\n",
    "li = ['nguyen tuan anh DA11 0988444888', 'nguyen_dinh_toan Da11 0988444888', 'cao van truong_Da11_0988 444 888']\n",
    "for user in li:\n",
    "    user = user.replace('_',' ')\n",
    "    user = user.title()\n",
    "    x = user.find(' Da11 ')\n",
    "    name = user[:x]\n",
    "    phone = user[x+len(' Da11 '):]\n",
    "    print('{}\\'s phone number is {}'.format(name, phone))\n",
    "    \n",
    "### END SOLUTION"
   ]
  },
  {
   "cell_type": "markdown",
   "metadata": {},
   "source": [
    "## Task 04\n",
    "Use your code in task 3, solve the given equation if a = 0"
   ]
  },
  {
   "cell_type": "code",
   "execution_count": null,
   "metadata": {
    "collapsed": true
   },
   "outputs": [],
   "source": [
    "### BEGIN SOLUTION\n",
    "# import math module\n",
    "import math\n",
    "\n",
    "#input\n",
    "a = float(input('Enter a: '))\n",
    "b = float(input('Enter b: '))\n",
    "c = float(input('Enter c: '))\n",
    "\n",
    "if a == 0:\n",
    "    if c==0 and b==0:\n",
    "        print('Pt vô số nghiệm')\n",
    "    elif c==0 and b!=0:\n",
    "        print('Pt vô nghiệm')\n",
    "    else:\n",
    "        x = -c/b\n",
    "        print ('x= {:.2f}'.format(x))\n",
    "else:\n",
    "    delta = b**2 - 4*a*c\n",
    "    \n",
    "    if delta < 0:\n",
    "        print ('Pt vô nghiệm')\n",
    "    elif delta == 0:\n",
    "        x = ((-b/(2*a)))\n",
    "        print ('x = {:.2f}'.format(x))\n",
    "    else:\n",
    "        x1 = ((-b-math.sqrt(delta)/(2*a)))\n",
    "        x2 = ((-b+math.sqrt(delta)/(2*a)))\n",
    "        print ('x1 = {:.2f}'.format(x1))\n",
    "        print ('x2 = {:.2f}'.format(x2))\n",
    "\n",
    "### END SOLUTION"
   ]
  },
  {
   "cell_type": "markdown",
   "metadata": {},
   "source": [
    "## Task 05\n",
    "Fibonacci sequence is a series of numbers in which each number is the sum of the two preceding numbers. The first 10 elements are as follow:\n",
    "\n",
    "$$1, 2, 3, 5, 8, 13, 21, 34, 55, 89, ...$$\n",
    "\n",
    "Calculate sum of the first 20 Fibonacci numbers"
   ]
  },
  {
   "cell_type": "code",
   "execution_count": 3,
   "metadata": {},
   "outputs": [
    {
     "name": "stdout",
     "output_type": "stream",
     "text": [
      "28655\n"
     ]
    }
   ],
   "source": [
    "### BEGIN SOLUTION\n",
    "\n",
    "a, b = 1, 2\n",
    "fsum = a + b\n",
    "count = 2\n",
    "\n",
    "while count < 20:\n",
    "    a, b = b, a + b\n",
    "    fsum = fsum + b  \n",
    "    count = count + 1\n",
    "    \n",
    "print (fsum)\n",
    "\n",
    "### END SOLUTION"
   ]
  },
  {
   "cell_type": "code",
   "execution_count": null,
   "metadata": {},
   "outputs": [],
   "source": []
  },
  {
   "cell_type": "markdown",
   "metadata": {},
   "source": [
    "## Task 06\n",
    "\n",
    "Write a simple script to print out all dates bettween today and the first day of next month with date format: 'yyyy-mm-dd'"
   ]
  },
  {
   "cell_type": "code",
   "execution_count": 4,
   "metadata": {},
   "outputs": [
    {
     "name": "stdout",
     "output_type": "stream",
     "text": [
      "2019-12-12\n",
      "2019-12-13\n",
      "2019-12-14\n",
      "2019-12-15\n",
      "2019-12-16\n",
      "2019-12-17\n",
      "2019-12-18\n",
      "2019-12-19\n",
      "2019-12-20\n",
      "2019-12-21\n",
      "2019-12-22\n",
      "2019-12-23\n",
      "2019-12-24\n",
      "2019-12-25\n",
      "2019-12-26\n",
      "2019-12-27\n",
      "2019-12-28\n",
      "2019-12-29\n",
      "2019-12-30\n",
      "2019-12-31\n"
     ]
    }
   ],
   "source": [
    "### BEGIN SOLUTION\n",
    "\n",
    "from datetime import date, datetime, timedelta\n",
    "d = date.today()\n",
    "m = d.month\n",
    "while d.month == m:\n",
    "    print(d.strftime('%Y-%m-%d'))\n",
    "    d = d + timedelta(days=1)\n",
    "    \n",
    "### END SOLUTION"
   ]
  },
  {
   "cell_type": "markdown",
   "metadata": {},
   "source": [
    "## Task 07\n",
    "Given integer numbers from 1 to 100. \n",
    "\n",
    "-If a number is divisible by 3, print out “Fizz” instead of the number. \n",
    "\n",
    "-If a number is divisible by 5, print out “Buzz” instead of the number. \n",
    "\n",
    "-If a number is divisible by both 3 and 5, print out “FizzBuzz” instead of the number. \n",
    "\n",
    "-Otherwise, print the number as it is. "
   ]
  },
  {
   "cell_type": "code",
   "execution_count": 5,
   "metadata": {},
   "outputs": [
    {
     "name": "stdout",
     "output_type": "stream",
     "text": [
      "1\n",
      "2\n",
      "Fizz\n",
      "4\n",
      "Buzz\n",
      "Fizz\n",
      "7\n",
      "8\n",
      "Fizz\n",
      "Buzz\n",
      "11\n",
      "Fizz\n",
      "13\n",
      "14\n",
      "FizzBuzz\n",
      "16\n",
      "17\n",
      "Fizz\n",
      "19\n",
      "Buzz\n",
      "Fizz\n",
      "22\n",
      "23\n",
      "Fizz\n",
      "Buzz\n",
      "26\n",
      "Fizz\n",
      "28\n",
      "29\n",
      "FizzBuzz\n",
      "31\n",
      "32\n",
      "Fizz\n",
      "34\n",
      "Buzz\n",
      "Fizz\n",
      "37\n",
      "38\n",
      "Fizz\n",
      "Buzz\n",
      "41\n",
      "Fizz\n",
      "43\n",
      "44\n",
      "FizzBuzz\n",
      "46\n",
      "47\n",
      "Fizz\n",
      "49\n",
      "Buzz\n",
      "Fizz\n",
      "52\n",
      "53\n",
      "Fizz\n",
      "Buzz\n",
      "56\n",
      "Fizz\n",
      "58\n",
      "59\n",
      "FizzBuzz\n",
      "61\n",
      "62\n",
      "Fizz\n",
      "64\n",
      "Buzz\n",
      "Fizz\n",
      "67\n",
      "68\n",
      "Fizz\n",
      "Buzz\n",
      "71\n",
      "Fizz\n",
      "73\n",
      "74\n",
      "FizzBuzz\n",
      "76\n",
      "77\n",
      "Fizz\n",
      "79\n",
      "Buzz\n",
      "Fizz\n",
      "82\n",
      "83\n",
      "Fizz\n",
      "Buzz\n",
      "86\n",
      "Fizz\n",
      "88\n",
      "89\n",
      "FizzBuzz\n",
      "91\n",
      "92\n",
      "Fizz\n",
      "94\n",
      "Buzz\n",
      "Fizz\n",
      "97\n",
      "98\n",
      "Fizz\n",
      "Buzz\n"
     ]
    }
   ],
   "source": [
    "### BEGIN SOLUTION\n",
    "\n",
    "x = 1\n",
    "while x <= 100:\n",
    "    if x%15 == 0:\n",
    "        print('FizzBuzz')\n",
    "    elif x%3 == 0:\n",
    "        print('Fizz')\n",
    "    elif x%5 == 0:\n",
    "        print('Buzz')\n",
    "    else:\n",
    "        print(x)\n",
    "    x = x + 1\n",
    "    \n",
    "### END SOLUTION"
   ]
  }
 ],
 "metadata": {
  "kernelspec": {
   "display_name": "Python 3",
   "language": "python",
   "name": "python3"
  },
  "language_info": {
   "codemirror_mode": {
    "name": "ipython",
    "version": 3
   },
   "file_extension": ".py",
   "mimetype": "text/x-python",
   "name": "python",
   "nbconvert_exporter": "python",
   "pygments_lexer": "ipython3",
   "version": "3.7.5"
  },
  "toc": {
   "base_numbering": 1,
   "nav_menu": {},
   "number_sections": true,
   "sideBar": true,
   "skip_h1_title": false,
   "title_cell": "Table of Contents",
   "title_sidebar": "Contents",
   "toc_cell": false,
   "toc_position": {},
   "toc_section_display": true,
   "toc_window_display": false
  }
 },
 "nbformat": 4,
 "nbformat_minor": 2
}
