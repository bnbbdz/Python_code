{
 "cells": [
  {
   "cell_type": "markdown",
   "metadata": {},
   "source": [
    "# Mục tiêu buổi học:\n",
    "1. Hiểu được khái niệm Dataframe trong Pandas.\n",
    "2. Thực hiện được các thao tác cơ bản với Dataframe:\n",
    "    - Đổi tên cột\n",
    "    - Đổi kiểu dữ liệu\n",
    "    - Filter\n",
    "3. Vẽ được biểu đồ với Python."
   ]
  },
  {
   "cell_type": "markdown",
   "metadata": {},
   "source": [
    "# Nội dung thực hành\n",
    "\n",
    "1. Lấy các bảng dữ liệu theo từng ngày.\n",
    "2. Kết hợp các bảng dữ liệu thành 1 dataframe duy nhất\n",
    "3. Đổi tên các cột của dataframe kết quả thành tên sau:\n",
    "\n",
    "['Currency Name','Currency Code','Cash Rates', 'Transfer Rates', 'Selling Rates','Date']\n",
    "\n",
    "4. Kiểm tra các kiểu dữ liệu của dataframe\n",
    "5. Đổi kiểu dữ liệu các cột dạng số về numberic. (Chú ý trường hợp các giá trị bị lỗi)\n",
    "6. Filter giữ lại trường hợp Currency Code = 'USD'\n",
    "7. Vẽ biểu đồ thể hiện biến động của USD từ đầu năm đến nay. Tỉ giá tính theo 'Selling Rates'"
   ]
  },
  {
   "cell_type": "code",
   "execution_count": 15,
   "metadata": {},
   "outputs": [],
   "source": [
    "from urllib import request\n",
    "import ssl\n",
    "import pandas as pd\n",
    "from datetime import date, timedelta"
   ]
  },
  {
   "cell_type": "code",
   "execution_count": 16,
   "metadata": {},
   "outputs": [],
   "source": [
    "start_date = date(2019,12,1)\n",
    "working_date = start_date\n",
    "dfs = []\n",
    "while working_date < date.today():\n",
    "    date_text = working_date.strftime('%d/%m/%Y')\n",
    "    url=\"https://portal.vietcombank.com.vn/UserControls/TVPortal.TyGia/pListTyGia.aspx?txttungay={}&BacrhID=1&isEn=True\".format(date_text)\n",
    "    context = ssl._create_unverified_context()\n",
    "    response = request.urlopen(url, context=context)\n",
    "    html = response.read()\n",
    "    working_df = pd.read_html(html)[0]\n",
    "    working_df['date'] = working_date\n",
    "#     working_df.to_excel(r'{}.xlsx'.format(working_date.strftime('%d_%m_%Y')))\n",
    "    dfs.append(working_df)\n",
    "    working_date = working_date + timedelta(days=1)\n",
    "#     print(working_date)"
   ]
  },
  {
   "cell_type": "code",
   "execution_count": 17,
   "metadata": {},
   "outputs": [
    {
     "data": {
      "text/plain": [
       "[             Currency               Buying Rates           Selling Rates  \\\n",
       "         Currency Name Currency Code         Cash  Transfer Selling Rates   \n",
       " 0         AUST.DOLLAR           AUD     15450.15  15548.56      15838.32   \n",
       " 1     CANADIAN DOLLAR           CAD     17121.41  17282.13      17601.37   \n",
       " 2        SWISS FRANCE           CHF     22841.72  23007.92      23424.53   \n",
       " 3        DANISH KRONE           DKK            -   3364.90       3470.37   \n",
       " 4                EURO           EUR     25286.94  25368.10      26155.60   \n",
       " 5       BRITISH POUND           GBP     29584.00  29797.72      30088.15   \n",
       " 6     HONGKONG DOLLAR           HKD      2915.67   2936.25       2988.27   \n",
       " 7        INDIAN RUPEE           INR            -    322.50        335.15   \n",
       " 8        JAPANESE YEN           JPY       201.65    208.24        214.85   \n",
       " 9    SOUTH KOREAN WON           KRW        17.94     18.90         20.93   \n",
       " 10      KUWAITI DINAR           KWD            -  76081.39      79066.68   \n",
       " 11  MALAYSIAN RINGGIT           MYR            -   5521.76       5593.24   \n",
       " 12   NORWEGIAN KRONER           NOK            -   2489.78       2567.82   \n",
       " 13      RUSSIAN RUBLE           RUB            -    361.02        402.28   \n",
       " 14      SWEDISH KRONA           SEK            -   2396.32       2456.65   \n",
       " 15   SINGAPORE DOLLAR           SGD     16735.57  16858.72      17068.06   \n",
       " 16          THAI BAHT           THB       751.84    751.84        783.20   \n",
       " 17          US DOLLAR           USD     23095.00  23125.00      23245.00   \n",
       " \n",
       "           date  \n",
       "                 \n",
       " 0   2019-12-01  \n",
       " 1   2019-12-01  \n",
       " 2   2019-12-01  \n",
       " 3   2019-12-01  \n",
       " 4   2019-12-01  \n",
       " 5   2019-12-01  \n",
       " 6   2019-12-01  \n",
       " 7   2019-12-01  \n",
       " 8   2019-12-01  \n",
       " 9   2019-12-01  \n",
       " 10  2019-12-01  \n",
       " 11  2019-12-01  \n",
       " 12  2019-12-01  \n",
       " 13  2019-12-01  \n",
       " 14  2019-12-01  \n",
       " 15  2019-12-01  \n",
       " 16  2019-12-01  \n",
       " 17  2019-12-01  ,\n",
       "              Currency               Buying Rates           Selling Rates  \\\n",
       "         Currency Name Currency Code         Cash  Transfer Selling Rates   \n",
       " 0         AUST.DOLLAR           AUD     15433.10  15531.41      15820.88   \n",
       " 1     CANADIAN DOLLAR           CAD     17126.75  17287.52      17606.85   \n",
       " 2        SWISS FRANCE           CHF     22784.24  22950.03      23365.66   \n",
       " 3        DANISH KRONE           DKK            -   3366.55       3472.08   \n",
       " 4                EURO           EUR     25297.56  25378.76      26166.59   \n",
       " 5       BRITISH POUND           GBP     29566.14  29779.74      30070.03   \n",
       " 6     HONGKONG DOLLAR           HKD      2915.07   2935.65       2987.67   \n",
       " 7        INDIAN RUPEE           INR            -    322.30        334.95   \n",
       " 8        JAPANESE YEN           JPY       201.27    207.85        214.45   \n",
       " 9    SOUTH KOREAN WON           KRW        17.97     18.93         20.96   \n",
       " 10      KUWAITI DINAR           KWD            -  76090.00      79075.64   \n",
       " 11  MALAYSIAN RINGGIT           MYR            -   5515.28       5586.68   \n",
       " 12   NORWEGIAN KRONER           NOK            -   2478.59       2556.29   \n",
       " 13      RUSSIAN RUBLE           RUB            -    359.71        400.82   \n",
       " 14      SWEDISH KRONA           SEK            -   2391.95       2452.17   \n",
       " 15   SINGAPORE DOLLAR           SGD     16717.25  16840.27      17049.41   \n",
       " 16          THAI BAHT           THB       752.18    752.18        783.55   \n",
       " 17          US DOLLAR           USD     23090.00  23120.00      23240.00   \n",
       " \n",
       "           date  \n",
       "                 \n",
       " 0   2019-12-02  \n",
       " 1   2019-12-02  \n",
       " 2   2019-12-02  \n",
       " 3   2019-12-02  \n",
       " 4   2019-12-02  \n",
       " 5   2019-12-02  \n",
       " 6   2019-12-02  \n",
       " 7   2019-12-02  \n",
       " 8   2019-12-02  \n",
       " 9   2019-12-02  \n",
       " 10  2019-12-02  \n",
       " 11  2019-12-02  \n",
       " 12  2019-12-02  \n",
       " 13  2019-12-02  \n",
       " 14  2019-12-02  \n",
       " 15  2019-12-02  \n",
       " 16  2019-12-02  \n",
       " 17  2019-12-02  ,\n",
       "              Currency               Buying Rates           Selling Rates  \\\n",
       "         Currency Name Currency Code         Cash  Transfer Selling Rates   \n",
       " 0         AUST.DOLLAR           AUD     15556.47  15655.52      15947.10   \n",
       " 1     CANADIAN DOLLAR           CAD     17102.24  17262.79      17581.70   \n",
       " 2        SWISS FRANCE           CHF     22991.24  23158.49      23577.67   \n",
       " 3        DANISH KRONE           DKK            -   3383.37       3489.42   \n",
       " 4                EURO           EUR     25421.68  25503.25      26294.82   \n",
       " 5       BRITISH POUND           GBP     29609.68  29823.59      30114.27   \n",
       " 6     HONGKONG DOLLAR           HKD      2914.03   2934.60       2986.60   \n",
       " 7        INDIAN RUPEE           INR            -    322.87        335.54   \n",
       " 8        JAPANESE YEN           JPY       202.35    208.94        215.58   \n",
       " 9    SOUTH KOREAN WON           KRW        17.83     18.78         20.80   \n",
       " 10      KUWAITI DINAR           KWD            -  76090.00      79075.64   \n",
       " 11  MALAYSIAN RINGGIT           MYR            -   5520.57       5592.04   \n",
       " 12   NORWEGIAN KRONER           NOK            -   2488.48       2566.49   \n",
       " 13      RUSSIAN RUBLE           RUB            -    360.44        401.63   \n",
       " 14      SWEDISH KRONA           SEK            -   2398.89       2459.28   \n",
       " 15   SINGAPORE DOLLAR           SGD     16729.49  16852.60      17061.89   \n",
       " 16          THAI BAHT           THB       750.68    750.68        782.00   \n",
       " 17          US DOLLAR           USD     23090.00  23120.00      23240.00   \n",
       " \n",
       "           date  \n",
       "                 \n",
       " 0   2019-12-03  \n",
       " 1   2019-12-03  \n",
       " 2   2019-12-03  \n",
       " 3   2019-12-03  \n",
       " 4   2019-12-03  \n",
       " 5   2019-12-03  \n",
       " 6   2019-12-03  \n",
       " 7   2019-12-03  \n",
       " 8   2019-12-03  \n",
       " 9   2019-12-03  \n",
       " 10  2019-12-03  \n",
       " 11  2019-12-03  \n",
       " 12  2019-12-03  \n",
       " 13  2019-12-03  \n",
       " 14  2019-12-03  \n",
       " 15  2019-12-03  \n",
       " 16  2019-12-03  \n",
       " 17  2019-12-03  ,\n",
       "              Currency               Buying Rates           Selling Rates  \\\n",
       "         Currency Name Currency Code         Cash  Transfer Selling Rates   \n",
       " 0         AUST.DOLLAR           AUD     15593.03  15692.30      15984.51   \n",
       " 1     CANADIAN DOLLAR           CAD     17115.13  17275.79      17594.93   \n",
       " 2        SWISS FRANCE           CHF     23110.22  23278.31      23699.52   \n",
       " 3        DANISH KRONE           DKK            -   3385.73       3491.86   \n",
       " 4                EURO           EUR     25442.37  25524.00      26316.19   \n",
       " 5       BRITISH POUND           GBP     29754.06  29968.98      30260.95   \n",
       " 6     HONGKONG DOLLAR           HKD      2914.37   2934.94       2986.94   \n",
       " 7        INDIAN RUPEE           INR            -    322.37        335.02   \n",
       " 8        JAPANESE YEN           JPY       203.43    210.04        216.71   \n",
       " 9    SOUTH KOREAN WON           KRW        17.76     18.71         20.73   \n",
       " 10      KUWAITI DINAR           KWD            -  76090.00      79075.64   \n",
       " 11  MALAYSIAN RINGGIT           MYR            -   5513.96       5585.34   \n",
       " 12   NORWEGIAN KRONER           NOK            -   2485.37       2563.27   \n",
       " 13      RUSSIAN RUBLE           RUB            -    360.58        401.79   \n",
       " 14      SWEDISH KRONA           SEK            -   2403.98       2464.50   \n",
       " 15   SINGAPORE DOLLAR           SGD     16755.29  16878.58      17088.14   \n",
       " 16          THAI BAHT           THB       750.44    750.44        781.74   \n",
       " 17          US DOLLAR           USD     23090.00  23120.00      23240.00   \n",
       " \n",
       "           date  \n",
       "                 \n",
       " 0   2019-12-04  \n",
       " 1   2019-12-04  \n",
       " 2   2019-12-04  \n",
       " 3   2019-12-04  \n",
       " 4   2019-12-04  \n",
       " 5   2019-12-04  \n",
       " 6   2019-12-04  \n",
       " 7   2019-12-04  \n",
       " 8   2019-12-04  \n",
       " 9   2019-12-04  \n",
       " 10  2019-12-04  \n",
       " 11  2019-12-04  \n",
       " 12  2019-12-04  \n",
       " 13  2019-12-04  \n",
       " 14  2019-12-04  \n",
       " 15  2019-12-04  \n",
       " 16  2019-12-04  \n",
       " 17  2019-12-04  ,\n",
       "              Currency               Buying Rates           Selling Rates  \\\n",
       "         Currency Name Currency Code         Cash  Transfer Selling Rates   \n",
       " 0         AUST.DOLLAR           AUD     15599.88  15699.20      15991.52   \n",
       " 1     CANADIAN DOLLAR           CAD     17250.32  17412.21      17733.66   \n",
       " 2        SWISS FRANCE           CHF     23084.45  23252.36      23673.13   \n",
       " 3        DANISH KRONE           DKK            -   3386.53       3492.69   \n",
       " 4                EURO           EUR     25449.26  25530.91      26323.31   \n",
       " 5       BRITISH POUND           GBP     30013.00  30229.75      30524.04   \n",
       " 6     HONGKONG DOLLAR           HKD      2914.40   2934.97       2986.98   \n",
       " 7        INDIAN RUPEE           INR            -    323.50        336.19   \n",
       " 8        JAPANESE YEN           JPY       202.82    209.42        216.07   \n",
       " 9    SOUTH KOREAN WON           KRW        17.82     18.77         20.79   \n",
       " 10      KUWAITI DINAR           KWD            -  76140.11      79127.72   \n",
       " 11  MALAYSIAN RINGGIT           MYR            -   5523.22       5594.72   \n",
       " 12   NORWEGIAN KRONER           NOK            -   2491.03       2569.12   \n",
       " 13      RUSSIAN RUBLE           RUB            -    362.01        403.38   \n",
       " 14      SWEDISH KRONA           SEK            -   2409.39       2470.05   \n",
       " 15   SINGAPORE DOLLAR           SGD     16777.45  16900.90      17110.71   \n",
       " 16          THAI BAHT           THB       749.45    749.45        780.71   \n",
       " 17          US DOLLAR           USD     23090.00  23120.00      23240.00   \n",
       " \n",
       "           date  \n",
       "                 \n",
       " 0   2019-12-05  \n",
       " 1   2019-12-05  \n",
       " 2   2019-12-05  \n",
       " 3   2019-12-05  \n",
       " 4   2019-12-05  \n",
       " 5   2019-12-05  \n",
       " 6   2019-12-05  \n",
       " 7   2019-12-05  \n",
       " 8   2019-12-05  \n",
       " 9   2019-12-05  \n",
       " 10  2019-12-05  \n",
       " 11  2019-12-05  \n",
       " 12  2019-12-05  \n",
       " 13  2019-12-05  \n",
       " 14  2019-12-05  \n",
       " 15  2019-12-05  \n",
       " 16  2019-12-05  \n",
       " 17  2019-12-05  ,\n",
       "              Currency               Buying Rates           Selling Rates  \\\n",
       "         Currency Name Currency Code         Cash  Transfer Selling Rates   \n",
       " 0         AUST.DOLLAR           AUD     15591.94  15691.21      15983.40   \n",
       " 1     CANADIAN DOLLAR           CAD     17261.01  17423.00      17744.64   \n",
       " 2        SWISS FRANCE           CHF     23091.17  23259.12      23680.02   \n",
       " 3        DANISH KRONE           DKK            -   3391.79       3498.11   \n",
       " 4                EURO           EUR     25489.73  25571.50      26365.12   \n",
       " 5       BRITISH POUND           GBP     30123.36  30340.89      30636.18   \n",
       " 6     HONGKONG DOLLAR           HKD      2913.70   2934.27       2986.26   \n",
       " 7        INDIAN RUPEE           INR            -    324.56        337.30   \n",
       " 8        JAPANESE YEN           JPY       202.95    209.55        216.20   \n",
       " 9    SOUTH KOREAN WON           KRW        17.83     18.78         20.80   \n",
       " 10      KUWAITI DINAR           KWD            -  76198.95      79188.88   \n",
       " 11  MALAYSIAN RINGGIT           MYR            -   5531.31       5602.92   \n",
       " 12   NORWEGIAN KRONER           NOK            -   2498.18       2576.49   \n",
       " 13      RUSSIAN RUBLE           RUB            -    363.03        404.53   \n",
       " 14      SWEDISH KRONA           SEK            -   2412.12       2472.85   \n",
       " 15   SINGAPORE DOLLAR           SGD     16803.47  16927.10      17137.20   \n",
       " 16          THAI BAHT           THB       748.54    748.54        779.77   \n",
       " 17          US DOLLAR           USD     23090.00  23120.00      23240.00   \n",
       " \n",
       "           date  \n",
       "                 \n",
       " 0   2019-12-06  \n",
       " 1   2019-12-06  \n",
       " 2   2019-12-06  \n",
       " 3   2019-12-06  \n",
       " 4   2019-12-06  \n",
       " 5   2019-12-06  \n",
       " 6   2019-12-06  \n",
       " 7   2019-12-06  \n",
       " 8   2019-12-06  \n",
       " 9   2019-12-06  \n",
       " 10  2019-12-06  \n",
       " 11  2019-12-06  \n",
       " 12  2019-12-06  \n",
       " 13  2019-12-06  \n",
       " 14  2019-12-06  \n",
       " 15  2019-12-06  \n",
       " 16  2019-12-06  \n",
       " 17  2019-12-06  ,\n",
       "              Currency               Buying Rates           Selling Rates  \\\n",
       "         Currency Name Currency Code         Cash  Transfer Selling Rates   \n",
       " 0         AUST.DOLLAR           AUD     15591.94  15691.21      15983.40   \n",
       " 1     CANADIAN DOLLAR           CAD     17261.01  17423.00      17744.64   \n",
       " 2        SWISS FRANCE           CHF     23091.17  23259.12      23680.02   \n",
       " 3        DANISH KRONE           DKK            -   3391.79       3498.11   \n",
       " 4                EURO           EUR     25489.73  25571.50      26365.12   \n",
       " 5       BRITISH POUND           GBP     30123.36  30340.89      30636.18   \n",
       " 6     HONGKONG DOLLAR           HKD      2913.70   2934.27       2986.26   \n",
       " 7        INDIAN RUPEE           INR            -    324.56        337.30   \n",
       " 8        JAPANESE YEN           JPY       202.95    209.55        216.20   \n",
       " 9    SOUTH KOREAN WON           KRW        17.83     18.78         20.80   \n",
       " 10      KUWAITI DINAR           KWD            -  76198.95      79188.88   \n",
       " 11  MALAYSIAN RINGGIT           MYR            -   5531.31       5602.92   \n",
       " 12   NORWEGIAN KRONER           NOK            -   2498.18       2576.49   \n",
       " 13      RUSSIAN RUBLE           RUB            -    363.03        404.53   \n",
       " 14      SWEDISH KRONA           SEK            -   2412.12       2472.85   \n",
       " 15   SINGAPORE DOLLAR           SGD     16803.47  16927.10      17137.20   \n",
       " 16          THAI BAHT           THB       748.54    748.54        779.77   \n",
       " 17          US DOLLAR           USD     23090.00  23120.00      23240.00   \n",
       " \n",
       "           date  \n",
       "                 \n",
       " 0   2019-12-07  \n",
       " 1   2019-12-07  \n",
       " 2   2019-12-07  \n",
       " 3   2019-12-07  \n",
       " 4   2019-12-07  \n",
       " 5   2019-12-07  \n",
       " 6   2019-12-07  \n",
       " 7   2019-12-07  \n",
       " 8   2019-12-07  \n",
       " 9   2019-12-07  \n",
       " 10  2019-12-07  \n",
       " 11  2019-12-07  \n",
       " 12  2019-12-07  \n",
       " 13  2019-12-07  \n",
       " 14  2019-12-07  \n",
       " 15  2019-12-07  \n",
       " 16  2019-12-07  \n",
       " 17  2019-12-07  ,\n",
       "              Currency               Buying Rates           Selling Rates  \\\n",
       "         Currency Name Currency Code         Cash  Transfer Selling Rates   \n",
       " 0         AUST.DOLLAR           AUD     15591.94  15691.21      15983.40   \n",
       " 1     CANADIAN DOLLAR           CAD     17261.01  17423.00      17744.64   \n",
       " 2        SWISS FRANCE           CHF     23091.17  23259.12      23680.02   \n",
       " 3        DANISH KRONE           DKK            -   3391.79       3498.11   \n",
       " 4                EURO           EUR     25489.73  25571.50      26365.12   \n",
       " 5       BRITISH POUND           GBP     30123.36  30340.89      30636.18   \n",
       " 6     HONGKONG DOLLAR           HKD      2913.70   2934.27       2986.26   \n",
       " 7        INDIAN RUPEE           INR            -    324.56        337.30   \n",
       " 8        JAPANESE YEN           JPY       202.95    209.55        216.20   \n",
       " 9    SOUTH KOREAN WON           KRW        17.83     18.78         20.80   \n",
       " 10      KUWAITI DINAR           KWD            -  76198.95      79188.88   \n",
       " 11  MALAYSIAN RINGGIT           MYR            -   5531.31       5602.92   \n",
       " 12   NORWEGIAN KRONER           NOK            -   2498.18       2576.49   \n",
       " 13      RUSSIAN RUBLE           RUB            -    363.03        404.53   \n",
       " 14      SWEDISH KRONA           SEK            -   2412.12       2472.85   \n",
       " 15   SINGAPORE DOLLAR           SGD     16803.47  16927.10      17137.20   \n",
       " 16          THAI BAHT           THB       748.54    748.54        779.77   \n",
       " 17          US DOLLAR           USD     23090.00  23120.00      23240.00   \n",
       " \n",
       "           date  \n",
       "                 \n",
       " 0   2019-12-08  \n",
       " 1   2019-12-08  \n",
       " 2   2019-12-08  \n",
       " 3   2019-12-08  \n",
       " 4   2019-12-08  \n",
       " 5   2019-12-08  \n",
       " 6   2019-12-08  \n",
       " 7   2019-12-08  \n",
       " 8   2019-12-08  \n",
       " 9   2019-12-08  \n",
       " 10  2019-12-08  \n",
       " 11  2019-12-08  \n",
       " 12  2019-12-08  \n",
       " 13  2019-12-08  \n",
       " 14  2019-12-08  \n",
       " 15  2019-12-08  \n",
       " 16  2019-12-08  \n",
       " 17  2019-12-08  ,\n",
       "              Currency               Buying Rates           Selling Rates  \\\n",
       "         Currency Name Currency Code         Cash  Transfer Selling Rates   \n",
       " 0         AUST.DOLLAR           AUD     15575.95  15675.12      15967.04   \n",
       " 1     CANADIAN DOLLAR           CAD     17151.50  17312.49      17632.25   \n",
       " 2        SWISS FRANCE           CHF     23018.81  23186.25      23605.90   \n",
       " 3        DANISH KRONE           DKK            -   3377.28       3483.15   \n",
       " 4                EURO           EUR     25381.72  25463.17      26253.54   \n",
       " 5       BRITISH POUND           GBP     30091.29  30308.59      30603.59   \n",
       " 6     HONGKONG DOLLAR           HKD      2913.51   2934.08       2986.07   \n",
       " 7        INDIAN RUPEE           INR            -    324.39        337.12   \n",
       " 8        JAPANESE YEN           JPY       203.38    209.98        216.64   \n",
       " 9    SOUTH KOREAN WON           KRW        17.81     18.76         20.77   \n",
       " 10      KUWAITI DINAR           KWD            -  76123.68      79110.66   \n",
       " 11  MALAYSIAN RINGGIT           MYR            -   5533.97       5605.61   \n",
       " 12   NORWEGIAN KRONER           NOK            -   2499.44       2577.79   \n",
       " 13      RUSSIAN RUBLE           RUB            -    363.15        404.66   \n",
       " 14      SWEDISH KRONA           SEK            -   2409.05       2469.70   \n",
       " 15   SINGAPORE DOLLAR           SGD     16798.53  16922.12      17132.16   \n",
       " 16          THAI BAHT           THB       748.30    748.30        779.51   \n",
       " 17          US DOLLAR           USD     23090.00  23120.00      23240.00   \n",
       " \n",
       "           date  \n",
       "                 \n",
       " 0   2019-12-09  \n",
       " 1   2019-12-09  \n",
       " 2   2019-12-09  \n",
       " 3   2019-12-09  \n",
       " 4   2019-12-09  \n",
       " 5   2019-12-09  \n",
       " 6   2019-12-09  \n",
       " 7   2019-12-09  \n",
       " 8   2019-12-09  \n",
       " 9   2019-12-09  \n",
       " 10  2019-12-09  \n",
       " 11  2019-12-09  \n",
       " 12  2019-12-09  \n",
       " 13  2019-12-09  \n",
       " 14  2019-12-09  \n",
       " 15  2019-12-09  \n",
       " 16  2019-12-09  \n",
       " 17  2019-12-09  ,\n",
       "              Currency               Buying Rates           Selling Rates  \\\n",
       "         Currency Name Currency Code         Cash  Transfer Selling Rates   \n",
       " 0         AUST.DOLLAR           AUD     15533.76  15632.68      15923.87   \n",
       " 1     CANADIAN DOLLAR           CAD     17171.14  17332.31      17652.41   \n",
       " 2        SWISS FRANCE           CHF     23104.92  23272.97      23694.11   \n",
       " 3        DANISH KRONE           DKK            -   3382.21       3488.23   \n",
       " 4                EURO           EUR     25415.29  25496.84      26288.23   \n",
       " 5       BRITISH POUND           GBP     30121.44  30338.95      30634.23   \n",
       " 6     HONGKONG DOLLAR           HKD      2914.07   2934.64       2986.65   \n",
       " 7        INDIAN RUPEE           INR            -    326.05        338.85   \n",
       " 8        JAPANESE YEN           JPY       203.31    209.91        216.57   \n",
       " 9    SOUTH KOREAN WON           KRW        17.74     18.69         20.71   \n",
       " 10      KUWAITI DINAR           KWD            -  76132.32      79119.65   \n",
       " 11  MALAYSIAN RINGGIT           MYR            -   5530.12       5601.71   \n",
       " 12   NORWEGIAN KRONER           NOK            -   2482.78       2560.61   \n",
       " 13      RUSSIAN RUBLE           RUB            -    363.43        404.97   \n",
       " 14      SWEDISH KRONA           SEK            -   2399.82       2460.23   \n",
       " 15   SINGAPORE DOLLAR           SGD     16804.79  16928.43      17138.55   \n",
       " 16          THAI BAHT           THB       749.12    749.12        780.37   \n",
       " 17          US DOLLAR           USD     23090.00  23120.00      23240.00   \n",
       " \n",
       "           date  \n",
       "                 \n",
       " 0   2019-12-10  \n",
       " 1   2019-12-10  \n",
       " 2   2019-12-10  \n",
       " 3   2019-12-10  \n",
       " 4   2019-12-10  \n",
       " 5   2019-12-10  \n",
       " 6   2019-12-10  \n",
       " 7   2019-12-10  \n",
       " 8   2019-12-10  \n",
       " 9   2019-12-10  \n",
       " 10  2019-12-10  \n",
       " 11  2019-12-10  \n",
       " 12  2019-12-10  \n",
       " 13  2019-12-10  \n",
       " 14  2019-12-10  \n",
       " 15  2019-12-10  \n",
       " 16  2019-12-10  \n",
       " 17  2019-12-10  ,\n",
       "              Currency               Buying Rates           Selling Rates  \\\n",
       "         Currency Name Currency Code         Cash  Transfer Selling Rates   \n",
       " 0         AUST.DOLLAR           AUD     15529.19  15628.08      15919.20   \n",
       " 1     CANADIAN DOLLAR           CAD     17181.53  17342.80      17663.08   \n",
       " 2        SWISS FRANCE           CHF     23149.56  23317.93      23739.83   \n",
       " 3        DANISH KRONE           DKK            -   3386.58       3492.73   \n",
       " 4                EURO           EUR     25454.35  25536.02      26328.58   \n",
       " 5       BRITISH POUND           GBP     30048.14  30265.14      30559.75   \n",
       " 6     HONGKONG DOLLAR           HKD      2914.15   2934.72       2986.73   \n",
       " 7        INDIAN RUPEE           INR            -    326.47        339.28   \n",
       " 8        JAPANESE YEN           JPY       202.96    209.56        216.22   \n",
       " 9    SOUTH KOREAN WON           KRW        17.74     18.69         20.70   \n",
       " 10      KUWAITI DINAR           KWD            -  76107.25      79093.60   \n",
       " 11  MALAYSIAN RINGGIT           MYR            -   5536.76       5608.45   \n",
       " 12   NORWEGIAN KRONER           NOK            -   2484.94       2562.84   \n",
       " 13      RUSSIAN RUBLE           RUB            -    363.99        405.59   \n",
       " 14      SWEDISH KRONA           SEK            -   2409.57       2470.23   \n",
       " 15   SINGAPORE DOLLAR           SGD     16815.93  16939.65      17149.89   \n",
       " 16          THAI BAHT           THB       749.62    749.62        780.89   \n",
       " 17          US DOLLAR           USD     23090.00  23120.00      23240.00   \n",
       " \n",
       "           date  \n",
       "                 \n",
       " 0   2019-12-11  \n",
       " 1   2019-12-11  \n",
       " 2   2019-12-11  \n",
       " 3   2019-12-11  \n",
       " 4   2019-12-11  \n",
       " 5   2019-12-11  \n",
       " 6   2019-12-11  \n",
       " 7   2019-12-11  \n",
       " 8   2019-12-11  \n",
       " 9   2019-12-11  \n",
       " 10  2019-12-11  \n",
       " 11  2019-12-11  \n",
       " 12  2019-12-11  \n",
       " 13  2019-12-11  \n",
       " 14  2019-12-11  \n",
       " 15  2019-12-11  \n",
       " 16  2019-12-11  \n",
       " 17  2019-12-11  ,\n",
       "              Currency               Buying Rates           Selling Rates  \\\n",
       "         Currency Name Currency Code         Cash  Transfer Selling Rates   \n",
       " 0         AUST.DOLLAR           AUD     15677.64  15777.42      16071.08   \n",
       " 1     CANADIAN DOLLAR           CAD     17269.09  17431.15      17752.94   \n",
       " 2        SWISS FRANCE           CHF     23220.40  23389.26      23812.37   \n",
       " 3        DANISH KRONE           DKK            -   3400.15       3506.73   \n",
       " 4                EURO           EUR     25557.74  25639.72      26435.39   \n",
       " 5       BRITISH POUND           GBP     30222.23  30440.45      30736.63   \n",
       " 6     HONGKONG DOLLAR           HKD      2920.76   2941.38       2993.49   \n",
       " 7        INDIAN RUPEE           INR            -    326.93        339.76   \n",
       " 8        JAPANESE YEN           JPY       203.46    210.07        216.73   \n",
       " 9    SOUTH KOREAN WON           KRW        17.78     18.73         20.75   \n",
       " 10      KUWAITI DINAR           KWD            -  76107.25      79093.60   \n",
       " 11  MALAYSIAN RINGGIT           MYR            -   5544.77       5616.55   \n",
       " 12   NORWEGIAN KRONER           NOK            -   2505.46       2584.00   \n",
       " 13      RUSSIAN RUBLE           RUB            -    365.08        406.81   \n",
       " 14      SWEDISH KRONA           SEK            -   2438.25       2499.63   \n",
       " 15   SINGAPORE DOLLAR           SGD     16848.22  16972.17      17182.76   \n",
       " 16          THAI BAHT           THB       751.10    751.10        782.44   \n",
       " 17          US DOLLAR           USD     23080.00  23110.00      23230.00   \n",
       " \n",
       "           date  \n",
       "                 \n",
       " 0   2019-12-12  \n",
       " 1   2019-12-12  \n",
       " 2   2019-12-12  \n",
       " 3   2019-12-12  \n",
       " 4   2019-12-12  \n",
       " 5   2019-12-12  \n",
       " 6   2019-12-12  \n",
       " 7   2019-12-12  \n",
       " 8   2019-12-12  \n",
       " 9   2019-12-12  \n",
       " 10  2019-12-12  \n",
       " 11  2019-12-12  \n",
       " 12  2019-12-12  \n",
       " 13  2019-12-12  \n",
       " 14  2019-12-12  \n",
       " 15  2019-12-12  \n",
       " 16  2019-12-12  \n",
       " 17  2019-12-12  ,\n",
       "              Currency               Buying Rates           Selling Rates  \\\n",
       "         Currency Name Currency Code         Cash  Transfer Selling Rates   \n",
       " 0         AUST.DOLLAR           AUD     15775.83  15876.21      16171.55   \n",
       " 1     CANADIAN DOLLAR           CAD     17284.88  17447.08      17769.13   \n",
       " 2        SWISS FRANCE           CHF     23156.62  23325.04      23747.06   \n",
       " 3        DANISH KRONE           DKK            -   3413.84       3520.85   \n",
       " 4                EURO           EUR     25656.53  25738.81      26537.46   \n",
       " 5       BRITISH POUND           GBP     30868.17  31090.95      31392.92   \n",
       " 6     HONGKONG DOLLAR           HKD      2922.18   2942.81       2994.94   \n",
       " 7        INDIAN RUPEE           INR            -    327.58        340.43   \n",
       " 8        JAPANESE YEN           JPY       201.48    208.07        214.68   \n",
       " 9    SOUTH KOREAN WON           KRW        18.06     19.02         21.06   \n",
       " 10      KUWAITI DINAR           KWD            -  76107.25      79093.60   \n",
       " 11  MALAYSIAN RINGGIT           MYR            -   5562.18       5634.19   \n",
       " 12   NORWEGIAN KRONER           NOK            -   2524.20       2603.32   \n",
       " 13      RUSSIAN RUBLE           RUB            -    368.53        410.65   \n",
       " 14      SWEDISH KRONA           SEK            -   2448.79       2510.44   \n",
       " 15   SINGAPORE DOLLAR           SGD     16900.64  17024.95      17236.13   \n",
       " 16          THAI BAHT           THB       752.85    752.85        784.25   \n",
       " 17          US DOLLAR           USD     23080.00  23110.00      23230.00   \n",
       " \n",
       "           date  \n",
       "                 \n",
       " 0   2019-12-13  \n",
       " 1   2019-12-13  \n",
       " 2   2019-12-13  \n",
       " 3   2019-12-13  \n",
       " 4   2019-12-13  \n",
       " 5   2019-12-13  \n",
       " 6   2019-12-13  \n",
       " 7   2019-12-13  \n",
       " 8   2019-12-13  \n",
       " 9   2019-12-13  \n",
       " 10  2019-12-13  \n",
       " 11  2019-12-13  \n",
       " 12  2019-12-13  \n",
       " 13  2019-12-13  \n",
       " 14  2019-12-13  \n",
       " 15  2019-12-13  \n",
       " 16  2019-12-13  \n",
       " 17  2019-12-13  ,\n",
       "              Currency               Buying Rates           Selling Rates  \\\n",
       "         Currency Name Currency Code         Cash  Transfer Selling Rates   \n",
       " 0         AUST.DOLLAR           AUD     15775.83  15876.21      16171.55   \n",
       " 1     CANADIAN DOLLAR           CAD     17284.88  17447.08      17769.13   \n",
       " 2        SWISS FRANCE           CHF     23156.62  23325.04      23747.06   \n",
       " 3        DANISH KRONE           DKK            -   3413.84       3520.85   \n",
       " 4                EURO           EUR     25656.53  25738.81      26537.46   \n",
       " 5       BRITISH POUND           GBP     30868.17  31090.95      31392.92   \n",
       " 6     HONGKONG DOLLAR           HKD      2922.18   2942.81       2994.94   \n",
       " 7        INDIAN RUPEE           INR            -    327.58        340.43   \n",
       " 8        JAPANESE YEN           JPY       201.48    208.07        214.68   \n",
       " 9    SOUTH KOREAN WON           KRW        18.06     19.02         21.06   \n",
       " 10      KUWAITI DINAR           KWD            -  76107.25      79093.60   \n",
       " 11  MALAYSIAN RINGGIT           MYR            -   5562.18       5634.19   \n",
       " 12   NORWEGIAN KRONER           NOK            -   2524.20       2603.32   \n",
       " 13      RUSSIAN RUBLE           RUB            -    368.53        410.65   \n",
       " 14      SWEDISH KRONA           SEK            -   2448.79       2510.44   \n",
       " 15   SINGAPORE DOLLAR           SGD     16900.64  17024.95      17236.13   \n",
       " 16          THAI BAHT           THB       752.85    752.85        784.25   \n",
       " 17          US DOLLAR           USD     23080.00  23110.00      23230.00   \n",
       " \n",
       "           date  \n",
       "                 \n",
       " 0   2019-12-14  \n",
       " 1   2019-12-14  \n",
       " 2   2019-12-14  \n",
       " 3   2019-12-14  \n",
       " 4   2019-12-14  \n",
       " 5   2019-12-14  \n",
       " 6   2019-12-14  \n",
       " 7   2019-12-14  \n",
       " 8   2019-12-14  \n",
       " 9   2019-12-14  \n",
       " 10  2019-12-14  \n",
       " 11  2019-12-14  \n",
       " 12  2019-12-14  \n",
       " 13  2019-12-14  \n",
       " 14  2019-12-14  \n",
       " 15  2019-12-14  \n",
       " 16  2019-12-14  \n",
       " 17  2019-12-14  ,\n",
       "              Currency               Buying Rates           Selling Rates  \\\n",
       "         Currency Name Currency Code         Cash  Transfer Selling Rates   \n",
       " 0         AUST.DOLLAR           AUD     15775.83  15876.21      16171.55   \n",
       " 1     CANADIAN DOLLAR           CAD     17284.88  17447.08      17769.13   \n",
       " 2        SWISS FRANCE           CHF     23156.62  23325.04      23747.06   \n",
       " 3        DANISH KRONE           DKK            -   3413.84       3520.85   \n",
       " 4                EURO           EUR     25656.53  25738.81      26537.46   \n",
       " 5       BRITISH POUND           GBP     30868.17  31090.95      31392.92   \n",
       " 6     HONGKONG DOLLAR           HKD      2922.18   2942.81       2994.94   \n",
       " 7        INDIAN RUPEE           INR            -    327.58        340.43   \n",
       " 8        JAPANESE YEN           JPY       201.48    208.07        214.68   \n",
       " 9    SOUTH KOREAN WON           KRW        18.06     19.02         21.06   \n",
       " 10      KUWAITI DINAR           KWD            -  76107.25      79093.60   \n",
       " 11  MALAYSIAN RINGGIT           MYR            -   5562.18       5634.19   \n",
       " 12   NORWEGIAN KRONER           NOK            -   2524.20       2603.32   \n",
       " 13      RUSSIAN RUBLE           RUB            -    368.53        410.65   \n",
       " 14      SWEDISH KRONA           SEK            -   2448.79       2510.44   \n",
       " 15   SINGAPORE DOLLAR           SGD     16900.64  17024.95      17236.13   \n",
       " 16          THAI BAHT           THB       752.85    752.85        784.25   \n",
       " 17          US DOLLAR           USD     23080.00  23110.00      23230.00   \n",
       " \n",
       "           date  \n",
       "                 \n",
       " 0   2019-12-15  \n",
       " 1   2019-12-15  \n",
       " 2   2019-12-15  \n",
       " 3   2019-12-15  \n",
       " 4   2019-12-15  \n",
       " 5   2019-12-15  \n",
       " 6   2019-12-15  \n",
       " 7   2019-12-15  \n",
       " 8   2019-12-15  \n",
       " 9   2019-12-15  \n",
       " 10  2019-12-15  \n",
       " 11  2019-12-15  \n",
       " 12  2019-12-15  \n",
       " 13  2019-12-15  \n",
       " 14  2019-12-15  \n",
       " 15  2019-12-15  \n",
       " 16  2019-12-15  \n",
       " 17  2019-12-15  ,\n",
       "              Currency               Buying Rates           Selling Rates  \\\n",
       "         Currency Name Currency Code         Cash  Transfer Selling Rates   \n",
       " 0         AUST.DOLLAR           AUD     15665.03  15764.74      16058.18   \n",
       " 1     CANADIAN DOLLAR           CAD     17276.77  17438.90      17760.81   \n",
       " 2        SWISS FRANCE           CHF     23187.58  23356.21      23778.75   \n",
       " 3        DANISH KRONE           DKK            -   3401.59       3508.22   \n",
       " 4                EURO           EUR     25567.86  25649.87      26445.84   \n",
       " 5       BRITISH POUND           GBP     30650.32  30871.56      31171.57   \n",
       " 6     HONGKONG DOLLAR           HKD      2928.94   2949.62       3001.85   \n",
       " 7        INDIAN RUPEE           INR            -    325.87        338.66   \n",
       " 8        JAPANESE YEN           JPY       201.77    208.36        214.98   \n",
       " 9    SOUTH KOREAN WON           KRW        18.07     19.03         21.07   \n",
       " 10      KUWAITI DINAR           KWD            -  76198.95      79188.88   \n",
       " 11  MALAYSIAN RINGGIT           MYR            -   5562.04       5634.05   \n",
       " 12   NORWEGIAN KRONER           NOK            -   2530.62       2609.95   \n",
       " 13      RUSSIAN RUBLE           RUB            -    368.05        410.12   \n",
       " 14      SWEDISH KRONA           SEK            -   2442.83       2504.33   \n",
       " 15   SINGAPORE DOLLAR           SGD     16858.09  16982.10      17192.81   \n",
       " 16          THAI BAHT           THB       752.01    752.01        783.38   \n",
       " 17          US DOLLAR           USD     23085.00  23115.00      23235.00   \n",
       " \n",
       "           date  \n",
       "                 \n",
       " 0   2019-12-16  \n",
       " 1   2019-12-16  \n",
       " 2   2019-12-16  \n",
       " 3   2019-12-16  \n",
       " 4   2019-12-16  \n",
       " 5   2019-12-16  \n",
       " 6   2019-12-16  \n",
       " 7   2019-12-16  \n",
       " 8   2019-12-16  \n",
       " 9   2019-12-16  \n",
       " 10  2019-12-16  \n",
       " 11  2019-12-16  \n",
       " 12  2019-12-16  \n",
       " 13  2019-12-16  \n",
       " 14  2019-12-16  \n",
       " 15  2019-12-16  \n",
       " 16  2019-12-16  \n",
       " 17  2019-12-16  ,\n",
       "              Currency               Buying Rates           Selling Rates  \\\n",
       "         Currency Name Currency Code         Cash  Transfer Selling Rates   \n",
       " 0         AUST.DOLLAR           AUD     15657.08  15756.74      16050.05   \n",
       " 1     CANADIAN DOLLAR           CAD     17273.03  17435.13      17756.98   \n",
       " 2        SWISS FRANCE           CHF     23189.65  23358.30      23780.88   \n",
       " 3        DANISH KRONE           DKK            -   3403.09       3509.77   \n",
       " 4                EURO           EUR     25580.71  25662.76      26459.13   \n",
       " 5       BRITISH POUND           GBP     30421.50  30641.13      30939.10   \n",
       " 6     HONGKONG DOLLAR           HKD      2928.12   2948.79       3001.01   \n",
       " 7        INDIAN RUPEE           INR            -    325.96        338.75   \n",
       " 8        JAPANESE YEN           JPY       203.48    210.09        216.82   \n",
       " 9    SOUTH KOREAN WON           KRW        18.17     19.14         21.18   \n",
       " 10      KUWAITI DINAR           KWD            -  76107.25      79093.60   \n",
       " 11  MALAYSIAN RINGGIT           MYR            -   5559.49       5631.47   \n",
       " 12   NORWEGIAN KRONER           NOK            -   2529.71       2609.01   \n",
       " 13      RUSSIAN RUBLE           RUB            -    369.39        411.61   \n",
       " 14      SWEDISH KRONA           SEK            -   2443.11       2504.62   \n",
       " 15   SINGAPORE DOLLAR           SGD     16868.15  16992.24      17203.05   \n",
       " 16          THAI BAHT           THB       751.10    751.10        782.44   \n",
       " 17          US DOLLAR           USD     23080.00  23110.00      23230.00   \n",
       " \n",
       "           date  \n",
       "                 \n",
       " 0   2019-12-17  \n",
       " 1   2019-12-17  \n",
       " 2   2019-12-17  \n",
       " 3   2019-12-17  \n",
       " 4   2019-12-17  \n",
       " 5   2019-12-17  \n",
       " 6   2019-12-17  \n",
       " 7   2019-12-17  \n",
       " 8   2019-12-17  \n",
       " 9   2019-12-17  \n",
       " 10  2019-12-17  \n",
       " 11  2019-12-17  \n",
       " 12  2019-12-17  \n",
       " 13  2019-12-17  \n",
       " 14  2019-12-17  \n",
       " 15  2019-12-17  \n",
       " 16  2019-12-17  \n",
       " 17  2019-12-17  ,\n",
       "              Currency               Buying Rates           Selling Rates  \\\n",
       "         Currency Name Currency Code         Cash  Transfer Selling Rates   \n",
       " 0         AUST.DOLLAR           AUD     15613.69  15713.09      16005.65   \n",
       " 1     CANADIAN DOLLAR           CAD     17279.61  17441.77      17763.73   \n",
       " 2        SWISS FRANCE           CHF     23255.97  23425.09      23848.81   \n",
       " 3        DANISH KRONE           DKK            -   3404.06       3510.76   \n",
       " 4                EURO           EUR     25585.31  25667.37      26463.88   \n",
       " 5       BRITISH POUND           GBP     30006.91  30223.62      30517.86   \n",
       " 6     HONGKONG DOLLAR           HKD      2929.14   2949.82       3002.05   \n",
       " 7        INDIAN RUPEE           INR            -    325.41        338.18   \n",
       " 8        JAPANESE YEN           JPY       203.50    210.11        216.84   \n",
       " 9    SOUTH KOREAN WON           KRW        18.18     19.15         21.20   \n",
       " 10      KUWAITI DINAR           KWD            -  76107.25      79093.60   \n",
       " 11  MALAYSIAN RINGGIT           MYR            -   5559.49       5631.47   \n",
       " 12   NORWEGIAN KRONER           NOK            -   2527.86       2607.10   \n",
       " 13      RUSSIAN RUBLE           RUB            -    370.29        412.61   \n",
       " 14      SWEDISH KRONA           SEK            -   2437.39       2498.75   \n",
       " 15   SINGAPORE DOLLAR           SGD     16859.43  16983.45      17194.17   \n",
       " 16          THAI BAHT           THB       751.10    751.10        782.44   \n",
       " 17          US DOLLAR           USD     23080.00  23110.00      23230.00   \n",
       " \n",
       "           date  \n",
       "                 \n",
       " 0   2019-12-18  \n",
       " 1   2019-12-18  \n",
       " 2   2019-12-18  \n",
       " 3   2019-12-18  \n",
       " 4   2019-12-18  \n",
       " 5   2019-12-18  \n",
       " 6   2019-12-18  \n",
       " 7   2019-12-18  \n",
       " 8   2019-12-18  \n",
       " 9   2019-12-18  \n",
       " 10  2019-12-18  \n",
       " 11  2019-12-18  \n",
       " 12  2019-12-18  \n",
       " 13  2019-12-18  \n",
       " 14  2019-12-18  \n",
       " 15  2019-12-18  \n",
       " 16  2019-12-18  \n",
       " 17  2019-12-18  ]"
      ]
     },
     "execution_count": 17,
     "metadata": {},
     "output_type": "execute_result"
    }
   ],
   "source": [
    "dfs"
   ]
  },
  {
   "cell_type": "code",
   "execution_count": 18,
   "metadata": {},
   "outputs": [],
   "source": [
    "result = pd.concat(dfs)"
   ]
  },
  {
   "cell_type": "code",
   "execution_count": 19,
   "metadata": {},
   "outputs": [
    {
     "data": {
      "text/html": [
       "<div>\n",
       "<style scoped>\n",
       "    .dataframe tbody tr th:only-of-type {\n",
       "        vertical-align: middle;\n",
       "    }\n",
       "\n",
       "    .dataframe tbody tr th {\n",
       "        vertical-align: top;\n",
       "    }\n",
       "\n",
       "    .dataframe thead tr th {\n",
       "        text-align: left;\n",
       "    }\n",
       "</style>\n",
       "<table border=\"1\" class=\"dataframe\">\n",
       "  <thead>\n",
       "    <tr>\n",
       "      <th></th>\n",
       "      <th colspan=\"2\" halign=\"left\">Currency</th>\n",
       "      <th colspan=\"2\" halign=\"left\">Buying Rates</th>\n",
       "      <th>Selling Rates</th>\n",
       "      <th>date</th>\n",
       "    </tr>\n",
       "    <tr>\n",
       "      <th></th>\n",
       "      <th>Currency Name</th>\n",
       "      <th>Currency Code</th>\n",
       "      <th>Cash</th>\n",
       "      <th>Transfer</th>\n",
       "      <th>Selling Rates</th>\n",
       "      <th></th>\n",
       "    </tr>\n",
       "  </thead>\n",
       "  <tbody>\n",
       "    <tr>\n",
       "      <th>0</th>\n",
       "      <td>AUST.DOLLAR</td>\n",
       "      <td>AUD</td>\n",
       "      <td>15450.15</td>\n",
       "      <td>15548.56</td>\n",
       "      <td>15838.32</td>\n",
       "      <td>2019-12-01</td>\n",
       "    </tr>\n",
       "    <tr>\n",
       "      <th>1</th>\n",
       "      <td>CANADIAN DOLLAR</td>\n",
       "      <td>CAD</td>\n",
       "      <td>17121.41</td>\n",
       "      <td>17282.13</td>\n",
       "      <td>17601.37</td>\n",
       "      <td>2019-12-01</td>\n",
       "    </tr>\n",
       "    <tr>\n",
       "      <th>2</th>\n",
       "      <td>SWISS FRANCE</td>\n",
       "      <td>CHF</td>\n",
       "      <td>22841.72</td>\n",
       "      <td>23007.92</td>\n",
       "      <td>23424.53</td>\n",
       "      <td>2019-12-01</td>\n",
       "    </tr>\n",
       "    <tr>\n",
       "      <th>3</th>\n",
       "      <td>DANISH KRONE</td>\n",
       "      <td>DKK</td>\n",
       "      <td>-</td>\n",
       "      <td>3364.90</td>\n",
       "      <td>3470.37</td>\n",
       "      <td>2019-12-01</td>\n",
       "    </tr>\n",
       "    <tr>\n",
       "      <th>4</th>\n",
       "      <td>EURO</td>\n",
       "      <td>EUR</td>\n",
       "      <td>25286.94</td>\n",
       "      <td>25368.10</td>\n",
       "      <td>26155.60</td>\n",
       "      <td>2019-12-01</td>\n",
       "    </tr>\n",
       "  </tbody>\n",
       "</table>\n",
       "</div>"
      ],
      "text/plain": [
       "          Currency               Buying Rates           Selling Rates  \\\n",
       "     Currency Name Currency Code         Cash  Transfer Selling Rates   \n",
       "0      AUST.DOLLAR           AUD     15450.15  15548.56      15838.32   \n",
       "1  CANADIAN DOLLAR           CAD     17121.41  17282.13      17601.37   \n",
       "2     SWISS FRANCE           CHF     22841.72  23007.92      23424.53   \n",
       "3     DANISH KRONE           DKK            -   3364.90       3470.37   \n",
       "4             EURO           EUR     25286.94  25368.10      26155.60   \n",
       "\n",
       "         date  \n",
       "               \n",
       "0  2019-12-01  \n",
       "1  2019-12-01  \n",
       "2  2019-12-01  \n",
       "3  2019-12-01  \n",
       "4  2019-12-01  "
      ]
     },
     "execution_count": 19,
     "metadata": {},
     "output_type": "execute_result"
    }
   ],
   "source": [
    "result.head(5)"
   ]
  },
  {
   "cell_type": "code",
   "execution_count": 20,
   "metadata": {},
   "outputs": [],
   "source": [
    "result.columns = ['Currency Name','Currency Code','Cash Rates', 'Transfer Rates', 'Selling Rates','Date']"
   ]
  },
  {
   "cell_type": "code",
   "execution_count": 21,
   "metadata": {},
   "outputs": [
    {
     "data": {
      "text/html": [
       "<div>\n",
       "<style scoped>\n",
       "    .dataframe tbody tr th:only-of-type {\n",
       "        vertical-align: middle;\n",
       "    }\n",
       "\n",
       "    .dataframe tbody tr th {\n",
       "        vertical-align: top;\n",
       "    }\n",
       "\n",
       "    .dataframe thead th {\n",
       "        text-align: right;\n",
       "    }\n",
       "</style>\n",
       "<table border=\"1\" class=\"dataframe\">\n",
       "  <thead>\n",
       "    <tr style=\"text-align: right;\">\n",
       "      <th></th>\n",
       "      <th>Currency Name</th>\n",
       "      <th>Currency Code</th>\n",
       "      <th>Cash Rates</th>\n",
       "      <th>Transfer Rates</th>\n",
       "      <th>Selling Rates</th>\n",
       "      <th>Date</th>\n",
       "    </tr>\n",
       "  </thead>\n",
       "  <tbody>\n",
       "    <tr>\n",
       "      <th>0</th>\n",
       "      <td>AUST.DOLLAR</td>\n",
       "      <td>AUD</td>\n",
       "      <td>15450.15</td>\n",
       "      <td>15548.56</td>\n",
       "      <td>15838.32</td>\n",
       "      <td>2019-12-01</td>\n",
       "    </tr>\n",
       "    <tr>\n",
       "      <th>1</th>\n",
       "      <td>CANADIAN DOLLAR</td>\n",
       "      <td>CAD</td>\n",
       "      <td>17121.41</td>\n",
       "      <td>17282.13</td>\n",
       "      <td>17601.37</td>\n",
       "      <td>2019-12-01</td>\n",
       "    </tr>\n",
       "    <tr>\n",
       "      <th>2</th>\n",
       "      <td>SWISS FRANCE</td>\n",
       "      <td>CHF</td>\n",
       "      <td>22841.72</td>\n",
       "      <td>23007.92</td>\n",
       "      <td>23424.53</td>\n",
       "      <td>2019-12-01</td>\n",
       "    </tr>\n",
       "    <tr>\n",
       "      <th>3</th>\n",
       "      <td>DANISH KRONE</td>\n",
       "      <td>DKK</td>\n",
       "      <td>-</td>\n",
       "      <td>3364.90</td>\n",
       "      <td>3470.37</td>\n",
       "      <td>2019-12-01</td>\n",
       "    </tr>\n",
       "    <tr>\n",
       "      <th>4</th>\n",
       "      <td>EURO</td>\n",
       "      <td>EUR</td>\n",
       "      <td>25286.94</td>\n",
       "      <td>25368.10</td>\n",
       "      <td>26155.60</td>\n",
       "      <td>2019-12-01</td>\n",
       "    </tr>\n",
       "  </tbody>\n",
       "</table>\n",
       "</div>"
      ],
      "text/plain": [
       "     Currency Name Currency Code Cash Rates  Transfer Rates  Selling Rates  \\\n",
       "0      AUST.DOLLAR           AUD   15450.15        15548.56       15838.32   \n",
       "1  CANADIAN DOLLAR           CAD   17121.41        17282.13       17601.37   \n",
       "2     SWISS FRANCE           CHF   22841.72        23007.92       23424.53   \n",
       "3     DANISH KRONE           DKK          -         3364.90        3470.37   \n",
       "4             EURO           EUR   25286.94        25368.10       26155.60   \n",
       "\n",
       "         Date  \n",
       "0  2019-12-01  \n",
       "1  2019-12-01  \n",
       "2  2019-12-01  \n",
       "3  2019-12-01  \n",
       "4  2019-12-01  "
      ]
     },
     "execution_count": 21,
     "metadata": {},
     "output_type": "execute_result"
    }
   ],
   "source": [
    "result.head()"
   ]
  },
  {
   "cell_type": "code",
   "execution_count": 22,
   "metadata": {},
   "outputs": [],
   "source": [
    "print?"
   ]
  },
  {
   "cell_type": "code",
   "execution_count": 9,
   "metadata": {},
   "outputs": [
    {
     "data": {
      "text/plain": [
       "Currency Name      object\n",
       "Currency Code      object\n",
       "Cash Rates        float64\n",
       "Transfer Rates    float64\n",
       "Selling Rates     float64\n",
       "Date               object\n",
       "dtype: object"
      ]
     },
     "execution_count": 9,
     "metadata": {},
     "output_type": "execute_result"
    }
   ],
   "source": [
    "result.dtypes"
   ]
  },
  {
   "cell_type": "code",
   "execution_count": 10,
   "metadata": {},
   "outputs": [],
   "source": [
    "result['Cash Rates'] = pd.to_numeric(result['Cash Rates'], errors = 'coerce')\n",
    "result['Transfer Rates'] = pd.to_numeric(result['Transfer Rates'], errors = 'coerce')\n",
    "result['Selling Rates'] = pd.to_numeric(result['Selling Rates'], errors = 'coerce')\n",
    "result['Date'] = pd.to_datetime(result['Date'])"
   ]
  },
  {
   "cell_type": "code",
   "execution_count": 24,
   "metadata": {},
   "outputs": [],
   "source": [
    "pd.to_numeric?"
   ]
  },
  {
   "cell_type": "code",
   "execution_count": 25,
   "metadata": {
    "scrolled": true
   },
   "outputs": [
    {
     "data": {
      "text/html": [
       "<div>\n",
       "<style scoped>\n",
       "    .dataframe tbody tr th:only-of-type {\n",
       "        vertical-align: middle;\n",
       "    }\n",
       "\n",
       "    .dataframe tbody tr th {\n",
       "        vertical-align: top;\n",
       "    }\n",
       "\n",
       "    .dataframe thead th {\n",
       "        text-align: right;\n",
       "    }\n",
       "</style>\n",
       "<table border=\"1\" class=\"dataframe\">\n",
       "  <thead>\n",
       "    <tr style=\"text-align: right;\">\n",
       "      <th></th>\n",
       "      <th>Currency Name</th>\n",
       "      <th>Currency Code</th>\n",
       "      <th>Cash Rates</th>\n",
       "      <th>Transfer Rates</th>\n",
       "      <th>Selling Rates</th>\n",
       "      <th>Date</th>\n",
       "    </tr>\n",
       "  </thead>\n",
       "  <tbody>\n",
       "    <tr>\n",
       "      <th>0</th>\n",
       "      <td>AUST.DOLLAR</td>\n",
       "      <td>AUD</td>\n",
       "      <td>15450.15</td>\n",
       "      <td>15548.56</td>\n",
       "      <td>15838.32</td>\n",
       "      <td>2019-12-01</td>\n",
       "    </tr>\n",
       "    <tr>\n",
       "      <th>1</th>\n",
       "      <td>CANADIAN DOLLAR</td>\n",
       "      <td>CAD</td>\n",
       "      <td>17121.41</td>\n",
       "      <td>17282.13</td>\n",
       "      <td>17601.37</td>\n",
       "      <td>2019-12-01</td>\n",
       "    </tr>\n",
       "    <tr>\n",
       "      <th>2</th>\n",
       "      <td>SWISS FRANCE</td>\n",
       "      <td>CHF</td>\n",
       "      <td>22841.72</td>\n",
       "      <td>23007.92</td>\n",
       "      <td>23424.53</td>\n",
       "      <td>2019-12-01</td>\n",
       "    </tr>\n",
       "    <tr>\n",
       "      <th>3</th>\n",
       "      <td>DANISH KRONE</td>\n",
       "      <td>DKK</td>\n",
       "      <td>-</td>\n",
       "      <td>3364.90</td>\n",
       "      <td>3470.37</td>\n",
       "      <td>2019-12-01</td>\n",
       "    </tr>\n",
       "    <tr>\n",
       "      <th>4</th>\n",
       "      <td>EURO</td>\n",
       "      <td>EUR</td>\n",
       "      <td>25286.94</td>\n",
       "      <td>25368.10</td>\n",
       "      <td>26155.60</td>\n",
       "      <td>2019-12-01</td>\n",
       "    </tr>\n",
       "  </tbody>\n",
       "</table>\n",
       "</div>"
      ],
      "text/plain": [
       "     Currency Name Currency Code Cash Rates  Transfer Rates  Selling Rates  \\\n",
       "0      AUST.DOLLAR           AUD   15450.15        15548.56       15838.32   \n",
       "1  CANADIAN DOLLAR           CAD   17121.41        17282.13       17601.37   \n",
       "2     SWISS FRANCE           CHF   22841.72        23007.92       23424.53   \n",
       "3     DANISH KRONE           DKK          -         3364.90        3470.37   \n",
       "4             EURO           EUR   25286.94        25368.10       26155.60   \n",
       "\n",
       "         Date  \n",
       "0  2019-12-01  \n",
       "1  2019-12-01  \n",
       "2  2019-12-01  \n",
       "3  2019-12-01  \n",
       "4  2019-12-01  "
      ]
     },
     "execution_count": 25,
     "metadata": {},
     "output_type": "execute_result"
    }
   ],
   "source": [
    "result.head()"
   ]
  },
  {
   "cell_type": "code",
   "execution_count": 34,
   "metadata": {
    "scrolled": true
   },
   "outputs": [
    {
     "data": {
      "text/html": [
       "<div>\n",
       "<style scoped>\n",
       "    .dataframe tbody tr th:only-of-type {\n",
       "        vertical-align: middle;\n",
       "    }\n",
       "\n",
       "    .dataframe tbody tr th {\n",
       "        vertical-align: top;\n",
       "    }\n",
       "\n",
       "    .dataframe thead th {\n",
       "        text-align: right;\n",
       "    }\n",
       "</style>\n",
       "<table border=\"1\" class=\"dataframe\">\n",
       "  <thead>\n",
       "    <tr style=\"text-align: right;\">\n",
       "      <th></th>\n",
       "      <th>Currency Name</th>\n",
       "      <th>Currency Code</th>\n",
       "      <th>Cash Rates</th>\n",
       "      <th>Transfer Rates</th>\n",
       "      <th>Selling Rates</th>\n",
       "      <th>Date</th>\n",
       "    </tr>\n",
       "  </thead>\n",
       "  <tbody>\n",
       "    <tr>\n",
       "      <th>0</th>\n",
       "      <td>AUST.DOLLAR</td>\n",
       "      <td>AUD</td>\n",
       "      <td>15450.15</td>\n",
       "      <td>15548.56</td>\n",
       "      <td>15838.32</td>\n",
       "      <td>2019-12-01</td>\n",
       "    </tr>\n",
       "    <tr>\n",
       "      <th>17</th>\n",
       "      <td>US DOLLAR</td>\n",
       "      <td>USD</td>\n",
       "      <td>23095.00</td>\n",
       "      <td>23125.00</td>\n",
       "      <td>23245.00</td>\n",
       "      <td>2019-12-01</td>\n",
       "    </tr>\n",
       "    <tr>\n",
       "      <th>0</th>\n",
       "      <td>AUST.DOLLAR</td>\n",
       "      <td>AUD</td>\n",
       "      <td>15433.10</td>\n",
       "      <td>15531.41</td>\n",
       "      <td>15820.88</td>\n",
       "      <td>2019-12-02</td>\n",
       "    </tr>\n",
       "    <tr>\n",
       "      <th>17</th>\n",
       "      <td>US DOLLAR</td>\n",
       "      <td>USD</td>\n",
       "      <td>23090.00</td>\n",
       "      <td>23120.00</td>\n",
       "      <td>23240.00</td>\n",
       "      <td>2019-12-02</td>\n",
       "    </tr>\n",
       "    <tr>\n",
       "      <th>0</th>\n",
       "      <td>AUST.DOLLAR</td>\n",
       "      <td>AUD</td>\n",
       "      <td>15556.47</td>\n",
       "      <td>15655.52</td>\n",
       "      <td>15947.10</td>\n",
       "      <td>2019-12-03</td>\n",
       "    </tr>\n",
       "    <tr>\n",
       "      <th>17</th>\n",
       "      <td>US DOLLAR</td>\n",
       "      <td>USD</td>\n",
       "      <td>23090.00</td>\n",
       "      <td>23120.00</td>\n",
       "      <td>23240.00</td>\n",
       "      <td>2019-12-03</td>\n",
       "    </tr>\n",
       "    <tr>\n",
       "      <th>0</th>\n",
       "      <td>AUST.DOLLAR</td>\n",
       "      <td>AUD</td>\n",
       "      <td>15593.03</td>\n",
       "      <td>15692.30</td>\n",
       "      <td>15984.51</td>\n",
       "      <td>2019-12-04</td>\n",
       "    </tr>\n",
       "    <tr>\n",
       "      <th>17</th>\n",
       "      <td>US DOLLAR</td>\n",
       "      <td>USD</td>\n",
       "      <td>23090.00</td>\n",
       "      <td>23120.00</td>\n",
       "      <td>23240.00</td>\n",
       "      <td>2019-12-04</td>\n",
       "    </tr>\n",
       "    <tr>\n",
       "      <th>0</th>\n",
       "      <td>AUST.DOLLAR</td>\n",
       "      <td>AUD</td>\n",
       "      <td>15599.88</td>\n",
       "      <td>15699.20</td>\n",
       "      <td>15991.52</td>\n",
       "      <td>2019-12-05</td>\n",
       "    </tr>\n",
       "    <tr>\n",
       "      <th>17</th>\n",
       "      <td>US DOLLAR</td>\n",
       "      <td>USD</td>\n",
       "      <td>23090.00</td>\n",
       "      <td>23120.00</td>\n",
       "      <td>23240.00</td>\n",
       "      <td>2019-12-05</td>\n",
       "    </tr>\n",
       "    <tr>\n",
       "      <th>0</th>\n",
       "      <td>AUST.DOLLAR</td>\n",
       "      <td>AUD</td>\n",
       "      <td>15591.94</td>\n",
       "      <td>15691.21</td>\n",
       "      <td>15983.40</td>\n",
       "      <td>2019-12-06</td>\n",
       "    </tr>\n",
       "    <tr>\n",
       "      <th>17</th>\n",
       "      <td>US DOLLAR</td>\n",
       "      <td>USD</td>\n",
       "      <td>23090.00</td>\n",
       "      <td>23120.00</td>\n",
       "      <td>23240.00</td>\n",
       "      <td>2019-12-06</td>\n",
       "    </tr>\n",
       "    <tr>\n",
       "      <th>0</th>\n",
       "      <td>AUST.DOLLAR</td>\n",
       "      <td>AUD</td>\n",
       "      <td>15591.94</td>\n",
       "      <td>15691.21</td>\n",
       "      <td>15983.40</td>\n",
       "      <td>2019-12-07</td>\n",
       "    </tr>\n",
       "    <tr>\n",
       "      <th>17</th>\n",
       "      <td>US DOLLAR</td>\n",
       "      <td>USD</td>\n",
       "      <td>23090.00</td>\n",
       "      <td>23120.00</td>\n",
       "      <td>23240.00</td>\n",
       "      <td>2019-12-07</td>\n",
       "    </tr>\n",
       "    <tr>\n",
       "      <th>0</th>\n",
       "      <td>AUST.DOLLAR</td>\n",
       "      <td>AUD</td>\n",
       "      <td>15591.94</td>\n",
       "      <td>15691.21</td>\n",
       "      <td>15983.40</td>\n",
       "      <td>2019-12-08</td>\n",
       "    </tr>\n",
       "    <tr>\n",
       "      <th>17</th>\n",
       "      <td>US DOLLAR</td>\n",
       "      <td>USD</td>\n",
       "      <td>23090.00</td>\n",
       "      <td>23120.00</td>\n",
       "      <td>23240.00</td>\n",
       "      <td>2019-12-08</td>\n",
       "    </tr>\n",
       "    <tr>\n",
       "      <th>0</th>\n",
       "      <td>AUST.DOLLAR</td>\n",
       "      <td>AUD</td>\n",
       "      <td>15575.95</td>\n",
       "      <td>15675.12</td>\n",
       "      <td>15967.04</td>\n",
       "      <td>2019-12-09</td>\n",
       "    </tr>\n",
       "    <tr>\n",
       "      <th>17</th>\n",
       "      <td>US DOLLAR</td>\n",
       "      <td>USD</td>\n",
       "      <td>23090.00</td>\n",
       "      <td>23120.00</td>\n",
       "      <td>23240.00</td>\n",
       "      <td>2019-12-09</td>\n",
       "    </tr>\n",
       "    <tr>\n",
       "      <th>0</th>\n",
       "      <td>AUST.DOLLAR</td>\n",
       "      <td>AUD</td>\n",
       "      <td>15533.76</td>\n",
       "      <td>15632.68</td>\n",
       "      <td>15923.87</td>\n",
       "      <td>2019-12-10</td>\n",
       "    </tr>\n",
       "    <tr>\n",
       "      <th>17</th>\n",
       "      <td>US DOLLAR</td>\n",
       "      <td>USD</td>\n",
       "      <td>23090.00</td>\n",
       "      <td>23120.00</td>\n",
       "      <td>23240.00</td>\n",
       "      <td>2019-12-10</td>\n",
       "    </tr>\n",
       "    <tr>\n",
       "      <th>0</th>\n",
       "      <td>AUST.DOLLAR</td>\n",
       "      <td>AUD</td>\n",
       "      <td>15529.19</td>\n",
       "      <td>15628.08</td>\n",
       "      <td>15919.20</td>\n",
       "      <td>2019-12-11</td>\n",
       "    </tr>\n",
       "    <tr>\n",
       "      <th>17</th>\n",
       "      <td>US DOLLAR</td>\n",
       "      <td>USD</td>\n",
       "      <td>23090.00</td>\n",
       "      <td>23120.00</td>\n",
       "      <td>23240.00</td>\n",
       "      <td>2019-12-11</td>\n",
       "    </tr>\n",
       "    <tr>\n",
       "      <th>0</th>\n",
       "      <td>AUST.DOLLAR</td>\n",
       "      <td>AUD</td>\n",
       "      <td>15677.64</td>\n",
       "      <td>15777.42</td>\n",
       "      <td>16071.08</td>\n",
       "      <td>2019-12-12</td>\n",
       "    </tr>\n",
       "    <tr>\n",
       "      <th>17</th>\n",
       "      <td>US DOLLAR</td>\n",
       "      <td>USD</td>\n",
       "      <td>23080.00</td>\n",
       "      <td>23110.00</td>\n",
       "      <td>23230.00</td>\n",
       "      <td>2019-12-12</td>\n",
       "    </tr>\n",
       "    <tr>\n",
       "      <th>0</th>\n",
       "      <td>AUST.DOLLAR</td>\n",
       "      <td>AUD</td>\n",
       "      <td>15775.83</td>\n",
       "      <td>15876.21</td>\n",
       "      <td>16171.55</td>\n",
       "      <td>2019-12-13</td>\n",
       "    </tr>\n",
       "    <tr>\n",
       "      <th>17</th>\n",
       "      <td>US DOLLAR</td>\n",
       "      <td>USD</td>\n",
       "      <td>23080.00</td>\n",
       "      <td>23110.00</td>\n",
       "      <td>23230.00</td>\n",
       "      <td>2019-12-13</td>\n",
       "    </tr>\n",
       "    <tr>\n",
       "      <th>0</th>\n",
       "      <td>AUST.DOLLAR</td>\n",
       "      <td>AUD</td>\n",
       "      <td>15775.83</td>\n",
       "      <td>15876.21</td>\n",
       "      <td>16171.55</td>\n",
       "      <td>2019-12-14</td>\n",
       "    </tr>\n",
       "    <tr>\n",
       "      <th>17</th>\n",
       "      <td>US DOLLAR</td>\n",
       "      <td>USD</td>\n",
       "      <td>23080.00</td>\n",
       "      <td>23110.00</td>\n",
       "      <td>23230.00</td>\n",
       "      <td>2019-12-14</td>\n",
       "    </tr>\n",
       "    <tr>\n",
       "      <th>0</th>\n",
       "      <td>AUST.DOLLAR</td>\n",
       "      <td>AUD</td>\n",
       "      <td>15775.83</td>\n",
       "      <td>15876.21</td>\n",
       "      <td>16171.55</td>\n",
       "      <td>2019-12-15</td>\n",
       "    </tr>\n",
       "    <tr>\n",
       "      <th>17</th>\n",
       "      <td>US DOLLAR</td>\n",
       "      <td>USD</td>\n",
       "      <td>23080.00</td>\n",
       "      <td>23110.00</td>\n",
       "      <td>23230.00</td>\n",
       "      <td>2019-12-15</td>\n",
       "    </tr>\n",
       "    <tr>\n",
       "      <th>0</th>\n",
       "      <td>AUST.DOLLAR</td>\n",
       "      <td>AUD</td>\n",
       "      <td>15665.03</td>\n",
       "      <td>15764.74</td>\n",
       "      <td>16058.18</td>\n",
       "      <td>2019-12-16</td>\n",
       "    </tr>\n",
       "    <tr>\n",
       "      <th>17</th>\n",
       "      <td>US DOLLAR</td>\n",
       "      <td>USD</td>\n",
       "      <td>23085.00</td>\n",
       "      <td>23115.00</td>\n",
       "      <td>23235.00</td>\n",
       "      <td>2019-12-16</td>\n",
       "    </tr>\n",
       "    <tr>\n",
       "      <th>0</th>\n",
       "      <td>AUST.DOLLAR</td>\n",
       "      <td>AUD</td>\n",
       "      <td>15657.08</td>\n",
       "      <td>15756.74</td>\n",
       "      <td>16050.05</td>\n",
       "      <td>2019-12-17</td>\n",
       "    </tr>\n",
       "    <tr>\n",
       "      <th>17</th>\n",
       "      <td>US DOLLAR</td>\n",
       "      <td>USD</td>\n",
       "      <td>23080.00</td>\n",
       "      <td>23110.00</td>\n",
       "      <td>23230.00</td>\n",
       "      <td>2019-12-17</td>\n",
       "    </tr>\n",
       "    <tr>\n",
       "      <th>0</th>\n",
       "      <td>AUST.DOLLAR</td>\n",
       "      <td>AUD</td>\n",
       "      <td>15613.69</td>\n",
       "      <td>15713.09</td>\n",
       "      <td>16005.65</td>\n",
       "      <td>2019-12-18</td>\n",
       "    </tr>\n",
       "    <tr>\n",
       "      <th>17</th>\n",
       "      <td>US DOLLAR</td>\n",
       "      <td>USD</td>\n",
       "      <td>23080.00</td>\n",
       "      <td>23110.00</td>\n",
       "      <td>23230.00</td>\n",
       "      <td>2019-12-18</td>\n",
       "    </tr>\n",
       "  </tbody>\n",
       "</table>\n",
       "</div>"
      ],
      "text/plain": [
       "   Currency Name Currency Code Cash Rates  Transfer Rates  Selling Rates  \\\n",
       "0    AUST.DOLLAR           AUD   15450.15        15548.56       15838.32   \n",
       "17     US DOLLAR           USD   23095.00        23125.00       23245.00   \n",
       "0    AUST.DOLLAR           AUD   15433.10        15531.41       15820.88   \n",
       "17     US DOLLAR           USD   23090.00        23120.00       23240.00   \n",
       "0    AUST.DOLLAR           AUD   15556.47        15655.52       15947.10   \n",
       "17     US DOLLAR           USD   23090.00        23120.00       23240.00   \n",
       "0    AUST.DOLLAR           AUD   15593.03        15692.30       15984.51   \n",
       "17     US DOLLAR           USD   23090.00        23120.00       23240.00   \n",
       "0    AUST.DOLLAR           AUD   15599.88        15699.20       15991.52   \n",
       "17     US DOLLAR           USD   23090.00        23120.00       23240.00   \n",
       "0    AUST.DOLLAR           AUD   15591.94        15691.21       15983.40   \n",
       "17     US DOLLAR           USD   23090.00        23120.00       23240.00   \n",
       "0    AUST.DOLLAR           AUD   15591.94        15691.21       15983.40   \n",
       "17     US DOLLAR           USD   23090.00        23120.00       23240.00   \n",
       "0    AUST.DOLLAR           AUD   15591.94        15691.21       15983.40   \n",
       "17     US DOLLAR           USD   23090.00        23120.00       23240.00   \n",
       "0    AUST.DOLLAR           AUD   15575.95        15675.12       15967.04   \n",
       "17     US DOLLAR           USD   23090.00        23120.00       23240.00   \n",
       "0    AUST.DOLLAR           AUD   15533.76        15632.68       15923.87   \n",
       "17     US DOLLAR           USD   23090.00        23120.00       23240.00   \n",
       "0    AUST.DOLLAR           AUD   15529.19        15628.08       15919.20   \n",
       "17     US DOLLAR           USD   23090.00        23120.00       23240.00   \n",
       "0    AUST.DOLLAR           AUD   15677.64        15777.42       16071.08   \n",
       "17     US DOLLAR           USD   23080.00        23110.00       23230.00   \n",
       "0    AUST.DOLLAR           AUD   15775.83        15876.21       16171.55   \n",
       "17     US DOLLAR           USD   23080.00        23110.00       23230.00   \n",
       "0    AUST.DOLLAR           AUD   15775.83        15876.21       16171.55   \n",
       "17     US DOLLAR           USD   23080.00        23110.00       23230.00   \n",
       "0    AUST.DOLLAR           AUD   15775.83        15876.21       16171.55   \n",
       "17     US DOLLAR           USD   23080.00        23110.00       23230.00   \n",
       "0    AUST.DOLLAR           AUD   15665.03        15764.74       16058.18   \n",
       "17     US DOLLAR           USD   23085.00        23115.00       23235.00   \n",
       "0    AUST.DOLLAR           AUD   15657.08        15756.74       16050.05   \n",
       "17     US DOLLAR           USD   23080.00        23110.00       23230.00   \n",
       "0    AUST.DOLLAR           AUD   15613.69        15713.09       16005.65   \n",
       "17     US DOLLAR           USD   23080.00        23110.00       23230.00   \n",
       "\n",
       "          Date  \n",
       "0   2019-12-01  \n",
       "17  2019-12-01  \n",
       "0   2019-12-02  \n",
       "17  2019-12-02  \n",
       "0   2019-12-03  \n",
       "17  2019-12-03  \n",
       "0   2019-12-04  \n",
       "17  2019-12-04  \n",
       "0   2019-12-05  \n",
       "17  2019-12-05  \n",
       "0   2019-12-06  \n",
       "17  2019-12-06  \n",
       "0   2019-12-07  \n",
       "17  2019-12-07  \n",
       "0   2019-12-08  \n",
       "17  2019-12-08  \n",
       "0   2019-12-09  \n",
       "17  2019-12-09  \n",
       "0   2019-12-10  \n",
       "17  2019-12-10  \n",
       "0   2019-12-11  \n",
       "17  2019-12-11  \n",
       "0   2019-12-12  \n",
       "17  2019-12-12  \n",
       "0   2019-12-13  \n",
       "17  2019-12-13  \n",
       "0   2019-12-14  \n",
       "17  2019-12-14  \n",
       "0   2019-12-15  \n",
       "17  2019-12-15  \n",
       "0   2019-12-16  \n",
       "17  2019-12-16  \n",
       "0   2019-12-17  \n",
       "17  2019-12-17  \n",
       "0   2019-12-18  \n",
       "17  2019-12-18  "
      ]
     },
     "execution_count": 34,
     "metadata": {},
     "output_type": "execute_result"
    }
   ],
   "source": [
    "# result[(result['Currency Code']=='USD') | (result['Currency Code']=='AUD')]"
   ]
  },
  {
   "cell_type": "code",
   "execution_count": 26,
   "metadata": {},
   "outputs": [],
   "source": [
    "result_usd = result[result['Currency Code']=='USD']"
   ]
  },
  {
   "cell_type": "code",
   "execution_count": 27,
   "metadata": {},
   "outputs": [
    {
     "data": {
      "text/html": [
       "<div>\n",
       "<style scoped>\n",
       "    .dataframe tbody tr th:only-of-type {\n",
       "        vertical-align: middle;\n",
       "    }\n",
       "\n",
       "    .dataframe tbody tr th {\n",
       "        vertical-align: top;\n",
       "    }\n",
       "\n",
       "    .dataframe thead th {\n",
       "        text-align: right;\n",
       "    }\n",
       "</style>\n",
       "<table border=\"1\" class=\"dataframe\">\n",
       "  <thead>\n",
       "    <tr style=\"text-align: right;\">\n",
       "      <th></th>\n",
       "      <th>Currency Name</th>\n",
       "      <th>Currency Code</th>\n",
       "      <th>Cash Rates</th>\n",
       "      <th>Transfer Rates</th>\n",
       "      <th>Selling Rates</th>\n",
       "      <th>Date</th>\n",
       "    </tr>\n",
       "  </thead>\n",
       "  <tbody>\n",
       "    <tr>\n",
       "      <th>17</th>\n",
       "      <td>US DOLLAR</td>\n",
       "      <td>USD</td>\n",
       "      <td>23095.00</td>\n",
       "      <td>23125.0</td>\n",
       "      <td>23245.0</td>\n",
       "      <td>2019-12-01</td>\n",
       "    </tr>\n",
       "    <tr>\n",
       "      <th>17</th>\n",
       "      <td>US DOLLAR</td>\n",
       "      <td>USD</td>\n",
       "      <td>23090.00</td>\n",
       "      <td>23120.0</td>\n",
       "      <td>23240.0</td>\n",
       "      <td>2019-12-02</td>\n",
       "    </tr>\n",
       "    <tr>\n",
       "      <th>17</th>\n",
       "      <td>US DOLLAR</td>\n",
       "      <td>USD</td>\n",
       "      <td>23090.00</td>\n",
       "      <td>23120.0</td>\n",
       "      <td>23240.0</td>\n",
       "      <td>2019-12-03</td>\n",
       "    </tr>\n",
       "    <tr>\n",
       "      <th>17</th>\n",
       "      <td>US DOLLAR</td>\n",
       "      <td>USD</td>\n",
       "      <td>23090.00</td>\n",
       "      <td>23120.0</td>\n",
       "      <td>23240.0</td>\n",
       "      <td>2019-12-04</td>\n",
       "    </tr>\n",
       "    <tr>\n",
       "      <th>17</th>\n",
       "      <td>US DOLLAR</td>\n",
       "      <td>USD</td>\n",
       "      <td>23090.00</td>\n",
       "      <td>23120.0</td>\n",
       "      <td>23240.0</td>\n",
       "      <td>2019-12-05</td>\n",
       "    </tr>\n",
       "    <tr>\n",
       "      <th>17</th>\n",
       "      <td>US DOLLAR</td>\n",
       "      <td>USD</td>\n",
       "      <td>23090.00</td>\n",
       "      <td>23120.0</td>\n",
       "      <td>23240.0</td>\n",
       "      <td>2019-12-06</td>\n",
       "    </tr>\n",
       "    <tr>\n",
       "      <th>17</th>\n",
       "      <td>US DOLLAR</td>\n",
       "      <td>USD</td>\n",
       "      <td>23090.00</td>\n",
       "      <td>23120.0</td>\n",
       "      <td>23240.0</td>\n",
       "      <td>2019-12-07</td>\n",
       "    </tr>\n",
       "    <tr>\n",
       "      <th>17</th>\n",
       "      <td>US DOLLAR</td>\n",
       "      <td>USD</td>\n",
       "      <td>23090.00</td>\n",
       "      <td>23120.0</td>\n",
       "      <td>23240.0</td>\n",
       "      <td>2019-12-08</td>\n",
       "    </tr>\n",
       "    <tr>\n",
       "      <th>17</th>\n",
       "      <td>US DOLLAR</td>\n",
       "      <td>USD</td>\n",
       "      <td>23090.00</td>\n",
       "      <td>23120.0</td>\n",
       "      <td>23240.0</td>\n",
       "      <td>2019-12-09</td>\n",
       "    </tr>\n",
       "    <tr>\n",
       "      <th>17</th>\n",
       "      <td>US DOLLAR</td>\n",
       "      <td>USD</td>\n",
       "      <td>23090.00</td>\n",
       "      <td>23120.0</td>\n",
       "      <td>23240.0</td>\n",
       "      <td>2019-12-10</td>\n",
       "    </tr>\n",
       "    <tr>\n",
       "      <th>17</th>\n",
       "      <td>US DOLLAR</td>\n",
       "      <td>USD</td>\n",
       "      <td>23090.00</td>\n",
       "      <td>23120.0</td>\n",
       "      <td>23240.0</td>\n",
       "      <td>2019-12-11</td>\n",
       "    </tr>\n",
       "    <tr>\n",
       "      <th>17</th>\n",
       "      <td>US DOLLAR</td>\n",
       "      <td>USD</td>\n",
       "      <td>23080.00</td>\n",
       "      <td>23110.0</td>\n",
       "      <td>23230.0</td>\n",
       "      <td>2019-12-12</td>\n",
       "    </tr>\n",
       "    <tr>\n",
       "      <th>17</th>\n",
       "      <td>US DOLLAR</td>\n",
       "      <td>USD</td>\n",
       "      <td>23080.00</td>\n",
       "      <td>23110.0</td>\n",
       "      <td>23230.0</td>\n",
       "      <td>2019-12-13</td>\n",
       "    </tr>\n",
       "    <tr>\n",
       "      <th>17</th>\n",
       "      <td>US DOLLAR</td>\n",
       "      <td>USD</td>\n",
       "      <td>23080.00</td>\n",
       "      <td>23110.0</td>\n",
       "      <td>23230.0</td>\n",
       "      <td>2019-12-14</td>\n",
       "    </tr>\n",
       "    <tr>\n",
       "      <th>17</th>\n",
       "      <td>US DOLLAR</td>\n",
       "      <td>USD</td>\n",
       "      <td>23080.00</td>\n",
       "      <td>23110.0</td>\n",
       "      <td>23230.0</td>\n",
       "      <td>2019-12-15</td>\n",
       "    </tr>\n",
       "    <tr>\n",
       "      <th>17</th>\n",
       "      <td>US DOLLAR</td>\n",
       "      <td>USD</td>\n",
       "      <td>23085.00</td>\n",
       "      <td>23115.0</td>\n",
       "      <td>23235.0</td>\n",
       "      <td>2019-12-16</td>\n",
       "    </tr>\n",
       "    <tr>\n",
       "      <th>17</th>\n",
       "      <td>US DOLLAR</td>\n",
       "      <td>USD</td>\n",
       "      <td>23080.00</td>\n",
       "      <td>23110.0</td>\n",
       "      <td>23230.0</td>\n",
       "      <td>2019-12-17</td>\n",
       "    </tr>\n",
       "    <tr>\n",
       "      <th>17</th>\n",
       "      <td>US DOLLAR</td>\n",
       "      <td>USD</td>\n",
       "      <td>23080.00</td>\n",
       "      <td>23110.0</td>\n",
       "      <td>23230.0</td>\n",
       "      <td>2019-12-18</td>\n",
       "    </tr>\n",
       "  </tbody>\n",
       "</table>\n",
       "</div>"
      ],
      "text/plain": [
       "   Currency Name Currency Code Cash Rates  Transfer Rates  Selling Rates  \\\n",
       "17     US DOLLAR           USD   23095.00         23125.0        23245.0   \n",
       "17     US DOLLAR           USD   23090.00         23120.0        23240.0   \n",
       "17     US DOLLAR           USD   23090.00         23120.0        23240.0   \n",
       "17     US DOLLAR           USD   23090.00         23120.0        23240.0   \n",
       "17     US DOLLAR           USD   23090.00         23120.0        23240.0   \n",
       "17     US DOLLAR           USD   23090.00         23120.0        23240.0   \n",
       "17     US DOLLAR           USD   23090.00         23120.0        23240.0   \n",
       "17     US DOLLAR           USD   23090.00         23120.0        23240.0   \n",
       "17     US DOLLAR           USD   23090.00         23120.0        23240.0   \n",
       "17     US DOLLAR           USD   23090.00         23120.0        23240.0   \n",
       "17     US DOLLAR           USD   23090.00         23120.0        23240.0   \n",
       "17     US DOLLAR           USD   23080.00         23110.0        23230.0   \n",
       "17     US DOLLAR           USD   23080.00         23110.0        23230.0   \n",
       "17     US DOLLAR           USD   23080.00         23110.0        23230.0   \n",
       "17     US DOLLAR           USD   23080.00         23110.0        23230.0   \n",
       "17     US DOLLAR           USD   23085.00         23115.0        23235.0   \n",
       "17     US DOLLAR           USD   23080.00         23110.0        23230.0   \n",
       "17     US DOLLAR           USD   23080.00         23110.0        23230.0   \n",
       "\n",
       "          Date  \n",
       "17  2019-12-01  \n",
       "17  2019-12-02  \n",
       "17  2019-12-03  \n",
       "17  2019-12-04  \n",
       "17  2019-12-05  \n",
       "17  2019-12-06  \n",
       "17  2019-12-07  \n",
       "17  2019-12-08  \n",
       "17  2019-12-09  \n",
       "17  2019-12-10  \n",
       "17  2019-12-11  \n",
       "17  2019-12-12  \n",
       "17  2019-12-13  \n",
       "17  2019-12-14  \n",
       "17  2019-12-15  \n",
       "17  2019-12-16  \n",
       "17  2019-12-17  \n",
       "17  2019-12-18  "
      ]
     },
     "execution_count": 27,
     "metadata": {},
     "output_type": "execute_result"
    }
   ],
   "source": [
    "result_usd "
   ]
  },
  {
   "cell_type": "code",
   "execution_count": 37,
   "metadata": {
    "scrolled": true
   },
   "outputs": [
    {
     "data": {
      "application/vnd.plotly.v1+json": {
       "config": {
        "plotlyServerURL": "https://plot.ly"
       },
       "data": [
        {
         "hoverlabel": {
          "namelength": 0
         },
         "hovertemplate": "Date=%{x}<br>Selling Rates=%{y}",
         "legendgroup": "",
         "line": {
          "color": "#636efa",
          "dash": "solid"
         },
         "mode": "lines",
         "name": "",
         "showlegend": false,
         "type": "scatter",
         "x": [
          "2019-12-01",
          "2019-12-02",
          "2019-12-03",
          "2019-12-04",
          "2019-12-05",
          "2019-12-06",
          "2019-12-07",
          "2019-12-08",
          "2019-12-09",
          "2019-12-10",
          "2019-12-11",
          "2019-12-12",
          "2019-12-13",
          "2019-12-14",
          "2019-12-15",
          "2019-12-16",
          "2019-12-17",
          "2019-12-18"
         ],
         "xaxis": "x",
         "y": [
          23245,
          23240,
          23240,
          23240,
          23240,
          23240,
          23240,
          23240,
          23240,
          23240,
          23240,
          23230,
          23230,
          23230,
          23230,
          23235,
          23230,
          23230
         ],
         "yaxis": "y"
        }
       ],
       "layout": {
        "height": 600,
        "legend": {
         "tracegroupgap": 0
        },
        "margin": {
         "t": 60
        },
        "template": {
         "data": {
          "bar": [
           {
            "error_x": {
             "color": "#2a3f5f"
            },
            "error_y": {
             "color": "#2a3f5f"
            },
            "marker": {
             "line": {
              "color": "#E5ECF6",
              "width": 0.5
             }
            },
            "type": "bar"
           }
          ],
          "barpolar": [
           {
            "marker": {
             "line": {
              "color": "#E5ECF6",
              "width": 0.5
             }
            },
            "type": "barpolar"
           }
          ],
          "carpet": [
           {
            "aaxis": {
             "endlinecolor": "#2a3f5f",
             "gridcolor": "white",
             "linecolor": "white",
             "minorgridcolor": "white",
             "startlinecolor": "#2a3f5f"
            },
            "baxis": {
             "endlinecolor": "#2a3f5f",
             "gridcolor": "white",
             "linecolor": "white",
             "minorgridcolor": "white",
             "startlinecolor": "#2a3f5f"
            },
            "type": "carpet"
           }
          ],
          "choropleth": [
           {
            "colorbar": {
             "outlinewidth": 0,
             "ticks": ""
            },
            "type": "choropleth"
           }
          ],
          "contour": [
           {
            "colorbar": {
             "outlinewidth": 0,
             "ticks": ""
            },
            "colorscale": [
             [
              0,
              "#0d0887"
             ],
             [
              0.1111111111111111,
              "#46039f"
             ],
             [
              0.2222222222222222,
              "#7201a8"
             ],
             [
              0.3333333333333333,
              "#9c179e"
             ],
             [
              0.4444444444444444,
              "#bd3786"
             ],
             [
              0.5555555555555556,
              "#d8576b"
             ],
             [
              0.6666666666666666,
              "#ed7953"
             ],
             [
              0.7777777777777778,
              "#fb9f3a"
             ],
             [
              0.8888888888888888,
              "#fdca26"
             ],
             [
              1,
              "#f0f921"
             ]
            ],
            "type": "contour"
           }
          ],
          "contourcarpet": [
           {
            "colorbar": {
             "outlinewidth": 0,
             "ticks": ""
            },
            "type": "contourcarpet"
           }
          ],
          "heatmap": [
           {
            "colorbar": {
             "outlinewidth": 0,
             "ticks": ""
            },
            "colorscale": [
             [
              0,
              "#0d0887"
             ],
             [
              0.1111111111111111,
              "#46039f"
             ],
             [
              0.2222222222222222,
              "#7201a8"
             ],
             [
              0.3333333333333333,
              "#9c179e"
             ],
             [
              0.4444444444444444,
              "#bd3786"
             ],
             [
              0.5555555555555556,
              "#d8576b"
             ],
             [
              0.6666666666666666,
              "#ed7953"
             ],
             [
              0.7777777777777778,
              "#fb9f3a"
             ],
             [
              0.8888888888888888,
              "#fdca26"
             ],
             [
              1,
              "#f0f921"
             ]
            ],
            "type": "heatmap"
           }
          ],
          "heatmapgl": [
           {
            "colorbar": {
             "outlinewidth": 0,
             "ticks": ""
            },
            "colorscale": [
             [
              0,
              "#0d0887"
             ],
             [
              0.1111111111111111,
              "#46039f"
             ],
             [
              0.2222222222222222,
              "#7201a8"
             ],
             [
              0.3333333333333333,
              "#9c179e"
             ],
             [
              0.4444444444444444,
              "#bd3786"
             ],
             [
              0.5555555555555556,
              "#d8576b"
             ],
             [
              0.6666666666666666,
              "#ed7953"
             ],
             [
              0.7777777777777778,
              "#fb9f3a"
             ],
             [
              0.8888888888888888,
              "#fdca26"
             ],
             [
              1,
              "#f0f921"
             ]
            ],
            "type": "heatmapgl"
           }
          ],
          "histogram": [
           {
            "marker": {
             "colorbar": {
              "outlinewidth": 0,
              "ticks": ""
             }
            },
            "type": "histogram"
           }
          ],
          "histogram2d": [
           {
            "colorbar": {
             "outlinewidth": 0,
             "ticks": ""
            },
            "colorscale": [
             [
              0,
              "#0d0887"
             ],
             [
              0.1111111111111111,
              "#46039f"
             ],
             [
              0.2222222222222222,
              "#7201a8"
             ],
             [
              0.3333333333333333,
              "#9c179e"
             ],
             [
              0.4444444444444444,
              "#bd3786"
             ],
             [
              0.5555555555555556,
              "#d8576b"
             ],
             [
              0.6666666666666666,
              "#ed7953"
             ],
             [
              0.7777777777777778,
              "#fb9f3a"
             ],
             [
              0.8888888888888888,
              "#fdca26"
             ],
             [
              1,
              "#f0f921"
             ]
            ],
            "type": "histogram2d"
           }
          ],
          "histogram2dcontour": [
           {
            "colorbar": {
             "outlinewidth": 0,
             "ticks": ""
            },
            "colorscale": [
             [
              0,
              "#0d0887"
             ],
             [
              0.1111111111111111,
              "#46039f"
             ],
             [
              0.2222222222222222,
              "#7201a8"
             ],
             [
              0.3333333333333333,
              "#9c179e"
             ],
             [
              0.4444444444444444,
              "#bd3786"
             ],
             [
              0.5555555555555556,
              "#d8576b"
             ],
             [
              0.6666666666666666,
              "#ed7953"
             ],
             [
              0.7777777777777778,
              "#fb9f3a"
             ],
             [
              0.8888888888888888,
              "#fdca26"
             ],
             [
              1,
              "#f0f921"
             ]
            ],
            "type": "histogram2dcontour"
           }
          ],
          "mesh3d": [
           {
            "colorbar": {
             "outlinewidth": 0,
             "ticks": ""
            },
            "type": "mesh3d"
           }
          ],
          "parcoords": [
           {
            "line": {
             "colorbar": {
              "outlinewidth": 0,
              "ticks": ""
             }
            },
            "type": "parcoords"
           }
          ],
          "scatter": [
           {
            "marker": {
             "colorbar": {
              "outlinewidth": 0,
              "ticks": ""
             }
            },
            "type": "scatter"
           }
          ],
          "scatter3d": [
           {
            "line": {
             "colorbar": {
              "outlinewidth": 0,
              "ticks": ""
             }
            },
            "marker": {
             "colorbar": {
              "outlinewidth": 0,
              "ticks": ""
             }
            },
            "type": "scatter3d"
           }
          ],
          "scattercarpet": [
           {
            "marker": {
             "colorbar": {
              "outlinewidth": 0,
              "ticks": ""
             }
            },
            "type": "scattercarpet"
           }
          ],
          "scattergeo": [
           {
            "marker": {
             "colorbar": {
              "outlinewidth": 0,
              "ticks": ""
             }
            },
            "type": "scattergeo"
           }
          ],
          "scattergl": [
           {
            "marker": {
             "colorbar": {
              "outlinewidth": 0,
              "ticks": ""
             }
            },
            "type": "scattergl"
           }
          ],
          "scattermapbox": [
           {
            "marker": {
             "colorbar": {
              "outlinewidth": 0,
              "ticks": ""
             }
            },
            "type": "scattermapbox"
           }
          ],
          "scatterpolar": [
           {
            "marker": {
             "colorbar": {
              "outlinewidth": 0,
              "ticks": ""
             }
            },
            "type": "scatterpolar"
           }
          ],
          "scatterpolargl": [
           {
            "marker": {
             "colorbar": {
              "outlinewidth": 0,
              "ticks": ""
             }
            },
            "type": "scatterpolargl"
           }
          ],
          "scatterternary": [
           {
            "marker": {
             "colorbar": {
              "outlinewidth": 0,
              "ticks": ""
             }
            },
            "type": "scatterternary"
           }
          ],
          "surface": [
           {
            "colorbar": {
             "outlinewidth": 0,
             "ticks": ""
            },
            "colorscale": [
             [
              0,
              "#0d0887"
             ],
             [
              0.1111111111111111,
              "#46039f"
             ],
             [
              0.2222222222222222,
              "#7201a8"
             ],
             [
              0.3333333333333333,
              "#9c179e"
             ],
             [
              0.4444444444444444,
              "#bd3786"
             ],
             [
              0.5555555555555556,
              "#d8576b"
             ],
             [
              0.6666666666666666,
              "#ed7953"
             ],
             [
              0.7777777777777778,
              "#fb9f3a"
             ],
             [
              0.8888888888888888,
              "#fdca26"
             ],
             [
              1,
              "#f0f921"
             ]
            ],
            "type": "surface"
           }
          ],
          "table": [
           {
            "cells": {
             "fill": {
              "color": "#EBF0F8"
             },
             "line": {
              "color": "white"
             }
            },
            "header": {
             "fill": {
              "color": "#C8D4E3"
             },
             "line": {
              "color": "white"
             }
            },
            "type": "table"
           }
          ]
         },
         "layout": {
          "annotationdefaults": {
           "arrowcolor": "#2a3f5f",
           "arrowhead": 0,
           "arrowwidth": 1
          },
          "colorscale": {
           "diverging": [
            [
             0,
             "#8e0152"
            ],
            [
             0.1,
             "#c51b7d"
            ],
            [
             0.2,
             "#de77ae"
            ],
            [
             0.3,
             "#f1b6da"
            ],
            [
             0.4,
             "#fde0ef"
            ],
            [
             0.5,
             "#f7f7f7"
            ],
            [
             0.6,
             "#e6f5d0"
            ],
            [
             0.7,
             "#b8e186"
            ],
            [
             0.8,
             "#7fbc41"
            ],
            [
             0.9,
             "#4d9221"
            ],
            [
             1,
             "#276419"
            ]
           ],
           "sequential": [
            [
             0,
             "#0d0887"
            ],
            [
             0.1111111111111111,
             "#46039f"
            ],
            [
             0.2222222222222222,
             "#7201a8"
            ],
            [
             0.3333333333333333,
             "#9c179e"
            ],
            [
             0.4444444444444444,
             "#bd3786"
            ],
            [
             0.5555555555555556,
             "#d8576b"
            ],
            [
             0.6666666666666666,
             "#ed7953"
            ],
            [
             0.7777777777777778,
             "#fb9f3a"
            ],
            [
             0.8888888888888888,
             "#fdca26"
            ],
            [
             1,
             "#f0f921"
            ]
           ],
           "sequentialminus": [
            [
             0,
             "#0d0887"
            ],
            [
             0.1111111111111111,
             "#46039f"
            ],
            [
             0.2222222222222222,
             "#7201a8"
            ],
            [
             0.3333333333333333,
             "#9c179e"
            ],
            [
             0.4444444444444444,
             "#bd3786"
            ],
            [
             0.5555555555555556,
             "#d8576b"
            ],
            [
             0.6666666666666666,
             "#ed7953"
            ],
            [
             0.7777777777777778,
             "#fb9f3a"
            ],
            [
             0.8888888888888888,
             "#fdca26"
            ],
            [
             1,
             "#f0f921"
            ]
           ]
          },
          "colorway": [
           "#636efa",
           "#EF553B",
           "#00cc96",
           "#ab63fa",
           "#FFA15A",
           "#19d3f3",
           "#FF6692",
           "#B6E880",
           "#FF97FF",
           "#FECB52"
          ],
          "font": {
           "color": "#2a3f5f"
          },
          "geo": {
           "bgcolor": "white",
           "lakecolor": "white",
           "landcolor": "#E5ECF6",
           "showlakes": true,
           "showland": true,
           "subunitcolor": "white"
          },
          "hoverlabel": {
           "align": "left"
          },
          "hovermode": "closest",
          "mapbox": {
           "style": "light"
          },
          "paper_bgcolor": "white",
          "plot_bgcolor": "#E5ECF6",
          "polar": {
           "angularaxis": {
            "gridcolor": "white",
            "linecolor": "white",
            "ticks": ""
           },
           "bgcolor": "#E5ECF6",
           "radialaxis": {
            "gridcolor": "white",
            "linecolor": "white",
            "ticks": ""
           }
          },
          "scene": {
           "xaxis": {
            "backgroundcolor": "#E5ECF6",
            "gridcolor": "white",
            "gridwidth": 2,
            "linecolor": "white",
            "showbackground": true,
            "ticks": "",
            "zerolinecolor": "white"
           },
           "yaxis": {
            "backgroundcolor": "#E5ECF6",
            "gridcolor": "white",
            "gridwidth": 2,
            "linecolor": "white",
            "showbackground": true,
            "ticks": "",
            "zerolinecolor": "white"
           },
           "zaxis": {
            "backgroundcolor": "#E5ECF6",
            "gridcolor": "white",
            "gridwidth": 2,
            "linecolor": "white",
            "showbackground": true,
            "ticks": "",
            "zerolinecolor": "white"
           }
          },
          "shapedefaults": {
           "line": {
            "color": "#2a3f5f"
           }
          },
          "ternary": {
           "aaxis": {
            "gridcolor": "white",
            "linecolor": "white",
            "ticks": ""
           },
           "baxis": {
            "gridcolor": "white",
            "linecolor": "white",
            "ticks": ""
           },
           "bgcolor": "#E5ECF6",
           "caxis": {
            "gridcolor": "white",
            "linecolor": "white",
            "ticks": ""
           }
          },
          "title": {
           "x": 0.05
          },
          "xaxis": {
           "automargin": true,
           "gridcolor": "white",
           "linecolor": "white",
           "ticks": "",
           "zerolinecolor": "white",
           "zerolinewidth": 2
          },
          "yaxis": {
           "automargin": true,
           "gridcolor": "white",
           "linecolor": "white",
           "ticks": "",
           "zerolinecolor": "white",
           "zerolinewidth": 2
          }
         }
        },
        "xaxis": {
         "anchor": "y",
         "domain": [
          0,
          0.98
         ],
         "title": {
          "text": "Date"
         }
        },
        "yaxis": {
         "anchor": "x",
         "domain": [
          0,
          1
         ],
         "range": [
          20000,
          25000
         ],
         "title": {
          "text": "Selling Rates"
         }
        }
       }
      },
      "text/html": [
       "<div>\n",
       "        \n",
       "        \n",
       "            <div id=\"6e815b9f-9b35-4f59-844f-20aa9de1a177\" class=\"plotly-graph-div\" style=\"height:600px; width:100%;\"></div>\n",
       "            <script type=\"text/javascript\">\n",
       "                require([\"plotly\"], function(Plotly) {\n",
       "                    window.PLOTLYENV=window.PLOTLYENV || {};\n",
       "                    \n",
       "                if (document.getElementById(\"6e815b9f-9b35-4f59-844f-20aa9de1a177\")) {\n",
       "                    Plotly.newPlot(\n",
       "                        '6e815b9f-9b35-4f59-844f-20aa9de1a177',\n",
       "                        [{\"hoverlabel\": {\"namelength\": 0}, \"hovertemplate\": \"Date=%{x}<br>Selling Rates=%{y}\", \"legendgroup\": \"\", \"line\": {\"color\": \"#636efa\", \"dash\": \"solid\"}, \"mode\": \"lines\", \"name\": \"\", \"showlegend\": false, \"type\": \"scatter\", \"x\": [\"2019-12-01\", \"2019-12-02\", \"2019-12-03\", \"2019-12-04\", \"2019-12-05\", \"2019-12-06\", \"2019-12-07\", \"2019-12-08\", \"2019-12-09\", \"2019-12-10\", \"2019-12-11\", \"2019-12-12\", \"2019-12-13\", \"2019-12-14\", \"2019-12-15\", \"2019-12-16\", \"2019-12-17\", \"2019-12-18\"], \"xaxis\": \"x\", \"y\": [23245.0, 23240.0, 23240.0, 23240.0, 23240.0, 23240.0, 23240.0, 23240.0, 23240.0, 23240.0, 23240.0, 23230.0, 23230.0, 23230.0, 23230.0, 23235.0, 23230.0, 23230.0], \"yaxis\": \"y\"}],\n",
       "                        {\"height\": 600, \"legend\": {\"tracegroupgap\": 0}, \"margin\": {\"t\": 60}, \"template\": {\"data\": {\"bar\": [{\"error_x\": {\"color\": \"#2a3f5f\"}, \"error_y\": {\"color\": \"#2a3f5f\"}, \"marker\": {\"line\": {\"color\": \"#E5ECF6\", \"width\": 0.5}}, \"type\": \"bar\"}], \"barpolar\": [{\"marker\": {\"line\": {\"color\": \"#E5ECF6\", \"width\": 0.5}}, \"type\": \"barpolar\"}], \"carpet\": [{\"aaxis\": {\"endlinecolor\": \"#2a3f5f\", \"gridcolor\": \"white\", \"linecolor\": \"white\", \"minorgridcolor\": \"white\", \"startlinecolor\": \"#2a3f5f\"}, \"baxis\": {\"endlinecolor\": \"#2a3f5f\", \"gridcolor\": \"white\", \"linecolor\": \"white\", \"minorgridcolor\": \"white\", \"startlinecolor\": \"#2a3f5f\"}, \"type\": \"carpet\"}], \"choropleth\": [{\"colorbar\": {\"outlinewidth\": 0, \"ticks\": \"\"}, \"type\": \"choropleth\"}], \"contour\": [{\"colorbar\": {\"outlinewidth\": 0, \"ticks\": \"\"}, \"colorscale\": [[0.0, \"#0d0887\"], [0.1111111111111111, \"#46039f\"], [0.2222222222222222, \"#7201a8\"], [0.3333333333333333, \"#9c179e\"], [0.4444444444444444, \"#bd3786\"], [0.5555555555555556, \"#d8576b\"], [0.6666666666666666, \"#ed7953\"], [0.7777777777777778, \"#fb9f3a\"], [0.8888888888888888, \"#fdca26\"], [1.0, \"#f0f921\"]], \"type\": \"contour\"}], \"contourcarpet\": [{\"colorbar\": {\"outlinewidth\": 0, \"ticks\": \"\"}, \"type\": \"contourcarpet\"}], \"heatmap\": [{\"colorbar\": {\"outlinewidth\": 0, \"ticks\": \"\"}, \"colorscale\": [[0.0, \"#0d0887\"], [0.1111111111111111, \"#46039f\"], [0.2222222222222222, \"#7201a8\"], [0.3333333333333333, \"#9c179e\"], [0.4444444444444444, \"#bd3786\"], [0.5555555555555556, \"#d8576b\"], [0.6666666666666666, \"#ed7953\"], [0.7777777777777778, \"#fb9f3a\"], [0.8888888888888888, \"#fdca26\"], [1.0, \"#f0f921\"]], \"type\": \"heatmap\"}], \"heatmapgl\": [{\"colorbar\": {\"outlinewidth\": 0, \"ticks\": \"\"}, \"colorscale\": [[0.0, \"#0d0887\"], [0.1111111111111111, \"#46039f\"], [0.2222222222222222, \"#7201a8\"], [0.3333333333333333, \"#9c179e\"], [0.4444444444444444, \"#bd3786\"], [0.5555555555555556, \"#d8576b\"], [0.6666666666666666, \"#ed7953\"], [0.7777777777777778, \"#fb9f3a\"], [0.8888888888888888, \"#fdca26\"], [1.0, \"#f0f921\"]], \"type\": \"heatmapgl\"}], \"histogram\": [{\"marker\": {\"colorbar\": {\"outlinewidth\": 0, \"ticks\": \"\"}}, \"type\": \"histogram\"}], \"histogram2d\": [{\"colorbar\": {\"outlinewidth\": 0, \"ticks\": \"\"}, \"colorscale\": [[0.0, \"#0d0887\"], [0.1111111111111111, \"#46039f\"], [0.2222222222222222, \"#7201a8\"], [0.3333333333333333, \"#9c179e\"], [0.4444444444444444, \"#bd3786\"], [0.5555555555555556, \"#d8576b\"], [0.6666666666666666, \"#ed7953\"], [0.7777777777777778, \"#fb9f3a\"], [0.8888888888888888, \"#fdca26\"], [1.0, \"#f0f921\"]], \"type\": \"histogram2d\"}], \"histogram2dcontour\": [{\"colorbar\": {\"outlinewidth\": 0, \"ticks\": \"\"}, \"colorscale\": [[0.0, \"#0d0887\"], [0.1111111111111111, \"#46039f\"], [0.2222222222222222, \"#7201a8\"], [0.3333333333333333, \"#9c179e\"], [0.4444444444444444, \"#bd3786\"], [0.5555555555555556, \"#d8576b\"], [0.6666666666666666, \"#ed7953\"], [0.7777777777777778, \"#fb9f3a\"], [0.8888888888888888, \"#fdca26\"], [1.0, \"#f0f921\"]], \"type\": \"histogram2dcontour\"}], \"mesh3d\": [{\"colorbar\": {\"outlinewidth\": 0, \"ticks\": \"\"}, \"type\": \"mesh3d\"}], \"parcoords\": [{\"line\": {\"colorbar\": {\"outlinewidth\": 0, \"ticks\": \"\"}}, \"type\": \"parcoords\"}], \"scatter\": [{\"marker\": {\"colorbar\": {\"outlinewidth\": 0, \"ticks\": \"\"}}, \"type\": \"scatter\"}], \"scatter3d\": [{\"line\": {\"colorbar\": {\"outlinewidth\": 0, \"ticks\": \"\"}}, \"marker\": {\"colorbar\": {\"outlinewidth\": 0, \"ticks\": \"\"}}, \"type\": \"scatter3d\"}], \"scattercarpet\": [{\"marker\": {\"colorbar\": {\"outlinewidth\": 0, \"ticks\": \"\"}}, \"type\": \"scattercarpet\"}], \"scattergeo\": [{\"marker\": {\"colorbar\": {\"outlinewidth\": 0, \"ticks\": \"\"}}, \"type\": \"scattergeo\"}], \"scattergl\": [{\"marker\": {\"colorbar\": {\"outlinewidth\": 0, \"ticks\": \"\"}}, \"type\": \"scattergl\"}], \"scattermapbox\": [{\"marker\": {\"colorbar\": {\"outlinewidth\": 0, \"ticks\": \"\"}}, \"type\": \"scattermapbox\"}], \"scatterpolar\": [{\"marker\": {\"colorbar\": {\"outlinewidth\": 0, \"ticks\": \"\"}}, \"type\": \"scatterpolar\"}], \"scatterpolargl\": [{\"marker\": {\"colorbar\": {\"outlinewidth\": 0, \"ticks\": \"\"}}, \"type\": \"scatterpolargl\"}], \"scatterternary\": [{\"marker\": {\"colorbar\": {\"outlinewidth\": 0, \"ticks\": \"\"}}, \"type\": \"scatterternary\"}], \"surface\": [{\"colorbar\": {\"outlinewidth\": 0, \"ticks\": \"\"}, \"colorscale\": [[0.0, \"#0d0887\"], [0.1111111111111111, \"#46039f\"], [0.2222222222222222, \"#7201a8\"], [0.3333333333333333, \"#9c179e\"], [0.4444444444444444, \"#bd3786\"], [0.5555555555555556, \"#d8576b\"], [0.6666666666666666, \"#ed7953\"], [0.7777777777777778, \"#fb9f3a\"], [0.8888888888888888, \"#fdca26\"], [1.0, \"#f0f921\"]], \"type\": \"surface\"}], \"table\": [{\"cells\": {\"fill\": {\"color\": \"#EBF0F8\"}, \"line\": {\"color\": \"white\"}}, \"header\": {\"fill\": {\"color\": \"#C8D4E3\"}, \"line\": {\"color\": \"white\"}}, \"type\": \"table\"}]}, \"layout\": {\"annotationdefaults\": {\"arrowcolor\": \"#2a3f5f\", \"arrowhead\": 0, \"arrowwidth\": 1}, \"colorscale\": {\"diverging\": [[0, \"#8e0152\"], [0.1, \"#c51b7d\"], [0.2, \"#de77ae\"], [0.3, \"#f1b6da\"], [0.4, \"#fde0ef\"], [0.5, \"#f7f7f7\"], [0.6, \"#e6f5d0\"], [0.7, \"#b8e186\"], [0.8, \"#7fbc41\"], [0.9, \"#4d9221\"], [1, \"#276419\"]], \"sequential\": [[0.0, \"#0d0887\"], [0.1111111111111111, \"#46039f\"], [0.2222222222222222, \"#7201a8\"], [0.3333333333333333, \"#9c179e\"], [0.4444444444444444, \"#bd3786\"], [0.5555555555555556, \"#d8576b\"], [0.6666666666666666, \"#ed7953\"], [0.7777777777777778, \"#fb9f3a\"], [0.8888888888888888, \"#fdca26\"], [1.0, \"#f0f921\"]], \"sequentialminus\": [[0.0, \"#0d0887\"], [0.1111111111111111, \"#46039f\"], [0.2222222222222222, \"#7201a8\"], [0.3333333333333333, \"#9c179e\"], [0.4444444444444444, \"#bd3786\"], [0.5555555555555556, \"#d8576b\"], [0.6666666666666666, \"#ed7953\"], [0.7777777777777778, \"#fb9f3a\"], [0.8888888888888888, \"#fdca26\"], [1.0, \"#f0f921\"]]}, \"colorway\": [\"#636efa\", \"#EF553B\", \"#00cc96\", \"#ab63fa\", \"#FFA15A\", \"#19d3f3\", \"#FF6692\", \"#B6E880\", \"#FF97FF\", \"#FECB52\"], \"font\": {\"color\": \"#2a3f5f\"}, \"geo\": {\"bgcolor\": \"white\", \"lakecolor\": \"white\", \"landcolor\": \"#E5ECF6\", \"showlakes\": true, \"showland\": true, \"subunitcolor\": \"white\"}, \"hoverlabel\": {\"align\": \"left\"}, \"hovermode\": \"closest\", \"mapbox\": {\"style\": \"light\"}, \"paper_bgcolor\": \"white\", \"plot_bgcolor\": \"#E5ECF6\", \"polar\": {\"angularaxis\": {\"gridcolor\": \"white\", \"linecolor\": \"white\", \"ticks\": \"\"}, \"bgcolor\": \"#E5ECF6\", \"radialaxis\": {\"gridcolor\": \"white\", \"linecolor\": \"white\", \"ticks\": \"\"}}, \"scene\": {\"xaxis\": {\"backgroundcolor\": \"#E5ECF6\", \"gridcolor\": \"white\", \"gridwidth\": 2, \"linecolor\": \"white\", \"showbackground\": true, \"ticks\": \"\", \"zerolinecolor\": \"white\"}, \"yaxis\": {\"backgroundcolor\": \"#E5ECF6\", \"gridcolor\": \"white\", \"gridwidth\": 2, \"linecolor\": \"white\", \"showbackground\": true, \"ticks\": \"\", \"zerolinecolor\": \"white\"}, \"zaxis\": {\"backgroundcolor\": \"#E5ECF6\", \"gridcolor\": \"white\", \"gridwidth\": 2, \"linecolor\": \"white\", \"showbackground\": true, \"ticks\": \"\", \"zerolinecolor\": \"white\"}}, \"shapedefaults\": {\"line\": {\"color\": \"#2a3f5f\"}}, \"ternary\": {\"aaxis\": {\"gridcolor\": \"white\", \"linecolor\": \"white\", \"ticks\": \"\"}, \"baxis\": {\"gridcolor\": \"white\", \"linecolor\": \"white\", \"ticks\": \"\"}, \"bgcolor\": \"#E5ECF6\", \"caxis\": {\"gridcolor\": \"white\", \"linecolor\": \"white\", \"ticks\": \"\"}}, \"title\": {\"x\": 0.05}, \"xaxis\": {\"automargin\": true, \"gridcolor\": \"white\", \"linecolor\": \"white\", \"ticks\": \"\", \"zerolinecolor\": \"white\", \"zerolinewidth\": 2}, \"yaxis\": {\"automargin\": true, \"gridcolor\": \"white\", \"linecolor\": \"white\", \"ticks\": \"\", \"zerolinecolor\": \"white\", \"zerolinewidth\": 2}}}, \"xaxis\": {\"anchor\": \"y\", \"domain\": [0.0, 0.98], \"title\": {\"text\": \"Date\"}}, \"yaxis\": {\"anchor\": \"x\", \"domain\": [0.0, 1.0], \"range\": [20000, 25000], \"title\": {\"text\": \"Selling Rates\"}}},\n",
       "                        {\"responsive\": true}\n",
       "                    ).then(function(){\n",
       "                            \n",
       "var gd = document.getElementById('6e815b9f-9b35-4f59-844f-20aa9de1a177');\n",
       "var x = new MutationObserver(function (mutations, observer) {{\n",
       "        var display = window.getComputedStyle(gd).display;\n",
       "        if (!display || display === 'none') {{\n",
       "            console.log([gd, 'removed!']);\n",
       "            Plotly.purge(gd);\n",
       "            observer.disconnect();\n",
       "        }}\n",
       "}});\n",
       "\n",
       "// Listen for the removal of the full notebook cells\n",
       "var notebookContainer = gd.closest('#notebook-container');\n",
       "if (notebookContainer) {{\n",
       "    x.observe(notebookContainer, {childList: true});\n",
       "}}\n",
       "\n",
       "// Listen for the clearing of the current output cell\n",
       "var outputEl = gd.closest('.output');\n",
       "if (outputEl) {{\n",
       "    x.observe(outputEl, {childList: true});\n",
       "}}\n",
       "\n",
       "                        })\n",
       "                };\n",
       "                });\n",
       "            </script>\n",
       "        </div>"
      ]
     },
     "metadata": {},
     "output_type": "display_data"
    }
   ],
   "source": [
    "import plotly.express as px\n",
    "fig = px.line(result[result['Currency Code']=='USD'], x=\"Date\", y='Selling Rates',range_y=[20000,25000])\n",
    "fig.show()"
   ]
  },
  {
   "cell_type": "code",
   "execution_count": 38,
   "metadata": {},
   "outputs": [
    {
     "data": {
      "text/html": [
       "<div>\n",
       "<style scoped>\n",
       "    .dataframe tbody tr th:only-of-type {\n",
       "        vertical-align: middle;\n",
       "    }\n",
       "\n",
       "    .dataframe tbody tr th {\n",
       "        vertical-align: top;\n",
       "    }\n",
       "\n",
       "    .dataframe thead th {\n",
       "        text-align: right;\n",
       "    }\n",
       "</style>\n",
       "<table border=\"1\" class=\"dataframe\">\n",
       "  <thead>\n",
       "    <tr style=\"text-align: right;\">\n",
       "      <th></th>\n",
       "      <th>Transfer Rates</th>\n",
       "      <th>Selling Rates</th>\n",
       "    </tr>\n",
       "  </thead>\n",
       "  <tbody>\n",
       "    <tr>\n",
       "      <th>count</th>\n",
       "      <td>18.000000</td>\n",
       "      <td>18.000000</td>\n",
       "    </tr>\n",
       "    <tr>\n",
       "      <th>mean</th>\n",
       "      <td>23116.666667</td>\n",
       "      <td>23236.666667</td>\n",
       "    </tr>\n",
       "    <tr>\n",
       "      <th>std</th>\n",
       "      <td>5.144958</td>\n",
       "      <td>5.144958</td>\n",
       "    </tr>\n",
       "    <tr>\n",
       "      <th>min</th>\n",
       "      <td>23110.000000</td>\n",
       "      <td>23230.000000</td>\n",
       "    </tr>\n",
       "    <tr>\n",
       "      <th>25%</th>\n",
       "      <td>23110.000000</td>\n",
       "      <td>23230.000000</td>\n",
       "    </tr>\n",
       "    <tr>\n",
       "      <th>50%</th>\n",
       "      <td>23120.000000</td>\n",
       "      <td>23240.000000</td>\n",
       "    </tr>\n",
       "    <tr>\n",
       "      <th>75%</th>\n",
       "      <td>23120.000000</td>\n",
       "      <td>23240.000000</td>\n",
       "    </tr>\n",
       "    <tr>\n",
       "      <th>max</th>\n",
       "      <td>23125.000000</td>\n",
       "      <td>23245.000000</td>\n",
       "    </tr>\n",
       "  </tbody>\n",
       "</table>\n",
       "</div>"
      ],
      "text/plain": [
       "       Transfer Rates  Selling Rates\n",
       "count       18.000000      18.000000\n",
       "mean     23116.666667   23236.666667\n",
       "std          5.144958       5.144958\n",
       "min      23110.000000   23230.000000\n",
       "25%      23110.000000   23230.000000\n",
       "50%      23120.000000   23240.000000\n",
       "75%      23120.000000   23240.000000\n",
       "max      23125.000000   23245.000000"
      ]
     },
     "execution_count": 38,
     "metadata": {},
     "output_type": "execute_result"
    }
   ],
   "source": [
    "result[result['Currency Code']=='USD'].describe()"
   ]
  }
 ],
 "metadata": {
  "kernelspec": {
   "display_name": "Python 3",
   "language": "python",
   "name": "python3"
  },
  "language_info": {
   "codemirror_mode": {
    "name": "ipython",
    "version": 3
   },
   "file_extension": ".py",
   "mimetype": "text/x-python",
   "name": "python",
   "nbconvert_exporter": "python",
   "pygments_lexer": "ipython3",
   "version": "3.7.3"
  }
 },
 "nbformat": 4,
 "nbformat_minor": 2
}
