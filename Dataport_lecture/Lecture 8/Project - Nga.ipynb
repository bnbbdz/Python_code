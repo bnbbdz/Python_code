{
 "cells": [
  {
   "cell_type": "markdown",
   "metadata": {
    "colab_type": "text",
    "id": "0pAWxv_CK80G"
   },
   "source": [
    "# Project \n",
    "#### Bước 1: Crawl web IMDB\n",
    "Lấy dữ liệu về top 50 film rates cao nhất trên IMDB theo từng thể loại.\n",
    "Taọ thành 1 dataframe với thông tin về thể loại, tên phim, năm sản xuất.\n",
    "#### Bước 2: Gợi ý phim\n",
    "Nhập 1 thể loại yêu thích.\n",
    "Gợi ý ra 3 phim ngẫu nhiên thuộc thể loại đó từ dataframe có sẵn."
   ]
  },
  {
   "cell_type": "code",
   "execution_count": 0,
   "metadata": {
    "colab": {},
    "colab_type": "code",
    "id": "N7YfRkZtK80X"
   },
   "outputs": [],
   "source": [
    "import urllib\n",
    "import pandas\n",
    "from bs4 import BeautifulSoup\n",
    "import requests"
   ]
  },
  {
   "cell_type": "code",
   "execution_count": 4,
   "metadata": {
    "colab": {
     "base_uri": "https://localhost:8080/",
     "height": 71
    },
    "colab_type": "code",
    "executionInfo": {
     "elapsed": 2081,
     "status": "ok",
     "timestamp": 1578403553432,
     "user": {
      "displayName": "Nga Nguyễn",
      "photoUrl": "https://lh3.googleusercontent.com/a-/AAuE7mAd-lF2yvaMvIbIfICweI8hLNkoFO4krpgmEA1OYQ=s64",
      "userId": "03741069878920547787"
     },
     "user_tz": -420
    },
    "id": "Rw7wFd8KK80l",
    "outputId": "40610705-cd48-4ff6-8a59-e52363db3636",
    "scrolled": false
   },
   "outputs": [
    {
     "name": "stdout",
     "output_type": "stream",
     "text": [
      "['action', 'adventure', 'animation', 'biography', 'comedy', 'crime', 'drama', 'family', 'fantasy', 'film-Noir', 'history', 'horror', 'music', 'musical', 'mystery', 'romance', 'sci-Fi', 'sport', 'thriller', 'war', 'western']\n"
     ]
    },
    {
     "data": {
      "text/plain": [
       "21"
      ]
     },
     "execution_count": 4,
     "metadata": {
      "tags": []
     },
     "output_type": "execute_result"
    }
   ],
   "source": [
    "genres =['action', 'adventure', 'animation', 'biography', 'comedy', 'crime', 'drama', 'family', 'fantasy', 'film-Noir', 'history', 'horror', 'music', 'musical', 'mystery', 'romance', 'sci-Fi', 'sport', 'thriller', 'war', 'western']\n",
    "print(genres)\n",
    "len(genres)"
   ]
  },
  {
   "cell_type": "code",
   "execution_count": 5,
   "metadata": {
    "colab": {
     "base_uri": "https://localhost:8080/",
     "height": 255
    },
    "colab_type": "code",
    "executionInfo": {
     "elapsed": 25321,
     "status": "ok",
     "timestamp": 1578403581838,
     "user": {
      "displayName": "Nga Nguyễn",
      "photoUrl": "https://lh3.googleusercontent.com/a-/AAuE7mAd-lF2yvaMvIbIfICweI8hLNkoFO4krpgmEA1OYQ=s64",
      "userId": "03741069878920547787"
     },
     "user_tz": -420
    },
    "id": "R6bbaHqFK800",
    "outputId": "6b7b14a8-e5d7-43ab-ac8c-0dc7b8033351"
   },
   "outputs": [
    {
     "name": "stdout",
     "output_type": "stream",
     "text": [
      "                                             movie      genre    year\n",
      "0                                  The Dark Knight     action  (2008)\n",
      "1                                           Dag II     action  (2016)\n",
      "2                                        Inception     action  (2010)\n",
      "3                                       The Matrix     action  (1999)\n",
      "4   Star Wars: Episode V - The Empire Strikes Back     action  (1980)\n",
      "..                                             ...        ...     ...\n",
      "95                                    Finding Nemo  adventure  (2003)\n",
      "96               Lagaan: Once Upon a Time in India  adventure  (2001)\n",
      "97                                   Jurassic Park  adventure  (1993)\n",
      "98                              The Princess Bride  adventure  (1987)\n",
      "99                                     Stand by Me  adventure  (1986)\n",
      "\n",
      "[100 rows x 3 columns]\n"
     ]
    }
   ],
   "source": [
    "df = pandas.DataFrame()\n",
    "year_list = []\n",
    "movie_list = []\n",
    "genre_list = []\n",
    "i = 0\n",
    "#vòng lặp 1: thay tên các thể loại vào url imdb\n",
    "while i <= 20:\n",
    "    genre = genres[i]\n",
    "    url = 'https://www.imdb.com/search/title/?title_type=feature&num_votes=25000,&genres={}&sort=user_rating,desc&view=simple'.format(genre)\n",
    "    req = requests.get(url)\n",
    "    soup = BeautifulSoup(req.text, \"lxml\")\n",
    "    a = soup.find_all('span',\"lister-item-header\",\"</a>\")\n",
    "    #vòng lặp 2: Lấy ra tên của từng phim từ file html của imdb\n",
    "    for j in a:\n",
    "        a1 = j.select(\"a\")\n",
    "        a2 = str(a1)\n",
    "        a3 = a2[(a2.find('>')+1):-5]\n",
    "        movie_list.append(a3)\n",
    "    #vòng lặp 2: Lấy ra năm sản xuất của từng phim từ file html của imdb\n",
    "    y = soup.find_all('span',\"lister-item-year\",\"</a>\")\n",
    "    for k in y:\n",
    "        y1 = str(k)\n",
    "        y2 = y1[y1.find('('): y1.find('(')+6]\n",
    "        year_list.append(y2)\n",
    "        #ghi lại thể loại của phim\n",
    "        genre_list.append(genre)\n",
    "    i = i+1\n",
    "#thêm các cột vào dataframe\n",
    "df['movie'] = movie_list\n",
    "df['genre'] = genre_list\n",
    "df['year'] = year_list\n",
    "print(df.head(100))"
   ]
  },
  {
   "cell_type": "code",
   "execution_count": 3,
   "metadata": {
    "colab": {
     "base_uri": "https://localhost:8080/",
     "height": 32
    },
    "colab_type": "code",
    "executionInfo": {
     "elapsed": 1493,
     "status": "ok",
     "timestamp": 1578403542522,
     "user": {
      "displayName": "Nga Nguyễn",
      "photoUrl": "https://lh3.googleusercontent.com/a-/AAuE7mAd-lF2yvaMvIbIfICweI8hLNkoFO4krpgmEA1OYQ=s64",
      "userId": "03741069878920547787"
     },
     "user_tz": -420
    },
    "id": "JVyVRMUuK809",
    "outputId": "80e71189-55f5-44c9-c22e-ba20fa926e52"
   },
   "outputs": [
    {
     "data": {
      "text/html": [
       "<div>\n",
       "<style scoped>\n",
       "    .dataframe tbody tr th:only-of-type {\n",
       "        vertical-align: middle;\n",
       "    }\n",
       "\n",
       "    .dataframe tbody tr th {\n",
       "        vertical-align: top;\n",
       "    }\n",
       "\n",
       "    .dataframe thead th {\n",
       "        text-align: right;\n",
       "    }\n",
       "</style>\n",
       "<table border=\"1\" class=\"dataframe\">\n",
       "  <thead>\n",
       "    <tr style=\"text-align: right;\">\n",
       "      <th></th>\n",
       "    </tr>\n",
       "  </thead>\n",
       "  <tbody>\n",
       "  </tbody>\n",
       "</table>\n",
       "</div>"
      ],
      "text/plain": [
       "Empty DataFrame\n",
       "Columns: []\n",
       "Index: []"
      ]
     },
     "execution_count": 3,
     "metadata": {
      "tags": []
     },
     "output_type": "execute_result"
    }
   ],
   "source": [
    "df.head(1050)"
   ]
  },
  {
   "cell_type": "code",
   "execution_count": 6,
   "metadata": {
    "colab": {
     "base_uri": "https://localhost:8080/",
     "height": 700
    },
    "colab_type": "code",
    "executionInfo": {
     "elapsed": 1705,
     "status": "ok",
     "timestamp": 1578403590404,
     "user": {
      "displayName": "Nga Nguyễn",
      "photoUrl": "https://lh3.googleusercontent.com/a-/AAuE7mAd-lF2yvaMvIbIfICweI8hLNkoFO4krpgmEA1OYQ=s64",
      "userId": "03741069878920547787"
     },
     "user_tz": -420
    },
    "id": "O4TvbekOK81G",
    "outputId": "9ff35d7b-9aec-4345-e8a2-205f27172e11"
   },
   "outputs": [
    {
     "data": {
      "text/html": [
       "<div>\n",
       "<style scoped>\n",
       "    .dataframe tbody tr th:only-of-type {\n",
       "        vertical-align: middle;\n",
       "    }\n",
       "\n",
       "    .dataframe tbody tr th {\n",
       "        vertical-align: top;\n",
       "    }\n",
       "\n",
       "    .dataframe thead th {\n",
       "        text-align: right;\n",
       "    }\n",
       "</style>\n",
       "<table border=\"1\" class=\"dataframe\">\n",
       "  <thead>\n",
       "    <tr style=\"text-align: right;\">\n",
       "      <th></th>\n",
       "      <th>Mã số</th>\n",
       "      <th>Thể loại</th>\n",
       "    </tr>\n",
       "  </thead>\n",
       "  <tbody>\n",
       "    <tr>\n",
       "      <th>0</th>\n",
       "      <td>0</td>\n",
       "      <td>action</td>\n",
       "    </tr>\n",
       "    <tr>\n",
       "      <th>1</th>\n",
       "      <td>1</td>\n",
       "      <td>adventure</td>\n",
       "    </tr>\n",
       "    <tr>\n",
       "      <th>2</th>\n",
       "      <td>2</td>\n",
       "      <td>animation</td>\n",
       "    </tr>\n",
       "    <tr>\n",
       "      <th>3</th>\n",
       "      <td>3</td>\n",
       "      <td>biography</td>\n",
       "    </tr>\n",
       "    <tr>\n",
       "      <th>4</th>\n",
       "      <td>4</td>\n",
       "      <td>comedy</td>\n",
       "    </tr>\n",
       "    <tr>\n",
       "      <th>5</th>\n",
       "      <td>5</td>\n",
       "      <td>crime</td>\n",
       "    </tr>\n",
       "    <tr>\n",
       "      <th>6</th>\n",
       "      <td>6</td>\n",
       "      <td>drama</td>\n",
       "    </tr>\n",
       "    <tr>\n",
       "      <th>7</th>\n",
       "      <td>7</td>\n",
       "      <td>family</td>\n",
       "    </tr>\n",
       "    <tr>\n",
       "      <th>8</th>\n",
       "      <td>8</td>\n",
       "      <td>fantasy</td>\n",
       "    </tr>\n",
       "    <tr>\n",
       "      <th>9</th>\n",
       "      <td>9</td>\n",
       "      <td>film-Noir</td>\n",
       "    </tr>\n",
       "    <tr>\n",
       "      <th>10</th>\n",
       "      <td>10</td>\n",
       "      <td>history</td>\n",
       "    </tr>\n",
       "    <tr>\n",
       "      <th>11</th>\n",
       "      <td>11</td>\n",
       "      <td>horror</td>\n",
       "    </tr>\n",
       "    <tr>\n",
       "      <th>12</th>\n",
       "      <td>12</td>\n",
       "      <td>music</td>\n",
       "    </tr>\n",
       "    <tr>\n",
       "      <th>13</th>\n",
       "      <td>13</td>\n",
       "      <td>musical</td>\n",
       "    </tr>\n",
       "    <tr>\n",
       "      <th>14</th>\n",
       "      <td>14</td>\n",
       "      <td>mystery</td>\n",
       "    </tr>\n",
       "    <tr>\n",
       "      <th>15</th>\n",
       "      <td>15</td>\n",
       "      <td>romance</td>\n",
       "    </tr>\n",
       "    <tr>\n",
       "      <th>16</th>\n",
       "      <td>16</td>\n",
       "      <td>sci-Fi</td>\n",
       "    </tr>\n",
       "    <tr>\n",
       "      <th>17</th>\n",
       "      <td>17</td>\n",
       "      <td>sport</td>\n",
       "    </tr>\n",
       "    <tr>\n",
       "      <th>18</th>\n",
       "      <td>18</td>\n",
       "      <td>thriller</td>\n",
       "    </tr>\n",
       "    <tr>\n",
       "      <th>19</th>\n",
       "      <td>19</td>\n",
       "      <td>war</td>\n",
       "    </tr>\n",
       "    <tr>\n",
       "      <th>20</th>\n",
       "      <td>20</td>\n",
       "      <td>western</td>\n",
       "    </tr>\n",
       "  </tbody>\n",
       "</table>\n",
       "</div>"
      ],
      "text/plain": [
       "    Mã số   Thể loại\n",
       "0       0     action\n",
       "1       1  adventure\n",
       "2       2  animation\n",
       "3       3  biography\n",
       "4       4     comedy\n",
       "5       5      crime\n",
       "6       6      drama\n",
       "7       7     family\n",
       "8       8    fantasy\n",
       "9       9  film-Noir\n",
       "10     10    history\n",
       "11     11     horror\n",
       "12     12      music\n",
       "13     13    musical\n",
       "14     14    mystery\n",
       "15     15    romance\n",
       "16     16     sci-Fi\n",
       "17     17      sport\n",
       "18     18   thriller\n",
       "19     19        war\n",
       "20     20    western"
      ]
     },
     "execution_count": 6,
     "metadata": {
      "tags": []
     },
     "output_type": "execute_result"
    }
   ],
   "source": [
    "#người dùng nhập 1 thể loại yêu thích\n",
    "df2 = pandas.DataFrame()\n",
    "df2['Mã số']=range(21)\n",
    "df2['Thể loại']= genres\n",
    "df2"
   ]
  },
  {
   "cell_type": "code",
   "execution_count": 8,
   "metadata": {
    "colab": {
     "base_uri": "https://localhost:8080/",
     "height": 193
    },
    "colab_type": "code",
    "executionInfo": {
     "elapsed": 4588,
     "status": "ok",
     "timestamp": 1578403916788,
     "user": {
      "displayName": "Nga Nguyễn",
      "photoUrl": "https://lh3.googleusercontent.com/a-/AAuE7mAd-lF2yvaMvIbIfICweI8hLNkoFO4krpgmEA1OYQ=s64",
      "userId": "03741069878920547787"
     },
     "user_tz": -420
    },
    "id": "on8AaQgoK81S",
    "outputId": "266bdd38-56cf-4c75-b8e2-368f762f4115"
   },
   "outputs": [
    {
     "name": "stdout",
     "output_type": "stream",
     "text": [
      "Nhập mã số thể loại phim bạn thích:18\n",
      "Thể loại yêu thích của bạn là: thriller\n",
      "3 phim cho bạn là\n"
     ]
    },
    {
     "data": {
      "text/html": [
       "<div>\n",
       "<style scoped>\n",
       "    .dataframe tbody tr th:only-of-type {\n",
       "        vertical-align: middle;\n",
       "    }\n",
       "\n",
       "    .dataframe tbody tr th {\n",
       "        vertical-align: top;\n",
       "    }\n",
       "\n",
       "    .dataframe thead th {\n",
       "        text-align: right;\n",
       "    }\n",
       "</style>\n",
       "<table border=\"1\" class=\"dataframe\">\n",
       "  <thead>\n",
       "    <tr style=\"text-align: right;\">\n",
       "      <th></th>\n",
       "      <th>movie</th>\n",
       "      <th>genre</th>\n",
       "      <th>year</th>\n",
       "    </tr>\n",
       "  </thead>\n",
       "  <tbody>\n",
       "    <tr>\n",
       "      <th>939</th>\n",
       "      <td>Chinatown</td>\n",
       "      <td>thriller</td>\n",
       "      <td>(1974)</td>\n",
       "    </tr>\n",
       "    <tr>\n",
       "      <th>943</th>\n",
       "      <td>Knives Out</td>\n",
       "      <td>thriller</td>\n",
       "      <td>(2019)</td>\n",
       "    </tr>\n",
       "    <tr>\n",
       "      <th>922</th>\n",
       "      <td>Das Boot</td>\n",
       "      <td>thriller</td>\n",
       "      <td>(1981)</td>\n",
       "    </tr>\n",
       "  </tbody>\n",
       "</table>\n",
       "</div>"
      ],
      "text/plain": [
       "          movie     genre    year\n",
       "939   Chinatown  thriller  (1974)\n",
       "943  Knives Out  thriller  (2019)\n",
       "922    Das Boot  thriller  (1981)"
      ]
     },
     "execution_count": 8,
     "metadata": {
      "tags": []
     },
     "output_type": "execute_result"
    }
   ],
   "source": [
    "#nhập thể loại yêu thích\n",
    "while True:\n",
    "    phim = int(input('Nhập mã số thể loại phim bạn thích:'))\n",
    "    if phim not in range (20):\n",
    "        print(\"Bãn đã nhập sai mã số. Hãy thử lại.\")\n",
    "    else:\n",
    "        break\n",
    "\n",
    "#xác nhận tên thể loại và giới thiệu 3 phim ngẫu nhiên\n",
    "ten_theloai = df2.iat[phim, 1]\n",
    "print('Thể loại yêu thích của bạn là: {}'.format(ten_theloai))\n",
    "df3= df.loc[df['genre'] == ten_theloai]\n",
    "print('3 phim cho bạn là')\n",
    "(df3.sample(3))"
   ]
  },
  {
   "cell_type": "code",
   "execution_count": 0,
   "metadata": {
    "colab": {},
    "colab_type": "code",
    "id": "BzfEznjRK81d"
   },
   "outputs": [],
   "source": []
  }
 ],
 "metadata": {
  "colab": {
   "name": "Project - Nga.ipynb",
   "provenance": []
  },
  "kernelspec": {
   "display_name": "Python 3",
   "language": "python",
   "name": "python3"
  },
  "language_info": {
   "codemirror_mode": {
    "name": "ipython",
    "version": 3
   },
   "file_extension": ".py",
   "mimetype": "text/x-python",
   "name": "python",
   "nbconvert_exporter": "python",
   "pygments_lexer": "ipython3",
   "version": "3.7.5"
  },
  "toc": {
   "base_numbering": 1,
   "nav_menu": {},
   "number_sections": true,
   "sideBar": true,
   "skip_h1_title": false,
   "title_cell": "Table of Contents",
   "title_sidebar": "Contents",
   "toc_cell": false,
   "toc_position": {},
   "toc_section_display": true,
   "toc_window_display": false
  }
 },
 "nbformat": 4,
 "nbformat_minor": 1
}
