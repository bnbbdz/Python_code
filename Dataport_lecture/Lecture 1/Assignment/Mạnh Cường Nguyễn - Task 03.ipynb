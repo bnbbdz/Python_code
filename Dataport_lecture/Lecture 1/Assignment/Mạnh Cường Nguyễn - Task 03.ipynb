{
 "cells": [
  {
   "cell_type": "markdown",
   "metadata": {},
   "source": [
    "Given 3 strings below:\n",
    "\n",
    "<i>\n",
    "'nguyen tuan anh DA11 0988444888'\n",
    "\n",
    "'nguyen_dinh_toan Da11 0988444888'\n",
    "\n",
    "'cao van truong_Da11_0988 444 888'\n",
    "</i>\n",
    "\n",
    "Write simple code to get username and phone number and generate outputs with result format below:\n",
    "\n",
    "<center><b>Nguyen Van A 's phone number is 0988444888 </b></center>\n",
    "\n",
    "For example: \n",
    "\n",
    "<b> Input: </b> 'le cong vinh DA11 0988444888' \n",
    "\n",
    "<b>Output: </b> Le Cong Vinh 's phone number is 0988444888\n",
    "\n",
    "\n",
    ".........."
   ]
  },
  {
   "cell_type": "code",
   "execution_count": 2,
   "metadata": {},
   "outputs": [],
   "source": [
    "# Write your code here"
   ]
  },
  {
   "cell_type": "code",
   "execution_count": 1,
   "metadata": {},
   "outputs": [],
   "source": [
    "a = 'nguyen tuan anh DA11 0988444888'\n",
    "b = 'nguyen_dinh_toan Da11 0988444888'\n",
    "c = 'cao van truong_Da11_0988 444 888'"
   ]
  },
  {
   "cell_type": "code",
   "execution_count": 19,
   "metadata": {},
   "outputs": [
    {
     "name": "stdout",
     "output_type": "stream",
     "text": [
      "Nguyen Tuan Anh 's phone number is 0988444888\n"
     ]
    }
   ],
   "source": [
    "print(a[:a.lower().find('da11')].title().strip(),'\\'s phone number is', a[a.lower().find('da11') + 5:].strip())"
   ]
  },
  {
   "cell_type": "code",
   "execution_count": 25,
   "metadata": {},
   "outputs": [
    {
     "name": "stdout",
     "output_type": "stream",
     "text": [
      "Nguyen Dinh Toan 's phone number is 0988444888\n"
     ]
    }
   ],
   "source": [
    "print(b[:b.lower().find('da11')].strip().title().replace('_',' '),'\\'s phone number is', b[b.lower().find('da11') + 5:].strip())"
   ]
  },
  {
   "cell_type": "code",
   "execution_count": 29,
   "metadata": {},
   "outputs": [
    {
     "name": "stdout",
     "output_type": "stream",
     "text": [
      "Cao Van Truong 's phone number is 0988444888\n"
     ]
    }
   ],
   "source": [
    "print(c[:c.lower().find('da11')-1].title().replace('_',' ').strip('_'),'\\'s phone number is', c[c.lower().find('da11') + 5:].strip().replace(' ',''))"
   ]
  },
  {
   "cell_type": "code",
   "execution_count": null,
   "metadata": {},
   "outputs": [],
   "source": []
  }
 ],
 "metadata": {
  "kernelspec": {
   "display_name": "Python 3",
   "language": "python",
   "name": "python3"
  },
  "language_info": {
   "codemirror_mode": {
    "name": "ipython",
    "version": 3
   },
   "file_extension": ".py",
   "mimetype": "text/x-python",
   "name": "python",
   "nbconvert_exporter": "python",
   "pygments_lexer": "ipython3",
   "version": "3.7.1"
  },
  "toc": {
   "base_numbering": 1,
   "nav_menu": {},
   "number_sections": true,
   "sideBar": true,
   "skip_h1_title": false,
   "title_cell": "Table of Contents",
   "title_sidebar": "Contents",
   "toc_cell": false,
   "toc_position": {},
   "toc_section_display": true,
   "toc_window_display": false
  }
 },
 "nbformat": 4,
 "nbformat_minor": 2
}
