{
 "cells": [
  {
   "cell_type": "markdown",
   "metadata": {},
   "source": [
    "## Task 2\n",
    "\n",
    "Given a, b, c solve this equation for x: \n",
    "$$ax^2 + bx + c = 0$$\n",
    "\n",
    "Note: To calculate the square root of x:\n",
    "use math.sqrt(x) in math module"
   ]
  },
  {
   "cell_type": "code",
   "execution_count": 2,
   "metadata": {},
   "outputs": [],
   "source": [
    "# import math module\n",
    "import math\n",
    "\n",
    "#input\n",
    "a = 2\n",
    "b = 6\n",
    "c = -4\n",
    "\n",
    "#start your code here\n"
   ]
  },
  {
   "cell_type": "code",
   "execution_count": 1,
   "metadata": {},
   "outputs": [],
   "source": [
    "import math as m"
   ]
  },
  {
   "cell_type": "code",
   "execution_count": 2,
   "metadata": {},
   "outputs": [],
   "source": [
    "a = 2\n",
    "b = 6\n",
    "c = -4"
   ]
  },
  {
   "cell_type": "code",
   "execution_count": 16,
   "metadata": {},
   "outputs": [],
   "source": [
    "d = b**2-4*a*c"
   ]
  },
  {
   "cell_type": "code",
   "execution_count": 23,
   "metadata": {},
   "outputs": [
    {
     "name": "stdout",
     "output_type": "stream",
     "text": [
      "Phương trình có 2 nghiệm: \n",
      " x1 =  0.5615528128088303 \n",
      " x2 =  -3.5615528128088303\n"
     ]
    }
   ],
   "source": [
    "x = 0\n",
    "x1 = 0\n",
    "x2 = 0\n",
    "if d < 0 :\n",
    "    print('Phương trình vô nghiệm')\n",
    "elif d == 0 :\n",
    "    x = -b/(2*a)\n",
    "    print('Phương trình có nghiệm kép x = ', x )\n",
    "else :\n",
    "    x1 = (-b + m.sqrt(d))/(2*a)\n",
    "    x2 = (-b - m.sqrt(d))/(2*a)\n",
    "    print('Phương trình có 2 nghiệm: \\n','x1 = ', x1 ,'\\n','x2 = ',x2)"
   ]
  },
  {
   "cell_type": "code",
   "execution_count": null,
   "metadata": {},
   "outputs": [],
   "source": []
  }
 ],
 "metadata": {
  "kernelspec": {
   "display_name": "Python 3",
   "language": "python",
   "name": "python3"
  },
  "language_info": {
   "codemirror_mode": {
    "name": "ipython",
    "version": 3
   },
   "file_extension": ".py",
   "mimetype": "text/x-python",
   "name": "python",
   "nbconvert_exporter": "python",
   "pygments_lexer": "ipython3",
   "version": "3.7.1"
  },
  "toc": {
   "base_numbering": 1,
   "nav_menu": {},
   "number_sections": true,
   "sideBar": true,
   "skip_h1_title": false,
   "title_cell": "Table of Contents",
   "title_sidebar": "Contents",
   "toc_cell": false,
   "toc_position": {},
   "toc_section_display": true,
   "toc_window_display": false
  }
 },
 "nbformat": 4,
 "nbformat_minor": 2
}
