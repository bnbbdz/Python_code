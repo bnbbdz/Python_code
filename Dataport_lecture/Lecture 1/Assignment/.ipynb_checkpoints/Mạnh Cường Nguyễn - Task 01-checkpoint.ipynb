{
 "cells": [
  {
   "cell_type": "markdown",
   "metadata": {},
   "source": [
    "## Task 1:\n",
    "\n",
    "Write simple code to input a, b, c then solve this equation for x:  $$ ax + b = c$$"
   ]
  },
  {
   "cell_type": "code",
   "execution_count": 1,
   "metadata": {},
   "outputs": [
    {
     "name": "stdout",
     "output_type": "stream",
     "text": [
      "tính giá trị của x, biết: ax + b = c\n",
      "Nhập số a:2\n",
      "Nhập số b:4\n",
      "Nhập số c:8\n",
      "giá trị của x là: 2.0\n"
     ]
    }
   ],
   "source": [
    "print('tính giá trị của x, biết: ax + b = c')\n",
    "a = float(input('Nhập số a:'))\n",
    "b = float(input('Nhập số b:'))\n",
    "c = float(input('Nhập số c:'))\n",
    "x = (c-b)/a\n",
    "print('giá trị của x là:',x)"
   ]
  },
  {
   "cell_type": "code",
   "execution_count": null,
   "metadata": {},
   "outputs": [],
   "source": []
  }
 ],
 "metadata": {
  "kernelspec": {
   "display_name": "Python 3",
   "language": "python",
   "name": "python3"
  },
  "language_info": {
   "codemirror_mode": {
    "name": "ipython",
    "version": 3
   },
   "file_extension": ".py",
   "mimetype": "text/x-python",
   "name": "python",
   "nbconvert_exporter": "python",
   "pygments_lexer": "ipython3",
   "version": "3.7.1"
  },
  "toc": {
   "base_numbering": 1,
   "nav_menu": {},
   "number_sections": true,
   "sideBar": true,
   "skip_h1_title": false,
   "title_cell": "Table of Contents",
   "title_sidebar": "Contents",
   "toc_cell": false,
   "toc_position": {},
   "toc_section_display": true,
   "toc_window_display": false
  }
 },
 "nbformat": 4,
 "nbformat_minor": 2
}
