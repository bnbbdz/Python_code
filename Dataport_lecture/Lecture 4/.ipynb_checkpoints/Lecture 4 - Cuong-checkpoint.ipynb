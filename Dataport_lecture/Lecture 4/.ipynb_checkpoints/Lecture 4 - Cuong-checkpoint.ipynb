{
 "cells": [
  {
   "cell_type": "code",
   "execution_count": null,
   "metadata": {},
   "outputs": [],
   "source": [
    "#inspect(f12)\n",
    "#pandas data frame\n",
    "# Xử lý lỗi SSL\n",
    "\n",
    "# from urllib import request\n",
    "# import ssl\n",
    "# import pandas as pd\n",
    "\n",
    "\n",
    "# url=\"https://portal.vietcombank.com.vn/UserControls/TVPortal.TyGia/pListTyGia.aspx?txttungay=09/12/2019&BacrhID=1&isEn=True\"\n",
    "# context = ssl._create_unverified_context()\n",
    "# response = request.urlopen(url, context=context)\n",
    "# html = response.read()\n",
    "\n",
    "# df = pd.read_html(html)"
   ]
  },
  {
   "cell_type": "code",
   "execution_count": 2,
   "metadata": {},
   "outputs": [],
   "source": [
    "import pandas as pd\n",
    "from datetime import datetime,date,time,timedelta"
   ]
  },
  {
   "cell_type": "code",
   "execution_count": 3,
   "metadata": {},
   "outputs": [
    {
     "data": {
      "text/plain": [
       "[             Currency               Buying Rates           Selling Rates\n",
       "         Currency Name Currency Code         Cash  Transfer Selling Rates\n",
       " 0         AUST.DOLLAR           AUD     15775.83  15876.21      16171.55\n",
       " 1     CANADIAN DOLLAR           CAD     17284.88  17447.08      17769.13\n",
       " 2        SWISS FRANCE           CHF     23156.62  23325.04      23747.06\n",
       " 3        DANISH KRONE           DKK            -   3413.84       3520.85\n",
       " 4                EURO           EUR     25656.53  25738.81      26537.46\n",
       " 5       BRITISH POUND           GBP     30868.17  31090.95      31392.92\n",
       " 6     HONGKONG DOLLAR           HKD      2922.18   2942.81       2994.94\n",
       " 7        INDIAN RUPEE           INR            -    327.58        340.43\n",
       " 8        JAPANESE YEN           JPY       201.48    208.07        214.68\n",
       " 9    SOUTH KOREAN WON           KRW        18.06     19.02         21.06\n",
       " 10      KUWAITI DINAR           KWD            -  76107.25      79093.60\n",
       " 11  MALAYSIAN RINGGIT           MYR            -   5562.18       5634.19\n",
       " 12   NORWEGIAN KRONER           NOK            -   2524.20       2603.32\n",
       " 13      RUSSIAN RUBLE           RUB            -    368.53        410.65\n",
       " 14      SWEDISH KRONA           SEK            -   2448.79       2510.44\n",
       " 15   SINGAPORE DOLLAR           SGD     16900.64  17024.95      17236.13\n",
       " 16          THAI BAHT           THB       752.85    752.85        784.25\n",
       " 17          US DOLLAR           USD     23080.00  23110.00      23230.00]"
      ]
     },
     "execution_count": 3,
     "metadata": {},
     "output_type": "execute_result"
    }
   ],
   "source": [
    "url = pd.read_html('https://portal.vietcombank.com.vn/UserControls/TVPortal.TyGia/pListTyGia.aspx?txttungay=15/12/2019&BacrhID=1&isEn=True')\n",
    "url"
   ]
  },
  {
   "cell_type": "code",
   "execution_count": 12,
   "metadata": {},
   "outputs": [],
   "source": [
    "link = 'https://portal.vietcombank.com.vn/UserControls/TVPortal.TyGia/pListTyGia.aspx?txttungay=15/12/2019&BacrhID=1&isEn=True'\n",
    "dataframe = pd.read_html(link)\n",
    "new_dataframe = dataframe[0]"
   ]
  },
  {
   "cell_type": "code",
   "execution_count": 3,
   "metadata": {},
   "outputs": [],
   "source": [
    "import pandas as pd\n",
    "from datetime import datetime,date,time,timedelta\n",
    "import numpy as np"
   ]
  },
  {
   "cell_type": "code",
   "execution_count": 4,
   "metadata": {},
   "outputs": [],
   "source": [
    "ngay_bat_dau = date(2019,12,1)\n",
    "while ngay_bat_dau < date.today() :\n",
    "    ngay = ngay_bat_dau.strftime(\"%d/%m/%Y\")\n",
    "    link = 'https://portal.vietcombank.com.vn/UserControls/TVPortal.TyGia/pListTyGia.aspx?txttungay={}&BacrhID=1&isEn=True'.format(ngay)\n",
    "    data_frame = pd.read_html(link)[0]\n",
    "    data_frame['Date'] = ngay\n",
    "    data_frame.to_excel(r'D:\\Ty gia VCB\\Ty gia ngay {}.xlsx'.format(ngay_bat_dau.strftime('%d_%m_%Y')))\n",
    "    ngay_bat_dau = ngay_bat_dau + timedelta(days=1)\n",
    "    "
   ]
  },
  {
   "cell_type": "code",
   "execution_count": 6,
   "metadata": {},
   "outputs": [],
   "source": [
    "Ty_gia_1 = pd.read_excel(r'D:\\Ty gia VCB\\Ty gia ngay 01_12_2019.xlsx')\n",
    "Ty_gia_2 = pd.read_excel(r'D:\\Ty gia VCB\\Ty gia ngay 02_12_2019.xlsx')\n",
    "Ty_gia_3 = pd.read_excel(r'D:\\Ty gia VCB\\Ty gia ngay 03_12_2019.xlsx')\n",
    "Ty_gia_4 = pd.read_excel(r'D:\\Ty gia VCB\\Ty gia ngay 04_12_2019.xlsx')\n",
    "Ty_gia_5 = pd.read_excel(r'D:\\Ty gia VCB\\Ty gia ngay 05_12_2019.xlsx')\n",
    "Ty_gia_6 = pd.read_excel(r'D:\\Ty gia VCB\\Ty gia ngay 06_12_2019.xlsx')\n",
    "Ty_gia_concat = pd.concat([Ty_gia_1, Ty_gia_2, Ty_gia_3, Ty_gia_4, Ty_gia_5])"
   ]
  },
  {
   "cell_type": "code",
   "execution_count": 27,
   "metadata": {},
   "outputs": [],
   "source": [
    "ngay_bat_dau = date(2019,12,1)\n",
    "data = []\n",
    "while ngay_bat_dau < date.today() :\n",
    "    ngay = ngay_bat_dau.strftime(\"%d/%m/%Y\")\n",
    "    link = 'https://portal.vietcombank.com.vn/UserControls/TVPortal.TyGia/pListTyGia.aspx?txttungay={}&BacrhID=1&isEn=True'.format(ngay)\n",
    "    data_frame = pd.read_html(link)[0]\n",
    "    data_frame['Date'] = ngay\n",
    "    data.append(data_frame)\n",
    "    ngay_bat_dau = ngay_bat_dau + timedelta(days=1)\n",
    "data_concat = pd.concat(data)\n",
    "#new_name = {'Currency Name':'Currency Name','Currency Code':'Currency Code','Cash':'Cash Rates','Transfer':'Selling Rates','Date':'Date'}\n",
    "data_concat.columns = ['Currency Name','Currency Code','Cash Rates','Transfer Rates','Selling Rates','Date']"
   ]
  },
  {
   "cell_type": "code",
   "execution_count": 29,
   "metadata": {},
   "outputs": [
    {
     "data": {
      "text/html": [
       "<div>\n",
       "<style scoped>\n",
       "    .dataframe tbody tr th:only-of-type {\n",
       "        vertical-align: middle;\n",
       "    }\n",
       "\n",
       "    .dataframe tbody tr th {\n",
       "        vertical-align: top;\n",
       "    }\n",
       "\n",
       "    .dataframe thead th {\n",
       "        text-align: right;\n",
       "    }\n",
       "</style>\n",
       "<table border=\"1\" class=\"dataframe\">\n",
       "  <thead>\n",
       "    <tr style=\"text-align: right;\">\n",
       "      <th></th>\n",
       "      <th>Currency Name</th>\n",
       "      <th>Currency Code</th>\n",
       "      <th>Cash Rates</th>\n",
       "      <th>Transfer Rates</th>\n",
       "      <th>Selling Rates</th>\n",
       "      <th>Date</th>\n",
       "    </tr>\n",
       "  </thead>\n",
       "  <tbody>\n",
       "    <tr>\n",
       "      <th>0</th>\n",
       "      <td>AUST.DOLLAR</td>\n",
       "      <td>AUD</td>\n",
       "      <td>15450.15</td>\n",
       "      <td>15548.56</td>\n",
       "      <td>15838.32</td>\n",
       "      <td>01/12/2019</td>\n",
       "    </tr>\n",
       "    <tr>\n",
       "      <th>1</th>\n",
       "      <td>CANADIAN DOLLAR</td>\n",
       "      <td>CAD</td>\n",
       "      <td>17121.41</td>\n",
       "      <td>17282.13</td>\n",
       "      <td>17601.37</td>\n",
       "      <td>01/12/2019</td>\n",
       "    </tr>\n",
       "    <tr>\n",
       "      <th>2</th>\n",
       "      <td>SWISS FRANCE</td>\n",
       "      <td>CHF</td>\n",
       "      <td>22841.72</td>\n",
       "      <td>23007.92</td>\n",
       "      <td>23424.53</td>\n",
       "      <td>01/12/2019</td>\n",
       "    </tr>\n",
       "    <tr>\n",
       "      <th>3</th>\n",
       "      <td>DANISH KRONE</td>\n",
       "      <td>DKK</td>\n",
       "      <td>-</td>\n",
       "      <td>3364.90</td>\n",
       "      <td>3470.37</td>\n",
       "      <td>01/12/2019</td>\n",
       "    </tr>\n",
       "    <tr>\n",
       "      <th>4</th>\n",
       "      <td>EURO</td>\n",
       "      <td>EUR</td>\n",
       "      <td>25286.94</td>\n",
       "      <td>25368.10</td>\n",
       "      <td>26155.60</td>\n",
       "      <td>01/12/2019</td>\n",
       "    </tr>\n",
       "  </tbody>\n",
       "</table>\n",
       "</div>"
      ],
      "text/plain": [
       "     Currency Name Currency Code Cash Rates  Transfer Rates  Selling Rates  \\\n",
       "0      AUST.DOLLAR           AUD   15450.15        15548.56       15838.32   \n",
       "1  CANADIAN DOLLAR           CAD   17121.41        17282.13       17601.37   \n",
       "2     SWISS FRANCE           CHF   22841.72        23007.92       23424.53   \n",
       "3     DANISH KRONE           DKK          -         3364.90        3470.37   \n",
       "4             EURO           EUR   25286.94        25368.10       26155.60   \n",
       "\n",
       "         Date  \n",
       "0  01/12/2019  \n",
       "1  01/12/2019  \n",
       "2  01/12/2019  \n",
       "3  01/12/2019  \n",
       "4  01/12/2019  "
      ]
     },
     "execution_count": 29,
     "metadata": {},
     "output_type": "execute_result"
    }
   ],
   "source": [
    "data_concat.head()\n",
    "# data_concat.to_excel(r'D:\\Ty gia VCB\\Ty gia concat.xlsx')"
   ]
  },
  {
   "cell_type": "code",
   "execution_count": 38,
   "metadata": {},
   "outputs": [
    {
     "data": {
      "text/plain": [
       "Currency Name             object\n",
       "Currency Code             object\n",
       "Cash Rates               float64\n",
       "Transfer Rates           float64\n",
       "Selling Rates            float64\n",
       "Date              datetime64[ns]\n",
       "dtype: object"
      ]
     },
     "execution_count": 38,
     "metadata": {},
     "output_type": "execute_result"
    }
   ],
   "source": [
    "data_concat.dtypes"
   ]
  },
  {
   "cell_type": "code",
   "execution_count": 39,
   "metadata": {},
   "outputs": [],
   "source": [
    "data_concat['Cash Rates'] = pd.to_numeric(data_concat['Cash Rates'],errors='coerce')\n",
    "data_concat['Transfer Rates'] = pd.to_numeric(data_concat['Transfer Rates'],errors='coerce')\n",
    "data_concat['Selling Rates'] = pd.to_numeric(data_concat['Selling Rates'],errors='coerce')\n",
    "data_concat['Date'] = data_concat['Date'].astype('datetime64[ns]')"
   ]
  },
  {
   "cell_type": "code",
   "execution_count": 57,
   "metadata": {},
   "outputs": [],
   "source": [
    "data_USD = data_concat[data_concat['Currency Code'] == 'USD']\n",
    "#data_USD = data_concat[(data_concat['Currency Code'] == 'USD') | (data_concat['Currency Code'] == 'AUD')]"
   ]
  },
  {
   "cell_type": "code",
   "execution_count": 56,
   "metadata": {},
   "outputs": [
    {
     "data": {
      "text/html": [
       "<div>\n",
       "<style scoped>\n",
       "    .dataframe tbody tr th:only-of-type {\n",
       "        vertical-align: middle;\n",
       "    }\n",
       "\n",
       "    .dataframe tbody tr th {\n",
       "        vertical-align: top;\n",
       "    }\n",
       "\n",
       "    .dataframe thead th {\n",
       "        text-align: right;\n",
       "    }\n",
       "</style>\n",
       "<table border=\"1\" class=\"dataframe\">\n",
       "  <thead>\n",
       "    <tr style=\"text-align: right;\">\n",
       "      <th></th>\n",
       "      <th>Currency Name</th>\n",
       "      <th>Currency Code</th>\n",
       "      <th>Cash Rates</th>\n",
       "      <th>Transfer Rates</th>\n",
       "      <th>Selling Rates</th>\n",
       "      <th>Date</th>\n",
       "    </tr>\n",
       "  </thead>\n",
       "  <tbody>\n",
       "    <tr>\n",
       "      <th>17</th>\n",
       "      <td>US DOLLAR</td>\n",
       "      <td>USD</td>\n",
       "      <td>23095.0</td>\n",
       "      <td>23125.0</td>\n",
       "      <td>23245.0</td>\n",
       "      <td>2019-01-12</td>\n",
       "    </tr>\n",
       "    <tr>\n",
       "      <th>17</th>\n",
       "      <td>US DOLLAR</td>\n",
       "      <td>USD</td>\n",
       "      <td>23090.0</td>\n",
       "      <td>23120.0</td>\n",
       "      <td>23240.0</td>\n",
       "      <td>2019-02-12</td>\n",
       "    </tr>\n",
       "    <tr>\n",
       "      <th>17</th>\n",
       "      <td>US DOLLAR</td>\n",
       "      <td>USD</td>\n",
       "      <td>23090.0</td>\n",
       "      <td>23120.0</td>\n",
       "      <td>23240.0</td>\n",
       "      <td>2019-03-12</td>\n",
       "    </tr>\n",
       "    <tr>\n",
       "      <th>17</th>\n",
       "      <td>US DOLLAR</td>\n",
       "      <td>USD</td>\n",
       "      <td>23090.0</td>\n",
       "      <td>23120.0</td>\n",
       "      <td>23240.0</td>\n",
       "      <td>2019-04-12</td>\n",
       "    </tr>\n",
       "    <tr>\n",
       "      <th>17</th>\n",
       "      <td>US DOLLAR</td>\n",
       "      <td>USD</td>\n",
       "      <td>23090.0</td>\n",
       "      <td>23120.0</td>\n",
       "      <td>23240.0</td>\n",
       "      <td>2019-05-12</td>\n",
       "    </tr>\n",
       "    <tr>\n",
       "      <th>17</th>\n",
       "      <td>US DOLLAR</td>\n",
       "      <td>USD</td>\n",
       "      <td>23090.0</td>\n",
       "      <td>23120.0</td>\n",
       "      <td>23240.0</td>\n",
       "      <td>2019-06-12</td>\n",
       "    </tr>\n",
       "    <tr>\n",
       "      <th>17</th>\n",
       "      <td>US DOLLAR</td>\n",
       "      <td>USD</td>\n",
       "      <td>23090.0</td>\n",
       "      <td>23120.0</td>\n",
       "      <td>23240.0</td>\n",
       "      <td>2019-07-12</td>\n",
       "    </tr>\n",
       "    <tr>\n",
       "      <th>17</th>\n",
       "      <td>US DOLLAR</td>\n",
       "      <td>USD</td>\n",
       "      <td>23090.0</td>\n",
       "      <td>23120.0</td>\n",
       "      <td>23240.0</td>\n",
       "      <td>2019-08-12</td>\n",
       "    </tr>\n",
       "    <tr>\n",
       "      <th>17</th>\n",
       "      <td>US DOLLAR</td>\n",
       "      <td>USD</td>\n",
       "      <td>23090.0</td>\n",
       "      <td>23120.0</td>\n",
       "      <td>23240.0</td>\n",
       "      <td>2019-09-12</td>\n",
       "    </tr>\n",
       "    <tr>\n",
       "      <th>17</th>\n",
       "      <td>US DOLLAR</td>\n",
       "      <td>USD</td>\n",
       "      <td>23090.0</td>\n",
       "      <td>23120.0</td>\n",
       "      <td>23240.0</td>\n",
       "      <td>2019-10-12</td>\n",
       "    </tr>\n",
       "    <tr>\n",
       "      <th>17</th>\n",
       "      <td>US DOLLAR</td>\n",
       "      <td>USD</td>\n",
       "      <td>23090.0</td>\n",
       "      <td>23120.0</td>\n",
       "      <td>23240.0</td>\n",
       "      <td>2019-11-12</td>\n",
       "    </tr>\n",
       "    <tr>\n",
       "      <th>17</th>\n",
       "      <td>US DOLLAR</td>\n",
       "      <td>USD</td>\n",
       "      <td>23080.0</td>\n",
       "      <td>23110.0</td>\n",
       "      <td>23230.0</td>\n",
       "      <td>2019-12-12</td>\n",
       "    </tr>\n",
       "    <tr>\n",
       "      <th>17</th>\n",
       "      <td>US DOLLAR</td>\n",
       "      <td>USD</td>\n",
       "      <td>23080.0</td>\n",
       "      <td>23110.0</td>\n",
       "      <td>23230.0</td>\n",
       "      <td>2019-12-13</td>\n",
       "    </tr>\n",
       "    <tr>\n",
       "      <th>17</th>\n",
       "      <td>US DOLLAR</td>\n",
       "      <td>USD</td>\n",
       "      <td>23080.0</td>\n",
       "      <td>23110.0</td>\n",
       "      <td>23230.0</td>\n",
       "      <td>2019-12-14</td>\n",
       "    </tr>\n",
       "    <tr>\n",
       "      <th>17</th>\n",
       "      <td>US DOLLAR</td>\n",
       "      <td>USD</td>\n",
       "      <td>23080.0</td>\n",
       "      <td>23110.0</td>\n",
       "      <td>23230.0</td>\n",
       "      <td>2019-12-15</td>\n",
       "    </tr>\n",
       "    <tr>\n",
       "      <th>17</th>\n",
       "      <td>US DOLLAR</td>\n",
       "      <td>USD</td>\n",
       "      <td>23085.0</td>\n",
       "      <td>23115.0</td>\n",
       "      <td>23235.0</td>\n",
       "      <td>2019-12-16</td>\n",
       "    </tr>\n",
       "    <tr>\n",
       "      <th>17</th>\n",
       "      <td>US DOLLAR</td>\n",
       "      <td>USD</td>\n",
       "      <td>23080.0</td>\n",
       "      <td>23110.0</td>\n",
       "      <td>23230.0</td>\n",
       "      <td>2019-12-17</td>\n",
       "    </tr>\n",
       "    <tr>\n",
       "      <th>17</th>\n",
       "      <td>US DOLLAR</td>\n",
       "      <td>USD</td>\n",
       "      <td>23080.0</td>\n",
       "      <td>23110.0</td>\n",
       "      <td>23230.0</td>\n",
       "      <td>2019-12-18</td>\n",
       "    </tr>\n",
       "  </tbody>\n",
       "</table>\n",
       "</div>"
      ],
      "text/plain": [
       "   Currency Name Currency Code  Cash Rates  Transfer Rates  Selling Rates  \\\n",
       "17     US DOLLAR           USD     23095.0         23125.0        23245.0   \n",
       "17     US DOLLAR           USD     23090.0         23120.0        23240.0   \n",
       "17     US DOLLAR           USD     23090.0         23120.0        23240.0   \n",
       "17     US DOLLAR           USD     23090.0         23120.0        23240.0   \n",
       "17     US DOLLAR           USD     23090.0         23120.0        23240.0   \n",
       "17     US DOLLAR           USD     23090.0         23120.0        23240.0   \n",
       "17     US DOLLAR           USD     23090.0         23120.0        23240.0   \n",
       "17     US DOLLAR           USD     23090.0         23120.0        23240.0   \n",
       "17     US DOLLAR           USD     23090.0         23120.0        23240.0   \n",
       "17     US DOLLAR           USD     23090.0         23120.0        23240.0   \n",
       "17     US DOLLAR           USD     23090.0         23120.0        23240.0   \n",
       "17     US DOLLAR           USD     23080.0         23110.0        23230.0   \n",
       "17     US DOLLAR           USD     23080.0         23110.0        23230.0   \n",
       "17     US DOLLAR           USD     23080.0         23110.0        23230.0   \n",
       "17     US DOLLAR           USD     23080.0         23110.0        23230.0   \n",
       "17     US DOLLAR           USD     23085.0         23115.0        23235.0   \n",
       "17     US DOLLAR           USD     23080.0         23110.0        23230.0   \n",
       "17     US DOLLAR           USD     23080.0         23110.0        23230.0   \n",
       "\n",
       "         Date  \n",
       "17 2019-01-12  \n",
       "17 2019-02-12  \n",
       "17 2019-03-12  \n",
       "17 2019-04-12  \n",
       "17 2019-05-12  \n",
       "17 2019-06-12  \n",
       "17 2019-07-12  \n",
       "17 2019-08-12  \n",
       "17 2019-09-12  \n",
       "17 2019-10-12  \n",
       "17 2019-11-12  \n",
       "17 2019-12-12  \n",
       "17 2019-12-13  \n",
       "17 2019-12-14  \n",
       "17 2019-12-15  \n",
       "17 2019-12-16  \n",
       "17 2019-12-17  \n",
       "17 2019-12-18  "
      ]
     },
     "execution_count": 56,
     "metadata": {},
     "output_type": "execute_result"
    }
   ],
   "source": [
    "data_USD"
   ]
  },
  {
   "cell_type": "code",
   "execution_count": 75,
   "metadata": {},
   "outputs": [],
   "source": [
    "from pylab import *\n",
    "%matplotlib inline\n"
   ]
  },
  {
   "cell_type": "code",
   "execution_count": 77,
   "metadata": {},
   "outputs": [
    {
     "data": {
      "image/png": "[encoded data removed]",
      "text/plain": [
       "<Figure size 432x288 with 1 Axes>"
      ]
     },
     "metadata": {
      "needs_background": "light"
     },
     "output_type": "display_data"
    }
   ],
   "source": [
    "y = data_USD['Selling Rates']\n",
    "x = data_USD['Date']\n",
    "show(plot(x, y))"
   ]
  },
  {
   "cell_type": "code",
   "execution_count": 78,
   "metadata": {},
   "outputs": [
    {
     "data": {
      "text/html": [
       "<div>\n",
       "<style scoped>\n",
       "    .dataframe tbody tr th:only-of-type {\n",
       "        vertical-align: middle;\n",
       "    }\n",
       "\n",
       "    .dataframe tbody tr th {\n",
       "        vertical-align: top;\n",
       "    }\n",
       "\n",
       "    .dataframe thead th {\n",
       "        text-align: right;\n",
       "    }\n",
       "</style>\n",
       "<table border=\"1\" class=\"dataframe\">\n",
       "  <thead>\n",
       "    <tr style=\"text-align: right;\">\n",
       "      <th></th>\n",
       "      <th>Cash Rates</th>\n",
       "      <th>Transfer Rates</th>\n",
       "      <th>Selling Rates</th>\n",
       "    </tr>\n",
       "  </thead>\n",
       "  <tbody>\n",
       "    <tr>\n",
       "      <th>count</th>\n",
       "      <td>18.000000</td>\n",
       "      <td>18.000000</td>\n",
       "      <td>18.000000</td>\n",
       "    </tr>\n",
       "    <tr>\n",
       "      <th>mean</th>\n",
       "      <td>23086.666667</td>\n",
       "      <td>23116.666667</td>\n",
       "      <td>23236.666667</td>\n",
       "    </tr>\n",
       "    <tr>\n",
       "      <th>std</th>\n",
       "      <td>5.144958</td>\n",
       "      <td>5.144958</td>\n",
       "      <td>5.144958</td>\n",
       "    </tr>\n",
       "    <tr>\n",
       "      <th>min</th>\n",
       "      <td>23080.000000</td>\n",
       "      <td>23110.000000</td>\n",
       "      <td>23230.000000</td>\n",
       "    </tr>\n",
       "    <tr>\n",
       "      <th>25%</th>\n",
       "      <td>23080.000000</td>\n",
       "      <td>23110.000000</td>\n",
       "      <td>23230.000000</td>\n",
       "    </tr>\n",
       "    <tr>\n",
       "      <th>50%</th>\n",
       "      <td>23090.000000</td>\n",
       "      <td>23120.000000</td>\n",
       "      <td>23240.000000</td>\n",
       "    </tr>\n",
       "    <tr>\n",
       "      <th>75%</th>\n",
       "      <td>23090.000000</td>\n",
       "      <td>23120.000000</td>\n",
       "      <td>23240.000000</td>\n",
       "    </tr>\n",
       "    <tr>\n",
       "      <th>max</th>\n",
       "      <td>23095.000000</td>\n",
       "      <td>23125.000000</td>\n",
       "      <td>23245.000000</td>\n",
       "    </tr>\n",
       "  </tbody>\n",
       "</table>\n",
       "</div>"
      ],
      "text/plain": [
       "         Cash Rates  Transfer Rates  Selling Rates\n",
       "count     18.000000       18.000000      18.000000\n",
       "mean   23086.666667    23116.666667   23236.666667\n",
       "std        5.144958        5.144958       5.144958\n",
       "min    23080.000000    23110.000000   23230.000000\n",
       "25%    23080.000000    23110.000000   23230.000000\n",
       "50%    23090.000000    23120.000000   23240.000000\n",
       "75%    23090.000000    23120.000000   23240.000000\n",
       "max    23095.000000    23125.000000   23245.000000"
      ]
     },
     "execution_count": 78,
     "metadata": {},
     "output_type": "execute_result"
    }
   ],
   "source": [
    "data_USD.describe()"
   ]
  },
  {
   "cell_type": "code",
   "execution_count": 81,
   "metadata": {},
   "outputs": [
    {
     "data": {
      "text/plain": [
       "[Int64Index([17, 17, 17, 17, 17, 17, 17, 17, 17, 17, 17, 17, 17, 17, 17, 17, 17,\n",
       "             17],\n",
       "            dtype='int64'),\n",
       " Index(['Currency Name', 'Currency Code', 'Cash Rates', 'Transfer Rates',\n",
       "        'Selling Rates', 'Date'],\n",
       "       dtype='object')]"
      ]
     },
     "execution_count": 81,
     "metadata": {},
     "output_type": "execute_result"
    }
   ],
   "source": [
    "data_USD.axes"
   ]
  },
  {
   "cell_type": "code",
   "execution_count": 82,
   "metadata": {},
   "outputs": [
    {
     "data": {
      "text/plain": [
       "2"
      ]
     },
     "execution_count": 82,
     "metadata": {},
     "output_type": "execute_result"
    }
   ],
   "source": [
    "data_USD.ndim"
   ]
  },
  {
   "cell_type": "code",
   "execution_count": 83,
   "metadata": {},
   "outputs": [
    {
     "data": {
      "text/plain": [
       "108"
      ]
     },
     "execution_count": 83,
     "metadata": {},
     "output_type": "execute_result"
    }
   ],
   "source": [
    "data_USD.size"
   ]
  },
  {
   "cell_type": "code",
   "execution_count": 84,
   "metadata": {},
   "outputs": [
    {
     "data": {
      "text/plain": [
       "(18, 6)"
      ]
     },
     "execution_count": 84,
     "metadata": {},
     "output_type": "execute_result"
    }
   ],
   "source": [
    "data_USD.shape"
   ]
  },
  {
   "cell_type": "code",
   "execution_count": 86,
   "metadata": {},
   "outputs": [
    {
     "data": {
      "text/plain": [
       "array([['US DOLLAR', 'USD', 23095.0, 23125.0, 23245.0,\n",
       "        Timestamp('2019-01-12 00:00:00')],\n",
       "       ['US DOLLAR', 'USD', 23090.0, 23120.0, 23240.0,\n",
       "        Timestamp('2019-02-12 00:00:00')],\n",
       "       ['US DOLLAR', 'USD', 23090.0, 23120.0, 23240.0,\n",
       "        Timestamp('2019-03-12 00:00:00')],\n",
       "       ['US DOLLAR', 'USD', 23090.0, 23120.0, 23240.0,\n",
       "        Timestamp('2019-04-12 00:00:00')],\n",
       "       ['US DOLLAR', 'USD', 23090.0, 23120.0, 23240.0,\n",
       "        Timestamp('2019-05-12 00:00:00')],\n",
       "       ['US DOLLAR', 'USD', 23090.0, 23120.0, 23240.0,\n",
       "        Timestamp('2019-06-12 00:00:00')],\n",
       "       ['US DOLLAR', 'USD', 23090.0, 23120.0, 23240.0,\n",
       "        Timestamp('2019-07-12 00:00:00')],\n",
       "       ['US DOLLAR', 'USD', 23090.0, 23120.0, 23240.0,\n",
       "        Timestamp('2019-08-12 00:00:00')],\n",
       "       ['US DOLLAR', 'USD', 23090.0, 23120.0, 23240.0,\n",
       "        Timestamp('2019-09-12 00:00:00')],\n",
       "       ['US DOLLAR', 'USD', 23090.0, 23120.0, 23240.0,\n",
       "        Timestamp('2019-10-12 00:00:00')],\n",
       "       ['US DOLLAR', 'USD', 23090.0, 23120.0, 23240.0,\n",
       "        Timestamp('2019-11-12 00:00:00')],\n",
       "       ['US DOLLAR', 'USD', 23080.0, 23110.0, 23230.0,\n",
       "        Timestamp('2019-12-12 00:00:00')],\n",
       "       ['US DOLLAR', 'USD', 23080.0, 23110.0, 23230.0,\n",
       "        Timestamp('2019-12-13 00:00:00')],\n",
       "       ['US DOLLAR', 'USD', 23080.0, 23110.0, 23230.0,\n",
       "        Timestamp('2019-12-14 00:00:00')],\n",
       "       ['US DOLLAR', 'USD', 23080.0, 23110.0, 23230.0,\n",
       "        Timestamp('2019-12-15 00:00:00')],\n",
       "       ['US DOLLAR', 'USD', 23085.0, 23115.0, 23235.0,\n",
       "        Timestamp('2019-12-16 00:00:00')],\n",
       "       ['US DOLLAR', 'USD', 23080.0, 23110.0, 23230.0,\n",
       "        Timestamp('2019-12-17 00:00:00')],\n",
       "       ['US DOLLAR', 'USD', 23080.0, 23110.0, 23230.0,\n",
       "        Timestamp('2019-12-18 00:00:00')]], dtype=object)"
      ]
     },
     "execution_count": 86,
     "metadata": {},
     "output_type": "execute_result"
    }
   ],
   "source": [
    "data_USD.values"
   ]
  },
  {
   "cell_type": "code",
   "execution_count": null,
   "metadata": {},
   "outputs": [],
   "source": []
  }
 ],
 "metadata": {
  "kernelspec": {
   "display_name": "Python 3",
   "language": "python",
   "name": "python3"
  },
  "language_info": {
   "codemirror_mode": {
    "name": "ipython",
    "version": 3
   },
   "file_extension": ".py",
   "mimetype": "text/x-python",
   "name": "python",
   "nbconvert_exporter": "python",
   "pygments_lexer": "ipython3",
   "version": "3.7.5"
  },
  "toc": {
   "base_numbering": 1,
   "nav_menu": {},
   "number_sections": true,
   "sideBar": true,
   "skip_h1_title": false,
   "title_cell": "Table of Contents",
   "title_sidebar": "Contents",
   "toc_cell": false,
   "toc_position": {},
   "toc_section_display": true,
   "toc_window_display": false
  }
 },
 "nbformat": 4,
 "nbformat_minor": 2
}
