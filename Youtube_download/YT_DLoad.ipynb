{
 "cells": [
  {
   "cell_type": "code",
   "execution_count": 1,
   "metadata": {},
   "outputs": [
    {
     "name": "stdout",
     "output_type": "stream",
     "text": [
      "[youtube] zJXgwQfxR1A: Downloading webpage\n",
      "[youtube] zJXgwQfxR1A: Downloading MPD manifest\n",
      "[download] Destination: VÌ SAO NÊN DẠY TRẺ NẤU ĂN _ Dat Ngo Podcast-zJXgwQfxR1A.mp4\n",
      "[download] 100% of 20.22MiB in 00:01                  \n"
     ]
    }
   ],
   "source": [
    "from __future__ import unicode_literals\n",
    "import youtube_dl\n",
    "\n",
    "link = ['https://www.youtube.com/watch?v=xxpc-HPKN28&list=WL&index=1&t=490s','https://www.youtube.com/watch?v=oQmxQh92Nh8&list=WL&index=2&t=56s','https://www.youtube.com/watch?v=LHBE6Q9XlzI&list=WL&index=3&t=5s','https://www.youtube.com/watch?v=QIUxPv5PJOY&list=WL&index=4','https://www.youtube.com/watch?v=sgFGxQULzp8&list=WL&index=5&t=55s','https://www.youtube.com/watch?v=m2pUda4UcMI&list=WL&index=6&t=12s','https://www.youtube.com/watch?v=sbbYntt5CJk&list=WL&index=7&t=161s','https://www.youtube.com/watch?v=TMmSESkhRtI&list=WL&index=8&t=34s']\n",
    "\n",
    "for i in link:\n",
    "    ydl_opts = {}\n",
    "    with youtube_dl.YoutubeDL(ydl_opts) as ydl :\n",
    "        ydl.download([i])"
   ]
  },
  {
   "cell_type": "code",
   "execution_count": null,
   "metadata": {},
   "outputs": [],
   "source": []
  }
 ],
 "metadata": {
  "kernelspec": {
   "display_name": "Python 3",
   "language": "python",
   "name": "python3"
  },
  "language_info": {
   "codemirror_mode": {
    "name": "ipython",
    "version": 3
   },
   "file_extension": ".py",
   "mimetype": "text/x-python",
   "name": "python",
   "nbconvert_exporter": "python",
   "pygments_lexer": "ipython3",
   "version": "3.8.5"
  },
  "toc": {
   "base_numbering": 1,
   "nav_menu": {},
   "number_sections": true,
   "sideBar": true,
   "skip_h1_title": false,
   "title_cell": "Table of Contents",
   "title_sidebar": "Contents",
   "toc_cell": false,
   "toc_position": {},
   "toc_section_display": true,
   "toc_window_display": false
  }
 },
 "nbformat": 4,
 "nbformat_minor": 2
}
