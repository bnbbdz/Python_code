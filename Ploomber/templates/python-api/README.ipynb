{
 "cells": [
  {
   "cell_type": "markdown",
   "id": "e72d8519",
   "metadata": {
    "papermill": {
     "duration": 0.013016,
     "end_time": "2021-10-28T01:26:45.818146",
     "exception": false,
     "start_time": "2021-10-28T01:26:45.805130",
     "status": "completed"
    },
    "tags": []
   },
   "source": [
    "To run this example locally, [install Ploomber](https://ploomber.readthedocs.io/en/latest/get-started/install.html) and execute: `ploomber examples -n templates/python-api`\n",
    "\n",
    "To start a free, hosted JupyterLab: [![binder-logo](https://mybinder.org/badge_logo.svg)](https://mybinder.org/v2/gh/ploomber/binder-env/main?urlpath=git-pull%3Frepo%3Dhttps%253A%252F%252Fgithub.com%252Fploomber%252Fprojects%26urlpath%3Dlab%252Ftree%252Fprojects%252Ftemplates/python-api%252FREADME.ipynb%26branch%3Dmaster)\n",
    "\n",
    "Found an issue? [Let us know.](https://github.com/ploomber/projects/issues/new?title=templates/python-api%20issue)\n",
    "\n",
    "Have questions? [Ask us anything on Slack.](https://ploomber.io/community/)\n"
   ]
  },
  {
   "cell_type": "markdown",
   "id": "cdb4574e",
   "metadata": {
    "papermill": {
     "duration": 0.012099,
     "end_time": "2021-10-28T01:26:45.843900",
     "exception": false,
     "start_time": "2021-10-28T01:26:45.831801",
     "status": "completed"
    },
    "tags": []
   },
   "source": [
    "# Python API\n",
    "\n",
    "<!-- start description -->\n",
    "Loads, clean, and plot data using the Python API.\n",
    "<!-- end description -->"
   ]
  },
  {
   "cell_type": "markdown",
   "id": "b023aa2e",
   "metadata": {
    "papermill": {
     "duration": 0.013172,
     "end_time": "2021-10-28T01:26:45.868099",
     "exception": false,
     "start_time": "2021-10-28T01:26:45.854927",
     "status": "completed"
    },
    "tags": []
   },
   "source": [
    "If you're new to the Python API, check out [python-api-examples/](../../python-api-examples) directory, containing tutorials and more examples.\n",
    "\n",
    "## Description\n",
    "\n",
    "This pipeline has three tasks:\n",
    "\n",
    "1. Load task (Python function): CSV file\n",
    "2. Clean task (Python script):  Jupyter notebook and another CSV file\n",
    "3. Plot task (Python scripts): Jupyter notebook\n",
    "\n",
    "## Build"
   ]
  },
  {
   "cell_type": "code",
   "execution_count": 1,
   "id": "77605a13",
   "metadata": {
    "execution": {
     "iopub.execute_input": "2021-10-28T01:26:45.903785Z",
     "iopub.status.busy": "2021-10-28T01:26:45.901753Z",
     "iopub.status.idle": "2021-10-28T01:26:59.384853Z",
     "shell.execute_reply": "2021-10-28T01:26:59.385432Z"
    },
    "papermill": {
     "duration": 13.503076,
     "end_time": "2021-10-28T01:26:59.385731",
     "exception": false,
     "start_time": "2021-10-28T01:26:45.882655",
     "status": "completed"
    },
    "tags": []
   },
   "outputs": [
    {
     "name": "stdout",
     "output_type": "stream",
     "text": [
      "name    Ran?      Elapsed (s)    Percentage\n",
      "------  ------  -------------  ------------\n",
      "load    True         0.007744      0.135596\n",
      "clean   True         2.25937      39.5612\n",
      "plot    True         3.44397      60.3032\n"
     ]
    },
    {
     "name": "stderr",
     "output_type": "stream",
     "text": [
      "\r",
      "  0%|          | 0/3 [00:00<?, ?it/s]\r",
      "Building task 'load':   0%|          | 0/3 [00:00<?, ?it/s]\r",
      "Building task 'load':  33%|███▎      | 1/3 [00:03<00:07,  3.56s/it]\r",
      "Building task 'clean':  33%|███▎      | 1/3 [00:03<00:07,  3.56s/it]\n",
      "\r",
      "Executing:   0%|          | 0/5 [00:00<?, ?cell/s]\u001b[A\n",
      "\r",
      "Executing:  20%|██        | 1/5 [00:01<00:07,  1.78s/cell]\u001b[A\n",
      "\r",
      "Executing:  80%|████████  | 4/5 [00:01<00:00,  2.71cell/s]\u001b[A\r",
      "Executing: 100%|██████████| 5/5 [00:02<00:00,  2.32cell/s]\n",
      "\r",
      "Building task 'clean':  67%|██████▋   | 2/3 [00:05<00:02,  2.81s/it]\r",
      "Building task 'plot':  67%|██████▋   | 2/3 [00:05<00:02,  2.81s/it] \n",
      "\r",
      "Executing:   0%|          | 0/6 [00:00<?, ?cell/s]\u001b[A\n",
      "\r",
      "Executing:  17%|█▋        | 1/6 [00:02<00:12,  2.53s/cell]\u001b[A\n",
      "\r",
      "Executing:  67%|██████▋   | 4/6 [00:02<00:01,  1.95cell/s]\u001b[A\n",
      "\r",
      "Executing: 100%|██████████| 6/6 [00:03<00:00,  2.73cell/s]\u001b[A\r",
      "Executing: 100%|██████████| 6/6 [00:03<00:00,  1.80cell/s]\n",
      "\r",
      "Building task 'plot': 100%|██████████| 3/3 [00:09<00:00,  3.12s/it]\r",
      "Building task 'plot': 100%|██████████| 3/3 [00:09<00:00,  3.11s/it]\n"
     ]
    }
   ],
   "source": [
    "%%bash\n",
    "ploomber build"
   ]
  }
 ],
 "metadata": {
  "kernelspec": {
   "display_name": "Python 3 (ipykernel)",
   "language": "python",
   "name": "python3"
  },
  "language_info": {
   "codemirror_mode": {
    "name": "ipython",
    "version": 3
   },
   "file_extension": ".py",
   "mimetype": "text/x-python",
   "name": "python",
   "nbconvert_exporter": "python",
   "pygments_lexer": "ipython3",
   "version": "3.9.7"
  },
  "papermill": {
   "default_parameters": {},
   "duration": 15.053323,
   "end_time": "2021-10-28T01:26:59.505743",
   "environment_variables": {},
   "exception": null,
   "input_path": "templates/python-api/_build/readme_preprocessed.ipynb",
   "output_path": "templates/python-api/README.ipynb",
   "parameters": {},
   "start_time": "2021-10-28T01:26:44.452420",
   "version": "2.3.3"
  }
 },
 "nbformat": 4,
 "nbformat_minor": 5
}