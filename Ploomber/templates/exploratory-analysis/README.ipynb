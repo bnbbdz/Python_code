{
 "cells": [
  {
   "cell_type": "markdown",
   "id": "3de51db4",
   "metadata": {
    "papermill": {
     "duration": 0.022492,
     "end_time": "2021-11-04T13:38:52.311149",
     "exception": false,
     "start_time": "2021-11-04T13:38:52.288657",
     "status": "completed"
    },
    "tags": []
   },
   "source": [
    "To run this example locally, [install Ploomber](https://ploomber.readthedocs.io/en/latest/get-started/install.html) and execute: `ploomber examples -n templates/exploratory-analysis`\n",
    "\n",
    "To start a free, hosted JupyterLab: [![binder-logo](https://mybinder.org/badge_logo.svg)](https://mybinder.org/v2/gh/ploomber/binder-env/main?urlpath=git-pull%3Frepo%3Dhttps%253A%252F%252Fgithub.com%252Fploomber%252Fprojects%26urlpath%3Dlab%252Ftree%252Fprojects%252Ftemplates/exploratory-analysis%252FREADME.ipynb%26branch%3Dmaster)\n",
    "\n",
    "Found an issue? [Let us know.](https://github.com/ploomber/projects/issues/new?title=templates/exploratory-analysis%20issue)\n",
    "\n",
    "Have questions? [Ask us anything on Slack.](https://ploomber.io/community/)\n"
   ]
  },
  {
   "cell_type": "markdown",
   "id": "8d57f0a9",
   "metadata": {
    "papermill": {
     "duration": 0.016325,
     "end_time": "2021-11-04T13:38:52.343764",
     "exception": false,
     "start_time": "2021-11-04T13:38:52.327439",
     "status": "completed"
    },
    "tags": []
   },
   "source": [
    "# Exploratory Data Analysis\n",
    "\n",
    "<!-- start description -->\n",
    "Sample pipeline that explores penguins data.\n",
    "<!-- end description -->\n",
    "\n",
    "It contains five tasks, to get, clean, and visualize the data:"
   ]
  },
  {
   "cell_type": "markdown",
   "id": "19db7310",
   "metadata": {
    "papermill": {
     "duration": 0.015354,
     "end_time": "2021-11-04T13:38:52.376339",
     "exception": false,
     "start_time": "2021-11-04T13:38:52.360985",
     "status": "completed"
    },
    "region_name": "md",
    "tags": []
   },
   "source": [
    "```yaml\n",
    "# Content of pipeline.yaml\n",
    "tasks:\n",
    "  # get raw data\n",
    "  - source: scripts/get.py\n",
    "    product:\n",
    "      nb: products/get.html\n",
    "      data: products/raw.csv\n",
    "\n",
    "  # quick raw data profiling\n",
    "  - source: scripts/profile-raw.py\n",
    "    # html report\n",
    "    product: products/report-raw.html\n",
    "\n",
    "  # clean raw data\n",
    "  - source: scripts/clean.py\n",
    "    product:\n",
    "      nb: products/clean.html\n",
    "      # clean data\n",
    "      data: products/clean.csv\n",
    "\n",
    "  # quick clean data profiling\n",
    "  - source: scripts/profile-clean.py\n",
    "    # html report     \n",
    "    product: products/report-clean.html\n",
    "\n",
    "\n",
    "  # custom plots\n",
    "  - source: scripts/custom.py\n",
    "    product: products/custom.html\n",
    "```"
   ]
  },
  {
   "cell_type": "markdown",
   "id": "c5dcbd8d",
   "metadata": {
    "papermill": {
     "duration": 0.014217,
     "end_time": "2021-11-04T13:38:52.405646",
     "exception": false,
     "start_time": "2021-11-04T13:38:52.391429",
     "status": "completed"
    },
    "tags": []
   },
   "source": [
    "Generate the plot (note that this requires `pygraphviz`, you can skip this if you want):"
   ]
  },
  {
   "cell_type": "markdown",
   "id": "a71de8f7",
   "metadata": {
    "lines_to_next_cell": 2,
    "papermill": {
     "duration": 0.013972,
     "end_time": "2021-11-04T13:38:52.433978",
     "exception": false,
     "start_time": "2021-11-04T13:38:52.420006",
     "status": "completed"
    },
    "region_name": "md",
    "tags": []
   },
   "source": [
    "```sh\n",
    "ploomber plot\n",
    "```"
   ]
  },
  {
   "cell_type": "markdown",
   "id": "1596ec92",
   "metadata": {
    "papermill": {
     "duration": 0.016715,
     "end_time": "2021-11-04T13:38:52.464890",
     "exception": false,
     "start_time": "2021-11-04T13:38:52.448175",
     "status": "completed"
    },
    "tags": []
   },
   "source": [
    "Open the `pipeline.png` file to see the diagram.\n",
    "\n",
    "## Build pipeline"
   ]
  },
  {
   "cell_type": "code",
   "execution_count": 1,
   "id": "ce250705",
   "metadata": {
    "execution": {
     "iopub.execute_input": "2021-11-04T13:38:52.503024Z",
     "iopub.status.busy": "2021-11-04T13:38:52.502270Z",
     "iopub.status.idle": "2021-11-04T13:39:48.931070Z",
     "shell.execute_reply": "2021-11-04T13:39:48.930479Z"
    },
    "papermill": {
     "duration": 56.451559,
     "end_time": "2021-11-04T13:39:48.931269",
     "exception": false,
     "start_time": "2021-11-04T13:38:52.479710",
     "status": "completed"
    },
    "tags": []
   },
   "outputs": [
    {
     "name": "stdout",
     "output_type": "stream",
     "text": [
      "name           Ran?      Elapsed (s)    Percentage\n",
      "-------------  ------  -------------  ------------\n",
      "get            True          4.06246       7.82097\n",
      "profile-raw    True         16.2135       31.2139\n",
      "clean          True          3.57708       6.88652\n",
      "profile-clean  True         17.3281       33.3597\n",
      "custom         True         10.7621       20.7189\n"
     ]
    },
    {
     "name": "stderr",
     "output_type": "stream",
     "text": [
      "\r",
      "  0%|          | 0/5 [00:00<?, ?it/s]\r",
      "Building task 'get':   0%|          | 0/5 [00:00<?, ?it/s]\n",
      "\r",
      "Executing:   0%|          | 0/6 [00:00<?, ?cell/s]\u001b[A\n",
      "\r",
      "Executing:  17%|█▋        | 1/6 [00:01<00:07,  1.51s/cell]\u001b[A\n",
      "\r",
      "Executing:  33%|███▎      | 2/6 [00:03<00:06,  1.59s/cell]\u001b[A\n",
      "\r",
      "Executing:  83%|████████▎ | 5/6 [00:03<00:00,  2.08cell/s]\u001b[A\r",
      "Executing: 100%|██████████| 6/6 [00:03<00:00,  1.65cell/s]\n",
      "\r",
      "Building task 'get':  20%|██        | 1/5 [00:04<00:16,  4.07s/it]\r",
      "Building task 'profile-raw':  20%|██        | 1/5 [00:04<00:16,  4.07s/it]\n",
      "\r",
      "Executing:   0%|          | 0/7 [00:00<?, ?cell/s]\u001b[A\n",
      "\r",
      "Executing:  14%|█▍        | 1/7 [00:01<00:08,  1.48s/cell]\u001b[A\n",
      "\r",
      "Executing:  29%|██▊       | 2/7 [00:03<00:08,  1.72s/cell]\u001b[A\n",
      "\r",
      "Executing:  71%|███████▏  | 5/7 [00:03<00:01,  1.93cell/s]\u001b[A\n",
      "\r",
      "Executing: 100%|██████████| 7/7 [00:14<00:00,  2.49s/cell]\u001b[A\r",
      "Executing: 100%|██████████| 7/7 [00:15<00:00,  2.22s/cell]\n",
      "\r",
      "Building task 'profile-raw':  40%|████      | 2/5 [00:20<00:33, 11.21s/it]\r",
      "Building task 'clean':  40%|████      | 2/5 [00:20<00:33, 11.21s/it]      \n",
      "\r",
      "Executing:   0%|          | 0/10 [00:00<?, ?cell/s]\u001b[A\n",
      "\r",
      "Executing:  10%|█         | 1/10 [00:01<00:14,  1.66s/cell]\u001b[A\n",
      "\r",
      "Executing:  20%|██        | 2/10 [00:02<00:08,  1.09s/cell]\u001b[A\n",
      "\r",
      "Executing:  50%|█████     | 5/10 [00:02<00:01,  2.90cell/s]\u001b[A\n",
      "\r",
      "Executing:  70%|███████   | 7/10 [00:02<00:00,  4.35cell/s]\u001b[A\n",
      "\r",
      "Executing:  90%|█████████ | 9/10 [00:02<00:00,  6.00cell/s]\u001b[A\r",
      "Executing: 100%|██████████| 10/10 [00:03<00:00,  3.32cell/s]\n",
      "\r",
      "Building task 'clean':  60%|██████    | 3/5 [00:23<00:15,  7.73s/it]\r",
      "Building task 'profile-clean':  60%|██████    | 3/5 [00:23<00:15,  7.73s/it]\n",
      "\r",
      "Executing:   0%|          | 0/7 [00:00<?, ?cell/s]\u001b[A\n",
      "\r",
      "Executing:  14%|█▍        | 1/7 [00:01<00:08,  1.41s/cell]\u001b[A\n",
      "\r",
      "Executing:  29%|██▊       | 2/7 [00:03<00:08,  1.67s/cell]\u001b[A\n",
      "\r",
      "Executing:  71%|███████▏  | 5/7 [00:03<00:01,  1.99cell/s]\u001b[A\n",
      "\r",
      "Executing: 100%|██████████| 7/7 [00:15<00:00,  2.74s/cell]\u001b[A\r",
      "Executing: 100%|██████████| 7/7 [00:16<00:00,  2.38s/cell]\n",
      "\r",
      "Building task 'profile-clean':  80%|████████  | 4/5 [00:41<00:11, 11.52s/it]\r",
      "Building task 'custom':  80%|████████  | 4/5 [00:41<00:11, 11.52s/it]       \n",
      "\r",
      "Executing:   0%|          | 0/11 [00:00<?, ?cell/s]\u001b[A\n",
      "\r",
      "Executing:   9%|▉         | 1/11 [00:01<00:14,  1.42s/cell]\u001b[A\n",
      "\r",
      "Executing:  18%|█▊        | 2/11 [00:03<00:13,  1.53s/cell]\u001b[A\n",
      "\r",
      "Executing:  36%|███▋      | 4/11 [00:03<00:04,  1.65cell/s]\u001b[A\n",
      "\r",
      "Executing:  55%|█████▍    | 6/11 [00:03<00:01,  2.87cell/s]\u001b[A\n",
      "\r",
      "Executing:  73%|███████▎  | 8/11 [00:03<00:00,  3.59cell/s]\u001b[A\n",
      "\r",
      "Executing:  82%|████████▏ | 9/11 [00:04<00:00,  2.38cell/s]\u001b[A\n",
      "\r",
      "Executing:  91%|█████████ | 10/11 [00:09<00:01,  1.49s/cell]\u001b[A\n",
      "\r",
      "Executing: 100%|██████████| 11/11 [00:09<00:00,  1.15s/cell]\u001b[A\r",
      "Executing: 100%|██████████| 11/11 [00:09<00:00,  1.11cell/s]\n",
      "\r",
      "Building task 'custom': 100%|██████████| 5/5 [00:51<00:00, 11.25s/it]\r",
      "Building task 'custom': 100%|██████████| 5/5 [00:51<00:00, 10.39s/it]\n"
     ]
    }
   ],
   "source": [
    "%%sh\n",
    "ploomber build"
   ]
  },
  {
   "cell_type": "markdown",
   "id": "0608c9bf",
   "metadata": {
    "papermill": {
     "duration": 0.018165,
     "end_time": "2021-11-04T13:39:48.967012",
     "exception": false,
     "start_time": "2021-11-04T13:39:48.948847",
     "status": "completed"
    },
    "tags": []
   },
   "source": [
    "Each task generates an HTML report, go to the `products/` directory after\n",
    "building the pipeline to see them."
   ]
  }
 ],
 "metadata": {
  "kernelspec": {
   "display_name": "Python 3 (ipykernel)",
   "language": "python",
   "name": "python3"
  },
  "language_info": {
   "codemirror_mode": {
    "name": "ipython",
    "version": 3
   },
   "file_extension": ".py",
   "mimetype": "text/x-python",
   "name": "python",
   "nbconvert_exporter": "python",
   "pygments_lexer": "ipython3",
   "version": "3.9.7"
  },
  "papermill": {
   "default_parameters": {},
   "duration": 58.622384,
   "end_time": "2021-11-04T13:39:49.200424",
   "environment_variables": {},
   "exception": null,
   "input_path": "templates/exploratory-analysis/_build/readme_preprocessed.ipynb",
   "output_path": "templates/exploratory-analysis/README.ipynb",
   "parameters": {},
   "start_time": "2021-11-04T13:38:50.578040",
   "version": "2.3.3"
  }
 },
 "nbformat": 4,
 "nbformat_minor": 5
}