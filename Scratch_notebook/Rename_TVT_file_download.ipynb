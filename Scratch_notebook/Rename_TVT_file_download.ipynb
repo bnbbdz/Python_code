{
 "cells": [
  {
   "cell_type": "code",
   "execution_count": 1,
   "metadata": {
    "tags": []
   },
   "outputs": [
    {
     "output_type": "stream",
     "name": "stdout",
     "text": "R:\\1. DATABASE\\1. Bank\\2020\\Bank 2006\\TVT\\Transaction_detail_(TVT)_(2020-06-01-2020-06-01).xlsx\nR:\\1. DATABASE\\1. Bank\\2020\\Bank 2006\\TVT\\Transaction_detail_(TVT)_(2020-06-02-2020-06-02).xlsx\nR:\\1. DATABASE\\1. Bank\\2020\\Bank 2006\\TVT\\Transaction_detail_(TVT)_(2020-06-03-2020-06-03).xlsx\nR:\\1. DATABASE\\1. Bank\\2020\\Bank 2006\\TVT\\Transaction_detail_(TVT)_(2020-06-04-2020-06-04).xlsx\nR:\\1. DATABASE\\1. Bank\\2020\\Bank 2006\\TVT\\Transaction_detail_(TVT)_(2020-06-05-2020-06-05).xlsx\nR:\\1. DATABASE\\1. Bank\\2020\\Bank 2006\\TVT\\Transaction_detail_(TVT)_(2020-06-06-2020-06-06).xlsx\nR:\\1. DATABASE\\1. Bank\\2020\\Bank 2006\\TVT\\Transaction_detail_(TVT)_(2020-06-07-2020-06-07).xlsx\nR:\\1. DATABASE\\1. Bank\\2020\\Bank 2006\\TVT\\Transaction_detail_(TVT)_(2020-06-08-2020-06-08).xlsx\nR:\\1. DATABASE\\1. Bank\\2020\\Bank 2006\\TVT\\Transaction_detail_(TVT)_(2020-06-09-2020-06-09).xlsx\nR:\\1. DATABASE\\1. Bank\\2020\\Bank 2006\\TVT\\Transaction_detail_(TVT)_(2020-06-10-2020-06-10).xlsx\nR:\\1. DATABASE\\1. Bank\\2020\\Bank 2006\\TVT\\Transaction_detail_(TVT)_(2020-06-11-2020-06-11).xlsx\nR:\\1. DATABASE\\1. Bank\\2020\\Bank 2006\\TVT\\Transaction_detail_(TVT)_(2020-06-12-2020-06-12).xlsx\nR:\\1. DATABASE\\1. Bank\\2020\\Bank 2006\\TVT\\Transaction_detail_(TVT)_(2020-06-13-2020-06-13).xlsx\nR:\\1. DATABASE\\1. Bank\\2020\\Bank 2006\\TVT\\Transaction_detail_(TVT)_(2020-06-14-2020-06-14).xlsx\nR:\\1. DATABASE\\1. Bank\\2020\\Bank 2006\\TVT\\Transaction_detail_(TVT)_(2020-06-15-2020-06-15).xlsx\nR:\\1. DATABASE\\1. Bank\\2020\\Bank 2006\\TVT\\Transaction_detail_(TVT)_(2020-06-16-2020-06-16).xlsx\nR:\\1. DATABASE\\1. Bank\\2020\\Bank 2006\\TVT\\Transaction_detail_(TVT)_(2020-06-17-2020-06-17).xlsx\nR:\\1. DATABASE\\1. Bank\\2020\\Bank 2006\\TVT\\Transaction_detail_(TVT)_(2020-06-18-2020-06-18).xlsx\nR:\\1. DATABASE\\1. Bank\\2020\\Bank 2006\\TVT\\Transaction_detail_(TVT)_(2020-06-19-2020-06-19).xlsx\nR:\\1. DATABASE\\1. Bank\\2020\\Bank 2006\\TVT\\Transaction_detail_(TVT)_(2020-06-20-2020-06-20).xlsx\nR:\\1. DATABASE\\1. Bank\\2020\\Bank 2006\\TVT\\Transaction_detail_(TVT)_(2020-06-21-2020-06-21).xlsx\nR:\\1. DATABASE\\1. Bank\\2020\\Bank 2006\\TVT\\Transaction_detail_(TVT)_(2020-06-22-2020-06-22).xlsx\nR:\\1. DATABASE\\1. Bank\\2020\\Bank 2006\\TVT\\Transaction_detail_(TVT)_(2020-06-23-2020-06-23).xlsx\nR:\\1. DATABASE\\1. Bank\\2020\\Bank 2006\\TVT\\Transaction_detail_(TVT)_(2020-06-24-2020-06-24).xlsx\n"
    }
   ],
   "source": [
    "import os\n",
    "path = r'R:\\1. DATABASE\\1. Bank\\2020\\Bank 2006\\TVT'\n",
    "for entry in os.scandir(path):\n",
    "    if not entry.name.startswith('.') and entry.is_file():\n",
    "        old_name = path+'\\\\'+entry.name\n",
    "        new_name = path+'\\\\'+entry.name[:entry.name.find('.')]+'.xlsx'\n",
    "        os.rename(old_name,new_name)\n",
    "        print(new_name)"
   ]
  },
  {
   "cell_type": "code",
   "execution_count": null,
   "metadata": {},
   "outputs": [],
   "source": []
  }
 ],
 "metadata": {
  "kernelspec": {
   "display_name": "Python 3",
   "language": "python",
   "name": "python3"
  },
  "language_info": {
   "codemirror_mode": {
    "name": "ipython",
    "version": 3
   },
   "file_extension": ".py",
   "mimetype": "text/x-python",
   "name": "python",
   "nbconvert_exporter": "python",
   "pygments_lexer": "ipython3",
   "version": "3.7.1-final"
  },
  "toc": {
   "base_numbering": 1,
   "nav_menu": {},
   "number_sections": true,
   "sideBar": true,
   "skip_h1_title": false,
   "title_cell": "Table of Contents",
   "title_sidebar": "Contents",
   "toc_cell": false,
   "toc_position": {},
   "toc_section_display": true,
   "toc_window_display": false
  }
 },
 "nbformat": 4,
 "nbformat_minor": 2
}