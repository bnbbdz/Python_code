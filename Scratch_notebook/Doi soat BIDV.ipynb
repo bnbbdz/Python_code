{
 "cells": [
  {
   "cell_type": "code",
   "execution_count": 1,
   "metadata": {},
   "outputs": [],
   "source": [
    "import pandas as pd\n",
    "d1 = '15'\n",
    "d2 = '21'\n",
    "m = '06'"
   ]
  },
  {
   "cell_type": "code",
   "execution_count": 2,
   "metadata": {},
   "outputs": [],
   "source": [
    "##Tải sổ phụ BIDV\n",
    "BIDV=pd.read_excel(r'R:\\2. Bank reconcile\\2. Toppay\\{0}.2020\\2. BIDV_Bank statement_Periodic_{1}_{2}{0}.xlsx'.format(m,d1,d2),header=0)"
   ]
  },
  {
   "cell_type": "code",
   "execution_count": 3,
   "metadata": {},
   "outputs": [],
   "source": [
    "##Tải admin BIDV\n",
    "Admin_API=pd.read_excel(r'R:\\1. DATABASE\\3. Admin toppay\\9. TVT Report\\{0}.2020\\TVT {1}_{2}\\BIDV.xlsx'.format(m,d1,d2),sheet_name='BIDV_API',header=0,dtype={'Ref_Check':str})\n",
    "Admin_Giro=pd.read_excel(r'R:\\1. DATABASE\\3. Admin toppay\\9. TVT Report\\{0}.2020\\TVT {1}_{2}\\BIDV.xlsx'.format(m,d1,d2),sheet_name='BIDV_Giro',header=0,dtype={'Ref_Check':str})\n",
    "Admin_WD=pd.read_excel(r'R:\\1. DATABASE\\3. Admin toppay\\9. TVT Report\\{0}.2020\\TVT {1}_{2}\\BIDV.xlsx'.format(m,d1,d2),sheet_name='BIDV_WD',header=0,dtype={'Ref_Check':str})\n",
    "Admin_GW=pd.read_excel(r'R:\\1. DATABASE\\3. Admin toppay\\9. TVT Report\\{0}.2020\\TVT {1}_{2}\\BIDV.xlsx'.format(m,d1,d2),sheet_name='BIDV_GW',header=0,dtype={'Ref_Check':str})"
   ]
  },
  {
   "cell_type": "code",
   "execution_count": 4,
   "metadata": {},
   "outputs": [],
   "source": [
    "BIDV_API=BIDV[BIDV['Type'].isin(['Toppay - API'])]\n",
    "BIDV_GIRO=BIDV[BIDV['Type'].isin(['Toppay - Giro Payment','Toppay - Giro Shopping','Toppay - Giro Transfer'])]\n",
    "BIDV_GW=BIDV[BIDV['Type'].isin(['Toppay - GW'])]\n",
    "BIDV_WD=BIDV[BIDV['Type'].isin(['Toppay - withdraw'])]"
   ]
  },
  {
   "cell_type": "code",
   "execution_count": 5,
   "metadata": {},
   "outputs": [],
   "source": [
    "# BIDV_API['Ref_Check_API']=BIDV_API['Narrative'].apply(lambda x: x[(x.find('_0_0_')+5):(x.find('_0_0_')+5+9):])"
   ]
  },
  {
   "cell_type": "code",
   "execution_count": 6,
   "metadata": {},
   "outputs": [],
   "source": [
    "# BIDV_GIRO['Ref_Check_GIRO']=BIDV_GIRO['Nội dung giao dịch'].apply(lambda x: x[(x.find('BIDV_')):(x.find('BIDV_')+18):])"
   ]
  },
  {
   "cell_type": "code",
   "execution_count": 7,
   "metadata": {},
   "outputs": [],
   "source": [
    "# BIDV_WD['Ref_Check_WD']=BIDV_WD['Nội dung giao dịch'].apply(lambda x: x[(x.find('BIDV_')):(x.find('BIDV_')+18):])"
   ]
  },
  {
   "cell_type": "code",
   "execution_count": 8,
   "metadata": {},
   "outputs": [],
   "source": [
    "# BIDV_GW['Ref_Check_GW']=BIDV_GW['Nội dung giao dịch'].apply(lambda x: x[(x.find('_0_0_')+5):(x.find('_0_0_')+5+9):])"
   ]
  },
  {
   "cell_type": "code",
   "execution_count": 9,
   "metadata": {},
   "outputs": [],
   "source": [
    "#BIDV_GW.head()"
   ]
  },
  {
   "cell_type": "code",
   "execution_count": 10,
   "metadata": {},
   "outputs": [],
   "source": [
    "Admin_Bank_API=BIDV_API.merge(Admin_API,left_on='Ref',right_on='Ref_Check',how='outer',indicator=True)"
   ]
  },
  {
   "cell_type": "code",
   "execution_count": 11,
   "metadata": {},
   "outputs": [],
   "source": [
    "Admin_Bank_Giro=BIDV_GIRO.merge(Admin_Giro,left_on='Ref',right_on='Ref_Check',how='outer',indicator=True)"
   ]
  },
  {
   "cell_type": "code",
   "execution_count": 12,
   "metadata": {},
   "outputs": [],
   "source": [
    "Admin_Bank_WD=BIDV_WD.merge(Admin_WD,left_on='Ref',right_on='Ref_Check',how='outer',indicator=True)"
   ]
  },
  {
   "cell_type": "code",
   "execution_count": 13,
   "metadata": {},
   "outputs": [],
   "source": [
    "Admin_Bank_GW=BIDV_GW.merge(Admin_GW,left_on='Ref',right_on='Ref_Check',how='outer',indicator=True)"
   ]
  },
  {
   "cell_type": "code",
   "execution_count": 14,
   "metadata": {},
   "outputs": [],
   "source": [
    "with pd.ExcelWriter(r'R:\\1. DATABASE\\3. Admin toppay\\9. TVT Report\\{0}.2020\\TVT {1}_{2}\\BIDV_S_Bank.xlsx'.format(m,d1,d2)) as writer:\n",
    "    Admin_Bank_API.to_excel(writer, sheet_name='BIDV_S_Bank_API')\n",
    "    Admin_Bank_Giro.to_excel(writer, sheet_name='BIDV_S_Bank_Giro')\n",
    "    Admin_Bank_WD.to_excel(writer, sheet_name=\"BIDV_S_Bank_WD\")\n",
    "    Admin_Bank_GW.to_excel(writer, sheet_name=\"BIDV_S_Bank_GW\")"
   ]
  },
  {
   "cell_type": "code",
   "execution_count": null,
   "metadata": {},
   "outputs": [],
   "source": []
  },
  {
   "cell_type": "code",
   "execution_count": null,
   "metadata": {},
   "outputs": [],
   "source": []
  }
 ],
 "metadata": {
  "kernelspec": {
   "display_name": "Python 3",
   "language": "python",
   "name": "python3"
  },
  "language_info": {
   "codemirror_mode": {
    "name": "ipython",
    "version": 3
   },
   "file_extension": ".py",
   "mimetype": "text/x-python",
   "name": "python",
   "nbconvert_exporter": "python",
   "pygments_lexer": "ipython3",
   "version": "3.7.1-final"
  },
  "toc": {
   "base_numbering": 1,
   "nav_menu": {},
   "number_sections": true,
   "sideBar": true,
   "skip_h1_title": false,
   "title_cell": "Table of Contents",
   "title_sidebar": "Contents",
   "toc_cell": false,
   "toc_position": {},
   "toc_section_display": true,
   "toc_window_display": false
  }
 },
 "nbformat": 4,
 "nbformat_minor": 2
}