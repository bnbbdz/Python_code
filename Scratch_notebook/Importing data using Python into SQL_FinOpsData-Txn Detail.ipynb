{
 "cells": [
  {
   "cell_type": "code",
   "execution_count": 1,
   "metadata": {},
   "outputs": [],
   "source": [
    "import os\n",
    "import pandas as pd\n",
    "import datetime\n",
    "import pyodbc\n",
    "import sqlalchemy\n",
    "import urllib\n",
    "from sqlalchemy.types import NVARCHAR\n",
    "\n",
    "username='maingoc.dinh'\n",
    "password='Maingoc01'\n",
    "server = 'GA-9RC9BS2\\SQLEXPRESS'\n",
    "db = 'Txns_Rp_01_12_Apr'\n",
    "#m='04'\n",
    "range_day=range(1,5,1)  ## ngày phải để tăng lên 1 ngày, vd tải từ ngày 2-4 thì range phải là (2,5,1)\n"
   ]
  },
  {
   "cell_type": "code",
   "execution_count": 2,
   "metadata": {},
   "outputs": [
    {
     "name": "stdout",
     "output_type": "stream",
     "text": [
      "import to SQL done, check your data in SQL server\n",
      "import to SQL done, check your data in SQL server\n",
      "import to SQL done, check your data in SQL server\n",
      "import to SQL done, check your data in SQL server\n"
     ]
    }
   ],
   "source": [
    "for d in range_day:\n",
    "    a = r'R:\\1. DATABASE\\1. Bank\\Mai Ngoc\\Airpay_Transaction_Details_({0}).xlsx'.format(d)\n",
    "    if __name__ == '__main__':\n",
    "        data = pd.concat(pd.read_excel(a,sheet_name=None,converters={'OrderID':str,'User ID':str,'Buyer Phone':str,'Create Time': pd.to_datetime,'Payment Valid Time': pd.to_datetime}),ignore_index=True)\n",
    "        table_name = a[-37:-5:]\n",
    "        \n",
    "        #change your server name here\n",
    "        conn_str = ('Driver={SQL Server};'\n",
    "                    'Server=' + server + ';'\n",
    "                    'Database=' + db + ';'\n",
    "                    'UID='+username+';'\n",
    "                    'PWD='+password+';')\n",
    "        params = urllib.parse.quote_plus(conn_str)\n",
    "        engine = sqlalchemy.create_engine(\"mssql+pyodbc:///?odbc_connect=%s\" % params)\n",
    "        data.to_sql(name=table_name, con=engine, if_exists='replace', index=False, dtype={'Promotion': NVARCHAR})\n",
    "    print('import to SQL done, check your data in SQL server')"
   ]
  },
  {
   "cell_type": "code",
   "execution_count": null,
   "metadata": {},
   "outputs": [],
   "source": []
  }
 ],
 "metadata": {
  "kernelspec": {
   "display_name": "Python 3",
   "language": "python",
   "name": "python3"
  },
  "language_info": {
   "codemirror_mode": {
    "name": "ipython",
    "version": 3
   },
   "file_extension": ".py",
   "mimetype": "text/x-python",
   "name": "python",
   "nbconvert_exporter": "python",
   "pygments_lexer": "ipython3",
   "version": "3.7.1"
  }
 },
 "nbformat": 4,
 "nbformat_minor": 2
}
