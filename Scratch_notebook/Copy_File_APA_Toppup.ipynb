{
 "cells": [
  {
   "cell_type": "code",
   "execution_count": 1,
   "metadata": {},
   "outputs": [
    {
     "output_type": "stream",
     "name": "stdout",
     "text": "Copy done\n"
    }
   ],
   "source": [
    "import os\n",
    "import shutil\n",
    "\n",
    "#Chon ngay, thang\n",
    "d1 = '15'\n",
    "d2 = '21'\n",
    "m = '06'\n",
    "\n",
    "if os.path.isfile(r'R:\\2. Bank reconcile\\2. Toppay\\{0}.2020\\2. BIDV_APA_Bank recon_WP_Periodic_{1}_{2}{0}.xlsb'.format(m,d1,d2)):\n",
    "    print(\"File exist\")\n",
    "else :\n",
    "    #BIDV\n",
    "    src_dir1 = r'R:\\2. Bank reconcile\\2. Toppay\\{0}.2020\\2. BIDV_APA_Bank recon_WP_Periodic_form.xlsb'.format(m)\n",
    "    dst_dir1 = r'R:\\2. Bank reconcile\\2. Toppay\\{0}.2020\\2. BIDV_APA_Bank recon_WP_Periodic_{1}_{2}{0}.xlsb'.format(m,d1,d2)\n",
    "    shutil.copy(src_dir1,dst_dir1)\n",
    "\n",
    "    src_dir2 = r'R:\\2. Bank reconcile\\2. Toppay\\{0}.2020\\2. BIDV_Bank statement_Periodic_form.xlsx'.format(m)\n",
    "    dst_dir2 = r'R:\\2. Bank reconcile\\2. Toppay\\{0}.2020\\2. BIDV_Bank statement_Periodic_{1}_{2}{0}.xlsx'.format(m,d1,d2)\n",
    "    shutil.copy(src_dir2,dst_dir2)\n",
    "    #VTB\n",
    "    src_dir3 = r'R:\\2. Bank reconcile\\2. Toppay\\{0}.2020\\3. VTB_APA_Bank recon_WP_Periodic_form.xlsb'.format(m)\n",
    "    dst_dir3 = r'R:\\2. Bank reconcile\\2. Toppay\\{0}.2020\\3. VTB_APA_Bank recon_WP_Periodic_{1}_{2}{0}.xlsb'.format(m,d1,d2)\n",
    "    shutil.copy(src_dir3,dst_dir3)\n",
    "\n",
    "    src_dir4 = r'R:\\2. Bank reconcile\\2. Toppay\\{0}.2020\\3. VTB_Bank_statement_Periodic_form.xlsx'.format(m)\n",
    "    dst_dir4 = r'R:\\2. Bank reconcile\\2. Toppay\\{0}.2020\\3. VTB_Bank_statement_Periodic_{1}_{2}{0}.xlsx'.format(m,d1,d2)\n",
    "    shutil.copy(src_dir4,dst_dir4)\n",
    "    #AGR\n",
    "    src_dir5 = r'R:\\2. Bank reconcile\\2. Toppay\\{0}.2020\\4. AGR_APA_Bank recon_WP_Preriodic_form.xlsx'.format(m)\n",
    "    dst_dir5 = r'R:\\2. Bank reconcile\\2. Toppay\\{0}.2020\\4. AGR_APA_Bank recon_WP_Preriodic_{1}_{2}{0}.xlsx'.format(m,d1,d2)\n",
    "    shutil.copy(src_dir5,dst_dir5)\n",
    "    #STB_Giro\n",
    "    src_dir5 = r'R:\\2. Bank reconcile\\2. Toppay\\{0}.2020\\7. STB_6170_APA_Bank recon_WP_Preriodic_form.xlsx'.format(m)\n",
    "    dst_dir5 = r'R:\\2. Bank reconcile\\2. Toppay\\{0}.2020\\7. STB_6170_APA_Bank recon_WP_Preriodic_{1}_{2}{0}.xlsx'.format(m,d1,d2)\n",
    "    shutil.copy(src_dir5,dst_dir5)\n",
    "    #VCB\n",
    "    src_dir6 = r'R:\\2. Bank reconcile\\2. Toppay\\{0}.2020\\1. VCB_APA_Bank recon_WP_Periodic_form.xlsb'.format(m)\n",
    "    dst_dir6 = r'R:\\2. Bank reconcile\\2. Toppay\\{0}.2020\\1. VCB_APA_Bank recon_WP_Periodic_{1}_{2}{0}.xlsb'.format(m,d1,d2)\n",
    "    shutil.copy(src_dir6,dst_dir6)\n",
    "\n",
    "    src_dir7 = r'R:\\2. Bank reconcile\\2. Toppay\\{0}.2020\\1. VCB_Bank statement_Periodic_form.xlsx'.format(m)\n",
    "    dst_dir7 = r'R:\\2. Bank reconcile\\2. Toppay\\{0}.2020\\1. VCB_Bank statement_Periodic_{1}_{2}{0}.xlsx'.format(m,d1,d2)\n",
    "    shutil.copy(src_dir7,dst_dir7)\n",
    "    #ALL Bank\n",
    "    src_dir8 = r'R:\\2. Bank reconcile\\2. Toppay\\{0}.2020\\5. All bank exl VCB&BID_Bank recon_WP_Periodic_form.xlsb'.format(m)\n",
    "    dst_dir8 = r'R:\\2. Bank reconcile\\2. Toppay\\{0}.2020\\5. All bank exl VCB&BID_Bank recon_WP_Periodic_{1}_{2}{0}.xlsb'.format(m,d1,d2)\n",
    "    shutil.copy(src_dir8,dst_dir8)\n",
    "\n",
    "print('Copy done')\n"
   ]
  },
  {
   "cell_type": "code",
   "execution_count": null,
   "metadata": {},
   "outputs": [],
   "source": []
  }
 ],
 "metadata": {
  "kernelspec": {
   "display_name": "Python 3",
   "language": "python",
   "name": "python3"
  },
  "language_info": {
   "codemirror_mode": {
    "name": "ipython",
    "version": 3
   },
   "file_extension": ".py",
   "mimetype": "text/x-python",
   "name": "python",
   "nbconvert_exporter": "python",
   "pygments_lexer": "ipython3",
   "version": "3.7.1-final"
  },
  "toc": {
   "base_numbering": 1,
   "nav_menu": {},
   "number_sections": true,
   "sideBar": true,
   "skip_h1_title": false,
   "title_cell": "Table of Contents",
   "title_sidebar": "Contents",
   "toc_cell": false,
   "toc_position": {},
   "toc_section_display": true,
   "toc_window_display": false
  }
 },
 "nbformat": 4,
 "nbformat_minor": 2
}