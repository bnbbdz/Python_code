{
 "cells": [
  {
   "cell_type": "code",
   "execution_count": 2,
   "metadata": {},
   "outputs": [],
   "source": [
    "import pandas as pd"
   ]
  },
  {
   "cell_type": "code",
   "execution_count": 3,
   "metadata": {},
   "outputs": [],
   "source": [
    "df1 = pd.concat(pd.read_excel(r'R:\\1. DATABASE\\1. Bank\\Mai Ngoc\\Txns Report Test\\Airpay_Transaction_Details_(2020-03-01-2020-03-08).1585730261.xlsx', sheet_name=None), ignore_index=True)"
   ]
  },
  {
   "cell_type": "code",
   "execution_count": 4,
   "metadata": {},
   "outputs": [],
   "source": [
    "df2 = pd.concat(pd.read_excel(r'R:\\1. DATABASE\\1. Bank\\Mai Ngoc\\Txns Report Test\\Airpay_Transaction_Details_(2020-03-08-2020-03-11).1585803083.xlsx', sheet_name=None), ignore_index=True)"
   ]
  },
  {
   "cell_type": "code",
   "execution_count": 5,
   "metadata": {},
   "outputs": [],
   "source": [
    "df3 = pd.concat(pd.read_excel(r'R:\\1. DATABASE\\1. Bank\\Mai Ngoc\\Txns Report Test\\Airpay_Transaction_Details_(2020-03-11-2020-03-15).1585803790.xlsx', sheet_name=None), ignore_index=True)"
   ]
  },
  {
   "cell_type": "code",
   "execution_count": null,
   "metadata": {},
   "outputs": [],
   "source": [
    "df4 = pd.concat(pd.read_excel(r'R:\\1. DATABASE\\1. Bank\\Mai Ngoc\\Txns Report Test\\Airpay_Transaction_Details_(2020-03-15-2020-03-19).1585804594.xlsx', sheet_name=None), ignore_index=True)"
   ]
  },
  {
   "cell_type": "code",
   "execution_count": null,
   "metadata": {},
   "outputs": [],
   "source": [
    "df5 = pd.concat(pd.read_excel(r'R:\\1. DATABASE\\1. Bank\\Mai Ngoc\\Txns Report Test\\Airpay_Transaction_Details_(2020-03-19-2020-03-23).1585805738.xlsx', sheet_name=None), ignore_index=True)"
   ]
  },
  {
   "cell_type": "code",
   "execution_count": null,
   "metadata": {},
   "outputs": [],
   "source": [
    "df6 = pd.concat(pd.read_excel(r'R:\\1. DATABASE\\1. Bank\\Mai Ngoc\\Txns Report Test\\Airpay_Transaction_Details_(2020-03-23-2020-03-25).1585797494.xlsx', sheet_name=None), ignore_index=True)"
   ]
  },
  {
   "cell_type": "code",
   "execution_count": null,
   "metadata": {},
   "outputs": [],
   "source": [
    "df7 = pd.concat(pd.read_excel(r'R:\\1. DATABASE\\1. Bank\\Mai Ngoc\\Txns Report Test\\Airpay_Transaction_Details_(2020-03-25-2020-03-27).1585796849.xlsx', sheet_name=None), ignore_index=True)"
   ]
  },
  {
   "cell_type": "code",
   "execution_count": null,
   "metadata": {},
   "outputs": [],
   "source": [
    "df8 = pd.concat(pd.read_excel(r'R:\\1. DATABASE\\1. Bank\\Mai Ngoc\\Txns Report Test\\Airpay_Transaction_Details_(2020-03-27-2020-04-01).1585741535.xlsx', sheet_name=None), ignore_index=True)"
   ]
  },
  {
   "cell_type": "code",
   "execution_count": null,
   "metadata": {},
   "outputs": [],
   "source": [
    "df=pd.concat([df1,df2,df3,df4,df5,df6,df7,df8])"
   ]
  },
  {
   "cell_type": "code",
   "execution_count": null,
   "metadata": {},
   "outputs": [],
   "source": [
    "import pyodbc \n",
    "import datetime as dt"
   ]
  },
  {
   "cell_type": "code",
   "execution_count": null,
   "metadata": {},
   "outputs": [],
   "source": [
    "username='maingoc.dinh'\n",
    "password='Maingoc01'\n",
    "server = 'GA-9RC9BS2\\SQLEXPRESS'\n",
    "db='TVT_03_2020'\n",
    "db_Giro='IS_Giro_03_2020'\n",
    "db_GW='IS_IBanking_03_2020'\n",
    "\n",
    "m=3\n",
    "range_day=range(1,32,1) #chọn dài hơn 1 ngày\n",
    "#range_day_GW=range(1,9,1) #chọn đúng kỳ với cuối tháng?\n",
    "#TVT_day='23_31'"
   ]
  },
  {
   "cell_type": "code",
   "execution_count": null,
   "metadata": {},
   "outputs": [],
   "source": [
    "# sql server 2017\n",
    "conn_str = ('Driver={SQL Server};'\n",
    "                'Server='+ server+';'\n",
    "                'Database='+db+';'\n",
    "                'UID='+username+';'\n",
    "                'PWD='+password+';')\n",
    "\n",
    "connection = pyodbc.connect(conn_str)\n",
    "data=[]\n",
    "for d in range_day:\n",
    "    sql_statement = \"\"\"SELECT * FROM [{2}].[dbo].[TVT_2020-{0:0>2d}-{1:0>2d}-2020-{0:0>2d}-{1:0>2d}]\"\"\".format(m,d,db)\n",
    "    sql_data = pd.read_sql(sql_statement, connection)\n",
    "    data.append(sql_data)"
   ]
  },
  {
   "cell_type": "code",
   "execution_count": null,
   "metadata": {},
   "outputs": [],
   "source": [
    "TVT = pd.concat(data)"
   ]
  },
  {
   "cell_type": "code",
   "execution_count": null,
   "metadata": {},
   "outputs": [],
   "source": [
    "#df.head()"
   ]
  },
  {
   "cell_type": "code",
   "execution_count": null,
   "metadata": {},
   "outputs": [],
   "source": [
    "df['OrderID']=df['OrderID'].astype(str)"
   ]
  },
  {
   "cell_type": "code",
   "execution_count": null,
   "metadata": {},
   "outputs": [],
   "source": [
    "#TVT.head()"
   ]
  },
  {
   "cell_type": "code",
   "execution_count": null,
   "metadata": {},
   "outputs": [],
   "source": [
    "TVT_df = df.merge(TVT,left_on='OrderID',right_on='OrderID',how='left',indicator=True)"
   ]
  },
  {
   "cell_type": "code",
   "execution_count": null,
   "metadata": {},
   "outputs": [],
   "source": [
    "TVT_add=TVT_df[TVT_df['_merge'].isin(['left_only'])&TVT['TopUp Type'].isin(['Bank Account','Account Balance','Ibanking','Offline Topup Partner'])]"
   ]
  },
  {
   "cell_type": "code",
   "execution_count": null,
   "metadata": {},
   "outputs": [],
   "source": [
    "#TVT_add.to_excel(r'TVT_add.xlsx')"
   ]
  },
  {
   "cell_type": "code",
   "execution_count": null,
   "metadata": {},
   "outputs": [],
   "source": [
    "#TVT_add_Bank_Acc = pd.read_excel(r'D:\\TVT_add_Bank_Acc.xlsx')"
   ]
  },
  {
   "cell_type": "code",
   "execution_count": null,
   "metadata": {},
   "outputs": [],
   "source": [
    "def Type(TopUp,PaymentInfo):\n",
    "    if 'Cash Withdrawal' in PaymentInfo:\n",
    "        i = 'withdraw'\n",
    "    elif 'Shopee Wallet Topup' in TopUp:\n",
    "        i='APA Shopee GW'\n",
    "    elif 'Cash via iBanking' in PaymentInfo:\n",
    "        i='GW'\n",
    "    elif 'Cash via Direct Bank Channel Top-up' in PaymentInfo:\n",
    "        i='API'\n",
    "    elif 'Cash via Direct Debit' in PaymentInfo or 'Cash via Partner Top-up' in PaymentInfo:\n",
    "        i='Payment'\n",
    "    elif 'Cash Transfer' in PaymentInfo or 'Now Transfer' in PaymentInfo or 'Collection QR' in PaymentInfo:\n",
    "        i='Transfer'\n",
    "    else:\n",
    "        i='Shopping'\n",
    "    return(i)\n",
    "        "
   ]
  },
  {
   "cell_type": "code",
   "execution_count": null,
   "metadata": {},
   "outputs": [],
   "source": [
    "TVT_add['Type']=TVT_add.apply(lambda row:Type(row['TopUp_x'],row['Payment Infos']),axis=1)"
   ]
  },
  {
   "cell_type": "code",
   "execution_count": null,
   "metadata": {},
   "outputs": [],
   "source": [
    "TVT_add.to_excel(r'TVT_add_Mar20.xlsx')"
   ]
  },
  {
   "cell_type": "code",
   "execution_count": null,
   "metadata": {},
   "outputs": [],
   "source": []
  }
 ],
 "metadata": {
  "kernelspec": {
   "display_name": "Python 3",
   "language": "python",
   "name": "python3"
  },
  "language_info": {
   "codemirror_mode": {
    "name": "ipython",
    "version": 3
   },
   "file_extension": ".py",
   "mimetype": "text/x-python",
   "name": "python",
   "nbconvert_exporter": "python",
   "pygments_lexer": "ipython3",
   "version": "3.7.1"
  }
 },
 "nbformat": 4,
 "nbformat_minor": 2
}
