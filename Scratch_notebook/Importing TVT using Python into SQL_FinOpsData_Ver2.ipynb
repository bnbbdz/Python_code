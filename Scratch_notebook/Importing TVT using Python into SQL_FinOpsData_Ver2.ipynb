{
 "cells": [
  {
   "cell_type": "code",
   "execution_count": 1,
   "metadata": {},
   "outputs": [],
   "source": [
    "import os\n",
    "import pandas as pd\n",
    "import datetime\n",
    "import pyodbc\n",
    "import sqlalchemy\n",
    "import urllib\n",
    "from sqlalchemy.types import NVARCHAR\n",
    "\n",
    "username='manhcuong.nguyen'\n",
    "password='123456798'\n",
    "server = 'GA-9RC9BS2\\SQLEXPRESS'\n",
    "m = 6\n",
    "db = 'TVT_{0:0>2d}_2020'.format(m)\n",
    "range_day=range(25,26,1)  ## ngày phải để tăng lên 1 ngày, vd tải từ ngày 2-4 thì range phải là (2,5,1)\n"
   ]
  },
  {
   "cell_type": "code",
   "execution_count": 2,
   "metadata": {
    "tags": []
   },
   "outputs": [
    {
     "output_type": "stream",
     "name": "stdout",
     "text": "R:\\1. DATABASE\\1. Bank\\2020\\Bank 2006\\TVT\\Transaction_detail_(TVT)_(2020-06-25-2020-06-25).xlsx : TVT_2020-06-25-2020-06-25\nimport to SQL done, check your data in SQL server\n"
    }
   ],
   "source": [
    "for d in range_day:\n",
    "    a = datetime.date(2020,m,d)\n",
    "    b = a + datetime.timedelta(0)\n",
    "    m1 = b.month\n",
    "    d1 = b.day\n",
    "    File = r'R:\\1. DATABASE\\1. Bank\\2020\\Bank 20{0:0>2d}\\TVT\\Transaction_detail_(TVT)_(2020-{0:0>2d}-{1:0>2d}-2020-{2:0>2d}-{3:0>2d}).xlsx'.format(m,d,m1,d1)\n",
    "    if __name__ == '__main__':\n",
    "        data_read = pd.read_excel(File,sheet_name=None,header=0, converters={'OrderID':str,'User ID':str,'Buyer Phone':str,'Create Time': pd.to_datetime,'Topup ValidTime': pd.to_datetime,'Payment ValidTime': pd.to_datetime})\n",
    "        data = pd.concat(data_read)\n",
    "        data = data.rename(columns= {'Topup':'TopUp','ItemAmount':'Item Amount','Topup Ref':'TopUp Ref'})\n",
    "        table_name = 'TVT_2020-{0:0>2d}-{1:0>2d}-2020-{0:0>2d}-{1:0>2d}'.format(m,d)\n",
    "              \n",
    "        #change your server name here\n",
    "        conn_str = ('Driver={SQL Server};'\n",
    "                    'Server=' + server + ';'\n",
    "                    'Database=' + db + ';'\n",
    "                    'UID='+username+';'\n",
    "                    'PWD='+password+';')\n",
    "        params = urllib.parse.quote_plus(conn_str)\n",
    "        engine = sqlalchemy.create_engine(\"mssql+pyodbc:///?odbc_connect=%s\" % params)\n",
    "        data.to_sql(name=table_name, con=engine, if_exists='replace', index=False, dtype={'Promotion': NVARCHAR})\n",
    "        print(File,':',table_name)\n",
    "print('import to SQL done, check your data in SQL server')"
   ]
  },
  {
   "cell_type": "code",
   "execution_count": null,
   "metadata": {},
   "outputs": [],
   "source": []
  }
 ],
 "metadata": {
  "kernelspec": {
   "display_name": "Python 3",
   "language": "python",
   "name": "python3"
  },
  "language_info": {
   "codemirror_mode": {
    "name": "ipython",
    "version": 3
   },
   "file_extension": ".py",
   "mimetype": "text/x-python",
   "name": "python",
   "nbconvert_exporter": "python",
   "pygments_lexer": "ipython3",
   "version": "3.7.1-final"
  },
  "toc": {
   "base_numbering": 1,
   "nav_menu": {},
   "number_sections": true,
   "sideBar": true,
   "skip_h1_title": false,
   "title_cell": "Table of Contents",
   "title_sidebar": "Contents",
   "toc_cell": false,
   "toc_position": {},
   "toc_section_display": true,
   "toc_window_display": false
  }
 },
 "nbformat": 4,
 "nbformat_minor": 2
}