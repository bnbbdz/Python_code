{
 "cells": [
  {
   "cell_type": "code",
   "execution_count": 1,
   "metadata": {},
   "outputs": [],
   "source": [
    "import os\n",
    "import pandas as pd\n",
    "import datetime\n",
    "import pyodbc\n",
    "import sqlalchemy\n",
    "import urllib\n",
    "from sqlalchemy.types import NVARCHAR"
   ]
  },
  {
   "cell_type": "code",
   "execution_count": 2,
   "metadata": {
    "tags": []
   },
   "outputs": [
    {
     "output_type": "stream",
     "name": "stdout",
     "text": "import to SQL done, check your data in SQL server\n"
    }
   ],
   "source": [
    "a = pd.read_excel(r'R:\\1. DATABASE\\1. Bank\\2020\\Bank 2006\\TVT\\TVT ReDownload\\Transaction_detail_(TVT)_(2020-06-15-2020-06-21).1592967061.xlsx', sheet_name=None,header=0,converters={'OrderID':str,'User ID':str,'Buyer Phone':str,'Create Time': pd.to_datetime,'Topup ValidTime': pd.to_datetime,'Payment ValidTime': pd.to_datetime})\n",
    "TVT = pd.concat(a)\n",
    "TVT_rename = TVT.rename(columns= {'Topup':'TopUp','ItemAmount':'Item Amount','Topup Ref':'TopUp Ref'})\n",
    "\n",
    "# Dien ten bang, thang\n",
    "table_name = 'TVT_2020-06-15-2020-06-21'\n",
    "m = 6\n",
    "username='manhcuong.nguyen'\n",
    "password='123456798'\n",
    "server = 'GA-9RC9BS2\\SQLEXPRESS'\n",
    "db = 'TVT_{0:0>2d}_2020_ReDownload'.format(m)\n",
    "\n",
    "conn_str = ('Driver={SQL Server};'\n",
    "                    'Server=' + server + ';'\n",
    "                    'Database=' + db + ';'\n",
    "                    'UID='+username+';'\n",
    "                    'PWD='+password+';')\n",
    "params = urllib.parse.quote_plus(conn_str)\n",
    "engine = sqlalchemy.create_engine(\"mssql+pyodbc:///?odbc_connect=%s\" % params)\n",
    "TVT_rename.to_sql(name=table_name, con=engine, if_exists='replace', index=False, dtype={'Promotion': NVARCHAR})\n",
    "print('import to SQL done, check your data in SQL server')"
   ]
  },
  {
   "cell_type": "code",
   "execution_count": null,
   "metadata": {},
   "outputs": [],
   "source": []
  }
 ],
 "metadata": {
  "kernelspec": {
   "display_name": "Python 3",
   "language": "python",
   "name": "python3"
  },
  "language_info": {
   "codemirror_mode": {
    "name": "ipython",
    "version": 3
   },
   "file_extension": ".py",
   "mimetype": "text/x-python",
   "name": "python",
   "nbconvert_exporter": "python",
   "pygments_lexer": "ipython3",
   "version": "3.7.1-final"
  },
  "toc": {
   "base_numbering": 1,
   "nav_menu": {},
   "number_sections": true,
   "sideBar": true,
   "skip_h1_title": false,
   "title_cell": "Table of Contents",
   "title_sidebar": "Contents",
   "toc_cell": false,
   "toc_position": {},
   "toc_section_display": true,
   "toc_window_display": false
  }
 },
 "nbformat": 4,
 "nbformat_minor": 2
}