{
 "cells": [
  {
   "cell_type": "code",
   "execution_count": 1,
   "metadata": {},
   "outputs": [],
   "source": [
    "import os\n",
    "import csv\n",
    "import pandas as pd\n",
    "import datetime\n",
    "import pyodbc\n",
    "import sqlalchemy\n",
    "import urllib\n",
    "from sqlalchemy.types import NVARCHAR\n",
    "\n",
    "username='manhcuong.nguyen'\n",
    "password='123456798'\n",
    "server = 'GA-9RC9BS2\\SQLEXPRESS'\n",
    "m= 6\n",
    "db = 'IS_Giro_{0:0>2d}_2020'.format(m)\n",
    "range_day=range(25,26,1)  ## ngày phải để tăng lên 1 ngày, vd tải từ ngày 2-4 thì range phải là (2,5,1)\n"
   ]
  },
  {
   "cell_type": "code",
   "execution_count": 2,
   "metadata": {
    "tags": []
   },
   "outputs": [
    {
     "output_type": "stream",
     "name": "stdout",
     "text": "R:\\1. DATABASE\\1. Bank\\2020\\Bank 2006\\Cuong Data\\Giro 06_2020\\bank_giro_transaction_query_20200625_20200625.csv  :  Giro_20200625_20200625\nimport to SQL done, check your data in SQL server\n"
    }
   ],
   "source": [
    "for d in range_day:\n",
    "    a = r'R:\\1. DATABASE\\1. Bank\\2020\\Bank 20{0:0>2d}\\Cuong Data\\Giro {0:0>2d}_2020\\bank_giro_transaction_query_2020{0:0>2d}{1:0>2d}_2020{0:0>2d}{1:0>2d}.csv'.format(m,d)\n",
    "    if __name__ == '__main__':\n",
    "        data = pd.read_csv(a, converters={'IS Transaction ID':str,'Bank Transaction ID':str,'Caller Reference':str,'Mobile Number':str,'Create Time': pd.to_datetime})\n",
    "        table_name = 'Giro_'+a[-21:-4:]\n",
    "        \n",
    "        #change your server name here\n",
    "        conn_str = ('Driver={SQL Server};'\n",
    "                    'Server=' + server + ';'\n",
    "                    'Database=' + db + ';'\n",
    "                    'UID='+username+';'\n",
    "                    'PWD='+password+';')\n",
    "        params = urllib.parse.quote_plus(conn_str)\n",
    "        engine = sqlalchemy.create_engine(\"mssql+pyodbc:///?odbc_connect=%s\" % params)\n",
    "        data.to_sql(name=table_name, con=engine, if_exists='replace', index=False)\n",
    "        print(a,' : ',table_name)\n",
    "print('import to SQL done, check your data in SQL server')"
   ]
  },
  {
   "cell_type": "code",
   "execution_count": null,
   "metadata": {},
   "outputs": [],
   "source": []
  }
 ],
 "metadata": {
  "kernelspec": {
   "display_name": "Python 3",
   "language": "python",
   "name": "python3"
  },
  "language_info": {
   "codemirror_mode": {
    "name": "ipython",
    "version": 3
   },
   "file_extension": ".py",
   "mimetype": "text/x-python",
   "name": "python",
   "nbconvert_exporter": "python",
   "pygments_lexer": "ipython3",
   "version": "3.7.1-final"
  }
 },
 "nbformat": 4,
 "nbformat_minor": 2
}