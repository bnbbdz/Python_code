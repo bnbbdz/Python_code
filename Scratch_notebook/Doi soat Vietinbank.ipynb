{
 "cells": [
  {
   "cell_type": "code",
   "execution_count": 1,
   "metadata": {},
   "outputs": [],
   "source": [
    "import pandas as pd\n",
    "d1 = '15'\n",
    "d2 = '21'\n",
    "m = '06'"
   ]
  },
  {
   "cell_type": "code",
   "execution_count": 2,
   "metadata": {},
   "outputs": [],
   "source": [
    "##Tải sổ phụ VTB\n",
    "VTB=pd.read_excel(r'R:\\2. Bank reconcile\\2. Toppay\\{0}.2020\\3. VTB_Bank_statement_Periodic_{1}_{2}{0}.xlsx'.format(m,d1,d2),header=0,dtype={'Ref':str})"
   ]
  },
  {
   "cell_type": "code",
   "execution_count": 3,
   "metadata": {},
   "outputs": [],
   "source": [
    "##Tải admin VTB\n",
    "Admin_Giro=pd.read_excel(r'R:\\1. DATABASE\\3. Admin toppay\\9. TVT Report\\{0}.2020\\TVT {1}_{2}\\VTB.xlsx'.format(m,d1,d2),sheet_name='VTB_Giro',header=0,dtype={'Ref_Check':str})\n",
    "Admin_WD=pd.read_excel(r'R:\\1. DATABASE\\3. Admin toppay\\9. TVT Report\\{0}.2020\\TVT {1}_{2}\\VTB.xlsx'.format(m,d1,d2),sheet_name='VTB_WD',header=0,dtype={'Ref_Check':str})"
   ]
  },
  {
   "cell_type": "code",
   "execution_count": 4,
   "metadata": {},
   "outputs": [],
   "source": [
    "# def Ref_SP(s):\n",
    "#     if 'thoi gian' in s:\n",
    "#         i=s[len(s)-(len(s)-s.find(';'))-12:s.find(';'):]\n",
    "#     else:\n",
    "#         i=s[len(s)-12::]\n",
    "#     return(i)"
   ]
  },
  {
   "cell_type": "code",
   "execution_count": 5,
   "metadata": {},
   "outputs": [],
   "source": [
    "# VTB['Ref_SP']=VTB.apply(lambda row:Ref_SP(row['Mô tả giao dịch']),axis=1)"
   ]
  },
  {
   "cell_type": "code",
   "execution_count": 6,
   "metadata": {},
   "outputs": [],
   "source": [
    "VTB_GIRO=VTB[VTB['Type'].isin(['Toppay - Giro Payment','Toppay - Giro Shopping','Toppay - Giro Transfer'])]\n",
    "VTB_WD=VTB[VTB['Type'].isin(['Toppay - withdraw'])]"
   ]
  },
  {
   "cell_type": "code",
   "execution_count": 7,
   "metadata": {},
   "outputs": [],
   "source": [
    "Admin_Bank_Giro=VTB_GIRO.merge(Admin_Giro,left_on='Ref',right_on='Ref_Check',how='outer',indicator=True)"
   ]
  },
  {
   "cell_type": "code",
   "execution_count": 8,
   "metadata": {},
   "outputs": [],
   "source": [
    "Admin_Bank_WD=VTB_WD.merge(Admin_WD,left_on='Ref',right_on='Ref_Check',how='outer',indicator=True)"
   ]
  },
  {
   "cell_type": "code",
   "execution_count": 9,
   "metadata": {},
   "outputs": [],
   "source": [
    "#Admin_Bank_Giro.to_excel(r'Y:\\1. DATABASE\\3. Admin toppay\\9. TVT Report\\10.2019\\TVT 11_13\\VTB_S_Bank_Giro.xlsx')"
   ]
  },
  {
   "cell_type": "code",
   "execution_count": 10,
   "metadata": {},
   "outputs": [],
   "source": [
    "#Admin_Bank_WD.to_excel(r'Y:\\1. DATABASE\\3. Admin toppay\\9. TVT Report\\10.2019\\TVT 11_13\\VTB_S_Bank_WD.xlsx')"
   ]
  },
  {
   "cell_type": "code",
   "execution_count": 11,
   "metadata": {},
   "outputs": [],
   "source": [
    "with pd.ExcelWriter(r'R:\\1. DATABASE\\3. Admin toppay\\9. TVT Report\\{0}.2020\\TVT {1}_{2}\\VTB_S_Bank.xlsx'.format(m,d1,d2)) as writer:\n",
    "    Admin_Bank_Giro.to_excel(writer, sheet_name='VTB_S_Bank_Giro')\n",
    "    Admin_Bank_WD.to_excel(writer, sheet_name=\"VTB_S_Bank_WD\")"
   ]
  },
  {
   "cell_type": "code",
   "execution_count": null,
   "metadata": {},
   "outputs": [],
   "source": []
  },
  {
   "cell_type": "code",
   "execution_count": null,
   "metadata": {},
   "outputs": [],
   "source": []
  }
 ],
 "metadata": {
  "kernelspec": {
   "display_name": "Python 3",
   "language": "python",
   "name": "python3"
  },
  "language_info": {
   "codemirror_mode": {
    "name": "ipython",
    "version": 3
   },
   "file_extension": ".py",
   "mimetype": "text/x-python",
   "name": "python",
   "nbconvert_exporter": "python",
   "pygments_lexer": "ipython3",
   "version": "3.7.1-final"
  },
  "toc": {
   "base_numbering": 1,
   "nav_menu": {},
   "number_sections": true,
   "sideBar": true,
   "skip_h1_title": false,
   "title_cell": "Table of Contents",
   "title_sidebar": "Contents",
   "toc_cell": false,
   "toc_position": {},
   "toc_section_display": true,
   "toc_window_display": false
  }
 },
 "nbformat": 4,
 "nbformat_minor": 2
}