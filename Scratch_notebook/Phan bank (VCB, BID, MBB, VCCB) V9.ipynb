{
 "cells": [
  {
   "cell_type": "markdown",
   "metadata": {},
   "source": [
    "# Nhập thư viện"
   ]
  },
  {
   "cell_type": "code",
   "execution_count": 1,
   "metadata": {},
   "outputs": [],
   "source": [
    "import pandas as pd\n",
    "import pickle\n",
    "from datetime import datetime, date, time, timedelta\n",
    "import pyodbc\n",
    "from IPython.core.display import display, HTML\n",
    "import os\n",
    "pd.set_option('display.expand_frame_repr', False)\n",
    "import glob"
   ]
  },
  {
   "cell_type": "markdown",
   "metadata": {},
   "source": [
    "# Khai báo ngày + Database"
   ]
  },
  {
   "cell_type": "markdown",
   "metadata": {},
   "source": [
    "Khai báo ngày Bankstatement"
   ]
  },
  {
   "cell_type": "code",
   "execution_count": 2,
   "metadata": {},
   "outputs": [],
   "source": [
    "day_list = range(22,30,1) #lay tang them 1 ngay"
   ]
  },
  {
   "cell_type": "markdown",
   "metadata": {},
   "source": [
    "Khai báo ngày Giro, TVT, IBanking"
   ]
  },
  {
   "cell_type": "code",
   "execution_count": 3,
   "metadata": {},
   "outputs": [],
   "source": [
    "m_Giro = 6\n",
    "m_TVT = m_IB = m_Giro \n",
    "#Range day IS lay lui lai 5 ngay \n",
    "range_day_Giro = range(9,23,1) \n",
    "range_day_IB = range_day_Giro\n",
    "#Range day TVT lay lui lai 5 ngay + lay them 2 ngay cua thang sau doi voi bao cao thang\n",
    "range_day_TVT= range_day_Giro "
   ]
  },
  {
   "cell_type": "markdown",
   "metadata": {},
   "source": [
    "Khai báo Database"
   ]
  },
  {
   "cell_type": "code",
   "execution_count": 4,
   "metadata": {},
   "outputs": [],
   "source": [
    "username='manhcuong.nguyen'\n",
    "password='123456798'\n",
    "server = 'GA-9RC9BS2\\SQLEXPRESS'\n",
    "# #Giro\n",
    "# db_Giro='IS_Giro_{0:0>2d}_2020'.format(m_Giro)\n",
    "# #Ibanking\n",
    "# db_IB='IS_IBanking_{0:0>2d}_2020'.format(m_Giro)\n",
    "#TVT\n",
    "db_TVT='TVT_{0:0>2d}_2020'.format(m_Giro)"
   ]
  },
  {
   "cell_type": "markdown",
   "metadata": {},
   "source": [
    "# Import nguồn IS & TVT\n"
   ]
  },
  {
   "cell_type": "markdown",
   "metadata": {},
   "source": [
    "## IS Giro raw data\n"
   ]
  },
  {
   "cell_type": "markdown",
   "metadata": {},
   "source": [
    "From SQL"
   ]
  },
  {
   "cell_type": "code",
   "execution_count": 5,
   "metadata": {},
   "outputs": [],
   "source": [
    "# conn_str_Giro = ('Driver={SQL Server};'\n",
    "#                 'Server='+ server+';'\n",
    "#                 'Database='+db_Giro+';'\n",
    "#                 'UID='+username+';'\n",
    "#                 'PWD='+password+';')\n",
    "\n",
    "# connection_Giro = pyodbc.connect(conn_str_Giro)\n",
    "# data_Giro=[]\n",
    "# for d in range_day_Giro:\n",
    "#     sql_statement = \"\"\"SELECT * FROM [{2}].[dbo].[Giro_2020{0:0>2d}{1:0>2d}_2020{0:0>2d}{1:0>2d}]\"\"\".format(m_Giro,d,db_Giro)\n",
    "#     sql_data = pd.read_sql(sql_statement, connection_Giro)\n",
    "#     data_Giro.append(sql_data)\n",
    "    \n",
    "#Lấy thêm tháng sau doi voi truong hop dau thang\n",
    "\n",
    "# db_Giro2='IS_Giro_02_2020'\n",
    "# m_Giro2= 2\n",
    "# range_day_Giro2 = range(1,3,1)\n",
    "# conn_str_Giro2 = ('Driver={SQL Server};'\n",
    "#                 'Server='+ server+';'\n",
    "#                 'Database='+db_Giro2+';'\n",
    "#                 'UID='+username+';'\n",
    "#                 'PWD='+password+';')\n",
    "\n",
    "# connection_Giro2 = pyodbc.connect(conn_str_Giro2)\n",
    "# for d in range_day_Giro2:\n",
    "#     sql_statement = \"\"\"SELECT * FROM [{2}].[dbo].[Giro_2020{0:0>2d}{1:0>2d}_2020{0:0>2d}{1:0>2d}]\"\"\".format(m_Giro2,d,db_Giro2)\n",
    "#     sql_data = pd.read_sql(sql_statement, connection_Giro2)\n",
    "#     data_Giro.append(sql_data)\n",
    "# IS_Giro = pd.concat(data_Giro)"
   ]
  },
  {
   "cell_type": "markdown",
   "metadata": {},
   "source": [
    "Upload from csv"
   ]
  },
  {
   "cell_type": "code",
   "execution_count": 6,
   "metadata": {},
   "outputs": [],
   "source": [
    "# range_day_Giro2 = range(25,32,1)\n",
    "# m2 = 5\n",
    "data_Giro = []\n",
    "for i in range_day_Giro:\n",
    "    a = pd.read_csv(r'R:\\1. DATABASE\\1. Bank\\2020\\Bank 20{0:0>2d}\\Cuong Data\\Giro {0:0>2d}_2020\\bank_giro_transaction_query_2020{0:0>2d}{1:0>2d}_2020{0:0>2d}{1:0>2d}.csv'.format(m_Giro,i), sep=',',dtype={'IS Transaction ID':str,'Bank Transaction ID':str})\n",
    "    data_Giro.append(a)\n",
    "# for i in range_day_Giro2:\n",
    "#     a = pd.read_csv(r'R:\\1. DATABASE\\1. Bank\\2020\\Bank 20{0:0>2d}\\Cuong Data\\Giro {0:0>2d}_2020\\bank_giro_transaction_query_2020{0:0>2d}{1:0>2d}_2020{0:0>2d}{1:0>2d}.csv'.format(m2,i), sep=',',dtype={'IS Transaction ID':str,'Bank Transaction ID':str})\n",
    "#     data_Giro.append(a)\n",
    "IS_Giro=pd.concat(data_Giro)"
   ]
  },
  {
   "cell_type": "markdown",
   "metadata": {},
   "source": [
    "## TVT data "
   ]
  },
  {
   "cell_type": "markdown",
   "metadata": {},
   "source": [
    "Upload TVT from SQL"
   ]
  },
  {
   "cell_type": "code",
   "execution_count": 7,
   "metadata": {},
   "outputs": [],
   "source": [
    "conn_str_TVT = ('Driver={SQL Server};'\n",
    "                'Server='+ server+';'\n",
    "                'Database='+db_TVT+';'\n",
    "                'UID='+username+';'\n",
    "                'PWD='+password+';')\n",
    "\n",
    "connection_TVT = pyodbc.connect(conn_str_TVT)\n",
    "data_TVT=[]\n",
    "for d in range_day_TVT:\n",
    "    sql_statement = \"\"\"SELECT * FROM [{2}].[dbo].[TVT_2020-{0:0>2d}-{1:0>2d}-2020-{0:0>2d}-{1:0>2d}]\"\"\".format(m_TVT,d,db_TVT)\n",
    "    sql_data = pd.read_sql(sql_statement, connection_TVT)\n",
    "    data_TVT.append(sql_data)\n",
    "    \n",
    "#Lấy thêm tháng khác doi voi truong hop dau thang va cuoi thang\n",
    "# m_TVT2= 5\n",
    "# range_day_TVT2 = range(25,32,1)\n",
    "\n",
    "# db_TVT2='TVT_{0:0>2d}_2020'.format(m_TVT2)\n",
    "\n",
    "# conn_str_TVT2 = ('Driver={SQL Server};'\n",
    "#                 'Server='+ server+';'\n",
    "#                 'Database='+db_TVT2+';'\n",
    "#                 'UID='+username+';'\n",
    "#                 'PWD='+password+';')\n",
    "# connection_TVT2 = pyodbc.connect(conn_str_TVT2)\n",
    "\n",
    "# for d in range_day_TVT2:\n",
    "#     sql_statement = \"\"\"SELECT * FROM [{2}].[dbo].[TVT_2020-{0:0>2d}-{1:0>2d}-2020-{0:0>2d}-{1:0>2d}]\"\"\".format(m_TVT2,d,db_TVT2)\n",
    "#     sql_data = pd.read_sql(sql_statement, connection_TVT2)\n",
    "#     data_TVT.append(sql_data)\n",
    "TVT = pd.concat(data_TVT)"
   ]
  },
  {
   "cell_type": "markdown",
   "metadata": {},
   "source": [
    "From Excel"
   ]
  },
  {
   "cell_type": "code",
   "execution_count": 8,
   "metadata": {},
   "outputs": [],
   "source": [
    "# # range_day_TVT2 = range(22,32,1)\n",
    "# # m2 = 1\n",
    "# data_TVT = []\n",
    "# for i in range_day_TVT:\n",
    "#     a = pd.read_excel(r'R:\\1. DATABASE\\1. Bank\\2020\\Bank 2002\\TVT\\Transaction detail (TVT) (2020-{0:0>2d}-{1:0>2d}-2020-{0:0>2d}-{1:0>2d}).xlsx'.format(m_TVT,i), sheet_name='Sheet1',header=0)\n",
    "#     data_TVT.append(a)\n",
    "# # for i in range_day_TVT2:\n",
    "# #     a = pd.read_excel(r'R:\\1. DATABASE\\1. Bank\\2020\\Bank 2001\\TVT\\Transaction detail (TVT) (2020-{0:0>2d}-{1:0>2d}-2020-{0:0>2d}-{1:0>2d}).xlsx'.format(m2,i), sheet_name='Sheet1',header=0)\n",
    "# #     data_TVT.append(a)  \n",
    "# TVT=pd.concat(data_TVT)"
   ]
  },
  {
   "cell_type": "markdown",
   "metadata": {},
   "source": [
    "Lấy orderid của shopee cho SML & VNP"
   ]
  },
  {
   "cell_type": "code",
   "execution_count": 9,
   "metadata": {},
   "outputs": [],
   "source": [
    "TVT_Shopee= TVT[TVT['TopUp'] =='Shopee Wallet Topup' ]"
   ]
  },
  {
   "cell_type": "code",
   "execution_count": 10,
   "metadata": {},
   "outputs": [],
   "source": [
    "TVT_Shopee.to_excel(r'R:\\1. DATABASE\\1. Bank\\2020\\Bank 20{0:0>2d}\\Cuong Data\\Python result\\map_orderid.xlsx'.format(m_Giro))"
   ]
  },
  {
   "cell_type": "code",
   "execution_count": 11,
   "metadata": {},
   "outputs": [],
   "source": [
    "#TVT[TVT.eq(1436117).any(1)]"
   ]
  },
  {
   "cell_type": "markdown",
   "metadata": {},
   "source": [
    "Xử lý TVT"
   ]
  },
  {
   "cell_type": "code",
   "execution_count": 12,
   "metadata": {},
   "outputs": [],
   "source": [
    "TVT.drop_duplicates(subset= 'OrderID', keep='first', inplace=True)"
   ]
  },
  {
   "cell_type": "code",
   "execution_count": 13,
   "metadata": {},
   "outputs": [],
   "source": [
    "# Def tạo phân loại TVT\n",
    "def TaoPhanLoaiTVT (PaymentInfo,TopUp):\n",
    "    if 'Cash via Partner Top-up' in PaymentInfo and 'Shopee Wallet Topup' in TopUp:\n",
    "        phan_loai = 'APA Shopee GW'\n",
    "    elif 'Cash via Direct Debit' in PaymentInfo or 'Cash via Partner Top-up' in PaymentInfo:\n",
    "        phan_loai = 'Toppay - Giro Payment'\n",
    "    elif 'Cash Transfer' in PaymentInfo or 'Collection QR' in PaymentInfo or 'Now Transfer' in PaymentInfo:\n",
    "        phan_loai = 'Toppay - Giro Transfer'\n",
    "    elif 'Cash via Direct Bank Channel Top-up' in PaymentInfo:\n",
    "        phan_loai = 'Toppay - API'\n",
    "    elif 'Cash Withdrawal' in PaymentInfo:\n",
    "        phan_loai = 'Toppay - withdraw'\n",
    "    elif 'Cash via iBanking' in PaymentInfo:\n",
    "        phan_loai = 'Toppay - GW'\n",
    "    else:\n",
    "        phan_loai = 'Toppay - Giro Shopping'\n",
    "    return (phan_loai)"
   ]
  },
  {
   "cell_type": "code",
   "execution_count": 14,
   "metadata": {},
   "outputs": [],
   "source": [
    "# TVT.iloc[739:743].to_excel(r'D:\\cuong.xlsx')"
   ]
  },
  {
   "cell_type": "code",
   "execution_count": 15,
   "metadata": {},
   "outputs": [],
   "source": [
    "TVT['Type1']=TVT.apply(lambda row:TaoPhanLoaiTVT ( row ['PaymentInfo'],row ['TopUp']),axis = 1)"
   ]
  },
  {
   "cell_type": "code",
   "execution_count": 16,
   "metadata": {},
   "outputs": [],
   "source": [
    "TVT[['Topup ref']]=TVT[['TopUp Ref']].fillna('NoRef')"
   ]
  },
  {
   "cell_type": "code",
   "execution_count": 17,
   "metadata": {},
   "outputs": [],
   "source": [
    "#TVT['PaymentInfo'].head()"
   ]
  },
  {
   "cell_type": "code",
   "execution_count": 18,
   "metadata": {},
   "outputs": [],
   "source": [
    "IS_Giro=IS_Giro.merge(TVT,left_on=['IS Transaction ID'],right_on=['TopUp Ref'], how='left')"
   ]
  },
  {
   "cell_type": "code",
   "execution_count": 19,
   "metadata": {},
   "outputs": [],
   "source": [
    "#IS_Giro.head(1)"
   ]
  },
  {
   "cell_type": "code",
   "execution_count": 20,
   "metadata": {},
   "outputs": [],
   "source": [
    "IS_Giro= IS_Giro[['IS Transaction ID', 'Bank Transaction ID', 'Caller','Caller Reference', 'Transaction Type', 'Mobile Number', 'Bank Name','Transaction status', 'Amount_x', 'Created At','PaymentInfo','Type1']]"
   ]
  },
  {
   "cell_type": "code",
   "execution_count": 21,
   "metadata": {},
   "outputs": [],
   "source": [
    "# Tạo phân loại cho IS_Giro\n",
    "def TaoPhanLoaiIsGiro (TransactionType,Caller,Type1):\n",
    "    if 'Wallet2Bank' in str(TransactionType):\n",
    "        i='Toppay - withdraw'\n",
    "    elif 'cyberpay' in str(Caller):\n",
    "        i = 'CBP - Giro'\n",
    "    elif 'Toppay - Giro Shopping' in str(Type1):\n",
    "        i = 'Toppay - Giro Shopping'\n",
    "    elif 'Toppay - Giro Payment' in str(Type1):\n",
    "        i = 'Toppay - Giro Payment'\n",
    "    elif 'Toppay - Giro Transfer' in str(Type1):\n",
    "        i = 'Toppay - Giro Transfer'\n",
    "    else:\n",
    "        i = ''\n",
    "    return(i)"
   ]
  },
  {
   "cell_type": "code",
   "execution_count": 22,
   "metadata": {},
   "outputs": [],
   "source": [
    "# Thêm cột phân loại IS_Giro\n",
    "IS_Giro['Type']=IS_Giro.apply(lambda row:TaoPhanLoaiIsGiro ( row ['Transaction Type'],row ['Caller'],row['Type1']),axis = 1)"
   ]
  },
  {
   "cell_type": "markdown",
   "metadata": {},
   "source": [
    "## IS_IBanking"
   ]
  },
  {
   "cell_type": "markdown",
   "metadata": {},
   "source": [
    "From SQL"
   ]
  },
  {
   "cell_type": "code",
   "execution_count": 23,
   "metadata": {},
   "outputs": [],
   "source": [
    "# conn_str_IB = ('Driver={SQL Server};'\n",
    "#                 'Server='+ server+';'\n",
    "#                 'Database='+db_IB+';'\n",
    "#                 'UID='+username+';'\n",
    "#                 'PWD='+password+';')\n",
    "\n",
    "# connection_IB = pyodbc.connect(conn_str_IB)\n",
    "# data_IB=[]\n",
    "# for d in range_day_IB:\n",
    "#     day_IB1 = date(2020,m_IB,d)\n",
    "#     day_IB2 = day_IB1 + timedelta(1)\n",
    "#     m_IB2 = day_IB2.month\n",
    "#     d2 = day_IB2.day    \n",
    "#     sql_statement = \"\"\"SELECT * FROM [{4}].[dbo].[ibanking_2020{0:0>2d}{1:0>2d}_2020{2:0>2d}{3:0>2d}]\"\"\".format(m_IB,d,m_IB2,d2,db_IB)\n",
    "#     sql_data = pd.read_sql(sql_statement, connection_IB)\n",
    "#     data_IB.append(sql_data)\n",
    "    \n",
    "#Lấy thêm tháng khác doi voi truong hop dau thang\n",
    "\n",
    "# db_IB2='IS_IBanking_02_2020'\n",
    "# m_IB2= 2\n",
    "# range_day_IB2 = range(1,3,1)\n",
    "# conn_str_IB2 = ('Driver={SQL Server};'\n",
    "#                 'Server='+ server+';'\n",
    "#                 'Database='+db_IB2+';'\n",
    "#                 'UID='+username+';'\n",
    "#                 'PWD='+password+';')\n",
    "\n",
    "# connection_IB2 = pyodbc.connect(conn_str_IB2)\n",
    "# for d in range_day_IB2:\n",
    "#     d2 = d + 1\n",
    "#     sql_statement = \"\"\"SELECT * FROM [{3}].[dbo].[ibanking_2020{0:0>2d}{1:0>2d}_2020{0:0>2d}{2:0>2d}]\"\"\".format(m_IB2,d,d2,db_IB2)\n",
    "#     sql_data = pd.read_sql(sql_statement, connection_IB2)\n",
    "#     data_IB.append(sql_data)\n",
    "# IS_Ibanking = pd.concat(data_IB)"
   ]
  },
  {
   "cell_type": "markdown",
   "metadata": {},
   "source": [
    "From CSV"
   ]
  },
  {
   "cell_type": "code",
   "execution_count": 24,
   "metadata": {},
   "outputs": [],
   "source": [
    "# m_IB2 = 5\n",
    "# range_day_IB2 = range(25,32,1)\n",
    "\n",
    "data_IB = []\n",
    "for i in range_day_IB:\n",
    "    a = date(2020,m_IB,i)\n",
    "    b = a + timedelta(1)\n",
    "    m1 = b.month\n",
    "    d1 = b.day\n",
    "    x = pd.read_csv(r'R:\\1. DATABASE\\1. Bank\\2020\\Bank 20{0:0>2d}\\Cuong Data\\IBanking {0:0>2d}_2020\\ibanking_2020{0:0>2d}{1:0>2d}_2020{2:0>2d}{3:0>2d}.csv'.format(m_IB,i,m1,d1), sep=',',dtype={'Gateway Ref':str,'System Ref':str})\n",
    "    data_IB.append(x)\n",
    "# for i in range_day_IB2:\n",
    "#     a = date(2020,m_IB2,i)\n",
    "#     b = a + timedelta(1)\n",
    "#     m1 = b.month\n",
    "#     d1 = b.day\n",
    "#     x = pd.read_csv(r'R:\\1. DATABASE\\1. Bank\\2020\\Bank 20{0:0>2d}\\Cuong Data\\IBanking {0:0>2d}_2020\\ibanking_2020{0:0>2d}{1:0>2d}_2020{2:0>2d}{3:0>2d}.csv'.format(m_IB2,i,m1,d1), sep=',',dtype={'Gateway Ref':str,'System Ref':str})\n",
    "#     data_IB.append(x)\n",
    "IS_Ibanking=pd.concat(data_IB)"
   ]
  },
  {
   "cell_type": "code",
   "execution_count": 25,
   "metadata": {},
   "outputs": [],
   "source": [
    "IS_Ibanking['Customer Name']=IS_Ibanking['Customer Name'].fillna('no_data')\n",
    "IS_Ibanking['Partner']=IS_Ibanking['Partner'].fillna('no_data')"
   ]
  },
  {
   "cell_type": "code",
   "execution_count": 26,
   "metadata": {},
   "outputs": [],
   "source": [
    "def PL_Ibanking(Partner,CustomerName):\n",
    "    if 'Garena' in Partner:\n",
    "        i= 'Game - GW'\n",
    "    elif 'shopee.payment' in CustomerName or 'digital.product' in CustomerName or 'foody.order' in CustomerName :\n",
    "        i= 'Shopee - GW'\n",
    "    elif 'Shopee' in Partner and 'shopee.payment' not in CustomerName and 'digital.product' not in CustomerName and 'foody.order' not in CustomerName:\n",
    "        i = 'Toppay - GW'\n",
    "    elif Partner == 'AirPay': \n",
    "        i= 'Toppay - GW'\n",
    "    elif 'Đại Lý AirPay' in Partner : \n",
    "        i= 'CBP - GW'\n",
    "    else:\n",
    "        i = 'CBP - GW'\n",
    "    return (i)"
   ]
  },
  {
   "cell_type": "code",
   "execution_count": 27,
   "metadata": {},
   "outputs": [],
   "source": [
    "# Khi nào dùng nguồn ibanking xuất từ hệ thống thì THÊM DẤU CÁCH VÀO CHỮ CUSTOMER NAME.\n",
    "IS_Ibanking['PL_Ibanking']=IS_Ibanking.apply(lambda row: PL_Ibanking ( row ['Partner'],row ['Customer Name']),axis = 1)"
   ]
  },
  {
   "cell_type": "code",
   "execution_count": 28,
   "metadata": {},
   "outputs": [],
   "source": [
    "# IS_Ibanking5[IS_Ibanking5.eq('200110003100008507').any(1)]"
   ]
  },
  {
   "cell_type": "markdown",
   "metadata": {},
   "source": [
    "## IS_API (Only apply for VCB)"
   ]
  },
  {
   "cell_type": "code",
   "execution_count": 29,
   "metadata": {},
   "outputs": [],
   "source": [
    "IS_API = pd.read_excel(r'R:\\1. DATABASE\\1. Bank\\2020\\Bank 20{0:0>2d}\\Cuong Data\\API\\bank_topup_txn_from_bank_20200609_20200622.xlsx'.format(m_Giro))"
   ]
  },
  {
   "cell_type": "code",
   "execution_count": 30,
   "metadata": {},
   "outputs": [],
   "source": [
    "def IsApiRef(Bank_txn_id):\n",
    "    i=Bank_txn_id.replace(' ','')\n",
    "    return(i)"
   ]
  },
  {
   "cell_type": "code",
   "execution_count": 31,
   "metadata": {},
   "outputs": [],
   "source": [
    "IS_API['IsApiRef']=IS_API.apply(lambda row:IsApiRef (row['Bank txn id']), axis=1)"
   ]
  },
  {
   "cell_type": "code",
   "execution_count": 32,
   "metadata": {},
   "outputs": [],
   "source": [
    "def Target2 (Target):\n",
    "    if Target == 'CYBERPAY':\n",
    "        i = 'CBP - API'\n",
    "    else:\n",
    "        i = 'Toppay - API'\n",
    "    return (i)"
   ]
  },
  {
   "cell_type": "code",
   "execution_count": 33,
   "metadata": {},
   "outputs": [],
   "source": [
    "IS_API['Target2']=IS_API.apply (lambda row:Target2 (row['Target']), axis =1 )"
   ]
  },
  {
   "cell_type": "markdown",
   "metadata": {},
   "source": [
    "# Upload file bank"
   ]
  },
  {
   "cell_type": "markdown",
   "metadata": {},
   "source": [
    "## Upload VCB\n"
   ]
  },
  {
   "cell_type": "code",
   "execution_count": 34,
   "metadata": {},
   "outputs": [],
   "source": [
    "Bank5={}\n",
    "with pd.ExcelFile(r'R:\\1. DATABASE\\1. Bank\\2020\\Bank 20{0:0>2d}\\Cuong Data\\Bank statement\\VCB_5017.xlsx'.format(m_Giro)) as file_bank:\n",
    "    Bank5['VCB5017']=pd.read_excel(file_bank,'VCB5017_1',index_col=None, na_value=['NA'],skiprows=4,converters={'Số tham chiếu':str,'Số tiền ghi nợ':int,'Số tiền ghi có':int,'Mô tả':str,'Số dư cuối':int})"
   ]
  },
  {
   "cell_type": "code",
   "execution_count": 35,
   "metadata": {},
   "outputs": [],
   "source": [
    "Bank1={}\n",
    "with pd.ExcelFile(r'R:\\1. DATABASE\\1. Bank\\2020\\Bank 20{0:0>2d}\\Cuong Data\\Bank statement\\VCB.xlsx'.format(m_Giro)) as file_bank:\n",
    "    Bank1['VCB2345']=pd.read_excel(file_bank,'VCB2345',index_col=None, na_value=['NA'],skiprows=5)\n",
    "    "
   ]
  },
  {
   "cell_type": "markdown",
   "metadata": {},
   "source": [
    "## Upload ABB, MBB, SCB, VCCB"
   ]
  },
  {
   "cell_type": "code",
   "execution_count": 36,
   "metadata": {},
   "outputs": [],
   "source": [
    "Bank2={}\n",
    "with pd.ExcelFile(r'R:\\1. DATABASE\\1. Bank\\2020\\Bank 20{0:0>2d}\\Cuong Data\\Bank statement\\Bank_Tong_hop.xlsx'.format(m_Giro)) as file_bank:\n",
    "    Bank2['MBB3007']=pd.read_excel(file_bank,'MB3007',index_col=None, na_value=['NA'],skiprows=4)\n",
    "    Bank2['MBB4003']=pd.read_excel(file_bank,'MB4003',index_col=None, na_value=['NA'],skiprows=4)\n",
    "    Bank2['ABB8016']=pd.read_excel(file_bank,'ABB8016',index_col=None, na_value=['NA'],skiprows=4)\n",
    "    Bank2['SCB0002']=pd.read_excel(file_bank,'SCB0002',index_col=None, na_value=['NA'],skiprows=4)\n",
    "    Bank2['BVB 7315']=pd.read_excel(file_bank,'BVB 7315',index_col=None, na_value=['NA'],skiprows=4)\n",
    "    Bank2['BVB 7316']=pd.read_excel(file_bank,'BVB 7316',index_col=None, na_value=['NA'],skiprows=4)\n",
    "    Bank2['ABB4028']=pd.read_excel(file_bank,'ABB4028',index_col=None, na_value=['NA'],skiprows=4)\n",
    "    Bank2['DAB0007']=pd.read_excel(file_bank,'DAB0007',index_col=None, na_value=['NA'],skiprows=4)\n",
    "    Bank2['DAB0008']=pd.read_excel(file_bank,'DAB0008',index_col=None, na_value=['NA'],skiprows=4)\n",
    "    Bank2['EXB6696']=pd.read_excel(file_bank,'EXB6696',index_col=None, na_value=['NA'],skiprows=4)"
   ]
  },
  {
   "cell_type": "markdown",
   "metadata": {},
   "source": [
    "## Upload BID, STB, TCB"
   ]
  },
  {
   "cell_type": "code",
   "execution_count": 37,
   "metadata": {},
   "outputs": [],
   "source": [
    "Bank3={}\n",
    "with pd.ExcelFile(r'R:\\1. DATABASE\\1. Bank\\2020\\Bank 20{0:0>2d}\\Cuong Data\\Bank statement\\BIDV_SAC.xlsx'.format(m_Giro)) as file_bank:\n",
    "    Bank3['BID5566']=pd.read_excel(file_bank,'BID5566',index_col=None, na_value=['NA'],skiprows=4)\n",
    "    Bank3['STB6170']=pd.read_excel(file_bank,'SAC6170',index_col=None, na_value=['NA'],skiprows=4)\n",
    "    Bank3['STB6880']=pd.read_excel(file_bank,'SAC6880',index_col=None, na_value=['NA'],skiprows=4)"
   ]
  },
  {
   "cell_type": "code",
   "execution_count": 38,
   "metadata": {},
   "outputs": [],
   "source": [
    "Bank4={}\n",
    "with pd.ExcelFile(r'R:\\1. DATABASE\\1. Bank\\2020\\Bank 20{0:0>2d}\\Cuong Data\\Bank statement\\TECH.xlsx'.format(m_Giro)) as file_bank:\n",
    "    Bank4['TECH7998']=pd.read_excel(file_bank,'TECH7998',index_col=None, na_value=['NA'],skiprows=4)"
   ]
  },
  {
   "cell_type": "markdown",
   "metadata": {},
   "source": [
    "# Xử lý bank"
   ]
  },
  {
   "cell_type": "markdown",
   "metadata": {},
   "source": [
    "## VCB 5017"
   ]
  },
  {
   "cell_type": "code",
   "execution_count": 39,
   "metadata": {},
   "outputs": [],
   "source": [
    "column_name_dict ={'Ngay':'Txntime', 'Số tham chiếu':'BankRef', 'Số tiền ghi nợ':'Debit', 'Số tiền ghi có':'Credit','Mô tả':'Narrative', 'Số dư cuối':'Balance'}\n",
    "VCB5017=Bank5['VCB5017'][['Ngay','Số tham chiếu','Số tiền ghi nợ','Số tiền ghi có','Mô tả','Số dư cuối']].rename(columns= column_name_dict)"
   ]
  },
  {
   "cell_type": "code",
   "execution_count": 40,
   "metadata": {},
   "outputs": [],
   "source": [
    "VCB5017[['Debit', 'Credit']]=VCB5017[['Debit', 'Credit']].fillna(0)\n",
    "VCB5017.dropna(how='all',subset=['Txntime','BankRef','Narrative'],inplace =True)"
   ]
  },
  {
   "cell_type": "code",
   "execution_count": 41,
   "metadata": {},
   "outputs": [],
   "source": [
    "VCB5017=VCB5017[VCB5017['Txntime'].dt.day.isin(day_list)]"
   ]
  },
  {
   "cell_type": "code",
   "execution_count": 42,
   "metadata": {},
   "outputs": [],
   "source": [
    "def ApiRef (BankRef,Narrative,Txntime):\n",
    "    if BankRef[:4]=='5150' or BankRef[:4]=='5176' or BankRef[:4]=='5318' :\n",
    "        Teller_Number = str(BankRef[BankRef.find(' - ')+3:]).zfill(5)\n",
    "        Teller_Ref = str(BankRef[:BankRef.find(' - ')]).zfill(4)\n",
    "        i= str(Txntime.year)+str(Txntime.month).zfill(2)+str(Txntime.day).zfill(2)+Teller_Number+Teller_Ref\n",
    "#     elif \"IBVCB\" in Narrative:\n",
    "#         i=BankRef[0:4]+str(BankRef[-4::1])+'2020'+ Narrative[8:10]+Narrative[6:8]\n",
    "#         Teller_Number = str(BankRef[BankRef.find('.')+3:]).zfill(4)\n",
    "#         Teller_Ref = str(BankRef[:BankRef.find('.')]).zfill(4)\n",
    "#         i= str(Txntime.year)+str(Txntime.month).zfill(2)+str(Txntime.day).zfill(2)+Teller_Number+Teller_Ref\n",
    "    else:\n",
    "        i = ''\n",
    "    return(i)"
   ]
  },
  {
   "cell_type": "code",
   "execution_count": 43,
   "metadata": {},
   "outputs": [],
   "source": [
    "VCB5017['ApiRef']=VCB5017.apply(lambda row: ApiRef (row['BankRef'],row['Narrative'],row['Txntime']),axis=1 )"
   ]
  },
  {
   "cell_type": "code",
   "execution_count": 44,
   "metadata": {},
   "outputs": [],
   "source": [
    "def ApiRef2 (BankRef, Txntime):\n",
    "    if BankRef[:4]=='5150' or BankRef[:4]=='5176' or BankRef[:4]=='5318':\n",
    "        Teller_Number = str(BankRef[BankRef.find(' - ')+3:]).zfill(5)\n",
    "        Teller_Ref = str(BankRef[:BankRef.find(' - ')]).zfill(4)\n",
    "        i = '00010101'+Teller_Number+Teller_Ref\n",
    "#         i = str(Txntime.year)+str(Txntime.month).zfill(2)+str(Txntime.day).zfill(2)+Teller_Number+Teller_Ref\n",
    "    else: \n",
    "        i=\"\"\n",
    "    return(i)"
   ]
  },
  {
   "cell_type": "code",
   "execution_count": 45,
   "metadata": {},
   "outputs": [],
   "source": [
    "VCB5017['ApiRef2']=VCB5017.apply(lambda row: ApiRef2 (row['BankRef'],row['Txntime']),axis=1 )"
   ]
  },
  {
   "cell_type": "code",
   "execution_count": 46,
   "metadata": {},
   "outputs": [],
   "source": [
    "# Ref 2 trong trường hợp GD sau h cutoff time của bank --> Ref bank = ngày trên bank - 1\n",
    "def ApiRef3 (BankRef, Txntime):\n",
    "    if BankRef[:4]=='5150' or BankRef[:4]=='5176' or BankRef[:4]=='5318':\n",
    "        Teller_Number = str(BankRef[BankRef.find(' - ')+3:]).zfill(5)\n",
    "        Teller_Ref = str(BankRef[:BankRef.find(' - ')]).zfill(4)\n",
    "        i = str((Txntime-timedelta(days=1)).year).zfill(4)+str((Txntime-timedelta(days=1)).month).zfill(2)+str((Txntime-timedelta(days=1)).day).zfill(2)+Teller_Number+Teller_Ref\n",
    "    else: \n",
    "        i=\"\"\n",
    "    return(i)"
   ]
  },
  {
   "cell_type": "code",
   "execution_count": 47,
   "metadata": {},
   "outputs": [],
   "source": [
    "VCB5017['ApiRef3']=VCB5017.apply(lambda row: ApiRef3 (row['BankRef'],row['Txntime']),axis=1 )"
   ]
  },
  {
   "cell_type": "code",
   "execution_count": 48,
   "metadata": {},
   "outputs": [],
   "source": [
    "def ApiRef4 (BankRef,Narrative,Txntime):\n",
    "    if BankRef[:4]=='9928':\n",
    "        i= 'MBEW'+str(Narrative[Narrative.find('REM')-3 :Narrative.find('REM')]).zfill(4)+str(Txntime.year)+str(Txntime.month).zfill(2)+str(Txntime.day).zfill(2)\n",
    "    else:\n",
    "        i = ''\n",
    "    return(i)"
   ]
  },
  {
   "cell_type": "code",
   "execution_count": 49,
   "metadata": {},
   "outputs": [],
   "source": [
    "VCB5017['ApiRef4']=VCB5017.apply(lambda row: ApiRef4 (row['BankRef'],row['Narrative'],row['Txntime']),axis=1 )"
   ]
  },
  {
   "cell_type": "code",
   "execution_count": 50,
   "metadata": {},
   "outputs": [],
   "source": [
    "def ApiRef5 (BankRef, Txntime):\n",
    "    if BankRef[:4]=='5150' or BankRef[:4]=='5176' or BankRef[:4]=='5318':\n",
    "        Teller_Number = str(BankRef[BankRef.find(' - ')+3:]).ljust(5,'0')\n",
    "        Teller_Ref = str(BankRef[:BankRef.find(' - ')]).zfill(4)\n",
    "        i= str(Txntime.year)+str(Txntime.month).zfill(2)+str(Txntime.day).zfill(2)+Teller_Number+Teller_Ref\n",
    "    else: \n",
    "        i=\"\"\n",
    "    return(i)"
   ]
  },
  {
   "cell_type": "code",
   "execution_count": 51,
   "metadata": {},
   "outputs": [],
   "source": [
    "VCB5017['ApiRef5']=VCB5017.apply(lambda row: ApiRef5 (row['BankRef'],row['Txntime']),axis=1 )"
   ]
  },
  {
   "cell_type": "code",
   "execution_count": 52,
   "metadata": {},
   "outputs": [],
   "source": [
    "def GiroRef (BankRef,Narrative):\n",
    "#     if BankRef[:4]=='5088' :\n",
    "    if \"Ecom\" in Narrative and 'GD Ecom' not in Narrative :\n",
    "        i = Narrative[Narrative.find('EW'):(Narrative.find('EW')+16)]\n",
    "    else: \n",
    "        i=\"\"  \n",
    "    return(i)"
   ]
  },
  {
   "cell_type": "code",
   "execution_count": 53,
   "metadata": {},
   "outputs": [],
   "source": [
    "VCB5017['GiroRef']=VCB5017.apply(lambda row: GiroRef (row['BankRef'],row['Narrative']),axis=1 )"
   ]
  },
  {
   "cell_type": "code",
   "execution_count": 54,
   "metadata": {},
   "outputs": [],
   "source": [
    "def PLApi_quay(Narrative):\n",
    "    if 'GENTOP' in Narrative:\n",
    "        i='Toppay - API'\n",
    "    elif 'GENCBP' in Narrative:\n",
    "        i='CBP - API'\n",
    "    elif 'GD Ecom' in Narrative:\n",
    "        i='CBP - SML'\n",
    "    elif 'VNPAY' in Narrative or 'vnpay' in Narrative :\n",
    "        i='CBP - VNP'\n",
    "    elif 'IO THANH TOAN' in Narrative:\n",
    "        i='CBP - IO'\n",
    "    elif 'chuyen noi bo' in Narrative or 'INTERNAL'in Narrative or 'TRANSFER' in Narrative:\n",
    "        i='Bank transfer'\n",
    "    else:\n",
    "        i=''\n",
    "    return(i)"
   ]
  },
  {
   "cell_type": "code",
   "execution_count": 55,
   "metadata": {},
   "outputs": [],
   "source": [
    "# Phân loại API, Kênh Quầy & Internet banking - Cột PLApi_quay\n",
    "VCB5017['PLApi_quay']=VCB5017.apply(lambda row: PLApi_quay (row['Narrative']),axis=1)"
   ]
  },
  {
   "cell_type": "code",
   "execution_count": 56,
   "metadata": {},
   "outputs": [],
   "source": [
    "IS_API_VCB = IS_API[IS_API['Bank Name']=='VCB']"
   ]
  },
  {
   "cell_type": "code",
   "execution_count": 57,
   "metadata": {},
   "outputs": [],
   "source": [
    "def API_REF_VCB (Bank_txn_id) :\n",
    "    i = Bank_txn_id[:17]\n",
    "    return (i)"
   ]
  },
  {
   "cell_type": "code",
   "execution_count": 58,
   "metadata": {},
   "outputs": [],
   "source": [
    "IS_API_VCB['Ref_IS_VCB'] = IS_API_VCB.apply(lambda row: API_REF_VCB(row['IsApiRef']),axis=1)"
   ]
  },
  {
   "cell_type": "code",
   "execution_count": 59,
   "metadata": {},
   "outputs": [],
   "source": [
    "# Phân loại Giro - Cột Type\n",
    "VCB5017=VCB5017.merge(IS_Giro,left_on=['GiroRef'],right_on=['Bank Transaction ID'],how='left')\n",
    "# VCB5017=VCB5017[['Txntime','BankRef','Debit', 'Credit', 'Narrative', 'Balance', 'GiroRef','PLApi_quay', 'ApiRef','ApiRef2','ApiRef3','ApiRef4','Type','Transaction status']]"
   ]
  },
  {
   "cell_type": "code",
   "execution_count": 60,
   "metadata": {},
   "outputs": [],
   "source": [
    "VCB5017=VCB5017.merge(IS_API_VCB,left_on=['ApiRef'],right_on=['Ref_IS_VCB'],how='left') #IsApiRef"
   ]
  },
  {
   "cell_type": "code",
   "execution_count": 61,
   "metadata": {},
   "outputs": [],
   "source": [
    "VCB5017=VCB5017.merge(IS_API_VCB,left_on=['ApiRef2'],right_on=['Ref_IS_VCB'],how='left')"
   ]
  },
  {
   "cell_type": "code",
   "execution_count": 62,
   "metadata": {},
   "outputs": [],
   "source": [
    "VCB5017=VCB5017.merge(IS_API_VCB,left_on=['ApiRef3'],right_on=['Ref_IS_VCB'],how='left')"
   ]
  },
  {
   "cell_type": "code",
   "execution_count": 63,
   "metadata": {},
   "outputs": [],
   "source": [
    "VCB5017=VCB5017.merge(IS_API_VCB,left_on=['ApiRef4'],right_on=['Bank txn id'],how='left')"
   ]
  },
  {
   "cell_type": "code",
   "execution_count": 64,
   "metadata": {},
   "outputs": [],
   "source": [
    "VCB5017=VCB5017.merge(IS_API_VCB,left_on=['ApiRef5'],right_on=['Ref_IS_VCB'],how='left')"
   ]
  },
  {
   "cell_type": "code",
   "execution_count": 65,
   "metadata": {},
   "outputs": [],
   "source": [
    "# def Category1 (PLApi_quay,Type,Target2_x,Target2_y):\n",
    "#     if PLApi_quay !=\"\":\n",
    "#         i= PLApi_quay\n",
    "#     elif Type !='':\n",
    "#         i = Type\n",
    "#     elif Target2_x != '':\n",
    "#         i = Target2_x\n",
    "#     elif Target2_y != '':\n",
    "#         i = Target2_y\n",
    "#     else:\n",
    "#         i = ''\n",
    "#     return (i)\n",
    "    "
   ]
  },
  {
   "cell_type": "code",
   "execution_count": 66,
   "metadata": {},
   "outputs": [],
   "source": [
    "def Category1 (PLApi_quay,Type,Target2_x):\n",
    "    if PLApi_quay !=\"\":\n",
    "        i= PLApi_quay\n",
    "    elif Type !='':\n",
    "        i = Type\n",
    "    elif Target2_x !='':\n",
    "        i = Target2_x\n",
    "    else:\n",
    "        i = ''\n",
    "    return (i)\n",
    "    "
   ]
  },
  {
   "cell_type": "code",
   "execution_count": 67,
   "metadata": {},
   "outputs": [],
   "source": [
    "VCB5017['Category'] = VCB5017.apply (lambda row:Category1 (row['PLApi_quay'] , row['Type'], row['Target2']),axis=1)"
   ]
  },
  {
   "cell_type": "code",
   "execution_count": 68,
   "metadata": {},
   "outputs": [],
   "source": [
    "# VCB5017 = VCB5017[['Txntime', 'BankRef', 'Debit', 'Credit', 'Narrative', 'Balance','GiroRef','ApiRef','ApiRef2','ApiRef3','ApiRef4','Category1']]"
   ]
  },
  {
   "cell_type": "code",
   "execution_count": 69,
   "metadata": {},
   "outputs": [],
   "source": [
    "VCB5017.fillna('',inplace=True)"
   ]
  },
  {
   "cell_type": "code",
   "execution_count": 70,
   "metadata": {},
   "outputs": [],
   "source": [
    "def Ref_concat (GiroRef,ApiRef):\n",
    "    if GiroRef !=\"\":\n",
    "        i= GiroRef\n",
    "    elif ApiRef !='':\n",
    "        i = ApiRef\n",
    "    else:\n",
    "        i = ''\n",
    "    return (i)"
   ]
  },
  {
   "cell_type": "code",
   "execution_count": 71,
   "metadata": {},
   "outputs": [],
   "source": [
    "VCB5017['Ref_concat'] = VCB5017.apply (lambda row:Ref_concat (row['GiroRef'] , row['ApiRef']),axis=1)"
   ]
  },
  {
   "cell_type": "code",
   "execution_count": 72,
   "metadata": {},
   "outputs": [],
   "source": [
    "VCB5017 = VCB5017[['Txntime', 'BankRef', 'Debit', 'Credit', 'Narrative', 'Balance','Category','Ref_concat','GiroRef','ApiRef','Target2']]"
   ]
  },
  {
   "cell_type": "code",
   "execution_count": 73,
   "metadata": {},
   "outputs": [],
   "source": [
    "VCB5017['BankName']=VCB5017.apply(lambda row:'VCB5017', axis = 1)"
   ]
  },
  {
   "cell_type": "code",
   "execution_count": 74,
   "metadata": {},
   "outputs": [],
   "source": [
    "VCB5017 = VCB5017.rename(columns={'Txntime':'TxnTime'})"
   ]
  },
  {
   "cell_type": "code",
   "execution_count": 75,
   "metadata": {},
   "outputs": [],
   "source": [
    "VCB5017.to_excel(r'R:\\1. DATABASE\\1. Bank\\2020\\Bank 20{0:0>2d}\\Cuong Data\\Python result\\VCB5017.xlsx'.format(m_Giro))"
   ]
  },
  {
   "cell_type": "markdown",
   "metadata": {},
   "source": [
    "## VCB_2345"
   ]
  },
  {
   "cell_type": "code",
   "execution_count": 76,
   "metadata": {},
   "outputs": [],
   "source": [
    "column_name_dict = {'Ngày giao dịch':'Txntime', 'Số tham chiếu':'BankRef', 'Số tiền ghi nợ':'Debit', 'Số tiền ghi có':'Credit','Mô tả':'Narrative', 'Số dư':'Balance'}\n",
    "VCB2345=Bank1['VCB2345'][['Ngày giao dịch','Số tham chiếu','Số tiền ghi nợ','Số tiền ghi có','Mô tả','Số dư']].rename(columns=column_name_dict)"
   ]
  },
  {
   "cell_type": "code",
   "execution_count": 77,
   "metadata": {},
   "outputs": [],
   "source": [
    "VCB2345[['Debit','Credit']]=VCB2345[['Debit','Credit']].fillna(0)\n",
    "VCB2345.dropna(how='all',subset=['Txntime','BankRef','Narrative'],inplace =True)"
   ]
  },
  {
   "cell_type": "code",
   "execution_count": 78,
   "metadata": {},
   "outputs": [],
   "source": [
    "VCB2345['Txntime']=pd.to_datetime(VCB2345['Txntime'])"
   ]
  },
  {
   "cell_type": "code",
   "execution_count": 79,
   "metadata": {},
   "outputs": [],
   "source": [
    "VCB2345=VCB2345[VCB2345['Txntime'].dt.day.isin(day_list)]"
   ]
  },
  {
   "cell_type": "code",
   "execution_count": 80,
   "metadata": {},
   "outputs": [],
   "source": [
    "def VCB_2345_Ref(r):\n",
    "    if 'ECOM' in r:\n",
    "        i= r[r.find('ECOM')+5:r.find('ECOM')+23:1]\n",
    "    elif 'GD Ecom' in r:\n",
    "        i='CBP - SML'\n",
    "    elif 'VNPAY' in r or 'vnpay' in r :\n",
    "        i='CBP - VNP'\n",
    "    else :\n",
    "        i=''\n",
    "    return (i)"
   ]
  },
  {
   "cell_type": "code",
   "execution_count": 81,
   "metadata": {},
   "outputs": [],
   "source": [
    "VCB2345['GwRef']=VCB2345.apply(lambda row: VCB_2345_Ref(row['Narrative']),axis=1)"
   ]
  },
  {
   "cell_type": "code",
   "execution_count": 82,
   "metadata": {},
   "outputs": [],
   "source": [
    "VCB2345=VCB2345.merge(IS_Ibanking,left_on=['GwRef'],right_on=['System Ref'], how='left')[['Txntime','BankRef','Debit', 'Credit', 'Narrative', 'Balance','PL_Ibanking','GwRef']]                                            "
   ]
  },
  {
   "cell_type": "code",
   "execution_count": 83,
   "metadata": {},
   "outputs": [],
   "source": [
    "VCB2345 = VCB2345.rename(columns={'PL_Ibanking' : 'Category'})"
   ]
  },
  {
   "cell_type": "code",
   "execution_count": 84,
   "metadata": {},
   "outputs": [],
   "source": [
    "VCB2345['BankName'] = VCB2345.apply (lambda row: 'VCB2345', axis= 1)"
   ]
  },
  {
   "cell_type": "code",
   "execution_count": 85,
   "metadata": {},
   "outputs": [],
   "source": [
    "VCB2345.to_excel(r'R:\\1. DATABASE\\1. Bank\\2020\\Bank 20{0:0>2d}\\Cuong Data\\Python result\\VCB2345.xlsx'.format(m_Giro))"
   ]
  },
  {
   "cell_type": "markdown",
   "metadata": {},
   "source": [
    "## TCB 7998"
   ]
  },
  {
   "cell_type": "code",
   "execution_count": 86,
   "metadata": {},
   "outputs": [],
   "source": [
    "column_name_dict = {'Ngay':'Txntime','Dien giai':'Narrative','Số bút toán':'BankRef','No':'Debit','Co':'Credit','So du':'Balance'}\n",
    "TCB7998=Bank4['TECH7998'][['Ngay','Dien giai','Số bút toán','No','Co','So du']].rename(columns=column_name_dict)\n",
    "TCB7998.dropna(how='all',subset=['Txntime','Narrative','BankRef','Debit','Credit'],inplace =True)\n",
    "TCB7998[['Debit','Credit']]=TCB7998[['Debit','Credit']].fillna(0)"
   ]
  },
  {
   "cell_type": "code",
   "execution_count": 87,
   "metadata": {},
   "outputs": [],
   "source": [
    "TCB7998['Txntime']=pd.to_datetime(TCB7998['Txntime'])\n",
    "TCB7998=TCB7998[TCB7998['Txntime'].dt.day.isin(day_list)]"
   ]
  },
  {
   "cell_type": "code",
   "execution_count": 88,
   "metadata": {},
   "outputs": [],
   "source": [
    "def TCB7998_Ref(Narrative):\n",
    "    i= Narrative[0:15]\n",
    "    return (i)"
   ]
  },
  {
   "cell_type": "code",
   "execution_count": 89,
   "metadata": {},
   "outputs": [],
   "source": [
    "TCB7998['GwRef']=TCB7998.apply(lambda row: TCB7998_Ref(row['Narrative']),axis=1)"
   ]
  },
  {
   "cell_type": "code",
   "execution_count": 90,
   "metadata": {},
   "outputs": [],
   "source": [
    "# Phân loại Ibanking\n",
    "TCB7998=TCB7998.merge(IS_Ibanking,left_on=['GwRef'],right_on=['System Ref'], how='left')[['Txntime', 'Narrative', 'BankRef', 'Debit', 'Credit', 'Balance','GwRef','PL_Ibanking']]"
   ]
  },
  {
   "cell_type": "code",
   "execution_count": 91,
   "metadata": {},
   "outputs": [],
   "source": [
    "TCB7998 = TCB7998.rename(columns={'PL_Ibanking':'Category'})"
   ]
  },
  {
   "cell_type": "code",
   "execution_count": 92,
   "metadata": {},
   "outputs": [],
   "source": [
    "TCB7998['BankName'] = TCB7998.apply (lambda row: 'TCB7998', axis=1)"
   ]
  },
  {
   "cell_type": "markdown",
   "metadata": {},
   "source": [
    "## VCCB 7315"
   ]
  },
  {
   "cell_type": "code",
   "execution_count": 93,
   "metadata": {},
   "outputs": [],
   "source": [
    "VCCB7315=Bank2['BVB 7315'][['Số tham chiếu','Ngày giao dịch','Số tiền ghi Có','Số tiền ghi Nợ','Số dư','Diễn giải']].rename(columns={'Số tham chiếu':'BankRef','Ngày giao dịch':'Txntime','Số tiền ghi Có':'Credit','Số tiền ghi Nợ':'Debit','Số dư':'Balance','Diễn giải':'Narrative'})"
   ]
  },
  {
   "cell_type": "code",
   "execution_count": 94,
   "metadata": {},
   "outputs": [],
   "source": [
    "VCCB7315.dropna(how='all',subset=['BankRef', 'Txntime', 'Credit', 'Debit'],inplace =True)\n",
    "VCCB7315[['Credit', 'Debit']]=VCCB7315[['Credit', 'Debit']].fillna(0)"
   ]
  },
  {
   "cell_type": "code",
   "execution_count": 95,
   "metadata": {},
   "outputs": [],
   "source": [
    "VCCB7315['Txntime']=pd.to_datetime(VCCB7315['Txntime'])\n",
    "VCCB7315=VCCB7315[VCCB7315['Txntime'].dt.day.isin(day_list)]"
   ]
  },
  {
   "cell_type": "code",
   "execution_count": 96,
   "metadata": {},
   "outputs": [],
   "source": [
    "def VCCB7315_Ref(Narrative):\n",
    "    i= Narrative[-16::1]\n",
    "    return (i)"
   ]
  },
  {
   "cell_type": "code",
   "execution_count": 97,
   "metadata": {},
   "outputs": [],
   "source": [
    "VCCB7315['GiroRef']=VCCB7315.apply(lambda row: VCCB7315_Ref(row['Narrative']),axis=1)"
   ]
  },
  {
   "cell_type": "code",
   "execution_count": 98,
   "metadata": {},
   "outputs": [],
   "source": [
    "VCCB7315=VCCB7315.merge(IS_Giro,left_on=['GiroRef'],right_on=['IS Transaction ID'], how='left')[['BankRef', 'Txntime', 'Credit', 'Debit', 'Balance', 'Narrative','Type','GiroRef','Transaction status']]"
   ]
  },
  {
   "cell_type": "code",
   "execution_count": 99,
   "metadata": {},
   "outputs": [],
   "source": [
    "VCCB7315['BankName']=VCCB7315.apply(lambda row: 'VCCB7315',axis=1)"
   ]
  },
  {
   "cell_type": "code",
   "execution_count": 100,
   "metadata": {},
   "outputs": [],
   "source": [
    "VCCB7315 = VCCB7315.rename(columns={'Type' : 'Category'})"
   ]
  },
  {
   "cell_type": "markdown",
   "metadata": {},
   "source": [
    "## VCCB 7316"
   ]
  },
  {
   "cell_type": "code",
   "execution_count": 101,
   "metadata": {},
   "outputs": [],
   "source": [
    "VCCB7316=Bank2['BVB 7316'][['Số tham chiếu','Ngày giao dịch','Số tiền ghi Có','Số tiền ghi Nợ','Số dư','Diễn giải']].rename(columns={'Số tham chiếu':'BankRef','Ngày giao dịch':'Txntime','Số tiền ghi Có':'Credit','Số tiền ghi Nợ':'Debit','Số dư':'Balance','Diễn giải':'Narrative'})"
   ]
  },
  {
   "cell_type": "code",
   "execution_count": 102,
   "metadata": {},
   "outputs": [],
   "source": [
    "VCCB7316.dropna(how='all',subset=['BankRef', 'Txntime', 'Credit', 'Debit'],inplace =True)\n",
    "VCCB7316[['Credit', 'Debit']]=VCCB7316[['Credit', 'Debit']].fillna(0)"
   ]
  },
  {
   "cell_type": "code",
   "execution_count": 103,
   "metadata": {},
   "outputs": [],
   "source": [
    "VCCB7316['Txntime']=pd.to_datetime(VCCB7316['Txntime'])\n",
    "VCCB7316=VCCB7316[VCCB7316['Txntime'].dt.day.isin(day_list)]"
   ]
  },
  {
   "cell_type": "code",
   "execution_count": 104,
   "metadata": {},
   "outputs": [],
   "source": [
    "def VCCB7316_Ref(Narrative):\n",
    "    i= Narrative[-12::1]\n",
    "    return (i)"
   ]
  },
  {
   "cell_type": "code",
   "execution_count": 105,
   "metadata": {
    "tags": []
   },
   "outputs": [
    {
     "output_type": "stream",
     "name": "stdout",
     "text": "Bank loi\n"
    }
   ],
   "source": [
    "try:\n",
    "    VCCB7316['GwRef']=VCCB7316.apply(lambda row: VCCB7316_Ref (row['Narrative']),axis=1)\n",
    "except:\n",
    "    print ('Bank loi')\n"
   ]
  },
  {
   "cell_type": "markdown",
   "metadata": {},
   "source": [
    "## MBB 3007"
   ]
  },
  {
   "cell_type": "code",
   "execution_count": 106,
   "metadata": {},
   "outputs": [],
   "source": [
    "MBB3007=Bank2['MBB3007'][['Ngày giao dịch', 'Ghi nợ', 'Ghi có', 'Số dư','Nội dung', 'Mã giao dịch']].rename(columns={'Ngày giao dịch':'Txntime', 'Ghi nợ':'Debit', 'Ghi có':'Credit', 'Số dư':'Balance','Nội dung':'Narrative', 'Mã giao dịch':'BankRef'})"
   ]
  },
  {
   "cell_type": "code",
   "execution_count": 107,
   "metadata": {},
   "outputs": [],
   "source": [
    "MBB3007.dropna(how='all',subset=['Txntime', 'Debit', 'Credit','BankRef'])\n",
    "MBB3007[['Debit', 'Credit',]]=MBB3007[['Debit', 'Credit']].fillna(0)"
   ]
  },
  {
   "cell_type": "code",
   "execution_count": 108,
   "metadata": {},
   "outputs": [],
   "source": [
    "MBB3007['Txntime']=pd.to_datetime(MBB3007['Txntime'])\n",
    "MBB3007=MBB3007[MBB3007['Txntime'].dt.day.isin(day_list)]"
   ]
  },
  {
   "cell_type": "code",
   "execution_count": 109,
   "metadata": {},
   "outputs": [],
   "source": [
    "def GiroRef(Narrative):\n",
    "    if str(Narrative) =='':\n",
    "        i=''\n",
    "    else:\n",
    "        i=str(Narrative).replace(' ','').replace('_','')[-18::1]\n",
    "    return(i)"
   ]
  },
  {
   "cell_type": "code",
   "execution_count": 110,
   "metadata": {},
   "outputs": [],
   "source": [
    "MBB3007['GiroRef']=MBB3007.apply(lambda row:GiroRef (row['Narrative']),axis=1)"
   ]
  },
  {
   "cell_type": "code",
   "execution_count": 111,
   "metadata": {},
   "outputs": [],
   "source": [
    "MBB3007=MBB3007.merge(IS_Giro,left_on=['GiroRef'], right_on=['IS Transaction ID'],how='left')[['Txntime', 'Debit', 'Credit', 'Balance', 'Narrative', 'BankRef','Type','GiroRef','Transaction status']]"
   ]
  },
  {
   "cell_type": "code",
   "execution_count": 112,
   "metadata": {},
   "outputs": [],
   "source": [
    "MBB3007 = MBB3007.rename(columns={'Type':'Category'})"
   ]
  },
  {
   "cell_type": "code",
   "execution_count": 113,
   "metadata": {},
   "outputs": [],
   "source": [
    "MBB3007['BankName']=MBB3007.apply(lambda row: 'MBB3007',axis=1)"
   ]
  },
  {
   "cell_type": "markdown",
   "metadata": {},
   "source": [
    "## MBB 4003"
   ]
  },
  {
   "cell_type": "code",
   "execution_count": 114,
   "metadata": {},
   "outputs": [],
   "source": [
    "column_name_dict={'Ngày giao dịch':'Txntime', 'Ghi nợ':'Debit', 'Ghi có':'Credit', 'Số dư':'Balance','Nội dung':'Narrative', 'Mã giao dịch':'BankRef'}\n",
    "MBB4003=Bank2['MBB4003'][['Ngày giao dịch', 'Ghi nợ', 'Ghi có', 'Số dư','Nội dung', 'Mã giao dịch']].rename(columns=column_name_dict)"
   ]
  },
  {
   "cell_type": "code",
   "execution_count": 115,
   "metadata": {},
   "outputs": [],
   "source": [
    "MBB4003.dropna(how='all',subset=['Txntime', 'Debit', 'Credit','BankRef'])\n",
    "MBB4003[['Debit', 'Credit',]]=MBB4003[['Debit', 'Credit']].fillna(0)"
   ]
  },
  {
   "cell_type": "code",
   "execution_count": 116,
   "metadata": {},
   "outputs": [],
   "source": [
    "MBB4003['Txntime']=pd.to_datetime(MBB4003['Txntime'])\n",
    "MBB4003=MBB4003[MBB4003['Txntime'].dt.day.isin(day_list)]"
   ]
  },
  {
   "cell_type": "code",
   "execution_count": 117,
   "metadata": {},
   "outputs": [],
   "source": [
    "def GwRef (Narrative):\n",
    "    i=str(Narrative)[3:21]\n",
    "    return (i)"
   ]
  },
  {
   "cell_type": "code",
   "execution_count": 118,
   "metadata": {},
   "outputs": [],
   "source": [
    "MBB4003['GwRef'] = MBB4003.apply(lambda row: GwRef (row['Narrative']), axis = 1)"
   ]
  },
  {
   "cell_type": "code",
   "execution_count": 119,
   "metadata": {},
   "outputs": [],
   "source": [
    "MBB4003 = MBB4003.merge(IS_Ibanking, left_on =['GwRef'], right_on=['System Ref'], how = 'left')"
   ]
  },
  {
   "cell_type": "code",
   "execution_count": 120,
   "metadata": {},
   "outputs": [],
   "source": [
    "MBB4003=MBB4003[['Txntime', 'Debit', 'Credit', 'Balance', 'Narrative', 'BankRef','GwRef','PL_Ibanking']]"
   ]
  },
  {
   "cell_type": "code",
   "execution_count": 121,
   "metadata": {},
   "outputs": [],
   "source": [
    "MBB4003 = MBB4003.rename ( columns= {'PL_Ibanking': 'Category'})"
   ]
  },
  {
   "cell_type": "code",
   "execution_count": 122,
   "metadata": {},
   "outputs": [],
   "source": [
    "MBB4003['BankName'] = MBB4003.apply(lambda row: 'MBB4003', axis=1)"
   ]
  },
  {
   "cell_type": "markdown",
   "metadata": {},
   "source": [
    "## BIDV 5566"
   ]
  },
  {
   "cell_type": "code",
   "execution_count": 123,
   "metadata": {},
   "outputs": [],
   "source": [
    "BIDV5566 = Bank3['BID5566'][['Ngày giao dịch','Số tiền ghi nợ ','Số tiền ghi có','Nội dung giao dịch','Check']]"
   ]
  },
  {
   "cell_type": "code",
   "execution_count": 124,
   "metadata": {},
   "outputs": [],
   "source": [
    "BIDV5566.dropna(how='all',subset=['Ngày giao dịch','Số tiền ghi nợ ','Số tiền ghi có','Nội dung giao dịch'])\n",
    "BIDV5566[['Số tiền ghi nợ ','Số tiền ghi có']]=BIDV5566[['Số tiền ghi nợ ','Số tiền ghi có']].fillna(0)"
   ]
  },
  {
   "cell_type": "code",
   "execution_count": 125,
   "metadata": {},
   "outputs": [],
   "source": [
    "BIDV5566['Ngày giao dịch']=pd.to_datetime(BIDV5566['Ngày giao dịch'])"
   ]
  },
  {
   "cell_type": "code",
   "execution_count": 126,
   "metadata": {},
   "outputs": [],
   "source": [
    "BIDV5566=BIDV5566[BIDV5566['Ngày giao dịch'].dt.day.isin(day_list)]"
   ]
  },
  {
   "cell_type": "code",
   "execution_count": 127,
   "metadata": {},
   "outputs": [],
   "source": [
    "def BIDV5566_GiroRef(diengiai):\n",
    "    if '039002' in str(diengiai):\n",
    "        i= str(diengiai)[diengiai.find('BIDV'):diengiai.find('BIDV')+18:1]\n",
    "    else:        \n",
    "        i= ''\n",
    "    return (i)"
   ]
  },
  {
   "cell_type": "code",
   "execution_count": 128,
   "metadata": {},
   "outputs": [],
   "source": [
    "def BIDV5566_ApiRef(diengiai):\n",
    "    if '_0_0_' not in str(diengiai) and '039001' in str(diengiai):\n",
    "        i=str(diengiai)[str(diengiai).find('cyberpay')-9:str(diengiai).find('cyberpay')-1:1]\n",
    "    elif '039004' in str(diengiai) or '039001' in str(diengiai):\n",
    "        i= str(diengiai)[str(diengiai).find('_0_0_')+5:str(diengiai).find('_0_0_')+14:1]\n",
    "    else:        \n",
    "        i= ''\n",
    "    return (i)"
   ]
  },
  {
   "cell_type": "code",
   "execution_count": 129,
   "metadata": {},
   "outputs": [],
   "source": [
    "def BIDV5566_GwRef(diengiai):\n",
    "    if '039003' in str(diengiai):\n",
    "        i= str(diengiai)[str(diengiai).find('_0_0_')+5:str(diengiai).find('_0_0_')+14:1]\n",
    "    else:        \n",
    "        i= ''\n",
    "    return (i)"
   ]
  },
  {
   "cell_type": "code",
   "execution_count": 130,
   "metadata": {},
   "outputs": [],
   "source": [
    "def PL_API(API,Narrative):\n",
    "    if API!='' and 'cyberpay' in Narrative:\n",
    "        i='CBP - API'\n",
    "    elif API!='' and 'toppay' in Narrative:\n",
    "        i='Toppay - API'\n",
    "    elif 'chuyen noi bo' in Narrative:\n",
    "        i = 'Bank transfer'\n",
    "    elif 'ACCRUED INTEREST' in Narrative:\n",
    "        i = 'Bank interest'\n",
    "    else:\n",
    "        i=\"\"\n",
    "    return(i)\n",
    "    "
   ]
  },
  {
   "cell_type": "code",
   "execution_count": 131,
   "metadata": {},
   "outputs": [],
   "source": [
    "# Tao ref Giro\n",
    "BIDV5566['GiroRef']=BIDV5566.apply(lambda row : BIDV5566_GiroRef (row ['Nội dung giao dịch']),axis = 1 )"
   ]
  },
  {
   "cell_type": "code",
   "execution_count": 132,
   "metadata": {},
   "outputs": [],
   "source": [
    "# Tao ref GW\n",
    "BIDV5566['GwRef']=BIDV5566.apply(lambda row:BIDV5566_GwRef (row ['Nội dung giao dịch']),axis=1)"
   ]
  },
  {
   "cell_type": "code",
   "execution_count": 133,
   "metadata": {},
   "outputs": [],
   "source": [
    "# Tao ref API\n",
    "BIDV5566['ApiRef']=BIDV5566.apply(lambda row:BIDV5566_ApiRef (row ['Nội dung giao dịch']),axis = 1 )"
   ]
  },
  {
   "cell_type": "code",
   "execution_count": 134,
   "metadata": {},
   "outputs": [],
   "source": [
    "column_name_dict = {'Ngày giao dịch':'TxnTime','Số tiền ghi nợ ':'Debit','Số tiền ghi có':'Credit','Nội dung giao dịch':'Narrative','Check':'Balance'}\n",
    "BIDV5566=BIDV5566.rename(columns = column_name_dict)"
   ]
  },
  {
   "cell_type": "code",
   "execution_count": 135,
   "metadata": {},
   "outputs": [],
   "source": [
    "# Merge IS_Giro --> Lay them cot Type\n",
    "BIDV5566=BIDV5566.merge(IS_Giro,left_on=['GiroRef'],right_on=['IS Transaction ID'],how='left')[['TxnTime', 'Debit', 'Credit', 'Narrative', 'Balance', 'GiroRef','GwRef', 'ApiRef','Type','Transaction status']]"
   ]
  },
  {
   "cell_type": "code",
   "execution_count": 136,
   "metadata": {},
   "outputs": [],
   "source": [
    "# Merge IS_Ibanking --> Lay them cot PL_Ibanking\n",
    "BIDV5566=BIDV5566.merge(IS_Ibanking, left_on=['GwRef'],right_on=['Gateway Ref'],how='left')[['TxnTime', 'Debit', 'Credit', 'Narrative', 'Balance', 'GiroRef', 'GwRef', 'ApiRef','Type','PL_Ibanking']]"
   ]
  },
  {
   "cell_type": "code",
   "execution_count": 137,
   "metadata": {},
   "outputs": [],
   "source": [
    "# Tao them cot PL _ API\n",
    "BIDV5566['PL_Api']=BIDV5566.apply(lambda row : PL_API (row['ApiRef'],row['Narrative']),axis = 1 )"
   ]
  },
  {
   "cell_type": "code",
   "execution_count": 138,
   "metadata": {},
   "outputs": [],
   "source": [
    "BIDV5566.fillna('',inplace=True)"
   ]
  },
  {
   "cell_type": "code",
   "execution_count": 139,
   "metadata": {},
   "outputs": [],
   "source": [
    "# Cong cot de ra phan loai cuoi cung\n",
    "BIDV5566['PL']=BIDV5566['PL_Api']+BIDV5566['Type']+BIDV5566['PL_Ibanking']"
   ]
  },
  {
   "cell_type": "code",
   "execution_count": 140,
   "metadata": {},
   "outputs": [],
   "source": [
    "BIDV5566['BankName'] = BIDV5566.apply( lambda row: 'BIDV5566' , axis=1)"
   ]
  },
  {
   "cell_type": "code",
   "execution_count": 141,
   "metadata": {},
   "outputs": [],
   "source": [
    "def Ref_concat_BIDV (GiroRef,ApiRef,GwRef):\n",
    "    if GiroRef !=\"\":\n",
    "        i= GiroRef\n",
    "    elif ApiRef !='':\n",
    "        i = ApiRef\n",
    "    elif GwRef !='':\n",
    "        i = GwRef   \n",
    "    else:\n",
    "        i = ''\n",
    "    return (i)"
   ]
  },
  {
   "cell_type": "code",
   "execution_count": 142,
   "metadata": {},
   "outputs": [],
   "source": [
    "BIDV5566['Ref_concat'] = BIDV5566.apply (lambda row:Ref_concat_BIDV (row['GiroRef'] , row['ApiRef'] , row['GwRef']),axis=1)"
   ]
  },
  {
   "cell_type": "code",
   "execution_count": 143,
   "metadata": {},
   "outputs": [],
   "source": [
    "BIDV5566 = BIDV5566.rename(columns={'PL': 'Category'})[['TxnTime', 'Debit', 'Credit', 'Narrative', 'Balance','Category', 'Ref_concat','GiroRef','GwRef', 'ApiRef','BankName']]"
   ]
  },
  {
   "cell_type": "code",
   "execution_count": 144,
   "metadata": {},
   "outputs": [],
   "source": [
    "BIDV5566.to_excel(r'R:\\1. DATABASE\\1. Bank\\2020\\Bank 20{0:0>2d}\\Cuong Data\\Python result\\BIDV5566.xlsx'.format(m_Giro))"
   ]
  },
  {
   "cell_type": "markdown",
   "metadata": {},
   "source": [
    "## SCB 0002"
   ]
  },
  {
   "cell_type": "code",
   "execution_count": 145,
   "metadata": {},
   "outputs": [],
   "source": [
    "column_name_dict={'Ngày giá trị':'Txntime', 'Nợ':'Debit', 'Có':'Credit', 'Số dư':'Balance','Diễn giải':'Narrative', 'Số giao dịch':'BankRef'}\n",
    "SCB0002=Bank2['SCB0002'][['Ngày giá trị', 'Diễn giải', 'Số giao dịch', 'Nợ', 'Có', 'Số dư']].rename(columns=column_name_dict)"
   ]
  },
  {
   "cell_type": "code",
   "execution_count": 146,
   "metadata": {},
   "outputs": [],
   "source": [
    "SCB0002.dropna(how='all',subset=['Txntime', 'Debit', 'Credit','BankRef'])\n",
    "SCB0002[['Debit', 'Credit',]]=SCB0002[['Debit', 'Credit']].fillna(0)"
   ]
  },
  {
   "cell_type": "code",
   "execution_count": 147,
   "metadata": {},
   "outputs": [],
   "source": [
    "SCB0002['Txntime']=pd.to_datetime(SCB0002['Txntime'])\n",
    "SCB0002=SCB0002[SCB0002['Txntime'].dt.day.isin(day_list)]"
   ]
  },
  {
   "cell_type": "code",
   "execution_count": 148,
   "metadata": {},
   "outputs": [],
   "source": [
    "def GwRef(Narrative):\n",
    "    i= str(Narrative)[-18::1]\n",
    "    return(i)"
   ]
  },
  {
   "cell_type": "code",
   "execution_count": 149,
   "metadata": {
    "tags": []
   },
   "outputs": [],
   "source": [
    "try:\n",
    "    SCB0002['GwRef']=SCB0002.apply(lambda row: GwRef (row ['Narrative']), axis = 1)\n",
    "except:\n",
    "    print ('Bank loi') "
   ]
  },
  {
   "cell_type": "code",
   "execution_count": 150,
   "metadata": {
    "tags": []
   },
   "outputs": [],
   "source": [
    "try :\n",
    "    SCB0002 = SCB0002.merge(IS_Ibanking, left_on=['GwRef'], right_on= ['System Ref'], how = 'left')[['Txntime', 'Narrative', 'BankRef', 'Debit', 'Credit', 'Balance','GwRef','PL_Ibanking']]\n",
    "except:\n",
    "    print ('Bank loi')   "
   ]
  },
  {
   "cell_type": "code",
   "execution_count": 151,
   "metadata": {},
   "outputs": [],
   "source": [
    "SCB0002 = SCB0002.rename(columns={'PL_Ibanking':'Category'})"
   ]
  },
  {
   "cell_type": "code",
   "execution_count": 152,
   "metadata": {},
   "outputs": [],
   "source": [
    "SCB0002['BankName']=SCB0002.apply(lambda row:'SCB0002',axis=1)"
   ]
  },
  {
   "cell_type": "code",
   "execution_count": 153,
   "metadata": {},
   "outputs": [],
   "source": [
    "#SCB0002.head()"
   ]
  },
  {
   "cell_type": "markdown",
   "metadata": {},
   "source": [
    "## ABB 8016"
   ]
  },
  {
   "cell_type": "code",
   "execution_count": 154,
   "metadata": {},
   "outputs": [],
   "source": [
    "column_name_dict ={'Ngày nhập':'Txntime', 'Diễn giải':'Narrative', 'Tham chiếu' : 'BankRef', 'Số tiền nợ':'Debit','Số tiền có':'Credit', 'Số dư':'Balance'}\n",
    "ABB8016 = Bank2['ABB8016'][['Ngày nhập', 'Diễn giải', 'Tham chiếu', 'Số tiền nợ','Số tiền có', 'Số dư']].rename(columns=column_name_dict)\n",
    "#ABB8016.dtypes"
   ]
  },
  {
   "cell_type": "code",
   "execution_count": 155,
   "metadata": {},
   "outputs": [],
   "source": [
    "ABB8016.dropna(how='all',subset=['Txntime', 'Debit', 'Credit','BankRef'])\n",
    "ABB8016[['Debit', 'Credit',]]=ABB8016[['Debit', 'Credit']].fillna(0)"
   ]
  },
  {
   "cell_type": "code",
   "execution_count": 156,
   "metadata": {},
   "outputs": [],
   "source": [
    "ABB8016['Txntime']=pd.to_datetime(ABB8016['Txntime'])\n",
    "ABB8016=ABB8016[ABB8016['Txntime'].dt.day.isin(day_list)]"
   ]
  },
  {
   "cell_type": "code",
   "execution_count": 157,
   "metadata": {},
   "outputs": [],
   "source": [
    "def GiroRef (Narrative):\n",
    "    i=str(Narrative).replace(' ','')[-16::1]\n",
    "    return(i)"
   ]
  },
  {
   "cell_type": "code",
   "execution_count": 158,
   "metadata": {},
   "outputs": [],
   "source": [
    "ABB8016['GiroRef']=ABB8016.apply(lambda row: GiroRef (row['Narrative']),axis = 1)"
   ]
  },
  {
   "cell_type": "code",
   "execution_count": 159,
   "metadata": {},
   "outputs": [],
   "source": [
    "ABB8016=ABB8016.merge(IS_Giro,left_on=['GiroRef'], right_on= ['IS Transaction ID'], how='left')[['Txntime', 'Narrative', 'BankRef', 'Debit', 'Credit', 'Balance','GiroRef','Type','Transaction status']]"
   ]
  },
  {
   "cell_type": "code",
   "execution_count": 160,
   "metadata": {},
   "outputs": [],
   "source": [
    "ABB8016 = ABB8016.rename(columns={'Type':'Category'})"
   ]
  },
  {
   "cell_type": "code",
   "execution_count": 161,
   "metadata": {},
   "outputs": [],
   "source": [
    "ABB8016['BankName'] = ABB8016.apply(lambda row:'ABB8016' , axis=1)"
   ]
  },
  {
   "cell_type": "markdown",
   "metadata": {},
   "source": [
    "## STB 6170"
   ]
  },
  {
   "cell_type": "code",
   "execution_count": 162,
   "metadata": {},
   "outputs": [],
   "source": [
    "column_name_dict = {'ID giao dịch':'BankRef','Ngày hiệu lực':'Txntime','Ghi chú giao dịch':'Narrative','Số tiền ghi Nợ':'Debit', 'Số tiền báo có':'Credit', 'Số dư hiện tại':'Balance'}\n",
    "STB6170 = Bank3['STB6170'][['ID giao dịch','Ngày hiệu lực','Ghi chú giao dịch','Số tiền ghi Nợ', 'Số tiền báo có', 'Số dư hiện tại']]\n",
    "STB6170 = STB6170.rename(columns=column_name_dict)"
   ]
  },
  {
   "cell_type": "code",
   "execution_count": 163,
   "metadata": {},
   "outputs": [],
   "source": [
    "STB6170['Txntime']=pd.to_datetime(STB6170['Txntime'])\n",
    "STB6170=STB6170[STB6170['Txntime'].dt.day.isin(day_list)]"
   ]
  },
  {
   "cell_type": "code",
   "execution_count": 164,
   "metadata": {},
   "outputs": [],
   "source": [
    "def category (Narrative):\n",
    "    if 'DAI LY' in Narrative or 'DA I LY' in Narrative or 'D AI LY' in Narrative:\n",
    "        i = 'CBP - API'\n",
    "    elif 'VI TOPPAY' in Narrative:\n",
    "        i = 'Toppay - API'\n",
    "    elif 'VETU' in Narrative and 'VI AIRPAY':\n",
    "        i = 'Toppay - API'\n",
    "    elif 'TY GIA' in Narrative or 'HUY GD' in Narrative:\n",
    "        i = 'Toppay - Credit card'\n",
    "    elif 'TQT' in Narrative:\n",
    "        i = 'Toppay - tokenize'\n",
    "    # elif 'Rut vi' in Narrative:\n",
    "    #     i = 'Toppay - withdraw'\n",
    "    elif 'Tmart' in Narrative:\n",
    "        i = 'CBP - Tmart'\n",
    "    elif 'TRANSFER' in Narrative:\n",
    "        i = 'Bank transfer'\n",
    "    # elif 'AP' in Narrative and ('Dai ly' in Narrative or  'apc' in Narrative):\n",
    "    #     i = 'CBP - tokenize'\n",
    "    # elif 'AP' in Narrative :\n",
    "    #     i = 'Toppay - tokenize'\n",
    "    else:\n",
    "        i = ''\n",
    "    return (i)"
   ]
  },
  {
   "cell_type": "code",
   "execution_count": 165,
   "metadata": {},
   "outputs": [],
   "source": [
    "STB6170['PL_API']=STB6170.apply(lambda row: category (row ['Narrative']),axis=1)"
   ]
  },
  {
   "cell_type": "code",
   "execution_count": 166,
   "metadata": {},
   "outputs": [],
   "source": [
    "def ApiRef (Narrative):\n",
    "    if 'VETU' in Narrative:\n",
    "        i = Narrative[Narrative.find('VETU'):Narrative.find('VETU')+15]\n",
    "    else:\n",
    "        i = ''\n",
    "    return(i)"
   ]
  },
  {
   "cell_type": "code",
   "execution_count": 167,
   "metadata": {},
   "outputs": [],
   "source": [
    "STB6170['ApiRef']=STB6170.apply(lambda row: ApiRef (row ['Narrative']),axis=1)"
   ]
  },
  {
   "cell_type": "code",
   "execution_count": 168,
   "metadata": {},
   "outputs": [],
   "source": [
    "def GiroRef (Narrative):\n",
    "    if 'Rut vi' in Narrative or 'AP' in Narrative:\n",
    "        i = Narrative[Narrative.find('AP')+2:Narrative.find('AP')+12]\n",
    "    else:\n",
    "        i = ''\n",
    "    return(i)"
   ]
  },
  {
   "cell_type": "code",
   "execution_count": 169,
   "metadata": {},
   "outputs": [],
   "source": [
    "STB6170['GiroRef']=STB6170.apply(lambda row: GiroRef (row ['Narrative']),axis=1)"
   ]
  },
  {
   "cell_type": "code",
   "execution_count": 170,
   "metadata": {},
   "outputs": [],
   "source": [
    "# Merge IS_Giro --> Lay them cot Type\n",
    "STB6170=STB6170.merge(IS_Giro,left_on=['GiroRef'],right_on=['IS Transaction ID'],how='left')"
   ]
  },
  {
   "cell_type": "code",
   "execution_count": 171,
   "metadata": {},
   "outputs": [],
   "source": [
    "STB6170['PL']=STB6170.apply(lambda row: Ref_concat (row ['PL_API'],row ['Type']),axis=1)"
   ]
  },
  {
   "cell_type": "code",
   "execution_count": 172,
   "metadata": {},
   "outputs": [],
   "source": [
    "STB6170 = STB6170.rename(columns={'PL':'Category'})"
   ]
  },
  {
   "cell_type": "code",
   "execution_count": 173,
   "metadata": {},
   "outputs": [],
   "source": [
    "STB6170=STB6170[['Txntime', 'Narrative', 'BankRef', 'Debit', 'Credit', 'Balance','GiroRef','Category','ApiRef']]"
   ]
  },
  {
   "cell_type": "code",
   "execution_count": 174,
   "metadata": {},
   "outputs": [],
   "source": [
    "STB6170['BankName']=STB6170.apply(lambda row:'STB6170',axis=1)"
   ]
  },
  {
   "cell_type": "markdown",
   "metadata": {},
   "source": [
    "## STB 6880 "
   ]
  },
  {
   "cell_type": "code",
   "execution_count": 175,
   "metadata": {},
   "outputs": [],
   "source": [
    "column_name_dict = {'ID giao dịch':'BankRef','Ngày hiệu lực':'Txntime','Ghi chú giao dịch':'Narrative','Số tiền ghi Nợ':'Debit', 'Số tiền báo có':'Credit', 'Số dư hiện tại':'Balance'}\n",
    "STB6880 = Bank3['STB6880'][['ID giao dịch','Ngày hiệu lực','Ghi chú giao dịch','Số tiền ghi Nợ', 'Số tiền báo có', 'Số dư hiện tại']]\n",
    "STB6880 = STB6880.rename(columns=column_name_dict)"
   ]
  },
  {
   "cell_type": "code",
   "execution_count": 176,
   "metadata": {},
   "outputs": [],
   "source": [
    "STB6880['Txntime']=pd.to_datetime(STB6880['Txntime'])\n",
    "STB6880=STB6880[STB6880['Txntime'].dt.day.isin(day_list)]"
   ]
  },
  {
   "cell_type": "code",
   "execution_count": 177,
   "metadata": {},
   "outputs": [],
   "source": [
    "def category_6880 (Narrative):\n",
    "    if 'TTT STB TQT GD VI DIEN TU VED' in Narrative :\n",
    "        i = 'Toppay - GW'\n",
    "    elif 'THU PHI' in Narrative:\n",
    "        i = 'Bank fee'\n",
    "    elif 'INTERNAL TRANSFER' in Narrative or 'CHUYEN NOI BO' in Narrative :\n",
    "        i = 'Bank transfer'\n",
    "    elif 'TY GIA' in Narrative or 'HUY GD' in Narrative:\n",
    "        i = 'Toppay - Credit card'\n",
    "    else:\n",
    "        i = ''\n",
    "    return (i)"
   ]
  },
  {
   "cell_type": "code",
   "execution_count": 178,
   "metadata": {},
   "outputs": [],
   "source": [
    "STB6880['Category']=STB6880.apply(lambda row: category_6880 (row ['Narrative']),axis=1)"
   ]
  },
  {
   "cell_type": "code",
   "execution_count": 179,
   "metadata": {},
   "outputs": [],
   "source": [
    "STB6880['BankName']=STB6880.apply(lambda row:'STB6880',axis=1)"
   ]
  },
  {
   "cell_type": "markdown",
   "metadata": {},
   "source": [
    "ABB 4082"
   ]
  },
  {
   "cell_type": "code",
   "execution_count": 180,
   "metadata": {},
   "outputs": [],
   "source": [
    "column_name_dict = {'Tham chiếu':'BankRef','Ngày nhập':'Txntime','Diễn giải':'Narrative','Số tiền nợ':'Debit', 'Số tiền có':'Credit', 'Số dư':'Balance'}\n",
    "ABB4028 = Bank2['ABB4028'][['Tham chiếu','Ngày nhập','Diễn giải','Số tiền nợ', 'Số tiền có', 'Số dư']]\n",
    "ABB4028 = ABB4028.rename(columns=column_name_dict)"
   ]
  },
  {
   "cell_type": "code",
   "execution_count": 181,
   "metadata": {},
   "outputs": [],
   "source": [
    "ABB4028['Txntime']=pd.to_datetime(ABB4028['Txntime'])\n",
    "ABB4028=ABB4028[ABB4028['Txntime'].dt.day.isin(day_list)]"
   ]
  },
  {
   "cell_type": "code",
   "execution_count": 182,
   "metadata": {},
   "outputs": [],
   "source": [
    "def category_4028 (Narrative):\n",
    "    if 'BAO CO ESPORT' in Narrative :\n",
    "        i = 'Toppay - GW'\n",
    "    elif 'THU PHI' in Narrative or 'Thu thue' in Narrative or 'Thu phi' in Narrative:\n",
    "        i = 'Bank fee'\n",
    "    elif 'Nhap lai' in Narrative or 'lai tien goi' in Narrative :\n",
    "        i = 'Bank interest'\n",
    "    else:\n",
    "        i = ''\n",
    "    return (i)"
   ]
  },
  {
   "cell_type": "code",
   "execution_count": 183,
   "metadata": {},
   "outputs": [],
   "source": [
    "try:\n",
    "    ABB4028['Category']=ABB4028.apply(lambda row: category_4028 (row ['Narrative']),axis=1)\n",
    "except:\n",
    "    print ('Bank loi') "
   ]
  },
  {
   "cell_type": "code",
   "execution_count": 184,
   "metadata": {},
   "outputs": [],
   "source": [
    "try:\n",
    "    ABB4028['BankName']=ABB4028.apply(lambda row:'ABB4028',axis=1)\n",
    "except:\n",
    "    print ('Bank loi')"
   ]
  },
  {
   "cell_type": "markdown",
   "metadata": {},
   "source": [
    "DAB 0007"
   ]
  },
  {
   "cell_type": "code",
   "execution_count": 206,
   "metadata": {},
   "outputs": [],
   "source": [
    "column_name_dict = {'Chi tiết giao dịch':'BankRef','Thời gain':'Txntime','Ghi chú giao dịch':'Narrative','Giảm':'Debit', 'Tăng':'Credit', 'Check':'Balance'}\n",
    "DAB0007 = Bank2['DAB0007'][['Chi tiết giao dịch','Thời gain','Ghi chú giao dịch','Giảm', 'Tăng', 'Check']]\n",
    "DAB0007 = DAB0007.rename(columns=column_name_dict)"
   ]
  },
  {
   "cell_type": "code",
   "execution_count": 207,
   "metadata": {},
   "outputs": [],
   "source": [
    "DAB0007['Txntime']=pd.to_datetime(DAB0007['Txntime'])\n",
    "DAB0007=DAB0007[DAB0007['Txntime'].dt.day.isin(day_list)]"
   ]
  },
  {
   "cell_type": "code",
   "execution_count": 208,
   "metadata": {},
   "outputs": [],
   "source": [
    "def category_0007 (BankRef):\n",
    "    if 'CK trong DAB cùng địa bàn' in BankRef or 'CK trong DAB cùng địa bàn' in BankRef or 'CK giữa các TK trong DAB' in BankRef:\n",
    "        i = 'Toppay - GW'\n",
    "    elif 'Thu phí' in BankRef or 'Thuế GTGT' in BankRef or 'Phí dịch vụ thu chi hộ' in BankRef :\n",
    "        i = 'Bank fee'\n",
    "    elif 'Lãi không kỳ hạn nhập vốn' in BankRef :\n",
    "        i = 'Bank interest'\n",
    "    else:\n",
    "        i = ''\n",
    "    return (i)"
   ]
  },
  {
   "cell_type": "code",
   "execution_count": 209,
   "metadata": {},
   "outputs": [],
   "source": [
    "DAB0007['Category']=DAB0007.apply(lambda row: category_0007 (row ['BankRef']),axis=1)"
   ]
  },
  {
   "cell_type": "code",
   "execution_count": 210,
   "metadata": {},
   "outputs": [],
   "source": [
    "DAB0007['BankName']=DAB0007.apply(lambda row:'DAB0007',axis=1)"
   ]
  },
  {
   "cell_type": "markdown",
   "metadata": {},
   "source": [
    "DAB 0008"
   ]
  },
  {
   "cell_type": "code",
   "execution_count": 211,
   "metadata": {},
   "outputs": [],
   "source": [
    "column_name_dict = {'Chi tiết giao dịch':'BankRef','Thời gain':'Txntime','Ghi chú giao dịch':'Narrative','Giảm':'Debit', 'Tăng':'Credit', 'Check':'Balance'}\n",
    "DAB0008 = Bank2['DAB0008'][['Chi tiết giao dịch','Thời gain','Ghi chú giao dịch','Giảm', 'Tăng', 'Check']]\n",
    "DAB0008 = DAB0008.rename(columns=column_name_dict)"
   ]
  },
  {
   "cell_type": "code",
   "execution_count": 212,
   "metadata": {},
   "outputs": [],
   "source": [
    "DAB0008['Txntime']=pd.to_datetime(DAB0008['Txntime'])\n",
    "DAB0008=DAB0008[DAB0008['Txntime'].dt.day.isin(day_list)]"
   ]
  },
  {
   "cell_type": "code",
   "execution_count": 213,
   "metadata": {},
   "outputs": [],
   "source": [
    "def category_0008 (BankRef):\n",
    "    if 'CK trong DAB cùng địa bàn' in BankRef or 'CK trong DAB cùng địa bàn' in BankRef or 'CK giữa các TK trong DAB' in BankRef :\n",
    "        i = 'Toppay - API'\n",
    "    elif 'Thu phí' in BankRef or 'Thuế GTGT' in BankRef or 'Phí dịch vụ thu chi hộ' in BankRef :\n",
    "        i = 'Bank fee'\n",
    "    elif 'Lãi không kỳ hạn nhập vốn' in BankRef :\n",
    "        i = 'Bank interest'\n",
    "    else:\n",
    "        i = ''\n",
    "    return (i)"
   ]
  },
  {
   "cell_type": "code",
   "execution_count": 214,
   "metadata": {},
   "outputs": [],
   "source": [
    "DAB0008['Category']=DAB0008.apply(lambda row: category_0008 (row ['BankRef']),axis=1)"
   ]
  },
  {
   "cell_type": "code",
   "execution_count": 215,
   "metadata": {},
   "outputs": [],
   "source": [
    "DAB0008['BankName']=DAB0008.apply(lambda row:'DAB0008',axis=1)"
   ]
  },
  {
   "cell_type": "markdown",
   "metadata": {},
   "source": [
    "EXB 6696"
   ]
  },
  {
   "cell_type": "code",
   "execution_count": 216,
   "metadata": {},
   "outputs": [],
   "source": [
    "column_name_dict = {'Ref':'BankRef','Ngày giao dịch':'Txntime','Diễn Giải':'Narrative','Phát sinh nợ':'Debit', 'Phát sinh có':'Credit', 'Số dư sau giao dịch':'Balance'}\n",
    "EXB6696 = Bank2['EXB6696'][['Ref','Ngày giao dịch','Diễn Giải','Phát sinh nợ', 'Phát sinh có', 'Số dư sau giao dịch']]\n",
    "EXB6696 = EXB6696.rename(columns=column_name_dict)"
   ]
  },
  {
   "cell_type": "code",
   "execution_count": 217,
   "metadata": {},
   "outputs": [],
   "source": [
    "EXB6696['Txntime']=pd.to_datetime(EXB6696['Txntime'])\n",
    "EXB6696=EXB6696[EXB6696['Txntime'].dt.day.isin(day_list)]"
   ]
  },
  {
   "cell_type": "code",
   "execution_count": 218,
   "metadata": {},
   "outputs": [],
   "source": [
    "def category_6696 (Narrative):\n",
    "    if 'BAO CO' in Narrative :\n",
    "        i = 'Toppay - GW'\n",
    "    elif 'Phi SMS' in Narrative or 'THU PHI' in Narrative or 'Cac dich vu khac' in Narrative or 'VAT' in Narrative:\n",
    "        i = 'Bank fee'\n",
    "    elif 'INTERNAL TRANSFER' in Narrative or 'CHUYEN NOI BO' in Narrative :\n",
    "        i = 'Bank transfer'\n",
    "    elif 'Interest' in Narrative :\n",
    "        i = 'Bank interest'\n",
    "    else:\n",
    "        i = ''\n",
    "    return (i)"
   ]
  },
  {
   "cell_type": "code",
   "execution_count": 219,
   "metadata": {},
   "outputs": [],
   "source": [
    "EXB6696['Category']=EXB6696.apply(lambda row: category_6696 (row ['Narrative']),axis=1)"
   ]
  },
  {
   "cell_type": "code",
   "execution_count": 220,
   "metadata": {},
   "outputs": [],
   "source": [
    "EXB6696['BankName']=EXB6696.apply(lambda row:'EXB6696',axis=1)"
   ]
  },
  {
   "cell_type": "markdown",
   "metadata": {},
   "source": [
    "# Ghép bank (all bank except VCB, BID)"
   ]
  },
  {
   "cell_type": "code",
   "execution_count": 221,
   "metadata": {},
   "outputs": [],
   "source": [
    "Bank_to_concat = [TCB7998, VCCB7315, MBB3007, MBB4003, SCB0002, ABB8016, STB6170, STB6880, EXB6696, DAB0008, DAB0007, ABB4028]"
   ]
  },
  {
   "cell_type": "code",
   "execution_count": 222,
   "metadata": {},
   "outputs": [],
   "source": [
    "Bank_concated = pd.concat(Bank_to_concat)"
   ]
  },
  {
   "cell_type": "code",
   "execution_count": 223,
   "metadata": {},
   "outputs": [],
   "source": [
    "def Ref_bank_concat (GiroRef,GwRef,ApiRef):\n",
    "    if GiroRef !=\"\":\n",
    "        i= GiroRef\n",
    "    elif GwRef !='':\n",
    "        i = GwRef\n",
    "    elif ApiRef !='':\n",
    "        i = ApiRef\n",
    "    else:\n",
    "        i = ''\n",
    "    return (i)\n",
    "    "
   ]
  },
  {
   "cell_type": "code",
   "execution_count": 224,
   "metadata": {},
   "outputs": [],
   "source": [
    "# VCB5017['Ref_concat'] = VCB5017.apply (lambda row:Ref_bank_concat (row['GiroRef'] , row['GwRef'],row['ApiRef']),axis=1)"
   ]
  },
  {
   "cell_type": "code",
   "execution_count": 225,
   "metadata": {},
   "outputs": [],
   "source": [
    "# Bank_concated=Bank_concated[['BankName','Txntime','BankRef','Debit','Credit','Narrative','Balance','Category','GiroRef', 'GwRef','ApiRef']].rename(columns={'TxnTime':'Txntime'})\n",
    "Bank_concated=Bank_concated[['BankName','Txntime','BankRef','Debit','Credit','Narrative','Balance','Category','GiroRef', 'GwRef','ApiRef']]\n",
    "#,'Ref_concat'"
   ]
  },
  {
   "cell_type": "code",
   "execution_count": 226,
   "metadata": {},
   "outputs": [],
   "source": [
    "Bank_concated.to_excel(r'R:\\1. DATABASE\\1. Bank\\2020\\Bank 20{0:0>2d}\\Cuong Data\\Python result\\BankConcat.xlsx'.format(m_Giro))"
   ]
  },
  {
   "cell_type": "code",
   "execution_count": null,
   "metadata": {},
   "outputs": [],
   "source": []
  }
 ],
 "metadata": {
  "kernelspec": {
   "display_name": "Python 3",
   "language": "python",
   "name": "python3"
  },
  "language_info": {
   "codemirror_mode": {
    "name": "ipython",
    "version": 3
   },
   "file_extension": ".py",
   "mimetype": "text/x-python",
   "name": "python",
   "nbconvert_exporter": "python",
   "pygments_lexer": "ipython3",
   "version": "3.7.1-final"
  },
  "toc": {
   "base_numbering": 1,
   "nav_menu": {},
   "number_sections": true,
   "sideBar": true,
   "skip_h1_title": false,
   "title_cell": "Table of Contents",
   "title_sidebar": "Contents",
   "toc_cell": false,
   "toc_position": {
    "height": "595.975px",
    "left": "0px",
    "top": "109.09px",
    "width": "189.8px"
   },
   "toc_section_display": true,
   "toc_window_display": true
  }
 },
 "nbformat": 4,
 "nbformat_minor": 2
}