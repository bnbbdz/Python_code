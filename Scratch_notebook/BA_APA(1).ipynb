{
 "cells": [
  {
   "cell_type": "code",
   "execution_count": 1,
   "metadata": {},
   "outputs": [],
   "source": [
    "import pandas as pd\n",
    "import pyodbc "
   ]
  },
  {
   "cell_type": "code",
   "execution_count": 2,
   "metadata": {},
   "outputs": [],
   "source": [
    "username='maingoc.dinh'\n",
    "password='Maingoc02'\n",
    "server = 'GA-9RC9BS2\\SQLEXPRESS'\n",
    "db='TVT_06_2020'\n",
    "\n",
    "m='6'\n",
    "range_day=range(22,25)\n",
    "## TVT_day='23_31'\n",
    "\n",
    "## sql server 2017\n",
    "conn_str = ('Driver={SQL Server};'\n",
    "                'Server='+ server+';'\n",
    "                'Database='+db+';'\n",
    "                'UID='+username+';'\n",
    "                'PWD='+password+';')\n",
    "\n",
    "connection = pyodbc.connect(conn_str)\n",
    "data=[]\n",
    "for d in range_day:\n",
    "    sql_statement = \"\"\"SELECT * FROM [{2}].[dbo].[TVT_2020-{0:0>2s}-{1:0>2d}-2020-{0:0>2s}-{1:0>2d}]\"\"\".format(m,d,db)\n",
    "    sql_data = pd.read_sql(sql_statement, connection)\n",
    "    data.append(sql_data)"
   ]
  },
  {
   "cell_type": "code",
   "execution_count": 3,
   "metadata": {},
   "outputs": [],
   "source": [
    "TVT = pd.concat(data)"
   ]
  },
  {
   "cell_type": "code",
   "execution_count": 4,
   "metadata": {},
   "outputs": [],
   "source": [
    "TVT['Destination Account'].fillna(value='',inplace = True )"
   ]
  },
  {
   "cell_type": "code",
   "execution_count": 5,
   "metadata": {},
   "outputs": [],
   "source": [
    "TVT['Destination Account'].replace('nan','',inplace= True)"
   ]
  },
  {
   "cell_type": "code",
   "execution_count": 6,
   "metadata": {},
   "outputs": [],
   "source": [
    "# T1=pd.read_excel(r'R:\\1. DATABASE\\1. Bank\\2020\\Bank 2005\\TVT\\Transaction_detail_(TVT)_(2020-05-25-2020-05-25).xlsx')"
   ]
  },
  {
   "cell_type": "code",
   "execution_count": 7,
   "metadata": {},
   "outputs": [],
   "source": [
    "# T2=pd.read_excel(r'R:\\1. DATABASE\\1. Bank\\2020\\Bank 2005\\TVT\\Transaction_detail_(TVT)_(2020-05-26-2020-05-26).xlsx')"
   ]
  },
  {
   "cell_type": "code",
   "execution_count": 8,
   "metadata": {},
   "outputs": [],
   "source": [
    "# T3=pd.read_excel(r'R:\\1. DATABASE\\1. Bank\\2020\\Bank 2005\\TVT\\Transaction_detail_(TVT)_(2020-05-27-2020-05-27).xlsx')"
   ]
  },
  {
   "cell_type": "code",
   "execution_count": 9,
   "metadata": {},
   "outputs": [],
   "source": [
    "#T4=pd.read_excel(r'R:\\1. DATABASE\\1. Bank\\2020\\Bank 2003\\TVT\\Transaction_detail_(TVT)_(2020-03-19-2020-03-20).xlsx')"
   ]
  },
  {
   "cell_type": "code",
   "execution_count": 10,
   "metadata": {},
   "outputs": [],
   "source": [
    "# TVT = pd.concat([T1,T2,T3])"
   ]
  },
  {
   "cell_type": "code",
   "execution_count": 11,
   "metadata": {},
   "outputs": [],
   "source": [
    "#BA_Gift=TVT[TVT['Topup'].isin(['Gift'])]"
   ]
  },
  {
   "cell_type": "code",
   "execution_count": 12,
   "metadata": {},
   "outputs": [],
   "source": [
    "# G1=TVT[TVT['TopUp'].isin(['Gift']) & TVT['PaymentInfo'].isin(['Cash via Transfer'])] \n",
    "# G2=TVT[TVT['TopUp'].isin(['Cash']) & TVT['Topup Type'].isin(['Account Balance']) & TVT['PaymentInfo'].isin(['Cash Transfer']) & (TVT['Amount']==0) & (TVT['Destination Account'] is None)]\n",
    "# G3=TVT[TVT['TopUp'].isin(['Cash']) & TVT['Topup Type'].isin(['Account Balance']) & TVT['PaymentInfo'].isin(['Cash Transfer']) & (TVT['Amount']==0) & (TVT['Destination Account'].isin(['0.0']))]\n",
    "# G4=TVT[TVT['TopUp'].isin(['Cash']) & TVT['Topup Type'].isin(['Account Balance']) & TVT['PaymentInfo'].isin(['Cash via Transfer']) & (TVT['Amount']==0) & (TVT['Destination Account'] is None)]\n",
    "# G5=TVT[TVT['TopUp'].isin(['Cash']) & TVT['Topup Type'].isin(['Account Balance']) & TVT['PaymentInfo'].isin(['Cash via Promotion']) & (TVT['Amount']==0) & (TVT['Destination Account'] is None)]"
   ]
  },
  {
   "cell_type": "code",
   "execution_count": 13,
   "metadata": {},
   "outputs": [],
   "source": [
    "G1=TVT[TVT['TopUp'].isin(['Gift']) & TVT['PaymentInfo'].isin(['Cash via Transfer'])] \n",
    "G2=TVT[TVT['TopUp'].isin(['Cash']) & TVT['Topup Type'].isin(['Account Balance']) & TVT['PaymentInfo'].isin(['Cash Transfer']) & (TVT['Amount']==0) & (TVT['Destination Account']=='')]\n",
    "G3=TVT[TVT['TopUp'].isin(['Cash']) & TVT['Topup Type'].isin(['Account Balance']) & TVT['PaymentInfo'].isin(['Cash Transfer']) & (TVT['Amount']==0) & (TVT['Destination Account'].isin(['0.0']))]\n",
    "G4=TVT[TVT['TopUp'].isin(['Cash']) & TVT['Topup Type'].isin(['Account Balance']) & TVT['PaymentInfo'].isin(['Cash via Transfer']) & (TVT['Amount']==0) & (TVT['Destination Account']=='')]\n",
    "G5=TVT[TVT['TopUp'].isin(['Cash']) & TVT['Topup Type'].isin(['Account Balance']) & TVT['PaymentInfo'].isin(['Cash via Promotion']) & (TVT['Amount']==0) & (TVT['Destination Account']=='')]"
   ]
  },
  {
   "cell_type": "code",
   "execution_count": 14,
   "metadata": {},
   "outputs": [],
   "source": [
    "BA_Gift=pd.concat([G1,G2,G3,G4,G5],axis=0)"
   ]
  },
  {
   "cell_type": "code",
   "execution_count": 15,
   "metadata": {},
   "outputs": [],
   "source": [
    "TVT['Destination Account']=TVT['Destination Account'].astype(str)"
   ]
  },
  {
   "cell_type": "code",
   "execution_count": 16,
   "metadata": {},
   "outputs": [],
   "source": [
    "C1=TVT[TVT['TopUp'].isin(['Cash']) & TVT['Topup Type'].isin(['Account Balance']) & TVT['PaymentInfo'].isin(['Cash Transfer']) & (TVT['Amount']!=0) & (TVT['Destination Account']=='')]\n",
    "C2=TVT[TVT['TopUp'].isin(['Cash']) & TVT['Topup Type'].isin(['Account Balance']) & TVT['PaymentInfo'].isin(['Cash Transfer']) & (TVT['Amount']!=0) & (TVT['Destination Account'].isin(['0.0']))]\n",
    "C3=TVT[TVT['TopUp'].isin(['Cash']) & TVT['Topup Type'].isin(['Account Balance']) & TVT['PaymentInfo'].isin(['Cash via Transfer']) & (TVT['Amount']!=0) & (TVT['Destination Account']=='')]\n",
    "C4=TVT[TVT['TopUp'].isin(['Cash']) & TVT['Topup Type'].isin(['Account Balance']) & TVT['PaymentInfo'].isin(['Cash via Promotion']) & (TVT['Amount']!=0) & (TVT['Destination Account']=='')]\n"
   ]
  },
  {
   "cell_type": "code",
   "execution_count": 17,
   "metadata": {},
   "outputs": [],
   "source": [
    "BA_Cash=pd.concat([C1,C2,C3,C4])"
   ]
  },
  {
   "cell_type": "code",
   "execution_count": 18,
   "metadata": {},
   "outputs": [
    {
     "output_type": "execute_result",
     "data": {
      "text/plain": "Empty DataFrame\nColumns: [TopUp, PaymentInfo, Amount, Topup Type, Destination Account]\nIndex: []",
      "text/html": "<div>\n<style scoped>\n    .dataframe tbody tr th:only-of-type {\n        vertical-align: middle;\n    }\n\n    .dataframe tbody tr th {\n        vertical-align: top;\n    }\n\n    .dataframe thead th {\n        text-align: right;\n    }\n</style>\n<table border=\"1\" class=\"dataframe\">\n  <thead>\n    <tr style=\"text-align: right;\">\n      <th></th>\n      <th>TopUp</th>\n      <th>PaymentInfo</th>\n      <th>Amount</th>\n      <th>Topup Type</th>\n      <th>Destination Account</th>\n    </tr>\n  </thead>\n  <tbody>\n  </tbody>\n</table>\n</div>"
     },
     "metadata": {},
     "execution_count": 18
    }
   ],
   "source": [
    "TVT[TVT['OrderID'].isin(['234833097'])][['TopUp','PaymentInfo','Amount','Topup Type','Destination Account']]"
   ]
  },
  {
   "cell_type": "code",
   "execution_count": null,
   "metadata": {},
   "outputs": [],
   "source": []
  },
  {
   "cell_type": "code",
   "execution_count": 19,
   "metadata": {},
   "outputs": [
    {
     "output_type": "execute_result",
     "data": {
      "text/plain": "Empty DataFrame\nColumns: [TopUp, PaymentInfo, Amount, Topup Type, Destination Account]\nIndex: []",
      "text/html": "<div>\n<style scoped>\n    .dataframe tbody tr th:only-of-type {\n        vertical-align: middle;\n    }\n\n    .dataframe tbody tr th {\n        vertical-align: top;\n    }\n\n    .dataframe thead th {\n        text-align: right;\n    }\n</style>\n<table border=\"1\" class=\"dataframe\">\n  <thead>\n    <tr style=\"text-align: right;\">\n      <th></th>\n      <th>TopUp</th>\n      <th>PaymentInfo</th>\n      <th>Amount</th>\n      <th>Topup Type</th>\n      <th>Destination Account</th>\n    </tr>\n  </thead>\n  <tbody>\n  </tbody>\n</table>\n</div>"
     },
     "metadata": {},
     "execution_count": 19
    }
   ],
   "source": [
    "BA_Cash[BA_Cash['OrderID'].isin(['234833097'])][['TopUp','PaymentInfo','Amount','Topup Type','Destination Account']]"
   ]
  },
  {
   "cell_type": "code",
   "execution_count": 20,
   "metadata": {},
   "outputs": [],
   "source": [
    "#BA_Cash=TVT[((TVT['Topup']=='Cash') & (TVT['Destination Account']=='0.0') | (TVT['Destination Account']=='0' )|(TVT['Destination Account']==0)) | ((TVT['Topup']=='Cash') & (TVT['Promotion'].str.contains('#')))| ((TVT['Topup']=='Cash') & (TVT['Topup Ref'].notnull())&(TVT['PaymentInfo']=='Cash Transfer')) ]"
   ]
  },
  {
   "cell_type": "code",
   "execution_count": 21,
   "metadata": {
    "scrolled": true
   },
   "outputs": [],
   "source": [
    "BA=pd.concat([BA_Gift,BA_Cash])\n",
    "# BA.tail()"
   ]
  },
  {
   "cell_type": "code",
   "execution_count": 22,
   "metadata": {},
   "outputs": [
    {
     "output_type": "execute_result",
     "data": {
      "text/plain": "Empty DataFrame\nColumns: [TopUp, PaymentInfo, Amount, Topup Type, Destination Account]\nIndex: []",
      "text/html": "<div>\n<style scoped>\n    .dataframe tbody tr th:only-of-type {\n        vertical-align: middle;\n    }\n\n    .dataframe tbody tr th {\n        vertical-align: top;\n    }\n\n    .dataframe thead th {\n        text-align: right;\n    }\n</style>\n<table border=\"1\" class=\"dataframe\">\n  <thead>\n    <tr style=\"text-align: right;\">\n      <th></th>\n      <th>TopUp</th>\n      <th>PaymentInfo</th>\n      <th>Amount</th>\n      <th>Topup Type</th>\n      <th>Destination Account</th>\n    </tr>\n  </thead>\n  <tbody>\n  </tbody>\n</table>\n</div>"
     },
     "metadata": {},
     "execution_count": 22
    }
   ],
   "source": [
    "BA[BA['OrderID'].isin(['234833097'])][['TopUp','PaymentInfo','Amount','Topup Type','Destination Account']]"
   ]
  },
  {
   "cell_type": "code",
   "execution_count": null,
   "metadata": {},
   "outputs": [],
   "source": []
  },
  {
   "cell_type": "code",
   "execution_count": 23,
   "metadata": {},
   "outputs": [],
   "source": [
    "BA.to_excel(r'R:\\1. DATABASE\\3. Admin toppay\\9. TVT Report\\BA\\BA_22_24T06.xlsx')"
   ]
  },
  {
   "cell_type": "code",
   "execution_count": null,
   "metadata": {},
   "outputs": [],
   "source": []
  }
 ],
 "metadata": {
  "kernelspec": {
   "display_name": "Python 3",
   "language": "python",
   "name": "python3"
  },
  "language_info": {
   "codemirror_mode": {
    "name": "ipython",
    "version": 3
   },
   "file_extension": ".py",
   "mimetype": "text/x-python",
   "name": "python",
   "nbconvert_exporter": "python",
   "pygments_lexer": "ipython3",
   "version": "3.7.1-final"
  }
 },
 "nbformat": 4,
 "nbformat_minor": 2
}