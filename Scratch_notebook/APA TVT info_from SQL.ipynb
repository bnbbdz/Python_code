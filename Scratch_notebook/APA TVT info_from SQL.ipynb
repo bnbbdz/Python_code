{
 "cells": [
  {
   "cell_type": "code",
   "execution_count": 1,
   "metadata": {},
   "outputs": [],
   "source": [
    "import pandas as pd\n",
    "import pyodbc \n",
    "import datetime as dt"
   ]
  },
  {
   "cell_type": "code",
   "execution_count": 2,
   "metadata": {},
   "outputs": [],
   "source": [
    "username='maingoc.dinh'\n",
    "password='Maingoc01'\n",
    "server = 'GA-9RC9BS2\\SQLEXPRESS'\n",
    "db='TVT_04_2020'\n",
    "db_Giro='IS_Giro_04_2020'\n",
    "db_GW='IS_IBanking_04_2020'\n",
    "\n",
    "m=4\n",
    "range_day=range(20,27,1) #chọn dài hơn 1 ngày\n",
    "#range_day_GW=range(1,9,1) #chọn đúng kỳ với cuối tháng?\n",
    "TVT_day='20_26'\n"
   ]
  },
  {
   "cell_type": "code",
   "execution_count": 3,
   "metadata": {},
   "outputs": [],
   "source": [
    "# sql server 2017\n",
    "conn_str = ('Driver={SQL Server};'\n",
    "                'Server='+ server+';'\n",
    "                'Database='+db+';'\n",
    "                'UID='+username+';'\n",
    "                'PWD='+password+';')\n",
    "\n",
    "connection = pyodbc.connect(conn_str)\n",
    "data=[]\n",
    "for d in range_day:\n",
    "    sql_statement = \"\"\"SELECT * FROM [{2}].[dbo].[TVT_2020-{0:0>2d}-{1:0>2d}-2020-{0:0>2d}-{1:0>2d}]\"\"\".format(m,d,db)\n",
    "    sql_data = pd.read_sql(sql_statement, connection)\n",
    "    data.append(sql_data)"
   ]
  },
  {
   "cell_type": "code",
   "execution_count": 4,
   "metadata": {},
   "outputs": [],
   "source": [
    "# data=[]\n",
    "# for d in range_day:\n",
    "#     a = pd.read_excel(r'R:\\1. DATABASE\\1. Bank\\2020\\Bank 2002\\TVT\\Transaction detail (TVT) (2020-{0:0>2d}-{1:0>2d}-2020-{0:0>2d}-{1:0>2d}).xlsx'.format(m,d), sheet_name='Sheet1',header=0)\n",
    "#     data.append(a)"
   ]
  },
  {
   "cell_type": "code",
   "execution_count": 5,
   "metadata": {},
   "outputs": [],
   "source": [
    "TVT = pd.concat(data)"
   ]
  },
  {
   "cell_type": "code",
   "execution_count": 6,
   "metadata": {},
   "outputs": [],
   "source": [
    "conn_str_Giro = ('Driver={SQL Server};'\n",
    "                'Server='+ server+';'\n",
    "                'Database='+db_Giro+';'\n",
    "                'UID='+username+';'\n",
    "                'PWD='+password+';')\n",
    "\n",
    "connection = pyodbc.connect(conn_str_Giro)\n",
    "\n",
    "IS_GIRO=[]\n",
    "for d in range_day:\n",
    "    sql_statement = \"\"\"SELECT * FROM [{2}].[dbo].[Giro_2020{0:0>2d}{1:0>2d}_2020{0:0>2d}{1:0>2d}]\"\"\".format(m,d,db_Giro)\n",
    "    sql_data = pd.read_sql(sql_statement, connection)\n",
    "    IS_GIRO.append(sql_data)"
   ]
  },
  {
   "cell_type": "code",
   "execution_count": 7,
   "metadata": {},
   "outputs": [],
   "source": [
    "# IS_GIRO=[]\n",
    "# for d in range_day:\n",
    "#     a = pd.read_csv(r'R:\\1. DATABASE\\1. Bank\\2020\\Bank 2002\\Cuong Data\\Giro 02_2020\\bank_giro_transaction_query_2020{0:0>2d}{1:0>2d}_2020{0:0>2d}{1:0>2d}.csv'.format(m,d),header=0)\n",
    "#     IS_GIRO.append(a)"
   ]
  },
  {
   "cell_type": "code",
   "execution_count": 8,
   "metadata": {},
   "outputs": [],
   "source": [
    "IS_GIRO = pd.concat(IS_GIRO)"
   ]
  },
  {
   "cell_type": "code",
   "execution_count": 9,
   "metadata": {},
   "outputs": [
    {
     "output_type": "stream",
     "name": "stdout",
     "text": "20\n21\n22\n23\n24\n25\n26\n"
    }
   ],
   "source": [
    "conn_str_GW = ('Driver={SQL Server};'\n",
    "                'Server='+ server+';'\n",
    "                'Database='+db_GW+';'\n",
    "                'UID='+username+';'\n",
    "                'PWD='+password+';')\n",
    "\n",
    "connection_GW = pyodbc.connect(conn_str_GW)\n",
    "\n",
    "IS_GW=[]\n",
    "for d in range_day:\n",
    "    day_IB1 = dt.date(2020,m,d)\n",
    "    day_IB2 = day_IB1 + dt.timedelta(1)\n",
    "    m2 = day_IB2.month\n",
    "    d2 = day_IB2.day \n",
    "    \n",
    "    sql_statement = \"\"\"SELECT * FROM [{4}].[dbo].[ibanking_2020{0:0>2d}{1:0>2d}_2020{2:0>2d}{3:0>2d}]\"\"\".format(m,d,m2,d2,db_GW)\n",
    "    sql_data = pd.read_sql(sql_statement, connection_GW)\n",
    "    IS_GW.append(sql_data)\n",
    "    print(d)"
   ]
  },
  {
   "cell_type": "code",
   "execution_count": 10,
   "metadata": {},
   "outputs": [],
   "source": [
    "# IS_GW=[]\n",
    "# for d in range_day_GW:\n",
    "#     day_IB1 = dt.date(2020,m,d)\n",
    "#     day_IB2 = day_IB1 + dt.timedelta(1)\n",
    "#     m2 = day_IB2.month\n",
    "#     d2 = day_IB2.day \n",
    "#     a = pd.read_csv(r'R:\\1. DATABASE\\1. Bank\\2020\\Bank 2002\\Cuong Data\\IBanking 02_2020\\ibanking_2020{0:0>2d}{1:0>2d}_2020{2:0>2d}{3:0>2d}.csv'.format(m,d,m2,d2,db_GW),header=0,dtype={'System Ref':str})\n",
    "#     IS_GW.append(a)"
   ]
  },
  {
   "cell_type": "code",
   "execution_count": 11,
   "metadata": {},
   "outputs": [],
   "source": [
    "IS_GW = pd.concat(IS_GW)"
   ]
  },
  {
   "cell_type": "code",
   "execution_count": 12,
   "metadata": {},
   "outputs": [],
   "source": [
    "TVT_draft=TVT[(~TVT['TopUp'].str.contains('Cash'))&(~TVT['TopUp'].str.contains('QR'))&(~TVT['TopUp'].str.contains('Credit Card'))&(~TVT['TopUp'].str.contains('Gift'))&(~TVT['TopUp'].str.contains('Virtual Card'))&(~TVT['TopUp'].str.contains('AirPay Counter'))|TVT['PaymentInfo'].isin(['Cash Withdrawal'])]"
   ]
  },
  {
   "cell_type": "code",
   "execution_count": 13,
   "metadata": {},
   "outputs": [],
   "source": [
    "TVT_info=TVT_draft[(~TVT_draft['TopUp'].str.contains('Shopee Wallet Topup'))|TVT_draft['Promotion'].isin(['Nạp tiền tại Shopee'])]"
   ]
  },
  {
   "cell_type": "code",
   "execution_count": 14,
   "metadata": {},
   "outputs": [],
   "source": [
    "def Type(TopUp,PaymentInfo):\n",
    "    if 'Cash Withdrawal' in PaymentInfo:\n",
    "        i = 'withdraw'\n",
    "    elif 'Shopee Wallet Topup' in TopUp:\n",
    "        i='APA Shopee GW'\n",
    "    elif 'Cash via iBanking' in PaymentInfo:\n",
    "        i='GW'\n",
    "    elif 'Cash via Direct Bank Channel Top-up' in PaymentInfo:\n",
    "        i='API'\n",
    "    elif 'Cash via Direct Debit' in PaymentInfo or 'Cash via Partner Top-up' in PaymentInfo:\n",
    "        i='Payment'\n",
    "    elif 'Cash Transfer' in PaymentInfo or 'Now Transfer' in PaymentInfo or 'Collection QR' in PaymentInfo:\n",
    "        i='Transfer'\n",
    "    else:\n",
    "        i='Shopping'\n",
    "    return(i)\n",
    "        "
   ]
  },
  {
   "cell_type": "code",
   "execution_count": 15,
   "metadata": {},
   "outputs": [],
   "source": [
    "TVT_info['Type']=TVT_info.apply(lambda row:Type(row['TopUp'],row['PaymentInfo']),axis=1)"
   ]
  },
  {
   "cell_type": "code",
   "execution_count": 16,
   "metadata": {},
   "outputs": [],
   "source": [
    "# TVT_info['OrderID']=TVT_info['OrderID'].astype(int)"
   ]
  },
  {
   "cell_type": "code",
   "execution_count": 17,
   "metadata": {},
   "outputs": [],
   "source": [
    "# merge TVT_info và Giro để lấy Bank name: và Ref Giro\n",
    "TVT_info=pd.merge(TVT_info,IS_GIRO,how='left',left_on='OrderID',right_on='Caller Reference')"
   ]
  },
  {
   "cell_type": "code",
   "execution_count": 18,
   "metadata": {},
   "outputs": [],
   "source": [
    "TVT_info=TVT_info[['OrderID','TopUp','Status','Subtotal','Promotion','Amount_x','CreateTime','PaymentInfo','Product Code','Cash Payable','Channel Payable','UpdateTime','TopUp Ref','Merchant Ref','Topup ValidTime','Buyer Phone','User ID','Payment ValidTime','Ref1','Ref2','Partner Reference IBanking','Type','Bank Name','IS Transaction ID','Bank Transaction ID','Transaction status']]"
   ]
  },
  {
   "cell_type": "code",
   "execution_count": 19,
   "metadata": {},
   "outputs": [],
   "source": [
    "# merge TVT_info và GW để lấy Bank name và Ref GW\n",
    "TVT_info=pd.merge(TVT_info,IS_GW,how='left',left_on='OrderID',right_on='Partner Ref')"
   ]
  },
  {
   "cell_type": "code",
   "execution_count": 20,
   "metadata": {},
   "outputs": [],
   "source": [
    "TVT_info=TVT_info[['OrderID','TopUp','Status_x','Subtotal','Promotion','Amount_x','CreateTime','PaymentInfo','Product Code','Cash Payable','Channel Payable','UpdateTime','TopUp Ref','Merchant Ref','Topup ValidTime','Buyer Phone','User ID','Payment ValidTime','Ref1','Ref2','Partner Reference IBanking','Type','Bank Name','IS Transaction ID','Bank Transaction ID','Transaction status','Gateway','System Ref','Gateway Ref','Status_y']]"
   ]
  },
  {
   "cell_type": "code",
   "execution_count": 21,
   "metadata": {},
   "outputs": [],
   "source": [
    "TVT_info['Bank_API']=TVT_info['TopUp'].apply(lambda x: x[:len(x)-15:])"
   ]
  },
  {
   "cell_type": "code",
   "execution_count": 22,
   "metadata": {},
   "outputs": [],
   "source": [
    "IS_GW['Partner Ref']=IS_GW['Partner Ref'].astype(str)"
   ]
  },
  {
   "cell_type": "code",
   "execution_count": 23,
   "metadata": {},
   "outputs": [],
   "source": [
    "TVT_info=pd.merge(TVT_info,IS_GW,how='left',left_on='Partner Reference IBanking',right_on='Partner Ref')"
   ]
  },
  {
   "cell_type": "code",
   "execution_count": 24,
   "metadata": {},
   "outputs": [],
   "source": [
    "TVT_info=TVT_info[['OrderID','TopUp','Status_x','Subtotal','Promotion','Amount_x','CreateTime','PaymentInfo','Product Code','Cash Payable','Channel Payable','UpdateTime','TopUp Ref','Merchant Ref','Topup ValidTime','Buyer Phone','User ID','Payment ValidTime','Ref1','Ref2','Partner Reference IBanking','Type','Bank Name','Transaction status','Bank_API','IS Transaction ID','Bank Transaction ID','Gateway_x','System Ref_x','Gateway Ref_x','Status_y','Gateway_y','System Ref_y','Status']]"
   ]
  },
  {
   "cell_type": "code",
   "execution_count": 25,
   "metadata": {},
   "outputs": [],
   "source": [
    "def Bank(Type,BankName,BankAPI,GatewayX,GatewayY):\n",
    "    if 'API' in Type:\n",
    "        r=BankAPI\n",
    "    elif Type in ['withdraw','Shopping','Payment','Transfer']:\n",
    "        r=BankName\n",
    "    elif Type =='GW':\n",
    "        r=GatewayX\n",
    "    elif 'APA Shopee GW' in Type:\n",
    "        r=GatewayY\n",
    "    else:\n",
    "        r=''\n",
    "    return(r)\n",
    "    "
   ]
  },
  {
   "cell_type": "code",
   "execution_count": 26,
   "metadata": {},
   "outputs": [],
   "source": [
    "TVT_info['Bank']=TVT_info.apply(lambda row:Bank(row['Type'],row['Bank Name'],row['Bank_API'],row['Gateway_x'],row['Gateway_y']),axis=1)"
   ]
  },
  {
   "cell_type": "code",
   "execution_count": 27,
   "metadata": {},
   "outputs": [],
   "source": [
    "def RefCheck(TopUpRef,Type,BankName,ISTnxID,BankTnxID,SRefX,SRefY):\n",
    "    if 'API' in Type:\n",
    "        m=TopUpRef\n",
    "    elif Type in ['withdraw','Shopping','Payment','Transfer'] and BankName=='Vietcombank':\n",
    "    #elif (('withdraw' in Type) or ('Shopping' in Type) or ('Payment' in Type) or ('Transfer' in Type)) and ('Vietcombank' in BankName):\n",
    "        m=BankTnxID\n",
    "    elif Type in ['withdraw','Shopping','Payment','Transfer']:\n",
    "        m=ISTnxID\n",
    "    elif Type =='GW':\n",
    "        m=SRefX\n",
    "    else:\n",
    "        m=SRefY\n",
    "    return(m)"
   ]
  },
  {
   "cell_type": "code",
   "execution_count": 28,
   "metadata": {},
   "outputs": [],
   "source": [
    "TVT_info['Ref_Check']=TVT_info.apply(lambda row:RefCheck(row['TopUp Ref'],row['Type'],row['Bank Name'],row['IS Transaction ID'],row['Bank Transaction ID'],row['System Ref_x'],row['System Ref_y']),axis=1)"
   ]
  },
  {
   "cell_type": "code",
   "execution_count": 29,
   "metadata": {},
   "outputs": [],
   "source": [
    "def IS_Status(STT1,STT2,STT3):\n",
    "    if STT1!=None:\n",
    "        i=STT1\n",
    "    elif STT2!=None:\n",
    "        i=STT2\n",
    "    else:\n",
    "        i=STT3\n",
    "    return(i)"
   ]
  },
  {
   "cell_type": "code",
   "execution_count": 30,
   "metadata": {},
   "outputs": [],
   "source": [
    "TVT_info['IS_Status']=TVT_info.apply(lambda row: IS_Status(row['Transaction status'],row['Status_y'],row['Status']),axis=1)"
   ]
  },
  {
   "cell_type": "code",
   "execution_count": 31,
   "metadata": {},
   "outputs": [],
   "source": [
    "TVT_info=TVT_info[['OrderID','TopUp','Status_x','Subtotal','Promotion','Amount_x','CreateTime','PaymentInfo','Product Code','Cash Payable','Channel Payable','UpdateTime','TopUp Ref','Merchant Ref','Topup ValidTime','Buyer Phone','User ID','Payment ValidTime','Ref1','Ref2','Partner Reference IBanking','Type','Bank','Ref_Check','IS_Status']]"
   ]
  },
  {
   "cell_type": "code",
   "execution_count": 32,
   "metadata": {},
   "outputs": [],
   "source": [
    "#Lọc file đối soát\n",
    "VCB_API= TVT_info[TVT_info['Bank'].isin(['VCB','Vietcombank']) & TVT_info['Status_x'].isin(['Success']) & TVT_info['Type'].isin(['API'])]\n",
    "VCB_API=VCB_API[['TopUp','Ref_Check','OrderID','Topup ValidTime','Buyer Phone','Amount_x']]"
   ]
  },
  {
   "cell_type": "code",
   "execution_count": 33,
   "metadata": {},
   "outputs": [
    {
     "output_type": "execute_result",
     "data": {
      "text/plain": "                  TopUp                     Ref_Check    OrderID  \\\n25   VCB (Bank Channel)  2020042016398515006800000013  212753996   \n78   VCB (Bank Channel)  2020042016400515006800000030  212754105   \n80   VCB (Bank Channel)  2020042070217531806800235929  212754113   \n132  VCB (Bank Channel)  2020042016401515006800000050  212754209   \n192  VCB (Bank Channel)  2020042016402515006800000110  212754321   \n\n        Topup ValidTime  Buyer Phone  Amount_x  \n25  2020-04-20 00:00:15  84896501211    200000  \n78  2020-04-20 00:00:32  84776245546    200000  \n80  2020-04-20 00:00:34  84984649876     80000  \n132 2020-04-20 00:00:52  84799095553    200000  \n192 2020-04-20 00:01:12  84705449529    190000  ",
      "text/html": "<div>\n<style scoped>\n    .dataframe tbody tr th:only-of-type {\n        vertical-align: middle;\n    }\n\n    .dataframe tbody tr th {\n        vertical-align: top;\n    }\n\n    .dataframe thead th {\n        text-align: right;\n    }\n</style>\n<table border=\"1\" class=\"dataframe\">\n  <thead>\n    <tr style=\"text-align: right;\">\n      <th></th>\n      <th>TopUp</th>\n      <th>Ref_Check</th>\n      <th>OrderID</th>\n      <th>Topup ValidTime</th>\n      <th>Buyer Phone</th>\n      <th>Amount_x</th>\n    </tr>\n  </thead>\n  <tbody>\n    <tr>\n      <th>25</th>\n      <td>VCB (Bank Channel)</td>\n      <td>2020042016398515006800000013</td>\n      <td>212753996</td>\n      <td>2020-04-20 00:00:15</td>\n      <td>84896501211</td>\n      <td>200000</td>\n    </tr>\n    <tr>\n      <th>78</th>\n      <td>VCB (Bank Channel)</td>\n      <td>2020042016400515006800000030</td>\n      <td>212754105</td>\n      <td>2020-04-20 00:00:32</td>\n      <td>84776245546</td>\n      <td>200000</td>\n    </tr>\n    <tr>\n      <th>80</th>\n      <td>VCB (Bank Channel)</td>\n      <td>2020042070217531806800235929</td>\n      <td>212754113</td>\n      <td>2020-04-20 00:00:34</td>\n      <td>84984649876</td>\n      <td>80000</td>\n    </tr>\n    <tr>\n      <th>132</th>\n      <td>VCB (Bank Channel)</td>\n      <td>2020042016401515006800000050</td>\n      <td>212754209</td>\n      <td>2020-04-20 00:00:52</td>\n      <td>84799095553</td>\n      <td>200000</td>\n    </tr>\n    <tr>\n      <th>192</th>\n      <td>VCB (Bank Channel)</td>\n      <td>2020042016402515006800000110</td>\n      <td>212754321</td>\n      <td>2020-04-20 00:01:12</td>\n      <td>84705449529</td>\n      <td>190000</td>\n    </tr>\n  </tbody>\n</table>\n</div>"
     },
     "metadata": {},
     "execution_count": 33
    }
   ],
   "source": [
    "VCB_API.head()"
   ]
  },
  {
   "cell_type": "code",
   "execution_count": 34,
   "metadata": {},
   "outputs": [],
   "source": [
    "VCB_Giro=TVT_info[TVT_info['Bank'].isin(['VCB','Vietcombank']) & TVT_info['Type'].isin(['Shopping','Transfer','Payment'])]\n",
    "VCB_Giro=VCB_Giro[['TopUp Ref','TopUp','OrderID','Topup ValidTime','Buyer Phone','Type','Status_x','Ref_Check','Channel Payable']]"
   ]
  },
  {
   "cell_type": "code",
   "execution_count": 35,
   "metadata": {},
   "outputs": [
    {
     "output_type": "execute_result",
     "data": {
      "text/plain": "               TopUp Ref        TopUp     OrderID     Topup ValidTime  \\\n21  vcb_b2w_200420000002  Vietcombank   212753983 2020-04-20 00:00:14   \n22  vcb_b2w_200420000001  Vietcombank  1029381781 2020-04-20 00:00:13   \n31  vcb_b2w_200420000005  Vietcombank   212754009 2020-04-20 00:00:18   \n32  vcb_b2w_200420000006  Vietcombank   212754010 2020-04-20 00:00:18   \n34  vcb_b2w_200420000007  Vietcombank   212754015 2020-04-20 00:00:20   \n\n    Buyer Phone      Type Status_x         Ref_Check  Channel Payable  \n21  84973649470  Shopping  Success  EW20042022792711           528750  \n22  84977965253  Transfer  Success  EW20042022792710           450000  \n31  84938155891  Shopping  Success  EW20042022792723           150000  \n32  84702088882  Shopping  Success  EW20042022792725           514591  \n34  84962326240  Shopping  Success  EW20042022792727           149000  ",
      "text/html": "<div>\n<style scoped>\n    .dataframe tbody tr th:only-of-type {\n        vertical-align: middle;\n    }\n\n    .dataframe tbody tr th {\n        vertical-align: top;\n    }\n\n    .dataframe thead th {\n        text-align: right;\n    }\n</style>\n<table border=\"1\" class=\"dataframe\">\n  <thead>\n    <tr style=\"text-align: right;\">\n      <th></th>\n      <th>TopUp Ref</th>\n      <th>TopUp</th>\n      <th>OrderID</th>\n      <th>Topup ValidTime</th>\n      <th>Buyer Phone</th>\n      <th>Type</th>\n      <th>Status_x</th>\n      <th>Ref_Check</th>\n      <th>Channel Payable</th>\n    </tr>\n  </thead>\n  <tbody>\n    <tr>\n      <th>21</th>\n      <td>vcb_b2w_200420000002</td>\n      <td>Vietcombank</td>\n      <td>212753983</td>\n      <td>2020-04-20 00:00:14</td>\n      <td>84973649470</td>\n      <td>Shopping</td>\n      <td>Success</td>\n      <td>EW20042022792711</td>\n      <td>528750</td>\n    </tr>\n    <tr>\n      <th>22</th>\n      <td>vcb_b2w_200420000001</td>\n      <td>Vietcombank</td>\n      <td>1029381781</td>\n      <td>2020-04-20 00:00:13</td>\n      <td>84977965253</td>\n      <td>Transfer</td>\n      <td>Success</td>\n      <td>EW20042022792710</td>\n      <td>450000</td>\n    </tr>\n    <tr>\n      <th>31</th>\n      <td>vcb_b2w_200420000005</td>\n      <td>Vietcombank</td>\n      <td>212754009</td>\n      <td>2020-04-20 00:00:18</td>\n      <td>84938155891</td>\n      <td>Shopping</td>\n      <td>Success</td>\n      <td>EW20042022792723</td>\n      <td>150000</td>\n    </tr>\n    <tr>\n      <th>32</th>\n      <td>vcb_b2w_200420000006</td>\n      <td>Vietcombank</td>\n      <td>212754010</td>\n      <td>2020-04-20 00:00:18</td>\n      <td>84702088882</td>\n      <td>Shopping</td>\n      <td>Success</td>\n      <td>EW20042022792725</td>\n      <td>514591</td>\n    </tr>\n    <tr>\n      <th>34</th>\n      <td>vcb_b2w_200420000007</td>\n      <td>Vietcombank</td>\n      <td>212754015</td>\n      <td>2020-04-20 00:00:20</td>\n      <td>84962326240</td>\n      <td>Shopping</td>\n      <td>Success</td>\n      <td>EW20042022792727</td>\n      <td>149000</td>\n    </tr>\n  </tbody>\n</table>\n</div>"
     },
     "metadata": {},
     "execution_count": 35
    }
   ],
   "source": [
    "VCB_Giro.head()"
   ]
  },
  {
   "cell_type": "code",
   "execution_count": 36,
   "metadata": {},
   "outputs": [],
   "source": [
    "VCB_GW=TVT_info[TVT_info['Bank'].isin(['VCB','Vietcombank']) & TVT_info['Status_x'].isin(['Success']) & TVT_info['Type'].isin(['GW','APA Shopee GW'])]\n",
    "VCB_GW=VCB_GW[['Bank','OrderID','Topup ValidTime','Buyer Phone','Ref_Check','Amount_x']]"
   ]
  },
  {
   "cell_type": "code",
   "execution_count": 37,
   "metadata": {},
   "outputs": [
    {
     "output_type": "execute_result",
     "data": {
      "text/plain": "     Bank     OrderID     Topup ValidTime  Buyer Phone           Ref_Check  \\\n1639  VCB  1028669429 2020-04-20 00:19:55  84936468046  200420002100000027   \n2694  VCB  1029981512 2020-04-20 00:35:19  84974410266  200420002100000056   \n3249  VCB   212760801 2020-04-20 00:43:26  84962641535  200420003100000186   \n3518  VCB   212761303 2020-04-20 00:49:31  84794756466  200420003100000210   \n3643  VCB   212761556 2020-04-20 00:53:01  84906319593  200420003100000225   \n\n      Amount_x  \n1639   1800000  \n2694   1300000  \n3249    300000  \n3518    150000  \n3643    200000  ",
      "text/html": "<div>\n<style scoped>\n    .dataframe tbody tr th:only-of-type {\n        vertical-align: middle;\n    }\n\n    .dataframe tbody tr th {\n        vertical-align: top;\n    }\n\n    .dataframe thead th {\n        text-align: right;\n    }\n</style>\n<table border=\"1\" class=\"dataframe\">\n  <thead>\n    <tr style=\"text-align: right;\">\n      <th></th>\n      <th>Bank</th>\n      <th>OrderID</th>\n      <th>Topup ValidTime</th>\n      <th>Buyer Phone</th>\n      <th>Ref_Check</th>\n      <th>Amount_x</th>\n    </tr>\n  </thead>\n  <tbody>\n    <tr>\n      <th>1639</th>\n      <td>VCB</td>\n      <td>1028669429</td>\n      <td>2020-04-20 00:19:55</td>\n      <td>84936468046</td>\n      <td>200420002100000027</td>\n      <td>1800000</td>\n    </tr>\n    <tr>\n      <th>2694</th>\n      <td>VCB</td>\n      <td>1029981512</td>\n      <td>2020-04-20 00:35:19</td>\n      <td>84974410266</td>\n      <td>200420002100000056</td>\n      <td>1300000</td>\n    </tr>\n    <tr>\n      <th>3249</th>\n      <td>VCB</td>\n      <td>212760801</td>\n      <td>2020-04-20 00:43:26</td>\n      <td>84962641535</td>\n      <td>200420003100000186</td>\n      <td>300000</td>\n    </tr>\n    <tr>\n      <th>3518</th>\n      <td>VCB</td>\n      <td>212761303</td>\n      <td>2020-04-20 00:49:31</td>\n      <td>84794756466</td>\n      <td>200420003100000210</td>\n      <td>150000</td>\n    </tr>\n    <tr>\n      <th>3643</th>\n      <td>VCB</td>\n      <td>212761556</td>\n      <td>2020-04-20 00:53:01</td>\n      <td>84906319593</td>\n      <td>200420003100000225</td>\n      <td>200000</td>\n    </tr>\n  </tbody>\n</table>\n</div>"
     },
     "metadata": {},
     "execution_count": 37
    }
   ],
   "source": [
    "VCB_GW.head()"
   ]
  },
  {
   "cell_type": "code",
   "execution_count": 38,
   "metadata": {},
   "outputs": [],
   "source": [
    "VCB_WD=TVT_info[TVT_info['Bank'].isin(['VCB','Vietcombank']) & TVT_info['Status_x'].isin(['Success']) & TVT_info['Type'].isin(['withdraw'])]\n",
    "VCB_WD=VCB_WD[['Bank','TopUp Ref','OrderID','Topup ValidTime','Buyer Phone','Ref_Check','Subtotal']]"
   ]
  },
  {
   "cell_type": "code",
   "execution_count": 39,
   "metadata": {},
   "outputs": [],
   "source": [
    "BIDV_API= TVT_info[TVT_info['Bank'].isin(['BIDV']) & TVT_info['Status_x'].isin(['Success']) & TVT_info['Type'].isin(['API'])]\n",
    "BIDV_API=BIDV_API[['TopUp','Ref_Check','OrderID','Topup ValidTime','Buyer Phone','Amount_x']]"
   ]
  },
  {
   "cell_type": "code",
   "execution_count": 40,
   "metadata": {},
   "outputs": [],
   "source": [
    "BIDV_Giro=TVT_info[TVT_info['Bank'].isin(['BIDV']) & TVT_info['Type'].isin(['Shopping','Transfer','Payment'])]\n",
    "BIDV_Giro=BIDV_Giro[['TopUp Ref','TopUp','OrderID','Topup ValidTime','Buyer Phone','Type','Status_x','Ref_Check','Channel Payable']]"
   ]
  },
  {
   "cell_type": "code",
   "execution_count": 41,
   "metadata": {},
   "outputs": [],
   "source": [
    "BIDV_WD=TVT_info[TVT_info['Bank'].isin(['BIDV']) & TVT_info['Status_x'].isin(['Success']) & TVT_info['Type'].isin(['withdraw'])]\n",
    "BIDV_WD=BIDV_WD[['Bank','TopUp Ref','OrderID','Topup ValidTime','Buyer Phone','Ref_Check','Subtotal']]"
   ]
  },
  {
   "cell_type": "code",
   "execution_count": 42,
   "metadata": {},
   "outputs": [],
   "source": [
    "BIDV_GW=TVT_info[TVT_info['Bank'].isin(['BIDV']) & TVT_info['Status_x'].isin(['Success']) & TVT_info['Type'].isin(['GW','APA Shopee GW'])]\n",
    "BIDV_GW=BIDV_GW[['Bank','OrderID','Topup ValidTime','Buyer Phone','Ref_Check','Amount_x']]"
   ]
  },
  {
   "cell_type": "code",
   "execution_count": 43,
   "metadata": {},
   "outputs": [],
   "source": [
    "AGR_API= TVT_info[TVT_info['Bank'].isin(['Agribank']) & TVT_info['Status_x'].isin(['Success']) & TVT_info['Type'].isin(['API'])]\n",
    "AGR_API=AGR_API[['TopUp','Ref_Check','OrderID','Topup ValidTime','Buyer Phone','Amount_x']]"
   ]
  },
  {
   "cell_type": "code",
   "execution_count": 44,
   "metadata": {},
   "outputs": [],
   "source": [
    "AGR_Giro=TVT_info[TVT_info['Bank'].isin(['Agribank']) & TVT_info['Type'].isin(['Shopping','Transfer','Payment'])]\n",
    "AGR_Giro=AGR_Giro[['TopUp Ref','TopUp','OrderID','Topup ValidTime','Buyer Phone','Type','Status_x','Ref_Check','Channel Payable']]"
   ]
  },
  {
   "cell_type": "code",
   "execution_count": 45,
   "metadata": {},
   "outputs": [],
   "source": [
    "AGR_GW=TVT_info[TVT_info['Bank'].isin(['Agribank']) & TVT_info['Status_x'].isin(['Success']) & TVT_info['Type'].isin(['GW','APA Shopee GW'])]\n",
    "AGR_GW=AGR_GW[['Bank','OrderID','Topup ValidTime','Buyer Phone','Ref_Check','Amount_x']]"
   ]
  },
  {
   "cell_type": "code",
   "execution_count": 46,
   "metadata": {},
   "outputs": [],
   "source": [
    "AGR_WD=TVT_info[TVT_info['Bank'].isin(['Agribank']) & TVT_info['Status_x'].isin(['Success']) & TVT_info['Type'].isin(['withdraw'])]\n",
    "AGR_WD=AGR_WD[['Bank','TopUp Ref','OrderID','Topup ValidTime','Buyer Phone','Ref_Check','Subtotal']]"
   ]
  },
  {
   "cell_type": "code",
   "execution_count": 47,
   "metadata": {},
   "outputs": [],
   "source": [
    "VTB_API= TVT_info[TVT_info['Bank'].isin(['Vietinbank']) & TVT_info['Status_x'].isin(['Success']) & TVT_info['Type'].isin(['API'])]\n",
    "VTB_API=VTB_API[['TopUp','Ref_Check','OrderID','Topup ValidTime','Buyer Phone','Amount_x']]"
   ]
  },
  {
   "cell_type": "code",
   "execution_count": 48,
   "metadata": {},
   "outputs": [],
   "source": [
    "VTB_Giro=TVT_info[TVT_info['Bank'].isin(['Vietinbank']) & TVT_info['Type'].isin(['Shopping','Transfer','Payment'])]\n",
    "VTB_Giro=VTB_Giro[['TopUp Ref','TopUp','OrderID','Topup ValidTime','Buyer Phone','Type','Status_x','Ref_Check','Channel Payable']]"
   ]
  },
  {
   "cell_type": "code",
   "execution_count": 49,
   "metadata": {},
   "outputs": [],
   "source": [
    "VTB_GW=TVT_info[TVT_info['Bank'].isin(['Vietinbank']) & TVT_info['Status_x'].isin(['Success']) & TVT_info['Type'].isin(['GW','APA Shopee GW'])]\n",
    "VTB_GW=VTB_GW[['Bank','OrderID','Topup ValidTime','Buyer Phone','Ref_Check','Amount_x']]"
   ]
  },
  {
   "cell_type": "code",
   "execution_count": 50,
   "metadata": {},
   "outputs": [],
   "source": [
    "VTB_WD=TVT_info[TVT_info['Bank'].isin(['Vietinbank']) & TVT_info['Status_x'].isin(['Success']) & TVT_info['Type'].isin(['withdraw'])]\n",
    "VTB_WD=VTB_WD[['Bank','TopUp Ref','OrderID','Topup ValidTime','Buyer Phone','Ref_Check','Subtotal']]"
   ]
  },
  {
   "cell_type": "code",
   "execution_count": 51,
   "metadata": {},
   "outputs": [],
   "source": [
    "API= TVT_info[~TVT_info['Bank'].isin(['BIDV','VCB','Vietcombank','Agribank','Vietinbank','DongABank']) & TVT_info['Status_x'].isin(['Success']) & TVT_info['Type'].isin(['API'])]\n",
    "API=API[['TopUp','Ref_Check','OrderID','Topup ValidTime','Buyer Phone','Amount_x']]"
   ]
  },
  {
   "cell_type": "code",
   "execution_count": 52,
   "metadata": {},
   "outputs": [],
   "source": [
    "Giro=TVT_info[~TVT_info['Bank'].isin(['BIDV','VCB','Vietcombank','Agribank','Vietinbank','Sacombank']) & TVT_info['Type'].isin(['Shopping','Transfer','Payment'])]\n",
    "Giro=Giro[['TopUp Ref','TopUp','OrderID','Topup ValidTime','Buyer Phone','Type','Status_x','Ref_Check','Channel Payable']]"
   ]
  },
  {
   "cell_type": "code",
   "execution_count": 53,
   "metadata": {},
   "outputs": [],
   "source": [
    "WD=TVT_info[~TVT_info['Bank'].isin(['BIDV','VCB','Vietcombank','Agribank','Vietinbank']) & TVT_info['Status_x'].isin(['Success']) & TVT_info['Type'].isin(['withdraw'])]\n",
    "WD=WD[['Bank','TopUp Ref','OrderID','Topup ValidTime','Buyer Phone','Ref_Check','Subtotal','Merchant Ref']]"
   ]
  },
  {
   "cell_type": "code",
   "execution_count": 54,
   "metadata": {},
   "outputs": [],
   "source": [
    "GW=TVT_info[~TVT_info['Bank'].isin(['BIDV','VCB','Vietcombank','VNPay','Smart Link','DongABank','Eximbank','Sacombank','ABBank']) & TVT_info['Status_x'].isin(['Success']) & TVT_info['Type'].isin(['GW','APA Shopee GW'])]\n",
    "GW=GW[['Bank','OrderID','Topup ValidTime','Buyer Phone','Ref_Check','Amount_x']]"
   ]
  },
  {
   "cell_type": "code",
   "execution_count": 55,
   "metadata": {},
   "outputs": [],
   "source": [
    "Other_DAB_API=TVT_info[TVT_info['Bank'].isin(['DongABank']) & TVT_info['Status_x'].isin(['Success']) & TVT_info['Type'].isin(['API'])]\n",
    "Other_DAB_API=Other_DAB_API[['Ref_Check','OrderID','CreateTime','Buyer Phone','Amount_x']]"
   ]
  },
  {
   "cell_type": "code",
   "execution_count": 56,
   "metadata": {},
   "outputs": [],
   "source": [
    "Other_DAB_GW=TVT_info[TVT_info['Bank'].isin(['DongABank']) & TVT_info['Status_x'].isin(['Success']) & TVT_info['Type'].isin(['GW','APA Shopee GW'])]\n",
    "Other_DAB_GW=Other_DAB_GW[['Bank','OrderID','CreateTime','Buyer Phone','Ref_Check','Subtotal']]"
   ]
  },
  {
   "cell_type": "code",
   "execution_count": 57,
   "metadata": {},
   "outputs": [],
   "source": [
    "Other_EXB_GW=TVT_info[TVT_info['Bank'].isin(['Eximbank']) & TVT_info['Status_x'].isin(['Success']) & TVT_info['Type'].isin(['GW','APA Shopee GW'])]\n",
    "Other_EXB_GW=Other_EXB_GW[['Bank','OrderID','CreateTime','Buyer Phone','Ref_Check','Subtotal']]"
   ]
  },
  {
   "cell_type": "code",
   "execution_count": 58,
   "metadata": {},
   "outputs": [],
   "source": [
    "Other_STB_GW=TVT_info[TVT_info['Bank'].isin(['Sacombank']) & TVT_info['Status_x'].isin(['Success']) & TVT_info['Type'].isin(['GW','APA Shopee GW'])]\n",
    "Other_STB_GW=Other_STB_GW[['Bank','OrderID','CreateTime','Buyer Phone','Ref_Check','Subtotal']]"
   ]
  },
  {
   "cell_type": "code",
   "execution_count": 59,
   "metadata": {},
   "outputs": [],
   "source": [
    "Other_STB_Giro=TVT_info[TVT_info['Bank'].isin(['Sacombank']) & TVT_info['Type'].isin(['Shopping','Transfer','Payment'])]\n",
    "Other_STB_Giro=Other_STB_Giro[['TopUp Ref','TopUp','OrderID','CreateTime','Buyer Phone','Type','Status_x','Ref_Check','Channel Payable']]"
   ]
  },
  {
   "cell_type": "code",
   "execution_count": 60,
   "metadata": {},
   "outputs": [],
   "source": [
    "Other_ABB_GW=TVT_info[TVT_info['Bank'].isin(['ABBank']) & TVT_info['Status_x'].isin(['Success']) & TVT_info['Type'].isin(['GW','APA Shopee GW'])]\n",
    "Other_ABB_GW=Other_ABB_GW[['Bank','OrderID','CreateTime','Buyer Phone','Ref_Check','Subtotal']]"
   ]
  },
  {
   "cell_type": "code",
   "execution_count": 61,
   "metadata": {},
   "outputs": [],
   "source": [
    "WD_autofix=TVT_info[TVT_info['Status_x'].isin(['Autofix Product','Autofix Product Need Staff']) & TVT_info['Type'].isin(['withdraw'])]"
   ]
  },
  {
   "cell_type": "code",
   "execution_count": 62,
   "metadata": {},
   "outputs": [],
   "source": [
    "TVT_Shopee_refund=TVT_draft[(TVT_draft['TopUp'].isin(['Shopee Wallet Topup'])) & ~ (TVT_draft['Promotion'].str.contains('Nạp tiền tại Shopee',na=False))]"
   ]
  },
  {
   "cell_type": "code",
   "execution_count": 63,
   "metadata": {},
   "outputs": [],
   "source": [
    "TVT['Destination Account']=TVT['Destination Account'].astype(str)"
   ]
  },
  {
   "cell_type": "code",
   "execution_count": 64,
   "metadata": {},
   "outputs": [],
   "source": [
    "## Lấy BA\n",
    "BA_Gift=TVT[TVT['TopUp'].isin(['Gift'])]\n",
    "#BA_Cash=TVT[TVT['TopUp'].isin(['Cash']) & TVT['Destination Account'].isin(['0'])]\n",
    "#BA_Cash=TVT[TVT['TopUp'].isin(['Cash']) & TVT['Destination Account'].isin(['0']) | TVT['TopUp'].isin(['Cash']) & TVT['Promotion'].str.contains('#')] \n",
    "BA_Cash=TVT[((TVT['TopUp']=='Cash') & (TVT['Destination Account']=='0.0') | (TVT['Destination Account']=='0' )|(TVT['Destination Account']==0)) | ((TVT['TopUp']=='Cash') & (TVT['Promotion'].str.contains('#')))| ((TVT['TopUp']=='Cash') & (TVT['TopUp Ref'].notnull())&(TVT['PaymentInfo']=='Cash Transfer')) ]\n",
    "BA=pd.concat([BA_Gift,BA_Cash],axis=0)"
   ]
  },
  {
   "cell_type": "code",
   "execution_count": 65,
   "metadata": {},
   "outputs": [],
   "source": [
    "## Export file\n",
    "#count_row=VCB_Giro.shape[0]\n",
    "with pd.ExcelWriter(r'R:\\1. DATABASE\\3. Admin toppay\\9. TVT Report\\{1:0>2d}.2020\\TVT {0}\\VCB.xlsx'.format(TVT_day,m)) as writer:\n",
    "    VCB_API.to_excel(writer, sheet_name='VCB_API')\n",
    "    VCB_Giro.to_excel(writer, sheet_name=\"VCB_Giro\")\n",
    "#     for i in range(0,count_row,1000000):\n",
    "#         if i+1000000>count_row:\n",
    "#             end=count_row\n",
    "#         else:\n",
    "#             end=i+1000000\n",
    "#         sub_df=VCB_Giro.iloc[i:end] \n",
    "#         sub_df.to_excel(writer, sheet_name=\"VCB_Giro +\"+str(i))\n",
    "    VCB_WD.to_excel(writer, sheet_name=\"VCB_WD\")\n",
    "    VCB_GW.to_excel(writer, sheet_name=\"VCB_GW\")"
   ]
  },
  {
   "cell_type": "code",
   "execution_count": 66,
   "metadata": {},
   "outputs": [],
   "source": [
    "with pd.ExcelWriter(r'R:\\1. DATABASE\\3. Admin toppay\\9. TVT Report\\{1:0>2d}.2020\\TVT {0}\\BIDV.xlsx'.format(TVT_day,m)) as writer:\n",
    "    BIDV_API.to_excel(writer, sheet_name='BIDV_API')\n",
    "    BIDV_Giro.to_excel(writer, sheet_name=\"BIDV_Giro\")\n",
    "    BIDV_WD.to_excel(writer, sheet_name=\"BIDV_WD\")\n",
    "    BIDV_GW.to_excel(writer, sheet_name=\"BIDV_GW\")"
   ]
  },
  {
   "cell_type": "code",
   "execution_count": 67,
   "metadata": {},
   "outputs": [],
   "source": [
    "with pd.ExcelWriter(r'R:\\1. DATABASE\\3. Admin toppay\\9. TVT Report\\{1:0>2d}.2020\\TVT {0}\\AGR.xlsx'.format(TVT_day,m)) as writer:\n",
    "    AGR_API.to_excel(writer, sheet_name='AGR_API')\n",
    "    AGR_Giro.to_excel(writer, sheet_name=\"AGR_Giro\")\n",
    "    AGR_WD.to_excel(writer, sheet_name=\"AGR_WD\")\n",
    "    AGR_GW.to_excel(writer, sheet_name=\"AGR_GW\")"
   ]
  },
  {
   "cell_type": "code",
   "execution_count": 68,
   "metadata": {},
   "outputs": [],
   "source": [
    "with pd.ExcelWriter(r'R:\\1. DATABASE\\3. Admin toppay\\9. TVT Report\\{1:0>2d}.2020\\TVT {0}\\VTB.xlsx'.format(TVT_day,m)) as writer:\n",
    "    VTB_API.to_excel(writer, sheet_name='VTB_API')\n",
    "    VTB_Giro.to_excel(writer, sheet_name=\"VTB_Giro\")\n",
    "    VTB_WD.to_excel(writer, sheet_name=\"VTB_WD\")\n",
    "    VTB_GW.to_excel(writer, sheet_name=\"VTB_GW\")"
   ]
  },
  {
   "cell_type": "code",
   "execution_count": 69,
   "metadata": {},
   "outputs": [],
   "source": [
    "with pd.ExcelWriter(r'R:\\1. DATABASE\\3. Admin toppay\\9. TVT Report\\{1:0>2d}.2020\\TVT {0}\\All Bank_exclude_Big4Bank_VNP_SML_Others.xlsx'.format(TVT_day,m)) as writer:\n",
    "    API.to_excel(writer, sheet_name='API')\n",
    "    Giro.to_excel(writer, sheet_name=\"Giro\")\n",
    "    WD.to_excel(writer, sheet_name=\"WD\")\n",
    "    GW.to_excel(writer, sheet_name=\"GW\")"
   ]
  },
  {
   "cell_type": "code",
   "execution_count": 70,
   "metadata": {},
   "outputs": [],
   "source": [
    "with pd.ExcelWriter(r'R:\\1. DATABASE\\3. Admin toppay\\9. TVT Report\\{1:0>2d}.2020\\TVT {0}\\Other.xlsx'.format(TVT_day,m)) as writer:\n",
    "    Other_DAB_API.to_excel(writer, sheet_name='DAB_API')\n",
    "    Other_DAB_GW.to_excel(writer, sheet_name=\"DAB_GW\")\n",
    "    Other_EXB_GW.to_excel(writer, sheet_name=\"EXB_GW\")\n",
    "    Other_STB_GW.to_excel(writer, sheet_name=\"STB_GW\")\n",
    "    Other_STB_Giro.to_excel(writer, sheet_name=\"STB_Giro\")\n",
    "    Other_ABB_GW.to_excel(writer, sheet_name=\"ABB_GW\")"
   ]
  },
  {
   "cell_type": "code",
   "execution_count": 71,
   "metadata": {},
   "outputs": [],
   "source": [
    "WD_autofix.to_excel(r'R:\\1. DATABASE\\3. Admin toppay\\9. TVT Report\\{1:0>2d}.2020\\TVT {0}\\WD_autofix.xlsx'.format(TVT_day,m))"
   ]
  },
  {
   "cell_type": "code",
   "execution_count": 72,
   "metadata": {},
   "outputs": [],
   "source": [
    "count_row=TVT_info.shape[0]\n",
    "with pd.ExcelWriter(r'R:\\1. DATABASE\\3. Admin toppay\\9. TVT Report\\{1:0>2d}.2020\\TVT {0}\\TVT_info_{0}.{1:0>2d}.xlsx'.format(TVT_day,m)) as writer:\n",
    "    for i in range(0,count_row,1000000):\n",
    "        if i+1000000>count_row:\n",
    "            end=count_row\n",
    "        else:\n",
    "            end=i+1000000\n",
    "        sub_df=TVT_info.iloc[i:end] \n",
    "        sub_df.to_excel(writer, sheet_name=\"Data +\"+str(i))"
   ]
  },
  {
   "cell_type": "code",
   "execution_count": 73,
   "metadata": {},
   "outputs": [],
   "source": [
    "TVT_Shopee_refund.to_excel(r'R:\\1. DATABASE\\3. Admin toppay\\9. TVT Report\\{1:0>2d}.2020\\TVT {0}\\TVT_Shopee_refund_{0}.{1:0>2d}.xlsx'.format(TVT_day,m))"
   ]
  },
  {
   "cell_type": "code",
   "execution_count": 74,
   "metadata": {},
   "outputs": [],
   "source": [
    "BA.to_excel(r'R:\\1. DATABASE\\3. Admin toppay\\9. TVT Report\\{1:0>2d}.2020\\BA_{0}T{1:0>2d}.xlsx'.format(TVT_day,m))"
   ]
  },
  {
   "cell_type": "code",
   "execution_count": null,
   "metadata": {},
   "outputs": [],
   "source": []
  }
 ],
 "metadata": {
  "kernelspec": {
   "display_name": "Python 3",
   "language": "python",
   "name": "python3"
  },
  "language_info": {
   "codemirror_mode": {
    "name": "ipython",
    "version": 3
   },
   "file_extension": ".py",
   "mimetype": "text/x-python",
   "name": "python",
   "nbconvert_exporter": "python",
   "pygments_lexer": "ipython3",
   "version": "3.7.1-final"
  }
 },
 "nbformat": 4,
 "nbformat_minor": 2
}