{
 "cells": [
  {
   "cell_type": "code",
   "execution_count": 1,
   "metadata": {},
   "outputs": [],
   "source": [
    "import numpy as np\n",
    "import pandas as pd\n",
    "# import streamlit as st\n",
    "import matplotlib.pyplot as plt\n",
    "from statsmodels.distributions.empirical_distribution import ECDF\n",
    "import seaborn as sns\n",
    "import warnings\n",
    "warnings.filterwarnings('ignore')"
   ]
  },
  {
   "cell_type": "code",
   "execution_count": 2,
   "metadata": {},
   "outputs": [],
   "source": [
    "sql = \"\"\"\n",
    "SELECT a.retailer_id\n",
    "      ,a.order_date\n",
    "      ,a.order_in_day\n",
    "      ,a.previous_order_date\n",
    "      ,a.day_diff\n",
    "      ,b.current_kship_stage_detail\n",
    "FROM `kiotvietplus.kv_shipping_dwh.vw_kship_bill_lading_facts_aggregate` a\n",
    "join `kiotvietplus-dev.Data_lead_opt_for_kship.scoring_kship_merchant_table`  b\n",
    "on a.retailer_id = b.retailer_id\n",
    "and b.run_date = '2022-12-28'\n",
    "\"\"\""
   ]
  },
  {
   "cell_type": "code",
   "execution_count": 4,
   "metadata": {},
   "outputs": [],
   "source": [
    "df_kship = pd.read_csv('./bq-results-20221229-073152-1672299149657.csv')"
   ]
  },
  {
   "cell_type": "code",
   "execution_count": 5,
   "metadata": {},
   "outputs": [
    {
     "data": {
      "text/plain": [
       "(1539733, 6)"
      ]
     },
     "execution_count": 5,
     "metadata": {},
     "output_type": "execute_result"
    }
   ],
   "source": [
    "df_kship.shape"
   ]
  },
  {
   "cell_type": "code",
   "execution_count": 6,
   "metadata": {},
   "outputs": [
    {
     "data": {
      "text/html": [
       "<div>\n",
       "<style scoped>\n",
       "    .dataframe tbody tr th:only-of-type {\n",
       "        vertical-align: middle;\n",
       "    }\n",
       "\n",
       "    .dataframe tbody tr th {\n",
       "        vertical-align: top;\n",
       "    }\n",
       "\n",
       "    .dataframe thead th {\n",
       "        text-align: right;\n",
       "    }\n",
       "</style>\n",
       "<table border=\"1\" class=\"dataframe\">\n",
       "  <thead>\n",
       "    <tr style=\"text-align: right;\">\n",
       "      <th></th>\n",
       "      <th>retailer_id</th>\n",
       "      <th>order_date</th>\n",
       "      <th>order_in_day</th>\n",
       "      <th>previous_order_date</th>\n",
       "      <th>day_diff</th>\n",
       "      <th>current_kship_stage_detail</th>\n",
       "    </tr>\n",
       "  </thead>\n",
       "  <tbody>\n",
       "    <tr>\n",
       "      <th>0</th>\n",
       "      <td>102754</td>\n",
       "      <td>2021-03-15</td>\n",
       "      <td>45</td>\n",
       "      <td>2021-03-13</td>\n",
       "      <td>2</td>\n",
       "      <td>Active</td>\n",
       "    </tr>\n",
       "    <tr>\n",
       "      <th>1</th>\n",
       "      <td>102754</td>\n",
       "      <td>2021-06-11</td>\n",
       "      <td>22</td>\n",
       "      <td>2021-06-10</td>\n",
       "      <td>1</td>\n",
       "      <td>Active</td>\n",
       "    </tr>\n",
       "    <tr>\n",
       "      <th>2</th>\n",
       "      <td>102754</td>\n",
       "      <td>2022-09-05</td>\n",
       "      <td>39</td>\n",
       "      <td>2022-09-03</td>\n",
       "      <td>2</td>\n",
       "      <td>Active</td>\n",
       "    </tr>\n",
       "    <tr>\n",
       "      <th>3</th>\n",
       "      <td>102754</td>\n",
       "      <td>2022-09-19</td>\n",
       "      <td>28</td>\n",
       "      <td>2022-09-17</td>\n",
       "      <td>2</td>\n",
       "      <td>Active</td>\n",
       "    </tr>\n",
       "    <tr>\n",
       "      <th>4</th>\n",
       "      <td>102754</td>\n",
       "      <td>2022-10-29</td>\n",
       "      <td>31</td>\n",
       "      <td>2022-10-28</td>\n",
       "      <td>1</td>\n",
       "      <td>Active</td>\n",
       "    </tr>\n",
       "  </tbody>\n",
       "</table>\n",
       "</div>"
      ],
      "text/plain": [
       "   retailer_id  order_date  order_in_day previous_order_date  day_diff  \\\n",
       "0       102754  2021-03-15            45          2021-03-13         2   \n",
       "1       102754  2021-06-11            22          2021-06-10         1   \n",
       "2       102754  2022-09-05            39          2022-09-03         2   \n",
       "3       102754  2022-09-19            28          2022-09-17         2   \n",
       "4       102754  2022-10-29            31          2022-10-28         1   \n",
       "\n",
       "  current_kship_stage_detail  \n",
       "0                     Active  \n",
       "1                     Active  \n",
       "2                     Active  \n",
       "3                     Active  \n",
       "4                     Active  "
      ]
     },
     "execution_count": 6,
     "metadata": {},
     "output_type": "execute_result"
    }
   ],
   "source": [
    "df_kship.head()"
   ]
  },
  {
   "cell_type": "code",
   "execution_count": 10,
   "metadata": {},
   "outputs": [],
   "source": [
    "df_kship = df_kship[df_kship.order_date >= '2022-01-01']"
   ]
  },
  {
   "cell_type": "code",
   "execution_count": 11,
   "metadata": {},
   "outputs": [
    {
     "data": {
      "text/plain": [
       "(762288, 6)"
      ]
     },
     "execution_count": 11,
     "metadata": {},
     "output_type": "execute_result"
    }
   ],
   "source": [
    "df_kship.shape"
   ]
  },
  {
   "cell_type": "code",
   "execution_count": 23,
   "metadata": {},
   "outputs": [],
   "source": [
    "def Calculate_BPD(df,filer_field_id,retailer_id,date_diff_calculated_field,percentile_scale=90):\n",
    "    \"\"\"\n",
    "    # Compute the BPD xxx th percentile\n",
    "    exp: df_kship['BPD_90_Percent'] = df_kship.apply(lambda x: (Calculate_BPD(df_kship,'retailer_id',x.retailer_id,'day_diff',percentile_scale=90)), axis=1)\n",
    "    \"\"\"\n",
    "    ecdf = ECDF(df[df[filer_field_id]==retailer_id][date_diff_calculated_field].dropna())\n",
    "    BPD_Days = np.percentile(ecdf.x,percentile_scale)\n",
    "    return BPD_Days\n",
    "\n",
    "\n",
    "\n",
    "def Calculate_risk_forChurn(df,filer_field_id,retailer_id,order_date_field,BPD_percent_field):\n",
    "    \"\"\"\n",
    "    # function takes customer ID and returns if at risk to churn\n",
    "    exp:\n",
    "    \"\"\"\n",
    "    Current_Date = pd.to_datetime(df[order_date_field].max())\n",
    "    retailer_last_orderdate = pd.to_datetime(df[df[filer_field_id] == retailer_id][order_date_field].max())\n",
    "    retailer_last_orderdate_from_CurrentDate = Current_Date - retailer_last_orderdate\n",
    "\n",
    "    BPD_percent = df[df[filer_field_id] == retailer_id][BPD_percent_field].head(1)\n",
    "    # BPD_percent = BPD_percent.dt.days\n",
    "    BPD_percent = pd.DataFrame(BPD_percent)\n",
    "    BPD_percent = BPD_percent[BPD_percent_field].values\n",
    "\n",
    "    if (retailer_last_orderdate_from_CurrentDate.days >= BPD_percent[0]):\n",
    "        churnrisk = 'Customer is at risk to churn'\n",
    "    else:\n",
    "         churnrisk = 'Customer is not at risk to churn'\n",
    "        # select customer id\n",
    "    return churnrisk"
   ]
  },
  {
   "cell_type": "code",
   "execution_count": 13,
   "metadata": {},
   "outputs": [],
   "source": [
    "df_kship['BPD_90_Percent'] = df_kship.apply(lambda x: (Calculate_BPD(df_kship,'retailer_id',x.retailer_id,'day_diff',percentile_scale=90)), axis=1)\n"
   ]
  },
  {
   "attachments": {},
   "cell_type": "markdown",
   "metadata": {},
   "source": [
    "Need to modify this code:\n",
    "\n",
    "1. Only run ECDF for merchant who has more than 5 or 10 day orders\n",
    "\n",
    "2. If merchant has less than 5 or 10 days order -> use rule base\n"
   ]
  },
  {
   "cell_type": "code",
   "execution_count": 14,
   "metadata": {},
   "outputs": [
    {
     "data": {
      "text/html": [
       "<div>\n",
       "<style scoped>\n",
       "    .dataframe tbody tr th:only-of-type {\n",
       "        vertical-align: middle;\n",
       "    }\n",
       "\n",
       "    .dataframe tbody tr th {\n",
       "        vertical-align: top;\n",
       "    }\n",
       "\n",
       "    .dataframe thead th {\n",
       "        text-align: right;\n",
       "    }\n",
       "</style>\n",
       "<table border=\"1\" class=\"dataframe\">\n",
       "  <thead>\n",
       "    <tr style=\"text-align: right;\">\n",
       "      <th></th>\n",
       "      <th>retailer_id</th>\n",
       "      <th>order_date</th>\n",
       "      <th>order_in_day</th>\n",
       "      <th>previous_order_date</th>\n",
       "      <th>day_diff</th>\n",
       "      <th>current_kship_stage_detail</th>\n",
       "      <th>BPD_90_Percent</th>\n",
       "    </tr>\n",
       "  </thead>\n",
       "  <tbody>\n",
       "    <tr>\n",
       "      <th>2</th>\n",
       "      <td>102754</td>\n",
       "      <td>2022-09-05</td>\n",
       "      <td>39</td>\n",
       "      <td>2022-09-03</td>\n",
       "      <td>2</td>\n",
       "      <td>Active</td>\n",
       "      <td>2.0</td>\n",
       "    </tr>\n",
       "    <tr>\n",
       "      <th>3</th>\n",
       "      <td>102754</td>\n",
       "      <td>2022-09-19</td>\n",
       "      <td>28</td>\n",
       "      <td>2022-09-17</td>\n",
       "      <td>2</td>\n",
       "      <td>Active</td>\n",
       "      <td>2.0</td>\n",
       "    </tr>\n",
       "    <tr>\n",
       "      <th>4</th>\n",
       "      <td>102754</td>\n",
       "      <td>2022-10-29</td>\n",
       "      <td>31</td>\n",
       "      <td>2022-10-28</td>\n",
       "      <td>1</td>\n",
       "      <td>Active</td>\n",
       "      <td>2.0</td>\n",
       "    </tr>\n",
       "    <tr>\n",
       "      <th>5</th>\n",
       "      <td>112946</td>\n",
       "      <td>2022-07-11</td>\n",
       "      <td>32</td>\n",
       "      <td>2022-07-10</td>\n",
       "      <td>1</td>\n",
       "      <td>Active</td>\n",
       "      <td>1.0</td>\n",
       "    </tr>\n",
       "    <tr>\n",
       "      <th>6</th>\n",
       "      <td>112946</td>\n",
       "      <td>2022-11-29</td>\n",
       "      <td>23</td>\n",
       "      <td>2022-11-28</td>\n",
       "      <td>1</td>\n",
       "      <td>Active</td>\n",
       "      <td>1.0</td>\n",
       "    </tr>\n",
       "  </tbody>\n",
       "</table>\n",
       "</div>"
      ],
      "text/plain": [
       "   retailer_id  order_date  order_in_day previous_order_date  day_diff  \\\n",
       "2       102754  2022-09-05            39          2022-09-03         2   \n",
       "3       102754  2022-09-19            28          2022-09-17         2   \n",
       "4       102754  2022-10-29            31          2022-10-28         1   \n",
       "5       112946  2022-07-11            32          2022-07-10         1   \n",
       "6       112946  2022-11-29            23          2022-11-28         1   \n",
       "\n",
       "  current_kship_stage_detail  BPD_90_Percent  \n",
       "2                     Active             2.0  \n",
       "3                     Active             2.0  \n",
       "4                     Active             2.0  \n",
       "5                     Active             1.0  \n",
       "6                     Active             1.0  "
      ]
     },
     "execution_count": 14,
     "metadata": {},
     "output_type": "execute_result"
    }
   ],
   "source": [
    "df_kship.head()"
   ]
  },
  {
   "cell_type": "code",
   "execution_count": 24,
   "metadata": {},
   "outputs": [],
   "source": [
    "## Chi can lay ngay giao dịch max cua tung KH roi moi du bao churn -> cai thien performance + dung ban chat hon\n",
    "df_kship['churnrisk'] = df_kship.apply(lambda x: (Calculate_risk_forChurn(df_kship,'retailer_id',x.retailer_id,'order_date','BPD_90_Percent')), axis=1)\n"
   ]
  },
  {
   "cell_type": "code",
   "execution_count": 25,
   "metadata": {},
   "outputs": [
    {
     "data": {
      "text/html": [
       "<div>\n",
       "<style scoped>\n",
       "    .dataframe tbody tr th:only-of-type {\n",
       "        vertical-align: middle;\n",
       "    }\n",
       "\n",
       "    .dataframe tbody tr th {\n",
       "        vertical-align: top;\n",
       "    }\n",
       "\n",
       "    .dataframe thead th {\n",
       "        text-align: right;\n",
       "    }\n",
       "</style>\n",
       "<table border=\"1\" class=\"dataframe\">\n",
       "  <thead>\n",
       "    <tr style=\"text-align: right;\">\n",
       "      <th></th>\n",
       "      <th>retailer_id</th>\n",
       "      <th>order_date</th>\n",
       "      <th>order_in_day</th>\n",
       "      <th>previous_order_date</th>\n",
       "      <th>day_diff</th>\n",
       "      <th>current_kship_stage_detail</th>\n",
       "      <th>BPD_90_Percent</th>\n",
       "      <th>churnrisk</th>\n",
       "    </tr>\n",
       "  </thead>\n",
       "  <tbody>\n",
       "    <tr>\n",
       "      <th>2</th>\n",
       "      <td>102754</td>\n",
       "      <td>2022-09-05</td>\n",
       "      <td>39</td>\n",
       "      <td>2022-09-03</td>\n",
       "      <td>2</td>\n",
       "      <td>Active</td>\n",
       "      <td>2.0</td>\n",
       "      <td>Customer is not at risk to churn</td>\n",
       "    </tr>\n",
       "    <tr>\n",
       "      <th>3</th>\n",
       "      <td>102754</td>\n",
       "      <td>2022-09-19</td>\n",
       "      <td>28</td>\n",
       "      <td>2022-09-17</td>\n",
       "      <td>2</td>\n",
       "      <td>Active</td>\n",
       "      <td>2.0</td>\n",
       "      <td>Customer is not at risk to churn</td>\n",
       "    </tr>\n",
       "    <tr>\n",
       "      <th>4</th>\n",
       "      <td>102754</td>\n",
       "      <td>2022-10-29</td>\n",
       "      <td>31</td>\n",
       "      <td>2022-10-28</td>\n",
       "      <td>1</td>\n",
       "      <td>Active</td>\n",
       "      <td>2.0</td>\n",
       "      <td>Customer is not at risk to churn</td>\n",
       "    </tr>\n",
       "    <tr>\n",
       "      <th>5</th>\n",
       "      <td>112946</td>\n",
       "      <td>2022-07-11</td>\n",
       "      <td>32</td>\n",
       "      <td>2022-07-10</td>\n",
       "      <td>1</td>\n",
       "      <td>Active</td>\n",
       "      <td>1.0</td>\n",
       "      <td>Customer is not at risk to churn</td>\n",
       "    </tr>\n",
       "    <tr>\n",
       "      <th>6</th>\n",
       "      <td>112946</td>\n",
       "      <td>2022-11-29</td>\n",
       "      <td>23</td>\n",
       "      <td>2022-11-28</td>\n",
       "      <td>1</td>\n",
       "      <td>Active</td>\n",
       "      <td>1.0</td>\n",
       "      <td>Customer is not at risk to churn</td>\n",
       "    </tr>\n",
       "  </tbody>\n",
       "</table>\n",
       "</div>"
      ],
      "text/plain": [
       "   retailer_id  order_date  order_in_day previous_order_date  day_diff  \\\n",
       "2       102754  2022-09-05            39          2022-09-03         2   \n",
       "3       102754  2022-09-19            28          2022-09-17         2   \n",
       "4       102754  2022-10-29            31          2022-10-28         1   \n",
       "5       112946  2022-07-11            32          2022-07-10         1   \n",
       "6       112946  2022-11-29            23          2022-11-28         1   \n",
       "\n",
       "  current_kship_stage_detail  BPD_90_Percent                         churnrisk  \n",
       "2                     Active             2.0  Customer is not at risk to churn  \n",
       "3                     Active             2.0  Customer is not at risk to churn  \n",
       "4                     Active             2.0  Customer is not at risk to churn  \n",
       "5                     Active             1.0  Customer is not at risk to churn  \n",
       "6                     Active             1.0  Customer is not at risk to churn  "
      ]
     },
     "execution_count": 25,
     "metadata": {},
     "output_type": "execute_result"
    }
   ],
   "source": [
    "df_kship.head()"
   ]
  },
  {
   "cell_type": "code",
   "execution_count": 26,
   "metadata": {},
   "outputs": [],
   "source": [
    "df_kship.to_csv('churn_result.csv')"
   ]
  },
  {
   "cell_type": "code",
   "execution_count": 27,
   "metadata": {},
   "outputs": [],
   "source": [
    "df_kship = df_kship.drop(columns='churnrisk',axis=1)"
   ]
  },
  {
   "cell_type": "code",
   "execution_count": 29,
   "metadata": {},
   "outputs": [],
   "source": [
    "df_kship['order_date'] = pd.to_datetime(df_kship['order_date'])"
   ]
  },
  {
   "cell_type": "code",
   "execution_count": 30,
   "metadata": {},
   "outputs": [],
   "source": [
    "df_kship_max = df_kship.loc[df_kship.groupby(['retailer_id'])['order_date'].idxmax()]"
   ]
  },
  {
   "cell_type": "code",
   "execution_count": 34,
   "metadata": {},
   "outputs": [],
   "source": [
    "df_kship_max['churnrisk'] = df_kship_max.apply(lambda x: (Calculate_risk_forChurn(df_kship_max,'retailer_id',x.retailer_id,'order_date','BPD_90_Percent')), axis=1)"
   ]
  },
  {
   "cell_type": "code",
   "execution_count": 36,
   "metadata": {},
   "outputs": [],
   "source": [
    "df_kship_max.to_excel('churn_result_2.xlsx')"
   ]
  }
 ],
 "metadata": {
  "kernelspec": {
   "display_name": "base",
   "language": "python",
   "name": "python3"
  },
  "language_info": {
   "codemirror_mode": {
    "name": "ipython",
    "version": 3
   },
   "file_extension": ".py",
   "mimetype": "text/x-python",
   "name": "python",
   "nbconvert_exporter": "python",
   "pygments_lexer": "ipython3",
   "version": "3.9.7"
  },
  "orig_nbformat": 4,
  "vscode": {
   "interpreter": {
    "hash": "974854ecb0180e8b84c4c946c0ccb3b35cbf5b69a629764860bcd88cf21f5dc4"
   }
  }
 },
 "nbformat": 4,
 "nbformat_minor": 2
}
